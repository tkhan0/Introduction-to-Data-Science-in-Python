{
 "cells": [
  {
   "cell_type": "markdown",
   "id": "b2e16433",
   "metadata": {},
   "source": [
    "# The Python Programming Language : Functions"
   ]
  },
  {
   "cell_type": "code",
   "execution_count": 51,
   "id": "b0668b17",
   "metadata": {},
   "outputs": [
    {
     "data": {
      "text/plain": [
       "3"
      ]
     },
     "execution_count": 51,
     "metadata": {},
     "output_type": "execute_result"
    }
   ],
   "source": [
    "x = 1\n",
    "y = 2\n",
    "x+y"
   ]
  },
  {
   "cell_type": "code",
   "execution_count": 52,
   "id": "1eaecde7",
   "metadata": {},
   "outputs": [
    {
     "data": {
      "text/plain": [
       "1"
      ]
     },
     "execution_count": 52,
     "metadata": {},
     "output_type": "execute_result"
    }
   ],
   "source": [
    "x"
   ]
  },
  {
   "cell_type": "code",
   "execution_count": 53,
   "id": "f828976b",
   "metadata": {},
   "outputs": [
    {
     "data": {
      "text/plain": [
       "3"
      ]
     },
     "execution_count": 53,
     "metadata": {},
     "output_type": "execute_result"
    }
   ],
   "source": [
    "def add_numbers(x,y):\n",
    "    return x+y\n",
    "add_numbers(1,2)"
   ]
  },
  {
   "cell_type": "code",
   "execution_count": 54,
   "id": "cba5d5b2",
   "metadata": {},
   "outputs": [
    {
     "name": "stdout",
     "output_type": "stream",
     "text": [
      "3\n",
      "6\n"
     ]
    }
   ],
   "source": [
    "def add_numbers(x,y,z=None):\n",
    "    if(z==None):\n",
    "        return x+y\n",
    "    else:\n",
    "        return x+y+z\n",
    "print(add_numbers(1,2))\n",
    "print(add_numbers(1,2,3))"
   ]
  },
  {
   "cell_type": "markdown",
   "id": "998cf877",
   "metadata": {},
   "source": [
    "# The Python Programming Language :Python types and Sequence"
   ]
  },
  {
   "cell_type": "code",
   "execution_count": 55,
   "id": "d108b5bb",
   "metadata": {},
   "outputs": [
    {
     "data": {
      "text/plain": [
       "str"
      ]
     },
     "execution_count": 55,
     "metadata": {},
     "output_type": "execute_result"
    }
   ],
   "source": [
    "type('this is a string')"
   ]
  },
  {
   "cell_type": "code",
   "execution_count": 56,
   "id": "43a61ca9",
   "metadata": {},
   "outputs": [
    {
     "data": {
      "text/plain": [
       "NoneType"
      ]
     },
     "execution_count": 56,
     "metadata": {},
     "output_type": "execute_result"
    }
   ],
   "source": [
    "type(None)"
   ]
  },
  {
   "cell_type": "code",
   "execution_count": 57,
   "id": "a10268bd",
   "metadata": {},
   "outputs": [
    {
     "data": {
      "text/plain": [
       "float"
      ]
     },
     "execution_count": 57,
     "metadata": {},
     "output_type": "execute_result"
    }
   ],
   "source": [
    "type(1.0)"
   ]
  },
  {
   "cell_type": "code",
   "execution_count": 58,
   "id": "a90da622",
   "metadata": {},
   "outputs": [
    {
     "data": {
      "text/plain": [
       "int"
      ]
     },
     "execution_count": 58,
     "metadata": {},
     "output_type": "execute_result"
    }
   ],
   "source": [
    "type(1)"
   ]
  },
  {
   "cell_type": "code",
   "execution_count": 59,
   "id": "0868d268",
   "metadata": {},
   "outputs": [
    {
     "data": {
      "text/plain": [
       "function"
      ]
     },
     "execution_count": 59,
     "metadata": {},
     "output_type": "execute_result"
    }
   ],
   "source": [
    "type(add_numbers)"
   ]
  },
  {
   "cell_type": "markdown",
   "id": "d55d871e",
   "metadata": {},
   "source": [
    "### Tuples\n",
    "Sequence of variable which is immutable. It has items in ordering that cannot be changed once created."
   ]
  },
  {
   "cell_type": "code",
   "execution_count": 60,
   "id": "fff389dd",
   "metadata": {},
   "outputs": [
    {
     "data": {
      "text/plain": [
       "tuple"
      ]
     },
     "execution_count": 60,
     "metadata": {},
     "output_type": "execute_result"
    }
   ],
   "source": [
    "x = (1,'a',2,'b')\n",
    "type(x)"
   ]
  },
  {
   "cell_type": "markdown",
   "id": "7df99591",
   "metadata": {},
   "source": [
    "### List\n",
    "These are similar to tuple, but they can be mutable, so you can change the length, number of elements and their element values."
   ]
  },
  {
   "cell_type": "code",
   "execution_count": 61,
   "id": "4e71e3e1",
   "metadata": {},
   "outputs": [
    {
     "data": {
      "text/plain": [
       "list"
      ]
     },
     "execution_count": 61,
     "metadata": {},
     "output_type": "execute_result"
    }
   ],
   "source": [
    "x = [1,'a',2,'b']\n",
    "type(x)"
   ]
  },
  {
   "cell_type": "markdown",
   "id": "f04ad735",
   "metadata": {},
   "source": [
    "We can change the content of the list using:\n",
    "    \n",
    "1. append()"
   ]
  },
  {
   "cell_type": "code",
   "execution_count": 62,
   "id": "f5568631",
   "metadata": {},
   "outputs": [
    {
     "name": "stdout",
     "output_type": "stream",
     "text": [
      "[1, 'a', 2, 'b', 100]\n"
     ]
    }
   ],
   "source": [
    "x.append(100)\n",
    "print(x)"
   ]
  },
  {
   "cell_type": "code",
   "execution_count": 63,
   "id": "7ed71891",
   "metadata": {},
   "outputs": [
    {
     "name": "stdout",
     "output_type": "stream",
     "text": [
      "1\n",
      "a\n",
      "2\n",
      "b\n",
      "100\n"
     ]
    }
   ],
   "source": [
    "for item in x:\n",
    "    print(item)"
   ]
  },
  {
   "cell_type": "code",
   "execution_count": 64,
   "id": "ec54f5d6",
   "metadata": {},
   "outputs": [
    {
     "name": "stdout",
     "output_type": "stream",
     "text": [
      "1\n",
      "a\n",
      "2\n",
      "b\n",
      "100\n"
     ]
    }
   ],
   "source": [
    "i =0\n",
    "while(i!= len(x)):\n",
    "    print(x[i])\n",
    "    i+=1"
   ]
  },
  {
   "cell_type": "code",
   "execution_count": 65,
   "id": "ec156e02",
   "metadata": {},
   "outputs": [
    {
     "data": {
      "text/plain": [
       "[1, 2, 3, 4]"
      ]
     },
     "execution_count": 65,
     "metadata": {},
     "output_type": "execute_result"
    }
   ],
   "source": [
    "[1,2] + [3,4]"
   ]
  },
  {
   "cell_type": "code",
   "execution_count": 66,
   "id": "671ccba7",
   "metadata": {},
   "outputs": [
    {
     "data": {
      "text/plain": [
       "[1, 1, 1]"
      ]
     },
     "execution_count": 66,
     "metadata": {},
     "output_type": "execute_result"
    }
   ],
   "source": [
    "[1]*3"
   ]
  },
  {
   "cell_type": "code",
   "execution_count": 67,
   "id": "9a260432",
   "metadata": {},
   "outputs": [
    {
     "data": {
      "text/plain": [
       "True"
      ]
     },
     "execution_count": 67,
     "metadata": {},
     "output_type": "execute_result"
    }
   ],
   "source": [
    "1 in [1,2,3]"
   ]
  },
  {
   "cell_type": "markdown",
   "id": "466f1e9d",
   "metadata": {},
   "source": [
    "### Strings"
   ]
  },
  {
   "cell_type": "code",
   "execution_count": 68,
   "id": "48fdb7bc",
   "metadata": {},
   "outputs": [
    {
     "name": "stdout",
     "output_type": "stream",
     "text": [
      "T\n",
      "T\n",
      "Th\n"
     ]
    }
   ],
   "source": [
    "X = 'This is a string'\n",
    "print(X[0])\n",
    "print(X[0:1])\n",
    "print(X[0:2])"
   ]
  },
  {
   "cell_type": "code",
   "execution_count": 69,
   "id": "a472b57e",
   "metadata": {},
   "outputs": [
    {
     "data": {
      "text/plain": [
       "'g'"
      ]
     },
     "execution_count": 69,
     "metadata": {},
     "output_type": "execute_result"
    }
   ],
   "source": [
    "X[-1]"
   ]
  },
  {
   "cell_type": "code",
   "execution_count": 70,
   "id": "32b10bae",
   "metadata": {},
   "outputs": [
    {
     "data": {
      "text/plain": [
       "'ri'"
      ]
     },
     "execution_count": 70,
     "metadata": {},
     "output_type": "execute_result"
    }
   ],
   "source": [
    "X[-4:-2]"
   ]
  },
  {
   "cell_type": "code",
   "execution_count": 71,
   "id": "93d779ae",
   "metadata": {},
   "outputs": [
    {
     "data": {
      "text/plain": [
       "'Thi'"
      ]
     },
     "execution_count": 71,
     "metadata": {},
     "output_type": "execute_result"
    }
   ],
   "source": [
    "X[:3]"
   ]
  },
  {
   "cell_type": "code",
   "execution_count": 72,
   "id": "effc33f8",
   "metadata": {},
   "outputs": [
    {
     "data": {
      "text/plain": [
       "'s is a string'"
      ]
     },
     "execution_count": 72,
     "metadata": {},
     "output_type": "execute_result"
    }
   ],
   "source": [
    "X[3:]"
   ]
  },
  {
   "cell_type": "code",
   "execution_count": 73,
   "id": "582a7560",
   "metadata": {},
   "outputs": [
    {
     "name": "stdout",
     "output_type": "stream",
     "text": [
      "Tanwir Khan\n",
      "TanwirTanwirTanwir\n",
      "True\n"
     ]
    }
   ],
   "source": [
    "firstname ='Tanwir'\n",
    "lastname ='Khan'\n",
    "print(firstname + ' ' + lastname)\n",
    "print(firstname * 3)\n",
    "print('Tanwir' in firstname) "
   ]
  },
  {
   "cell_type": "code",
   "execution_count": 74,
   "id": "6a442fa3",
   "metadata": {},
   "outputs": [
    {
     "name": "stdout",
     "output_type": "stream",
     "text": [
      "Christopher\n",
      "Brooks\n"
     ]
    }
   ],
   "source": [
    "firstname = 'Christopher Arthur Hasen Brooks'.split(' ')[0]\n",
    "lastname = 'Christopher Arthur Hasen Brooks'.split(' ')[-1]\n",
    "print(firstname)\n",
    "print(lastname)"
   ]
  },
  {
   "cell_type": "code",
   "execution_count": 75,
   "id": "b7f90bb8",
   "metadata": {},
   "outputs": [
    {
     "ename": "TypeError",
     "evalue": "can only concatenate str (not \"int\") to str",
     "output_type": "error",
     "traceback": [
      "\u001b[1;31m---------------------------------------------------------------------------\u001b[0m",
      "\u001b[1;31mTypeError\u001b[0m                                 Traceback (most recent call last)",
      "\u001b[1;32m<ipython-input-75-fc7c2700d9f4>\u001b[0m in \u001b[0;36m<module>\u001b[1;34m\u001b[0m\n\u001b[1;32m----> 1\u001b[1;33m \u001b[1;34m'Tanwir'\u001b[0m \u001b[1;33m+\u001b[0m \u001b[1;36m2\u001b[0m\u001b[1;33m\u001b[0m\u001b[1;33m\u001b[0m\u001b[0m\n\u001b[0m",
      "\u001b[1;31mTypeError\u001b[0m: can only concatenate str (not \"int\") to str"
     ]
    }
   ],
   "source": [
    "'Tanwir' + 2"
   ]
  },
  {
   "cell_type": "code",
   "execution_count": 76,
   "id": "39dc2854",
   "metadata": {},
   "outputs": [
    {
     "data": {
      "text/plain": [
       "'Tanwir2'"
      ]
     },
     "execution_count": 76,
     "metadata": {},
     "output_type": "execute_result"
    }
   ],
   "source": [
    "'Tanwir' + str(2)"
   ]
  },
  {
   "cell_type": "markdown",
   "id": "4331f18c",
   "metadata": {},
   "source": [
    "### Dictionary"
   ]
  },
  {
   "cell_type": "code",
   "execution_count": 77,
   "id": "3958b053",
   "metadata": {},
   "outputs": [
    {
     "data": {
      "text/plain": [
       "'tkhan.vrf@hng.com'"
      ]
     },
     "execution_count": 77,
     "metadata": {},
     "output_type": "execute_result"
    }
   ],
   "source": [
    "X = {'tanwir Khan':'tkhan.vrf@hng.com', 'Chris Moss':'chrismoss@ghamil.com'}\n",
    "X['tanwir Khan']"
   ]
  },
  {
   "cell_type": "code",
   "execution_count": 78,
   "id": "7a22c0d7",
   "metadata": {},
   "outputs": [],
   "source": [
    "X['Christopher Arthur'] = None\n",
    "X['Christopher Arthur']"
   ]
  },
  {
   "cell_type": "code",
   "execution_count": 79,
   "id": "058327c3",
   "metadata": {},
   "outputs": [
    {
     "name": "stdout",
     "output_type": "stream",
     "text": [
      "tkhan.vrf@hng.com\n",
      "chrismoss@ghamil.com\n",
      "None\n"
     ]
    }
   ],
   "source": [
    "#### Iterating over the keys in a dictionary and extracting the values\n",
    "for name in X:\n",
    "    print(X[name])"
   ]
  },
  {
   "cell_type": "code",
   "execution_count": 80,
   "id": "4ba9b0a2",
   "metadata": {},
   "outputs": [
    {
     "name": "stdout",
     "output_type": "stream",
     "text": [
      "tkhan.vrf@hng.com\n",
      "chrismoss@ghamil.com\n",
      "None\n"
     ]
    }
   ],
   "source": [
    "## Iterating over the values\n",
    "\n",
    "for i in X.values():\n",
    "    print(i)"
   ]
  },
  {
   "cell_type": "code",
   "execution_count": 81,
   "id": "c3778ced",
   "metadata": {},
   "outputs": [
    {
     "name": "stdout",
     "output_type": "stream",
     "text": [
      "Key:  tanwir Khan\n",
      "Values:  tkhan.vrf@hng.com\n",
      "Key:  Chris Moss\n",
      "Values:  chrismoss@ghamil.com\n",
      "Key:  Christopher Arthur\n",
      "Values:  None\n"
     ]
    }
   ],
   "source": [
    "## iterating over both the values and the keys\n",
    "\n",
    "for name, email in X.items():\n",
    "    print(\"Key: \", name)\n",
    "    print(\"Values: \",email)"
   ]
  },
  {
   "cell_type": "markdown",
   "id": "ee228e7c",
   "metadata": {},
   "source": [
    "### Unpacking"
   ]
  },
  {
   "cell_type": "code",
   "execution_count": 82,
   "id": "3379f4f9",
   "metadata": {},
   "outputs": [],
   "source": [
    "X = ('Tanwir','Khan','tkhagyh@hgnd.com')"
   ]
  },
  {
   "cell_type": "code",
   "execution_count": 83,
   "id": "894d25a3",
   "metadata": {},
   "outputs": [],
   "source": [
    "fname, lname, email = X"
   ]
  },
  {
   "cell_type": "code",
   "execution_count": 84,
   "id": "69155cbc",
   "metadata": {},
   "outputs": [
    {
     "data": {
      "text/plain": [
       "'Tanwir'"
      ]
     },
     "execution_count": 84,
     "metadata": {},
     "output_type": "execute_result"
    }
   ],
   "source": [
    "fname"
   ]
  },
  {
   "cell_type": "code",
   "execution_count": 85,
   "id": "58d582bd",
   "metadata": {},
   "outputs": [],
   "source": [
    "y = ('Tanwir','Khan','9898897878','gthgh.jkki@hnhj.com')"
   ]
  },
  {
   "cell_type": "code",
   "execution_count": 86,
   "id": "28268672",
   "metadata": {},
   "outputs": [
    {
     "ename": "ValueError",
     "evalue": "too many values to unpack (expected 3)",
     "output_type": "error",
     "traceback": [
      "\u001b[1;31m---------------------------------------------------------------------------\u001b[0m",
      "\u001b[1;31mValueError\u001b[0m                                Traceback (most recent call last)",
      "\u001b[1;32m<ipython-input-86-c9596a9d0d7d>\u001b[0m in \u001b[0;36m<module>\u001b[1;34m\u001b[0m\n\u001b[1;32m----> 1\u001b[1;33m \u001b[0mFname\u001b[0m\u001b[1;33m,\u001b[0m \u001b[0mLname\u001b[0m\u001b[1;33m,\u001b[0m \u001b[0mPhone_no\u001b[0m \u001b[1;33m=\u001b[0m \u001b[0my\u001b[0m\u001b[1;33m\u001b[0m\u001b[1;33m\u001b[0m\u001b[0m\n\u001b[0m",
      "\u001b[1;31mValueError\u001b[0m: too many values to unpack (expected 3)"
     ]
    }
   ],
   "source": [
    "Fname, Lname, Phone_no = y"
   ]
  },
  {
   "cell_type": "markdown",
   "id": "2de9381d",
   "metadata": {},
   "source": [
    "# Python More on strings"
   ]
  },
  {
   "cell_type": "code",
   "execution_count": 87,
   "id": "fe355af9",
   "metadata": {},
   "outputs": [
    {
     "name": "stdout",
     "output_type": "stream",
     "text": [
      "Chris bought 4 item(s) at a price of 3.24 each for a total of 12.96\n"
     ]
    }
   ],
   "source": [
    "sales_record = {'price':3.24,\n",
    "               'num_items':4,\n",
    "               'person':'Chris'}\n",
    "sales_statement = '{} bought {} item(s) at a price of {} each for a total of {}'\n",
    "print(sales_statement.format(sales_record['person'],\n",
    "                            sales_record['num_items'],\n",
    "                            sales_record['price'],\n",
    "                            sales_record['price']*sales_record['num_items']))"
   ]
  },
  {
   "cell_type": "markdown",
   "id": "0780484e",
   "metadata": {},
   "source": [
    "# Python Demonstration: Reading and Writing CSV files"
   ]
  },
  {
   "cell_type": "code",
   "execution_count": 88,
   "id": "f11849ce",
   "metadata": {},
   "outputs": [
    {
     "data": {
      "text/plain": [
       "[{'': '1',\n",
       "  'manufacturer': 'audi',\n",
       "  'model': 'a4',\n",
       "  'displ': '1.8',\n",
       "  'year': '1999',\n",
       "  'cyl': '4',\n",
       "  'trans': 'auto(l5)',\n",
       "  'drv': 'f',\n",
       "  'cty': '18',\n",
       "  'hwy': '29',\n",
       "  'fl': 'p',\n",
       "  'class': 'compact'},\n",
       " {'': '2',\n",
       "  'manufacturer': 'audi',\n",
       "  'model': 'a4',\n",
       "  'displ': '1.8',\n",
       "  'year': '1999',\n",
       "  'cyl': '4',\n",
       "  'trans': 'manual(m5)',\n",
       "  'drv': 'f',\n",
       "  'cty': '21',\n",
       "  'hwy': '29',\n",
       "  'fl': 'p',\n",
       "  'class': 'compact'},\n",
       " {'': '3',\n",
       "  'manufacturer': 'audi',\n",
       "  'model': 'a4',\n",
       "  'displ': '2',\n",
       "  'year': '2008',\n",
       "  'cyl': '4',\n",
       "  'trans': 'manual(m6)',\n",
       "  'drv': 'f',\n",
       "  'cty': '20',\n",
       "  'hwy': '31',\n",
       "  'fl': 'p',\n",
       "  'class': 'compact'}]"
      ]
     },
     "execution_count": 88,
     "metadata": {},
     "output_type": "execute_result"
    }
   ],
   "source": [
    "import csv\n",
    "%precision 2\n",
    "with open('C:/Users/tkhan050/Documents/Blogs/Study Materials/Introduction to Data Science in Python/mpg.csv')as csvfile:\n",
    "    mpg = list(csv.DictReader(csvfile))\n",
    "mpg[:3]"
   ]
  },
  {
   "cell_type": "code",
   "execution_count": 89,
   "id": "2eb28c32",
   "metadata": {},
   "outputs": [
    {
     "data": {
      "text/plain": [
       "234"
      ]
     },
     "execution_count": 89,
     "metadata": {},
     "output_type": "execute_result"
    }
   ],
   "source": [
    "len(mpg)"
   ]
  },
  {
   "cell_type": "code",
   "execution_count": 90,
   "id": "9aad72a5",
   "metadata": {},
   "outputs": [
    {
     "data": {
      "text/plain": [
       "dict_keys(['', 'manufacturer', 'model', 'displ', 'year', 'cyl', 'trans', 'drv', 'cty', 'hwy', 'fl', 'class'])"
      ]
     },
     "execution_count": 90,
     "metadata": {},
     "output_type": "execute_result"
    }
   ],
   "source": [
    "mpg[0].keys()"
   ]
  },
  {
   "cell_type": "code",
   "execution_count": 91,
   "id": "13504669",
   "metadata": {},
   "outputs": [
    {
     "data": {
      "text/plain": [
       "16.86"
      ]
     },
     "execution_count": 91,
     "metadata": {},
     "output_type": "execute_result"
    }
   ],
   "source": [
    "sum(float(d['cty']) for d in mpg) / len(mpg)"
   ]
  },
  {
   "cell_type": "code",
   "execution_count": 92,
   "id": "0debda46",
   "metadata": {},
   "outputs": [
    {
     "data": {
      "text/plain": [
       "23.44"
      ]
     },
     "execution_count": 92,
     "metadata": {},
     "output_type": "execute_result"
    }
   ],
   "source": [
    "sum(float(d['hwy']) for d in mpg)/ len(mpg)"
   ]
  },
  {
   "cell_type": "code",
   "execution_count": 93,
   "id": "287bb6f0",
   "metadata": {},
   "outputs": [
    {
     "data": {
      "text/plain": [
       "{'4', '5', '6', '8'}"
      ]
     },
     "execution_count": 93,
     "metadata": {},
     "output_type": "execute_result"
    }
   ],
   "source": [
    "cylinders = set(d['cyl'] for d in mpg)\n",
    "cylinders"
   ]
  },
  {
   "cell_type": "code",
   "execution_count": 94,
   "id": "75925258",
   "metadata": {},
   "outputs": [
    {
     "data": {
      "text/plain": [
       "[('4', 21.01), ('5', 20.50), ('6', 16.22), ('8', 12.57)]"
      ]
     },
     "execution_count": 94,
     "metadata": {},
     "output_type": "execute_result"
    }
   ],
   "source": [
    "total = []\n",
    "for i in cylinders:\n",
    "    count = 0\n",
    "    sumtotal = 0\n",
    "    for j in mpg:\n",
    "        if j['cyl'] == i:\n",
    "            sumtotal+= float(j['cty'])\n",
    "            count+=1\n",
    "    total.append((i, sumtotal/count))\n",
    "total.sort(key = lambda x:x[0])\n",
    "total"
   ]
  },
  {
   "cell_type": "code",
   "execution_count": 95,
   "id": "cb8d2880",
   "metadata": {},
   "outputs": [
    {
     "data": {
      "text/plain": [
       "{'2seater', 'compact', 'midsize', 'minivan', 'pickup', 'subcompact', 'suv'}"
      ]
     },
     "execution_count": 95,
     "metadata": {},
     "output_type": "execute_result"
    }
   ],
   "source": [
    "vehicleclass = set(d['class'] for d in mpg)\n",
    "vehicleclass"
   ]
  },
  {
   "cell_type": "code",
   "execution_count": 96,
   "id": "05dda37a",
   "metadata": {},
   "outputs": [
    {
     "data": {
      "text/plain": [
       "[('pickup', 16.88),\n",
       " ('suv', 18.13),\n",
       " ('minivan', 22.36),\n",
       " ('2seater', 24.80),\n",
       " ('midsize', 27.29),\n",
       " ('subcompact', 28.14),\n",
       " ('compact', 28.30)]"
      ]
     },
     "execution_count": 96,
     "metadata": {},
     "output_type": "execute_result"
    }
   ],
   "source": [
    "total = []\n",
    "for i in vehicleclass:\n",
    "    sumtotal = 0\n",
    "    count = 0\n",
    "    for j in mpg:\n",
    "        if j['class']==i:\n",
    "            sumtotal+= float(j['hwy'])\n",
    "            count+=1\n",
    "    total.append((i, sumtotal/count))\n",
    "total.sort(key = lambda x:x[1])\n",
    "total"
   ]
  },
  {
   "cell_type": "markdown",
   "id": "3afe85a1",
   "metadata": {},
   "source": [
    "# The Python Programming language: Date and Time"
   ]
  },
  {
   "cell_type": "code",
   "execution_count": 97,
   "id": "414f74ea",
   "metadata": {},
   "outputs": [],
   "source": [
    "import datetime as dt\n",
    "import time as tm"
   ]
  },
  {
   "cell_type": "code",
   "execution_count": 98,
   "id": "9502a241",
   "metadata": {},
   "outputs": [
    {
     "data": {
      "text/plain": [
       "1623448086.71"
      ]
     },
     "execution_count": 98,
     "metadata": {},
     "output_type": "execute_result"
    }
   ],
   "source": [
    "tm.time()"
   ]
  },
  {
   "cell_type": "code",
   "execution_count": 99,
   "id": "8ff091c5",
   "metadata": {},
   "outputs": [
    {
     "data": {
      "text/plain": [
       "datetime.datetime(2021, 6, 11, 17, 48, 6, 721571)"
      ]
     },
     "execution_count": 99,
     "metadata": {},
     "output_type": "execute_result"
    }
   ],
   "source": [
    "dtnow = dt.datetime.fromtimestamp(tm.time())\n",
    "dtnow"
   ]
  },
  {
   "cell_type": "code",
   "execution_count": 100,
   "id": "f054cc21",
   "metadata": {},
   "outputs": [
    {
     "data": {
      "text/plain": [
       "(2021, 6, 11, 17, 48, 6)"
      ]
     },
     "execution_count": 100,
     "metadata": {},
     "output_type": "execute_result"
    }
   ],
   "source": [
    "dtnow.year, dtnow.month, dtnow.day, dtnow.hour, dtnow.minute, dtnow.second"
   ]
  },
  {
   "cell_type": "code",
   "execution_count": 101,
   "id": "ee390e1f",
   "metadata": {},
   "outputs": [
    {
     "data": {
      "text/plain": [
       "datetime.timedelta(days=100)"
      ]
     },
     "execution_count": 101,
     "metadata": {},
     "output_type": "execute_result"
    }
   ],
   "source": [
    "delta = dt.timedelta(days = 100)\n",
    "delta"
   ]
  },
  {
   "cell_type": "code",
   "execution_count": 102,
   "id": "79faf1fa",
   "metadata": {},
   "outputs": [
    {
     "data": {
      "text/plain": [
       "datetime.date(2021, 6, 11)"
      ]
     },
     "execution_count": 102,
     "metadata": {},
     "output_type": "execute_result"
    }
   ],
   "source": [
    "today = dt.date.today()\n",
    "today"
   ]
  },
  {
   "cell_type": "code",
   "execution_count": 103,
   "id": "2c1b1325",
   "metadata": {},
   "outputs": [
    {
     "data": {
      "text/plain": [
       "datetime.date(2021, 3, 3)"
      ]
     },
     "execution_count": 103,
     "metadata": {},
     "output_type": "execute_result"
    }
   ],
   "source": [
    "today- delta"
   ]
  },
  {
   "cell_type": "code",
   "execution_count": 104,
   "id": "cc65ab17",
   "metadata": {},
   "outputs": [
    {
     "data": {
      "text/plain": [
       "True"
      ]
     },
     "execution_count": 104,
     "metadata": {},
     "output_type": "execute_result"
    }
   ],
   "source": [
    "today > today - delta"
   ]
  },
  {
   "cell_type": "markdown",
   "id": "ece8f6ba",
   "metadata": {},
   "source": [
    "# Advanced Python Objects, map()"
   ]
  },
  {
   "cell_type": "code",
   "execution_count": 105,
   "id": "6c6d2eb2",
   "metadata": {},
   "outputs": [
    {
     "data": {
      "text/plain": [
       "<map at 0x1af969978e0>"
      ]
     },
     "execution_count": 105,
     "metadata": {},
     "output_type": "execute_result"
    }
   ],
   "source": [
    "store1 = [10.0,11.0,12.34,2.34]\n",
    "store2 = [9.0, 11.10, 12.34, 2.01]\n",
    "cheapest = map(min, store1, store2)\n",
    "cheapest"
   ]
  },
  {
   "cell_type": "code",
   "execution_count": 106,
   "id": "52d4b86a",
   "metadata": {},
   "outputs": [
    {
     "name": "stdout",
     "output_type": "stream",
     "text": [
      "[9.0, 11.0, 12.34, 2.01]\n"
     ]
    }
   ],
   "source": [
    "print(list(cheapest))"
   ]
  },
  {
   "cell_type": "markdown",
   "id": "f0794bfa",
   "metadata": {},
   "source": [
    "# Advanced Python Lambda and List Comprehensions"
   ]
  },
  {
   "cell_type": "code",
   "execution_count": 107,
   "id": "72029900",
   "metadata": {},
   "outputs": [],
   "source": [
    "my_function = lambda a,b,c: a+b-c"
   ]
  },
  {
   "cell_type": "code",
   "execution_count": 108,
   "id": "ee3fe2a6",
   "metadata": {},
   "outputs": [
    {
     "data": {
      "text/plain": [
       "0"
      ]
     },
     "execution_count": 108,
     "metadata": {},
     "output_type": "execute_result"
    }
   ],
   "source": [
    "my_function(1,2,3)"
   ]
  },
  {
   "cell_type": "code",
   "execution_count": 109,
   "id": "840f7c33",
   "metadata": {},
   "outputs": [
    {
     "data": {
      "text/plain": [
       "[2, 4, 6, 8]"
      ]
     },
     "execution_count": 109,
     "metadata": {},
     "output_type": "execute_result"
    }
   ],
   "source": [
    "my_list = []\n",
    "for i in range(1,10):\n",
    "    if i%2 == 0:\n",
    "        my_list.append(i)\n",
    "my_list"
   ]
  },
  {
   "cell_type": "code",
   "execution_count": 110,
   "id": "45285c9c",
   "metadata": {},
   "outputs": [
    {
     "data": {
      "text/plain": [
       "[2, 4, 6, 8]"
      ]
     },
     "execution_count": 110,
     "metadata": {},
     "output_type": "execute_result"
    }
   ],
   "source": [
    "my_list = [number for number in range(1,10) if number%2 == 0]\n",
    "my_list"
   ]
  },
  {
   "cell_type": "markdown",
   "id": "d70ef95d",
   "metadata": {},
   "source": [
    "# Numerical Python Library (NumPy)"
   ]
  },
  {
   "cell_type": "code",
   "execution_count": 111,
   "id": "e26c7052",
   "metadata": {},
   "outputs": [],
   "source": [
    "import numpy as np\n",
    "import math"
   ]
  },
  {
   "cell_type": "markdown",
   "id": "7ce63c0b",
   "metadata": {},
   "source": [
    "## Array Creation"
   ]
  },
  {
   "cell_type": "code",
   "execution_count": 112,
   "id": "cde3599f",
   "metadata": {},
   "outputs": [
    {
     "name": "stdout",
     "output_type": "stream",
     "text": [
      "[1 2 3]\n",
      "1\n"
     ]
    }
   ],
   "source": [
    "# Arrays are displayed as a list or list of lists and can be created through list as well. When creating an\n",
    "# array, we pass in a list as an argument in numpy array.\n",
    "\n",
    "a = np.array([1,2,3])\n",
    "print(a)\n",
    "\n",
    "# We can print the number of dimensions of a list using the ndim attribute\n",
    "\n",
    "print(a.ndim)"
   ]
  },
  {
   "cell_type": "code",
   "execution_count": 113,
   "id": "031ce1b6",
   "metadata": {},
   "outputs": [
    {
     "data": {
      "text/plain": [
       "array([[ 2, 12, 13],\n",
       "       [ 1, 24, 11]])"
      ]
     },
     "execution_count": 113,
     "metadata": {},
     "output_type": "execute_result"
    }
   ],
   "source": [
    "# If we pass in a list of lists in numpy array, we create a multi-dimensional array, for instance, a matrix\n",
    "\n",
    "b = np.array([[2,12,13],[1,24,11]])\n",
    "b"
   ]
  },
  {
   "cell_type": "code",
   "execution_count": 114,
   "id": "9a62e54d",
   "metadata": {},
   "outputs": [
    {
     "data": {
      "text/plain": [
       "(2, 3)"
      ]
     },
     "execution_count": 114,
     "metadata": {},
     "output_type": "execute_result"
    }
   ],
   "source": [
    "# We can print out the length of each dimension by calling the shape attribute, which returns a tuple\n",
    "b.shape"
   ]
  },
  {
   "cell_type": "code",
   "execution_count": 115,
   "id": "09eb45f8",
   "metadata": {},
   "outputs": [
    {
     "data": {
      "text/plain": [
       "dtype('int32')"
      ]
     },
     "execution_count": 115,
     "metadata": {},
     "output_type": "execute_result"
    }
   ],
   "source": [
    "# We can also check the type of items in the array\n",
    "\n",
    "a.dtype"
   ]
  },
  {
   "cell_type": "code",
   "execution_count": 116,
   "id": "6112797b",
   "metadata": {},
   "outputs": [
    {
     "data": {
      "text/plain": [
       "'float64'"
      ]
     },
     "execution_count": 116,
     "metadata": {},
     "output_type": "execute_result"
    }
   ],
   "source": [
    "# Besides integers, floats are also accepted in numpy arrays\n",
    "\n",
    "c = np.array([1.2,3.32,21.3])\n",
    "c.dtype.name"
   ]
  },
  {
   "cell_type": "code",
   "execution_count": 117,
   "id": "2bdf8fc3",
   "metadata": {},
   "outputs": [
    {
     "data": {
      "text/plain": [
       "array([ 1.2 ,  3.32, 21.3 ])"
      ]
     },
     "execution_count": 117,
     "metadata": {},
     "output_type": "execute_result"
    }
   ],
   "source": [
    "# Let's look at the data in our array\n",
    "\n",
    "c"
   ]
  },
  {
   "cell_type": "code",
   "execution_count": 118,
   "id": "f448e40f",
   "metadata": {},
   "outputs": [],
   "source": [
    "# Note that numpy automatically converts integers, like 5, up to floats, since there is no loss of prescision.\n",
    "# Numpy will try and give you the best data type format possible to keep your data types homogeneous, which\n",
    "# means all the same, in the array"
   ]
  },
  {
   "cell_type": "code",
   "execution_count": 119,
   "id": "32d5fa1d",
   "metadata": {},
   "outputs": [
    {
     "name": "stdout",
     "output_type": "stream",
     "text": [
      "[[1. 1. 1.]\n",
      " [1. 1. 1.]]\n",
      "[[0. 0. 0.]\n",
      " [0. 0. 0.]]\n"
     ]
    }
   ],
   "source": [
    "# Sometimes we know the shape of an array that we want to create, but not what we want to be in it. numpy\n",
    "# offers several functions to create arrays with initial placeholders, such as zero's or one's.\n",
    "# Lets create two arrays, both the same shape but with different filler values\n",
    "\n",
    "a = np.ones((2,3))\n",
    "print(a)\n",
    "\n",
    "b = np.zeros((2,3))\n",
    "print(b)"
   ]
  },
  {
   "cell_type": "code",
   "execution_count": 120,
   "id": "6380e5c9",
   "metadata": {},
   "outputs": [
    {
     "name": "stdout",
     "output_type": "stream",
     "text": [
      "[[0.17681069 0.68118242 0.68233368]\n",
      " [0.83461455 0.25908308 0.84409974]]\n"
     ]
    }
   ],
   "source": [
    "# We can also generate an array with random numbers\n",
    "\n",
    "c = np.random.rand(2,3)\n",
    "print(c)"
   ]
  },
  {
   "cell_type": "code",
   "execution_count": 121,
   "id": "74949be4",
   "metadata": {},
   "outputs": [],
   "source": [
    "# You'll see zeros, ones, and rand used quite often to create example arrays, especially in stack overflow\n",
    "# posts and other forums."
   ]
  },
  {
   "cell_type": "code",
   "execution_count": 122,
   "id": "58f33131",
   "metadata": {},
   "outputs": [
    {
     "data": {
      "text/plain": [
       "array([10, 12, 14, 16, 18, 20, 22, 24, 26, 28, 30, 32, 34, 36, 38, 40, 42,\n",
       "       44, 46, 48])"
      ]
     },
     "execution_count": 122,
     "metadata": {},
     "output_type": "execute_result"
    }
   ],
   "source": [
    "# We can also create a sequence of numbers in an array with the arrange() function. The fist argument is the\n",
    "# starting bound and the second argument is the ending bound, and the third argument is the difference between\n",
    "# each consecutive numbers\n",
    "\n",
    "# Let's create an array of every even number from ten (inclusive) to fifty (exclusive)\n",
    "\n",
    "f = np.arange(10,50,2)\n",
    "f"
   ]
  },
  {
   "cell_type": "code",
   "execution_count": 123,
   "id": "8ee62a12",
   "metadata": {},
   "outputs": [
    {
     "data": {
      "text/plain": [
       "array([0.        , 0.14285714, 0.28571429, 0.42857143, 0.57142857,\n",
       "       0.71428571, 0.85714286, 1.        , 1.14285714, 1.28571429,\n",
       "       1.42857143, 1.57142857, 1.71428571, 1.85714286, 2.        ])"
      ]
     },
     "execution_count": 123,
     "metadata": {},
     "output_type": "execute_result"
    }
   ],
   "source": [
    "# if we want to generate a sequence of floats, we can use the linspace() function. In this function the third\n",
    "# argument isn't the difference between two numbers, but the total number of items you want to generate.\n",
    "np.linspace(0,2,15)# 15 numbers from 0 (inclusive) to 2 (inclusive)"
   ]
  },
  {
   "cell_type": "markdown",
   "id": "45f57caf",
   "metadata": {},
   "source": [
    "# Array Operations"
   ]
  },
  {
   "cell_type": "code",
   "execution_count": 124,
   "id": "75ebf00f",
   "metadata": {},
   "outputs": [],
   "source": [
    "# We can do many things on arrays, such as mathematical manipulation (addition, subtraction, square,\n",
    "# exponents) as well as use boolean arrays, which are binary values. We can also do matrix manipulation such\n",
    "# as product, transpose, inverse, and so forth."
   ]
  },
  {
   "cell_type": "code",
   "execution_count": 125,
   "id": "b9775a15",
   "metadata": {},
   "outputs": [
    {
     "data": {
      "text/plain": [
       "array([ 10,  40,  90, 160])"
      ]
     },
     "execution_count": 125,
     "metadata": {},
     "output_type": "execute_result"
    }
   ],
   "source": [
    "# Arithmetic operators on array apply elementwise.\n",
    "\n",
    "# Let's create a couple of arrays\n",
    "a = np.array([1,2,3,4])\n",
    "b = np.array([10,20,30,40])\n",
    "c = a-b\n",
    "c\n",
    "# And let's look at a times b\n",
    "d = a*b\n",
    "d"
   ]
  },
  {
   "cell_type": "code",
   "execution_count": 126,
   "id": "ac88da55",
   "metadata": {},
   "outputs": [
    {
     "data": {
      "text/plain": [
       "array([-18.33333333, -23.88888889, -21.11111111, -26.66666667,\n",
       "       -18.33333333])"
      ]
     },
     "execution_count": 126,
     "metadata": {},
     "output_type": "execute_result"
    }
   ],
   "source": [
    "# With arithmetic manipulation, we can convert current data to the way we want it to be. Here's a real-world\n",
    "# problem I face - I moved down to the United States about 6 years ago from Canada. In Canada we use celcius\n",
    "# for temperatures, and my wife still hasn't converted to the US system which uses farenheit. With numpy I \n",
    "# could easily convert a number of farenheit values, say the weather forecase, to ceclius\n",
    "\n",
    "# Let's create an array of typical Ann Arbor winter farenheit values\n",
    "\n",
    "farehneit = np.array([0,-10, -5, -15, 0])\n",
    "\n",
    "# And the formula for conversion is ((°F − 32) × 5/9 = °C)\n",
    "\n",
    "celcius = (farehneit - 33) * (5/9)\n",
    "celcius"
   ]
  },
  {
   "cell_type": "code",
   "execution_count": 127,
   "id": "bdb5da99",
   "metadata": {},
   "outputs": [
    {
     "data": {
      "text/plain": [
       "array([ True, False, False, False,  True])"
      ]
     },
     "execution_count": 127,
     "metadata": {},
     "output_type": "execute_result"
    }
   ],
   "source": [
    "# Another useful and important manipulation is the boolean array. We can apply an operator on an array, and a\n",
    "# boolean array will be returned for any element in the original, with True being emitted if it meets the condition and False oetherwise.\n",
    "# For instance, if we want to get a boolean array to check celcius degrees that are greater than -20 degrees\n",
    "\n",
    "celcius > -20"
   ]
  },
  {
   "cell_type": "code",
   "execution_count": 128,
   "id": "b1dffb0e",
   "metadata": {},
   "outputs": [
    {
     "data": {
      "text/plain": [
       "array([False, False, False, False, False])"
      ]
     },
     "execution_count": 128,
     "metadata": {},
     "output_type": "execute_result"
    }
   ],
   "source": [
    "# Here's another example, we could use the modulus operator to check numbers in an array to see if they are even. \n",
    "# Recall that modulus does division but throws away everything but the remainder (decimal) portion)\n",
    "\n",
    "celcius%2 ==0"
   ]
  },
  {
   "cell_type": "code",
   "execution_count": 129,
   "id": "57721edf",
   "metadata": {},
   "outputs": [
    {
     "data": {
      "text/plain": [
       "array([[ 5, 12],\n",
       "       [21, 32]])"
      ]
     },
     "execution_count": 129,
     "metadata": {},
     "output_type": "execute_result"
    }
   ],
   "source": [
    "# Besides elementwise manipulation, it is important to know that numpy supports matrix manipulation. Let's\n",
    "# look at matrix product. if we want to do elementwise product, we use the \"*\" sign\n",
    "\n",
    "A = np.array([[1,2],[3,4]])\n",
    "B = np.array([[5,6],[7,8]])\n",
    "A*B"
   ]
  },
  {
   "cell_type": "code",
   "execution_count": 130,
   "id": "0477cb14",
   "metadata": {},
   "outputs": [
    {
     "data": {
      "text/plain": [
       "array([[19, 22],\n",
       "       [43, 50]])"
      ]
     },
     "execution_count": 130,
     "metadata": {},
     "output_type": "execute_result"
    }
   ],
   "source": [
    "# if we want to do matrix product, we use the \"@\" sign or use the dot function\n",
    "\n",
    "A@B"
   ]
  },
  {
   "cell_type": "code",
   "execution_count": 131,
   "id": "3a2de3ef",
   "metadata": {},
   "outputs": [
    {
     "data": {
      "text/plain": [
       "(2, 2)"
      ]
     },
     "execution_count": 131,
     "metadata": {},
     "output_type": "execute_result"
    }
   ],
   "source": [
    "# A few more linear algebra concepts are worth layering in here. You might recall that the product of two\n",
    "# matrices is only plausible when the inner dimensions of the two matrices are the same. The dimensions refer\n",
    "# to the number of elements both horizontally and vertically in the rendered matricies you've seen here. We\n",
    "# can use numpy to quickly see the shape of a matrix:\n",
    "\n",
    "A.shape"
   ]
  },
  {
   "cell_type": "code",
   "execution_count": 132,
   "id": "b426e8e7",
   "metadata": {},
   "outputs": [
    {
     "name": "stdout",
     "output_type": "stream",
     "text": [
      "int32\n",
      "float64\n"
     ]
    }
   ],
   "source": [
    "# When manipulating arrays of different types, the type of the resulting array will correspond to \n",
    "# the more general of the two types. This is called upcasting.\n",
    "\n",
    "# Let's create an array of integers\n",
    "\n",
    "array1 = np.array([[1,2,3,4],[5,6,7,8]])\n",
    "print(array1.dtype)\n",
    "\n",
    "array2 = np.array([[1.1,2.2,3.5,8.9],[4.5,7.7,2.3,44.1]])\n",
    "print(array2.dtype)"
   ]
  },
  {
   "cell_type": "code",
   "execution_count": 133,
   "id": "ec8a452d",
   "metadata": {},
   "outputs": [],
   "source": [
    "# Integers (int) are whole numbers only, and Floating point numbers (float) can have a whole number portion\n",
    "# and a decimal portion. The 64 in this example refers to the number of bits that the operating system is\n",
    "# reserving to represent the number, which determines the size (or precision) of the numbers that can be\n",
    "# represented."
   ]
  },
  {
   "cell_type": "code",
   "execution_count": 134,
   "id": "91d0affb",
   "metadata": {},
   "outputs": [
    {
     "name": "stdout",
     "output_type": "stream",
     "text": [
      "[[ 2.1  4.2  6.5 12.9]\n",
      " [ 9.5 13.7  9.3 52.1]]\n"
     ]
    }
   ],
   "source": [
    "# Let's do an addition for the two arrays\n",
    "\n",
    "array3 = array1+array2\n",
    "print(array3)"
   ]
  },
  {
   "cell_type": "code",
   "execution_count": 135,
   "id": "de82810b",
   "metadata": {},
   "outputs": [],
   "source": [
    "# Notice how the items in the resulting array have been upcast into floating point numbers"
   ]
  },
  {
   "cell_type": "code",
   "execution_count": 136,
   "id": "f2ce49e2",
   "metadata": {},
   "outputs": [
    {
     "name": "stdout",
     "output_type": "stream",
     "text": [
      "110.30000000000001\n",
      "52.1\n",
      "2.1\n",
      "13.787500000000001\n"
     ]
    }
   ],
   "source": [
    "# Numpy arrays have many interesting aggregation functions on them, such as  sum(), max(), min(), and mean()\n",
    "print(array3.sum())\n",
    "print(array3.max())\n",
    "print(array3.min())\n",
    "print(array3.mean())"
   ]
  },
  {
   "cell_type": "code",
   "execution_count": 137,
   "id": "b48ce253",
   "metadata": {},
   "outputs": [
    {
     "name": "stdout",
     "output_type": "stream",
     "text": [
      "[[ 1  2  3  4  5]\n",
      " [ 6  7  8  9 10]\n",
      " [11 12 13 14 15]]\n"
     ]
    }
   ],
   "source": [
    "# For two dimensional arrays, we can do the same thing for each row or column\n",
    "# let's create an array with 15 elements, ranging from 1 to 15, \n",
    "# with a dimension of 3X5\n",
    "\n",
    "b = np.arange(1,16,1).reshape(3,5)\n",
    "print(b)"
   ]
  },
  {
   "cell_type": "code",
   "execution_count": 138,
   "id": "cac32524",
   "metadata": {},
   "outputs": [],
   "source": [
    "# Now, we often think about two dimensional arrays being made up of rows and columns, but you can also think\n",
    "# of these arrays as just a giant ordered list of numbers, and the *shape* of the array, the number of rows\n",
    "# and columns, is just an abstraction that we have for a particular purpose. Actually, this is exactly how\n",
    "# basic images are stored in computer environments.\n",
    "\n",
    "# Let's take a look at an example and see how numpy comes into play."
   ]
  },
  {
   "cell_type": "code",
   "execution_count": 25,
   "id": "90ffb726",
   "metadata": {},
   "outputs": [],
   "source": [
    "# For this demonstration I'll use the python imaging library (PIL) and a function to display images in the\n",
    "# Jupyter notebook\n",
    "\n",
    "import cv2\n",
    "import matplotlib.pyplot as plt\n",
    "\n",
    "image = cv2.imread('C:/Users/tkhan050/Documents/Blogs/Study Materials/Introduction to Data Science in Python/mouse.jpg')\n",
    "\n",
    "cv2.imshow(\"A\",image)\n",
    "cv2.waitKey(0) # waits until a key is pressed\n",
    "cv2.destroyAllWindows()"
   ]
  },
  {
   "cell_type": "code",
   "execution_count": 26,
   "id": "27e58e93",
   "metadata": {},
   "outputs": [
    {
     "name": "stdout",
     "output_type": "stream",
     "text": [
      "(471, 640, 3)\n"
     ]
    },
    {
     "data": {
      "text/plain": [
       "array([[[ 92, 112, 143],\n",
       "        [ 92, 112, 143],\n",
       "        [ 92, 112, 143],\n",
       "        ...,\n",
       "        [ 74,  94, 125],\n",
       "        [ 74,  94, 125],\n",
       "        [ 74,  94, 125]],\n",
       "\n",
       "       [[ 93, 113, 144],\n",
       "        [ 93, 113, 144],\n",
       "        [ 93, 113, 144],\n",
       "        ...,\n",
       "        [ 73,  93, 124],\n",
       "        [ 73,  93, 124],\n",
       "        [ 73,  93, 124]],\n",
       "\n",
       "       [[ 94, 114, 145],\n",
       "        [ 94, 114, 145],\n",
       "        [ 94, 114, 145],\n",
       "        ...,\n",
       "        [ 73,  93, 124],\n",
       "        [ 73,  93, 124],\n",
       "        [ 73,  93, 124]],\n",
       "\n",
       "       ...,\n",
       "\n",
       "       [[ 54, 100, 147],\n",
       "        [ 53,  99, 146],\n",
       "        [ 50,  97, 149],\n",
       "        ...,\n",
       "        [ 62, 120, 155],\n",
       "        [ 59, 116, 148],\n",
       "        [ 51, 111, 141]],\n",
       "\n",
       "       [[ 53, 102, 148],\n",
       "        [ 51, 100, 146],\n",
       "        [ 47,  95, 147],\n",
       "        ...,\n",
       "        [ 59, 115, 150],\n",
       "        [ 58, 112, 147],\n",
       "        [ 53, 109, 144]],\n",
       "\n",
       "       [[ 64, 104, 146],\n",
       "        [ 63, 101, 143],\n",
       "        [ 54,  94, 142],\n",
       "        ...,\n",
       "        [ 55, 112, 144],\n",
       "        [ 56, 110, 143],\n",
       "        [ 51, 108, 140]]], dtype=uint8)"
      ]
     },
     "execution_count": 26,
     "metadata": {},
     "output_type": "execute_result"
    }
   ],
   "source": [
    "# Now, we can conver this image to a numpy array\n",
    "\n",
    "import numpy as np\n",
    "array = np.array(image)\n",
    "print(array.shape)\n",
    "array"
   ]
  },
  {
   "cell_type": "code",
   "execution_count": 29,
   "id": "a7d208ae",
   "metadata": {},
   "outputs": [
    {
     "data": {
      "text/plain": [
       "(471, 640, 3)"
      ]
     },
     "execution_count": 29,
     "metadata": {},
     "output_type": "execute_result"
    }
   ],
   "source": [
    "# Here we see that we have a 2304 X 3456 X 3 array and that the values are all uint8. The uint means that they are\n",
    "# unsigned integers (so no negative numbers) and the 8 means 8 bits per byte. This means that each value can\n",
    "# be up to 2*2*2*2*2*2*2*2=256 in size (well, actually 255, because we start at zero). For black and white\n",
    "# images black is stored as 0 and white is stored as 255. So if we just wanted to invert this image we could\n",
    "# use the numpy array to do so\n",
    "\n",
    "#lets create an array of the same shape\n",
    "\n",
    "mask = np.full(array.shape,255)\n",
    "mask.shape"
   ]
  },
  {
   "cell_type": "code",
   "execution_count": 30,
   "id": "17232dab",
   "metadata": {},
   "outputs": [
    {
     "data": {
      "text/plain": [
       "array([[[163, 143, 112],\n",
       "        [163, 143, 112],\n",
       "        [163, 143, 112],\n",
       "        ...,\n",
       "        [181, 161, 130],\n",
       "        [181, 161, 130],\n",
       "        [181, 161, 130]],\n",
       "\n",
       "       [[162, 142, 111],\n",
       "        [162, 142, 111],\n",
       "        [162, 142, 111],\n",
       "        ...,\n",
       "        [182, 162, 131],\n",
       "        [182, 162, 131],\n",
       "        [182, 162, 131]],\n",
       "\n",
       "       [[161, 141, 110],\n",
       "        [161, 141, 110],\n",
       "        [161, 141, 110],\n",
       "        ...,\n",
       "        [182, 162, 131],\n",
       "        [182, 162, 131],\n",
       "        [182, 162, 131]],\n",
       "\n",
       "       ...,\n",
       "\n",
       "       [[201, 155, 108],\n",
       "        [202, 156, 109],\n",
       "        [205, 158, 106],\n",
       "        ...,\n",
       "        [193, 135, 100],\n",
       "        [196, 139, 107],\n",
       "        [204, 144, 114]],\n",
       "\n",
       "       [[202, 153, 107],\n",
       "        [204, 155, 109],\n",
       "        [208, 160, 108],\n",
       "        ...,\n",
       "        [196, 140, 105],\n",
       "        [197, 143, 108],\n",
       "        [202, 146, 111]],\n",
       "\n",
       "       [[191, 151, 109],\n",
       "        [192, 154, 112],\n",
       "        [201, 161, 113],\n",
       "        ...,\n",
       "        [200, 143, 111],\n",
       "        [199, 145, 112],\n",
       "        [204, 147, 115]]], dtype=uint8)"
      ]
     },
     "execution_count": 30,
     "metadata": {},
     "output_type": "execute_result"
    }
   ],
   "source": [
    "# Now let's subtract that from the modified array\n",
    "modified_array = array - mask\n",
    "\n",
    "# And lets convert all of the negative values to positive values\n",
    "modified_array = modified_array*(-1)\n",
    "\n",
    "# And as a last step, let's tell numpy to set the value of the datatype correctly\n",
    "\n",
    "modified_array = modified_array.astype(np.uint8)\n",
    "modified_array"
   ]
  },
  {
   "cell_type": "code",
   "execution_count": 31,
   "id": "ef29ac06",
   "metadata": {},
   "outputs": [],
   "source": [
    "# And lastly, lets display this new array. \n",
    "\n",
    "cv2.imshow(\"B\",modified_array)\n",
    "cv2.waitKey(0) # waits until a key is pressed\n",
    "cv2.destroyAllWindows()"
   ]
  },
  {
   "cell_type": "markdown",
   "id": "bbd3a556",
   "metadata": {},
   "source": [
    "# Indexing, Slicing and Iterating"
   ]
  },
  {
   "cell_type": "code",
   "execution_count": 32,
   "id": "eb2f326e",
   "metadata": {},
   "outputs": [],
   "source": [
    "# Indexing, slicing and iterating are extremely important for data manipulation and analysis because these\n",
    "# techinques allow us to select data based on conditions, and copy or update data."
   ]
  },
  {
   "cell_type": "markdown",
   "id": "b09036ee",
   "metadata": {},
   "source": [
    "## Indexing"
   ]
  },
  {
   "cell_type": "code",
   "execution_count": 33,
   "id": "558e94bf",
   "metadata": {},
   "outputs": [
    {
     "data": {
      "text/plain": [
       "2"
      ]
     },
     "execution_count": 33,
     "metadata": {},
     "output_type": "execute_result"
    }
   ],
   "source": [
    "# First we are going to look at integer indexing. A one-dimensional array, works in similar ways as a list -\n",
    "# To get an element in a one-dimensional array, we simply use the offset index.\n",
    "\n",
    "a = np.array([1,2,3])\n",
    "a[1]"
   ]
  },
  {
   "cell_type": "code",
   "execution_count": 34,
   "id": "ad24fc4c",
   "metadata": {},
   "outputs": [
    {
     "data": {
      "text/plain": [
       "array([[1, 2, 3],\n",
       "       [4, 5, 6],\n",
       "       [7, 8, 9]])"
      ]
     },
     "execution_count": 34,
     "metadata": {},
     "output_type": "execute_result"
    }
   ],
   "source": [
    "# For multidimensional array, we need to use integer array indexing, let's create a new multidimensional array\n",
    "\n",
    "a = np.array([[1,2,3],[4,5,6],[7,8,9]])\n",
    "a"
   ]
  },
  {
   "cell_type": "code",
   "execution_count": 35,
   "id": "8b3c93f2",
   "metadata": {},
   "outputs": [
    {
     "data": {
      "text/plain": [
       "5"
      ]
     },
     "execution_count": 35,
     "metadata": {},
     "output_type": "execute_result"
    }
   ],
   "source": [
    "# if we want to select one certain element, we can do so by entering the index, which is comprised of two\n",
    "# integers the first being the row, and the second the column\n",
    "\n",
    "a[1,1]"
   ]
  },
  {
   "cell_type": "code",
   "execution_count": 37,
   "id": "92fa7d9d",
   "metadata": {},
   "outputs": [
    {
     "data": {
      "text/plain": [
       "array([1, 4, 6])"
      ]
     },
     "execution_count": 37,
     "metadata": {},
     "output_type": "execute_result"
    }
   ],
   "source": [
    "# if we want to get multiple elements \n",
    "# for example, 1, 4, and 6 and put them into a one-dimensional array\n",
    "# we can enter the indices directly into an array function\n",
    "\n",
    "np.array([a[0,0],a[1,0],a[1,2]])"
   ]
  },
  {
   "cell_type": "code",
   "execution_count": 40,
   "id": "747950f4",
   "metadata": {},
   "outputs": [
    {
     "name": "stdout",
     "output_type": "stream",
     "text": [
      "[1 4 6]\n"
     ]
    }
   ],
   "source": [
    "# we can also do that by using another form of array indexing, which essentially \"zips\" the first list and the\n",
    "# second list up\n",
    "\n",
    "print(a[[0,1,1],[0,0,2]])"
   ]
  },
  {
   "cell_type": "markdown",
   "id": "f3f8265f",
   "metadata": {},
   "source": [
    "## Boolean Indexing"
   ]
  },
  {
   "cell_type": "code",
   "execution_count": 41,
   "id": "a15cd482",
   "metadata": {},
   "outputs": [
    {
     "name": "stdout",
     "output_type": "stream",
     "text": [
      "[[False False False]\n",
      " [False False  True]\n",
      " [ True  True  True]]\n"
     ]
    }
   ],
   "source": [
    "# Boolean indexing allows us to select arbitrary elements based on conditions. For example, in the matrix we\n",
    "# just talked about we want to find elements that are greater than 5 so we set up a conditon a >5 \n",
    "print(a >5)\n",
    "# This returns a boolean array showing that if the value at the corresponding index is greater than 5"
   ]
  },
  {
   "cell_type": "code",
   "execution_count": 42,
   "id": "d09d62e3",
   "metadata": {},
   "outputs": [
    {
     "name": "stdout",
     "output_type": "stream",
     "text": [
      "[6 7 8 9]\n"
     ]
    }
   ],
   "source": [
    "# We can then place this array of booleans like a mask over the original array to return a one-dimensional \n",
    "# array relating to the true values.\n",
    "\n",
    "print(a[a>5])"
   ]
  },
  {
   "cell_type": "markdown",
   "id": "f97f357b",
   "metadata": {},
   "source": [
    "## Slicing"
   ]
  },
  {
   "cell_type": "code",
   "execution_count": 44,
   "id": "354b3fe8",
   "metadata": {},
   "outputs": [
    {
     "name": "stdout",
     "output_type": "stream",
     "text": [
      "[0 1 2]\n"
     ]
    }
   ],
   "source": [
    "# Slicing is a way to create a sub-array based on the original array. For one-dimensional arrays, slicing \n",
    "# works in similar ways to a list. To slice, we use the : sign. For instance, if we put :3 in the indexing\n",
    "# brackets, we get elements from index 0 to index 3 (excluding index 3)\n",
    "\n",
    "a = np.array([0,1,2,3,4,5,6,7])\n",
    "print(a[:3])"
   ]
  },
  {
   "cell_type": "code",
   "execution_count": 45,
   "id": "593dc683",
   "metadata": {},
   "outputs": [
    {
     "name": "stdout",
     "output_type": "stream",
     "text": [
      "[2 3]\n"
     ]
    }
   ],
   "source": [
    "# By putting 2:4 in the bracket, we get elements from index 2 to index 4 (excluding index 4)\n",
    "print(a[2:4])"
   ]
  },
  {
   "cell_type": "code",
   "execution_count": 46,
   "id": "b660ecfd",
   "metadata": {},
   "outputs": [
    {
     "data": {
      "text/plain": [
       "array([[ 1,  2,  3],\n",
       "       [ 4, 54,  6],\n",
       "       [ 6,  7,  8]])"
      ]
     },
     "execution_count": 46,
     "metadata": {},
     "output_type": "execute_result"
    }
   ],
   "source": [
    "# For multi-dimensional arrays, it works similarly, lets see an example\n",
    "a = np.array([[1,2,3],[4,54,6],[6,7,8]])\n",
    "a"
   ]
  },
  {
   "cell_type": "code",
   "execution_count": 47,
   "id": "020f40f3",
   "metadata": {},
   "outputs": [
    {
     "data": {
      "text/plain": [
       "array([[ 1,  2,  3],\n",
       "       [ 4, 54,  6]])"
      ]
     },
     "execution_count": 47,
     "metadata": {},
     "output_type": "execute_result"
    }
   ],
   "source": [
    "# First, if we put one argument in the array, for example a[:2] then we would get all the elements from the \n",
    "# first (0th) and second row (1th)\n",
    "\n",
    "a[:2]"
   ]
  },
  {
   "cell_type": "code",
   "execution_count": 48,
   "id": "b15332a8",
   "metadata": {},
   "outputs": [
    {
     "data": {
      "text/plain": [
       "array([[ 2,  3],\n",
       "       [54,  6]])"
      ]
     },
     "execution_count": 48,
     "metadata": {},
     "output_type": "execute_result"
    }
   ],
   "source": [
    "# If we add another argument to the array, for example a[:2, 1:3], we get the first two rows but then the\n",
    "# second and third column values only\n",
    "\n",
    "a[:2,1:3]"
   ]
  },
  {
   "cell_type": "code",
   "execution_count": 49,
   "id": "0583ebcb",
   "metadata": {},
   "outputs": [],
   "source": [
    "# So, in multidimensional arrays, the first argument is for selecting rows, and the second argument is for \n",
    "# selecting columns"
   ]
  },
  {
   "cell_type": "code",
   "execution_count": 51,
   "id": "98e3f43e",
   "metadata": {},
   "outputs": [
    {
     "name": "stdout",
     "output_type": "stream",
     "text": [
      "Sub_array index [0,0] value before change: 50\n",
      "Sub_array index [0,0] value after change: 50\n",
      "Orignal array index [0,1] value after change: 50\n",
      "[[50  3]\n",
      " [54  6]]\n",
      "[[ 1 50  3]\n",
      " [ 4 54  6]\n",
      " [ 6  7  8]]\n"
     ]
    }
   ],
   "source": [
    "# It is important to realize that a slice of an array is a view into the same data. This is called passing by\n",
    "# reference. So modifying the sub array will consequently modify the original array\n",
    "\n",
    "# Here I'll change the element at position [0, 0], which is 2, to 50, then we can see that the value in the\n",
    "# original array is changed to 50 as well\n",
    "\n",
    "sub_array = a[:2,1:3]\n",
    "print(\"Sub_array index [0,0] value before change:\", sub_array[0,0])\n",
    "sub_array[0,0] = 50\n",
    "print(\"Sub_array index [0,0] value after change:\", sub_array[0,0])\n",
    "print(\"Orignal array index [0,1] value after change:\", a[0,1])\n",
    "print(sub_array)\n",
    "print(a)"
   ]
  },
  {
   "cell_type": "markdown",
   "id": "ba0d6b11",
   "metadata": {},
   "source": [
    "## Trying Numpy with Data Sets"
   ]
  },
  {
   "cell_type": "code",
   "execution_count": 52,
   "id": "2a576383",
   "metadata": {},
   "outputs": [],
   "source": [
    "# Here we have a very popular dataset on wine quality, and we are going to only look at red wines. The data\n",
    "# fields include: fixed acidity, volatile aciditycitric acid, residual sugar, chlorides, free sulfur dioxide,\n",
    "# total sulfur dioxidedensity, pH, sulphates, alcohol, quality"
   ]
  },
  {
   "cell_type": "code",
   "execution_count": 53,
   "id": "c971d14f",
   "metadata": {},
   "outputs": [
    {
     "data": {
      "text/plain": [
       "array([[ 7.4  ,  0.7  ,  0.   , ...,  0.56 ,  9.4  ,  5.   ],\n",
       "       [ 7.8  ,  0.88 ,  0.   , ...,  0.68 ,  9.8  ,  5.   ],\n",
       "       [ 7.8  ,  0.76 ,  0.04 , ...,  0.65 ,  9.8  ,  5.   ],\n",
       "       ...,\n",
       "       [ 6.3  ,  0.51 ,  0.13 , ...,  0.75 , 11.   ,  6.   ],\n",
       "       [ 5.9  ,  0.645,  0.12 , ...,  0.71 , 10.2  ,  5.   ],\n",
       "       [ 6.   ,  0.31 ,  0.47 , ...,  0.66 , 11.   ,  6.   ]])"
      ]
     },
     "execution_count": 53,
     "metadata": {},
     "output_type": "execute_result"
    }
   ],
   "source": [
    "# To load a dataset in Numpy, we can use the genfromtxt() function. We can specify data file name, delimiter\n",
    "# (which is optional but often used), and number of rows to skip if we have a header row, hence it is 1 here\n",
    "\n",
    "# The genfromtxt() function has a parameter called dtype for specifying data types of each column this\n",
    "# parameter is optional. Without specifying the types, all types will be casted the same to the more\n",
    "# general/precise type\n",
    "\n",
    "wines = np.genfromtxt(\"C:/Users/tkhan050/Documents/Blogs/Study Materials/Introduction to Data Science in Python/winequality-red.csv\",\n",
    "                     delimiter = \";\", skip_header=1)\n",
    "wines"
   ]
  },
  {
   "cell_type": "code",
   "execution_count": 54,
   "id": "a5c81486",
   "metadata": {},
   "outputs": [
    {
     "name": "stdout",
     "output_type": "stream",
     "text": [
      "one integer 0 for slicing:  [7.4 7.8 7.8 ... 6.3 5.9 6. ]\n",
      "0 to 1 for slicing: \n",
      " [[7.4]\n",
      " [7.8]\n",
      " [7.8]\n",
      " ...\n",
      " [6.3]\n",
      " [5.9]\n",
      " [6. ]]\n"
     ]
    }
   ],
   "source": [
    "# Recall that we can use integer indexing to get a certain column or a row. For example, if we want to select\n",
    "# the fixed acidity column, which is the first coluumn, we can do so by entering the index into the array.\n",
    "# Also remember that for multidimensional arrays, the first argument refers to the row, and the second\n",
    "# argument refers to the column, and if we just give one argument then we'll get a single dimensional list\n",
    "# back.\n",
    "\n",
    "# So all rows combined but only the first column from them would be\n",
    "print(\"one integer 0 for slicing: \", wines[:, 0])\n",
    "# But if we wanted the same values but wanted to preserve that they sit in their own rows we would write\n",
    "print(\"0 to 1 for slicing: \\n\", wines[:,0:1])"
   ]
  },
  {
   "cell_type": "code",
   "execution_count": 55,
   "id": "c21fdf6d",
   "metadata": {},
   "outputs": [],
   "source": [
    "# This is another great example of how the shape of the data is an abstraction which we can layer\n",
    "# intentionally on top of the data we are working with."
   ]
  },
  {
   "cell_type": "code",
   "execution_count": 56,
   "id": "2cc6e917",
   "metadata": {},
   "outputs": [
    {
     "data": {
      "text/plain": [
       "array([[7.4  , 0.7  , 0.   ],\n",
       "       [7.8  , 0.88 , 0.   ],\n",
       "       [7.8  , 0.76 , 0.04 ],\n",
       "       ...,\n",
       "       [6.3  , 0.51 , 0.13 ],\n",
       "       [5.9  , 0.645, 0.12 ],\n",
       "       [6.   , 0.31 , 0.47 ]])"
      ]
     },
     "execution_count": 56,
     "metadata": {},
     "output_type": "execute_result"
    }
   ],
   "source": [
    "# If we want a range of columns in order, say columns 0 through 3 (recall, this means first, second, and\n",
    "# third, since we start at zero and don't include the training index value), we can do that too\n",
    "wines[:, 0:3]"
   ]
  },
  {
   "cell_type": "code",
   "execution_count": 57,
   "id": "6f05189e",
   "metadata": {},
   "outputs": [
    {
     "data": {
      "text/plain": [
       "array([[0.7  , 0.   , 1.9  ],\n",
       "       [0.88 , 0.   , 2.6  ],\n",
       "       [0.76 , 0.04 , 2.3  ],\n",
       "       ...,\n",
       "       [0.51 , 0.13 , 2.3  ],\n",
       "       [0.645, 0.12 , 2.   ],\n",
       "       [0.31 , 0.47 , 3.6  ]])"
      ]
     },
     "execution_count": 57,
     "metadata": {},
     "output_type": "execute_result"
    }
   ],
   "source": [
    "# What if we want several non-consecutive columns? We can place the indices of the columns that we want into\n",
    "# an array and pass the array as the second argument. Here's an example\n",
    "\n",
    "wines[:,[1,2,3]]"
   ]
  },
  {
   "cell_type": "code",
   "execution_count": 58,
   "id": "0b295dae",
   "metadata": {},
   "outputs": [
    {
     "data": {
      "text/plain": [
       "5.6360225140712945"
      ]
     },
     "execution_count": 58,
     "metadata": {},
     "output_type": "execute_result"
    }
   ],
   "source": [
    "# We can also do some basic summarization of this dataset. For example, if we want to find out the average\n",
    "# quality of red wine, we can select the quality column. We could do this in a couple of ways, but the most\n",
    "# appropriate is to use the -1 value for the index, as negative numbers mean slicing from the back of the\n",
    "# list. We can then call the aggregation functions on this data.\n",
    "\n",
    "wines[:,-1].mean()"
   ]
  },
  {
   "cell_type": "code",
   "execution_count": 59,
   "id": "5fc8da5e",
   "metadata": {},
   "outputs": [],
   "source": [
    "# Let's take a look at another dataset, this time on graduate school admissions. It has fields such as GRE\n",
    "# score, TOEFL score, university rating, GPA, having research experience or not, and a chance of admission.\n",
    "# With this dataset, we can do data manipulation and basic analysis to infer what conditions are associated\n",
    "# with higher chance of admission. Let's take a look."
   ]
  },
  {
   "cell_type": "code",
   "execution_count": 62,
   "id": "b2d77f37",
   "metadata": {},
   "outputs": [
    {
     "data": {
      "text/plain": [
       "array([(  1, 337, 118, 4, 4.5, 4.5, 9.65, 1, 0.92),\n",
       "       (  2, 324, 107, 4, 4. , 4.5, 8.87, 1, 0.76),\n",
       "       (  3, 316, 104, 3, 3. , 3.5, 8.  , 1, 0.72),\n",
       "       (  4, 322, 110, 3, 3.5, 2.5, 8.67, 1, 0.8 ),\n",
       "       (  5, 314, 103, 2, 2. , 3. , 8.21, 0, 0.65),\n",
       "       (  6, 330, 115, 5, 4.5, 3. , 9.34, 1, 0.9 ),\n",
       "       (  7, 321, 109, 3, 3. , 4. , 8.2 , 1, 0.75),\n",
       "       (  8, 308, 101, 2, 3. , 4. , 7.9 , 0, 0.68),\n",
       "       (  9, 302, 102, 1, 2. , 1.5, 8.  , 0, 0.5 ),\n",
       "       ( 10, 323, 108, 3, 3.5, 3. , 8.6 , 0, 0.45),\n",
       "       ( 11, 325, 106, 3, 3.5, 4. , 8.4 , 1, 0.52),\n",
       "       ( 12, 327, 111, 4, 4. , 4.5, 9.  , 1, 0.84),\n",
       "       ( 13, 328, 112, 4, 4. , 4.5, 9.1 , 1, 0.78),\n",
       "       ( 14, 307, 109, 3, 4. , 3. , 8.  , 1, 0.62),\n",
       "       ( 15, 311, 104, 3, 3.5, 2. , 8.2 , 1, 0.61),\n",
       "       ( 16, 314, 105, 3, 3.5, 2.5, 8.3 , 0, 0.54),\n",
       "       ( 17, 317, 107, 3, 4. , 3. , 8.7 , 0, 0.66),\n",
       "       ( 18, 319, 106, 3, 4. , 3. , 8.  , 1, 0.65),\n",
       "       ( 19, 318, 110, 3, 4. , 3. , 8.8 , 0, 0.63),\n",
       "       ( 20, 303, 102, 3, 3.5, 3. , 8.5 , 0, 0.62),\n",
       "       ( 21, 312, 107, 3, 3. , 2. , 7.9 , 1, 0.64),\n",
       "       ( 22, 325, 114, 4, 3. , 2. , 8.4 , 0, 0.7 ),\n",
       "       ( 23, 328, 116, 5, 5. , 5. , 9.5 , 1, 0.94),\n",
       "       ( 24, 334, 119, 5, 5. , 4.5, 9.7 , 1, 0.95),\n",
       "       ( 25, 336, 119, 5, 4. , 3.5, 9.8 , 1, 0.97),\n",
       "       ( 26, 340, 120, 5, 4.5, 4.5, 9.6 , 1, 0.94),\n",
       "       ( 27, 322, 109, 5, 4.5, 3.5, 8.8 , 0, 0.76),\n",
       "       ( 28, 298,  98, 2, 1.5, 2.5, 7.5 , 1, 0.44),\n",
       "       ( 29, 295,  93, 1, 2. , 2. , 7.2 , 0, 0.46),\n",
       "       ( 30, 310,  99, 2, 1.5, 2. , 7.3 , 0, 0.54),\n",
       "       ( 31, 300,  97, 2, 3. , 3. , 8.1 , 1, 0.65),\n",
       "       ( 32, 327, 103, 3, 4. , 4. , 8.3 , 1, 0.74),\n",
       "       ( 33, 338, 118, 4, 3. , 4.5, 9.4 , 1, 0.91),\n",
       "       ( 34, 340, 114, 5, 4. , 4. , 9.6 , 1, 0.9 ),\n",
       "       ( 35, 331, 112, 5, 4. , 5. , 9.8 , 1, 0.94),\n",
       "       ( 36, 320, 110, 5, 5. , 5. , 9.2 , 1, 0.88),\n",
       "       ( 37, 299, 106, 2, 4. , 4. , 8.4 , 0, 0.64),\n",
       "       ( 38, 300, 105, 1, 1. , 2. , 7.8 , 0, 0.58),\n",
       "       ( 39, 304, 105, 1, 3. , 1.5, 7.5 , 0, 0.52),\n",
       "       ( 40, 307, 108, 2, 4. , 3.5, 7.7 , 0, 0.48),\n",
       "       ( 41, 308, 110, 3, 3.5, 3. , 8.  , 1, 0.46),\n",
       "       ( 42, 316, 105, 2, 2.5, 2.5, 8.2 , 1, 0.49),\n",
       "       ( 43, 313, 107, 2, 2.5, 2. , 8.5 , 1, 0.53),\n",
       "       ( 44, 332, 117, 4, 4.5, 4. , 9.1 , 0, 0.87),\n",
       "       ( 45, 326, 113, 5, 4.5, 4. , 9.4 , 1, 0.91),\n",
       "       ( 46, 322, 110, 5, 5. , 4. , 9.1 , 1, 0.88),\n",
       "       ( 47, 329, 114, 5, 4. , 5. , 9.3 , 1, 0.86),\n",
       "       ( 48, 339, 119, 5, 4.5, 4. , 9.7 , 0, 0.89),\n",
       "       ( 49, 321, 110, 3, 3.5, 5. , 8.85, 1, 0.82),\n",
       "       ( 50, 327, 111, 4, 3. , 4. , 8.4 , 1, 0.78),\n",
       "       ( 51, 313,  98, 3, 2.5, 4.5, 8.3 , 1, 0.76),\n",
       "       ( 52, 312, 100, 2, 1.5, 3.5, 7.9 , 1, 0.56),\n",
       "       ( 53, 334, 116, 4, 4. , 3. , 8.  , 1, 0.78),\n",
       "       ( 54, 324, 112, 4, 4. , 2.5, 8.1 , 1, 0.72),\n",
       "       ( 55, 322, 110, 3, 3. , 3.5, 8.  , 0, 0.7 ),\n",
       "       ( 56, 320, 103, 3, 3. , 3. , 7.7 , 0, 0.64),\n",
       "       ( 57, 316, 102, 3, 2. , 3. , 7.4 , 0, 0.64),\n",
       "       ( 58, 298,  99, 2, 4. , 2. , 7.6 , 0, 0.46),\n",
       "       ( 59, 300,  99, 1, 3. , 2. , 6.8 , 1, 0.36),\n",
       "       ( 60, 311, 104, 2, 2. , 2. , 8.3 , 0, 0.42),\n",
       "       ( 61, 309, 100, 2, 3. , 3. , 8.1 , 0, 0.48),\n",
       "       ( 62, 307, 101, 3, 4. , 3. , 8.2 , 0, 0.47),\n",
       "       ( 63, 304, 105, 2, 3. , 3. , 8.2 , 1, 0.54),\n",
       "       ( 64, 315, 107, 2, 4. , 3. , 8.5 , 1, 0.56),\n",
       "       ( 65, 325, 111, 3, 3. , 3.5, 8.7 , 0, 0.52),\n",
       "       ( 66, 325, 112, 4, 3.5, 3.5, 8.92, 0, 0.55),\n",
       "       ( 67, 327, 114, 3, 3. , 3. , 9.02, 0, 0.61),\n",
       "       ( 68, 316, 107, 2, 3.5, 3.5, 8.64, 1, 0.57),\n",
       "       ( 69, 318, 109, 3, 3.5, 4. , 9.22, 1, 0.68),\n",
       "       ( 70, 328, 115, 4, 4.5, 4. , 9.16, 1, 0.78),\n",
       "       ( 71, 332, 118, 5, 5. , 5. , 9.64, 1, 0.94),\n",
       "       ( 72, 336, 112, 5, 5. , 5. , 9.76, 1, 0.96),\n",
       "       ( 73, 321, 111, 5, 5. , 5. , 9.45, 1, 0.93),\n",
       "       ( 74, 314, 108, 4, 4.5, 4. , 9.04, 1, 0.84),\n",
       "       ( 75, 314, 106, 3, 3. , 5. , 8.9 , 0, 0.74),\n",
       "       ( 76, 329, 114, 2, 2. , 4. , 8.56, 1, 0.72),\n",
       "       ( 77, 327, 112, 3, 3. , 3. , 8.72, 1, 0.74),\n",
       "       ( 78, 301,  99, 2, 3. , 2. , 8.22, 0, 0.64),\n",
       "       ( 79, 296,  95, 2, 3. , 2. , 7.54, 1, 0.44),\n",
       "       ( 80, 294,  93, 1, 1.5, 2. , 7.36, 0, 0.46),\n",
       "       ( 81, 312, 105, 3, 2. , 3. , 8.02, 1, 0.5 ),\n",
       "       ( 82, 340, 120, 4, 5. , 5. , 9.5 , 1, 0.96),\n",
       "       ( 83, 320, 110, 5, 5. , 4.5, 9.22, 1, 0.92),\n",
       "       ( 84, 322, 115, 5, 4. , 4.5, 9.36, 1, 0.92),\n",
       "       ( 85, 340, 115, 5, 4.5, 4.5, 9.45, 1, 0.94),\n",
       "       ( 86, 319, 103, 4, 4.5, 3.5, 8.66, 0, 0.76),\n",
       "       ( 87, 315, 106, 3, 4.5, 3.5, 8.42, 0, 0.72),\n",
       "       ( 88, 317, 107, 2, 3.5, 3. , 8.28, 0, 0.66),\n",
       "       ( 89, 314, 108, 3, 4.5, 3.5, 8.14, 0, 0.64),\n",
       "       ( 90, 316, 109, 4, 4.5, 3.5, 8.76, 1, 0.74),\n",
       "       ( 91, 318, 106, 2, 4. , 4. , 7.92, 1, 0.64),\n",
       "       ( 92, 299,  97, 3, 5. , 3.5, 7.66, 0, 0.38),\n",
       "       ( 93, 298,  98, 2, 4. , 3. , 8.03, 0, 0.34),\n",
       "       ( 94, 301,  97, 2, 3. , 3. , 7.88, 1, 0.44),\n",
       "       ( 95, 303,  99, 3, 2. , 2.5, 7.66, 0, 0.36),\n",
       "       ( 96, 304, 100, 4, 1.5, 2.5, 7.84, 0, 0.42),\n",
       "       ( 97, 306, 100, 2, 3. , 3. , 8.  , 0, 0.48),\n",
       "       ( 98, 331, 120, 3, 4. , 4. , 8.96, 1, 0.86),\n",
       "       ( 99, 332, 119, 4, 5. , 4.5, 9.24, 1, 0.9 ),\n",
       "       (100, 323, 113, 3, 4. , 4. , 8.88, 1, 0.79),\n",
       "       (101, 322, 107, 3, 3.5, 3.5, 8.46, 1, 0.71),\n",
       "       (102, 312, 105, 2, 2.5, 3. , 8.12, 0, 0.64),\n",
       "       (103, 314, 106, 2, 4. , 3.5, 8.25, 0, 0.62),\n",
       "       (104, 317, 104, 2, 4.5, 4. , 8.47, 0, 0.57),\n",
       "       (105, 326, 112, 3, 3.5, 3. , 9.05, 1, 0.74),\n",
       "       (106, 316, 110, 3, 4. , 4.5, 8.78, 1, 0.69),\n",
       "       (107, 329, 111, 4, 4.5, 4.5, 9.18, 1, 0.87),\n",
       "       (108, 338, 117, 4, 3.5, 4.5, 9.46, 1, 0.91),\n",
       "       (109, 331, 116, 5, 5. , 5. , 9.38, 1, 0.93),\n",
       "       (110, 304, 103, 5, 5. , 4. , 8.64, 0, 0.68),\n",
       "       (111, 305, 108, 5, 3. , 3. , 8.48, 0, 0.61),\n",
       "       (112, 321, 109, 4, 4. , 4. , 8.68, 1, 0.69),\n",
       "       (113, 301, 107, 3, 3.5, 3.5, 8.34, 1, 0.62),\n",
       "       (114, 320, 110, 2, 4. , 3.5, 8.56, 0, 0.72),\n",
       "       (115, 311, 105, 3, 3.5, 3. , 8.45, 1, 0.59),\n",
       "       (116, 310, 106, 4, 4.5, 4.5, 9.04, 1, 0.66),\n",
       "       (117, 299, 102, 3, 4. , 3.5, 8.62, 0, 0.56),\n",
       "       (118, 290, 104, 4, 2. , 2.5, 7.46, 0, 0.45),\n",
       "       (119, 296,  99, 2, 3. , 3.5, 7.28, 0, 0.47),\n",
       "       (120, 327, 104, 5, 3. , 3.5, 8.84, 1, 0.71),\n",
       "       (121, 335, 117, 5, 5. , 5. , 9.56, 1, 0.94),\n",
       "       (122, 334, 119, 5, 4.5, 4.5, 9.48, 1, 0.94),\n",
       "       (123, 310, 106, 4, 1.5, 2.5, 8.36, 0, 0.57),\n",
       "       (124, 308, 108, 3, 3.5, 3.5, 8.22, 0, 0.61),\n",
       "       (125, 301, 106, 4, 2.5, 3. , 8.47, 0, 0.57),\n",
       "       (126, 300, 100, 3, 2. , 3. , 8.66, 1, 0.64),\n",
       "       (127, 323, 113, 3, 4. , 3. , 9.32, 1, 0.85),\n",
       "       (128, 319, 112, 3, 2.5, 2. , 8.71, 1, 0.78),\n",
       "       (129, 326, 112, 3, 3.5, 3. , 9.1 , 1, 0.84),\n",
       "       (130, 333, 118, 5, 5. , 5. , 9.35, 1, 0.92),\n",
       "       (131, 339, 114, 5, 4. , 4.5, 9.76, 1, 0.96),\n",
       "       (132, 303, 105, 5, 5. , 4.5, 8.65, 0, 0.77),\n",
       "       (133, 309, 105, 5, 3.5, 3.5, 8.56, 0, 0.71),\n",
       "       (134, 323, 112, 5, 4. , 4.5, 8.78, 0, 0.79),\n",
       "       (135, 333, 113, 5, 4. , 4. , 9.28, 1, 0.89),\n",
       "       (136, 314, 109, 4, 3.5, 4. , 8.77, 1, 0.82),\n",
       "       (137, 312, 103, 3, 5. , 4. , 8.45, 0, 0.76),\n",
       "       (138, 316, 100, 2, 1.5, 3. , 8.16, 1, 0.71),\n",
       "       (139, 326, 116, 2, 4.5, 3. , 9.08, 1, 0.8 ),\n",
       "       (140, 318, 109, 1, 3.5, 3.5, 9.12, 0, 0.78),\n",
       "       (141, 329, 110, 2, 4. , 3. , 9.15, 1, 0.84),\n",
       "       (142, 332, 118, 2, 4.5, 3.5, 9.36, 1, 0.9 ),\n",
       "       (143, 331, 115, 5, 4. , 3.5, 9.44, 1, 0.92),\n",
       "       (144, 340, 120, 4, 4.5, 4. , 9.92, 1, 0.97),\n",
       "       (145, 325, 112, 2, 3. , 3.5, 8.96, 1, 0.8 ),\n",
       "       (146, 320, 113, 2, 2. , 2.5, 8.64, 1, 0.81),\n",
       "       (147, 315, 105, 3, 2. , 2.5, 8.48, 0, 0.75),\n",
       "       (148, 326, 114, 3, 3. , 3. , 9.11, 1, 0.83),\n",
       "       (149, 339, 116, 4, 4. , 3.5, 9.8 , 1, 0.96),\n",
       "       (150, 311, 106, 2, 3.5, 3. , 8.26, 1, 0.79),\n",
       "       (151, 334, 114, 4, 4. , 4. , 9.43, 1, 0.93),\n",
       "       (152, 332, 116, 5, 5. , 5. , 9.28, 1, 0.94),\n",
       "       (153, 321, 112, 5, 5. , 5. , 9.06, 1, 0.86),\n",
       "       (154, 324, 105, 3, 3. , 4. , 8.75, 0, 0.79),\n",
       "       (155, 326, 108, 3, 3. , 3.5, 8.89, 0, 0.8 ),\n",
       "       (156, 312, 109, 3, 3. , 3. , 8.69, 0, 0.77),\n",
       "       (157, 315, 105, 3, 2. , 2.5, 8.34, 0, 0.7 ),\n",
       "       (158, 309, 104, 2, 2. , 2.5, 8.26, 0, 0.65),\n",
       "       (159, 306, 106, 2, 2. , 2.5, 8.14, 0, 0.61),\n",
       "       (160, 297, 100, 1, 1.5, 2. , 7.9 , 0, 0.52),\n",
       "       (161, 315, 103, 1, 1.5, 2. , 7.86, 0, 0.57),\n",
       "       (162, 298,  99, 1, 1.5, 3. , 7.46, 0, 0.53),\n",
       "       (163, 318, 109, 3, 3. , 3. , 8.5 , 0, 0.67),\n",
       "       (164, 317, 105, 3, 3.5, 3. , 8.56, 0, 0.68),\n",
       "       (165, 329, 111, 4, 4.5, 4. , 9.01, 1, 0.81),\n",
       "       (166, 322, 110, 5, 4.5, 4. , 8.97, 0, 0.78),\n",
       "       (167, 302, 102, 3, 3.5, 5. , 8.33, 0, 0.65),\n",
       "       (168, 313, 102, 3, 2. , 3. , 8.27, 0, 0.64),\n",
       "       (169, 293,  97, 2, 2. , 4. , 7.8 , 1, 0.64),\n",
       "       (170, 311,  99, 2, 2.5, 3. , 7.98, 0, 0.65),\n",
       "       (171, 312, 101, 2, 2.5, 3.5, 8.04, 1, 0.68),\n",
       "       (172, 334, 117, 5, 4. , 4.5, 9.07, 1, 0.89),\n",
       "       (173, 322, 110, 4, 4. , 5. , 9.13, 1, 0.86),\n",
       "       (174, 323, 113, 4, 4. , 4.5, 9.23, 1, 0.89),\n",
       "       (175, 321, 111, 4, 4. , 4. , 8.97, 1, 0.87),\n",
       "       (176, 320, 111, 4, 4.5, 3.5, 8.87, 1, 0.85),\n",
       "       (177, 329, 119, 4, 4.5, 4.5, 9.16, 1, 0.9 ),\n",
       "       (178, 319, 110, 3, 3.5, 3.5, 9.04, 0, 0.82),\n",
       "       (179, 309, 108, 3, 2.5, 3. , 8.12, 0, 0.72),\n",
       "       (180, 307, 102, 3, 3. , 3. , 8.27, 0, 0.73),\n",
       "       (181, 300, 104, 3, 3.5, 3. , 8.16, 0, 0.71),\n",
       "       (182, 305, 107, 2, 2.5, 2.5, 8.42, 0, 0.71),\n",
       "       (183, 299, 100, 2, 3. , 3.5, 7.88, 0, 0.68),\n",
       "       (184, 314, 110, 3, 4. , 4. , 8.8 , 0, 0.75),\n",
       "       (185, 316, 106, 2, 2.5, 4. , 8.32, 0, 0.72),\n",
       "       (186, 327, 113, 4, 4.5, 4.5, 9.11, 1, 0.89),\n",
       "       (187, 317, 107, 3, 3.5, 3. , 8.68, 1, 0.84),\n",
       "       (188, 335, 118, 5, 4.5, 3.5, 9.44, 1, 0.93),\n",
       "       (189, 331, 115, 5, 4.5, 3.5, 9.36, 1, 0.93),\n",
       "       (190, 324, 112, 5, 5. , 5. , 9.08, 1, 0.88),\n",
       "       (191, 324, 111, 5, 4.5, 4. , 9.16, 1, 0.9 ),\n",
       "       (192, 323, 110, 5, 4. , 5. , 8.98, 1, 0.87),\n",
       "       (193, 322, 114, 5, 4.5, 4. , 8.94, 1, 0.86),\n",
       "       (194, 336, 118, 5, 4.5, 5. , 9.53, 1, 0.94),\n",
       "       (195, 316, 109, 3, 3.5, 3. , 8.76, 0, 0.77),\n",
       "       (196, 307, 107, 2, 3. , 3.5, 8.52, 1, 0.78),\n",
       "       (197, 306, 105, 2, 3. , 2.5, 8.26, 0, 0.73),\n",
       "       (198, 310, 106, 2, 3.5, 2.5, 8.33, 0, 0.73),\n",
       "       (199, 311, 104, 3, 4.5, 4.5, 8.43, 0, 0.7 ),\n",
       "       (200, 313, 107, 3, 4. , 4.5, 8.69, 0, 0.72),\n",
       "       (201, 317, 103, 3, 2.5, 3. , 8.54, 1, 0.73),\n",
       "       (202, 315, 110, 2, 3.5, 3. , 8.46, 1, 0.72),\n",
       "       (203, 340, 120, 5, 4.5, 4.5, 9.91, 1, 0.97),\n",
       "       (204, 334, 120, 5, 4. , 5. , 9.87, 1, 0.97),\n",
       "       (205, 298, 105, 3, 3.5, 4. , 8.54, 0, 0.69),\n",
       "       (206, 295,  99, 2, 2.5, 3. , 7.65, 0, 0.57),\n",
       "       (207, 315,  99, 2, 3.5, 3. , 7.89, 0, 0.63),\n",
       "       (208, 310, 102, 3, 3.5, 4. , 8.02, 1, 0.66),\n",
       "       (209, 305, 106, 2, 3. , 3. , 8.16, 0, 0.64),\n",
       "       (210, 301, 104, 3, 3.5, 4. , 8.12, 1, 0.68),\n",
       "       (211, 325, 108, 4, 4.5, 4. , 9.06, 1, 0.79),\n",
       "       (212, 328, 110, 4, 5. , 4. , 9.14, 1, 0.82),\n",
       "       (213, 338, 120, 4, 5. , 5. , 9.66, 1, 0.95),\n",
       "       (214, 333, 119, 5, 5. , 4.5, 9.78, 1, 0.96),\n",
       "       (215, 331, 117, 4, 4.5, 5. , 9.42, 1, 0.94),\n",
       "       (216, 330, 116, 5, 5. , 4.5, 9.36, 1, 0.93),\n",
       "       (217, 322, 112, 4, 4.5, 4.5, 9.26, 1, 0.91),\n",
       "       (218, 321, 109, 4, 4. , 4. , 9.13, 1, 0.85),\n",
       "       (219, 324, 110, 4, 3. , 3.5, 8.97, 1, 0.84),\n",
       "       (220, 312, 104, 3, 3.5, 3.5, 8.42, 0, 0.74),\n",
       "       (221, 313, 103, 3, 4. , 4. , 8.75, 0, 0.76),\n",
       "       (222, 316, 110, 3, 3.5, 4. , 8.56, 0, 0.75),\n",
       "       (223, 324, 113, 4, 4.5, 4. , 8.79, 0, 0.76),\n",
       "       (224, 308, 109, 2, 3. , 4. , 8.45, 0, 0.71),\n",
       "       (225, 305, 105, 2, 3. , 2. , 8.23, 0, 0.67),\n",
       "       (226, 296,  99, 2, 2.5, 2.5, 8.03, 0, 0.61),\n",
       "       (227, 306, 110, 2, 3.5, 4. , 8.45, 0, 0.63),\n",
       "       (228, 312, 110, 2, 3.5, 3. , 8.53, 0, 0.64),\n",
       "       (229, 318, 112, 3, 4. , 3.5, 8.67, 0, 0.71),\n",
       "       (230, 324, 111, 4, 3. , 3. , 9.01, 1, 0.82),\n",
       "       (231, 313, 104, 3, 4. , 4.5, 8.65, 0, 0.73),\n",
       "       (232, 319, 106, 3, 3.5, 2.5, 8.33, 1, 0.74),\n",
       "       (233, 312, 107, 2, 2.5, 3.5, 8.27, 0, 0.69),\n",
       "       (234, 304, 100, 2, 2.5, 3.5, 8.07, 0, 0.64),\n",
       "       (235, 330, 113, 5, 5. , 4. , 9.31, 1, 0.91),\n",
       "       (236, 326, 111, 5, 4.5, 4. , 9.23, 1, 0.88),\n",
       "       (237, 325, 112, 4, 4. , 4.5, 9.17, 1, 0.85),\n",
       "       (238, 329, 114, 5, 4.5, 5. , 9.19, 1, 0.86),\n",
       "       (239, 310, 104, 3, 2. , 3.5, 8.37, 0, 0.7 ),\n",
       "       (240, 299, 100, 1, 1.5, 2. , 7.89, 0, 0.59),\n",
       "       (241, 296, 101, 1, 2.5, 3. , 7.68, 0, 0.6 ),\n",
       "       (242, 317, 103, 2, 2.5, 2. , 8.15, 0, 0.65),\n",
       "       (243, 324, 115, 3, 3.5, 3. , 8.76, 1, 0.7 ),\n",
       "       (244, 325, 114, 3, 3.5, 3. , 9.04, 1, 0.76),\n",
       "       (245, 314, 107, 2, 2.5, 4. , 8.56, 0, 0.63),\n",
       "       (246, 328, 110, 4, 4. , 2.5, 9.02, 1, 0.81),\n",
       "       (247, 316, 105, 3, 3. , 3.5, 8.73, 0, 0.72),\n",
       "       (248, 311, 104, 2, 2.5, 3.5, 8.48, 0, 0.71),\n",
       "       (249, 324, 110, 3, 3.5, 4. , 8.87, 1, 0.8 ),\n",
       "       (250, 321, 111, 3, 3.5, 4. , 8.83, 1, 0.77),\n",
       "       (251, 320, 104, 3, 3. , 2.5, 8.57, 1, 0.74),\n",
       "       (252, 316,  99, 2, 2.5, 3. , 9.  , 0, 0.7 ),\n",
       "       (253, 318, 100, 2, 2.5, 3.5, 8.54, 1, 0.71),\n",
       "       (254, 335, 115, 4, 4.5, 4.5, 9.68, 1, 0.93),\n",
       "       (255, 321, 114, 4, 4. , 5. , 9.12, 0, 0.85),\n",
       "       (256, 307, 110, 4, 4. , 4.5, 8.37, 0, 0.79),\n",
       "       (257, 309,  99, 3, 4. , 4. , 8.56, 0, 0.76),\n",
       "       (258, 324, 100, 3, 4. , 5. , 8.64, 1, 0.78),\n",
       "       (259, 326, 102, 4, 5. , 5. , 8.76, 1, 0.77),\n",
       "       (260, 331, 119, 4, 5. , 4.5, 9.34, 1, 0.9 ),\n",
       "       (261, 327, 108, 5, 5. , 3.5, 9.13, 1, 0.87),\n",
       "       (262, 312, 104, 3, 3.5, 4. , 8.09, 0, 0.71),\n",
       "       (263, 308, 103, 2, 2.5, 4. , 8.36, 1, 0.7 ),\n",
       "       (264, 324, 111, 3, 2.5, 1.5, 8.79, 1, 0.7 ),\n",
       "       (265, 325, 110, 2, 3. , 2.5, 8.76, 1, 0.75),\n",
       "       (266, 313, 102, 3, 2.5, 2.5, 8.68, 0, 0.71),\n",
       "       (267, 312, 105, 2, 2. , 2.5, 8.45, 0, 0.72),\n",
       "       (268, 314, 107, 3, 3. , 3.5, 8.17, 1, 0.73),\n",
       "       (269, 327, 113, 4, 4.5, 5. , 9.14, 0, 0.83),\n",
       "       (270, 308, 108, 4, 4.5, 5. , 8.34, 0, 0.77),\n",
       "       (271, 306, 105, 2, 2.5, 3. , 8.22, 1, 0.72),\n",
       "       (272, 299,  96, 2, 1.5, 2. , 7.86, 0, 0.54),\n",
       "       (273, 294,  95, 1, 1.5, 1.5, 7.64, 0, 0.49),\n",
       "       (274, 312,  99, 1, 1. , 1.5, 8.01, 1, 0.52),\n",
       "       (275, 315, 100, 1, 2. , 2.5, 7.95, 0, 0.58),\n",
       "       (276, 322, 110, 3, 3.5, 3. , 8.96, 1, 0.78),\n",
       "       (277, 329, 113, 5, 5. , 4.5, 9.45, 1, 0.89),\n",
       "       (278, 320, 101, 2, 2.5, 3. , 8.62, 0, 0.7 ),\n",
       "       (279, 308, 103, 2, 3. , 3.5, 8.49, 0, 0.66),\n",
       "       (280, 304, 102, 2, 3. , 4. , 8.73, 0, 0.67),\n",
       "       (281, 311, 102, 3, 4.5, 4. , 8.64, 1, 0.68),\n",
       "       (282, 317, 110, 3, 4. , 4.5, 9.11, 1, 0.8 ),\n",
       "       (283, 312, 106, 3, 4. , 3.5, 8.79, 1, 0.81),\n",
       "       (284, 321, 111, 3, 2.5, 3. , 8.9 , 1, 0.8 ),\n",
       "       (285, 340, 112, 4, 5. , 4.5, 9.66, 1, 0.94),\n",
       "       (286, 331, 116, 5, 4. , 4. , 9.26, 1, 0.93),\n",
       "       (287, 336, 118, 5, 4.5, 4. , 9.19, 1, 0.92),\n",
       "       (288, 324, 114, 5, 5. , 4.5, 9.08, 1, 0.89),\n",
       "       (289, 314, 104, 4, 5. , 5. , 9.02, 0, 0.82),\n",
       "       (290, 313, 109, 3, 4. , 3.5, 9.  , 0, 0.79),\n",
       "       (291, 307, 105, 2, 2.5, 3. , 7.65, 0, 0.58),\n",
       "       (292, 300, 102, 2, 1.5, 2. , 7.87, 0, 0.56),\n",
       "       (293, 302,  99, 2, 1. , 2. , 7.97, 0, 0.56),\n",
       "       (294, 312,  98, 1, 3.5, 3. , 8.18, 1, 0.64),\n",
       "       (295, 316, 101, 2, 2.5, 2. , 8.32, 1, 0.61),\n",
       "       (296, 317, 100, 2, 3. , 2.5, 8.57, 0, 0.68),\n",
       "       (297, 310, 107, 3, 3.5, 3.5, 8.67, 0, 0.76),\n",
       "       (298, 320, 120, 3, 4. , 4.5, 9.11, 0, 0.86),\n",
       "       (299, 330, 114, 3, 4.5, 4.5, 9.24, 1, 0.9 ),\n",
       "       (300, 305, 112, 3, 3. , 3.5, 8.65, 0, 0.71),\n",
       "       (301, 309, 106, 2, 2.5, 2.5, 8.  , 0, 0.62),\n",
       "       (302, 319, 108, 2, 2.5, 3. , 8.76, 0, 0.66),\n",
       "       (303, 322, 105, 2, 3. , 3. , 8.45, 1, 0.65),\n",
       "       (304, 323, 107, 3, 3.5, 3.5, 8.55, 1, 0.73),\n",
       "       (305, 313, 106, 2, 2.5, 2. , 8.43, 0, 0.62),\n",
       "       (306, 321, 109, 3, 3.5, 3.5, 8.8 , 1, 0.74),\n",
       "       (307, 323, 110, 3, 4. , 3.5, 9.1 , 1, 0.79),\n",
       "       (308, 325, 112, 4, 4. , 4. , 9.  , 1, 0.8 ),\n",
       "       (309, 312, 108, 3, 3.5, 3. , 8.53, 0, 0.69),\n",
       "       (310, 308, 110, 4, 3.5, 3. , 8.6 , 0, 0.7 ),\n",
       "       (311, 320, 104, 3, 3. , 3.5, 8.74, 1, 0.76),\n",
       "       (312, 328, 108, 4, 4.5, 4. , 9.18, 1, 0.84),\n",
       "       (313, 311, 107, 4, 4.5, 4.5, 9.  , 1, 0.78),\n",
       "       (314, 301, 100, 3, 3.5, 3. , 8.04, 0, 0.67),\n",
       "       (315, 305, 105, 2, 3. , 4. , 8.13, 0, 0.66),\n",
       "       (316, 308, 104, 2, 2.5, 3. , 8.07, 0, 0.65),\n",
       "       (317, 298, 101, 2, 1.5, 2. , 7.86, 0, 0.54),\n",
       "       (318, 300,  99, 1, 1. , 2.5, 8.01, 0, 0.58),\n",
       "       (319, 324, 111, 3, 2.5, 2. , 8.8 , 1, 0.79),\n",
       "       (320, 327, 113, 4, 3.5, 3. , 8.69, 1, 0.8 ),\n",
       "       (321, 317, 106, 3, 4. , 3.5, 8.5 , 1, 0.75),\n",
       "       (322, 323, 104, 3, 4. , 4. , 8.44, 1, 0.73),\n",
       "       (323, 314, 107, 2, 2.5, 4. , 8.27, 0, 0.72),\n",
       "       (324, 305, 102, 2, 2. , 2.5, 8.18, 0, 0.62),\n",
       "       (325, 315, 104, 3, 3. , 2.5, 8.33, 0, 0.67),\n",
       "       (326, 326, 116, 3, 3.5, 4. , 9.14, 1, 0.81),\n",
       "       (327, 299, 100, 3, 2. , 2. , 8.02, 0, 0.63),\n",
       "       (328, 295, 101, 2, 2.5, 2. , 7.86, 0, 0.69),\n",
       "       (329, 324, 112, 4, 4. , 3.5, 8.77, 1, 0.8 ),\n",
       "       (330, 297,  96, 2, 2.5, 1.5, 7.89, 0, 0.43),\n",
       "       (331, 327, 113, 3, 3.5, 3. , 8.66, 1, 0.8 ),\n",
       "       (332, 311, 105, 2, 3. , 2. , 8.12, 1, 0.73),\n",
       "       (333, 308, 106, 3, 3.5, 2.5, 8.21, 1, 0.75),\n",
       "       (334, 319, 108, 3, 3. , 3.5, 8.54, 1, 0.71),\n",
       "       (335, 312, 107, 4, 4.5, 4. , 8.65, 1, 0.73),\n",
       "       (336, 325, 111, 4, 4. , 4.5, 9.11, 1, 0.83),\n",
       "       (337, 319, 110, 3, 3. , 2.5, 8.79, 0, 0.72),\n",
       "       (338, 332, 118, 5, 5. , 5. , 9.47, 1, 0.94),\n",
       "       (339, 323, 108, 5, 4. , 4. , 8.74, 1, 0.81),\n",
       "       (340, 324, 107, 5, 3.5, 4. , 8.66, 1, 0.81),\n",
       "       (341, 312, 107, 3, 3. , 3. , 8.46, 1, 0.75),\n",
       "       (342, 326, 110, 3, 3.5, 3.5, 8.76, 1, 0.79),\n",
       "       (343, 308, 106, 3, 3. , 3. , 8.24, 0, 0.58),\n",
       "       (344, 305, 103, 2, 2.5, 3.5, 8.13, 0, 0.59),\n",
       "       (345, 295,  96, 2, 1.5, 2. , 7.34, 0, 0.47),\n",
       "       (346, 316,  98, 1, 1.5, 2. , 7.43, 0, 0.49),\n",
       "       (347, 304,  97, 2, 1.5, 2. , 7.64, 0, 0.47),\n",
       "       (348, 299,  94, 1, 1. , 1. , 7.34, 0, 0.42),\n",
       "       (349, 302,  99, 1, 2. , 2. , 7.25, 0, 0.57),\n",
       "       (350, 313, 101, 3, 2.5, 3. , 8.04, 0, 0.62),\n",
       "       (351, 318, 107, 3, 3. , 3.5, 8.27, 1, 0.74),\n",
       "       (352, 325, 110, 4, 3.5, 4. , 8.67, 1, 0.73),\n",
       "       (353, 303, 100, 2, 3. , 3.5, 8.06, 1, 0.64),\n",
       "       (354, 300, 102, 3, 3.5, 2.5, 8.17, 0, 0.63),\n",
       "       (355, 297,  98, 2, 2.5, 3. , 7.67, 0, 0.59),\n",
       "       (356, 317, 106, 2, 2. , 3.5, 8.12, 0, 0.73),\n",
       "       (357, 327, 109, 3, 3.5, 4. , 8.77, 1, 0.79),\n",
       "       (358, 301, 104, 2, 3.5, 3.5, 7.89, 1, 0.68),\n",
       "       (359, 314, 105, 2, 2.5, 2. , 7.64, 0, 0.7 ),\n",
       "       (360, 321, 107, 2, 2. , 1.5, 8.44, 0, 0.81),\n",
       "       (361, 322, 110, 3, 4. , 5. , 8.64, 1, 0.85),\n",
       "       (362, 334, 116, 4, 4. , 3.5, 9.54, 1, 0.93),\n",
       "       (363, 338, 115, 5, 4.5, 5. , 9.23, 1, 0.91),\n",
       "       (364, 306, 103, 2, 2.5, 3. , 8.36, 0, 0.69),\n",
       "       (365, 313, 102, 3, 3.5, 4. , 8.9 , 1, 0.77),\n",
       "       (366, 330, 114, 4, 4.5, 3. , 9.17, 1, 0.86),\n",
       "       (367, 320, 104, 3, 3.5, 4.5, 8.34, 1, 0.74),\n",
       "       (368, 311,  98, 1, 1. , 2.5, 7.46, 0, 0.57),\n",
       "       (369, 298,  92, 1, 2. , 2. , 7.88, 0, 0.51),\n",
       "       (370, 301,  98, 1, 2. , 3. , 8.03, 1, 0.67),\n",
       "       (371, 310, 103, 2, 2.5, 2.5, 8.24, 0, 0.72),\n",
       "       (372, 324, 110, 3, 3.5, 3. , 9.22, 1, 0.89),\n",
       "       (373, 336, 119, 4, 4.5, 4. , 9.62, 1, 0.95),\n",
       "       (374, 321, 109, 3, 3. , 3. , 8.54, 1, 0.79),\n",
       "       (375, 315, 105, 2, 2. , 2.5, 7.65, 0, 0.39),\n",
       "       (376, 304, 101, 2, 2. , 2.5, 7.66, 0, 0.38),\n",
       "       (377, 297,  96, 2, 2.5, 2. , 7.43, 0, 0.34),\n",
       "       (378, 290, 100, 1, 1.5, 2. , 7.56, 0, 0.47),\n",
       "       (379, 303,  98, 1, 2. , 2.5, 7.65, 0, 0.56),\n",
       "       (380, 311,  99, 1, 2.5, 3. , 8.43, 1, 0.71),\n",
       "       (381, 322, 104, 3, 3.5, 4. , 8.84, 1, 0.78),\n",
       "       (382, 319, 105, 3, 3. , 3.5, 8.67, 1, 0.73),\n",
       "       (383, 324, 110, 4, 4.5, 4. , 9.15, 1, 0.82),\n",
       "       (384, 300, 100, 3, 3. , 3.5, 8.26, 0, 0.62),\n",
       "       (385, 340, 113, 4, 5. , 5. , 9.74, 1, 0.96),\n",
       "       (386, 335, 117, 5, 5. , 5. , 9.82, 1, 0.96),\n",
       "       (387, 302, 101, 2, 2.5, 3.5, 7.96, 0, 0.46),\n",
       "       (388, 307, 105, 2, 2. , 3.5, 8.1 , 0, 0.53),\n",
       "       (389, 296,  97, 2, 1.5, 2. , 7.8 , 0, 0.49),\n",
       "       (390, 320, 108, 3, 3.5, 4. , 8.44, 1, 0.76),\n",
       "       (391, 314, 102, 2, 2. , 2.5, 8.24, 0, 0.64),\n",
       "       (392, 318, 106, 3, 2. , 3. , 8.65, 0, 0.71),\n",
       "       (393, 326, 112, 4, 4. , 3.5, 9.12, 1, 0.84),\n",
       "       (394, 317, 104, 2, 3. , 3. , 8.76, 0, 0.77),\n",
       "       (395, 329, 111, 4, 4.5, 4. , 9.23, 1, 0.89),\n",
       "       (396, 324, 110, 3, 3.5, 3.5, 9.04, 1, 0.82),\n",
       "       (397, 325, 107, 3, 3. , 3.5, 9.11, 1, 0.84),\n",
       "       (398, 330, 116, 4, 5. , 4.5, 9.45, 1, 0.91),\n",
       "       (399, 312, 103, 3, 3.5, 4. , 8.78, 0, 0.67),\n",
       "       (400, 333, 117, 4, 5. , 4. , 9.66, 1, 0.95)],\n",
       "      dtype=[('Serial_No', '<i4'), ('GRE_Score', '<i4'), ('TOEFL_Score', '<i4'), ('University_Rating', '<i4'), ('SOP', '<f8'), ('LOR', '<f8'), ('CGPA', '<f8'), ('Research', '<i4'), ('Chance_of_Admit', '<f8')])"
      ]
     },
     "execution_count": 62,
     "metadata": {},
     "output_type": "execute_result"
    }
   ],
   "source": [
    "# We can specify data field names when using genfromtxt() to loads CSV data. Also, we can have numpy try and\n",
    "# infer the type of a column by setting the dtype parameter to None\n",
    "\n",
    "graduate_admission = np.genfromtxt('C:/Users/tkhan050/Documents/Blogs/Study Materials/Introduction to Data Science in Python/Admission_Predict.csv',\n",
    "                                   dtype = None, delimiter = ',',skip_header = 1,\n",
    "                                   names = ('Serial No','GRE Score', 'TOEFL Score', 'University Rating', 'SOP',\n",
    "                                          'LOR','CGPA','Research', 'Chance of Admit'))\n",
    "graduate_admission"
   ]
  },
  {
   "cell_type": "code",
   "execution_count": 63,
   "id": "7e19a304",
   "metadata": {},
   "outputs": [
    {
     "data": {
      "text/plain": [
       "(400,)"
      ]
     },
     "execution_count": 63,
     "metadata": {},
     "output_type": "execute_result"
    }
   ],
   "source": [
    "# Notice that the resulting array is actually a one-dimensional array with 400 tuples\n",
    "graduate_admission.shape"
   ]
  },
  {
   "cell_type": "code",
   "execution_count": 65,
   "id": "5829b32f",
   "metadata": {},
   "outputs": [
    {
     "data": {
      "text/plain": [
       "array([9.65, 8.87, 8.  , 8.67, 8.21])"
      ]
     },
     "execution_count": 65,
     "metadata": {},
     "output_type": "execute_result"
    }
   ],
   "source": [
    "# We can retrieve a column from the array using the column's name for example, let's get the CGPA column and\n",
    "# only the first five values.\n",
    "\n",
    "graduate_admission['CGPA'][0:5]"
   ]
  },
  {
   "cell_type": "code",
   "execution_count": 66,
   "id": "ab801c3b",
   "metadata": {
    "scrolled": true
   },
   "outputs": [
    {
     "data": {
      "text/plain": [
       "array([3.86 , 3.548, 3.2  , 3.468, 3.284, 3.736, 3.28 , 3.16 , 3.2  ,\n",
       "       3.44 , 3.36 , 3.6  , 3.64 , 3.2  , 3.28 , 3.32 , 3.48 , 3.2  ,\n",
       "       3.52 , 3.4  ])"
      ]
     },
     "execution_count": 66,
     "metadata": {},
     "output_type": "execute_result"
    }
   ],
   "source": [
    "# Since the GPA in the dataset range from 1 to 10, and in the US it's more common to use a scale of up to 4,\n",
    "# a common task might be to convert the GPA by dividing by 10 and then multiplying by 4\n",
    "\n",
    "graduate_admission['CGPA'] = graduate_admission['CGPA']/10*4\n",
    "graduate_admission['CGPA'][0:20]"
   ]
  },
  {
   "cell_type": "code",
   "execution_count": 69,
   "id": "1a54a6e8",
   "metadata": {
    "scrolled": true
   },
   "outputs": [
    {
     "name": "stdout",
     "output_type": "stream",
     "text": [
      "219\n"
     ]
    }
   ],
   "source": [
    "# Recall boolean masking. We can use this to find out how many students have had research experience by\n",
    "# creating a boolean mask and passing it to the array indexing operator\n",
    "\n",
    "print(len(graduate_admission[graduate_admission['Research']==1]))"
   ]
  },
  {
   "cell_type": "code",
   "execution_count": 73,
   "id": "c2302df6",
   "metadata": {},
   "outputs": [
    {
     "name": "stdout",
     "output_type": "stream",
     "text": [
      "328.7350427350427\n",
      "302.2857142857143\n"
     ]
    }
   ],
   "source": [
    "# Since we have the data field chance of admission, which ranges from 0 to 1, we can try to see if students\n",
    "# with high chance of admission (>0.8) on average have higher GRE score than those with lower chance of\n",
    "# admission (<0.4)\n",
    "\n",
    "\n",
    "\n",
    "# So first we use boolean masking to pull out only those students we are interested in based on their chance\n",
    "# of admission, then we pull out only their GPA scores, then we print the mean values.\n",
    "\n",
    "print(graduate_admission[graduate_admission['Chance_of_Admit']>0.8]['GRE_Score'].mean())\n",
    "print(graduate_admission[graduate_admission['Chance_of_Admit']<0.4]['GRE_Score'].mean())\n",
    "\n"
   ]
  },
  {
   "cell_type": "code",
   "execution_count": 74,
   "id": "1a4609f7",
   "metadata": {},
   "outputs": [
    {
     "data": {
      "text/plain": [
       "array([(  1, 337, 118, 4, 4.5, 4.5, 3.86 , 1, 0.92),\n",
       "       (  6, 330, 115, 5, 4.5, 3. , 3.736, 1, 0.9 ),\n",
       "       ( 12, 327, 111, 4, 4. , 4.5, 3.6  , 1, 0.84),\n",
       "       ( 23, 328, 116, 5, 5. , 5. , 3.8  , 1, 0.94),\n",
       "       ( 24, 334, 119, 5, 5. , 4.5, 3.88 , 1, 0.95),\n",
       "       ( 25, 336, 119, 5, 4. , 3.5, 3.92 , 1, 0.97),\n",
       "       ( 26, 340, 120, 5, 4.5, 4.5, 3.84 , 1, 0.94),\n",
       "       ( 33, 338, 118, 4, 3. , 4.5, 3.76 , 1, 0.91),\n",
       "       ( 34, 340, 114, 5, 4. , 4. , 3.84 , 1, 0.9 ),\n",
       "       ( 35, 331, 112, 5, 4. , 5. , 3.92 , 1, 0.94),\n",
       "       ( 36, 320, 110, 5, 5. , 5. , 3.68 , 1, 0.88),\n",
       "       ( 44, 332, 117, 4, 4.5, 4. , 3.64 , 0, 0.87),\n",
       "       ( 45, 326, 113, 5, 4.5, 4. , 3.76 , 1, 0.91),\n",
       "       ( 46, 322, 110, 5, 5. , 4. , 3.64 , 1, 0.88),\n",
       "       ( 47, 329, 114, 5, 4. , 5. , 3.72 , 1, 0.86),\n",
       "       ( 48, 339, 119, 5, 4.5, 4. , 3.88 , 0, 0.89),\n",
       "       ( 49, 321, 110, 3, 3.5, 5. , 3.54 , 1, 0.82),\n",
       "       ( 71, 332, 118, 5, 5. , 5. , 3.856, 1, 0.94),\n",
       "       ( 72, 336, 112, 5, 5. , 5. , 3.904, 1, 0.96),\n",
       "       ( 73, 321, 111, 5, 5. , 5. , 3.78 , 1, 0.93),\n",
       "       ( 74, 314, 108, 4, 4.5, 4. , 3.616, 1, 0.84),\n",
       "       ( 82, 340, 120, 4, 5. , 5. , 3.8  , 1, 0.96),\n",
       "       ( 83, 320, 110, 5, 5. , 4.5, 3.688, 1, 0.92),\n",
       "       ( 84, 322, 115, 5, 4. , 4.5, 3.744, 1, 0.92),\n",
       "       ( 85, 340, 115, 5, 4.5, 4.5, 3.78 , 1, 0.94),\n",
       "       ( 98, 331, 120, 3, 4. , 4. , 3.584, 1, 0.86),\n",
       "       ( 99, 332, 119, 4, 5. , 4.5, 3.696, 1, 0.9 ),\n",
       "       (107, 329, 111, 4, 4.5, 4.5, 3.672, 1, 0.87),\n",
       "       (108, 338, 117, 4, 3.5, 4.5, 3.784, 1, 0.91),\n",
       "       (109, 331, 116, 5, 5. , 5. , 3.752, 1, 0.93),\n",
       "       (121, 335, 117, 5, 5. , 5. , 3.824, 1, 0.94),\n",
       "       (122, 334, 119, 5, 4.5, 4.5, 3.792, 1, 0.94),\n",
       "       (127, 323, 113, 3, 4. , 3. , 3.728, 1, 0.85),\n",
       "       (129, 326, 112, 3, 3.5, 3. , 3.64 , 1, 0.84),\n",
       "       (130, 333, 118, 5, 5. , 5. , 3.74 , 1, 0.92),\n",
       "       (131, 339, 114, 5, 4. , 4.5, 3.904, 1, 0.96),\n",
       "       (135, 333, 113, 5, 4. , 4. , 3.712, 1, 0.89),\n",
       "       (136, 314, 109, 4, 3.5, 4. , 3.508, 1, 0.82),\n",
       "       (141, 329, 110, 2, 4. , 3. , 3.66 , 1, 0.84),\n",
       "       (142, 332, 118, 2, 4.5, 3.5, 3.744, 1, 0.9 ),\n",
       "       (143, 331, 115, 5, 4. , 3.5, 3.776, 1, 0.92),\n",
       "       (144, 340, 120, 4, 4.5, 4. , 3.968, 1, 0.97),\n",
       "       (146, 320, 113, 2, 2. , 2.5, 3.456, 1, 0.81),\n",
       "       (148, 326, 114, 3, 3. , 3. , 3.644, 1, 0.83),\n",
       "       (149, 339, 116, 4, 4. , 3.5, 3.92 , 1, 0.96),\n",
       "       (151, 334, 114, 4, 4. , 4. , 3.772, 1, 0.93),\n",
       "       (152, 332, 116, 5, 5. , 5. , 3.712, 1, 0.94),\n",
       "       (153, 321, 112, 5, 5. , 5. , 3.624, 1, 0.86),\n",
       "       (165, 329, 111, 4, 4.5, 4. , 3.604, 1, 0.81),\n",
       "       (172, 334, 117, 5, 4. , 4.5, 3.628, 1, 0.89),\n",
       "       (173, 322, 110, 4, 4. , 5. , 3.652, 1, 0.86),\n",
       "       (174, 323, 113, 4, 4. , 4.5, 3.692, 1, 0.89),\n",
       "       (175, 321, 111, 4, 4. , 4. , 3.588, 1, 0.87),\n",
       "       (176, 320, 111, 4, 4.5, 3.5, 3.548, 1, 0.85),\n",
       "       (177, 329, 119, 4, 4.5, 4.5, 3.664, 1, 0.9 ),\n",
       "       (178, 319, 110, 3, 3.5, 3.5, 3.616, 0, 0.82),\n",
       "       (186, 327, 113, 4, 4.5, 4.5, 3.644, 1, 0.89),\n",
       "       (187, 317, 107, 3, 3.5, 3. , 3.472, 1, 0.84),\n",
       "       (188, 335, 118, 5, 4.5, 3.5, 3.776, 1, 0.93),\n",
       "       (189, 331, 115, 5, 4.5, 3.5, 3.744, 1, 0.93),\n",
       "       (190, 324, 112, 5, 5. , 5. , 3.632, 1, 0.88),\n",
       "       (191, 324, 111, 5, 4.5, 4. , 3.664, 1, 0.9 ),\n",
       "       (192, 323, 110, 5, 4. , 5. , 3.592, 1, 0.87),\n",
       "       (193, 322, 114, 5, 4.5, 4. , 3.576, 1, 0.86),\n",
       "       (194, 336, 118, 5, 4.5, 5. , 3.812, 1, 0.94),\n",
       "       (203, 340, 120, 5, 4.5, 4.5, 3.964, 1, 0.97),\n",
       "       (204, 334, 120, 5, 4. , 5. , 3.948, 1, 0.97),\n",
       "       (212, 328, 110, 4, 5. , 4. , 3.656, 1, 0.82),\n",
       "       (213, 338, 120, 4, 5. , 5. , 3.864, 1, 0.95),\n",
       "       (214, 333, 119, 5, 5. , 4.5, 3.912, 1, 0.96),\n",
       "       (215, 331, 117, 4, 4.5, 5. , 3.768, 1, 0.94),\n",
       "       (216, 330, 116, 5, 5. , 4.5, 3.744, 1, 0.93),\n",
       "       (217, 322, 112, 4, 4.5, 4.5, 3.704, 1, 0.91),\n",
       "       (218, 321, 109, 4, 4. , 4. , 3.652, 1, 0.85),\n",
       "       (219, 324, 110, 4, 3. , 3.5, 3.588, 1, 0.84),\n",
       "       (230, 324, 111, 4, 3. , 3. , 3.604, 1, 0.82),\n",
       "       (235, 330, 113, 5, 5. , 4. , 3.724, 1, 0.91),\n",
       "       (236, 326, 111, 5, 4.5, 4. , 3.692, 1, 0.88),\n",
       "       (237, 325, 112, 4, 4. , 4.5, 3.668, 1, 0.85),\n",
       "       (238, 329, 114, 5, 4.5, 5. , 3.676, 1, 0.86),\n",
       "       (246, 328, 110, 4, 4. , 2.5, 3.608, 1, 0.81),\n",
       "       (254, 335, 115, 4, 4.5, 4.5, 3.872, 1, 0.93),\n",
       "       (255, 321, 114, 4, 4. , 5. , 3.648, 0, 0.85),\n",
       "       (260, 331, 119, 4, 5. , 4.5, 3.736, 1, 0.9 ),\n",
       "       (261, 327, 108, 5, 5. , 3.5, 3.652, 1, 0.87),\n",
       "       (269, 327, 113, 4, 4.5, 5. , 3.656, 0, 0.83),\n",
       "       (277, 329, 113, 5, 5. , 4.5, 3.78 , 1, 0.89),\n",
       "       (283, 312, 106, 3, 4. , 3.5, 3.516, 1, 0.81),\n",
       "       (285, 340, 112, 4, 5. , 4.5, 3.864, 1, 0.94),\n",
       "       (286, 331, 116, 5, 4. , 4. , 3.704, 1, 0.93),\n",
       "       (287, 336, 118, 5, 4.5, 4. , 3.676, 1, 0.92),\n",
       "       (288, 324, 114, 5, 5. , 4.5, 3.632, 1, 0.89),\n",
       "       (289, 314, 104, 4, 5. , 5. , 3.608, 0, 0.82),\n",
       "       (298, 320, 120, 3, 4. , 4.5, 3.644, 0, 0.86),\n",
       "       (299, 330, 114, 3, 4.5, 4.5, 3.696, 1, 0.9 ),\n",
       "       (312, 328, 108, 4, 4.5, 4. , 3.672, 1, 0.84),\n",
       "       (326, 326, 116, 3, 3.5, 4. , 3.656, 1, 0.81),\n",
       "       (336, 325, 111, 4, 4. , 4.5, 3.644, 1, 0.83),\n",
       "       (338, 332, 118, 5, 5. , 5. , 3.788, 1, 0.94),\n",
       "       (339, 323, 108, 5, 4. , 4. , 3.496, 1, 0.81),\n",
       "       (340, 324, 107, 5, 3.5, 4. , 3.464, 1, 0.81),\n",
       "       (360, 321, 107, 2, 2. , 1.5, 3.376, 0, 0.81),\n",
       "       (361, 322, 110, 3, 4. , 5. , 3.456, 1, 0.85),\n",
       "       (362, 334, 116, 4, 4. , 3.5, 3.816, 1, 0.93),\n",
       "       (363, 338, 115, 5, 4.5, 5. , 3.692, 1, 0.91),\n",
       "       (366, 330, 114, 4, 4.5, 3. , 3.668, 1, 0.86),\n",
       "       (372, 324, 110, 3, 3.5, 3. , 3.688, 1, 0.89),\n",
       "       (373, 336, 119, 4, 4.5, 4. , 3.848, 1, 0.95),\n",
       "       (383, 324, 110, 4, 4.5, 4. , 3.66 , 1, 0.82),\n",
       "       (385, 340, 113, 4, 5. , 5. , 3.896, 1, 0.96),\n",
       "       (386, 335, 117, 5, 5. , 5. , 3.928, 1, 0.96),\n",
       "       (393, 326, 112, 4, 4. , 3.5, 3.648, 1, 0.84),\n",
       "       (395, 329, 111, 4, 4.5, 4. , 3.692, 1, 0.89),\n",
       "       (396, 324, 110, 3, 3.5, 3.5, 3.616, 1, 0.82),\n",
       "       (397, 325, 107, 3, 3. , 3.5, 3.644, 1, 0.84),\n",
       "       (398, 330, 116, 4, 5. , 4.5, 3.78 , 1, 0.91),\n",
       "       (400, 333, 117, 4, 5. , 4. , 3.864, 1, 0.95)],\n",
       "      dtype=[('Serial_No', '<i4'), ('GRE_Score', '<i4'), ('TOEFL_Score', '<i4'), ('University_Rating', '<i4'), ('SOP', '<f8'), ('LOR', '<f8'), ('CGPA', '<f8'), ('Research', '<i4'), ('Chance_of_Admit', '<f8')])"
      ]
     },
     "execution_count": 74,
     "metadata": {},
     "output_type": "execute_result"
    }
   ],
   "source": [
    "# When we do the boolean masking we are left with an array with tuples in it still, and numpy holds underneath\n",
    "# this a list of the columns we specified and their name and indexes.\n",
    "\n",
    "graduate_admission[graduate_admission['Chance_of_Admit']>0.8]"
   ]
  },
  {
   "cell_type": "code",
   "execution_count": 76,
   "id": "604e5d8c",
   "metadata": {},
   "outputs": [
    {
     "name": "stdout",
     "output_type": "stream",
     "text": [
      "3.7106666666666666\n",
      "3.0222857142857142\n"
     ]
    }
   ],
   "source": [
    "# Let's also do this with GPA\n",
    "print(graduate_admission[graduate_admission['Chance_of_Admit']>0.8]['CGPA'].mean())\n",
    "print(graduate_admission[graduate_admission['Chance_of_Admit']<0.4]['CGPA'].mean())"
   ]
  },
  {
   "cell_type": "code",
   "execution_count": 77,
   "id": "83186d30",
   "metadata": {},
   "outputs": [],
   "source": [
    "# Hrm, well, I guess one could have expected this. The GPA and GRE for students who have a higher chance of\n",
    "# being admitted, at least based on our cursory look here, seems to be higher."
   ]
  },
  {
   "cell_type": "markdown",
   "id": "a44f3675",
   "metadata": {},
   "source": [
    "# Regex"
   ]
  },
  {
   "cell_type": "code",
   "execution_count": 78,
   "id": "d971a7ad",
   "metadata": {},
   "outputs": [],
   "source": [
    "# First we'll import the re module, which is where python stores regular expression libraries.\n",
    "\n",
    "import re"
   ]
  },
  {
   "cell_type": "markdown",
   "id": "7e0cd3e4",
   "metadata": {},
   "source": [
    "## re.search()"
   ]
  },
  {
   "cell_type": "code",
   "execution_count": 79,
   "id": "95d69e2d",
   "metadata": {},
   "outputs": [
    {
     "name": "stdout",
     "output_type": "stream",
     "text": [
      "Wonderful\n"
     ]
    }
   ],
   "source": [
    "# There are several main processing functions in re that you might use. The first, match() checks for a match\n",
    "# that is at the beginning of the string and returns a boolean. Similarly, search(), checks for a match\n",
    "# anywhere in the string, and returns a boolean.\n",
    "\n",
    "#lets create some text for an example\n",
    "text = \"This is a good day\"\n",
    "\n",
    "# now let's see it's a ood day or not:\n",
    "\n",
    "if re.search(\"good\",text):\n",
    "    print(\"Wonderful\")\n",
    "else:\n",
    "    print(\"Not wonderful\")"
   ]
  },
  {
   "cell_type": "markdown",
   "id": "41343c74",
   "metadata": {},
   "source": [
    "## re.findall() and re.split()"
   ]
  },
  {
   "cell_type": "code",
   "execution_count": 95,
   "id": "5a9494b2",
   "metadata": {},
   "outputs": [
    {
     "data": {
      "text/plain": [
       "['', ' works diligently. ', ' gets good grades.Our student ', ' is succesful.']"
      ]
     },
     "execution_count": 95,
     "metadata": {},
     "output_type": "execute_result"
    }
   ],
   "source": [
    "# In addition to checking for conditionals, we can segment a string. The work that regex does here is called\n",
    "# tokenizing, where the string is separated into substrings based on patterns. \n",
    "\n",
    "# The findall() and split() functions will parse the string for us and return chunks. Lets try and example\n",
    "text = \"Amy works diligently. Amy gets good grades.Our student Amy is succesful.\"\n",
    "\n",
    "re.split(\"Amy\", text)"
   ]
  },
  {
   "cell_type": "code",
   "execution_count": 96,
   "id": "53e3872d",
   "metadata": {},
   "outputs": [
    {
     "data": {
      "text/plain": [
       "['Amy', 'Amy', 'Amy']"
      ]
     },
     "execution_count": 96,
     "metadata": {},
     "output_type": "execute_result"
    }
   ],
   "source": [
    "# You'll notice that split has returned an empty string, followed by a number of statements about Amy, all as\n",
    "# elements of a list. If we wanted to count how many times we have talked about Amy, we could use findall()\n",
    "\n",
    "re.findall(\"Amy\",text)"
   ]
  },
  {
   "cell_type": "code",
   "execution_count": 97,
   "id": "ac4bda2b",
   "metadata": {},
   "outputs": [],
   "source": [
    "# Ok, so we've seen that .search() looks for some pattern and returns a boolean, that .split() will use a\n",
    "# pattern for creating a list of substrings, and that .findall() will look for a pattern and pull out all\n",
    "# occurences."
   ]
  },
  {
   "cell_type": "code",
   "execution_count": 98,
   "id": "40b793af",
   "metadata": {},
   "outputs": [
    {
     "data": {
      "text/plain": [
       "<re.Match object; span=(0, 3), match='Amy'>"
      ]
     },
     "execution_count": 98,
     "metadata": {},
     "output_type": "execute_result"
    }
   ],
   "source": [
    "# Now that we know how the python regex API works, lets talk about more complex patterns. The regex\n",
    "# specification standard defines a markup language to describe patterns in text. Lets start with anchors.\n",
    "# Anchors specify the start and/or the end of the string that you are trying to match. The caret character ^\n",
    "# means start and the dollar sign character $ means end. If you put ^ before a string, it means that the text\n",
    "# the regex processor retrieves must start with the string you specify. For ending, you have to put the $\n",
    "# character after the string, it means that the text Regex retrieves must end with the string you specify.\n",
    "\n",
    "\n",
    "# Here's an example\n",
    "text = \"Amy works diligently. Amy gets good grades. Our student Amy is succesful.\"\n",
    "\n",
    "# Lets see if this begins with Amy\n",
    "re.search(\"^Amy\",text)\n"
   ]
  },
  {
   "cell_type": "code",
   "execution_count": 99,
   "id": "58166795",
   "metadata": {},
   "outputs": [],
   "source": [
    "# Notice that re.search() actually returned to us a new object, called re.Match object. An re.Match object\n",
    "# always has a boolean value of True, as something was found, so you can always evaluate it in an if statement\n",
    "# as we did earlier. The rendering of the match object also tells you what pattern was matched, in this case\n",
    "# the word Amy, and the location the match was in, as the span."
   ]
  },
  {
   "cell_type": "markdown",
   "id": "a42d3b56",
   "metadata": {},
   "source": [
    "## Patterns and character classes"
   ]
  },
  {
   "cell_type": "code",
   "execution_count": 100,
   "id": "5d347cdd",
   "metadata": {},
   "outputs": [
    {
     "data": {
      "text/plain": [
       "['B', 'B', 'B']"
      ]
     },
     "execution_count": 100,
     "metadata": {},
     "output_type": "execute_result"
    }
   ],
   "source": [
    "# Let's talk more about patterns and start with character classes. Let's create a string of a single learners'\n",
    "# grades over a semester in one course across all of their assignments\n",
    "\n",
    "grades=\"ACAAAABCBCBAA\"\n",
    "\n",
    "# If we want to answer the question \"How many B's were in the grade list?\" we would just use B\n",
    "\n",
    "re.findall(\"B\",grades)"
   ]
  },
  {
   "cell_type": "code",
   "execution_count": 101,
   "id": "485db6ce",
   "metadata": {},
   "outputs": [
    {
     "data": {
      "text/plain": [
       "['A', 'A', 'A', 'A', 'A', 'B', 'B', 'B', 'A', 'A']"
      ]
     },
     "execution_count": 101,
     "metadata": {},
     "output_type": "execute_result"
    }
   ],
   "source": [
    "# If we wanted to count the number of A's or B's in the list, we can't use \"AB\" since this is used to match\n",
    "# all A's followed immediately by a B. Instead, we put the characters A and B inside square brackets\n",
    "\n",
    "re.findall(\"[AB]\", grades)"
   ]
  },
  {
   "cell_type": "code",
   "execution_count": 102,
   "id": "7162d78f",
   "metadata": {},
   "outputs": [
    {
     "data": {
      "text/plain": [
       "['AC', 'AB']"
      ]
     },
     "execution_count": 102,
     "metadata": {},
     "output_type": "execute_result"
    }
   ],
   "source": [
    "# This is called the set operator. You can also include a range of characters, which are ordered\n",
    "# alphanumerically. For instance, if we want to refer to all lower case letters we could use [a-z] Lets build\n",
    "# a simple regex to parse out all instances where this student receive an A followed by a B or a C\n",
    "\n",
    "re.findall(\"[A][B-C]\",grades)"
   ]
  },
  {
   "cell_type": "code",
   "execution_count": 104,
   "id": "8ac0d63d",
   "metadata": {},
   "outputs": [
    {
     "data": {
      "text/plain": [
       "['AC', 'AB']"
      ]
     },
     "execution_count": 104,
     "metadata": {},
     "output_type": "execute_result"
    }
   ],
   "source": [
    "# Notice how the [AB] pattern describes a set of possible characters which could be either (A OR B), while the\n",
    "# [A][B-C] pattern denoted two sets of characters which must have been matched back to back. You can write\n",
    "# this pattern by using the pipe operator, which means OR\n",
    "\n",
    "re.findall(\"AB|AC\",grades)"
   ]
  },
  {
   "cell_type": "code",
   "execution_count": 105,
   "id": "7a3a384c",
   "metadata": {},
   "outputs": [
    {
     "data": {
      "text/plain": [
       "[]"
      ]
     },
     "execution_count": 105,
     "metadata": {},
     "output_type": "execute_result"
    }
   ],
   "source": [
    "# We can use the caret with the set operator to negate our results. For instance, if we want to parse out only\n",
    "# the grades which were not A's\n",
    "\n",
    "re.findall(\"^[^A]\",grades)"
   ]
  },
  {
   "cell_type": "code",
   "execution_count": 106,
   "id": "f96f1643",
   "metadata": {},
   "outputs": [],
   "source": [
    "# It's an empty list, because the regex says that we want to match any value at the beginning of the string\n",
    "# which is not an A. Our string though starts with an A, so there is no match found. And remember when you are\n",
    "# using the set operator you are doing character-based matching. So you are matching individual characters in\n",
    "# an OR method."
   ]
  },
  {
   "cell_type": "markdown",
   "id": "6c7dd850",
   "metadata": {},
   "source": [
    "## Quantifiers"
   ]
  },
  {
   "cell_type": "code",
   "execution_count": 107,
   "id": "b19f32fb",
   "metadata": {},
   "outputs": [],
   "source": [
    "# Ok, so we've talked about anchors and matching to the beginning and end of patterns. And we've talked about\n",
    "# characters and using sets with the [] notation. We've also talked about character negation, and how the pipe\n",
    "# | character allows us to or operations. Lets move on to quantifiers."
   ]
  },
  {
   "cell_type": "code",
   "execution_count": 108,
   "id": "67f4ca86",
   "metadata": {},
   "outputs": [
    {
     "data": {
      "text/plain": [
       "['AAAA', 'AA']"
      ]
     },
     "execution_count": 108,
     "metadata": {},
     "output_type": "execute_result"
    }
   ],
   "source": [
    "# Quantifiers are the number of times you want a pattern to be matched in order to match. The most basic\n",
    "# quantifier is expressed as e{m,n}, where e is the expression or character we are matching, m is the minimum\n",
    "# number of times you want it to matched, and n is the maximum number of times the item could be matched.\n",
    "\n",
    "# Let's use these grades as an example. How many times has this student been on a back-to-back A's streak?\n",
    "\n",
    "re.findall(\"A{2,10}\",grades)"
   ]
  },
  {
   "cell_type": "code",
   "execution_count": 109,
   "id": "e049404e",
   "metadata": {},
   "outputs": [
    {
     "data": {
      "text/plain": [
       "['AA', 'AA', 'AA']"
      ]
     },
     "execution_count": 109,
     "metadata": {},
     "output_type": "execute_result"
    }
   ],
   "source": [
    "# So we see that there were two streaks, one where the student had four A's, and one where they had only two\n",
    "# A's\n",
    "\n",
    "# We might try and do this using single values and just repeating the pattern\n",
    "\n",
    "re.findall(\"A{1,1}A{1,1}\",grades)"
   ]
  },
  {
   "cell_type": "code",
   "execution_count": 110,
   "id": "dc32f580",
   "metadata": {},
   "outputs": [
    {
     "data": {
      "text/plain": [
       "[]"
      ]
     },
     "execution_count": 110,
     "metadata": {},
     "output_type": "execute_result"
    }
   ],
   "source": [
    "# As you can see, this is different than the first example. The first pattern is looking for any combination\n",
    "# of two A's up to ten A's in a row. So it sees four A's as a single streak. The second pattern is looking for\n",
    "# two A's back to back, so it sees two A's followed immediately by two more A's. We say that the regex\n",
    "# processor begins at the start of the string and consumes variables which match patterns as it does.\n",
    "\n",
    "# It's important to note that the regex quantifier syntax does not allow you to deviate from the {m,n}\n",
    "# pattern. In particular, if you have an extra space in between the braces you'll get an empty result\n",
    "\n",
    "re.findall(\"A{2, 2}\", grades)"
   ]
  },
  {
   "cell_type": "code",
   "execution_count": 111,
   "id": "06763174",
   "metadata": {},
   "outputs": [
    {
     "data": {
      "text/plain": [
       "['AA', 'AA', 'AA']"
      ]
     },
     "execution_count": 111,
     "metadata": {},
     "output_type": "execute_result"
    }
   ],
   "source": [
    "# And as we have already seen, if we don't include a quantifier then the default is {1,1}\n",
    "\n",
    "re.findall(\"AA\",grades)"
   ]
  },
  {
   "cell_type": "code",
   "execution_count": 112,
   "id": "137013e6",
   "metadata": {},
   "outputs": [
    {
     "data": {
      "text/plain": [
       "['AA', 'AA', 'AA']"
      ]
     },
     "execution_count": 112,
     "metadata": {},
     "output_type": "execute_result"
    }
   ],
   "source": [
    "# and if you just have one number in the braces, it's considered to be both m and n\n",
    "\n",
    "re.findall(\"A{2}\", grades)"
   ]
  },
  {
   "cell_type": "code",
   "execution_count": 113,
   "id": "b583abe9",
   "metadata": {},
   "outputs": [
    {
     "data": {
      "text/plain": [
       "['AAAABC']"
      ]
     },
     "execution_count": 113,
     "metadata": {},
     "output_type": "execute_result"
    }
   ],
   "source": [
    "# Using this, we could find a decreasing trend in a student's grades\n",
    "\n",
    "re.findall(\"A{1,10}B{1,10}C{1,10}\",grades)"
   ]
  },
  {
   "cell_type": "code",
   "execution_count": 114,
   "id": "d79bc820",
   "metadata": {},
   "outputs": [],
   "source": [
    "# Now, that's a bit of a hack, because we included a maximum that was just arbitrarily large. There are three\n",
    "# other quantifiers that are used as short hand, an asterix * to match 0 or more times, a question mark ? to\n",
    "# match one or more times, or a + plus sign to match one or more times. Lets look at a more complex example,\n",
    "# and load some data scraped from wikipedia"
   ]
  },
  {
   "cell_type": "code",
   "execution_count": 154,
   "id": "dca7f888",
   "metadata": {},
   "outputs": [
    {
     "data": {
      "text/plain": [
       "'Overview[edit]\\nFERPA gives parents access to their child\\'s education records, an opportunity to seek to have the records amended, and some control over the disclosure of information from the records. With several exceptions, schools must have a student\\'s consent prior to the disclosure of education records after that student is 18 years old. The law applies only to educational agencies and institutions that receive funds under a program administered by the U.S. Department of Education.\\n\\nOther regulations under this act, effective starting January 3, 2012, allow for greater disclosures of personal and directory student identifying information and regulate student IDs and e-mail addresses.[2] For example, schools may provide external companies with a student\\'s personally identifiable information without the student\\'s consent.[2]\\n\\nExamples of situations affected by FERPA include school employees divulging information to anyone other than the student about the student\\'s grades or behavior, and school work posted on a bulletin board with a grade. Generally, schools must have written permission from the parent or eligible student in order to release any information from a student\\'s education record.\\n\\nThis privacy policy also governs how state agencies transmit testing data to federal agencies, such as the Education Data Exchange Network.\\n\\nThis U.S. federal law also gave students 18 years of age or older, or students of any age if enrolled in any post-secondary educational institution, the right of privacy regarding grades, enrollment, and even billing information unless the school has specific permission from the student to share that specific type of information.\\n\\nFERPA also permits a school to disclose personally identifiable information from education records of an \"eligible student\" (a student age 18 or older or enrolled in a postsecondary institution at any age) to his or her parents if the student is a \"dependent student\" as that term is defined in Section 152 of the Internal Revenue Code. Generally, if either parent has claimed the student as a dependent on the parent\\'s most recent income tax statement, the school may non-consensually disclose the student\\'s education records to both parents.[3]\\n\\nThe law allowed students who apply to an educational institution such as graduate school permission to view recommendations submitted by others as part of the application. However, on standard application forms, students are given the option to waive this right.\\n\\nFERPA specifically excludes employees of an educational institution if they are not students.\\n\\nThe act is also referred to as the Buckley Amendment, for one of its proponents, Senator James L. Buckley of New York.\\n\\nAccess to public records[edit]\\nThe citing of FERPA to conceal public records that are not \"educational\" in nature has been widely criticized, including by the act\\'s primary Senate sponsor.[4] For example, in the Owasso Independent School District v. Falvo case, an important part of the debate was determining the relationship between peer-grading and \"education records\" as defined in FERPA. In the Court of Appeals, it was ruled that students placing grades on the work of other students made such work into an \"education record.\" Thus, peer-grading was determined as a violation of FERPA privacy policies because students had access to other students\\' academic performance without full consent.[5] However, when the case went to the Supreme Court, it was officially ruled that peer-grading was not a violation of FERPA. This is because a grade written on a student\\'s work does not become an \"education record\" until the teacher writes the final grade into a grade book.[6]\\n\\nStudent medical records[edit]\\nLegal experts have debated the issue of whether student medical records (for example records of therapy sessions with a therapist at an on-campus counseling center) might be released to the school administration under certain triggering events, such as when a student sued his college or university.[7][8]\\n\\nUsually, student medical treatment records will remain under the protection of FERPA, not the Health Insurance Portability and Accountability Act (HIPAA). This is due to the \"FERPA Exception\" written within HIPAA.[9]'"
      ]
     },
     "execution_count": 154,
     "metadata": {},
     "output_type": "execute_result"
    }
   ],
   "source": [
    "with open('C:/Users/tkhan050/Documents/Blogs/Study Materials/Introduction to Data Science in Python/ferpa.txt',\n",
    "          'r') as file:\n",
    "    wiki = file.read()\n",
    "wiki"
   ]
  },
  {
   "cell_type": "code",
   "execution_count": 120,
   "id": "b0adf432",
   "metadata": {},
   "outputs": [
    {
     "data": {
      "text/plain": [
       "['Overview[edit]', 'records[edit]', 'records[edit]']"
      ]
     },
     "execution_count": 120,
     "metadata": {},
     "output_type": "execute_result"
    }
   ],
   "source": [
    "# Scanning through this document one of the things we notice is that the headers all have the words [edit]\n",
    "# behind them, followed by a newline character. So if we wanted to get a list of all of the headers in this\n",
    "# article we could do so using re.findall. Here we are using {1,100} to match from 1 to 100 times.\n",
    "\n",
    "re.findall(\"[a-zA-Z]{1,100}\\[edit\\]\",wiki)"
   ]
  },
  {
   "cell_type": "code",
   "execution_count": 121,
   "id": "ada0c1bd",
   "metadata": {},
   "outputs": [
    {
     "data": {
      "text/plain": [
       "['Overview[edit]', 'records[edit]', 'records[edit]']"
      ]
     },
     "execution_count": 121,
     "metadata": {},
     "output_type": "execute_result"
    }
   ],
   "source": [
    "# Ok, that didn't quite work. It got all of the headers, but only the last word of the header, and it really\n",
    "# was quite clunky. Lets iteratively improve this. First, we can use \\w to match any letter, including digits\n",
    "# and numbers.\n",
    "\n",
    "re.findall(\"[\\w]*\\[edit\\]\",wiki)"
   ]
  },
  {
   "cell_type": "code",
   "execution_count": 123,
   "id": "daf96459",
   "metadata": {},
   "outputs": [
    {
     "data": {
      "text/plain": [
       "['Overview[edit]',\n",
       " 'Access to public records[edit]',\n",
       " 'Student medical records[edit]']"
      ]
     },
     "execution_count": 123,
     "metadata": {},
     "output_type": "execute_result"
    }
   ],
   "source": [
    "# Now that we have shortened the regex, let's improve it a little bit. We can add in a spaces using the space\n",
    "# character\n",
    "\n",
    "re.findall(\"[\\w ]*\\[edit\\]\",wiki)"
   ]
  },
  {
   "cell_type": "code",
   "execution_count": 125,
   "id": "50ed8634",
   "metadata": {},
   "outputs": [
    {
     "name": "stdout",
     "output_type": "stream",
     "text": [
      "Overview\n",
      "Access to public records\n",
      "Student medical records\n"
     ]
    }
   ],
   "source": [
    "# Ok, so this gets us the list of section titles in the wikipedia page! You can now create a list of titles by\n",
    "# iterating through this and applying another regex\n",
    "\n",
    "for title in re.findall(\"[\\w ]*\\[edit\\]\", wiki):\n",
    "# Now we will take that intermediate result and split on the square bracket [ just taking the first result\n",
    "  print(re.split(\"[\\[]\",title)[0])\n"
   ]
  },
  {
   "cell_type": "markdown",
   "id": "0cf77424",
   "metadata": {},
   "source": [
    "## Groups"
   ]
  },
  {
   "cell_type": "code",
   "execution_count": 126,
   "id": "05e45f5b",
   "metadata": {},
   "outputs": [
    {
     "data": {
      "text/plain": [
       "[('Overview', '[edit]'),\n",
       " ('Access to public records', '[edit]'),\n",
       " ('Student medical records', '[edit]')]"
      ]
     },
     "execution_count": 126,
     "metadata": {},
     "output_type": "execute_result"
    }
   ],
   "source": [
    "# Ok, this works, but it's a bit of a pain. To this point we have been talking about a regex as a single\n",
    "# pattern which is matched. But, you can actually match different patterns, called groups, at the same time,\n",
    "# and then refer to the groups you want. To group patterns together you use parentheses, which is actually\n",
    "# pretty natural. Lets rewrite our findall using groups\n",
    "\n",
    "re.findall(\"([\\w ]*)(\\[edit\\])\",wiki)"
   ]
  },
  {
   "cell_type": "markdown",
   "id": "5e702054",
   "metadata": {},
   "source": [
    "## re.finditer()"
   ]
  },
  {
   "cell_type": "code",
   "execution_count": 131,
   "id": "a20d85f3",
   "metadata": {},
   "outputs": [
    {
     "name": "stdout",
     "output_type": "stream",
     "text": [
      "('Overview', '[edit]')\n",
      "('Access to public records', '[edit]')\n",
      "('Student medical records', '[edit]')\n"
     ]
    }
   ],
   "source": [
    "# Nice - we see that the python re module breaks out the result by group. We can actually refer to groups by\n",
    "# number as well with the match objects that are returned. But, how do we get back a list of match objects?\n",
    "# Thus far we've seen that findall() returns strings, and search() and match() return individual Match\n",
    "# objects. But what do we do if we want a list of Match objects? In this case, we use the function finditer()\n",
    "\n",
    "for item in re.finditer(\"([\\w ]*)(\\[edit\\])\",wiki):\n",
    "    print(item.groups())"
   ]
  },
  {
   "cell_type": "code",
   "execution_count": 135,
   "id": "68181ff0",
   "metadata": {},
   "outputs": [
    {
     "name": "stdout",
     "output_type": "stream",
     "text": [
      "Overview\n",
      "Access to public records\n",
      "Student medical records\n"
     ]
    }
   ],
   "source": [
    "# We see here that the groups() method returns a tuple of the group. We can get an individual group using\n",
    "# group(number), where group(0) is the whole match, and each other number is the portion of the match we are\n",
    "# interested in. In this case, we want group(1)\n",
    "\n",
    "for item in re.finditer(\"([\\w ]*)(\\[edit\\])\",wiki):\n",
    "    print(item.group(1))"
   ]
  },
  {
   "cell_type": "code",
   "execution_count": 138,
   "id": "6b08aeb0",
   "metadata": {},
   "outputs": [
    {
     "name": "stdout",
     "output_type": "stream",
     "text": [
      "Overview\n",
      "[edit]\n",
      "Access to public records\n",
      "[edit]\n",
      "Student medical records\n",
      "[edit]\n"
     ]
    }
   ],
   "source": [
    "# One more piece to regex groups that I rarely use but is a good idea is labeling or naming groups. In the\n",
    "# previous example I showed you how you can use the position of the group. But giving them a label and looking\n",
    "# at the results as a dictionary is pretty useful. For that we use the syntax (?P<name>), where the parethesis\n",
    "# starts the group, the ?P indicates that this is an extension to basic regexes, and <name> is the dictionary\n",
    "# key we want to use wrapped in <>.\n",
    "\n",
    "for item in re.finditer(\"(?P<title>[\\w ]*)(?P<edit_link>\\[edit\\])\",wiki):\n",
    "    print(item.groupdict()['title'])\n",
    "    print(item.groupdict()['edit_link'])"
   ]
  },
  {
   "cell_type": "code",
   "execution_count": 140,
   "id": "04da7d6a",
   "metadata": {},
   "outputs": [
    {
     "name": "stdout",
     "output_type": "stream",
     "text": [
      "{'title': 'Student medical records', 'edit_link': '[edit]'}\n"
     ]
    }
   ],
   "source": [
    "# Of course, we can print out the whole dictionary for the item too, and see that the [edit] string is still\n",
    "# in there. Here's the dictionary kept for the last match\n",
    "\n",
    "print(item.groupdict())"
   ]
  },
  {
   "cell_type": "code",
   "execution_count": 141,
   "id": "dd39e293",
   "metadata": {},
   "outputs": [],
   "source": [
    "# Ok, we have seen how we can match individual character patterns with [], how we can group matches together\n",
    "# using (), and how we can use quantifiers such as *, ?, or m{n} to describe patterns. Something I glossed\n",
    "# over in the previous example was the \\w, which standards for any word character. There are a number of\n",
    "# short hands which are used with regexes for different kinds of characters, including:\n",
    "# a . for any single character which is not a newline\n",
    "# a \\d for any digit\n",
    "# and \\s for any whitespace character, like spaces and tabs"
   ]
  },
  {
   "cell_type": "markdown",
   "id": "a3429b30",
   "metadata": {},
   "source": [
    "## Look-ahead and Look-behind"
   ]
  },
  {
   "cell_type": "code",
   "execution_count": 143,
   "id": "850c0a8e",
   "metadata": {},
   "outputs": [],
   "source": [
    "# One more concept to be familiar with is called \"look ahead\" and \"look behind\" matching. In this case, the\n",
    "# pattern being given to the regex engine is for text either before or after the text we are trying to\n",
    "# isolate. For example, in our headers we want to isolate text which  comes before the [edit] rendering, but\n",
    "# we actually don't care about the [edit] text itself. Thus far we have been throwing the [edit] away, but if\n",
    "# we want to use them to match but don't want to capture them we could put them in a group and use look ahead\n",
    "# instead with ?= syntax\n",
    "\n",
    "#(?=...) is a positive lookahead assertion. It matches if there is the part in parentheses after ?= matches at the current position, but it will not consume any characters for the match. \n",
    "#E.g. the regex a(?=b) will match an a followed by a b, but won't return the b as part of the match."
   ]
  },
  {
   "cell_type": "code",
   "execution_count": 155,
   "id": "203fa22d",
   "metadata": {},
   "outputs": [
    {
     "name": "stdout",
     "output_type": "stream",
     "text": [
      "<re.Match object; span=(0, 8), match='Overview'>\n",
      "<re.Match object; span=(2715, 2739), match='Access to public records'>\n",
      "<re.Match object; span=(3692, 3715), match='Student medical records'>\n"
     ]
    }
   ],
   "source": [
    "for item in re.finditer(\"(?P<title>[\\w ]+)(?=\\[edit\\])\",wiki):\n",
    "    # What this regex says is match two groups, the first will be named and called title, will have any amount\n",
    "    # of whitespace or regular word characters, the second will be the characters [edit] but we don't actually\n",
    "    # want this edit put in our output match objects\n",
    "    print(item)\n",
    "    "
   ]
  },
  {
   "cell_type": "markdown",
   "id": "21d89110",
   "metadata": {},
   "source": [
    "## Example : Wikipedia Data"
   ]
  },
  {
   "cell_type": "code",
   "execution_count": 156,
   "id": "05105e2a",
   "metadata": {},
   "outputs": [
    {
     "data": {
      "text/plain": [
       "'Buddhist universities and colleges in the United States\\nFrom Wikipedia, the free encyclopedia\\nJump to navigationJump to search\\n\\nThis article needs additional citations for verification. Please help improve this article by adding citations to reliable sources. Unsourced material may be challenged and removed.\\nFind sources: \"Buddhist universities and colleges in the United States\" – news · newspapers · books · scholar · JSTOR (December 2009) (Learn how and when to remove this template message)\\nThere are several Buddhist universities in the United States. Some of these have existed for decades and are accredited. Others are relatively new and are either in the process of being accredited or else have no formal accreditation. The list includes:\\n\\nDhammakaya Open University – located in Azusa, California, part of the Thai Wat Phra Dhammakaya[1]\\nDharmakirti College – located in Tucson, Arizona Now called Awam Tibetan Buddhist Institute (http://awaminstitute.org/)\\nDharma Realm Buddhist University – located in Ukiah, California\\nEwam Buddhist Institute – located in Arlee, Montana\\nNaropa University is located in Boulder, Colorado (Accredited by the Higher Learning Commission)\\nInstitute of Buddhist Studies – located in Berkeley, California\\nMaitripa College – located in Portland, Oregon\\nSoka University of America – located in Aliso Viejo, California\\nUniversity of the West – located in Rosemead, California\\nWon Institute of Graduate Studies – located in Glenside, Pennsylvania\\nReferences[edit]\\n^ Banchanon, Phongphiphat (3 February 2015). รู้จัก \"เครือข่ายธรรมกาย\" [Getting to know the Dhammakaya network]. Forbes Thailand (in Thai). Retrieved 11 November 2016.\\nExternal links[edit]\\nList of Buddhist Universities and Colleges in the world\\n'"
      ]
     },
     "execution_count": 156,
     "metadata": {},
     "output_type": "execute_result"
    }
   ],
   "source": [
    "# Let's look at some more wikipedia data. Here's some data on universities in the US which are buddhist-based\n",
    "with open(\"C:/Users/tkhan050/Documents/Blogs/Study Materials/Introduction to Data Science in Python/buddhist.txt\",encoding=\"utf8\") as file:\n",
    "    # we'll read that into a variable called wiki\n",
    "    wiki=file.read()\n",
    "# and lets print that variable out to the screen\n",
    "wiki"
   ]
  },
  {
   "cell_type": "code",
   "execution_count": 159,
   "id": "b55f10ec",
   "metadata": {},
   "outputs": [
    {
     "name": "stdout",
     "output_type": "stream",
     "text": [
      "{'title': 'Dhammakaya Open University ', 'city': 'Azusa', 'state': 'California'}\n",
      "{'title': 'Dharmakirti College ', 'city': 'Tucson', 'state': 'Arizona'}\n",
      "{'title': 'Dharma Realm Buddhist University ', 'city': 'Ukiah', 'state': 'California'}\n",
      "{'title': 'Ewam Buddhist Institute ', 'city': 'Arlee', 'state': 'Montana'}\n",
      "{'title': 'Institute of Buddhist Studies ', 'city': 'Berkeley', 'state': 'California'}\n",
      "{'title': 'Maitripa College ', 'city': 'Portland', 'state': 'Oregon'}\n",
      "{'title': 'University of the West ', 'city': 'Rosemead', 'state': 'California'}\n",
      "{'title': 'Won Institute of Graduate Studies ', 'city': 'Glenside', 'state': 'Pennsylvania'}\n"
     ]
    }
   ],
   "source": [
    "# We can see that each university follows a fairly similar pattern, with the name followed by an – then the\n",
    "# words \"located in\" followed by the city and state\n",
    "\n",
    "# I'll actually use this example to show you the verbose mode of python regexes. The verbose mode allows you\n",
    "# to write multi-line regexes and increases readability. For this mode, we have to explicitly indicate all\n",
    "# whitespace characters, either by prepending them with a \\ or by using the \\s special value. However, this\n",
    "# means we can write our regex a bit more like code, and can even include comments with #\n",
    "pattern=\"\"\"\n",
    "(?P<title>.*)        #the university title\n",
    "(–\\ located\\ in\\ )   #an indicator of the location\n",
    "(?P<city>\\w*)        #city the university is in\n",
    "(,\\ )                #separator for the state\n",
    "(?P<state>\\w*)       #the state the city is located in\"\"\"\n",
    "\n",
    "# Now when we call finditer() we just pass the re.VERBOSE flag as the last parameter, this makes it much\n",
    "# easier to understand large regexes!\n",
    "for item in re.finditer(pattern,wiki,re.VERBOSE):\n",
    "    # We can get the dictionary returned for the item with .groupdict()\n",
    "    print(item.groupdict())"
   ]
  },
  {
   "cell_type": "code",
   "execution_count": 166,
   "id": "ac868261",
   "metadata": {},
   "outputs": [
    {
     "data": {
      "text/plain": [
       "'548662191340421120|Sat Dec 27 02:10:34 +0000 2014|Risks in Using Social Media to Spot Signs of Mental Distress http://nyti.ms/1rqi9I1\\n548579831169163265|Fri Dec 26 20:43:18 +0000 2014|RT @paula_span: The most effective nationwide diabetes prevention program you\\'ve probably never heard of:  http://newoldage.blogs.nytimes.com/2014/12/26/diabetes-prevention-that-works/\\n548579045269852161|Fri Dec 26 20:40:11 +0000 2014|The New Old Age Blog: Diabetes Prevention That Works http://nyti.ms/1xm7fTi\\n548444679529041920|Fri Dec 26 11:46:15 +0000 2014|Well: Comfort Casseroles for Winter Dinners http://nyti.ms/1xTNoO0\\n548311901227474944|Fri Dec 26 02:58:39 +0000 2014|High-Level Knowledge Before Veterans Affairs Scandal http://nyti.ms/13yCpvS\\n548305625449787392|Fri Dec 26 02:33:42 +0000 2014|Your Money: Affordable Care Act’s Tax Effects Now Loom for Filers http://nyti.ms/13yAtUf\\n548283182853160960|Fri Dec 26 01:04:32 +0000 2014|Well: Christmas in the Hospital http://nyti.ms/1vtPNcm\\n548278414504108033|Fri Dec 26 00:45:35 +0000 2014|The Texas Tribune: For Members of Health Ministries in Texas, Caring Means Sharing the Bills http://nyti.ms/1wLtAen\\n548176399299649536|Thu Dec 25 18:00:12 +0000 2014|A q&amp;a with Laura Hillenbrand, author of \"Unbroken,\" who suffers from chronic fatigue syndrome. http://bit.ly/1ziCflj\\n547949409288609792|Thu Dec 25 02:58:14 +0000 2014|Race to Deliver Nicotine’s Punch, With Less Risk  http://nyti.ms/1xNzyg4\\n547904193961656321|Wed Dec 24 23:58:34 +0000 2014|The New Health Care: People Are Shopping for Health Insurance, Surprisingly http://nyti.ms/1vpIjqE\\n547904193001185280|Wed Dec 24 23:58:33 +0000 2014|Machine Learning: Bedtime Technology for a Better Night’s Sleep http://nyti.ms/16RCgpE\\n547872136304394242|Wed Dec 24 21:51:10 +0000 2014|Breaking: Lab Error May Have Exposed U.S. Technician to Ebola Virus http://nyti.ms/1ziIYf6\\n547870756592300034|Wed Dec 24 21:45:41 +0000 2014|C.D.C. Ebola Error in Lab May Have Exposed Technician to Virus http://nyti.ms/1CDkLqc\\n547870381160140800|Wed Dec 24 21:44:12 +0000 2014|RT @nytimes: Breaking News: Lab Error May Have Exposed U.S. Technician to Ebola Virus http://nyti.ms/1B2ThGD\\n547802935141232642|Wed Dec 24 17:16:12 +0000 2014|A q&amp;a with Laura Hillenbrand, author of \"Unbroken,\" who suffers from chronic fatigue syndrome. http://nyti.ms/1B5PO9Q\\n547765704829964289|Wed Dec 24 14:48:15 +0000 2014|RT @cslnyt: Virus That Killed a Kansas Farmer is identified @CDCgov  @nytDeniseGrady  http://www.nytimes.com/2014/12/24/science/mysterious-virus-that-killed-a-farmer-in-kansas-is-identified.html?smid=nytcore-iphone-share&smprod=nytcore-iphone\\n547624914531127296|Wed Dec 24 05:28:48 +0000 2014|Well: Exercise to Lose Weight? Stay Warm http://nyti.ms/1Hz7Pj2\\n547599936452583427|Wed Dec 24 03:49:33 +0000 2014|Business Briefing: Diabetes Drug Gains Approval for Treatment of Obesity http://nyti.ms/1ta9nPw\\n547599935517241344|Wed Dec 24 03:49:33 +0000 2014|So Far, 6.4 Million Obtain Health Care Coverage for 2015 in Federal Marketplace http://nyti.ms/1vaJ1ad\\n547595227197087745|Wed Dec 24 03:30:50 +0000 2014|DealBook: Inquiry Into Foreign Bribes at Biomet Hangs Over $13 Billion Merger http://nyti.ms/1vaHQYn\\n547595226215632896|Wed Dec 24 03:30:50 +0000 2014|Firing of V.A. Clinic Chief Is Upheld Over Gifts, Not Wait Lists http://nyti.ms/1ta9nPu\\n547576403836035072|Wed Dec 24 02:16:02 +0000 2014|World Briefing: Ireland: Doctors Seek to Remove Pregnant Woman From Life Support http://nyti.ms/13uMfPo\\n547562964153536512|Wed Dec 24 01:22:38 +0000 2014|Plastic Surgery Tourism Brings Chinese to South Korea  http://nyti.ms/1wDB6Yq\\n547561821373075456|Wed Dec 24 01:18:06 +0000 2014|Looking for a better night\\'s sleep? Put down that e-book and read a paperback instead. http://nyti.ms/1whtwhd\\n547559173974921218|Wed Dec 24 01:07:34 +0000 2014|Mysterious Virus That Killed a Farmer in Kansas Is Identified http://nyti.ms/1AZ0qaL\\n547515883518980096|Tue Dec 23 22:15:33 +0000 2014|Well: Pain Relievers Tied to Reduced Skin Cancer Risk http://nyti.ms/13ukGpr\\n547501217086062592|Tue Dec 23 21:17:16 +0000 2014|The best gift? The humble gift card. http://nyti.ms/1A1pDmz\\n547500871689711616|Tue Dec 23 21:15:54 +0000 2014|What do most people say they want for a gift? http://pbs.twimg.com/media/B5kdIQXCQAAtcgA.jpg\\n547460287289634822|Tue Dec 23 18:34:38 +0000 2014|F.D.A. Lifting Ban on Gay Blood Donors http://nyti.ms/16NAVjH\\n547459549360574466|Tue Dec 23 18:31:42 +0000 2014|F.D.A. to Lift Lifetime Ban on Blood Donation by Gay Men http://nyti.ms/1A12TTG\\n547440575545614336|Tue Dec 23 17:16:18 +0000 2014|Well: Think You Found the Perfect Gift? Think Again http://nyti.ms/13B6Amt\\n547410904414167040|Tue Dec 23 15:18:24 +0000 2014|RT @nytDeniseGrady: C.D.C. Head Says Fight on Ebola Will Be Long http://nyti.ms/1vhYN4g\\n547232205605707776|Tue Dec 23 03:28:19 +0000 2014|Gunman May Have Used Garner and Brown Cases to Justify Police Killings, Experts Say http://nyti.ms/1ATCm9m\\n547227742849470464|Tue Dec 23 03:10:35 +0000 2014|U.S. Court Strikes Down North Carolina Ultrasound Abortion Law http://nyti.ms/1xcoPMu\\n547227741960278016|Tue Dec 23 03:10:35 +0000 2014|Group Sues Aetna, Claiming Discrimination Against H.I.V. Patients http://nyti.ms/1ATxhOj\\n547223894130978817|Tue Dec 23 02:55:17 +0000 2014|Obama Administration to Investigate Insurers for Bias Against Costly Conditions http://nyti.ms/1xcnYeX\\n547184000411127808|Tue Dec 23 00:16:46 +0000 2014|C.D.C. Head Says Fight on Ebola Will Be Long http://nyti.ms/1CxIFR9\\n547179177829756929|Mon Dec 22 23:57:36 +0000 2014|Op-Ed Contributors: Sugar Season. It’s Everywhere, and Addictive http://nyti.ms/16KEwPg\\n547144384672976896|Mon Dec 22 21:39:21 +0000 2014|Letters: Flavors From the Past  http://nyti.ms/1HruX2S\\n547140214125506560|Mon Dec 22 21:22:47 +0000 2014|Global Health: For Heroin Users, Less May Be Worse for H.I.V.  http://nyti.ms/1AAlJB2\\n547130056959860736|Mon Dec 22 20:42:25 +0000 2014|Q&amp;A:  The Danger of Going Off Course http://nyti.ms/13WclvS\\n547129518683475968|Mon Dec 22 20:40:17 +0000 2014|Video: Is farmed fish better than no fish at all?  #askwell http://nyti.ms/1weXRwR\\n547125616592834562|Mon Dec 22 20:24:46 +0000 2014|Well: Living With Cancer: Playing the C Card http://nyti.ms/1wf4rTY\\n547125615531671552|Mon Dec 22 20:24:46 +0000 2014|Patterns: How E-books May Disrupt Your Sleep http://nyti.ms/13W9Sl1\\n547121243460481024|Mon Dec 22 20:07:24 +0000 2014|Books: Gabriele Oettingen Turns Her Mind to Motivation in ‘Rethinking Positive Thinking’ http://nyti.ms/13W60QY\\n547061476650139648|Mon Dec 22 16:09:54 +0000 2014|RT @celiadugger: Competition seems to driving down the exorbitant cost of hep c drugs after all. http://nyti.ms/1E10oon\\n547058681599520769|Mon Dec 22 15:58:48 +0000 2014|Personal Health: Why Cafeteria Food Is the Best http://nyti.ms/1zVQnou\\n546894013090263040|Mon Dec 22 05:04:28 +0000 2014|Pharmacy Deal Heralds Changed Landscape for Hepatitis Drugs http://nyti.ms/1wd8nEK\\n546525411623337984|Sun Dec 21 04:39:46 +0000 2014|Military Medicine: Military Hospital Care Is Questioned; Next, Reprisals http://nyti.ms/16Eu0co\\n546389588973854720|Sat Dec 20 19:40:04 +0000 2014|Dispatch: Ebola Should Be Easy to Treat http://nyti.ms/1xyIZQn\\n546141844288331777|Sat Dec 20 03:15:37 +0000 2014|Pain Clinic Doctor Is Sentenced In Overdose Deaths of 2 Patients  http://nyti.ms/1v9WeB3\\n546141843432685568|Sat Dec 20 03:15:36 +0000 2014|Hepatitis C Treatment Wins Approval, but Price Relief May Be Limited http://nyti.ms/1ww5GTT\\n546021777076666369|Fri Dec 19 19:18:30 +0000 2014|Well: For Hanukkah, Cooking With Oil http://nyti.ms/1zdlfC2\\n545990925915545600|Fri Dec 19 17:15:55 +0000 2014|The New Old Age Blog: Dementia, but Prettier http://nyti.ms/1zcVIJ6\\n545805323463065600|Fri Dec 19 04:58:24 +0000 2014|Lee W. Wattenberg, Who Saw Cancer Fighters in Foods, Dies at 92 http://nyti.ms/13FV3mD\\n545796300055531520|Fri Dec 19 04:22:32 +0000 2014|Liberia Will Proceed With Senate Vote Delayed by Ebola  http://nyti.ms/1v6aOJQ\\n545749330033143808|Fri Dec 19 01:15:54 +0000 2014|World Briefing: Obesity May Be a Disability, Court Says http://nyti.ms/13iF90F\\n545654369715503104|Thu Dec 18 18:58:34 +0000 2014|Well: Weight Gain During Pregnancy Is Especially Good for Boys http://nyti.ms/1AwfGLZ\\n545654368801148928|Thu Dec 18 18:58:33 +0000 2014|Well: Ask Well: Wild Fish vs. Farmed Fish http://nyti.ms/1C3N6Wp\\n545621096255729665|Thu Dec 18 16:46:21 +0000 2014|Medical Paradox: Can Cuba Escape Poverty but Stay Healthy? http://nyti.ms/1r34s1u\\n545443639825293313|Thu Dec 18 05:01:12 +0000 2014|World Briefing: Agencies Warn of Hunger in Ebola Zone http://nyti.ms/1GSGc4f\\n545413335353933824|Thu Dec 18 03:00:47 +0000 2014|Citing Health Risks, Cuomo to Ban Fracking in New York State http://nyti.ms/13dIvlp\\n545407394747265024|Thu Dec 18 02:37:10 +0000 2014|For That Door-to-Treadmill Service http://nyti.ms/13dDyJe\\n545308477292560384|Wed Dec 17 20:04:06 +0000 2014|Well: Belly Fat Tied to Sudden Cardiac Death http://nyti.ms/1AIfysB\\n545288768371310592|Wed Dec 17 18:45:48 +0000 2014|The New Old Age Blog: Questionable Remedies for Eye Disease http://nyti.ms/1zwwjrx\\n545255659881914368|Wed Dec 17 16:34:14 +0000 2014|Go for a run, hop on a bike or jump in that pool -- and change your DNA. http://nyti.ms/1yYzbdP\\n545253503963516928|Wed Dec 17 16:25:40 +0000 2014|Massachusetts Pharmacy Owners Arrested in Meningitis Deaths http://nyti.ms/1zw5d3G\\n545235402156937217|Wed Dec 17 15:13:44 +0000 2014|For First Time, Treatment Helps Patients With Worst Kind of Stroke, Study Says http://nyti.ms/1zvSJsN\\n545086317659717632|Wed Dec 17 05:21:20 +0000 2014|Well: How Exercise Changes Our DNA http://nyti.ms/1wXOPey\\n545074589374881792|Wed Dec 17 04:34:43 +0000 2014|National Briefing | New England: Massachusetts: Sex-Change Surgery Denied to Inmate http://nyti.ms/13aAYn0\\n545070455196250113|Wed Dec 17 04:18:18 +0000 2014|Federal Health Exchange Sees Enrollment Flurry http://nyti.ms/1zpVLju\\n545070454038614016|Wed Dec 17 04:18:17 +0000 2014|Vivek Murthy, the New Surgeon General, Isn’t Afraid to Take a Stand http://nyti.ms/13aB129\\n545066190205624320|Wed Dec 17 04:01:21 +0000 2014|U.N. Secretary General to Visit Ebola-Plagued Nations http://nyti.ms/1zpVLjs\\n545066189291261953|Wed Dec 17 04:01:21 +0000 2014|F.D.A. Approves System That May Make Blood Transfusions Safer http://nyti.ms/13aB0LT\\n544963579364270080|Tue Dec 16 21:13:36 +0000 2014|Well: Questioning the Idea of Good Carbs, Bad Carbs http://nyti.ms/135G5VU\\n544893542360182784|Tue Dec 16 16:35:18 +0000 2014|RT @sangerkatz: E-cig study fascinating. Per @stavernise, teen e-cig use is up, while traditional smoking is way down. http://t.co/vkyI2Avb…\\n544880537740251136|Tue Dec 16 15:43:38 +0000 2014|E-Cigarettes on Rise Among Teenagers, Study Finds http://nyti.ms/1szZo5Q\\n544723459369340928|Tue Dec 16 05:19:27 +0000 2014|Fewer Ebola Cases Go Unreported Than Thought, Study Finds  http://nyti.ms/1wbY20X\\n544712816138387456|Tue Dec 16 04:37:10 +0000 2014|Death in Bronx Shows Vulnerability of State’s Nursing Home Residents  http://nyti.ms/13sy0eF\\n544709026605711360|Tue Dec 16 04:22:06 +0000 2014|With Hospitals Under Stress, Tennessee’s Governor Pursues Medicaid Expansion http://nyti.ms/12ZZesm\\n544694650234474497|Tue Dec 16 03:24:59 +0000 2014|The Mumps, a Scourge of Dormitories, Spreads Through the N.H.L. http://nyti.ms/13soZSR\\n544694649185902592|Tue Dec 16 03:24:58 +0000 2014|Paying Till It Hurts: The Odd Math of Medical Tests: One Scan, Two Prices, Both High http://nyti.ms/1GK1q4b\\n544668958054690816|Tue Dec 16 01:42:53 +0000 2014|Reactions: Darwin in Space, Dying Well, Eating the Cure http://nyti.ms/1Af3UFJ\\n544665124414701568|Tue Dec 16 01:27:39 +0000 2014|Senate, Ending Long Fight, Confirms Obama Pick for Surgeon General http://nyti.ms/1Af82po\\n544665123462594560|Tue Dec 16 01:27:39 +0000 2014|Memo From Paris: A Plan to Limit Cars in Paris Collides With French Politics  http://nyti.ms/1yWbZlx\\n544660677626195968|Tue Dec 16 01:09:59 +0000 2014|Well: Aspirin Risks Outweigh Benefits for Younger Women http://nyti.ms/1yW7QxS\\n544660676716032000|Tue Dec 16 01:09:59 +0000 2014|National Briefing | West: California: Court Upholds Condom Rule for Actors http://nyti.ms/1Af3UFH\\n544656861057007616|Tue Dec 16 00:54:49 +0000 2014|Well: Poor Sleep Tied to Brain Changes of Dementia http://nyti.ms/1Af3SxC\\n544656860054581248|Tue Dec 16 00:54:49 +0000 2014|The Echoes of Hearts Long Silenced http://nyti.ms/1yW7NCm\\n544651074263875584|Tue Dec 16 00:31:49 +0000 2014|Well: Ask Well: Why Do My Knees Make Noise When I Squat? http://nyti.ms/1AeZONX\\n544641994208063488|Mon Dec 15 23:55:45 +0000 2014|Op-Ed Contributor: Board-Certification Has Gone Too Far http://nyti.ms/1yVWbiP\\n544637239834460160|Mon Dec 15 23:36:51 +0000 2014|Well: The Myth of Comfort Food http://nyti.ms/1zpnVde\\n544625368192532481|Mon Dec 15 22:49:41 +0000 2014|Well: A Shortage of Juggling Doctors http://nyti.ms/1zpdNkA\\n544621548611842048|Mon Dec 15 22:34:30 +0000 2014|Q&amp;A:  Ironclad Results http://nyti.ms/1zp93f5\\n544621547450007553|Mon Dec 15 22:34:30 +0000 2014|Well: Infusionarium Aims to Take Trauma Out of Chemotherapy for Young http://nyti.ms/1zp9QMP\\n544617753634942976|Mon Dec 15 22:19:25 +0000 2014|Global Health: Gun Proliferation Fuels Homicide Rates in the Americas http://nyti.ms/1yVBhQK\\n544617752502480896|Mon Dec 15 22:19:25 +0000 2014|Findings: A Meditation on the Art of Not Trying  http://nyti.ms/1zp93f1\\n544603570843451392|Mon Dec 15 21:23:04 +0000 2014|RT @KJDellAntonia: Join @NYTMotherlode and @BethBDaley tomorrow 2p 4 live chat re:: the impact of Oversold prenatal tests http://t.co/0LsXh…\\n544515664275599360|Mon Dec 15 15:33:45 +0000 2014|Well: Moving Away From Nursing Homes http://nyti.ms/1ITA7Z6\\n544511163334406144|Mon Dec 15 15:15:52 +0000 2014|The New Health Care: Forbidden Topic in Health Policy Debate: Cost Effectiveness http://nyti.ms/136pRLR\\n543976690465390592|Sun Dec 14 03:52:04 +0000 2014|An Ebola Orphan’s Plea in Africa: ‘Do You Want Me?’ http://nyti.ms/1yOAMI9\\n543603667656769536|Sat Dec 13 03:09:48 +0000 2014|Op-Ed Contributor: Making a Pig’s Ear of Food Safety http://nyti.ms/1zhBhs0\\n543434018021470208|Fri Dec 12 15:55:41 +0000 2014|Well: Weight Gain Carries Risks, No Matter Your Weight http://nyti.ms/1zHKkDH\\n543416498044542977|Fri Dec 12 14:46:03 +0000 2014|The New Old Age Blog: U.S. Health Care Lags Worldwide for Those Over 65 http://nyti.ms/1wn60mf\\n543416496249384960|Fri Dec 12 14:46:03 +0000 2014|Well: Pâté from the Sea http://nyti.ms/1DmTjy0\\n543253588219142144|Fri Dec 12 03:58:43 +0000 2014|Strange Climate Event: Warmth Toward U.S. for Its More Assertive Role  http://nyti.ms/1GiLCqV\\n543249745162932224|Fri Dec 12 03:43:26 +0000 2014|Judge Says Actavis Must Continue to Sell Namenda, a Drug for Alzheimer’s Disease http://nyti.ms/1shJpcB\\n543249742851883008|Fri Dec 12 03:43:26 +0000 2014|World Briefing: Mali: No Ebola Cases, Ministry Says http://nyti.ms/1GiLAiz\\n543170222006759424|Thu Dec 11 22:27:27 +0000 2014|RT @bencareynyt: The psychological \"theory\" of torture, and its recent history: http://bit.ly/1Bj4hzW\\n543168345777131520|Thu Dec 11 22:19:59 +0000 2014|RT @bencareynyt: The psychological \"theory\" of torture, and its recent history: http://nyti.ms/1uqctsD\\n543164021030285312|Thu Dec 11 22:02:48 +0000 2014|Researcher who conducted studies CIA psychologists cited said he was “grieved and horrified” by twisting of his work. http://nyti.ms/16c5FdP\\n543156024081776640|Thu Dec 11 21:31:02 +0000 2014|Double plastic problems: http://nyti.ms/138gtZj and  http://nyti.ms/138gv3m\\n543151347701665793|Thu Dec 11 21:12:27 +0000 2014|RT @cslnyt: Worried about sexual assault? Read this http://nyti.ms/1urBDI5 @susandominus\\n543123596290576384|Thu Dec 11 19:22:10 +0000 2014|Gay Advocates Can Shift Same-Sex Marriage Views http://nyti.ms/1Di2mk1\\n543109041875333120|Thu Dec 11 18:24:20 +0000 2014|RT @paula_span: Do seniors in assisted living have fewer \"unmet needs\" than those living in own homes? Sort of. http://newoldage.blogs.nytimes.com/2014/12/09/unmet-needs-for-elderly-continue-to-pile-up/\\n543073675260747776|Thu Dec 11 16:03:48 +0000 2014|Well: The Punishing Cost of Cancer Care http://nyti.ms/1zUiHp4\\n542906939949473792|Thu Dec 11 05:01:15 +0000 2014|Insurers in New York Must Cover Gender Reassignment Surgery, Cuomo Says http://nyti.ms/1skxKUG\\n542903021878132736|Thu Dec 11 04:45:41 +0000 2014|In New Mexico, Deliverer of a Town’s Children Faces Salacious Accusations http://nyti.ms/1skxN2L\\n542903020779212801|Thu Dec 11 04:45:41 +0000 2014|Business Briefing: F.D.A. Approves New Version of Cervical Cancer Vaccine  http://nyti.ms/1qyieJt\\n542898569007882240|Thu Dec 11 04:28:00 +0000 2014|Health Goth: When Darkness and Gym Rats Meet http://nyti.ms/1skxN2J\\n542898567791521792|Thu Dec 11 04:27:59 +0000 2014|Philadelphia Transit Agency Sues Gilead Over Cost of Sovaldi http://nyti.ms/1qyieJr\\n542852424952991744|Thu Dec 11 01:24:38 +0000 2014|Well: Exercising a Fat Dog (and Yourself) http://nyti.ms/12OyHOo\\n542838317617016833|Thu Dec 11 00:28:35 +0000 2014|Op-Ed Contributor: Don’t Homogenize Health Care http://nyti.ms/1ICws1J\\n542761042125021184|Wed Dec 10 19:21:31 +0000 2014|RT @bstrauch: Depression that melts away? This new/old drug helps some and drug companies have big plans.But can it work? http://t.co/fqig5…\\n542720910172897280|Wed Dec 10 16:42:02 +0000 2014|Biscuits, as the psychologists that assist w/ interrogations are known, have long raised red flags for their peers.  http://nyti.ms/1yA3k38\\n542718642564395010|Wed Dec 10 16:33:02 +0000 2014|Worth revisiting this @bencareynyt piece on psychologists’ central role in C.I.A. interrogations. http://nyti.ms/1yA2Qda\\n542714488756396033|Wed Dec 10 16:16:31 +0000 2014|For Many With Breast Cancer, Shorter Radiation Treatment Is Just as Effective, Study Finds http://nyti.ms/1IAAd7K\\n542668384161529858|Wed Dec 10 13:13:19 +0000 2014|Well: Got a Minute? Let’s Work Out http://nyti.ms/1ul7gmH\\n542551171916124160|Wed Dec 10 05:27:34 +0000 2014|National Briefing | Health: Nearly 2,000 Travelers Screened for Ebola http://nyti.ms/1GhJoWQ\\n542551170993364993|Wed Dec 10 05:27:33 +0000 2014|Special K, a Hallucinogen, Raises Hopes and Concerns as a Treatment for Depression http://nyti.ms/1GhJqOs\\n542453124116410368|Tue Dec 09 22:57:57 +0000 2014|Overdoses involving prescription drugs are a leading cause of accidental death in the United States. http://nyti.ms/1uj8yPe\\n542452019126996993|Tue Dec 09 22:53:34 +0000 2014|RT @UpshotNYT: Obamacare is not one-size-fits-all and here\\'s why: http://nyti.ms/1yx9s0S http://twitter.com/UpshotNYT/status/542432794136178688/photo/1\\n542450554257956864|Tue Dec 09 22:47:45 +0000 2014|Running may reverse aging in certain ways while walking does not. http://nyti.ms/1uj747E\\n542437915251326978|Tue Dec 09 21:57:31 +0000 2014|The New Old Age Blog: Unmet Needs Continue to Pile Up http://nyti.ms/1wdpCcw\\n542409425919569922|Tue Dec 09 20:04:19 +0000 2014|RT @deborahblum: A chilling story: When a Rapist’s Weapon Is a Drug http://nyti.ms/1zl4hzS\\n542409033064263680|Tue Dec 09 20:02:45 +0000 2014|RT @cslnyt: Stroke in #pregnancy is \"rare, deadly and increasing\" http://ow.ly/FzJBi @acognews @Preeclampsia @MySMFM\\n542273212365561856|Tue Dec 09 11:03:03 +0000 2014|The research behind roofies and rapists who feel drawn to drug. http://nyti.ms/1uccbpS\\n542270708437372930|Tue Dec 09 10:53:06 +0000 2014|A step toward reducing deaths from lung cancer. http://nyti.ms/1uc9mFv\\n542190616013443073|Tue Dec 09 05:34:50 +0000 2014|Propensity for Pessimism: The Battle Over Douglas Elmendorf — and the Inability to See Good News http://nyti.ms/1wu5Ooz\\n542182740389801986|Tue Dec 09 05:03:33 +0000 2014|Patients Prescribed Narcotic Painkillers Use More of Them for Longer, Study Finds http://nyti.ms/1vyzJVx\\n542174619336474624|Tue Dec 09 04:31:17 +0000 2014|Vote on Vivek Murthy, Surgeon General Nominee, May Be Near http://nyti.ms/1z14Lds\\n542174618401112064|Tue Dec 09 04:31:16 +0000 2014|G.O.P. Extracts Price for Averting Shutdown http://nyti.ms/1IsRKyH\\n542150701074235392|Tue Dec 09 02:56:14 +0000 2014|After years of research there is genuine hope for reducing the toll of lung cancer.  http://nyti.ms/1uc9mFv\\n542137553256984576|Tue Dec 09 02:03:59 +0000 2014|World Briefing | Health: Malaria Scourge Has Declined Globally, but Ebola May Affect Toll, W.H.O. Says http://nyti.ms/1zloRjH\\n542133105050812416|Tue Dec 09 01:46:19 +0000 2014|Half of Doctors Listed as Serving Medicaid Patients Are Unavailable, Investigation Finds http://nyti.ms/1A9tJ9X\\n542098881605939200|Mon Dec 08 23:30:19 +0000 2014|Why would someone who has seemingly easy access to consensual sex resort to drugging? The research: http://nyti.ms/1uccbpS\\n542093690530181122|Mon Dec 08 23:09:42 +0000 2014|The New Health Care: Health Care Law Is Not One-Size-Fits-All, and Here’s Why http://nyti.ms/1z0veaZ\\n542091515573833728|Mon Dec 08 23:01:03 +0000 2014|The Mediterranean Diet Is Good for Your DNA http://nyti.ms/1ucbH39\\n542089323924176898|Mon Dec 08 22:52:21 +0000 2014|Rate of Stroke Rising in Pregnant Women, Report Finds http://nyti.ms/1yu7a2y\\n542089322405830656|Mon Dec 08 22:52:20 +0000 2014|When a Rapist’s Weapon is a Drug http://nyti.ms/1z0vbfo\\n542089274364289024|Mon Dec 08 22:52:09 +0000 2014|Despite treatment advances for many cancers, lung cancer has remained a stubborn killer. http://nyti.ms/1uc9mFv\\n542089231771111424|Mon Dec 08 22:51:59 +0000 2014|RT @randyNYT: How NYT covers Ebola http://nyti.ms/1z914DC Editor Greg Winter quoted also supervises Mexico, has handled a lot of #Ayotzinap…\\n542075769259053056|Mon Dec 08 21:58:29 +0000 2014|Well: BPA in Cans and Plastic Bottles Linked to Quick Rise in Blood Pressure http://nyti.ms/1z0pZbr\\n542032004926423040|Mon Dec 08 19:04:35 +0000 2014|Well: For Lung Cancer Screening, a Small Dose of Hope http://nyti.ms/12iUptL\\n542009216853360640|Mon Dec 08 17:34:01 +0000 2014|Well: Antibiotics May Not Raise Asthma Risk http://nyti.ms/12iAE5F\\n541998539011014656|Mon Dec 08 16:51:36 +0000 2014|An Ebola Doctor’s Return From the Edge of Death  http://nyti.ms/12XYfcV\\n541802217234505728|Mon Dec 08 03:51:29 +0000 2014|Paid to Promote Eye Drug, and Prescribing It Widely http://nyti.ms/1A7gG93\\n541798012704796672|Mon Dec 08 03:34:47 +0000 2014|Dallas Physician in Nation’s First Ebola Case Acknowledges Errors in Treatment http://nyti.ms/1zfNkXK\\n541798011849150465|Mon Dec 08 03:34:46 +0000 2014|Liberian President’s Ban on Rallies Is Seen as Political http://nyti.ms/1A7gG8Z\\n541753218204983296|Mon Dec 08 00:36:47 +0000 2014|An Ebola Doctor’s Return From the Edge of Death  http://nyti.ms/1AO9q2C\\n541403100079484929|Sun Dec 07 01:25:32 +0000 2014|As Ebola Rages, Poor Planning Thwarts Efforts  http://nyti.ms/1yqReJm\\n541399273313947648|Sun Dec 07 01:10:20 +0000 2014|Vegetable Spawns Larceny and Luxury in Peru http://nyti.ms/1yqA5og\\n541399271715913729|Sun Dec 07 01:10:19 +0000 2014|Cancer Drugs That Free Brake on Immune System Show Promise for Hodgkin’s http://nyti.ms/1yqRet4\\n541066328891981824|Sat Dec 06 03:07:19 +0000 2014|World Briefing: Pakistan: Children May Have Been Infected with H.I.V. http://nyti.ms/1FW13mC\\n540993049602850817|Fri Dec 05 22:16:08 +0000 2014|Well: Think Like a Doctor: A Hideous Sore Solved http://nyti.ms/1FUPZq3\\n540970518607044609|Fri Dec 05 20:46:37 +0000 2014|The New Health Care: The Health-Cost Slowdown Isn’t Just About the Economy http://nyti.ms/1vx33AK\\n540964378007597056|Fri Dec 05 20:22:13 +0000 2014|Well: Wild About Mushrooms http://nyti.ms/1vwZj21\\n540952307429818368|Fri Dec 05 19:34:15 +0000 2014|Well: The Yogurt Must Be Greek http://nyti.ms/126zie7\\n540939540631126016|Fri Dec 05 18:43:31 +0000 2014|Well: The Yogurt Must Be Greek http://nyti.ms/126ofSg\\n540911538560053249|Fri Dec 05 16:52:15 +0000 2014|What common spice can cause hallucinations? Take our quiz. http://nyti.ms/1tZx5aT\\n540908018834341888|Fri Dec 05 16:38:15 +0000 2014|Clues emerge as to why the Mediterranean diet is good for you. http://nyti.ms/1wzfLAg\\n540907877679243265|Fri Dec 05 16:37:42 +0000 2014|Take this quiz to see whether you have a a Mediterranean diet.  http://nyti.ms/1wzfLAg\\n540722955110858752|Fri Dec 05 04:22:53 +0000 2014|A young doctor goes to the world cup, then develops a terrible rash. Then her boyfried gets it. What\\'s causing it? http://nyti.ms/1pYH9p4\\n540706896714674176|Fri Dec 05 03:19:04 +0000 2014|Liberia Bans Election Rallies to Fight Ebola  http://nyti.ms/1zXG2Ge\\n540621694936035328|Thu Dec 04 21:40:30 +0000 2014|Well: After a Cancer Diagnosis, Learning to Let Go http://nyti.ms/1tUlZ77\\n540598226580430848|Thu Dec 04 20:07:15 +0000 2014|RT @paula_span: New York City\\'s first geriatric cardiology clinic opens, because in medicine age is not just a number.  http://t.co/55ZoJpJ…\\n540585959788937217|Thu Dec 04 19:18:31 +0000 2014|The general fertility rate in the United States dropped to a record low last year, http://nyti.ms/1wzpyGG\\n540585928654618624|Thu Dec 04 19:18:23 +0000 2014|C.D.C. Warns That Flu Season May Be More Deadly Than Usual http://nyti.ms/1CJyTPB\\n540580237424476160|Thu Dec 04 18:55:46 +0000 2014|The New Old Age Blog: A Focus on the Heart for Older Patients http://nyti.ms/1FU4k83\\n540578857427152896|Thu Dec 04 18:50:17 +0000 2014|RT @UpshotNYT: ProPublica offers a tool for figuring out what\\'s changed in the details of your health insurance plan. http://nyti.ms/1I4whvY\\n540578712488792064|Thu Dec 04 18:49:43 +0000 2014|Can you figure out what caused a hideous sore? http://nyti.ms/1wzg1PN\\n540578508364607489|Thu Dec 04 18:48:54 +0000 2014|The Mediterranean diet is good for your DNA. http://nyti.ms/1wzfLAg\\n540573064119861249|Thu Dec 04 18:27:16 +0000 2014|A significant share of the bacteria present in India are immune to nearly all antibiotics. http://nyti.ms/1wz9ggZ\\n540549230411382784|Thu Dec 04 16:52:34 +0000 2014|RT @nycscribe: Superbugs are one compelling reason the world should care about India\\'s sanitation. @GardinerHarris http://pbs.twimg.com/media/B4BpvPmIIAEMz7s.jpg\\n540548853129564162|Thu Dec 04 16:51:04 +0000 2014|Public restrooms aren’t any dirtier than the rest of our environment, researchers report. http://nyti.ms/1wyEMvz\\n540537952515137536|Thu Dec 04 16:07:45 +0000 2014|Enrollments Under Health Law Continue at Solid Pace http://nyti.ms/1yqBDxb\\n540517249388658689|Thu Dec 04 14:45:29 +0000 2014|Well: Go Ahead, Use the Restroom http://nyti.ms/1yjaGNj\\n540496976333533185|Thu Dec 04 13:24:55 +0000 2014|Well: Think Like a Doctor: A Hideous Sore http://nyti.ms/12pjqmX\\n540371661598773248|Thu Dec 04 05:06:58 +0000 2014|Chronic Diseases Are Killing More in Poorer Countries http://nyti.ms/1zT5D3d\\n540354470375612416|Thu Dec 04 03:58:39 +0000 2014|Court Strikes Down Drug Tests for Florida Welfare Applicants http://nyti.ms/1Ai7iA2\\n540354469146677248|Thu Dec 04 03:58:39 +0000 2014|University of Texas Says It Can Account for Missing Brain Specimens http://nyti.ms/1Ai7grO\\n540328721203605504|Thu Dec 04 02:16:20 +0000 2014|‘Superbugs’ Kill India’s Babies and Pose an Overseas Threat http://nyti.ms/1yn4P8p\\n540324117506195457|Thu Dec 04 01:58:03 +0000 2014|British Regulator Urges Home Births Over Hospitals for Uncomplicated Pregnancies http://nyti.ms/1FPX2C9\\n540289339427934209|Wed Dec 03 23:39:51 +0000 2014|Think Like a Doctor contest by Dr. Lisa Sanders -- goes live at 8 am on Well http://nyti.ms/1bJTdT1 http://pbs.twimg.com/media/B39-SCaCcAASI8D.jpg\\n540251740084654081|Wed Dec 03 21:10:26 +0000 2014|Medicines Taken During Pregnancy to Get Clearer Warnings on Risk http://nyti.ms/1zRN3Zc\\n540236109264191488|Wed Dec 03 20:08:20 +0000 2014|Meet the virus detective. (Photo by Damon Winter.) http://nyti.ms/1wt8PVy http://pbs.twimg.com/media/B39N4ObCAAAxHR6.jpg\\n540175667917504512|Wed Dec 03 16:08:09 +0000 2014|Running may reverse aging in certain ways while walking does not.http://nyti.ms/1wrKHCy\\n540011433732624385|Wed Dec 03 05:15:33 +0000 2014|Well: Run to Stay Young http://nyti.ms/1vgVdpO\\n540011432398848000|Wed Dec 03 05:15:33 +0000 2014|New York Plan Aims to Divert Mentally Ill People From Jail’s Revolving Door http://nyti.ms/1ye3u4Y\\n540007146684166144|Wed Dec 03 04:58:31 +0000 2014|At N.I.H., Obama Stresses Need to Keep Funding Fight Against Ebola  http://nyti.ms/1ye10na\\n540007145685925889|Wed Dec 03 04:58:31 +0000 2014|Giants Chairman Finances Improved Medical Supervision for School Football Programs http://nyti.ms/1vgQ5lD\\n539969172131041280|Wed Dec 03 02:27:37 +0000 2014|Business Briefing: Biogen Idec Alzheimer’s Drug to Receive Late-Stage Study http://nyti.ms/1FL3NU1\\n539964725153767424|Wed Dec 03 02:09:57 +0000 2014|Monitoring for Those Exposed to New York Ebola Patient Ends http://nyti.ms/1rSOkjZ\\n539964724155547649|Wed Dec 03 02:09:56 +0000 2014|New Concerns Over Response to Ebola Crisis http://nyti.ms/1FL3Lvk\\n539929253089775618|Tue Dec 02 23:48:59 +0000 2014|Well: Mediterranean Diet Is Good for Your DNA http://nyti.ms/1tBtT60\\n539837723251843072|Tue Dec 02 17:45:17 +0000 2014|A review of ‘Invisible History of the Human Race.’ on @nytimesbooks list of notable books of the year. http://nyti.ms/1wkSger\\n539837173726715905|Tue Dec 02 17:43:06 +0000 2014|Being Mortal is on @nytimesbooks list of notable books. Here is our review: http://nyti.ms/1wkRe1O\\n539821342489841664|Tue Dec 02 16:40:12 +0000 2014|Bugs in Manhattan Compete With Rats for Food Refuse http://nyti.ms/1HVoZui\\n539816541660135424|Tue Dec 02 16:21:07 +0000 2014|C.D.C. urges teenage boys to get circumcised to reduce risk of getting H.I.V. http://nyti.ms/11OOaO7\\n539780511083020289|Tue Dec 02 13:57:57 +0000 2014|Well: Circumcision Guidelines Target Teenagers http://nyti.ms/1FJC3Pv\\n539649334107987968|Tue Dec 02 05:16:42 +0000 2014|Antismoking Story That Is Tailored to Native Alaskans http://nyti.ms/1yzBbvr\\n539645312189886465|Tue Dec 02 05:00:43 +0000 2014|New York City Plans Focus on Mental Health in Justice System http://nyti.ms/1rQxuCm\\n539645311246139392|Tue Dec 02 05:00:42 +0000 2014|Video Feature: Jade’s Journey Marked by Drugs and Death http://nyti.ms/1yzB8jl\\n539608493008101377|Tue Dec 02 02:34:24 +0000 2014|New York Attorney General Critical of Heroin Antidote’s Cost http://nyti.ms/1y7IhEM\\n539608491716280320|Tue Dec 02 02:34:24 +0000 2014|2014 Goals for Ebola Treatment May Not Be Met, U.N. Health Officials Say http://nyti.ms/1yEBq9q\\n539576812947644416|Tue Dec 02 00:28:31 +0000 2014|Well: Hoping for a Good Death http://nyti.ms/1twVoO3\\n539576811882303488|Tue Dec 02 00:28:31 +0000 2014|Well: Therapy Prevents Repeat Suicide Attempts http://nyti.ms/1twXEVr\\n539572323373023232|Tue Dec 02 00:10:41 +0000 2014|Op-Ed Contributors: Why Our Memory Fails Us http://nyti.ms/1vD1jFY\\n539556436729401345|Mon Dec 01 23:07:33 +0000 2014|Global Health: GlaxoSmithKline Leads In Getting Drugs to Poor http://nyti.ms/1yb70gr\\n539551905543098368|Mon Dec 01 22:49:33 +0000 2014|Well: I Was My Own Trauma Unit http://nyti.ms/1yb7kvE\\n539551904498724864|Mon Dec 01 22:49:33 +0000 2014|Books: ‘The Invisible History of the Human Race’ Provides Transparency on Our Genetic Heritage http://nyti.ms/1zaqjDD\\n539547896526675969|Mon Dec 01 22:33:37 +0000 2014|The New Old Age Blog: Part D for Drug Coverage — and Drudgery http://nyti.ms/1zanC4W\\n539547895390023680|Mon Dec 01 22:33:37 +0000 2014|Sifting Through Genes in Search of Answers on Ebola http://nyti.ms/1yb71Rt\\n539544080150458369|Mon Dec 01 22:18:27 +0000 2014|Well: When Everyday Noise Is Unbearable http://nyti.ms/1yb6oHN\\n539544078875365376|Mon Dec 01 22:18:27 +0000 2014|Well: Diabetes in Midlife Tied to Memory Problems Late in Life http://nyti.ms/1zaktly\\n539532966188568578|Mon Dec 01 21:34:17 +0000 2014|Well: Ask Well: Eating Fat to Boost Vitamin D and Calcium http://nyti.ms/1yb4abg\\n539528265619496960|Mon Dec 01 21:15:37 +0000 2014|Reactions: Patient Results, Risks Beyond Fertility, Tallying Up What We Eat http://nyti.ms/1A8N1gn\\n539528264524775424|Mon Dec 01 21:15:36 +0000 2014|Observatory: A Vulture’s Gut Is Simple but Seems Effective http://nyti.ms/1yb3cvM\\n539509573041016832|Mon Dec 01 20:01:20 +0000 2014|RT @UpshotNYT: Why we are eating more berries these days. (It\\'s supply-side, not demand.)  http://nyti.ms/1y9lMmI http://pbs.twimg.com/media/B3yRqkMIIAAFvRZ.jpg\\n539509111520780288|Mon Dec 01 19:59:30 +0000 2014|RT @jswatz: Hope after pain, depression, and alcoholic haze: Neediest Cases / @AlexVadukul http://nyti.ms/1rMHi0b\\n539508962589417472|Mon Dec 01 19:58:54 +0000 2014|RT @michaelpollan: Important NYT story on big data and farming suggesting it will benefit the biggest players and monocropping. http://t.co…\\n539508771668897792|Mon Dec 01 19:58:09 +0000 2014|Well: Prescribing Vegetables, Not Pills http://nyti.ms/12k3XVg\\n539464304421257216|Mon Dec 01 17:01:27 +0000 2014|The New Health Care: Underinsurance Remains Big Problem Under Obama Health Law http://nyti.ms/1A7YRat\\n539287730141016064|Mon Dec 01 05:19:49 +0000 2014|Federal Study Finds 55 Percent of Infants Sleep With Soft Bedding, Raising Risk of Death http://nyti.ms/1y1JqO2\\n539267314441785345|Mon Dec 01 03:58:41 +0000 2014|Popular ‘Eat This, Not That!’ Brand to Start Quarterly Magazine http://nyti.ms/1y6qUrB\\n539262747436154881|Mon Dec 01 03:40:32 +0000 2014|Case Seeking Job Protections for Pregnant Women Heads to Supreme Court  http://nyti.ms/1y6lA7H\\n539262746345611266|Mon Dec 01 03:40:32 +0000 2014|Drug to Stop Heroin Deaths Is More Costly, the Police Say http://nyti.ms/1A5HQh5\\n539258182376624129|Mon Dec 01 03:22:24 +0000 2014|Ebola Now Preoccupies Once-Skeptical Leader in Guinea http://nyti.ms/1y6lA7B\\n539258180833136640|Mon Dec 01 03:22:23 +0000 2014|Retro Report: Long After an ’80s Scare, Suspicion of Power Lines Prevails http://nyti.ms/1A5HNBO\\n538879173222498304|Sun Nov 30 02:16:21 +0000 2014|N.F.L. Teams Now Operate Under a Concussion Management Protocol http://nyti.ms/1tAOEhl\\n538863902537580544|Sun Nov 30 01:15:40 +0000 2014|Suit on Health Law Puts Focus on Funding Powers  http://nyti.ms/1v5ngNS\\n538777784953606144|Sat Nov 29 19:33:28 +0000 2014|Opinion: Can Mushrooms Treat Depression? http://nyti.ms/127kwEv\\n538566526388154368|Sat Nov 29 05:34:00 +0000 2014|At Assisted-Living Home Set to Close, Holdouts Dig In as Services Dry Up http://nyti.ms/1ytLl1B\\n538538517639753728|Sat Nov 29 03:42:42 +0000 2014|Denham Harman, 98, Dies; Sought Leverage on Aging  http://nyti.ms/1CqxP30\\n538534010587480064|Sat Nov 29 03:24:48 +0000 2014|At Assisted-Living Home Set to Close, Holdouts Dig In as Services Dry Up http://nyti.ms/1Cqwid9\\n538534009471762433|Sat Nov 29 03:24:47 +0000 2014|More Pastors Embrace Talk of Mental Ills http://nyti.ms/1tztUGB\\n538420094045794304|Fri Nov 28 19:52:08 +0000 2014|The private complexities of obesity at a young age. http://nyti.ms/1w0mQtr\\n538415927231250432|Fri Nov 28 19:35:34 +0000 2014|This is what you do with all that turkey. http://nyti.ms/1FCmnNY http://pbs.twimg.com/media/B3jWbshCUAAAW5H.jpg\\n538413984635166720|Fri Nov 28 19:27:51 +0000 2014|RT @celiadugger: More polio vaccinators murdered in Pakistan, main bastion of the disease. Nawaz Sharif\\'s promises unkept. http://t.co/D1Q4…\\n538393387578048512|Fri Nov 28 18:06:01 +0000 2014|This is what you do with Thanksgiving leftovers. 5 ideas that are pleasantly edible. http://nyti.ms/1vlbX2v http://pbs.twimg.com/media/B3ZzfUDCQAAKBcs.png\\n538361726228381696|Fri Nov 28 16:00:12 +0000 2014|One less thing to worry about  as you renew your commitment to excercise: antioxidants. They may be that helpful. http://nyti.ms/1vl9Iw8\\n538178544296558594|Fri Nov 28 03:52:18 +0000 2014|In Arizona, a Textbook Fuels a Broader Dispute Over Sex Education  http://nyti.ms/1ptHMGY\\n538178543294107648|Fri Nov 28 03:52:18 +0000 2014|Despite Aid Push, Ebola Is Raging in Sierra Leone http://nyti.ms/1zBDAoL\\n538046511943536640|Thu Nov 27 19:07:39 +0000 2014|Study Details Presidents’ Paths From Power to Dusty Corner of Cultural Memory http://nyti.ms/1uZjIg2\\n538029842319810560|Thu Nov 27 18:01:25 +0000 2014|Drug Maker Gave Large Payments to Doctors With Troubled Track Records  http://nyti.ms/1HJ1QuU\\n537838075242881024|Thu Nov 27 05:19:24 +0000 2014|National Briefing | Health: U.S. Smoking Rate Dips Again  http://nyti.ms/1uY57S9\\n537821388510601217|Thu Nov 27 04:13:05 +0000 2014|Wyoming Devises Plan to Expand Medicaid http://nyti.ms/1vPXoaH\\n537792769264459776|Thu Nov 27 02:19:22 +0000 2014|Food for Thought: Calories on Menus: Nationwide Experiment Into Human Behavior http://nyti.ms/11VFtSQ\\n537774694720892928|Thu Nov 27 01:07:33 +0000 2014|News Analysis: Without Passing a Single Law, Obama Crafts Bold Enviornmental Policy http://nyti.ms/1yiNjSj\\n537770723620962305|Thu Nov 27 00:51:46 +0000 2014|Sierra Leone to Eclipse Liberia in Ebola Cases http://nyti.ms/1FtjWxb\\n537770722362683393|Thu Nov 27 00:51:46 +0000 2014|1 Million Applied for Health Insurance in Federal Marketplace in First Week of Enrollment http://nyti.ms/1yiNmgU\\n537689145460940800|Wed Nov 26 19:27:36 +0000 2014|Well: Diabetes Screening Lags in People With Hypertension http://nyti.ms/1FrlJVj\\n537651561661755392|Wed Nov 26 16:58:16 +0000 2014|Well: Vegetarian Thanksgiving: No-Bake Apple Pie http://nyti.ms/1zY81Gt\\n537645354620293120|Wed Nov 26 16:33:36 +0000 2014|The Ethicist: Should Free Office Food Be Taken Home? http://nyti.ms/1yheNb0\\n537481247178883073|Wed Nov 26 05:41:29 +0000 2014|RT @paula_span: Elder mistreatment in nursing homes often involves residents vs residents: Chilling new study says 1 in five.  http://t.co/…\\n537481152085651456|Wed Nov 26 05:41:07 +0000 2014|RT @bstrauch: As @ginakolata writes, private oncologists are a vanishing breed and patients are paying higher prices. http://nyti.ms/1xB3M0w\\n537480905317957633|Wed Nov 26 05:40:08 +0000 2014|RT @cslnyt: Soon you\\'ll know the calories in takeout, movie popcorn &amp; even restaurant beer - thx to FDA http://nyti.ms/1xPD8Vm @stavernise …\\n537480636827959296|Wed Nov 26 05:39:04 +0000 2014|RT @deborahblum: The poison writer in the holidays! My latest for @nytimes: A Warning on Nutmeg http://nyti.ms/1rpCw2E via @nytimeswell\\n537476249632133121|Wed Nov 26 05:21:38 +0000 2014|Well: Why Antioxidants Don’t Belong in Your Workout http://nyti.ms/1vfSIHA\\n537450035240525824|Wed Nov 26 03:37:28 +0000 2014|State Investigating Woman’s Death After Nursing Home Evacuation  http://nyti.ms/1yepDyB\\n537450034275835905|Wed Nov 26 03:37:28 +0000 2014|National Briefing | Health: Study Finds Most With H.I.V. Don’t Take Medicine  http://nyti.ms/1xCXD3K\\n537421969692819457|Wed Nov 26 01:45:57 +0000 2014|Eli Lilly Gets European Approval to Sell Trulicity, a Type 2 Diabetes Drug http://nyti.ms/1vLDNrn\\n537421968707186688|Wed Nov 26 01:45:56 +0000 2014|Obama to Introduce Sweeping New Controls on Ozone Emissions http://nyti.ms/11WR9DP\\n537409122166378497|Wed Nov 26 00:54:53 +0000 2014|Op-Ed Contributor: The Problem With Prostate Screening http://nyti.ms/11WFqFr\\n537357180354039808|Tue Nov 25 21:28:30 +0000 2014|Well: Vegetarian Thanksgiving: Vegetable Tarts, Big and Small http://nyti.ms/1xBnzNo\\n537345894463836161|Tue Nov 25 20:43:39 +0000 2014|Well: A Warning on Nutmeg http://nyti.ms/1rdriE1\\n537336860176297985|Tue Nov 25 20:07:45 +0000 2014|Panel Decides Against Strongest F.D.A. Warning on Steroid Injections http://nyti.ms/1rdctkZ\\n537318036903329792|Tue Nov 25 18:52:57 +0000 2014|Evidence that serious physiological dysfunctions are at the root of chronic fatigue syndrome. http://nyti.ms/1HEIaIA\\n537308778006577152|Tue Nov 25 18:16:10 +0000 2014|Even beer will get calorie counts at chains across the country starting soon. http://nyti.ms/1HEFmeE\\n537305892451270656|Tue Nov 25 18:04:42 +0000 2014|The New Old Age Blog: Violence in the Nursing Home http://nyti.ms/1tgSbSF\\n537288362760364032|Tue Nov 25 16:55:02 +0000 2014|Well: Vegetarian Thanksgiving: A Quinoa Stuffing http://nyti.ms/1vbIEiV\\n537270846474420224|Tue Nov 25 15:45:26 +0000 2014|RT @bstrauch: Want to know how many calories in that huge movie popcorn? Probably not. But now you will. http://nyti.ms/1tqFmV7\\n537104865433223168|Tue Nov 25 04:45:53 +0000 2014|Report Faults Care of Peace Corps Volunteer http://nyti.ms/1yacbM7\\n537104864086851584|Tue Nov 25 04:45:53 +0000 2014|World Briefing: New Strain of Bird Flu Prompts a Warning for Farmers http://nyti.ms/1rm1dNG\\n537100552703074304|Tue Nov 25 04:28:45 +0000 2014|Lawmakers Look for Ways to Provide Relief for Rising Cost of Generic Drugs http://nyti.ms/1rlXyzd\\n537100551750959104|Tue Nov 25 04:28:45 +0000 2014|Health Care Delays Lead to Ouster of Veterans Hospital Director in Phoenix http://nyti.ms/1rlYIL8\\n537096644161175552|Tue Nov 25 04:13:13 +0000 2014|F.D.A. to Announce Sweeping Calorie Rules for Restaurants http://nyti.ms/1yac96L\\n537096643095838722|Tue Nov 25 04:13:13 +0000 2014|F.D.A. Issues Caution on Use of Uterine Surgery Device That Can Spread Cancer http://nyti.ms/1rlXxvf\\n537054230029545473|Tue Nov 25 01:24:41 +0000 2014|Well: Yogurt May Lower Diabetes Risk http://nyti.ms/1xPs1Mf\\n537046173010628608|Tue Nov 25 00:52:40 +0000 2014|Well: Ask Well: Can Athletes Be Vegans? http://nyti.ms/1vj3BKd\\n537042215240237056|Tue Nov 25 00:36:56 +0000 2014|Global Health: Hookah, as Health Risk, Still Qualifies as Smoking http://nyti.ms/1vj3DBP\\n537042213948387329|Tue Nov 25 00:36:56 +0000 2014|The Scan: Science Events: Minimalist Music and a Spotlight on Sex  http://nyti.ms/1FlsO7Z\\n537037634686955520|Tue Nov 25 00:18:44 +0000 2014|Q&amp;A: What Determines the Color of Fish Flesh? http://nyti.ms/1vj3Uo5\\n537037633650978816|Tue Nov 25 00:18:44 +0000 2014|Well: Brains of People with Chronic Fatigue Syndrome Offer Clues About Disorder http://nyti.ms/1Flv27t\\n537033189869768704|Tue Nov 25 00:01:04 +0000 2014|Leading Surgeon Is Accused of Misconduct in Experimental Transplant Operations  http://nyti.ms/1vj3DBN\\n537033188615684100|Tue Nov 25 00:01:04 +0000 2014|Books: \\'XL Love\\' Examines the Private Complications of Obesity in Americans’ Relationships http://nyti.ms/1FlsQwu\\n537015941520179201|Mon Nov 24 22:52:32 +0000 2014|Radiologists Are Reducing the Pain of Uncertainty http://nyti.ms/1xOOHfF\\n536984054047203328|Mon Nov 24 20:45:49 +0000 2014|Well: Vegetarian Thanksgiving: Pomegranate Salad http://nyti.ms/1zm30Xg\\n536946511800971266|Mon Nov 24 18:16:39 +0000 2014|Vegetarian Thanksgiving need not mean Tofurky. Lots of delicious ideas here. http://nyti.ms/1pfSIbd http://pbs.twimg.com/media/B3OeAdNCIAA0c36.png\\n536943482355859456|Mon Nov 24 18:04:36 +0000 2014|Well: PCOS: An Infertility Issue That Is Little Understood http://nyti.ms/1uxekLQ\\n536938964020895744|Mon Nov 24 17:46:39 +0000 2014|Well: Low Vitamin D Tied to Higher Death Risk http://nyti.ms/1HDn25t\\n536917573615767552|Mon Nov 24 16:21:39 +0000 2014|A Quirk in Drug Pricing. Reimbursements in private practice vs. a hospital by @ginakolata  http://nyti.ms/1pfw2ro http://pbs.twimg.com/media/B3ODr-LCYAAcNz6.png\\n536915832321101824|Mon Nov 24 16:14:44 +0000 2014|RT @UpshotNYT: How to create the best healthcare policies. http://nyti.ms/1yLW45G http://pbs.twimg.com/media/B3NkbnAIQAAaxOq.jpg\\n536915432293531648|Mon Nov 24 16:13:09 +0000 2014|RT @sangerkatz: In case you weren\\'t on Twitter Friday night. HHS is wrestling with complex issues in reshaping renewal policy: http://t.co/…\\n536733610234363904|Mon Nov 24 04:10:39 +0000 2014|Snow Brings Days of Tumult for Residents of Nursing Home Near Buffalo http://nyti.ms/1y6hY59\\n536733609231933440|Mon Nov 24 04:10:39 +0000 2014|Notable Absence of New Ebola Quarantines at New York Area Airports http://nyti.ms/1xpUnc3\\n536729120391315456|Mon Nov 24 03:52:48 +0000 2014|Home-Birth Film Prepares for Redelivery, Worldwide http://nyti.ms/1y6hY56\\n536729119464357888|Mon Nov 24 03:52:48 +0000 2014|Private Oncologists Being Forced Out, Leaving Patients to Face Higher Bills http://nyti.ms/1xpUnbX\\n536696527109259266|Mon Nov 24 01:43:18 +0000 2014|Retro Report: Debate Persists Over Diagnosing Mental Health Disorders, Long After ‘Sybil’ http://nyti.ms/1qXldvt\\n536172297829105664|Sat Nov 22 15:00:12 +0000 2014|Teenage drivers who sleep later have fewer car accidents, a study suggests. http://nyti.ms/1F8gny2\\n536017155192393729|Sat Nov 22 04:43:43 +0000 2014|Dr. Donald F. Steiner, Diabetes Researcher, Dies at 84 http://nyti.ms/1um0FHm\\n536012564942319617|Sat Nov 22 04:25:28 +0000 2014|The New Health Care: Change in Health Care Law Would Take Aim at Consumer Inertia http://nyti.ms/1vydkhC\\n536012562954194945|Sat Nov 22 04:25:28 +0000 2014|Officials Revise Goals on Containing Ebola After Signs of Wider Exposure in Mali  http://nyti.ms/1vydm9d\\n535936538648256512|Fri Nov 21 23:23:22 +0000 2014|RT @palafo: Adam Lanza’s Mental Problems ‘Completely Untreated’ Before Newtown Shootings, Report Says, via @nytimes http://www.nytimes.com/2014/11/22/nyregion/before-newtown-shootings-adam-lanzas-mental-problems-completely-untreated-report-says.html?smprod=nytcore-iphone&smid=nytcore-iphone-share\\n535936489113538560|Fri Nov 21 23:23:10 +0000 2014|RT @UpshotNYT: Randomized trials are highly effective for improving health care delivery, but they\\'re also rare. Why? http://nyti.ms/1xKKpXZ\\n535891616167628801|Fri Nov 21 20:24:52 +0000 2014|The New Health Care: How to Arrive at the Best Health Policies  http://nyti.ms/11DAe9t\\n535853855125544960|Fri Nov 21 17:54:49 +0000 2014|Well: Vegetarian Thanksgiving: Skyping the Holiday Meal http://nyti.ms/11CZBrN\\n535833442848890880|Fri Nov 21 16:33:42 +0000 2014|House Republicans Sue Obama Administration Over Health Law http://nyti.ms/1tanMFF\\n535825276773470208|Fri Nov 21 16:01:15 +0000 2014|Hungover this morning? Most people who get drunk are not alcoholics. There may be other strategies to help you.  http://nyti.ms/1xuV47x\\n535820863715946497|Fri Nov 21 15:43:43 +0000 2014|Recipes for Health: Apples From Thanksgiving Start to Finish http://nyti.ms/1tai7zd\\n535816861901139969|Fri Nov 21 15:27:49 +0000 2014|Well: Antibiotics During Pregnancy May Increase Child’s Obesity Risk http://nyti.ms/1tagRw8\\n535786246086205440|Fri Nov 21 13:26:10 +0000 2014|Years after their diagnosis, many people observe their cancer-versaries. http://nyti.ms/1F8gbyI\\n535739206618718208|Fri Nov 21 10:19:15 +0000 2014|Why it’s important for people to know how much their health care tests cost. http://nyti.ms/1xuLeTa\\n535654797551362048|Fri Nov 21 04:43:50 +0000 2014|National Briefing | Washington: Health Insurance Enrollment for Exchanges Was Overcounted http://nyti.ms/1uNubez\\n535654795978473472|Fri Nov 21 04:43:50 +0000 2014|The New Health Care: Health Enrollment Counting Error Shows Where System Is Still Broken http://nyti.ms/11kMZFO\\n535650678681907202|Fri Nov 21 04:27:28 +0000 2014|F.D.A. Approves Hysingla, a Powerful Painkiller http://nyti.ms/1uNubex\\n535650677033537536|Fri Nov 21 04:27:27 +0000 2014|Ebola Spread Has Slowed in Liberia, C.D.C. Says http://nyti.ms/11kN24u\\n535569367036362752|Thu Nov 20 23:04:22 +0000 2014|About 29% of the population meets the definition for excessive drinking, but 90% of them do not meet the definition of alcoholism.\\n535567863483219968|Thu Nov 20 22:58:23 +0000 2014|Well: Most Heavy Drinkers Are Not Alcoholics http://nyti.ms/1uFaaoO\\n535564400787468288|Thu Nov 20 22:44:38 +0000 2014|Navy medical officer who refused to force-feed prisoners at Guantánamo gets support from nurses. http://nyti.ms/1F8ijqg\\n535561941566386178|Thu Nov 20 22:34:51 +0000 2014|The man who figured out that Lyme disease was connected to ticks has died. http://nyti.ms/1xuOdev\\n535561534052007936|Thu Nov 20 22:33:14 +0000 2014|How barley has made living at high altitudes possible. http://nyti.ms/1F8gTMs\\n535557961855533056|Thu Nov 20 22:19:02 +0000 2014|The problem with treating the health care system like an all-you-can-eat buffet. http://nyti.ms/1F8f6ae\\n535554539777445888|Thu Nov 20 22:05:27 +0000 2014|RT @paula_span: Settled: Hospice saves health care costs  (average $9K last yr of life), big study of people w/ terminal cancer shows http:…\\n535527165623042048|Thu Nov 20 20:16:40 +0000 2014|The New Old Age Blog: An Easier Death, and Less Costly, Too http://nyti.ms/1p3y5iq\\n535513466401210368|Thu Nov 20 19:22:14 +0000 2014|Well: Living With Cancer: Gravy Days http://nyti.ms/1yY4erq\\n535513465243590656|Thu Nov 20 19:22:14 +0000 2014|Observatory: Living Higher, Thanks to Barley http://nyti.ms/1vtxYiY\\n535479613431250944|Thu Nov 20 17:07:43 +0000 2014|Well: Vegetarian Thanksgiving: Food Allergies and Autumn Quinoa http://nyti.ms/14RGegV\\n535466392817254401|Thu Nov 20 16:15:11 +0000 2014|DNA testing on fang marks has the potential to save lives. http://nyti.ms/1F7kx9y\\n535465938846769153|Thu Nov 20 16:13:22 +0000 2014|RT @bstrauch: An inside look at why things might not be working so well in fight against Ebola in Liberia. http://nyti.ms/11y4WRa\\n535461334834765824|Thu Nov 20 15:55:05 +0000 2014|Well: That Medical Test Costs $50, or Is It $500? http://nyti.ms/14RkP7u\\n535293900051984385|Thu Nov 20 04:49:45 +0000 2014|Massachusetts Town Votes to End Bid for Tobacco Ban http://nyti.ms/11j4kyW\\n535293898839826432|Thu Nov 20 04:49:45 +0000 2014|Ebola’s Economic Cost Re-Examined  http://nyti.ms/1p1OzHD\\n535289316017467392|Thu Nov 20 04:31:32 +0000 2014|Ebola Response in Liberia Is Hampered by Infighting http://nyti.ms/11j4hmJ\\n535289314968887296|Thu Nov 20 04:31:32 +0000 2014|Willy Burgdorfer, Who Found Bacteria That Cause Lyme Disease, Is Dead at 89 http://nyti.ms/1p1OzHB\\n535232161146998787|Thu Nov 20 00:44:26 +0000 2014|RT @bstrauch: The nasty norovirus may wreck a good cruise, but it has its good side. http://nyti.ms/1xQoewW\\n535220570863190016|Wed Nov 19 23:58:22 +0000 2014|Well: For Teenagers, Early School Start Means More Car Crashes, Study Finds http://nyti.ms/1t6942g\\n535214167536697345|Wed Nov 19 23:32:55 +0000 2014|Some are calling today World Toilet Day. Here is @GardinerHarris epic piece on kids and sanitation. http://nyti.ms/W8HXKt\\n535142108659986433|Wed Nov 19 18:46:35 +0000 2014|Well: Vegetarian Thanksgiving: A Squash Main Course http://nyti.ms/1yproXO\\n535134629435834368|Wed Nov 19 18:16:52 +0000 2014|Matter: Viruses as a Cure http://nyti.ms/1xpVkVv\\n535130816838639617|Wed Nov 19 18:01:43 +0000 2014|Obama’s Executive Order on Immigration Is Unlikely to Include Health Benefits http://nyti.ms/1xpLm6w\\n535126324705107968|Wed Nov 19 17:43:52 +0000 2014|Eat: Delicious Medicine for the Body and Soul http://nyti.ms/1ypa2ui\\n535126323501740032|Wed Nov 19 17:43:52 +0000 2014|Ebola Test Is Negative on Woman Who Died in New York http://nyti.ms/1xpLm6u\\n535123191069704192|Wed Nov 19 17:31:25 +0000 2014|RT @cslnyt: A friend has an abscessed tooth. She didn\\'t realize an oral infection can land her in the hospital but it can http://t.co/8pPAP…\\n534941267185389568|Wed Nov 19 05:28:31 +0000 2014|Well: Does Exercise Really Make Us Smarter? http://nyti.ms/1qoLYbL\\n534935153169424384|Wed Nov 19 05:04:13 +0000 2014|For Cystic Fibrosis Foundation, Venture Yields Windfall in Hope and Cash http://nyti.ms/1qoFObz\\n534911087884652544|Wed Nov 19 03:28:36 +0000 2014|Woman’s Remains Tested for Ebola in New York http://nyti.ms/11qSbI8\\n534903452590424064|Wed Nov 19 02:58:15 +0000 2014|The New Health Care: $2.6 Billion to Develop a Drug? New Estimate Makes Questionable Assumptions http://nyti.ms/1AfQsVh\\n534870260357541888|Wed Nov 19 00:46:22 +0000 2014|Op-Ed Contributors: How Medical Care Is Being Corrupted http://nyti.ms/1tbjg8P\\n534842475639472128|Tue Nov 18 22:55:57 +0000 2014|RT @cslnyt: Should food containing pot require approval before it can be sold? http://nyti.ms/1xjRInV #Colorado\\n534833113130876928|Tue Nov 18 22:18:45 +0000 2014|The New Health Care: How Much Did Health Insurance Rates Go Up? It’s Complicated http://nyti.ms/1t2zIt4\\n534826965401096192|Tue Nov 18 21:54:19 +0000 2014|RT @UpshotNYT: How much did Obamacare insurance rates go up? Well, it depends on who\\'s counting and how. http://nyti.ms/1oZImw0\\n534810651676672000|Tue Nov 18 20:49:30 +0000 2014|Indian Ebola Survivor Is Under Quarantine at Delhi Airport http://nyti.ms/1t2ps40\\n534802910048448512|Tue Nov 18 20:18:44 +0000 2014|Well: Vegetarian Thanksgiving: Vegan Mac N Cheez http://nyti.ms/1BKq2MW\\n534757839001362432|Tue Nov 18 17:19:38 +0000 2014|Study Tempers Promise of Drug for Marfan Syndrome http://nyti.ms/1wTlX0V\\n534568288945442816|Tue Nov 18 04:46:26 +0000 2014|Brooklyn Hospital Is Told to Keep Girl, 2, on Life Support Amid Organ Donation Fight http://nyti.ms/11mJO05\\n534518422718382080|Tue Nov 18 01:28:17 +0000 2014|RT @paula_span: The invisible patient: the one who\\'s taking care of the patient. @janegross on caring for caregivers. http://newoldage.blogs.nytimes.com/2014/11/17/seeing-the-invisible-patient/\\n534512499195146241|Tue Nov 18 01:04:45 +0000 2014|Well: Obesity Is Tied to Pollutants http://nyti.ms/1zxyNoU\\n534508677328564225|Tue Nov 18 00:49:34 +0000 2014|Well: The Best Odds for a Colon Test http://nyti.ms/1zxxLJu\\n534493383117770752|Mon Nov 17 23:48:47 +0000 2014|Reactions: The Brain’s Depths and Romancing the Bomb http://nyti.ms/1xg9JU4\\n534448913789779968|Mon Nov 17 20:52:05 +0000 2014|Q&amp;A: Taking More Than One Vaccine at a Time Doesn\\'t Hurt http://nyti.ms/1vjittH\\n534448912523083776|Mon Nov 17 20:52:04 +0000 2014|Global Health: Snakes Leave Identity Within Their Fang Marks http://nyti.ms/1ESKbN3\\n534423383384272897|Mon Nov 17 19:10:38 +0000 2014|Disgusted by Smoking, Outraged by a Plan to Ban Tobacco http://nyti.ms/1uFFzbL\\n534423382239240193|Mon Nov 17 19:10:38 +0000 2014|The New Old Age Blog: Seeing the ‘Invisible Patient’ http://nyti.ms/1uFJENn\\n534419360073678851|Mon Nov 17 18:54:39 +0000 2014|Study Finds Alternative to Statins in Preventing Heart Attacks and Strokes http://nyti.ms/1xINHbw\\n534419358702133248|Mon Nov 17 18:54:38 +0000 2014|Health Law Turns Obama and Insurers Into Allies http://nyti.ms/1xINHbz\\n534418870728404992|Mon Nov 17 18:52:42 +0000 2014|RT @sangerkatz: There are a lot of ways to look at Obamacare rates for year two. Here\\'s the one we like best: http://nyti.ms/11vKYHM @amand…\\n534418716881346560|Mon Nov 17 18:52:05 +0000 2014|RT @abbygoodnough: Patient who died of Ebola at Nebraska hospital this a.m. \\'had no kidney function\\', was \\'unresponsive\\' when he arrived fr…\\n534418678859964416|Mon Nov 17 18:51:56 +0000 2014|RT @abbygoodnough: Ebola patient at Nebraska hospital received ZMapp, plasma transfusion, dialysis. But \"we weren\\'t able to get him through…\\n534409056992362498|Mon Nov 17 18:13:42 +0000 2014|Well: An Incipient Threat to Our Hearts http://nyti.ms/1uFv6NM\\n534409055205609472|Mon Nov 17 18:13:42 +0000 2014|Doctor Being Treated for Ebola in Omaha Dies http://nyti.ms/1xIH1du\\n534383540633620481|Mon Nov 17 16:32:19 +0000 2014|RT @SominiSengupta: UN\\'s new Ebola crisis manager for Guinea -- Marcel Rudasingwa -- has died. UN says \"natural causes.\" He was 59.\\n534327592292458496|Mon Nov 17 12:49:59 +0000 2014|RT @nycscribe: \"Bring out your sick,\" is the call in rural Guinea, belatedly grappling with Ebola\\'s hidden toll. http://www.nytimes.com/2014/11/17/world/africa/fear-of-ebola-opens-wary-villages-to-outsiders-in-guinea.html?smprod=nytcore-iphone&smid=nytcore-iphone-share\\n534192782274232320|Mon Nov 17 03:54:18 +0000 2014|Dandano Journal: Fear of Ebola Opens Wary Villages to Outsiders in Guinea http://nyti.ms/1uCC99Y\\n534187996741140481|Mon Nov 17 03:35:17 +0000 2014|Colorado Health Department to Recommend ‘Premarket Approval’ for Edible Marijuana  http://nyti.ms/1yahb1a\\n534187995155681281|Mon Nov 17 03:35:17 +0000 2014|Some Hiccups, but Federal Health Exchange Website Is in Good Health http://nyti.ms/1uCC99U\\n534099391871991808|Sun Nov 16 21:43:12 +0000 2014|Fighting an Epidemic: AIDS Group Wages Lonely Fight Against Pill to Prevent H.I.V. http://nyti.ms/14vTFDc\\n533831447606722560|Sun Nov 16 03:58:29 +0000 2014|Some New Frustrations as Health Exchange Opens http://nyti.ms/1vdyqlb\\n533807369906843651|Sun Nov 16 02:22:49 +0000 2014|Some New Frustrations as Health Exchange Opens http://nyti.ms/1y4ybGd\\n533752272313155584|Sat Nov 15 22:43:53 +0000 2014|Martin Salia, Surgeon With Ebola, Arrives in Nebraska From Sierra Leone http://nyti.ms/1sS3gJy\\n533622321236684800|Sat Nov 15 14:07:30 +0000 2014|Electrical Scalp Device Can Slow Progression of Deadly Brain Tumors http://nyti.ms/1uwOvQX\\n533598739643256832|Sat Nov 15 12:33:47 +0000 2014|Well: Vegetarian Thanksgiving: Caramelized Onion and Fennel Risotto http://nyti.ms/1zYASNC\\n533471354906222592|Sat Nov 15 04:07:37 +0000 2014|Rare Vaccine-Derived Polio Discovered in 2 Countries http://nyti.ms/1wBSvwq\\n533467539939295232|Sat Nov 15 03:52:27 +0000 2014|Yale Medical School Removes Doctor After Sexual Harassment Finding http://nyti.ms/1wBStVm\\n533467538718752768|Sat Nov 15 03:52:27 +0000 2014|Affordable Care Act Supporter Ignites Fury With a Word: ‘Stupid’ http://nyti.ms/1vaRBMq\\n533457086085357568|Sat Nov 15 03:10:55 +0000 2014|Business Briefing: F.D.A. Approves Avastin as Ovarian Cancer Treatment  http://nyti.ms/1wBC2Z6\\n533457085015793664|Sat Nov 15 03:10:54 +0000 2014|Tip on Medicare Spurs Insider Trading Investigation http://nyti.ms/1wBC2Z0\\n533453191116251136|Sat Nov 15 02:55:26 +0000 2014|Cost of Coverage Under Affordable Care Act to Increase in 2015 http://nyti.ms/1vaMDiU\\n533453190080262144|Sat Nov 15 02:55:26 +0000 2014|One Drug or 2? Parents See Risk but Also Hope  http://nyti.ms/1wBG5ol\\n533448701529059328|Sat Nov 15 02:37:36 +0000 2014|National Briefing | Washington: Birth Control Challenge Rejected  http://nyti.ms/1vaKYtE\\n533448700266573824|Sat Nov 15 02:37:35 +0000 2014|The New Health Care: Why Shopping Is So Important in Health Enrollment http://nyti.ms/1vaKYtC\\n533391275127742464|Fri Nov 14 22:49:24 +0000 2014|Well: Recipes for Health: Beans for Your Thanksgiving Table http://nyti.ms/1wAJSSK\\n533343033203650560|Fri Nov 14 19:37:42 +0000 2014|Health Care Act Faces Major Test: Getting Users to Re-enroll http://nyti.ms/1x2bF2s\\n533343031915999232|Fri Nov 14 19:37:42 +0000 2014|Beltway Accounting: The Policy at the Heart of the Jonathan Gruber Controversy http://nyti.ms/1EFsq3R\\n533327778092171264|Fri Nov 14 18:37:05 +0000 2014|Well: Vegetarian Thanksgiving: Really Big Beets http://nyti.ms/1x1XGK3\\n533302902258151424|Fri Nov 14 16:58:14 +0000 2014|RT @celiadugger: Easier to use injectible contraceptive to help poor rural women in Africa. @pfizer @gatesfoundation @usaid involved. http:…\\n533301813202939904|Fri Nov 14 16:53:55 +0000 2014|RT @EllenBarryNYT: Antibiotics given to women after sterilization were contaminated w zinc phosphide -- rat poison, says state official. ht…\\n533300800148496384|Fri Nov 14 16:49:53 +0000 2014|The New Old Age Blog: Dreaming of the Departed http://nyti.ms/1zV2tiP\\n533296826385203200|Fri Nov 14 16:34:06 +0000 2014|Eureka: The Ice-Bucket Racket http://nyti.ms/1zoZsUJ\\n533290757969694720|Fri Nov 14 16:09:59 +0000 2014|Well: Ask Well: How Many Eggs Can I Eat? http://nyti.ms/1zUTHBi\\n533136148005412864|Fri Nov 14 05:55:37 +0000 2014|National Briefing | Plains: Nebraska: Center to Treat Ebola Patient http://nyti.ms/1xUyLGA\\n533115959146717184|Fri Nov 14 04:35:24 +0000 2014|World Briefing: Portugal: Legionnaires’ Disease Alert http://nyti.ms/1xUmulq\\n533112030656733184|Fri Nov 14 04:19:47 +0000 2014|E-Cigarettes Gain Among High School Students, C.D.C. Finds http://nyti.ms/1xUkFVD\\n533112029620731905|Fri Nov 14 04:19:47 +0000 2014|Psychologists to Review Role in Detainee Interrogations http://nyti.ms/1v86r6t\\n533066462945378304|Fri Nov 14 01:18:43 +0000 2014|In Ebola Outbreak in Liberia, a Family’s Strength Can Be Its Fatal Flaw http://nyti.ms/1EIclMB\\n533020736085299200|Thu Nov 13 22:17:01 +0000 2014|Well: Firefighter Accidents Are Linked to Sleep Problems http://nyti.ms/1v7rRRl\\n533010749678170112|Thu Nov 13 21:37:20 +0000 2014|Well: Think Twice Before Choosing Knee Replacement http://nyti.ms/1wugUnt\\n532994617630019584|Thu Nov 13 20:33:14 +0000 2014|Liberia President, Citing Ebola Gains, Ends State of Emergency http://nyti.ms/1v7d1Ks\\n532994616103292928|Thu Nov 13 20:33:13 +0000 2014|Pfizer and Aid Groups Team Up on Depo-Provera Contraceptive for Developing World http://nyti.ms/1v7d1Ky\\n532978629933010944|Thu Nov 13 19:29:42 +0000 2014|A hearty salad for the non-meat eaters at Thanksgiving  It\\'s Vegetarian Thanksgiving Day #3! http://nyti.ms/1yD5obQ http://pbs.twimg.com/media/B2WFGxPIIAAF6TA.png\\n532930080046350337|Thu Nov 13 16:16:47 +0000 2014|Well: When Patients Don’t Follow Up http://nyti.ms/111giNf\\n532899726161887232|Thu Nov 13 14:16:10 +0000 2014|Well: Vegetarian Thanksgiving: Rice, Beet and Kale Salad With Cider Dressing http://nyti.ms/1upMx4w\\n532839307351195648|Thu Nov 13 10:16:05 +0000 2014|The Innovations Issue: Why Are There So Few New Drugs Invented Today? http://nyti.ms/1v5Rf9Q\\n532762475918524416|Thu Nov 13 05:10:47 +0000 2014|Web of Incentives in Fatal Indian Sterilizations http://nyti.ms/1uoE8hT\\n532762474601529344|Thu Nov 13 05:10:46 +0000 2014|National Briefing | Southwest: Texas: Ebola Victim’s Family to Be Paid by Hospital http://nyti.ms/1wpKcn7\\n532758683835719680|Thu Nov 13 04:55:43 +0000 2014|Researchers to Test New Treatments in Countries Hit Hardest by Ebola http://nyti.ms/1uoEbtY\\n532758682594181120|Thu Nov 13 04:55:42 +0000 2014|Health Officials Reassess Strategy to Combat Ebola in Liberia http://nyti.ms/1wpKc6P\\n532643505831956480|Wed Nov 12 21:18:02 +0000 2014|New Prediction Model Could Reduce Military Suicides, Study Finds http://nyti.ms/1oN1kpB\\n532605326957506560|Wed Nov 12 18:46:19 +0000 2014|Well: Vegetarian Thanksgiving: Bread Salad Inspired by Stuffing http://nyti.ms/1oMcRoW\\n532604927148036096|Wed Nov 12 18:44:44 +0000 2014|Delicious! A fall salad inspired by Tuscany and Thanksgiving stuffing. #VegetarianThanksgiving http://nyti.ms/1sErDdT http://pbs.twimg.com/media/B2QxAmDIEAAl6xe.png\\n532595765265567744|Wed Nov 12 18:08:20 +0000 2014|Mali Reports a Second, Larger Ebola Outbreak http://nyti.ms/1yzIoKA\\n532570040743505923|Wed Nov 12 16:26:07 +0000 2014|Well: Website Explores Sugar’s Effects on Health http://nyti.ms/1xhzl4n\\n532406917457797121|Wed Nov 12 05:37:55 +0000 2014|Well: Exercising but Gaining Weight http://nyti.ms/1qDmlyv\\n532364567016665088|Wed Nov 12 02:49:38 +0000 2014|11 Women Die After Botched Government Sterilizations in India http://nyti.ms/14bcA5U\\n532344932623982592|Wed Nov 12 01:31:37 +0000 2014|World Briefing: Mali: New Ebola Case Is Confirmed as Response to First Was Wrapping Up http://nyti.ms/1szqcML\\n532340547521118208|Wed Nov 12 01:14:11 +0000 2014|U.N. Seeks a More Nimble Response to Ebola in Africa http://nyti.ms/1szoZoL\\n532340546187296768|Wed Nov 12 01:14:11 +0000 2014|Contributing Op-Ed Writer: Don’t Ask How to Feed the 9 Billion http://nyti.ms/1v0VTWe\\n532278615501996034|Tue Nov 11 21:08:05 +0000 2014|States Race to Improve Health Exchanges as Open Enrollment Nears http://nyti.ms/1GMyNGk\\n532269424955633664|Tue Nov 11 20:31:34 +0000 2014|Distracted Parenting: How an iPhone Can Lead to Broken Bones for Young Children http://nyti.ms/1tZ49ms\\n532268443241037824|Tue Nov 11 20:27:40 +0000 2014|RT @paula_span: Lawsuits filed: Widowed spouses denied Soc Security benefits if their states won\\'t recognize their same-sex marriages http:…\\n532230137677639680|Tue Nov 11 17:55:27 +0000 2014|Well: Vegetarian Thanksgiving: Brussels Sprouts Sliders http://nyti.ms/1qCGeWq\\n532225692369690624|Tue Nov 11 17:37:47 +0000 2014|With Phone Calls and Persistence, Tracking Travelers at Risk for Ebola http://nyti.ms/1qCF7G4\\n532218072254648320|Tue Nov 11 17:07:31 +0000 2014|The New Old Age Blog: Spouses Denied Social Security Survivors’ Benefits http://nyti.ms/1qCBZKp\\n532200095648059392|Tue Nov 11 15:56:05 +0000 2014|Craig Spencer, New York’s Ebola Patient, Is Cured http://nyti.ms/148Wslq\\n532193843635298304|Tue Nov 11 15:31:14 +0000 2014|Affordable Care Act Enrollment FAQs http://nyti.ms/1szorQD\\n532004391113740288|Tue Nov 11 02:58:25 +0000 2014|Open Source: Sierra Leone Defends Jailing Critic of Ebola Response http://nyti.ms/1uh74Z6\\n531981427328688128|Tue Nov 11 01:27:10 +0000 2014|Medicare Proposes Paying for Lung Cancer Screenings for Older Longtime Smokers http://nyti.ms/1ugQgRZ\\n531981424765984768|Tue Nov 11 01:27:10 +0000 2014|Estimate of Health Coverage Enrollment Leaves Room to Grow http://nyti.ms/1ys6UgE\\n531977606217101312|Tue Nov 11 01:11:59 +0000 2014|V.A. Creates Plans to Consolidate Services http://nyti.ms/1ys65Vh\\n531977604828790784|Tue Nov 11 01:11:59 +0000 2014|Op-Ed Contributor: Where Hell Is Other Patients http://nyti.ms/1ugPhBk\\n531951630787563520|Mon Nov 10 23:28:46 +0000 2014|Reactions: After the Fall: Preventing Catastrophe http://nyti.ms/1wcjqP4\\n531947820203659264|Mon Nov 10 23:13:38 +0000 2014|Well: Ask Well: Immune to Ebola? http://nyti.ms/1GJteIR\\n531947818446258178|Mon Nov 10 23:13:37 +0000 2014|The Map Makers: Learning How Little We Know About the Brain http://nyti.ms/1wcjqyB\\n531938724624728066|Mon Nov 10 22:37:29 +0000 2014|Craig Spencer, New York Doctor With Ebola, Will Leave Bellevue Hospital http://nyti.ms/1wc8Ibh\\n531934284362579968|Mon Nov 10 22:19:50 +0000 2014|The Doctor\\'s World: Like AIDS Before It, Ebola Isn\\'t Explained Clearly by Officials http://nyti.ms/1wc6YyO\\n531910931375484928|Mon Nov 10 20:47:03 +0000 2014|Well: What Our Sewage Can Teach Us http://nyti.ms/1wbLaTY\\n531896098894651392|Mon Nov 10 19:48:06 +0000 2014|Science Bookshelf: Best Selling Science Books http://nyti.ms/1ElV21R\\n531882304940306433|Mon Nov 10 18:53:18 +0000 2014|Global Health: A Rare Form of Malaria Is Spreading in Malaysia http://nyti.ms/1uWWbhp\\n531863843493146625|Mon Nov 10 17:39:56 +0000 2014|DealBook: Dendreon, Maker of Prostate Cancer Drug Provenge, Files for Bankruptcy http://nyti.ms/1ElqqNU\\n531844629805953024|Mon Nov 10 16:23:35 +0000 2014|The New Health Care: Shortage of Medicaid Doctors? Not if You Ask Patients http://nyti.ms/1uWqpkq\\n531835652279922688|Mon Nov 10 15:47:55 +0000 2014|Quick Response and Old-Fashioned Detective Work Thwart Ebola in Mali http://nyti.ms/1uWijID\\n531835650539290624|Mon Nov 10 15:47:54 +0000 2014|Well: Retesting Breast Cancer Axioms http://nyti.ms/1qAnJSo\\n531771680075825152|Mon Nov 10 11:33:43 +0000 2014|Researchers Gather in India to Discuss Malnutrition’s Links to Sanitation http://nyti.ms/1EkdNTr\\n531684296571236352|Mon Nov 10 05:46:29 +0000 2014|Ernie Vandeweghe, Knick and Physician, Dies at 86 http://nyti.ms/1wJyWpD\\n531677453010604032|Mon Nov 10 05:19:17 +0000 2014|Detergent Pods Pose Risk to Children, Study Finds http://nyti.ms/1yosjHB\\n531677450389180416|Mon Nov 10 05:19:16 +0000 2014|The Ebola Ward: Ebola’s Mystery: One Boy Lives, Another Dies http://nyti.ms/1yosjHK\\n531609018129977345|Mon Nov 10 00:47:21 +0000 2014|Op-Ed Contributors: Making Chemistry Green http://nyti.ms/10IYxlQ\\n531231191534682112|Sat Nov 08 23:46:00 +0000 2014|Needing to Hire, Chief of V.A. Tries to Sell Doctors on Change  http://nyti.ms/1uLTvCC\\n530936229630849024|Sat Nov 08 04:13:56 +0000 2014|Montefiore’s New Bronx Medical Center Emphasizes Outpatient Care http://nyti.ms/1soSFWp\\n530915686693212161|Sat Nov 08 02:52:18 +0000 2014|W.H.O. Issues New Guidelines on Safely Burying Ebola Victims http://nyti.ms/1pyyvO8\\n530839316000677888|Fri Nov 07 21:48:50 +0000 2014|Well: Think Like a Doctor: Going Blind Solved! http://nyti.ms/1EbSsLO\\n530830413200384001|Fri Nov 07 21:13:27 +0000 2014|Supreme Court Accepts New Challenge to Health Law http://nyti.ms/1133GGu\\n530828692977893377|Fri Nov 07 21:06:37 +0000 2014|RT @paula_span: Older folks seeing things that aren\\'t there. My post on something called Charles Bonnet Syndrome. http://newoldage.blogs.nytimes.com/2014/11/07/hello-green-man/\\n530822335272869888|Fri Nov 07 20:41:21 +0000 2014|Q: Which might you breathe in gym air? 1) CO2 2) dust 3) formaldehyde A: See quiz by @camaldarelli  http://nyti.ms/10zsvZt\\n530796518056677378|Fri Nov 07 18:58:46 +0000 2014|The New Old Age Blog: Hello, Green Man http://nyti.ms/1tITPyP\\n530796515418472448|Fri Nov 07 18:58:45 +0000 2014|Genetically Modified Potato Is Approved by U.S.D.A. http://nyti.ms/1tQzZU5\\n530750374022758400|Fri Nov 07 15:55:24 +0000 2014|Dallas Celebrates as Ebola Monitoring Nears an End http://nyti.ms/10yce6V\\n530723931930755073|Fri Nov 07 14:10:20 +0000 2014|Well: A Low-Carb Switch for Mashed Potatoes http://nyti.ms/13Rcf8d\\n530582661098913792|Fri Nov 07 04:48:58 +0000 2014|Veterans Affairs Chief Calls Culture Change Key to Improving System’s Health Care http://nyti.ms/1x8gJ6L\\n530578370342703104|Fri Nov 07 04:31:55 +0000 2014|A Post-Election Day Certainty: New Scrutiny for the Affordable Care Act http://nyti.ms/1sctpl9\\n530578368996335617|Fri Nov 07 04:31:55 +0000 2014|Q. and A. With Sheri Fink on Covering Ebola in Liberia http://nyti.ms/1sctpSf\\n530386895046705153|Thu Nov 06 15:51:04 +0000 2014|RT @paula_span: Attention. Sympathy. Activism? What #BrittanyMaynard\\'s death may mean for the national aid in dying movement. http://t.co/g…\\n530384100721704960|Thu Nov 06 15:39:58 +0000 2014|Well: Low Birth Weight Tied to Hip Replacement in Adulthood http://nyti.ms/1uB07Eh\\n530350194777661440|Thu Nov 06 13:25:14 +0000 2014|Well: Think Like a Doctor: Going Blind http://nyti.ms/1xcbTUr\\n530233806419394560|Thu Nov 06 05:42:45 +0000 2014|Well: Great Vacation? Don’t Brag to Your Friends http://nyti.ms/1x5H9WG\\n530229416623079424|Thu Nov 06 05:25:18 +0000 2014|In Exclusive Club of U.S. Ebola Survivors, Kinship Is Sealed in Blood  http://nyti.ms/1s7BvLU\\n530229415079579648|Thu Nov 06 05:25:18 +0000 2014|Treating Those Treating Ebola in Liberia http://nyti.ms/1x5H9WC\\n530135928430661632|Wed Nov 05 23:13:49 +0000 2014|Op-Ed Contributor: An Epidemic of Thyroid Cancer? http://nyti.ms/1pnhSot\\n530134323417341952|Wed Nov 05 23:07:26 +0000 2014|The next Think Like a Doctor diagnosis contest from Dr. Lisa Sanders goes up tomorrow at 8 a.m.!\\n530125962693062657|Wed Nov 05 22:34:13 +0000 2014|Study Warns Against Overdiagnosis of Thyroid Cancer http://nyti.ms/1pn9d5I\\n530107160626479104|Wed Nov 05 21:19:30 +0000 2014|Well: Colon Cancer Rates Rising in Younger People http://nyti.ms/1pmQd7g\\n530096897567252480|Wed Nov 05 20:38:43 +0000 2014|How healthy did you really think the air at the gym was? See if you were right http://nyti.ms/1uvYKpR http://pbs.twimg.com/media/B1tIUa8IMAAHvts.jpg\\n530079376113950722|Wed Nov 05 19:29:06 +0000 2014|Obama to Ask Congress for $6 Billion to Fight Ebola http://nyti.ms/1wxQB3J\\n530073328539947008|Wed Nov 05 19:05:04 +0000 2014|Well: The Eczema and Broken Bone Connection http://nyti.ms/1y4CqRW\\n530068750364856321|Wed Nov 05 18:46:52 +0000 2014|The New Old Age Blog: A New Face on the End-of-Life Debate http://nyti.ms/1ol2c4g\\n530020519736016896|Wed Nov 05 15:35:13 +0000 2014|Need rescue breaths after your workout today? Know what you\\'re breathing in? http://nyti.ms/1uvYKpR http://pbs.twimg.com/media/B1sC2pqIIAAyCvf.jpg\\n530000052996276224|Wed Nov 05 14:13:54 +0000 2014|Free of Ebola, Nurse’s Aide to Be Released From Madrid Hospital http://nyti.ms/10mrALL\\n529993859724763137|Wed Nov 05 13:49:17 +0000 2014|The New Health Care: States Benefiting Most From Obama’s Health Law Elected Republicans http://nyti.ms/1uuS7oh\\n529864992506793984|Wed Nov 05 05:17:13 +0000 2014|Well: The Bad Air in Our Gyms http://nyti.ms/10kDUfs\\n529832931758731264|Wed Nov 05 03:09:49 +0000 2014|Researchers Seek Crucial Tool: A Fast, Finger-Prick Ebola Test  http://nyti.ms/1wwaVSN\\n529742461376409602|Tue Nov 04 21:10:19 +0000 2014|Midterm Calculus: Election Results 2014: The Effect on Medicaid Expansion http://nyti.ms/10rITLH\\n529697793141911554|Tue Nov 04 18:12:49 +0000 2014|RT @katiehafner: 2nd installment of falls series out: One woman\\'s life upended by a stumble. http://nyti.ms/1EeK7ZR #FallPrevention @AARP @…\\n529689140737355777|Tue Nov 04 17:38:26 +0000 2014|For Many Small Business Owners, Providing Health Insurance Remains a Struggle http://nyti.ms/1yVelOh\\n529483769007591424|Tue Nov 04 04:02:22 +0000 2014|Stryker Settles Suits by Hip Implant Patients for $1 Billion http://nyti.ms/1tBPQWo\\n529483767535382528|Tue Nov 04 04:02:22 +0000 2014|Brittany Maynard, ‘Death With Dignity’ Ally, Dies at 29 http://nyti.ms/1qmTyy2\\n529479085073121280|Tue Nov 04 03:43:45 +0000 2014|National Briefing | New England: Maine: Nurse Reaches Agreement on Travel http://nyti.ms/1qmTyy7\\n529479083303141377|Tue Nov 04 03:43:45 +0000 2014|Inquiry Faults Liberia Force That Fired on Protesters http://nyti.ms/1tBPTBz\\n529454543969345538|Tue Nov 04 02:06:14 +0000 2014|After a tiny stumble, life is upended in an instant http://nyti.ms/1DVq8gJ http://pbs.twimg.com/media/B1jW40wCAAEJHLC.png\\n529413275793248257|Mon Nov 03 23:22:15 +0000 2014|Global Health: H.I.V. Patients in Yemen Face Hospital Evictions http://nyti.ms/1tUJ9yq\\n529413274182639616|Mon Nov 03 23:22:15 +0000 2014|Observatory: Papers That Are Most Cited Aren’t Most Famous http://nyti.ms/1qmHpJx\\n529407096232873984|Mon Nov 03 22:57:42 +0000 2014|After the Fall: Second of Two Articles: A Tiny Stumble, a Life Upended  http://nyti.ms/1tUFpNm\\n529401416293834752|Mon Nov 03 22:35:08 +0000 2014|Well: The Capacity to Treat, and to Spread http://nyti.ms/1qmF0OV\\n529401415106822144|Mon Nov 03 22:35:07 +0000 2014|The Doctor\\'s World: Fighting an Epidemic With Hands Tied http://nyti.ms/1tUBFeP\\n529392128473202688|Mon Nov 03 21:58:13 +0000 2014|Well: Placebo May Aid Baby’s Cough http://nyti.ms/1tUvKX8\\n529374946594942976|Mon Nov 03 20:49:57 +0000 2014|A Debatable Fix for Young Eyes With Myopia http://nyti.ms/1x28MML\\n529349961243451392|Mon Nov 03 19:10:40 +0000 2014|Q&amp;A:  A Gene by Any Other Name http://nyti.ms/1A5YNMf\\n529349959838367746|Mon Nov 03 19:10:39 +0000 2014|The New Health Care: Malpractice Reform Won’t Do Much to Reduce Health Spending http://nyti.ms/1xTwQBE\\n529345537347444736|Mon Nov 03 18:53:05 +0000 2014|Ebola Cure Delayed by Drug Industry’s Drive for Profit, W.H.O. Leader Says http://nyti.ms/1xTvtmx\\n529292852770377729|Mon Nov 03 15:23:44 +0000 2014|Well: Emotion Is Not the Best Medicine, Ebola Case Further Shows http://nyti.ms/1xSH3hR\\n529249646019768320|Mon Nov 03 12:32:03 +0000 2014|Falls are the leading cause of injury-related death for Americans over 65 http://nyti.ms/1ttwDVl http://pbs.twimg.com/media/B1eV9-QCMAA3Pyi.jpg\\n529132166005800960|Mon Nov 03 04:45:13 +0000 2014|Preventing falls in retirement facilities requires designers to see a building in a new light http://nyti.ms/1ttwDVl http://pbs.twimg.com/media/B1eVxLjCMAAotQ5.png\\n529069714064961536|Mon Nov 03 00:37:04 +0000 2014|The number of people over 65 who died after a fall reached nearly 24,000 in 2012 http://nyti.ms/1ttwDVl\\n528967067962441729|Sun Nov 02 17:49:11 +0000 2014|U.N. Employee Under Treatment for Ebola in France http://nyti.ms/1s5ciCC\\n528953982509932544|Sun Nov 02 16:57:11 +0000 2014|Falls are the leading cause of injury-related death for Americans over 65 http://nyti.ms/1uddbid http://pbs.twimg.com/media/B1c41_1CYAE1j1J.jpg\\n528943533873717249|Sun Nov 02 16:15:40 +0000 2014|The New Old Age Blog: A Rise in Falls http://nyti.ms/1yOzoSS\\n528937592415612928|Sun Nov 02 15:52:03 +0000 2014|Bracing for the Falls of an Aging Nation http://nyti.ms/13vuEav\\n528710283720929280|Sun Nov 02 00:48:49 +0000 2014|Bernard Mayes, 85, Dies; Started First U.S. Suicide Hotline http://nyti.ms/1womA68\\n528710282290663424|Sun Nov 02 00:48:48 +0000 2014|Defects Found Before Debut of Health Insurance Site for Small Businesses http://nyti.ms/1xMFkdQ\\n528658687096016896|Sat Nov 01 21:23:47 +0000 2014|Opinion: There Is No ‘Healthy’ Microbiome http://nyti.ms/1vvfbxN\\n528396160051187712|Sat Nov 01 04:00:36 +0000 2014|Girl, 7, Barred From a Connecticut School Over Ebola Concerns Goes Back to Class http://nyti.ms/1wP6wbF\\n528391904304852992|Sat Nov 01 03:43:41 +0000 2014|News Analysis: Alarmed by Ebola, Public Isn’t Calmed by ‘Experts Say’ http://nyti.ms/1wmhs2l\\n528391902304165888|Sat Nov 01 03:43:41 +0000 2014|Better Staffing Seen as Crucial to Ebola Treatment in Africa http://nyti.ms/1wP6vVj\\n528253153406636032|Fri Oct 31 18:32:20 +0000 2014|Repeal of Health Law, Once Central to G.O.P., Is Side Issue in Campaigns http://nyti.ms/1yMzESn\\n528241443983597568|Fri Oct 31 17:45:49 +0000 2014|Don\\'t want heartburn in bed? What\\'s your deadline for that last taco? Take this quiz by @camaldarelli http://nyti.ms/1wOcz1Y\\n528220440607879168|Fri Oct 31 16:22:21 +0000 2014|Well: The Workout: Running While Pregnant http://nyti.ms/1rGBE8X\\n528213058041446400|Fri Oct 31 15:53:01 +0000 2014|Maine Judge Orders Ebola Quarantine for Nurse http://nyti.ms/10Flw26\\n528207102620495872|Fri Oct 31 15:29:21 +0000 2014|Well: Low Vitamin D Tied to Asthma Attacks http://nyti.ms/1sR2BXA\\n528043252092784640|Fri Oct 31 04:38:16 +0000 2014|North Korea Said to Impose Ebola Quarantine on All Travelers http://nyti.ms/1E7pMW3\\n528038393981452288|Fri Oct 31 04:18:58 +0000 2014|In New York, Protections Offered for Medical Workers Joining Ebola Fight http://nyti.ms/1zPtPI6\\n528038392530227200|Fri Oct 31 04:18:57 +0000 2014|Liberia’s Ebola Crisis Puts President in Harsh Light http://nyti.ms/1E7pMW1\\n527925356247150592|Thu Oct 30 20:49:47 +0000 2014|Well: A Heart Risk in Drinking Water http://nyti.ms/1yKel3P\\n527894382549405696|Thu Oct 30 18:46:43 +0000 2014|RT @paula_span: Words flashed on a computer screen create\"positive age stereotypes\" and more physical strength in older adults? Yep. http:/…\\n527893535396491264|Thu Oct 30 18:43:21 +0000 2014|RT @ginakolata: live or die with Ebola infection? Genes may hold clues http://www.nytimes.com/2014/10/31/health/genes-influence-ebola-infections-in-mice-study-suggests.html?\\n527890760348479488|Thu Oct 30 18:32:19 +0000 2014|Genes Influence Ebola Infections in Mice, Study Suggests http://nyti.ms/1wKlCkL\\n527886671338303488|Thu Oct 30 18:16:04 +0000 2014|Well: Living With Cancer: Not Talking About Medical Mistakes http://nyti.ms/1rDzIhp\\n527882118861688832|Thu Oct 30 17:57:59 +0000 2014|Kaci Hickox, Nurse Under Ebola Quarantine, Takes Bike Ride, Defying Maine Officials http://nyti.ms/1wKfrwU\\n527860974641233920|Thu Oct 30 16:33:58 +0000 2014|The New Old Age Blog: A Workout for the Mind http://nyti.ms/1xFwb6R\\n527858744475275264|Thu Oct 30 16:25:06 +0000 2014|Denver PD: Parents of Halloween trick-or-treaters beware. Which is the pot gummy?http://nyti.ms/106ftlR http://pbs.twimg.com/media/B1NUuwDCMAAC12m.jpg\\n527778993475686400|Thu Oct 30 11:08:12 +0000 2014|Well: Pronouncing the Patient Dead http://nyti.ms/10AZkGa\\n527761399268003841|Thu Oct 30 09:58:17 +0000 2014|Well: Is 10,000 Hours All I Need to Run a Faster Marathon? http://nyti.ms/1wIvPOu\\n527664931119058944|Thu Oct 30 03:34:57 +0000 2014|California’s Proposition 45 Would Offer Public a Say on Health Insurance Rates http://nyti.ms/1zgLpTT\\n527660907032477696|Thu Oct 30 03:18:58 +0000 2014|F.D.A. Approves Pfizer’s Trumenba, a Vaccine for a Rare Meningitis http://nyti.ms/1E449G4\\n527660905853911040|Thu Oct 30 03:18:58 +0000 2014|New Scrutiny on Sweets With Ascent of Marijuana in Colorado http://nyti.ms/1E44Qzh\\n527656612019077120|Thu Oct 30 03:01:54 +0000 2014|After a Family Trip to Africa, a Connecticut Girl, 7, Is Unwelcome at School  http://nyti.ms/1zgLpDD\\n527656610676899840|Thu Oct 30 03:01:54 +0000 2014|Microsoft Jumps Into the Growing Market for Wearable Fitness Technology  http://nyti.ms/1E44bOq\\n527573553760444417|Wed Oct 29 21:31:51 +0000 2014|@HealthStudent Thanks. Correct link is http://nyti.ms/1wGIP7i\\n527553216813469697|Wed Oct 29 20:11:03 +0000 2014|How does breast cancer change romance? These women &amp; men know http://nyti.ms/103nQPg\\n527542730764070912|Wed Oct 29 19:29:22 +0000 2014|Well: Knowing Cancer Risk May Not Affect Screening Rates http://nyti.ms/1wE98Kf\\n527539642141528064|Wed Oct 29 19:17:06 +0000 2014|Those goo packets really can help your marathon http://nyti.ms/1zKCNGo\\n527523745569972224|Wed Oct 29 18:13:56 +0000 2014|Kaci Hickox, Nurse Who Treated Ebola Patients, May Sue Maine Over Quarantine http://nyti.ms/10z2gmG\\n527511465293774848|Wed Oct 29 17:25:08 +0000 2014|Well: Ask Well: Is the Ebola Epidemic Ending in Africa? http://nyti.ms/1wFpBNv\\n527488345417715713|Wed Oct 29 15:53:16 +0000 2014|Ebola May be Slowing in Liberia, W.H.O. Says http://nyti.ms/10yNE6O\\n527477048173154304|Wed Oct 29 15:08:22 +0000 2014|The New Health Care: A Formula to Find the Uninsured Around the Country http://nyti.ms/10yINmn\\n527477046919053312|Wed Oct 29 15:08:22 +0000 2014|Bellevue Workers, Worn Out From Treating Ebola Patient, Face Stigma Outside Hospital http://nyti.ms/1yHX0IP\\n527466106592976897|Wed Oct 29 14:24:54 +0000 2014|Education Life: This Is Your Brain on Drugs http://nyti.ms/1zfn4hn\\n527313610742448128|Wed Oct 29 04:18:56 +0000 2014|Well: Sports Gels Can Improve Marathon Times, but Pace Them Right http://nyti.ms/1rSeHAB\\n527292744751128576|Wed Oct 29 02:56:01 +0000 2014|Unease Lingers in the Bronx Despite a Boy’s Negative Ebola Test  http://nyti.ms/1pWv5iT\\n527292743392165891|Wed Oct 29 02:56:01 +0000 2014|New York’s Rules to Let Travelers Pick Site for Isolation http://nyti.ms/1wLmdUJ\\n527288376614199296|Wed Oct 29 02:38:40 +0000 2014|In Liberia, a Good or Very Bad Sign: Empty Beds http://nyti.ms/1pWv5iN\\n527288375049732096|Wed Oct 29 02:38:39 +0000 2014|Cause of Children’s Paralysis Remains Unclear http://nyti.ms/1wLmdUA\\n527217980028243969|Tue Oct 28 21:58:56 +0000 2014|Children and the Risk of Ebola http://nyti.ms/1vccRvv\\n527217977230622720|Tue Oct 28 21:58:55 +0000 2014|Obama Defends C.D.C.\\'s Ebola Rules as ‘Sensible, Based in Science’ http://nyti.ms/13507jP\\n527208906804957185|Tue Oct 28 21:22:53 +0000 2014|I plan to keep my nose. And I have you to thank, Renée Zellweger.   http://nyti.ms/1DY8vhZ http://pbs.twimg.com/media/B1EFtPYCMAAtn-V.jpg\\n527202043111690241|Tue Oct 28 20:55:36 +0000 2014|Amber Joy Vinson, Dallas Nurse Treated for Ebola, Released From Hospital http://nyti.ms/1vbVTgR\\n527192050140454913|Tue Oct 28 20:15:54 +0000 2014|Well: Renée Zellweger and Me http://nyti.ms/1vbK3Ds\\n527187744276369409|Tue Oct 28 19:58:47 +0000 2014|Connecticut’s Case-by-Case Approach to Ebola Quarantines Raises Concern http://nyti.ms/1FTfKda\\n527184852421193728|Tue Oct 28 19:47:18 +0000 2014|Readers respond: What\\'s it like being a mother with cancer? http://nyti.ms/1FTesyB\\n527147768918601729|Tue Oct 28 17:19:56 +0000 2014|Well: Ask Well: Can You Get Ebola From a Toilet Seat? http://nyti.ms/1sA5Suc\\n527135991010570240|Tue Oct 28 16:33:08 +0000 2014|Health workers in Liberia and elsewhere in West Africa are finding they have to ration care http://nyti.ms/1xAsPSs http://pbs.twimg.com/media/B1C3munCIAEWfA-.jpg\\n527114399631560704|Tue Oct 28 15:07:20 +0000 2014|We asked readers to share insights from their experiences with breast cancer. The response was overwhelming http://nyti.ms/1FSDLkx\\n526956143869173760|Tue Oct 28 04:38:29 +0000 2014|Well: Faces of Breast Cancer: Find Your Story, Join the Conversation http://nyti.ms/ZWjQ2Z\\n526935452121829376|Tue Oct 28 03:16:16 +0000 2014|With Ebola’s Arrival, de Blasio Stands Tall as Christie and Cuomo Falter  http://nyti.ms/1wFCwlY\\n526935450842574848|Tue Oct 28 03:16:16 +0000 2014|Two Governors’ Shifts on Ebola Are Criticized as Politics, Not Science http://nyti.ms/1sx4tEQ\\n526931029836443648|Tue Oct 28 02:58:42 +0000 2014|Seeking Unity, U.S. Revises Ebola Monitoring Rules http://nyti.ms/1sx4tEO\\n526931028561379328|Tue Oct 28 02:58:41 +0000 2014|Wish to Do More in Ebola Fight Meets Reality in Liberia http://nyti.ms/1wFCx9D\\n526916007336886272|Tue Oct 28 01:59:00 +0000 2014|Faces of Breast Cancer http://nyti.ms/1tBm05p\\n526899973649362945|Tue Oct 28 00:55:17 +0000 2014|Faces of Breast Cancer http://nyti.ms/1swHkT0\\n526890843375173633|Tue Oct 28 00:19:00 +0000 2014|Op-Ed Contributor: Elton John on the Unfinished Fight Against AIDS http://nyti.ms/1tAUB3q\\n526863884268105729|Mon Oct 27 22:31:53 +0000 2014|Essay: Magic May Lurk Inside Us All http://nyti.ms/1wwgXSb\\n526859054271193088|Mon Oct 27 22:12:41 +0000 2014|Q&amp;A:  Vitiligo and Vision http://nyti.ms/1wweasm\\n526859052652199936|Mon Oct 27 22:12:41 +0000 2014|Global Health: Latrines May Not Improve Health of Poor Children http://nyti.ms/1zBmoUB\\n526855793535369217|Mon Oct 27 21:59:44 +0000 2014|RT @grynbaum: Breaking: the 5-year-old in NYC tested negative for the Ebola virus.\\n526854816942010368|Mon Oct 27 21:55:51 +0000 2014|Books: Martha Weinman Lear Returns to Medical Memoir, With Less Fury, in ‘Echoes of Heartsounds’ http://nyti.ms/1wwe9o9\\n526854814177968128|Mon Oct 27 21:55:50 +0000 2014|The Scan: A Mathematical Thriller and an Exhibition of What Could Go Wrong http://nyti.ms/1zBmoUF\\n526845214385012736|Mon Oct 27 21:17:42 +0000 2014|RT @nytimeswell: Need a dinner idea? Try one of these five recipes with bitter greens http://nyti.ms/1tA3tq6 http://pbs.twimg.com/media/B0-6j8lCAAApomg.jpg\\n526835370957484033|Mon Oct 27 20:38:35 +0000 2014|Well: Doctors and Decision Fatigue http://nyti.ms/1svT8Fc\\n526820256384561152|Mon Oct 27 19:38:31 +0000 2014|New Rules Coming for Health Care Workers Returning From West Africa http://nyti.ms/1svFOAy\\n526810139815587840|Mon Oct 27 18:58:19 +0000 2014|RT @paula_span: Older insomniacs may actually be getting more than 7 hrs sleep. What? http://newoldage.blogs.nytimes.com/2014/10/27/insomniac-but-not-sleep-deprived/\\n526808607375900676|Mon Oct 27 18:52:14 +0000 2014|Doctors Without Borders has sent 700 doctors &amp; aid workers to Ebola-stricken countries http://nyti.ms/ZKpc18 http://pbs.twimg.com/media/B0-MG_jCQAAkg_o.png\\n526805067966713857|Mon Oct 27 18:38:10 +0000 2014|Public Health: AIDS Activists Oppose Cuomo on Ebola Quarantines http://nyti.ms/1tzfLyV\\n526797622770941953|Mon Oct 27 18:08:35 +0000 2014|The New Old Age Blog: Insomniac, but Not Sleep-Deprived http://nyti.ms/1v5w4Pv\\n526795016958509056|Mon Oct 27 17:58:14 +0000 2014|More than 10,000 people have contracted Ebola since March, according to the WHO http://nyti.ms/ZKpc18 http://pbs.twimg.com/media/B0-LUOcCUAEoJkG.png\\n526793023146176512|Mon Oct 27 17:50:18 +0000 2014|RT @bstrauch: Nurse held in quarantine is ordered released as Ebola policy flips and flops all over the place. http://nyti.ms/1xvDUUQ\\n526792201058394112|Mon Oct 27 17:47:02 +0000 2014|Facts you should know about Ebola http://nyti.ms/ZKpc18 http://pbs.twimg.com/media/B0-KtxfCIAE8bkI.png\\n526790387059679232|Mon Oct 27 17:39:50 +0000 2014|Well: The Pleasure of Bitter Greens http://nyti.ms/1v5nccA\\n526786257423462400|Mon Oct 27 17:23:25 +0000 2014|Marathons, pregnancies--each hard on their own. How do elite runners do both? http://nyti.ms/ZTD6OL http://pbs.twimg.com/media/B0-FTzHCEAAcglw.jpg\\n526781593604866049|Mon Oct 27 17:04:53 +0000 2014|For New York Crew, Fighting Ebola With Brush and Cleanser http://nyti.ms/1zdGB1E\\n526777235194515456|Mon Oct 27 16:47:34 +0000 2014|Basics: Ebola and the Vast Viral Universe http://nyti.ms/1v58pi2\\n526765720777265153|Mon Oct 27 16:01:49 +0000 2014|A 5-year-old boy who recently returned to NYC from Guinea is being tested for Ebola http://nyti.ms/ZTdnGn\\n526765188159373313|Mon Oct 27 15:59:42 +0000 2014|RT @mattfleg: Mayor BDB stressing difficulty of Ebola transmission: \"We’ve got to look at this in context. We’ve got to stop making this mo…\\n526764989160652801|Mon Oct 27 15:58:54 +0000 2014|RT @NYTMetro: .@BilldeBlasio says anyone who didn\\'t come into contact with a person with Ebola overseas can go home with monitoring.\\n526762005810937856|Mon Oct 27 15:47:03 +0000 2014|The New Health Care: What to Look for in Judging the Affordable Care Act http://nyti.ms/1v4RhsB\\n526741601205620736|Mon Oct 27 14:25:58 +0000 2014|Well: Obese Children Show Early Signs of Heart Disease http://nyti.ms/1zdALgW\\n526741600215777283|Mon Oct 27 14:25:58 +0000 2014|The New Health Care: Choosing a Health Plan Is Hard, Even for a Health Economist http://nyti.ms/1pQsx5V\\n526696350612979712|Mon Oct 27 11:26:10 +0000 2014|Is the Affordable Care Act Working? http://nyti.ms/1zzg9AG\\n526571427341008897|Mon Oct 27 03:09:46 +0000 2014|As States Look to Halt Ebola, Restrictions Prompt a Debate http://nyti.ms/1nIeyDv\\n526571425986265088|Mon Oct 27 03:09:45 +0000 2014|As Ebola Spreads, Asia Senses Vulnerability http://nyti.ms/1wBe0Pp\\n526567266813767680|Mon Oct 27 02:53:14 +0000 2014|Wikipedia Is Emerging as Trusted Internet Source for Information on Ebola  http://nyti.ms/1nIexPZ\\n526567265538678784|Mon Oct 27 02:53:13 +0000 2014|Nurse Who Spoke Out About Quarantine Felt a Calling for Health Care, Friends Say http://nyti.ms/1wBe0Pr\\n526549363007295488|Mon Oct 27 01:42:05 +0000 2014|Download the 7-Minute Workout app from @nytimeswell for iPhone and Android http://nyti.ms/ZQrfkz http://pbs.twimg.com/media/B0vj0v0CQAAl0dp.jpg\\n526490352283582464|Sun Oct 26 21:47:36 +0000 2014|Well: Revised Nutrition Labels Still Won’t Tell Whole Story http://nyti.ms/1FOY16A\\n526474137028403200|Sun Oct 26 20:43:10 +0000 2014|Download the 7-Minute Workout app from @nytimeswell for iPhone and Android http://nyti.ms/ZQrfkz http://pbs.twimg.com/media/B0vkD0eCcAArM6H.jpg\\n526459053049126913|Sun Oct 26 19:43:14 +0000 2014|A Bite to Remember? Chocolate Is Shown to Aid Memory http://nyti.ms/1ruSk2X\\n526431404071337984|Sun Oct 26 17:53:22 +0000 2014|Governors of New York and New Jersey Defend Ebola Quarantine Amid Concerns http://nyti.ms/1wzNp7l\\n526417419691372544|Sun Oct 26 16:57:47 +0000 2014|Governors of New York and New Jersey Defend Ebola Quarantine http://nyti.ms/1DPRxSZ\\n526207037815128064|Sun Oct 26 03:01:48 +0000 2014|Msgr. William B. O’Brien, 90, Is Dead; Helped Start Drug Rehabilitation Agency http://nyti.ms/1pMoHdY\\n526194865676505088|Sun Oct 26 02:13:26 +0000 2014|Well: Ask Well: Ebola Testing for All New Arrivals? http://nyti.ms/1tUHcnB\\n526157166395551744|Sat Oct 25 23:43:38 +0000 2014|Insurers’ Consumer Data Isn’t Ready for Enrollees http://nyti.ms/12C8PWs\\n526152514098692097|Sat Oct 25 23:25:09 +0000 2014|More Than 10,000 Africa Ebola Cases, Health Agency Says http://nyti.ms/1rufUNj\\n526152512983011329|Sat Oct 25 23:25:09 +0000 2014|New York Ebola Patient Enters Next, More Serious Phase of Illness, Officials Say http://nyti.ms/12C1INM\\n526142006620614656|Sat Oct 25 22:43:24 +0000 2014|Paying Till It Hurts: As Insurers Try to Limit Costs, Providers Hit Patients With More Separate Fees  http://nyti.ms/1ruewKE\\n526142004909326336|Sat Oct 25 22:43:23 +0000 2014|For Pregnant Marathoners, 2 Endurance Tests http://nyti.ms/1ruewKG\\n526111780901494784|Sat Oct 25 20:43:17 +0000 2014|Early New York Response: Polar Opposite of Dallas’s http://nyti.ms/1FNmoBy\\n526107286725750785|Sat Oct 25 20:25:26 +0000 2014|After Negative Ebola Test, Quarantined Nurse Criticizes Treatment at Newark Airport http://nyti.ms/1wxChpw\\n526107285836533762|Sat Oct 25 20:25:26 +0000 2014|NYC Health Commissioner Has Helped Quell Ebola Fears http://nyti.ms/1wxChpy\\n526087968516497408|Sat Oct 25 19:08:40 +0000 2014|Opinion: The Dangers of Eating Late at Night  http://nyti.ms/1nF89Zz\\n526018354826342402|Sat Oct 25 14:32:03 +0000 2014|Download the 7-Minute Workout app from @nytimeswell for iPhone and Android http://nyti.ms/ZQrfkz http://pbs.twimg.com/media/B0vj8kWCAAE3M38.jpg\\n525863591808090112|Sat Oct 25 04:17:05 +0000 2014|Bellevue Back on Front Line in Another Crisis  http://nyti.ms/1pJNOy0\\n525863590482702336|Sat Oct 25 04:17:04 +0000 2014|Mali Reports First Death From Ebola http://nyti.ms/1wo6P0k\\n525858988085108736|Sat Oct 25 03:58:47 +0000 2014|Ebola Quarantines Seen as Barrier to Volunteers http://nyti.ms/1pJNOxW\\n525858986982404096|Sat Oct 25 03:58:47 +0000 2014|Officials Soothe Fears, While Workers Sanitize Infected Doctor’s Path http://nyti.ms/1pJPjMP\\n525855199026360322|Sat Oct 25 03:43:44 +0000 2014|Op-Ed Contributor: Ebola’s Information Paradox http://nyti.ms/1pJPibw\\n525855197784846336|Sat Oct 25 03:43:43 +0000 2014|Abortion Capital of Bible Belt? Tennessee Vote Tests That Idea http://nyti.ms/1wo9A1L\\n525851263955501056|Sat Oct 25 03:28:05 +0000 2014|Ebola Patient in New York Is Called a Doctor at Ease in Danger  http://nyti.ms/1wo6P0f\\n525851262269419520|Sat Oct 25 03:28:05 +0000 2014|World Briefing: Turkey: MERS Virus Case Is Reported http://nyti.ms/1wo6Npm\\n525774122715185152|Fri Oct 24 22:21:33 +0000 2014|RT @NYTMetro: The rapid escalation of screening measures for Ebola at Kennedy and Newark airports came as a surprise: http://nyti.ms/1nD744H\\n525765957277720576|Fri Oct 24 21:49:07 +0000 2014|RT @nytimes: Breaking News: New York and New Jersey to Quarantine Some Travelers Who Have Had Contact With Ebola Patients http://t.co/EhIYY…\\n525758283924389888|Fri Oct 24 21:18:37 +0000 2014|Well: Ask Well: Can Ebola Be Transmitted in Semen? http://nyti.ms/1pJ38Lr\\n525755670755565568|Fri Oct 24 21:08:14 +0000 2014|Can Ebola be transmitted in semen? http://nyti.ms/1yvoEsc http://pbs.twimg.com/media/B0vb_xlCMAAyZdf.jpg\\n525755486143258624|Fri Oct 24 21:07:30 +0000 2014|NY &amp; NJ officials say they will quarantine all medical workers returning from Ebola-stricken countries in West Africa http://nyti.ms/ZQ7xWa\\n525752395159330818|Fri Oct 24 20:55:13 +0000 2014|RT @NYTMetro: Updates from the Ebola briefing with @NYGovCuomo and @GovChristie as they announce stricter quarantine rules: http://t.co/iDS…\\n525732693393571841|Fri Oct 24 19:36:56 +0000 2014|City Room: Ebola Live Blog: New York’s First Reported Case http://nyti.ms/1DIYXrg\\n525729520423555072|Fri Oct 24 19:24:19 +0000 2014|\"I feel fortunate and blessed to be standing here today\" Nina Pham on beating Ebola http://nyti.ms/1wmcQKW\\n525728579557273600|Fri Oct 24 19:20:35 +0000 2014|RT @NYTMetro: After the Ebola briefing today, @BilldeBlasio rode the A train http://nyti.ms/1uR16KC (Photo: @joshhaner /NYT) http://t.co/xI…\\n525698287450324992|Fri Oct 24 17:20:13 +0000 2014|Here are ways to help in efforts to halt the Ebola outbreak &amp; aid those affected http://nyti.ms/ZQ6N3n\\n525698230395609089|Fri Oct 24 17:19:59 +0000 2014|RT @NYTMetro: \"It is a global city, we knew one day we would get a patient with Ebola,\" said @RamRajuMD of Bellevue being prepared to handl…\\n525698138175463425|Fri Oct 24 17:19:37 +0000 2014|RT @nytgraphics: Timeline of what\\'s known so far about NYC #Ebola patient http://nyti.ms/1D7j0xn http://pbs.twimg.com/media/B0und69IEAAKRfd.png\\n525696993096892417|Fri Oct 24 17:15:04 +0000 2014|RT @NYTMetro: The coffee shop and restaurant visited by Craig Spencer are closed and being evaluated. Watch the briefing live: http://t.co/…\\n525696244052533251|Fri Oct 24 17:12:06 +0000 2014|NYC doctor who has Ebola has dedicated himself to dealing with medical emergencies in faraway places http://nyti.ms/ZQ31Hb\\n525695883728662528|Fri Oct 24 17:10:40 +0000 2014|RT @mattfleg: NYC health commissioner: 3 people under quarantine orders. \"They are all well at this time.\" Fiancee and two friends.\\n525694842018725890|Fri Oct 24 17:06:31 +0000 2014|RT @mattfleg: NYC health commissioner: \"We may never know\" how Ebola patient became infected. Was wearing protective gear.\\n525694692315627522|Fri Oct 24 17:05:56 +0000 2014|RT @NYTMetro: .@DrMaryTBassett says of Craig Spencer: \"We don\\'t see any possibility that he contaminated his apartment.\" http://t.co/1GmiyB…\\n525692764613541888|Fri Oct 24 16:58:16 +0000 2014|RT @peterbakernyt: Obama to meet with Dallas nurse Nina Pham at the White House this afternoon.\\n525692569976836096|Fri Oct 24 16:57:30 +0000 2014|Public health authorities hope to begin trials of Ebola vaccines in West Africa in December http://nyti.ms/ZQbPwI\\n525691700782456834|Fri Oct 24 16:54:03 +0000 2014|A promising Ebola vaccine was shelved for nearly 10 years, writes @nytDeniseGrady http://nyti.ms/ZKq1XH\\n525690964535705601|Fri Oct 24 16:51:07 +0000 2014|RT @grynbaum: A CDC deputy director of infectious diseases flew to New York City last night to aid Ebola response.\\n525690745240297474|Fri Oct 24 16:50:15 +0000 2014|Ask Well: Can I get Ebola from public transportation? http://nyti.ms/ZQ1AbP\\n525690671295115264|Fri Oct 24 16:49:57 +0000 2014|Facts you should know about Ebola  http://nyti.ms/ZKpc18 http://pbs.twimg.com/media/B0ug4SyCUAENgS2.png\\n525690161817210880|Fri Oct 24 16:47:56 +0000 2014|RT @FrancesRobles: Although Ebola-free, there is no discharge date yet for Amber Vinson.\\n525689391344533504|Fri Oct 24 16:44:52 +0000 2014|The C.D.C. has confirmed New York patient\\'s Ebola test, says @DrMaryTBassett\\n525688698721939456|Fri Oct 24 16:42:07 +0000 2014|Flu season will bring a virus that spreads far faster than Ebola, and will kill thousands, by @carlzimmer http://nyti.ms/1wkOSj6\\n525688444987899904|Fri Oct 24 16:41:06 +0000 2014|.@BilldeBlasio says at Ebola briefing that every New Yorker should get a flu shot. He says it will help address this situation.\\n525688208252608512|Fri Oct 24 16:40:10 +0000 2014|How modern technologies can help contain Ebola http://nyti.ms/ZKonp7\\n525687941872754688|Fri Oct 24 16:39:06 +0000 2014|RT @grynbaum: \"We are fully prepared to handle Ebola,\" says NYC\\'s mayor, @BilldeBlasio.\\n525687859509211136|Fri Oct 24 16:38:47 +0000 2014|The Health Issue: Searching for the Fountain of Youth http://nyti.ms/1wuu31p\\n525687520622039040|Fri Oct 24 16:37:26 +0000 2014|.@deBlasioNYC says at Ebola briefing that the NYC doctor is being held in isolation and poses no threat to others\\n525687193378242561|Fri Oct 24 16:36:08 +0000 2014|.@deBlasioNYC says at Ebola briefing: Here in NYC, \"We have the finest health system\" in the world\\n525686964788678658|Fri Oct 24 16:35:13 +0000 2014|RT @mattfleg: \"The process played out exactly as the protocol dictated yesterday. Literally to a T\" - NYC mayor at Ebola briefing, touting …\\n525686387719553024|Fri Oct 24 16:32:56 +0000 2014|RT @mattfleg: NYC Mayor De Blasio at Ebola briefing: \"There is no reason for New Yorkers to change their daily routine in any way.\"\\n525685911380852736|Fri Oct 24 16:31:02 +0000 2014|RT @NYTMetro: The Ebola briefing in New York City is getting started now. Watch live: http://nyti.ms/1nCwJu7\\n525685812059734019|Fri Oct 24 16:30:39 +0000 2014|RT @SarahMaslinNir: Did you travel as nurse or doc to aide in Africa w Ebola ? I\\'d like to hear about your experience returning home Sarah.…\\n525684284259307520|Fri Oct 24 16:24:34 +0000 2014|You will be able to watch @deBlasioNYC\\'s briefing on Ebola here: http://nyti.ms/ZQ7xWa\\n525681386150436864|Fri Oct 24 16:13:03 +0000 2014|Here are ways to help in efforts to halt the Ebola outbreak &amp; aid those affected http://nyti.ms/ZQ6N3n\\n525678455871254528|Fri Oct 24 16:01:25 +0000 2014|Ebola Vaccine Trials Planned for December http://nyti.ms/1tR653D\\n525678453824450560|Fri Oct 24 16:01:24 +0000 2014|Nina Pham, Dallas Nurse Who Had Ebola, to Be Released From Hospital http://nyti.ms/1wupofY\\n525676336221028353|Fri Oct 24 15:52:59 +0000 2014|A Dallas nurse who had Ebola, Nina Pham, is now free of the virus and will be released from the hospital http://nyti.ms/ZQ5Ec0\\n525673483087642624|Fri Oct 24 15:41:39 +0000 2014|RT @mattfleg: Looks like NYC Ebola briefing, planned for 11:30, will be closer to 12, per mayor\\'s spokeswoman. You can see it here: http://…\\n525670616150450176|Fri Oct 24 15:30:16 +0000 2014|Retracing Dr. Craig Spencer\\'s footsteps in NYC http://nyti.ms/ZQ48q9 http://pbs.twimg.com/media/B0uNUX-CIAIcfIE.png\\n525666826139627521|Fri Oct 24 15:15:12 +0000 2014|NYC doctor who has Ebola has dedicated himself to dealing with medical emergencies in faraway places http://nyti.ms/ZQ31Hb\\n525664305337733121|Fri Oct 24 15:05:11 +0000 2014|Changes to Ebola protection  worn by U.S. hospital workers http://nyti.ms/ZQ2zIX http://pbs.twimg.com/media/B0uHNMGCQAEG4qe.png\\n525662995897413633|Fri Oct 24 14:59:59 +0000 2014|RT @FrancesRobles: Nina Pham is being released from the hospital. #Ebola\\n525660577784287232|Fri Oct 24 14:50:22 +0000 2014|Facts you should know about Ebola http://nyti.ms/ZKpc18 http://pbs.twimg.com/media/B0uEWGECMAEkbsB.png\\n525659795337248768|Fri Oct 24 14:47:16 +0000 2014|Officials Tracing New York Ebola Patient’s Movements, While Reassuring a Wary City http://nyti.ms/10rywIm\\n525658379310870528|Fri Oct 24 14:41:38 +0000 2014|Ask Well: Can I get Ebola from public transportation? http://nyti.ms/ZQ1AbP\\n525655133527752704|Fri Oct 24 14:28:44 +0000 2014|Mali on Thursday became the sixth West African country to confirm an Ebola case http://nyti.ms/1wkPXre\\n525651159424704512|Fri Oct 24 14:12:57 +0000 2014|Flu season will bring a virus that spreads far faster than Ebola, and will kill thousands, by @carlzimmer http://nyti.ms/1wkOSj6\\n525649335695212544|Fri Oct 24 14:05:42 +0000 2014|RT @NYTMetro: Health officials say now that the 103-degree fever of the Ebola patient was wrong, he had a 100.3-degree fever. http://t.co/t…\\n525636978277380096|Fri Oct 24 13:16:36 +0000 2014|Well: For a 7-Minute Workout, Download Our New App http://nyti.ms/1wozDDk\\n525636976872271872|Fri Oct 24 13:16:35 +0000 2014|Well: The Advanced 7-Minute Workout http://nyti.ms/10rsibq\\n525512046570262528|Fri Oct 24 05:00:10 +0000 2014|RT @heathertal: The Ebola vaccine sat on a shelf for about a decade. @nytDeniseGrady’s story http://bit.ly/ZPjjA1\\n525509195039522816|Fri Oct 24 04:48:50 +0000 2014|Vaccine Trials for Ebola Are Planned in West Africa http://nyti.ms/1rqcEU9\\n525504990031659008|Fri Oct 24 04:32:07 +0000 2014|Tracing Patient’s Possible Contacts Creates Host of Challenges for New York City http://nyti.ms/1wiiqOm\\n525504988869832704|Fri Oct 24 04:32:07 +0000 2014|Neighbors Say Patient Is Fast to Lend a Helping Hand http://nyti.ms/1rqcEU5\\n525501205599223808|Fri Oct 24 04:17:05 +0000 2014|Studies Link Mental Issues and the Rigor of the Military http://nyti.ms/1rqcGLR\\n525501204617789440|Fri Oct 24 04:17:05 +0000 2014|Ebola Crosses New Border as Mali Confirms a Case http://nyti.ms/1wiitdg\\n525497364677931008|Fri Oct 24 04:01:49 +0000 2014|Britain Pledges Millions to Fight Ebola and Chides Others to Spend More http://nyti.ms/1rqcGLP\\n525497363201540096|Fri Oct 24 04:01:49 +0000 2014|Matter: As Ebola Spreads, So Have Several Fallacies http://nyti.ms/1wiiqOv\\n525491900900335616|Fri Oct 24 03:40:07 +0000 2014|Where the NYC Ebola patient is being treated  http://nyti.ms/ZKno88 http://pbs.twimg.com/media/B0reh6gIAAE6jH8.png\\n525475269013164032|Fri Oct 24 02:34:01 +0000 2014|Unlike Ebola, the influenza virus is truly airborne. And if will likely kill thousands this season http://nyti.ms/ZPrU5V\\n525472213873750016|Fri Oct 24 02:21:53 +0000 2014|A promising Ebola vaccine was shelved for nearly 10 years, writes @nytDeniseGrady http://nyti.ms/ZKq1XH\\n525471828811464705|Fri Oct 24 02:20:21 +0000 2014|RT @susannecraig: NYC ebola patient attempted to self isolate in his apartment.  Took his temperature twice a day.\\n525470086199799808|Fri Oct 24 02:13:25 +0000 2014|Ask Well: Can you get Ebola from a bowling ball? http://nyti.ms/1FLTfXw\\n525469559021903872|Fri Oct 24 02:11:20 +0000 2014|NY Ebola patient\\'s first fever was late morning on Thursday, says @DrMaryTBassett. He did not have a fever while bowling\\n525468321723187200|Fri Oct 24 02:06:25 +0000 2014|RT @thomaskaplan: Ebola patient rode in an Uber car at one point, but the Uber driver is not believed to be at risk, NYC health commissione…\\n525467084294471680|Fri Oct 24 02:01:30 +0000 2014|RT @cslnyt: First symptoms #ebola NYC patient experienced was this morning. He went on a 3-mile jog. Took subway too.\\n525466781042102272|Fri Oct 24 02:00:17 +0000 2014|NYC Ebola patient is 33 years old, says @DrMaryTBassett http://nyti.ms/1FLOKMA\\n525466188982538240|Fri Oct 24 01:57:56 +0000 2014|RT @thomaskaplan: Cuomo says Ebola patient is believed to have come into contact with four people during relevant period; they have already…\\n525465880315326464|Fri Oct 24 01:56:43 +0000 2014|Watch Gov. Cuomo and Mayor de Blasio speaking about the NY Ebola case http://nyti.ms/1FLOKMA\\n525465491696254976|Fri Oct 24 01:55:10 +0000 2014|Well: Can You Get Ebola From a Bowling Ball? http://nyti.ms/1tnPi63\\n525465332174290944|Fri Oct 24 01:54:32 +0000 2014|RT @thomaskaplan: Cuomo: \"Dallas, unfortunately, was caught before they could really prepare. ... We had the advantage of learning from the…\\n525465237634691072|Fri Oct 24 01:54:10 +0000 2014|RT @grynbaum: \"There is no reason for New Yorkers to be alarmed,” says NYC Mayor @BilldeBlasio. \"Ebola is an extremely hard disease to cont…\\n525462629020860416|Fri Oct 24 01:43:48 +0000 2014|Can you get Ebola from a bowling ball? Most likely not.  http://nyti.ms/ZPpTX9\\n525457915764047872|Fri Oct 24 01:25:04 +0000 2014|Where the NYC Ebola patient is being treated http://nyti.ms/ZKno88 http://pbs.twimg.com/media/B0rNMIeIEAAHYyM.png\\n525457076290875392|Fri Oct 24 01:21:44 +0000 2014|RT @archietse: NYC patient pushes the number of #Ebola cases outside of Africa to 18 http://bit.ly/ebola-cases http://pbs.twimg.com/media/B0rMTDJCIAAf2XQ.png\\n525455991681581058|Fri Oct 24 01:17:25 +0000 2014|A promising Ebola vaccine was shelved for nearly 10 years, writes @nytDeniseGrady http://nyti.ms/ZKq1XH\\n525454792475541506|Fri Oct 24 01:12:39 +0000 2014|Mayor @BilldeBlasio to hold a press conference with @NYGovCuomo on the latest Ebola news. Watch here: http://nyti.ms/ZKpCEG\\n525454100553826304|Fri Oct 24 01:09:54 +0000 2014|RT @jswatz: Time to go back over Ebola facts: not airborne, no transmission if there are no symptoms, direct contact with patient or fluids…\\n525453590325116928|Fri Oct 24 01:07:53 +0000 2014|More than 400 health care workers in West Africa have been infected with Ebola during the current outbreak http://nyti.ms/ZKpc18\\n525452885044494336|Fri Oct 24 01:05:04 +0000 2014|The NY Ebola patient had been working with Doctors Without Borders in Guinea before returning to NYC on Oct. 14 http://nyti.ms/ZKno88\\n525451663612854272|Fri Oct 24 01:00:13 +0000 2014|RT @lpolgreen: Nearly 9000 infected in West Africa; +4400 dead. In America? 6 cases so far, one dead. http://www.nytimes.com/interactive/2014/07/31/world/africa/ebola-virus-outbreak-qa.html http://t.co/Lp…\\n525451537251069952|Fri Oct 24 00:59:43 +0000 2014|How modern technologies can help contain Ebola http://nyti.ms/ZKonp7\\n525450451089915905|Fri Oct 24 00:55:24 +0000 2014|Ebola is extremely unlikely to spread through public transit for several reasons. http://nyti.ms/1rGMzF8\\n525448835519512576|Fri Oct 24 00:48:59 +0000 2014|A doctor in NYC who recently returned from Guinea tested positive for the Ebola virus http://nyti.ms/ZKno88\\n525420839333015552|Thu Oct 23 22:57:44 +0000 2014|Remember it’s hard to get Ebola — even on an airplane. http://nyti.ms/ZPjrQ6\\n525420120924258305|Thu Oct 23 22:54:53 +0000 2014|Paul Allen to Give $100 Million to Tackle Ebola Crisis http://nyti.ms/1sezSvF\\n525420117979824128|Thu Oct 23 22:54:52 +0000 2014|Patient Placed in Isolation for Ebola Testing at Bellevue Hospital in New York City http://nyti.ms/1tPclc9\\n525419032879837186|Thu Oct 23 22:50:33 +0000 2014|RT @jswatz: Promising Ebola vaccine moldered on the shelf, in part because poor countries don\\'t provide ROI. Amazing @denisegrady http://t.…\\n525400104627605504|Thu Oct 23 21:35:21 +0000 2014|The New Old Age Blog: When Death Approaches Again http://nyti.ms/1uM7Byu\\n525347104739557376|Thu Oct 23 18:04:44 +0000 2014|Without Lucrative Market, Potential Ebola Vaccine Was Shelved for Years http://nyti.ms/1rnAzDy\\n525331830015545346|Thu Oct 23 17:04:03 +0000 2014|Well: Living With Schizophrenia: Coffee and Friends http://nyti.ms/1FJi6el\\n525325697704005634|Thu Oct 23 16:39:41 +0000 2014|Well: Milk Choice May Affect Vitamin D Levels http://nyti.ms/1rn8b4s\\n525325696382828544|Thu Oct 23 16:39:40 +0000 2014|Well: Giving the Doctor a Second Chance http://nyti.ms/1FJi3PM\\n525012241608097792|Wed Oct 22 19:54:07 +0000 2014|RT @tminsberg: Listening to music makes hard workouts feel a bit easier (thanks, Coach Beyoncé) http://nyti.ms/ZNTosm\\n525011985508089856|Wed Oct 22 19:53:06 +0000 2014|RT @jswatz: \"Hey, Z, you still saving the world?\" America\\'s quietly heroic malaria fighter. Great profile by Donald McNeil http://t.co/jWbO…\\n525011850967400448|Wed Oct 22 19:52:34 +0000 2014|RT @carlzimmer: Move over Mel Brooks: meet the 45,000-year-old man. Here’s my new @nytimes column on the oldest modern human genome http://…\\n525011437245456384|Wed Oct 22 19:50:55 +0000 2014|RT @HirokoTabuchi: Takata Air Bag Recalls: List of Affected Vehicles http://nyti.ms/1yWAPS5\\n525011267627790338|Wed Oct 22 19:50:15 +0000 2014|RT @cslnyt: More dentists today realize kids w/ autism CAN become cooperative patients. But many still don\\'t treat them. http://t.co/GY8QDz…\\n525001666589097984|Wed Oct 22 19:12:06 +0000 2014|Vegetarians know there is more to Thanksgiving dinner than tofurky. Do you have a special recipe? Submit here. http://nyti.ms/ZO0wFc\\n524974218749181952|Wed Oct 22 17:23:01 +0000 2014|U.S. to Monitor Travelers From Ebola-Hit Nations for 21 Days http://nyti.ms/1oum31s\\n524969598538743810|Wed Oct 22 17:04:40 +0000 2014|RT @nytimesscience: The Science Times podcast is on @Stitcher! Listen now or listen later: http://nyti.ms/1sLaotw\\n524967883731136512|Wed Oct 22 16:57:51 +0000 2014|Well: Share Your Best Vegetarian Thanksgiving Recipes and Stories http://nyti.ms/1oui3Ok\\n524962981252456448|Wed Oct 22 16:38:22 +0000 2014|Well: Stressed? This Dog May Help http://nyti.ms/1x9nkdc\\n524949022134784000|Wed Oct 22 15:42:54 +0000 2014|RT @SeniorsLaw: Is It Really Dementia? http://newoldage.blogs.nytimes.com/2014/10/21/is-it-really-dementia/?_php=true&_type=blogs&mabReward=RI%3A9&action=click&pgtype=Homepage&region=CColumn&module=Recommendation&src=rechp&WT.nav=RecEngine&_r=0 by @paula_span @TheNewOldAge\\n524930492240777216|Wed Oct 22 14:29:16 +0000 2014|The Health Issue: What if Age Is Nothing but a Mind-Set? http://nyti.ms/1yYj1Wv\\n524801794397200384|Wed Oct 22 05:57:52 +0000 2014|Testing for Ebola Vaccines to Start Soon, W.H.O. Says http://nyti.ms/1t4ybGC\\n524782052970078208|Wed Oct 22 04:39:26 +0000 2014|Well: How Music Can Boost a High-Intensity Workout http://nyti.ms/1pzaUaw\\n524778027419713536|Wed Oct 22 04:23:26 +0000 2014|Ebola Prompts Universities to Tighten Travel Rules http://nyti.ms/1zk2nll\\n524778025880408064|Wed Oct 22 04:23:25 +0000 2014|Ebola Outbreak Erodes Recent Advances in West Africa http://nyti.ms/1pzaUaq\\n524728935339544576|Wed Oct 22 01:08:21 +0000 2014|Procedure on Paralyzed Man Stirs Hope and Caution http://nyti.ms/1uC8MR4\\n524721288196415488|Wed Oct 22 00:37:58 +0000 2014|Demand Jumps for Protective Equipment as Ebola Cases Spur Hospitals Into Action http://nyti.ms/1zjRgZz\\n524677464891863040|Tue Oct 21 21:43:50 +0000 2014|Well: Dangerous Dietary Supplements Return to Store Shelves http://nyti.ms/1w4Z8fx\\n524617912754388992|Tue Oct 21 17:47:11 +0000 2014|The New Old Age Blog: Is It Really Dementia? http://nyti.ms/1Dx7BJ8\\n524611466742493184|Tue Oct 21 17:21:35 +0000 2014|RT @UpshotNYT: Almost 90% of Americans aren\\'t aware that it\\'s time to sign up for Obamacare healthcare plans. http://nyti.ms/1vIbwR4\\n524579912850882562|Tue Oct 21 15:16:12 +0000 2014|Well: It’s Time to Try Nutty, Sour Trahana http://nyti.ms/1yfxevh\\n524521543359950848|Tue Oct 21 11:24:15 +0000 2014|Drinking your morning coffee — even decaffeinated coffee — may protect your liver. http://nyti.ms/ZM4DBA http://pbs.twimg.com/media/B0bihiHCIAArGgL.jpg\\n524402973318062081|Tue Oct 21 03:33:06 +0000 2014|On the Road: For Travel Pros, Ebola Fears Create Teaching Moments http://nyti.ms/1t6QyeW\\n524402971900411904|Tue Oct 21 03:33:06 +0000 2014|Well: Genetic Variant May Shield Latinas From Breast Cancer http://nyti.ms/1wkZWtc\\n524392132392407040|Tue Oct 21 02:50:01 +0000 2014|RT @vikasbajaj: Terrific account by @helenecooper on returning to Liberia and finding resilience amid horror http://bit.ly/1tEUnZH\\n524385887757799424|Tue Oct 21 02:25:12 +0000 2014|C.D.C. Issues New Guidelines for Ebola Care http://nyti.ms/1vZl23H\\n524385886289813504|Tue Oct 21 02:25:12 +0000 2014|The Working Life: Baby on Way, Worker Gets Her Job Back  http://nyti.ms/1rovIkE\\n524376243144523779|Tue Oct 21 01:46:53 +0000 2014|On Ebola Response, Congressional Republicans Put New Focus on Visa Suspensions  http://nyti.ms/1vZ8CZq\\n524376241240305665|Tue Oct 21 01:46:53 +0000 2014|Ethicist Calls CPR Too Risky in Ebola  http://nyti.ms/1rosxcS\\n524371834238541824|Tue Oct 21 01:29:22 +0000 2014|RT @nytvideo: Teaching autistic kids how to behave at the dentist\\'s office, ten seconds at a time  http://nyti.ms/1vDZuIr http://t.co/cgfiH…\\n524371630810992641|Tue Oct 21 01:28:33 +0000 2014|Well: Robotic Surgery Report Card http://nyti.ms/1ror8mz\\n524371511394594816|Tue Oct 21 01:28:05 +0000 2014|Finishing a basic teeth cleaning can be a colossal challenge for parents of children with autism. http://nyti.ms/1tGqtnR\\n524361767452160003|Tue Oct 21 00:49:22 +0000 2014|Well: A Weight Loss Belief Is Tested http://nyti.ms/1vYTdsc\\n524355674277695490|Tue Oct 21 00:25:09 +0000 2014|Well: Coffee May Protect the Liver http://nyti.ms/1rolzEy\\n524351214826557440|Tue Oct 21 00:07:26 +0000 2014|Well: Stemming a Stream of Pain for Children with Sickle Cell Disease http://nyti.ms/1vYHgmq\\n524343799645216768|Mon Oct 20 23:37:58 +0000 2014|Global Health: Steroids Are No Boon to World’s Poorer Women http://nyti.ms/1vYzglp\\n524333202144776192|Mon Oct 20 22:55:51 +0000 2014|Reactions: Patient Records, O.C.D. Burdens, Teenagers Interrogated http://nyti.ms/1t3o4lb\\n524333200525778945|Mon Oct 20 22:55:51 +0000 2014|Profiles in Science: The Malaria Fighter  http://nyti.ms/1rodT5g\\n524333195311845377|Mon Oct 20 22:55:50 +0000 2014|One of the most quietly effective leaders in public health — the malaria fighter. http://nyti.ms/1tG4YUg?\\n524318434398445568|Mon Oct 20 21:57:10 +0000 2014|RT @HannaIngber: Charitable giving to address Ebola is almost nonexistent, writes @ssstrom http://bit.ly/1tFECSh\\n524309125069434881|Mon Oct 20 21:20:11 +0000 2014|Well: For Children With Autism, Opening a Door to Dental Care http://nyti.ms/1ycf517\\n524286340922220546|Mon Oct 20 19:49:39 +0000 2014|RT @motokorich: Donations for Ebola Relief Efforts Are Slow to Take Off http://nyti.ms/1FrDKnx @ssstrom\\n524285473565315072|Mon Oct 20 19:46:12 +0000 2014|RT @sangerkatz: Good @aaronecarroll piece on weirdest part of Duncan Ebola story: why he was given an antibiotic. http://bit.ly/ZLByWV\\n524280055904886785|Mon Oct 20 19:24:40 +0000 2014|Books: A Frightening Diagnosis Is Only Start of the Story in ‘Not Fade Away’ and ‘Now I See You’ http://nyti.ms/1vDAVv8\\n524277817010171904|Mon Oct 20 19:15:46 +0000 2014|RT @lpolgreen: So far the only people who have caught Ebola outside of W Africa are health workers. Even household contacts didn\\'t. http://…\\n524241908630294528|Mon Oct 20 16:53:05 +0000 2014|Donations for Ebola Relief Efforts Are Slow to Take Off http://nyti.ms/1r1K8rG\\n524241906877071360|Mon Oct 20 16:53:05 +0000 2014|W.H.O. Declares Nigeria Free of Ebola http://nyti.ms/1vCZ3hm\\n524235408280801280|Mon Oct 20 16:27:15 +0000 2014|RT @MonkovicNYT: The first Ebola patient in the U.S. was sent home on antibiotics, an example of  a larger problem in prescribing them http…\\n524229207904501760|Mon Oct 20 16:02:37 +0000 2014|The New Health Care: On an Antibiotic? You May Be Getting Only a False Sense of Security http://nyti.ms/1CLzKKc\\n524227363983208450|Mon Oct 20 15:55:17 +0000 2014|The plot has thickened with smell. http://nyti.ms/1tF4u0y\\n524225880667598851|Mon Oct 20 15:49:24 +0000 2014|RT @bstrauch: The Hot Zone author talks about the current Ebola outbreak and what he got wrong. http://nyti.ms/1rXU3Oo\\n524225003290886144|Mon Oct 20 15:45:55 +0000 2014|Well: Hard Lesson in Sleep for Teenagers http://nyti.ms/1vCHnTd\\n524210796327632897|Mon Oct 20 14:49:27 +0000 2014|RT @jimdao: Ebola is just the latest disaster to strike Liberia. A powerful, evocative piece by Monrovia-born @helenecooper  http://t.co/QM…\\n524209031100256256|Mon Oct 20 14:42:27 +0000 2014|RT @picardonhealth: Why did the Dallas #Ebola patient get antibiotics? by @aaronecarroll http://nyti.ms/1wfCj6r via @nytimes @sangerkatz\\n524148136101834753|Mon Oct 20 10:40:28 +0000 2014|The 21-day monitoring period is over for nearly all the roughly 50 people being monitored for Ebola in Dallas.  http://nyti.ms/1Dr5C99\\n524130768919212032|Mon Oct 20 09:31:27 +0000 2014|Just like people in the U.S., everyone in Monrovia was talking about Duncan, writes @helenecooper http://nyti.ms/1Dr3VJ0\\n524102075504799744|Mon Oct 20 07:37:26 +0000 2014|Parents pulled children out of a school after the principal went to Zambia, an African nation untouched by Ebola. http://nyti.ms/1Dr4CSH\\n524069857411997696|Mon Oct 20 05:29:25 +0000 2014|\"When Eunice and I took a picture together .. we made sure not to touch.\" The personal side of Ebola in Liberia. http://nyti.ms/1t3VO2Y\\n524060894678880256|Mon Oct 20 04:53:48 +0000 2014|White House has temporarily cut funding for experiments that study infectious agents by making them more dangerous. http://nyti.ms/1t3XGbS\\n524057227406360576|Mon Oct 20 04:39:14 +0000 2014|Mr. Duncan’s fiancée and others declared Ebola-free in Dallas. http://nyti.ms/1Dr5C99\\n524055617917292544|Mon Oct 20 04:32:50 +0000 2014|Making sense of the #EbolaHysteria http://nyti.ms/1Dr4CSH\\n524054218689097729|Mon Oct 20 04:27:16 +0000 2014|\"There is a strength here that I had never before realized,\" writes @helenecooper of returning home to Liberia.  http://nyti.ms/1Dr3VJ0\\n524053422308204546|Mon Oct 20 04:24:07 +0000 2014|RT @mannyNYT: Dozens Declared Free of Ebola Risk in Texas http://nyti.ms/1CH47Bs\\n524025729710039041|Mon Oct 20 02:34:04 +0000 2014|Fear of Ebola Closes Schools and Shapes Politics http://nyti.ms/10bMez1\\n524025728636293121|Mon Oct 20 02:34:04 +0000 2014|Reporter\\'s Notebook: In Homeland, Liberia Native Finds Resilience Amid Horror  http://nyti.ms/1wYDfen\\n524000787379519488|Mon Oct 20 00:54:57 +0000 2014|A Word With: Richard Preston: Updating a Chronicle of Suffering: Author of ‘The Hot Zone’ Tracks Ebola’s Evolution http://nyti.ms/1wYnZ11\\n523651359137337344|Sun Oct 19 01:46:27 +0000 2014|Dozens in Ohio Monitored for Possible Exposure to Nurse With Ebola http://nyti.ms/1sBddgA\\n523651357514149888|Sun Oct 19 01:46:27 +0000 2014|At Service for Dallas Ebola Victim, Relatives Recall a Gentle, Generous Man http://nyti.ms/108ljnH\\n523557784802295810|Sat Oct 18 19:34:37 +0000 2014|Opinionator | Couch: Why Doctors Need Stories http://nyti.ms/1wgcamN\\n523476537840906241|Sat Oct 18 14:11:47 +0000 2014|RT @nytimes: NYT\\'s Sheri Fink is chronicling the Ebola outbreak from a clinic in Liberia. Questions for her? Include #AskNYT http://t.co/8H…\\n523322186913026048|Sat Oct 18 03:58:26 +0000 2014|White House to Cut Funding for Risky Biological Study http://nyti.ms/1sSKky0\\n523322183742152704|Sat Oct 18 03:58:26 +0000 2014|Fitbit Says It Will Make Changes to Address Complaints About Allergic Reactions  http://nyti.ms/1wRQ8ac\\n523317744830529537|Sat Oct 18 03:40:47 +0000 2014|Unable to Meet the Deductible or the Doctor http://nyti.ms/1sSKkxY\\n523317742871789568|Sat Oct 18 03:40:47 +0000 2014|Health Scare in Texas Also Sends Political Ripples http://nyti.ms/1wRQ8aa\\n523313044957724672|Sat Oct 18 03:22:07 +0000 2014|Experts Oppose Ebola Travel Ban, Saying It Would Cut Off Worst-Hit Countries http://nyti.ms/1wRQ7D3\\n523313042134937601|Sat Oct 18 03:22:06 +0000 2014|Amid Assurances on Ebola, Obama Is Said to Seethe http://nyti.ms/1sSKmWE\\n523234097511297024|Fri Oct 17 22:08:24 +0000 2014|In Europe, Fear of Ebola Far Outweighs the True Risks http://nyti.ms/ZIteHE\\n523234096408199168|Fri Oct 17 22:08:24 +0000 2014|Waste From Ebola Poses Challenge to Hospitals http://nyti.ms/1sRTs5O\\n523229429548711936|Fri Oct 17 21:49:51 +0000 2014|Well: Ask Well: Do Mosquitoes Spread Ebola? http://nyti.ms/ZIrq1e\\n523218151434354688|Fri Oct 17 21:05:02 +0000 2014|Well: Ask Well: Do Mosquitos Spread Ebola? http://nyti.ms/ZInkGr\\n523209724158676992|Fri Oct 17 20:31:33 +0000 2014|RT @mannyNYT: Staff in Texas Ebola Case Is Asked to Avoid Public Spaces http://nyti.ms/1qGD1F6\\n523209342820941824|Fri Oct 17 20:30:02 +0000 2014|You may be younger than someone with less years. http://nyti.ms/1rJCd1f\\n523174958768603137|Fri Oct 17 18:13:24 +0000 2014|Well: Mistakes in Treating Childhood Fractures http://nyti.ms/1FdiNwv\\n523161987585277952|Fri Oct 17 17:21:52 +0000 2014|WHO says Senegal is Ebola-free. http://bit.ly/1rIJwXa\\n523151315346530306|Fri Oct 17 16:39:27 +0000 2014|RT @paula_span: \"Being Mortal,\" new book from @Atul_Gawande: wise, important, beautifully written, a bit late to the party. http://t.co/p56…\\n523146490860957696|Fri Oct 17 16:20:17 +0000 2014|A child’s backpack should not exceed what percent of body weight? Take this week’s quiz by @camaldarelli http://nyti.ms/1rIjraH\\n523141205996339200|Fri Oct 17 15:59:17 +0000 2014|The New Old Age Blog: A Doctor Discovers Dying http://nyti.ms/1oepIAk\\n523136437223710720|Fri Oct 17 15:40:20 +0000 2014|Health Worker Who May Have Had Contact With Ebola Is on Cruise Ship http://nyti.ms/1wdNmfh\\n523133890840371200|Fri Oct 17 15:30:13 +0000 2014|When nurses were encouraged to monitor doctors’ practices at first there was tension, then useful changes.  http://nyti.ms/1tzGiww\\n523128735860400128|Fri Oct 17 15:09:44 +0000 2014|RT @CDCgov: Get the facts about #Ebola. Here’s what you need to know about when a person can spread the disease to others. http://t.co/DxeS…\\n523128603895009281|Fri Oct 17 15:09:13 +0000 2014|RT @CDCgov: #Ebola is not spread through casual contact, air, water or any food grown or legally purchased in US. http://pbs.twimg.com/media/B0JsqSUIgAEmAly.jpg\\n523128341130252289|Fri Oct 17 15:08:10 +0000 2014|CDC asking passengers on Frontier Dallas to Cleveland flight on Oct. 10 and Cleveland to Dallas flight on Oct. 13 to call 1 800-CDC INFO\\n523126961963425792|Fri Oct 17 15:02:41 +0000 2014|President Obama reorganizing schedule to focus on Ebola. http://nyti.ms/1tzDFe7\\n523126384374185984|Fri Oct 17 15:00:23 +0000 2014|Meet the Ebola czar, Ron Klain, a former chief of staff for Vice Presidents Gore and  Biden. http://nyti.ms/1tzDrE1 http://pbs.twimg.com/media/B0KErJuCMAAZtPQ.jpg\\n523124657294417920|Fri Oct 17 14:53:32 +0000 2014|Ron Klain, Chief of Staff to 2 Vice Presidents, Is Named Ebola ‘Czar’ http://nyti.ms/1xYMgp3\\n523123842395279360|Fri Oct 17 14:50:17 +0000 2014|RT @carlzimmer: The U.N.’s Ebola outbreak trust fund is full of promises, and almost no cash. http://www.nytimes.com/2014/10/17/world/africa/ban-ki-moon-pleads-for-ebola-aid-donations.html?action=click&contentCollection=US%20Open&region=Article&module=Promotron\\n523122130028740608|Fri Oct 17 14:43:29 +0000 2014|RT @palafo: Ron Klain, Chief of Staff to 2 Vice Presidents, Is Named Ebola ‘Czar’, via @nytimes http://www.nytimes.com/2014/10/18/us/ron-klain-chief-of-staff-to-2-vice-presidents-is-named-ebola-czar.html?smprod=nytcore-iphone&smid=nytcore-iphone-share\\n523121075769450497|Fri Oct 17 14:39:18 +0000 2014|RT @DavidFurstNYT: Blessing Gea, 9, being carried into the high-risk ward. Days later she recovered from Ebola. http://nyti.ms/1F8DLwm http…\\n523111014716280832|Fri Oct 17 13:59:19 +0000 2014|RT @meslackman: \"I’ve been covering Ebola for nearly two months.  I’ve watched the virus spread, and it has been a devastating sight.\"http:…\\n522968124233383936|Fri Oct 17 04:31:31 +0000 2014|In Cities With West African Populations, Hospitals Take Extra Steps http://nyti.ms/ZH5SCi\\n522964292661157888|Fri Oct 17 04:16:18 +0000 2014|White House Takes Drop-Everything Approach to Respond to Public Health Crisis http://nyti.ms/1wfpb22\\n522964291256070144|Fri Oct 17 04:16:17 +0000 2014|In Layers of Gear, U.S. Doctor Offers Healing Hand to Ebola Patients in Liberia http://nyti.ms/ZH5UtH\\n522959888868454400|Fri Oct 17 03:58:48 +0000 2014|Controls Poor in Dallas, Nurse Says http://nyti.ms/1wfp8Dh\\n522959886662262784|Fri Oct 17 03:58:47 +0000 2014|Out on the Front Lines, Risks and Duty Collide http://nyti.ms/1wfpb24\\n522932039650402305|Fri Oct 17 02:08:08 +0000 2014|Obama May Name ‘Czar’ to Oversee Ebola Response http://nyti.ms/1wf1Qxe\\n522895632617717760|Thu Oct 16 23:43:28 +0000 2014|Op-Ed Contributor: Don’t Depend on Those Frozen Eggs http://nyti.ms/1wNQ0IE\\n522851212324917248|Thu Oct 16 20:46:57 +0000 2014|RT @nycscribe: In the Ebola frenzy, don\\'t forget West Africa. If you watch this video, you won\\'t be able to forget. http://nyti.ms/1yH8M8S\\n522851041822265344|Thu Oct 16 20:46:17 +0000 2014|RT @nytpolitics: Frieden: Travel Ban Won’t Contain Ebola Outbreak http://nyti.ms/1sY5n3n\\n522850794047959040|Thu Oct 16 20:45:18 +0000 2014|RT @cslnyt: Leukemia Patients in Extended Remission after T-cell Therapy @nytDeniseGrady  http://www.nytimes.com/2014/10/16/health/leukemia-patients-cell-therapy-childrens-hospital.html?smid=nytcore-iphone-share&smprod=nytcore-iphone\\n522841263029374976|Thu Oct 16 20:07:25 +0000 2014|Well: When Doctors and Nurses Work Together http://nyti.ms/1zdTGJq\\n522811579239497729|Thu Oct 16 18:09:28 +0000 2014|RT @bcsolomon: My latest story &amp; short documentary for @nytimes: The brave and lonely men of the #Ebola ambulance teams in #Liberia http://…\\n522810330922360832|Thu Oct 16 18:04:30 +0000 2014|Other ways to help in efforts to stem Ebola’s tide: http://nyti.ms/1mZqzUv\\n522809603420348417|Thu Oct 16 18:01:37 +0000 2014|UN is asking for donations towards the Ebola fund, which is running dry.  http://nyti.ms/1sXMGgn\\n522808657038565376|Thu Oct 16 17:57:51 +0000 2014|RT @rickgladstone: U.N.\\'s New Ebola Trust Fund Running Out of Money http://nyti.ms/1yHARNm\\n522803900563603458|Thu Oct 16 17:38:57 +0000 2014|Motherlode Blog: Want to Ace That Test? Get the Right Kind of Sleep. http://nyti.ms/1sVOVQ7\\n522801123342954496|Thu Oct 16 17:27:55 +0000 2014|RT @meslackman: Watch this, watch it right now. Ben Solomon is doing absolutely heroic journalism in Monrovia.  http://nyti.ms/1F3Zg1l\\n522794846608961536|Thu Oct 16 17:02:59 +0000 2014|Reminder: Experts say they would not expect to be infected by sitting near person with Ebola – unless that person vomited/bled on them.\\n522793720383827968|Thu Oct 16 16:58:30 +0000 2014|As Ebola Fears Spread, Ohio and Texas Close Some Schools http://nyti.ms/1sVKsNz\\n522793268393037824|Thu Oct 16 16:56:42 +0000 2014|Reminder: Ebola spreads through direct contact with the body fluids of someone showing symptoms. http://nyti.ms/UPEOhp\\n522792351107145729|Thu Oct 16 16:53:04 +0000 2014|RT @celiadugger: Odds of getting Ebola on a flight? Not high, even if asymptomatic person with Ebola aboard. http://nyti.ms/1D89PhY\\n522778257457152000|Thu Oct 16 15:57:04 +0000 2014|RT @ReedAbelson: C.D.C. Director Becomes Face of Nation’s Worry and Flawed Response  http://nyti.ms/1u6WaRq Profile by @stavernise Like a t…\\n522778106638381056|Thu Oct 16 15:56:28 +0000 2014|RT @mannyNYT: As Ebola Fears Spread, Ohio and Texas Close Some Schools http://nyti.ms/1CqBCI7\\n522777449919414272|Thu Oct 16 15:53:51 +0000 2014|Answers to your Ebola questions about how many people are being treated and how the virus spreads. http://nyti.ms/UPEOhp\\n522772596312801280|Thu Oct 16 15:34:34 +0000 2014|RT @celiadugger: Video by @bcsolomon captures the bravery &amp; sacrifice of worker in Monrovia who collects the Ebola dead. http://t.co/TS34E7…\\n522754458250665984|Thu Oct 16 14:22:29 +0000 2014|Because of Ebola, Ambulance Work in Liberia Is a Busy and Lonely Business http://nyti.ms/1ua0QGg\\n522740958476374016|Thu Oct 16 13:28:51 +0000 2014|Public Health: The Partisan Divide on Ebola Preparedness http://nyti.ms/1u9IhlA\\n522596753670164481|Thu Oct 16 03:55:50 +0000 2014|Lax U.S. Guidelines on Ebola Led to Poor Hospital Training, Experts Say http://nyti.ms/ZFE4y4\\n522592697471991808|Thu Oct 16 03:39:43 +0000 2014|Downfall for Hospital Where Virus Spread  http://nyti.ms/1yFNfxy\\n522592696192757760|Thu Oct 16 03:39:42 +0000 2014|Planned Parenthood Is Expanding to Queens http://nyti.ms/ZFE2Gq\\n522588576161472512|Thu Oct 16 03:23:20 +0000 2014|Texas Abortion Clinics to Reopen Despite a Future in Legal Limbo http://nyti.ms/1yFNicu\\n522588574789931008|Thu Oct 16 03:23:20 +0000 2014|U.S. Says Consumers Must Renew Health Insurance Policies http://nyti.ms/ZFE2Go\\n522586990294757377|Thu Oct 16 03:17:02 +0000 2014|The U.S. failed to prepare its troops &amp; medical corps for the aged chemical weapons it found in Iraq. http://nyti.ms/1w8WTX0\\n522584748892647425|Thu Oct 16 03:08:07 +0000 2014|F.D.A. Approves First 2 Drugs for Treatment of a Fatal Lung Disease  http://nyti.ms/1yFNfNO\\n522584747806298112|Thu Oct 16 03:08:07 +0000 2014|C.D.C. Director Becomes Face of Nation’s Worry and Flawed Response  http://nyti.ms/1yFNfh2\\n522529678528372736|Wed Oct 15 23:29:18 +0000 2014|Op-Ed Contributor: Resurrecting Smallpox? Easier Than You Think http://nyti.ms/1ssn3S7\\n522501634426167296|Wed Oct 15 21:37:51 +0000 2014|Leukemia Patients in Extended Remission After Experimental Cell Therapy http://nyti.ms/1CnnzmI\\n522492612352430080|Wed Oct 15 21:02:00 +0000 2014|Ebola’s Other Contagious Threat: Hysteria http://nyti.ms/1CnlAPq\\n522491488853569537|Wed Oct 15 20:57:33 +0000 2014|The 48 people whom officials have been monitoring have passed a critical point and are unlikely to contract Ebola.  http://nyti.ms/1qrPGeQ\\n522490687229820928|Wed Oct 15 20:54:21 +0000 2014|When Women Become Men at Wellesley http://nyti.ms/1w9lRFy\\n522461243572236288|Wed Oct 15 18:57:22 +0000 2014|RT @BK4theINYT: WH\\'s Earnest says Obama retains confidence in CDC despite failure to prevent infections in Dallas, or to block infected nur…\\n522446664825856001|Wed Oct 15 17:59:26 +0000 2014|Well: Ask Well: Can Pets Get Ebola? http://nyti.ms/1w7PtRP\\n522441553781227520|Wed Oct 15 17:39:07 +0000 2014|We answered readers’ question: Can pets get Ebola? http://nyti.ms/1w8ZAaQ\\n522437233459339264|Wed Oct 15 17:21:57 +0000 2014|RT @ksacknyt: CDC\\'s Frieden says those with possible exposure to Ebola should not have been traveling, and that it will be prevented in the…\\n522435906784206848|Wed Oct 15 17:16:41 +0000 2014|Obama Cancels Campaign Trip to Meet With Cabinet on Ebola http://nyti.ms/1EYEhNf\\n522435480504516609|Wed Oct 15 17:14:59 +0000 2014|RT @ksacknyt: CDC\\'s Frieden: Regrets not sending infection control team to hospital after first Ebola diagnosis. Sez might have prevented n…\\n522435228691091456|Wed Oct 15 17:13:59 +0000 2014|RT @ksacknyt: HHS Secretary Burwell says one of two Ebola patients in Dallas will be transferred to Emory Hospital in Atlanta.\\n522434739601674242|Wed Oct 15 17:12:02 +0000 2014|Cleaning mustard gas blisters is  “like a having a wire dog brush being rubbed across your leg.” Secret casualties: http://nyti.ms/1nlig5H\\n522432764013211649|Wed Oct 15 17:04:11 +0000 2014|Take a break from bad news with healthy comfort food: lentil pie (Photo by Andrew Scrivani) http://nyti.ms/1w8VNdP http://pbs.twimg.com/media/B0AN1JRCEAABejj.jpg\\n522430098407194625|Wed Oct 15 16:53:36 +0000 2014|RT @liamstack: Nurse\\'s union president: \"Were the protocols breached? The nurses say there were no protocols.” http://www.nytimes.com/2014/10/16/us/ebola-outbreak-texas.html?smid=nytcore-iphone-share&smprod=nytcore-iphone\\n522429811047026688|Wed Oct 15 16:52:27 +0000 2014|That ad hoc response to Ebola has underscored holes in the West’s readiness to confront a wider outbreak. http://nyti.ms/1w8Uvj0\\n522429231058653186|Wed Oct 15 16:50:09 +0000 2014|Video: Three Hopes for an Ebola Treatment http://nyti.ms/1w8Ub3M\\n522426337399955457|Wed Oct 15 16:38:39 +0000 2014|Ebola-Infected Health Worker Took Flight From Cleveland to Dallas http://nyti.ms/1xTdxcj\\n522426096684638208|Wed Oct 15 16:37:42 +0000 2014|At least 17 Ebola cases have been treated outside of West Africa in the current outbreak. http://nyti.ms/UPEOhp\\n522409265357934592|Wed Oct 15 15:30:49 +0000 2014|How Hospital Workers Are Supposed to Treat Ebola Safely http://nyti.ms/1qjjwC9\\n522408919256543233|Wed Oct 15 15:29:26 +0000 2014|The woman showed no symptoms of illness on flight, says CDC. An individual with Ebola is thought to become contagious when symptomatic.\\n522406272805928960|Wed Oct 15 15:18:55 +0000 2014|The second healthcare worker reported to the hospital with Ebola was on this flight, CDC says.\\n522406151527608321|Wed Oct 15 15:18:27 +0000 2014|CDC is reaching out to passengers who flew on Frontier Airlines flight 1143 Cleveland to Dallas/Fort Worth Oct. 13.\\n522402066002878465|Wed Oct 15 15:02:12 +0000 2014|The new patient has renewed questions about the hospital’s infection-control procedures and the C.D.C.\\'s oversight of the Ebola response.\\n522401858951073792|Wed Oct 15 15:01:23 +0000 2014|A second case of Ebola among the nearly 100 doctors, nurses and assistants who helped treat Mr. Duncan for 10 days was not unexpected.\\n522401614909702144|Wed Oct 15 15:00:25 +0000 2014|A second worker at Texas Health Presbyterian Hospital in Dallas has tested positive for Ebola. http://nyti.ms/1qrPGeQ\\n522399049551708161|Wed Oct 15 14:50:13 +0000 2014|You already know your chronological age, but do you know your fitness age?  http://nyti.ms/1sfjPBi\\n522356607326642176|Wed Oct 15 12:01:34 +0000 2014|Ebola Test Is Positive in Second Texas Health Worker http://nyti.ms/1w8lBqd\\n522240201167749120|Wed Oct 15 04:19:01 +0000 2014|Well: What’s Your Fitness Age? http://nyti.ms/1Cjm6hl\\n522234126246903808|Wed Oct 15 03:54:53 +0000 2014|C.D.C. Says It Should Have Responded Faster to the Dallas Ebola Case http://nyti.ms/1rtLxWY\\n522230319035203585|Wed Oct 15 03:39:45 +0000 2014|Ebola Fight in Africa Is Hurt by Limits on Ways to Get Out http://nyti.ms/1nlnDSx\\n522230317969838080|Wed Oct 15 03:39:45 +0000 2014|Your Money Adviser: Back to http://HealthCare.Gov to Shop for Plans in Open-Enrollment Period for 2015 http://nyti.ms/1nlnE8N\\n522226200027365377|Wed Oct 15 03:23:23 +0000 2014|Study Backs Use of Stem Cells in Retinas  http://nyti.ms/1rtLxX0\\n522226198165065728|Wed Oct 15 03:23:22 +0000 2014|Bellevue Hospital to Be a Focus if Ebola Hits New York http://nyti.ms/1nlnDSz\\n522158025613012993|Tue Oct 14 22:52:29 +0000 2014|RT @HannaIngber: WHO warns that the number of new cases of Ebola could reach 10,000 a week by December http://nyti.ms/1yzj5f9\\n522146050040397824|Tue Oct 14 22:04:53 +0000 2014|Breast Cancer Stories http://nyti.ms/1va1Oqq\\n522122566564339712|Tue Oct 14 20:31:35 +0000 2014|E.U. Urges States to Coordinate Efforts to Cut Risk of Importing Ebola http://nyti.ms/1v9GS2P\\n522122565255708672|Tue Oct 14 20:31:34 +0000 2014|W.H.O. Forecast for Ebola Worsens as Mortality Rate Rises http://nyti.ms/1w5u23G\\n522038853314826241|Tue Oct 14 14:58:56 +0000 2014|Ebola Patient Dies in German Hospital http://nyti.ms/ZY0Ule\\n522029538596093953|Tue Oct 14 14:21:55 +0000 2014|Mark Zuckerberg and his wife are  donating $25 million to the @CDCFound to help fight Ebola http://on.fb.me/1w635yX\\n521878832736116737|Tue Oct 14 04:23:04 +0000 2014|Matter:  Rats and Their Alarming Bugs http://nyti.ms/ZXrU4t\\n521846836056035329|Tue Oct 14 02:15:55 +0000 2014|Scientists Rein In Fears of a Virus Whose Mysteries Tend to Invite Speculation http://nyti.ms/1voYQQb\\n521842527591477248|Tue Oct 14 01:58:48 +0000 2014|Well: Vulnerability to Fructose Varies, Health Study Finds http://nyti.ms/1voV3ST\\n521842526538727425|Tue Oct 14 01:58:48 +0000 2014|Questions Rise on Preparations at Hospitals to Deal With Ebola http://nyti.ms/ZBHKAJ\\n521838068165533696|Tue Oct 14 01:41:05 +0000 2014|Debate Over Ebola Turns to Specific Policy Requests http://nyti.ms/ZBH1zx\\n521833568931426304|Tue Oct 14 01:23:12 +0000 2014|Ebola Puts Nina Pham, a Nurse Unaccustomed to the Spotlight, in Its Glare http://nyti.ms/1voR3lp\\n521795972813570048|Mon Oct 13 22:53:49 +0000 2014|Smell Turns Up in Unexpected Places  http://nyti.ms/1z5xDEE\\n521795970435395584|Mon Oct 13 22:53:48 +0000 2014|On View: \\'Haunted Files: The Eugenics Record Office\\' Recreates a Dark Time in a Laboratory\\'s Past http://nyti.ms/1z5yCVa\\n521791968792555521|Mon Oct 13 22:37:54 +0000 2014|A Bank Chief Makes Ebola His Mission http://nyti.ms/1z5wAEC\\n521788168434364416|Mon Oct 13 22:22:48 +0000 2014|Well: Epidurals May Be Given Early or Late in Labor http://nyti.ms/1vYuIsw\\n521784333666115584|Mon Oct 13 22:07:34 +0000 2014|Well: Prostate Cancer Recurrence Risk Tied to Lipid Levels http://nyti.ms/1z5ssoe\\n521784332563021824|Mon Oct 13 22:07:33 +0000 2014|Global Health: Polio on the Rise Again in Pakistan, Officials Say http://nyti.ms/1vYua69\\n521779109773717505|Mon Oct 13 21:46:48 +0000 2014|Well: Ask Well: Ebola on Airplanes, Ebola in Sneezes http://nyti.ms/1z5pdgm\\n521775172664459264|Mon Oct 13 21:31:09 +0000 2014|Well: With Electronic Medical Records, Doctors Read When They Should Talk http://nyti.ms/1z5lI9U\\n521775170609225728|Mon Oct 13 21:31:09 +0000 2014|Health Care: Death Has Its Benefits, Giraffes Among Us, Not Hiding Hair Loss http://nyti.ms/1vYpIUT\\n521770926569185280|Mon Oct 13 21:14:17 +0000 2014|On the Road: For Travelers, Ebola Represents a Small Blip on the Radar http://nyti.ms/1vYoDMR\\n521766088888295424|Mon Oct 13 20:55:04 +0000 2014|Well: In Interrogations, Teenagers Are Too Young to Know Better http://nyti.ms/1z5gJWA\\n521710509331329024|Mon Oct 13 17:14:12 +0000 2014|Q&amp;a: Heavy Backpacks on Little Backs http://nyti.ms/1tWoKVM\\n521697935999135744|Mon Oct 13 16:24:15 +0000 2014|Well: O.C.D, a Disorder That Cannot Be Ignored http://nyti.ms/1tWdo42\\n521690514601820160|Mon Oct 13 15:54:45 +0000 2014|New Questions of Risk and Vigilance After Dallas Nurse Contracts Ebola http://nyti.ms/1tW7Kik\\n521670507486535680|Mon Oct 13 14:35:15 +0000 2014|The New Health Care: Placebos Help. Just Ask This Health Economist. http://nyti.ms/1CdkG7Q\\n521666479465713664|Mon Oct 13 14:19:15 +0000 2014|Well: Lentils in Salads, Pilafs and Pies http://nyti.ms/11etaAh\\n521646092396822528|Mon Oct 13 12:58:14 +0000 2014|W.H.O. Chief Calls Ebola Outbreak a ‘Crisis for International Peace’ http://nyti.ms/1wsvtZW\\n521588144236687360|Mon Oct 13 09:07:58 +0000 2014|The New Old Age Blog: Treating C.O.P.D. in the Elderly http://nyti.ms/1qirGL1\\n521514762044473346|Mon Oct 13 04:16:23 +0000 2014|Study Details the Risk to Infants Put on Sofas to Sleep http://nyti.ms/1ENj2hr\\n521510444843155457|Mon Oct 13 03:59:13 +0000 2014|Bronx Hospital Is Set to Reopen Its Birthing Center After a Renovation http://nyti.ms/1ENfWtN\\n521501260646989824|Mon Oct 13 03:22:44 +0000 2014|Teenagers who eat dinner with the family two or three times a week may reduce their risk for obesity. http://nyti.ms/1xD5zUx\\n521479163870728192|Mon Oct 13 01:54:55 +0000 2014|U.S. Finds Many Failures in Medicare Health Plans http://nyti.ms/1sEtDGC\\n521474915418271744|Mon Oct 13 01:38:03 +0000 2014|For Infected Nurse’s Neighbors, Ebola Brings Worry to Doorstep  http://nyti.ms/1w0bfXH\\n521474914440982528|Mon Oct 13 01:38:02 +0000 2014|C.D.C. Will Offer More Ebola Training to Health Care Workers http://nyti.ms/1sEtDGw\\n521434435342700544|Sun Oct 12 22:57:11 +0000 2014|Babies who are allowed to linger in the womb are often healthier and do better in school http://nyti.ms/1vUL0Sg\\n521391937530920960|Sun Oct 12 20:08:19 +0000 2014|Researchers Replicate Alzheimer’s Brain Cells in a Petri Dish http://nyti.ms/1rp5f6q\\n521383058235092992|Sun Oct 12 19:33:02 +0000 2014|The NYT would like to hear from veterans about their deployment and the return to civilian life http://nyti.ms/1sqBFTn\\n521350240906264576|Sun Oct 12 17:22:38 +0000 2014|Exercise helps kids focus, new research shows. http://nyti.ms/1v2Ao6S\\n521317430228840449|Sun Oct 12 15:12:15 +0000 2014|Can a pet\\'s fur transmit the flu? http://nyti.ms/1tiBQ59\\n521302813008097281|Sun Oct 12 14:14:10 +0000 2014|How school lunch became the latest political battleground http://nyti.ms/1o20lBC (Photo: Sarah Anne Ward for NYT) http://pbs.twimg.com/media/Bzna0nACMAAN6tx.jpg\\n521273640340295680|Sun Oct 12 12:18:15 +0000 2014|Here\\'s your weekend brunch inspiration http://nyti.ms/1vXHtEU (Photo: @AndrewScrivani for NYT) http://pbs.twimg.com/media/BznYSGWCMAAWWLt.jpg\\n521264807287459841|Sun Oct 12 11:43:09 +0000 2014|Texas Health Worker Tests Positive for Ebola http://nyti.ms/1tlNAEd\\n521229676459851776|Sun Oct 12 09:23:33 +0000 2014|Should you avoid contact with a dog that was petted by someone with the flu? http://nyti.ms/1xD5EYk\\n521113113853452289|Sun Oct 12 01:40:22 +0000 2014|Is E-Reading to Your Toddler Story Time, or Simply Screen Time? http://nyti.ms/1sA93Hv\\n521096636010090496|Sun Oct 12 00:34:54 +0000 2014|Reporter\\'s Notebook: In Travel Out of Liberia, Nothing Is Simply Routine http://nyti.ms/1o5L1nK\\n521090607096553472|Sun Oct 12 00:10:56 +0000 2014|Ebola Victim’s Family Blames Hospital and State http://nyti.ms/1D3ToTZ\\n521047445514780673|Sat Oct 11 21:19:26 +0000 2014|The gluten-free diet market expected to reach $15 billion in annual sales by 2016. http://nyti.ms/1xD4XhP\\n521046101470613505|Sat Oct 11 21:14:05 +0000 2014|Teenagers who eat meals with family may reduce their risk for obesity in young adulthood http://nyti.ms/1o41d94\\n521044424349220865|Sat Oct 11 21:07:25 +0000 2014|A Promising Pill, Not So Hard to Swallow http://nyti.ms/1tkEOpR\\n521016486580998145|Sat Oct 11 19:16:25 +0000 2014|Is the U.S. prepared for an Ebola outbreak? http://nyti.ms/1C17anV\\n521012378599559168|Sat Oct 11 19:00:05 +0000 2014|Brain science shows that to retain more information when studying, it may be a good idea to what? Take the quiz. http://nyti.ms/1pWr9hD\\n520998028476289025|Sat Oct 11 18:03:04 +0000 2014|A new book says most students probably don\\'t need to study more. They need a smarter approach to studying http://nyti.ms/1q8qb21\\n520987453952233472|Sat Oct 11 17:21:03 +0000 2014|More evidence of the importance of getting your kids away from that computer and playing outside. http://nyti.ms/1v2Ao6S\\n520985946502619137|Sat Oct 11 17:15:03 +0000 2014|Remember Ebola-like symptoms are fairly common and not the same as having Ebola.\\n520985520571031553|Sat Oct 11 17:13:22 +0000 2014|More than 4,000 people have died from the Ebola outbreak in West Africa. http://nyti.ms/1EHU5Eb\\n520985396822306817|Sat Oct 11 17:12:52 +0000 2014|Many patients with Ebola are dying slowly at home, untreated and with no place to go in Sierra Leone. http://nyti.ms/1EHU5Eb\\n520968994501976064|Sat Oct 11 16:07:42 +0000 2014|Opinion: Can Celiac Disease Affect the Brain?  http://nyti.ms/1vTEHzB\\n520925807468761088|Sat Oct 11 13:16:05 +0000 2014|59 healthy, vegetarian brunch recipes http://nyti.ms/1vXHtEU (Photo: @AndrewScrivani for NYT) http://pbs.twimg.com/media/BznXlzWCIAAU89P.jpg\\n520791187511201792|Sat Oct 11 04:21:09 +0000 2014|The NYT would like to hear from veterans about their deployment and the return to civilian life http://nyti.ms/1sqBFTn\\n520761994425556992|Sat Oct 11 02:25:09 +0000 2014|Three avenues that have potential for an Ebola treatment http://nyti.ms/1yhdZEf\\n520761967687245824|Sat Oct 11 02:25:03 +0000 2014|Global Response to Ebola Highlights Challenges in Delivering Aid http://nyti.ms/1vVg0la\\n520761966642855936|Sat Oct 11 02:25:02 +0000 2014|Harvoni, a Hepatitis C Drug From Gilead, Wins F.D.A. Approval http://nyti.ms/ZTZRme\\n520751532221169664|Sat Oct 11 01:43:35 +0000 2014|Doctors Without Borders Evolves as It Forms the Vanguard in Ebola Fight  http://nyti.ms/1vSrnv4\\n520746945284157440|Sat Oct 11 01:25:21 +0000 2014|Officials Admit a ‘Defeat’ by Ebola in Sierra Leone http://nyti.ms/ZTX9x9\\n520725143619117056|Fri Oct 10 23:58:43 +0000 2014|Public Health: The Unhealthy Politics of Ebola http://nyti.ms/1vSdLjs\\n520725142130135040|Fri Oct 10 23:58:43 +0000 2014|For Dallas Official, the Best Way to Fight Ebola Fears Is in Person http://nyti.ms/ZTSwmQ\\n520720630623518720|Fri Oct 10 23:40:47 +0000 2014|Dallas Ebola Patient Was Initially Sent Home Despite High Fever, Records Show http://nyti.ms/ZTRPtI\\n520720628522164224|Fri Oct 10 23:40:47 +0000 2014|Extendicare Agrees to Pay $38 Million Over Inadequate Nursing Home Care http://nyti.ms/ZTRPtK\\n520690277422727168|Fri Oct 10 21:40:10 +0000 2014|Here are some ideas for a healthy, quick dinner http://nyti.ms/1smffT2 (Photo: @AndrewScrivani for NYT) http://pbs.twimg.com/media/BzndDEbCMAELLbK.jpg\\n520674431358611457|Fri Oct 10 20:37:12 +0000 2014|The Nebraska Biocontainment Patient Care Unit is at the forefront of the nation\\'s response to Ebola http://nyti.ms/1vXp6ji\\n520664850842660865|Fri Oct 10 19:59:08 +0000 2014|What percentage of active physicians in the United States are men? Take the weekly health quiz. http://nyti.ms/1pWr9hD\\n520637936815980544|Fri Oct 10 18:12:11 +0000 2014|A heart-rending test in an Ebola clinic: A baby http://nyti.ms/1vbCGAJ (Photo: Daniel Berehulak for NYT) http://pbs.twimg.com/media/BzmYj91CIAAZlKf.jpg\\n520627617985466368|Fri Oct 10 17:31:11 +0000 2014|The New Old Age Blog: As Diseases are Managed, Lifespans Keep Getting Longer http://nyti.ms/Zys7tY\\n520601654367121408|Fri Oct 10 15:48:01 +0000 2014|The NYT would like to hear from veterans about their deployment and the return to civilian life http://nyti.ms/1sqBFTn\\n520422977800646656|Fri Oct 10 03:58:01 +0000 2014|This symptom may distinguish a wheat allergy from the far more common gluten sensitivity.  Take the weekly quiz: http://nyti.ms/1pWr9hD\\n520413352770949120|Fri Oct 10 03:19:46 +0000 2014|Heart-Rending Test in Virus Zone: A Newborn http://nyti.ms/1vVryH4\\n520408886713782272|Fri Oct 10 03:02:01 +0000 2014|Britain to Screen for Ebola Amid Possible New Cases in Europe  http://nyti.ms/1rk9sbv\\n520408884595671040|Fri Oct 10 03:02:01 +0000 2014|West Africans Make Plea for Long List of Ebola Needs http://nyti.ms/1vVrx5Q\\n520336863257952256|Thu Oct 09 22:15:50 +0000 2014|Dallas Sheriff’s Official Tests Negative for Ebola  http://nyti.ms/1CZ52iO\\n520322069612228608|Thu Oct 09 21:17:03 +0000 2014|Well: Living with Cancer: Hiding Under a Wig? http://nyti.ms/10WL3Ub\\n520317189468209152|Thu Oct 09 20:57:39 +0000 2014|True or false? Petting a dog is a common way to transmit the flu virus. Take the weekly quiz: http://nyti.ms/1pWr9hD\\n520273845039923200|Thu Oct 09 18:05:25 +0000 2014|Exceptional responders are people who defy all expectations by responding dramatically to well to drugs. http://nyti.ms/1vUdBZV\\n520239668630401024|Thu Oct 09 15:49:37 +0000 2014|The New Health Care: Medicaid, Often Criticized, Is Quite Popular With Its Customers http://nyti.ms/1xtH8ZJ\\n520207822827823104|Thu Oct 09 13:43:04 +0000 2014|Well: Numbers in the Cancer Fight http://nyti.ms/1yPT4JL\\n520067355666550784|Thu Oct 09 04:24:54 +0000 2014|World Briefing: Lawsuit Against U.N. on the Spread of Cholera Epidemic in Haiti Advances http://nyti.ms/1vZ5M2S\\n520048412486819841|Thu Oct 09 03:09:38 +0000 2014|Easier Time in Health Marketplace Is Promised http://nyti.ms/1xra04G\\n520048411341774848|Thu Oct 09 03:09:37 +0000 2014|European Leaders Scramble to Upgrade Response to Ebola Crisis http://nyti.ms/1v4zvuN\\n520044485645205504|Thu Oct 09 02:54:01 +0000 2014|Newly Vigilant, U.S. Will Screen Fliers for Ebola  http://nyti.ms/1xra0lh\\n520044482247786496|Thu Oct 09 02:54:01 +0000 2014|Amid Concern About Virus in U.S., New York Hospital Says It’s Ready for the Worst http://nyti.ms/1v4zvLg\\n519975410680201216|Wed Oct 08 22:19:33 +0000 2014|In Genes of ‘Exceptional Responders,’ Clues to Fighting Disease http://nyti.ms/1ndn2SK\\n519975409484840960|Wed Oct 08 22:19:32 +0000 2014|Spanish Nurse Probably Got Ebola From Touching Her Face http://nyti.ms/1CW6baW\\n519924250795593729|Wed Oct 08 18:56:15 +0000 2014|Spain kills Excalibur, dog of Ebola-infected nurse, as questions linger about whether dogs can transmit the disease. http://nyti.ms/1vWnFiV\\n519920138335051777|Wed Oct 08 18:39:55 +0000 2014|RT @DavidFurstNYT: Health workers prayed before the start of their shift. Images from an Ebola ward by @berehulak http://nyti.ms/1CVAf6l ht…\\n519919495729922049|Wed Oct 08 18:37:22 +0000 2014|RT @ksacknyt: Airports to start Ebola screening: JFK, Dulles, Hartsfield-Jackson, O\\'Hare, Newark. Catches 94% of West African travelers.\\n519917483181236224|Wed Oct 08 18:29:22 +0000 2014|Do you still have questions about Ebola or outbreaks of contagious diseases in general? Are there angles you don’t feel have been addressed?\\n519907070456631296|Wed Oct 08 17:47:59 +0000 2014|More evidence that exercise is really important for kids’ brains.  http://nyti.ms/1v2Ao6S\\n519905001582645248|Wed Oct 08 17:39:46 +0000 2014|Protests as Spain Plans to Kill Ebola-Infected Nurse’s Dog http://nyti.ms/1BSv5G2\\n519904548396482560|Wed Oct 08 17:37:58 +0000 2014|RT @Jeffdelviscio: The fate of #Excalibur is unclear, as is the science around human-dog Ebola transmission http://www.nytimes.com/2014/10/09/science/ebola-dog-excalibur-nurse-spain.html\\n519897036532244480|Wed Oct 08 17:08:07 +0000 2014|The New Old Age Blog: In Nursing Homes, Eyes That Never Turn Away http://nyti.ms/1yNcBKO\\n519886325135446016|Wed Oct 08 16:25:33 +0000 2014|RT @jimdao: US will start taking temp of travelers from W. Africa at JFK, Dulles, O\\'Hare, Hartfield and Newark #ebola  http://t.co/kfclkWda…\\n519879335269134336|Wed Oct 08 15:57:47 +0000 2014|CDC says doctors and nurses provided \"excellent and compassionate care, but Ebola is a disease that attacks the body in many ways.\"\\n519878090571644928|Wed Oct 08 15:52:50 +0000 2014|RT @ksacknyt: Hospital: \"It is with profound sadness and heartfelt disappointment that we must inform you of the death of  (Duncan) at 7:51…\\n519876365869649920|Wed Oct 08 15:45:59 +0000 2014|RT @katie_thomas: Fascinating Q&amp;A with @bstrauch, the NYT Science editor, about why she argued a story about enterovirus off A1: http://t.c…\\n519876210823012352|Wed Oct 08 15:45:22 +0000 2014|Here is the story of Thomas Eric Duncan’s journey from Liberian war to the epicenter of a global Ebola frenzy. http://nyti.ms/1v258F3\\n519875260158861312|Wed Oct 08 15:41:35 +0000 2014|Officials are still monitoring 48 people in the Dallas area for Ebola, most of whom have not been quarantined but are instead staying home.\\n519874817756250113|Wed Oct 08 15:39:50 +0000 2014|Mr. Duncan spent nearly two decades separated from the woman he had traveled to Dallas to be with. They were rekindling their relationship.\\n519874653360504832|Wed Oct 08 15:39:10 +0000 2014|Mr. Duncan was treated with an experimental antiviral drug, brincidofovir, after the FDA approved its use on an emergency basis.\\n519874520128430080|Wed Oct 08 15:38:39 +0000 2014|Mr. Duncan died of Ebola more than a week after the virus was detected in him.\\n519874452814069760|Wed Oct 08 15:38:23 +0000 2014|The New Health Care: Men Dominate List of Doctors Receiving Largest Payments From Drug Companies http://nyti.ms/1oQTxBR\\n519874451509633024|Wed Oct 08 15:38:22 +0000 2014|First Ebola Patient to Be Discovered in U.S. Dies http://nyti.ms/1nZyjH1\\n519873643376295937|Wed Oct 08 15:35:10 +0000 2014|RT @jimdao: Our story on Thomas Duncan\\'s death from #Ebola #dallas  http://nyti.ms/1rWZ8K4\\n519873585876598784|Wed Oct 08 15:34:56 +0000 2014|RT @lpolgreen: Duncan became infected with Ebola after helping a sick neighbor get to the hospital. The tragic story here: http://t.co/wn0g…\\n519873522844565504|Wed Oct 08 15:34:41 +0000 2014|RT @rcallimachi: Sad news : Thomas Duncan, 1st man to come down with Ebola symptoms in US, has died.\\n519872994890776576|Wed Oct 08 15:32:35 +0000 2014|The rhythms of a single day at a Liberian Ebola clinic by @sherifink http://nyti.ms/1v21ICr\\n519869786420154368|Wed Oct 08 15:19:50 +0000 2014|Well: Family Meals May Mean a Healthier Weight http://nyti.ms/1nZxoGE\\n519851706218446848|Wed Oct 08 14:07:59 +0000 2014|The Ebola Ward: Life, Death and Grim Routine Fill the Day at a Liberian Ebola Clinic http://nyti.ms/1vMS18S\\n519704506431336448|Wed Oct 08 04:23:04 +0000 2014|Well: How Exercise Can Boost Young Brains http://nyti.ms/1uZysfF\\n519689256868904961|Wed Oct 08 03:22:28 +0000 2014|Experimental Ebola Drug Puts Its Maker, Chimerix, Back in the Spotlight  http://nyti.ms/1rVzVjh\\n519689252548775936|Wed Oct 08 03:22:27 +0000 2014|Health Officials Promise Extra Airport Screening for Ebola http://nyti.ms/1ncmyMH\\n519684802421596162|Wed Oct 08 03:04:46 +0000 2014|The Ebola Ward: Life, Death and Careful Routine Fill the Day at a Liberian Clinic http://nyti.ms/1rVzVjf\\n519684800123138048|Wed Oct 08 03:04:46 +0000 2014|Easing the Law for New Yorkers Shifting Gender http://nyti.ms/1ncmz3a\\n519680855560564737|Wed Oct 08 02:49:05 +0000 2014|Berkeley Officials Outspent but Optimistic in Battle Over Soda Tax http://nyti.ms/1rVzVzI\\n519680852742004736|Wed Oct 08 02:49:05 +0000 2014|Minimum Wage and Overtime Protections Are Delayed for Home-Care Workers http://nyti.ms/1ncmz38\\n519677054522884097|Wed Oct 08 02:33:59 +0000 2014|30,000 Lose Health Care Coverage at Walmart http://nyti.ms/1rVzXHL\\n519677051834347521|Wed Oct 08 02:33:58 +0000 2014|Officials Question the Rising Costs of Generic Drugs http://nyti.ms/1ncmBbl\\n519673262096130048|Wed Oct 08 02:18:55 +0000 2014|Health Law Drug Plans Are Given a Check-Up http://nyti.ms/1rVzXaM\\n519673259382423552|Wed Oct 08 02:18:54 +0000 2014|As Anxiety Increases, Agency Scrambles to Address Concerns of Health Workers  http://nyti.ms/1ncmBbd\\n519609961681145857|Tue Oct 07 22:07:23 +0000 2014|How the school lunch room became a battleground by @nickconfessore http://nyti.ms/1uYcR75\\n519608461730934785|Tue Oct 07 22:01:25 +0000 2014|The Liberian man battling the Ebola virus is on a ventilator and receiving kidney dialysis. http://nyti.ms/1uYb4il\\n519597800623841280|Tue Oct 07 21:19:03 +0000 2014|The New Health Care: http://HealthCare.gov Still Suffers From Lack of Transparency http://nyti.ms/1t1FwrT\\n519587123473563649|Tue Oct 07 20:36:38 +0000 2014|RT @jimdao: What you need to know about enterovirus, which may have striken more people than we realize.  http://tinyurl.com/ms6xxyy\\n519586470399451138|Tue Oct 07 20:34:02 +0000 2014|RT @judith_graham: Responding to sharp criticism, Medicare announces changes to its 5 star nursing home rating system.  http://t.co/2Vbce91…\\n519537273831190528|Tue Oct 07 17:18:33 +0000 2014|Share your experience as a combat soldier http://nyti.ms/1vOHGb9\\n519488552225488896|Tue Oct 07 14:04:57 +0000 2014|Spain Seeks to Prevent Spread of Ebola After a Nurse Is Infected http://nyti.ms/1yJVzgz\\n519331355889790976|Tue Oct 07 03:40:18 +0000 2014|RT @Jeffdelviscio: Today @MayBrittMoser &amp; Edvard Moser awarded #nobelprize2014 in medicine. @jimgorman profiled them http://mobile.nytimes.com/2013/04/30/science/may-britt-and-edvard-moser-explore-the-brains-gps.html\\n519312121021353984|Tue Oct 07 02:23:52 +0000 2014|U.S. Revises Nursing Home Rating System http://nyti.ms/Zavc2J\\n519312119838564352|Tue Oct 07 02:23:52 +0000 2014|After Death of New Jersey Boy From Enterovirus 68, Worry Grows Among Parents http://nyti.ms/10Hpzul\\n519279280539566081|Tue Oct 07 00:13:22 +0000 2014|Well: How to Make Pickles Without Canning http://nyti.ms/1xjdUgb\\n519267123823378433|Mon Oct 06 23:25:04 +0000 2014|Op-Ed Contributor: How the Big Tobacco Deal Went Bad http://nyti.ms/1s5WfZa\\n519263321045106688|Mon Oct 06 23:09:57 +0000 2014|Q&amp;A: Can a Pet’s Fur Transmit the Flu? http://nyti.ms/ZahuNl\\n519263320021692416|Mon Oct 06 23:09:57 +0000 2014|Reactions: Healthy Probabilities, a Challenging Condition, Benefits From Sandy http://nyti.ms/ZahuNr\\n519259122999779328|Mon Oct 06 22:53:16 +0000 2014|Books: ‘Being Mortal’ Explores the Benefits of Setting Goals for Death http://nyti.ms/1s5XvLR\\n519259122026696704|Mon Oct 06 22:53:16 +0000 2014|Global Health: Giving Doctors Guidance on Drugs to Prevent H.I.V. http://nyti.ms/ZahuNp\\n519255240038961153|Mon Oct 06 22:37:51 +0000 2014|The Doctor\\'s World: There Before Ebola Had a Name http://nyti.ms/1s5UT0w\\n519246946918469632|Mon Oct 06 22:04:53 +0000 2014|RT @sangerkatz: Context for changes to 5-star nursing home rating system: @katie_thomas\\'s great story on the old system\\'s failings. http://…\\n519242420794687491|Mon Oct 06 21:46:54 +0000 2014|The New Old Age Blog: Extra Scrutiny for Hospices http://nyti.ms/1s5Jlu9\\n519242419842613248|Mon Oct 06 21:46:54 +0000 2014|Well: Better Ways to Learn http://nyti.ms/Zad9d6\\n519226864624476160|Mon Oct 06 20:45:05 +0000 2014|RT @ksacknyt: Texas health commissioner Lakey says still no signs of infection among those being monitored for Ebola in Dallas.\\n519226690472787968|Mon Oct 06 20:44:24 +0000 2014|“We’re weeding out the stoners.” The rebranding of pot. http://nyti.ms/1uSh3oY\\n519214275433619456|Mon Oct 06 19:55:04 +0000 2014|An editorial arguing that pedophilia is a disorder, not a crime. http://nyti.ms/1uS4j1I\\n519212938604064768|Mon Oct 06 19:49:45 +0000 2014|Spain Reports First Case of Ebola Contracted Outside West Africa http://nyti.ms/1tsrz0k\\n519212394581880833|Mon Oct 06 19:47:36 +0000 2014|A Spanish nurse has become the first person to be infected with Ebola outside of West Africa. http://nyti.ms/1uS2qlE\\n519173028392218625|Mon Oct 06 17:11:10 +0000 2014|RT @cslnyt: \"I\\'m grateful to this article for humanizing Mr. Duncan\" who is not a \"faceless disease vector\" http://nyti.ms/1xhLlzD #ebola @…\\n519172450106744832|Mon Oct 06 17:08:52 +0000 2014|Pickled Peaches With Sweet Spices by @MarthaRShulman  (Photo by Andrew Scrivani ) http://nyti.ms/1uRqgxN http://pbs.twimg.com/media/BzR4l6_IQAANjsZ.jpg\\n519162482955653121|Mon Oct 06 16:29:16 +0000 2014|RT @bcsolomon: The #ebola spray teams in #monrovia clean houses after the #ebola dead. Tireless, brave and essential. http://pbs.twimg.com/media/BzRu56SIQAAnsT1.jpg\\n519161637862117376|Mon Oct 06 16:25:54 +0000 2014|Well: When Gluten Sensitivity Isn’t Celiac Disease http://nyti.ms/1q3XB0F\\n519157780587249664|Mon Oct 06 16:10:35 +0000 2014|Well: Drugs Cause Most Fatal Allergic Reactions, Study Finds http://nyti.ms/1EkWBjq\\n519153599377833984|Mon Oct 06 15:53:58 +0000 2014|Ebola Patient in Dallas Still in Critical Condition, C.D.C. Chief Says http://nyti.ms/1EkSGTE\\n519149934151729152|Mon Oct 06 15:39:24 +0000 2014|Catching up on Ebola news? A Flipboard collection of New York Times stories. http://bit.ly/1r4QATs\\n519149535004987392|Mon Oct 06 15:37:49 +0000 2014|The New Health Care: Health Plan Cancellations Are Coming, but for Relatively Few http://nyti.ms/1EkSELw\\n519149533293740033|Mon Oct 06 15:37:48 +0000 2014|The New Health Care: The Placebo Effect Doesn’t Apply Just to Pills http://nyti.ms/1q3KKf9\\n519141091476783104|Mon Oct 06 15:04:16 +0000 2014|RT @nytimesscience: Maybe you\\'ve never seen a #nobelprize2014 celebration spin. @MayBrittMoser does one here  http://nyti.ms/Z94FmF\\n519140785649115136|Mon Oct 06 15:03:03 +0000 2014|RT @jimdao: For Thomas Duncan, trip to Dallas was supposed to be a new beginning after years of refugee life in W. Africa #ebola http://t.c…\\n519140740946206720|Mon Oct 06 15:02:52 +0000 2014|RT @NobelPrize: “I’m over the moon actually.” John O’Keefe on being awarded the #nobelprize2014 #Medicine https://soundcloud.com/nobelprize/im-over-the-moon-actually-john-okeefe-on-being-awarded-the-nobel-prize\\n519140655130771456|Mon Oct 06 15:02:32 +0000 2014|RT @damiencave: Reposting this @helenecooper story out of Liberia bc it’s just that beautiful, sad and good http://www.nytimes.com/2014/10/05/world/africa/ebolas-cultural-casualty-hugs-in-hands-on-liberia.html\\n519139500493398016|Mon Oct 06 14:57:56 +0000 2014|How to Help in Efforts to Stem Ebola’s Tide http://nyti.ms/1mZqzUv?\\n519138005370818560|Mon Oct 06 14:52:00 +0000 2014|RT @bstrauch: How the Ebola patient ended up fighting for his life in Dallas. A sad tale by @ksacknyt. http://nyti.ms/1oJKgLz\\n519137095160725504|Mon Oct 06 14:48:23 +0000 2014|A profile of the Nobel in Medicine winners from last year. Their discovery was  both practical and profound. http://nyti.ms/1uQVzc1\\n519136559308611584|Mon Oct 06 14:46:15 +0000 2014|Meet the three people who won a Nobel for Medicine for discovering an inner GPS, in the brain. http://nyti.ms/1uQUOQf http://pbs.twimg.com/media/BzRX8zUCYAEdvkH.jpg\\n519136012338212864|Mon Oct 06 14:44:05 +0000 2014|A British-American scientist and a pair of Norwegian researchers were awarded this year’s Nobel Prize in Medicine. http://nyti.ms/1uQUOQf\\n519104312962994177|Mon Oct 06 12:38:07 +0000 2014|Nobel Prize in Medicine is Awarded for Discovery of Brain’s ‘Inner GPS’ http://nyti.ms/1xgTyUy\\n518960998905315330|Mon Oct 06 03:08:38 +0000 2014|Offering Help and Hope as Ebola Epidemic Unfolds http://nyti.ms/Z71Ylw\\n518960997894475776|Mon Oct 06 03:08:38 +0000 2014|New York City Steps Up Preparations to Be Ready for Ebola Cases http://nyti.ms/ZLLArG\\n518956227217600514|Mon Oct 06 02:49:40 +0000 2014|Ebola Victim Went From Liberian War to a Fight for Life http://nyti.ms/Z71WtN\\n518956226219364353|Mon Oct 06 02:49:40 +0000 2014|Ebola Help for Sierra Leone Is Nearby, but Delayed on the Docks http://nyti.ms/ZLLBMv\\n518948271059140608|Mon Oct 06 02:18:04 +0000 2014|A mystery involving a droopy face is ultimately connected to Lyme disease. http://nyti.ms/1n0If29\\n518796231372730371|Sun Oct 05 16:13:54 +0000 2014|Ebola Patient in Dallas ‘Fighting for His Life,’ C.D.C. Director Says http://nyti.ms/1pDQQ6G\\n518570226729123841|Sun Oct 05 01:15:51 +0000 2014|Morris Collen, Computerized-Medicine Pioneer, Dies at 100 http://nyti.ms/1vG1e3G\\n518565792146018304|Sun Oct 05 00:58:13 +0000 2014|Canadian District Goes to School on Concussions http://nyti.ms/1vHsTAl\\n518496644648955906|Sat Oct 04 20:23:27 +0000 2014|100 Possible Ebola Cases Reported in U.S., but All Save 1 Are Ruled Out http://nyti.ms/1BFE6lw\\n518496641658396672|Sat Oct 04 20:23:27 +0000 2014|Ebola’s Cultural Casualty: Hugs in Hands-On Liberia http://nyti.ms/1rVFkIf\\n518469944489820161|Sat Oct 04 18:37:22 +0000 2014|Opinion: Of Medicine and Mushrooms http://nyti.ms/1pAWyGj\\n518400323124465664|Sat Oct 04 14:00:43 +0000 2014|Feeling down? Go exercise. Now. http://nyti.ms/1mZuLDZ\\n518388991985721344|Sat Oct 04 13:15:41 +0000 2014|Playing catch-up on Ebola? Here are some key stories: http://bit.ly/1rGLq0q\\n518241747420577792|Sat Oct 04 03:30:35 +0000 2014|No you can’t get Ebola from touching the pole in a bus and answers to other reader questions.  http://nyti.ms/1rGMzF8\\n518220901847138304|Sat Oct 04 02:07:45 +0000 2014|Europe: Italy: Child Thought to Be Rid of H.I.V. Suffers a Relapse http://nyti.ms/1pObxvJ\\n518220900068777984|Sat Oct 04 02:07:45 +0000 2014|Texas Women Forced to Reassess After New Ruling on Abortions http://nyti.ms/1pOledB\\n518216354407915520|Sat Oct 04 01:49:41 +0000 2014|Your Money: Beware of Shifting Options Within Medicare Plans http://nyti.ms/1nTOu8O\\n518216353321603072|Sat Oct 04 01:49:41 +0000 2014|College Players Often Don’t Tell Of Hits to Head, Studies Find  http://nyti.ms/1pObxvD\\n518211853621952512|Sat Oct 04 01:31:48 +0000 2014|For Journalists, a Stark Reminder of the Risk in Covering a Deadly Epidemic http://nyti.ms/1nTOu8M\\n518211852476887040|Sat Oct 04 01:31:48 +0000 2014|Ebola Crisis Brings an Abundance of Caution Into a Dallas Community  http://nyti.ms/1pObxfj\\n518174609771094016|Fri Oct 03 23:03:48 +0000 2014|Your New York Times Ebola weekend reading in one helpful flipboard magazine. http://bit.ly/1rGLq0q\\n518160301426872321|Fri Oct 03 22:06:57 +0000 2014|How does this Ebola outbreak compare to past outbreaks? http://nyti.ms/1CJ4Rbg http://pbs.twimg.com/media/BzDgDG8CcAAM46p.png\\n518159753605025792|Fri Oct 03 22:04:46 +0000 2014|RT @bcsolomon: Painting an informational #Ebola mural in #Monrovia #Liberia. The battle for clear information is a difficult one. http://t.…\\n518154668871274496|Fri Oct 03 21:44:34 +0000 2014|Health officials have identified 10 people they say are most at risk of contracting Ebola. http://nyti.ms/1CJ3RDS\\n518153950273753089|Fri Oct 03 21:41:43 +0000 2014|Well: Asking About Ebola: How Does the Virus Spread and How Long Can It Survive? http://nyti.ms/1n0BXQb\\n518153478888509440|Fri Oct 03 21:39:50 +0000 2014|RT @bstrauch: To fight Ebola, give blood of those who have been infected and recovered--an old idea but will it work for Ebola?http://t.co/…\\n518151867143303169|Fri Oct 03 21:33:26 +0000 2014|RT @NIAIDNews: Fauci: We are aggressively working to develop and test a vaccine to prevent   #Ebola infection and therapeutics to treat it.\\n518128861973061632|Fri Oct 03 20:02:01 +0000 2014|Well: Think Like a Doctor: Mirror, Mirror Solved! http://nyti.ms/1pN0KSp\\n518127959006130176|Fri Oct 03 19:58:26 +0000 2014|This Ebola victim was declared dead. His family held a wake. Then he recovered and began helping. Photo @jeromedelay http://pbs.twimg.com/media/BzDCoiXCIAAu4aY.jpg\\n518126088640544768|Fri Oct 03 19:51:00 +0000 2014|The blood of Ebola survivors may be the solution. Of course, it comes with its own complications. http://nyti.ms/1n0hZ7Z\\n518124450240561152|Fri Oct 03 19:44:29 +0000 2014|Use of Ebola Survivors’ Blood as Possible Treatment Gains Support http://nyti.ms/1pMWum8\\n518119700157702144|Fri Oct 03 19:25:37 +0000 2014|Well: Enterovirus 68 and Paralysis Link Remains Uncertain http://nyti.ms/1ukbazu\\n518102093010579457|Fri Oct 03 18:15:39 +0000 2014|RT @lpolgreen: Your daily reminder from the New York Times: It Is Very Very Hard To Get Ebola. http://www.nytimes.com/2014/10/03/us/understanding-the-risks-of-ebola-and-what-direct-contact-means.html?hp&action=click&pgtype=Homepage&version=HpSum&module=first-column-region&region=top-news&WT.nav=top-news\\n518096767460843520|Fri Oct 03 17:54:30 +0000 2014|RT @paula_span: Some good news about pneumonia in seniors: improved vaccine, better hospital care. http://newoldage.blogs.nytimes.com/2014/10/02/some-good-news-on-pneumonia/\\n518066816221216769|Fri Oct 03 15:55:28 +0000 2014|Another reason to fit in some exercise this weekend: it protects against depression. http://nyti.ms/1mZunoO\\n518064074412654592|Fri Oct 03 15:44:35 +0000 2014|Cantaloupe-Lime Agua Fresca With Chia Seeds. Sweet, yet tart. (Photo by Andrew Scrivani.)  http://nyti.ms/1mZtKvo http://pbs.twimg.com/media/BzCIh9RCYAEEmsj.jpg\\n518060583380586498|Fri Oct 03 15:30:42 +0000 2014|A guide to how you can help stem Ebola’s tide with dollars, time and skills. http://nyti.ms/1mZqzUv\\n518060017409605632|Fri Oct 03 15:28:27 +0000 2014|What ‘direct contact’ means when it comes to Ebola. http://nyti.ms/1mZqfFg\\n518059470367518720|Fri Oct 03 15:26:17 +0000 2014|Well: The Workout: A Star Chef Finds Inspiration http://nyti.ms/1E9f6r0\\n518053205650178048|Fri Oct 03 15:01:23 +0000 2014|RT @abbygoodnough: My story on fear of Ebola -- and even more, stigma -- in West African immigrant communities around the U.S.: http://t.co…\\n518052842465423361|Fri Oct 03 14:59:57 +0000 2014|RT @bstrauch: NBC cameraman gets Ebola in Liberia. Whole team under watch.http://nyti.ms/1rSYMWv\\n517887744975339520|Fri Oct 03 04:03:54 +0000 2014|Antibiotics in Livestock: F.D.A. Finds Use Is Rising http://nyti.ms/1vCtR0t\\n517883571391176705|Fri Oct 03 03:47:19 +0000 2014|Mideast Virus MERS Merits Caution, Not Alarm, W.H.O. Says http://nyti.ms/10nvZyx\\n517883570275504128|Fri Oct 03 03:47:19 +0000 2014|Ebola Strikes NBC News Cameraman in Liberia http://nyti.ms/1vCtTFV\\n517878919505379328|Fri Oct 03 03:28:50 +0000 2014|Understanding the Risks of Ebola, and What ‘Direct Contact’ Means http://nyti.ms/10nvYuC\\n517878918381334528|Fri Oct 03 03:28:50 +0000 2014|Ebola Patient’s Journey Shows How Global Travel Is Open to the Spread of Disease http://nyti.ms/1vCtTFP\\n517874905929773058|Fri Oct 03 03:12:53 +0000 2014|Countering Fear of Ebola With Education Where West Africans Live in U.S. http://nyti.ms/10nvZij\\n517874904948277248|Fri Oct 03 03:12:53 +0000 2014|U.S. Effort to Help Liberia Finds Much Work to Do Before It Gets Started http://nyti.ms/1vCtTFM\\n517866439689392129|Fri Oct 03 02:39:15 +0000 2014|Well: Failing Sense of Smell May Predict Sooner Death http://nyti.ms/10ns1WT\\n517859163414986752|Fri Oct 03 02:10:20 +0000 2014|RT @celiadugger: Contract tracers -- sleuths of Ebola in Dallas -- are the \"unsung heroes\" of epidemic control. http://nyti.ms/1mWcJSO\\n517832718634463233|Fri Oct 03 00:25:15 +0000 2014|How to Help in Efforts to Stem Ebola’s Tide http://nyti.ms/1pJG5ie\\n517823202471731200|Thu Oct 02 23:47:26 +0000 2014|A look at contact tracers, the disease sleuths that the CDC hopes can prevent Ebola’s spread in the U.S. http://nyti.ms/1CHHf6J\\n517821627921596416|Thu Oct 02 23:41:11 +0000 2014|RT @celiadugger: Informative Q &amp; A with expert on Enterovirus 68 http://nyti.ms/1mWrDIS via @nytimeswell\\n517819312808419328|Thu Oct 02 23:31:59 +0000 2014|Op-Ed Contributor: Young, Brilliant and Underfunded http://nyti.ms/1pJBkFx\\n517819311663357952|Thu Oct 02 23:31:59 +0000 2014|Appeals Court Ruling Closes 13 Abortion Clinics in Texas http://nyti.ms/1xHLC1C\\n517808762589941760|Thu Oct 02 22:50:04 +0000 2014|Dallas parents &amp; students  wrestled with their fears after learning that 5 kids had had contact with Ebola patient http://nyti.ms/1mVNdx8\\n517789324503695360|Thu Oct 02 21:32:49 +0000 2014|Well: Enterovirus 68: What You Need to Know http://nyti.ms/1xHoq3L\\n517786123653771264|Thu Oct 02 21:20:06 +0000 2014|Q&amp;A: What are the chances Ebola will spread in the U.S.? http://nyti.ms/1os8oXu\\n517780804613988353|Thu Oct 02 20:58:58 +0000 2014|RT @sangerkatz: There are a bunch of things we don\\'t know about how the ACA markeplaces are working out. HHS doesn\\'t know either. http://t.…\\n517780426883342336|Thu Oct 02 20:57:28 +0000 2014|RT @judith_graham: Older adults w/ a compromised sense of #smell are likely to die sooner than those who can easily detect odors.  http://t…\\n517776297666551808|Thu Oct 02 20:41:03 +0000 2014|Tracing Ebola Contacts Can Stop Virus ‘in Its Tracks,’ Experts Say http://nyti.ms/1vBo0ti\\n517772654791905280|Thu Oct 02 20:26:35 +0000 2014|RT @heathertal: “Every health department has an unsung hero who tracks down people.” On the usually invisible role of contact tracer: http:…\\n517768495296020480|Thu Oct 02 20:10:03 +0000 2014|Dallas Ebola victim had helped bring an ill pregnant woman in Liberia to the hospital http://nyti.ms/1mVNj84\\n517760474188759041|Thu Oct 02 19:38:11 +0000 2014|Federal officials are planning to sharply increase production of ZMapp, an experimental drug for treating Ebola http://nyti.ms/1mVN6S9\\n517752646120136704|Thu Oct 02 19:07:04 +0000 2014|A hospital from hell, in a city swamped by Ebola (Photo: Samuel Aranda for NYT) http://nyti.ms/1r1CYCI http://pbs.twimg.com/media/By9R7V0IIAAs7cR.jpg\\n517750146193707008|Thu Oct 02 18:57:08 +0000 2014|In Dallas Schools, Fear of Possible Ebola Exposure http://nyti.ms/1vBdDVr\\n517748805010456577|Thu Oct 02 18:51:49 +0000 2014|Dallas parents &amp; students wrestled with their fears after learning that 5 kids had had contact with Ebola patient http://www.nytimes.com/2014/10/03/us/dallas-schools-worry-about-ebola.html\\n517745428801277954|Thu Oct 02 18:38:24 +0000 2014|Still have questions about Ebola? Submit them here: http://nyti.ms/XJOGLI\\n517744286839111680|Thu Oct 02 18:33:51 +0000 2014|The U.N. says it lost its first staff member from a “probable” case of Ebola in Liberia http://www.nytimes.com/2014/10/02/world/africa/ebola-suspected-in-un-staffers-death.html?rref=world/africa&module=Ribbon&version=context&region=Header&action=click&contentCollection=Africa&pgtype=Multimedia\\n517743110630416384|Thu Oct 02 18:29:11 +0000 2014|Q&amp;A: What are the chances Ebola will spread in the U.S.? http://www.nytimes.com/interactive/2014/07/31/world/africa/ebola-virus-outbreak-qa.html\\n517735528440279040|Thu Oct 02 17:59:03 +0000 2014|“Isolating a country will make it harder to get help into country” ultimately enabling it to spread more there, responds CDC on Ebola.\\n517734253271203841|Thu Oct 02 17:53:59 +0000 2014|You don’t need a special Ebola room in a hospital to take care of Ebola just meticulous training and materials, says CDC.\\n517732637285556224|Thu Oct 02 17:47:34 +0000 2014|@nytDeniseGrady asks about public transportation risk. Sitting next to person on bus does not cause you to be exposed to Ebola, CDC says.\\n517732207860142082|Thu Oct 02 17:45:52 +0000 2014|No Ebola cannot be transferred by mosquito, CDC says.\\n517731927760306176|Thu Oct 02 17:44:45 +0000 2014|“We can’t make the risk zero until the outbreak is controlled in West Africa.” From CDC press conference.\\n517729064782929920|Thu Oct 02 17:33:22 +0000 2014|The reason the hospital turned the Ebola patient away was that connections were not made regarding travel history and symptoms, CDC says.\\n517728563156766720|Thu Oct 02 17:31:23 +0000 2014|A dozen or so individuals have been quarantined in an apartment for monitoring, but they do not have any Ebola symptoms, CDC says.\\n517728098796990464|Thu Oct 02 17:29:32 +0000 2014|Texas Says That Up to 100 Are at Risk of Ebola Exposure http://nyti.ms/1vB07Ba\\n517726885875556352|Thu Oct 02 17:24:43 +0000 2014|In press conference, CDC reinstates that health officials are assessing 100 people who may have come into contact with Ebola patient.\\n517726247565414401|Thu Oct 02 17:22:10 +0000 2014|Ebola patient was screened by the CDC when he arrived in the U.S. and his temperature was not elevated at the time of transit, CDC says.\\n517723054701821952|Thu Oct 02 17:09:29 +0000 2014|Four deaths are linked to a Enterovirus respiratory illness http://nyti.ms/1CHwp0z\\n517717470124453888|Thu Oct 02 16:47:18 +0000 2014|Well: Think Like a Doctor: Mirror, Mirror http://nyti.ms/1mVieRS\\n517717466752249856|Thu Oct 02 16:47:17 +0000 2014|Well: Ask Well: Do You Have a Question About Ebola? http://nyti.ms/1vASN8I\\n517713482591268864|Thu Oct 02 16:31:27 +0000 2014|The New Old Age Blog: Some Good News on Pneumonia http://nyti.ms/1vAQm66\\n517684785121349632|Thu Oct 02 14:37:25 +0000 2014|How well can you smell? One’s sense of smell appears to be a good predictor of longevity. http://nyti.ms/1CHlB2J\\n517523092885999616|Thu Oct 02 03:54:55 +0000 2014|U.S. Military Hospitals Are Ordered to Improve Care, Access and Safety http://nyti.ms/YQlJOu\\n517519276199395331|Thu Oct 02 03:39:45 +0000 2014|Ebola Suspected in U.N. Staffer’s Death http://nyti.ms/YQlJOs\\n517519275293413376|Thu Oct 02 03:39:44 +0000 2014|Man in U.S. With Ebola Had Been Screened to Fly, but System is Spotty http://nyti.ms/1ueVpto\\n517515315241287680|Thu Oct 02 03:24:00 +0000 2014|U.S. to Increase Production of the Ebola Drug ZMapp, but May Not Meet Demand http://nyti.ms/YQlL91\\n517515313769107456|Thu Oct 02 03:24:00 +0000 2014|Four Deaths Are Linked to a Respiratory Illness http://nyti.ms/1ueVs8H\\n517501793199083520|Thu Oct 02 02:30:16 +0000 2014|Dallas Ebola victim had helped bring an ill pregnant woman in Liberia to the hospital http://www.nytimes.com/2014/10/02/world/africa/ebola-victim-texas-thomas-eric-duncan.html?smid=tw-share\\n517491180980801536|Thu Oct 02 01:48:06 +0000 2014|Study finds that teen pregnancy and abortion rates plummet with long-acting female contraception http://www.nytimes.com/2014/10/02/science/teenage-pregnancy-and-abortion-rates-plummet-with-long-acting-female-contraception-study-says.html\\n517474832489779200|Thu Oct 02 00:43:08 +0000 2014|Health officials believe Dallas Ebola victim came into contact with 12 to 18 people when he was experiencing symptoms http://www.nytimes.com/interactive/2014/10/01/us/retracing-the-steps-of-the-dallas-ebola-patient.html\\n517458751834447872|Wed Oct 01 23:39:15 +0000 2014|Retracing the steps of the Dallas Ebola patient http://www.nytimes.com/interactive/2014/10/01/us/retracing-the-steps-of-the-dallas-ebola-patient.html\\n517440935802961920|Wed Oct 01 22:28:27 +0000 2014|RT @PamBelluck: A dramatic drop in teen pregnancy and abortion rates with long-acting birth control methods - but practical... http://t.co/…\\n517432289526312960|Wed Oct 01 21:54:05 +0000 2014|Pregnancy and abortion rates plunged in study offering sexually active teenagers free birth control http://www.nytimes.com/2014/10/02/science/teenage-pregnancy-and-abortion-rates-plummet-with-long-acting-female-contraception-study-says.html\\n517430402768969728|Wed Oct 01 21:46:36 +0000 2014|Teenage Pregnancy and Abortion Rates Plummet With Long-Acting Female Contraception, Study Says http://nyti.ms/1sNFggd\\n517428003597729792|Wed Oct 01 21:37:04 +0000 2014|RT @bstrauch: What you need to know about Ebola, including what happened in Texas.http://nyti.ms/1E0KeJk\\n517408430102167552|Wed Oct 01 20:19:17 +0000 2014|Liberian Officials Identify Ebola Victim in Texas as Thomas Eric Duncan http://nyti.ms/1sNxvXy\\n517400094111715328|Wed Oct 01 19:46:09 +0000 2014|Ebola Overwhelming West Africa Communities http://nyti.ms/1yzrnEV\\n517395860456751104|Wed Oct 01 19:29:20 +0000 2014|After Ebola Case in Dallas, Health Officials Seek Those Who Had Contact With Patient http://nyti.ms/1yzqZpW\\n517391931027230720|Wed Oct 01 19:13:43 +0000 2014|RT @nycscribe: One of the most disturbing pieces yet on Ebola. So much time has passed, still so fatally unprepared. http://nyti.ms/1CGcq2j…\\n517375472993579008|Wed Oct 01 18:08:19 +0000 2014|Well: Sense of Smell May Predict Longevity http://nyti.ms/1wYSaG6\\n517347325057175552|Wed Oct 01 16:16:28 +0000 2014|Well: Hospital Infections With C. Difficile Level Off http://nyti.ms/1wYolW8\\n517341464255533056|Wed Oct 01 15:53:11 +0000 2014|The timeline of the man with Ebola’s arrival to United States. http://nyti.ms/UPEOhp http://pbs.twimg.com/media/By33UgeIMAAyZa0.png\\n517341323733770240|Wed Oct 01 15:52:37 +0000 2014|Before you panic about Ebola, here is the info you need: http://nyti.ms/UPEOhp\\n517339677507215360|Wed Oct 01 15:46:05 +0000 2014|Well: Smoothies, Hold the Dairy http://nyti.ms/1rHSBEa\\n517166926712553472|Wed Oct 01 04:19:38 +0000 2014|Well: How Exercise May Protect Against Depression http://nyti.ms/1v380Ot\\n517135292890087424|Wed Oct 01 02:13:56 +0000 2014|Limb Frailty in Children Is Studied for Link to Virus http://nyti.ms/1ppjQyI\\n517084233601654784|Tue Sep 30 22:51:02 +0000 2014|RT @CDCgov: CDC doesn\\'t recommend people on same commercial airline flights w/US #Ebola patient undergo monitoring. http://1.usa.gov/1nHgD2K\\n517084162864713728|Tue Sep 30 22:50:46 +0000 2014|RT @DrFriedenCDC: Local public health officials in TX have begun identifying close contacts of #Ebola patient for further monitoring. http:…\\n517081360415350785|Tue Sep 30 22:39:37 +0000 2014|New Federal Database Details Medical World’s Financial Links to Drug Makers http://nyti.ms/1wVHN5N\\n517077404591091712|Tue Sep 30 22:23:54 +0000 2014|Airline Passenger With Ebola Is Under Treatment in Dallas http://nyti.ms/1wVGF23\\n517074636493033472|Tue Sep 30 22:12:54 +0000 2014|Press conferenced over. For Ebola background — try this primer http://nyti.ms/UPEOhp and this story collection. http://bit.ly/1r9oPJx\\n517074129783386112|Tue Sep 30 22:10:53 +0000 2014|Zero risk of transmission on the flight, CDC says.\\n517074074737311744|Tue Sep 30 22:10:40 +0000 2014|Ebola patient was visiting and staying with family members in the United States, CDC tells @nytDeniseGrady\\n517072546131628032|Tue Sep 30 22:04:36 +0000 2014|Flight in question departed Liberia on 19th and arrived in U.S. on 20th, but even patients on that flight should not be worried, CDC says.\\n517072116525858816|Tue Sep 30 22:02:53 +0000 2014|The individual was here to visit family that live in the United States. CDC would not say if person is American.\\n517071853740130305|Tue Sep 30 22:01:51 +0000 2014|But I also have no doubt that while this goes on in Africa, we’ll need to be on our guard, doctor adds.\\n517071802976468992|Tue Sep 30 22:01:39 +0000 2014|“I have no doubt we’ll stop this in its tracks in the U.S,” doctor says at C.D.C. Ebola press conference.\\n517071489049591809|Tue Sep 30 22:00:24 +0000 2014|RT @carlzimmer: The CDC will find everyone who came into contact with Ebola patient after he became infectious &amp; monitor for 3 weeks—@DrFri…\\n517070208973152256|Tue Sep 30 21:55:19 +0000 2014|100 percent of individuals getting on planes are screened for fever from countries in Africa known to have Ebola cases, CDC says.\\n517069982040354816|Tue Sep 30 21:54:25 +0000 2014|Patient in Texas got sick 4 days after getting off plane. CDC says not concerned that others on plane would have contracted Ebola.\\n517069322213396480|Tue Sep 30 21:51:47 +0000 2014|RT @sangerkatz: Diseases much more contagious than Ebola: measles, pertussis. h/t @roseperson\\n517069224238665728|Tue Sep 30 21:51:24 +0000 2014|Ebola only spreads by direct contact, CDC emphasizes yet again.\\n517068660620689409|Tue Sep 30 21:49:10 +0000 2014|Ebola is not an airborne illness, a doctor clarifies in CDC press conference.\\n517068334324809730|Tue Sep 30 21:47:52 +0000 2014|“We have no other suspected cases in the state of Texas at this time.” From CDC press conference.\\n517068246638686208|Tue Sep 30 21:47:31 +0000 2014|The Texas public health lab has a specially trained team.\\n517067924516118528|Tue Sep 30 21:46:14 +0000 2014|CDC officials says confident that it will stop spread of Ebola in United States.\\n517067708111020032|Tue Sep 30 21:45:22 +0000 2014|CDC official: \"I have no doubt that we will control this case of Ebola so it does not spread widely in this country.\"\\n517067452011012096|Tue Sep 30 21:44:21 +0000 2014|CDC says it is focused on identifying all people who had contact with Ebola patient while he could have been infectious.\\n517067218614763520|Tue Sep 30 21:43:26 +0000 2014|CDC: Patient had no symptoms when departing Liberia or entering the country but began to show symptoms on the 26th.\\n517066981636579328|Tue Sep 30 21:42:29 +0000 2014|CDC press conference begins by reminding people that Ebola only spreads through body fluids and direct conference.\\n517066732692058112|Tue Sep 30 21:41:30 +0000 2014|Texas Health Presbyterian Hospital of Dallas officials said in a statement that an unnamed patient was being tested for Ebola.\\n517066486461263872|Tue Sep 30 21:40:31 +0000 2014|RT @martinenserink: Hope people realize US #Ebola case does NOT mean big outbreak. There will be contact tracing, isolation; it will be con…\\n517066341287985152|Tue Sep 30 21:39:57 +0000 2014|RT @lpolgreen: \"The risk that anyone will contract Ebola in the United States is extremely small.” http://www.nytimes.com/interactive/2014/07/31/world/africa/ebola-virus-outbreak-qa.html?module=Search&mabReward=relbias%3As%2C%7B%221%22%3A%22RI%3A11%22%7D http://t.co/oUI8l…\\n517064114523607040|Tue Sep 30 21:31:06 +0000 2014|The CDC is hosting a briefing on the first Ebola case in U.S. starting shortly, available here. http://bit.ly/1teBy9J\\n517063784960372736|Tue Sep 30 21:29:47 +0000 2014|The C.D.C. has confirmed first ebola case diagnosed in the United States.\\n517053940261597184|Tue Sep 30 20:50:40 +0000 2014|Remember you are not likely to catch Ebola just by being in proximity to someone who has the virus; it is not airborne, like the flu.\\n516994842090823680|Tue Sep 30 16:55:50 +0000 2014|Bow ties with microscopic images. Scarves in trachea print. It’s science chic. http://nyti.ms/1mLYVKG http://pbs.twimg.com/media/Byy8EcnIIAEBbon.jpg\\n516993576522485761|Tue Sep 30 16:50:48 +0000 2014|No it’s not glow-in-the-dark velvet, it’s bacteria.  http://nyti.ms/1mLXUCn http://pbs.twimg.com/media/Byy66yZIAAAQqRm.jpg\\n516975322806624256|Tue Sep 30 15:38:16 +0000 2014|Ebola Outbreak in Nigeria Appears to Be Over http://nyti.ms/1mLG8is\\n516973986476195840|Tue Sep 30 15:32:57 +0000 2014|Nigeria’s Ebola success was in part due to the existence of an emergency command center paid for by the Gates Foundation to fight polio.\\n516973768267538433|Tue Sep 30 15:32:05 +0000 2014|Nigeria seems to have beaten Ebola. http://nyti.ms/1mLEtJU\\n516966594418061312|Tue Sep 30 15:03:35 +0000 2014|Digital Medical Records Become Common, but Sharing Remains Challenging http://nyti.ms/YMWpbC\\n516963478503182336|Tue Sep 30 14:51:12 +0000 2014|Farmers’ markets are proliferating around the country, increasing 76 percent since 2008. http://nyti.ms/1tdSJbk\\n516935604261888000|Tue Sep 30 13:00:26 +0000 2014|More Groups Join Project on the Brain http://nyti.ms/1rBXAGw\\n516879548093595648|Tue Sep 30 09:17:42 +0000 2014|What does a gluten-free label mean? It must contain less than 20 parts per million of gluten. http://nyti.ms/1mHVdBL\\n516777609607544834|Tue Sep 30 02:32:38 +0000 2014|But in workers of lower socioeconomic status, more than 55 hours a week of work translated to 30% increase in risk of Type 2 diabetes.\\n516777106194587650|Tue Sep 30 02:30:38 +0000 2014|Working long hours does not increase risk of diabetes in wealthier workers. http://nyti.ms/1mHWPvf\\n516775672992505856|Tue Sep 30 02:24:56 +0000 2014|Drug Patents Held Overseas Can Pare Makers’ Tax Bills http://nyti.ms/1yxqvjW\\n516772576459493376|Tue Sep 30 02:12:38 +0000 2014|Confused about gluten? It’s a protein in grains like wheat, rye and barley that contains gliadin peptide. http://nyti.ms/1mHVdBL\\n516730337972719616|Mon Sep 29 23:24:47 +0000 2014|Global Health: A Dog’s Life in Chad: Filling Up on Fish Guts and on Guinea Worms http://nyti.ms/1u6X4Bn\\n516727521606660098|Mon Sep 29 23:13:36 +0000 2014|Abdominal pain and bloating are the most common signs of Celiac disease.  http://nyti.ms/1mHVdBL\\n516726203232051202|Mon Sep 29 23:08:21 +0000 2014|Reactions: Nature in the Balance, Gene Tests, Artificial Sweetners and Diabetes http://nyti.ms/1rxePHE\\n516726202187669504|Mon Sep 29 23:08:21 +0000 2014|The Scan: Science Events: Dancing Particle Physics and Science-Inspired Fashion http://nyti.ms/1u6X2cI\\n516722245973323779|Mon Sep 29 22:52:38 +0000 2014|Well: After Surgery, Predicting a Speedy Recovery http://nyti.ms/1u6Wfsj\\n516722244522102787|Mon Sep 29 22:52:38 +0000 2014|Well: Vets Face Rising Worry Over Fleas http://nyti.ms/1rxdII8\\n516696820282830848|Mon Sep 29 21:11:36 +0000 2014|Celiac disease now affects one in 100 Caucasians. http://nyti.ms/1mHVdBL\\n516696012124332032|Mon Sep 29 21:08:23 +0000 2014|Q&amp;a: Rating Pain Relief http://nyti.ms/1u6GtNZ\\n516685274559287296|Mon Sep 29 20:25:43 +0000 2014|Well: Working Long Hours Tied to Diabetes Risk http://nyti.ms/1nB6apu\\n516609345644396546|Mon Sep 29 15:24:00 +0000 2014|The New Health Care: Auto-Renewing Your Health Plan May Be Bad for You, and for Competition http://nyti.ms/1CAPGkt\\n516609344008622080|Mon Sep 29 15:24:00 +0000 2014|The New Health Care: What We’re Learning About Drug Company Payments to Doctors http://nyti.ms/1sKNcyO\\n516605429959630849|Mon Sep 29 15:08:27 +0000 2014|Well: Celiac Disease, a Common, but Elusive, Diagnosis http://nyti.ms/1sKKh92\\n516429508581543936|Mon Sep 29 03:29:24 +0000 2014|Just because your last dying wish is to die at home does not mean that it will be granted. http://nyti.ms/1rk7YE6\\n516426739548184576|Mon Sep 29 03:18:24 +0000 2014|A breast cancer drug that appears to extend patients lives significantly. http://nyti.ms/1BrBJmt\\n516416927573762048|Mon Sep 29 02:39:24 +0000 2014|U.S.D.A. to Start Program to Support Local and Organic Farming  http://nyti.ms/1rmHQIH\\n516416926076399616|Mon Sep 29 02:39:24 +0000 2014|Costs Can Go Up Fast When E.R. Is in Network but the Doctors Are Not http://nyti.ms/1wQ5JYg\\n516412879634198528|Mon Sep 29 02:23:19 +0000 2014|Georgia Colleges Prohibiting Tobacco, but Questions About Enforcement Linger  http://nyti.ms/1rmHOAy\\n516412878174584832|Mon Sep 29 02:23:19 +0000 2014|Dire Warnings by Big Tobacco on E-Smoking http://nyti.ms/1wQ5JYe\\n516354250084204545|Sun Sep 28 22:30:21 +0000 2014|Liberia’s chief medical officer is placing herself under quarantine for 3 weeks after her assistant died of Ebola. http://nyti.ms/1rmlirB\\n516353746964840448|Sun Sep 28 22:28:21 +0000 2014|“I want to go home, to my books and my music,” he said. But the forces of the health care system were against him. http://nyti.ms/1vbEZ5c\\n516322034201423872|Sun Sep 28 20:22:20 +0000 2014|Untangling the troubling relationship between anxiety drugs and Alzheimer’s disease. http://nyti.ms/1BrDD6C\\n516296478290354176|Sun Sep 28 18:40:47 +0000 2014|People are trying to cope with ebola in Monrovia with few resources. Photo: a makeshift protective suit by @bcsolomon http://pbs.twimg.com/media/BypA6UrIAAAgmd1.png\\n516290379570630656|Sun Sep 28 18:16:33 +0000 2014|Advanced breast cancer patients who received Perjeta had a median survival time nearly 16 months longer than control. http://nyti.ms/1BrBJmt\\n516289915198636032|Sun Sep 28 18:14:42 +0000 2014|A drug called Perjeta used to treat advanced breast cancer has had what appears to be unprecedented success. http://nyti.ms/1BrBJmt\\n516289710952824832|Sun Sep 28 18:13:53 +0000 2014|Looking for healthy dinner ideas for this week?  Here\\'s a selection from the new cooking site: http://nyti.ms/1rmkrad http://pbs.twimg.com/media/Byo6wadIEAA4pjn.png\\n516194504723148800|Sun Sep 28 11:55:35 +0000 2014|Roche Breast Cancer Drug Appears to Greatly Extend Patients’ Lives http://nyti.ms/1vjounN\\n516183850092072960|Sun Sep 28 11:13:14 +0000 2014|Weight before cardio. Cardio before weights. It doesn’t matter so long as you do both. http://nyti.ms/1pwdiO5\\n516026898485608449|Sun Sep 28 00:49:34 +0000 2014|Gerald Larue, Early Advocate of Right to Die, Dies at 98 http://nyti.ms/YsFnzK\\n516008944498917376|Sat Sep 27 23:38:14 +0000 2014|In Liberia and U.S., Precautions for Two Ebola Workers http://nyti.ms/1sDZtVF\\n515823163587198976|Sat Sep 27 11:20:00 +0000 2014|What is enterovirus 68? http://nyti.ms/1ok2gvV\\n515708892173848578|Sat Sep 27 03:45:55 +0000 2014|An outbreak of respiratory illness infecting 225  children is baffling scientists. http://nyti.ms/1pwXIl7\\n515670633783779328|Sat Sep 27 01:13:54 +0000 2014|Caffeine is just one of the many peculiar things in the water. http://nyti.ms/1vbGksM\\n515643258463322112|Fri Sep 26 23:25:07 +0000 2014|If a child has labored breathing that involves wheezing or chest pain, the child requires immediate care.  Could be enterovirus 68.\\n515643064371933184|Fri Sep 26 23:24:21 +0000 2014|A baby who has to stop drinking from a bottle to breathe should be seen by a doctor. Could be enterovirus 68.\\n515642834784112640|Fri Sep 26 23:23:26 +0000 2014|Symptoms in the current outbreak of enterovirus 68 resemble those of a bad cold, including body aches and cough.\\n515642695805849600|Fri Sep 26 23:22:53 +0000 2014|An outbreak of respiratory illness first observed in the Midwest has spread to 38 states. http://nyti.ms/1ok2gvV\\n515641247399428097|Fri Sep 26 23:17:08 +0000 2014|A woman’s story of running with large breasts and little support.  http://nyti.ms/1vbFvjK\\n515640749682356224|Fri Sep 26 23:15:09 +0000 2014|Infants in the single-family neonatal intensive care rooms did better than those in shared rooms. http://nyti.ms/1raf91p\\n515638954906095616|Fri Sep 26 23:08:01 +0000 2014|A seemingly simple wish — to die at home — has gotten very complicated. http://nyti.ms/1vbEZ5c\\n515633782549135363|Fri Sep 26 22:47:28 +0000 2014|Ebola Doctor Shortage Eases as Volunteers Begin to Step Forward http://nyti.ms/1mzoIWl\\n515619439925264385|Fri Sep 26 21:50:28 +0000 2014|RT @bstrauch: This respiratory illness among children continues to spread and puzzle doctors.http://nyti.ms/1u33nps\\n515617756956598272|Fri Sep 26 21:43:47 +0000 2014|Opinion: Women’s Atypical Heart Attacks  http://nyti.ms/ZZ3Z4i\\n515616548737011712|Fri Sep 26 21:38:59 +0000 2014|The Weekly Health Quiz http://nyti.ms/1vbh1qU\\n515533343887470593|Fri Sep 26 16:08:21 +0000 2014|What’s more effective cardio and then 30 minutes of weight lifting? Or the reverse? http://nyti.ms/1pwdiO5\\n515517089269178368|Fri Sep 26 15:03:46 +0000 2014|RT @bcsolomon: A day after open, the new 100+ bed #Monrovia #Ebola clinic is full. Once again, sick must wait outside @MSF center. http://t…\\n515516791003828224|Fri Sep 26 15:02:35 +0000 2014|RT @bcsolomon: A homemade #ebola protection suit. Waiting with his sick mom outside the @MSF treatment center in #monrovia #liberia http://…\\n515497028865232897|Fri Sep 26 13:44:03 +0000 2014|The New Old Age Blog: An End-of-Life Nightmare http://nyti.ms/1xptEkk\\n515388982536851456|Fri Sep 26 06:34:43 +0000 2014|Privacy matters when it comes to a neonatal intensive care unit. http://nyti.ms/1raf91p\\n515367579561754624|Fri Sep 26 05:09:40 +0000 2014|Well: Ask Well: Weights Before Cardio? http://nyti.ms/1vl3wmA\\n515338142812209152|Fri Sep 26 03:12:42 +0000 2014|France Proposes Tough Antismoking Measures http://nyti.ms/YgqY9K\\n515334004976136192|Fri Sep 26 02:56:15 +0000 2014|Outbreak of a Respiratory Illness Escalates Among Children and Mystifies Scientists http://nyti.ms/YgqWyI\\n515334003738816514|Fri Sep 26 02:56:15 +0000 2014|Family Fights Health Care System for Simple Request: To Die at Home http://nyti.ms/ZUhdzl\\n515205495934976000|Thu Sep 25 18:25:36 +0000 2014|Well: A Rising Tide of Contaminants http://nyti.ms/1t0fwHs\\n515181949145841664|Thu Sep 25 16:52:02 +0000 2014|RT @paula_span: Can taking #benzos for insomnia or anxiety increase risks of #Alzheimers? Study says yes. http://newoldage.blogs.nytimes.com/2014/09/24/study-links-anxiety-drugs-to-alzheimers-disease/\\n515180440488271872|Thu Sep 25 16:46:03 +0000 2014|Well: Exercise and the Bounce Factor http://nyti.ms/1ysBE5C\\n515162747974463488|Thu Sep 25 15:35:45 +0000 2014|RT @carlzimmer: There aren’t enough beds for Liberians with Ebola, so they’re dying at home &amp; infecting their families. http://t.co/j7rtRUS…\\n515162048372932608|Thu Sep 25 15:32:58 +0000 2014|RT @nytimeswell: Recipe: Arugula and Beet Salad With Orange, Walnuts and Tarragon (Photo by Andrew Scrivani) http://nyti.ms/1reNigA http://…\\n515154894433841153|Thu Sep 25 15:04:32 +0000 2014|Well: My Father’s A.L.S. http://nyti.ms/1sZNADA\\n515072594962558976|Thu Sep 25 09:37:30 +0000 2014|Can’t read enough Ebola? Our best stories will continue to be collected here: http://bit.ly/1r9oPJx\\n515010173367484416|Thu Sep 25 05:29:28 +0000 2014|For the initial diagnosis of kidney stones, ultrasounds may be a better choice than CT scans. http://nyti.ms/1raeA7U\\n514991676608503810|Thu Sep 25 04:15:58 +0000 2014|Well: A Doctor, a Rabbi and a Chicken http://nyti.ms/Y7rFSz\\n514985255024226304|Thu Sep 25 03:50:27 +0000 2014|Teens trying to lose weight should engage in an exercise program that includes both aerobic and resistance training. http://nyti.ms/1psD1XI\\n514979717678891011|Thu Sep 25 03:28:27 +0000 2014|Athletes show significantly greater erosion of their tooth enamel.  http://nyti.ms/1rae2Pj\\n514978190520225792|Thu Sep 25 03:22:23 +0000 2014|Health Act Cuts Spending at Hospitals, Report Finds http://nyti.ms/1pdWrAk\\n514978189580709888|Thu Sep 25 03:22:22 +0000 2014|White House Issues New Regulations for Dangerous Biological Research http://nyti.ms/1xkrcM6\\n514936676771434496|Thu Sep 25 00:37:25 +0000 2014|Bill Clinton laments that in some communities, sugary sodas account for a half of the calories a child consumes. http://nyti.ms/1psBYXI\\n514892377727991808|Wed Sep 24 21:41:23 +0000 2014|Evidence has mounted to indicate that those at risk for developing degenerative brain disease include soccer players. http://nyti.ms/1psCncG\\n514864154134716417|Wed Sep 24 19:49:14 +0000 2014|Diet without exercise accomplishes little for teens. http://nyti.ms/1psD1XI\\n514863357699317761|Wed Sep 24 19:46:04 +0000 2014|Liberia’s Ebola Victims Dying at Home Amid Shortage of Clinics http://nyti.ms/1uoLNh3\\n514861598411091968|Wed Sep 24 19:39:05 +0000 2014|A smaller Pepsi. http://nyti.ms/1psBYXI http://pbs.twimg.com/media/ByUn5UHIEAAelYp.png\\n514860928954036224|Wed Sep 24 19:36:25 +0000 2014|Coca-Cola, PepsiCo and the Dr Pepper have pledged to cut the sugary drink calories Americans consume by one-fifth. http://nyti.ms/1psBYXI\\n514852848434434048|Wed Sep 24 19:04:19 +0000 2014|Something that may not help your anxiety.  http://nyti.ms/1ran4f5\\n514850521984028674|Wed Sep 24 18:55:04 +0000 2014|Well: Teenagers and Weight Loss http://nyti.ms/1uowaq1\\n514844410048442368|Wed Sep 24 18:30:47 +0000 2014|Vitamin E and selenium are unlikely to prevent cataracts. http://nyti.ms/1raeSf1\\n514843614548336640|Wed Sep 24 18:27:37 +0000 2014|Vigorous exercise is good for almost all of the body — except perhaps the teeth. http://nyti.ms/1rae2Pj\\n514806093068132352|Wed Sep 24 15:58:31 +0000 2014|Well: Ultrasound vs. CT for Kidney Stones http://nyti.ms/1spYnMZ\\n514788227883229184|Wed Sep 24 14:47:32 +0000 2014|RT @dacorc: Still most popular NYT story: After Surgery, Surprise $117,000 Medical Bill From Doctor He Didn’t Know http://nyti.ms/XCdgNP\\n514788166872883200|Wed Sep 24 14:47:17 +0000 2014|Catching up on Ebola? Our must-read stories and not-to-be-missed videos in one place. http://bit.ly/1r9oPJx\\n514705580058234880|Wed Sep 24 09:19:07 +0000 2014|The New Old Age Blog: Study Links Anxiety Drugs to Alzheimer’s Disease http://nyti.ms/1xdwqsX\\n514629257247854592|Wed Sep 24 04:15:50 +0000 2014|Well: Is Exercise Bad for Your Teeth? http://nyti.ms/1sWYni1\\n514612306047930369|Wed Sep 24 03:08:29 +0000 2014|To Gather Drug Data, a Health Start-Up Turns to Consumers http://nyti.ms/1sWSPE9\\n514608478468710400|Wed Sep 24 02:53:16 +0000 2014|National Briefing | South: Louisiana: Ex-Health Chief Is Indicted  http://nyti.ms/1sWSPUt\\n514608477130747905|Wed Sep 24 02:53:16 +0000 2014|Under Affordable Care Act, 25 Percent Increase in Health Insurers Is Predicted http://nyti.ms/1ukyNZO\\n514498672344981504|Tue Sep 23 19:36:57 +0000 2014|Soda Makers Coca-Cola, PepsiCo and Dr Pepper Join in Effort to Cut Americans’ Drink Calories http://nyti.ms/1r5owPV\\n514489363238244355|Tue Sep 23 18:59:57 +0000 2014|RT @yoshaylaharris: VIDEO: An odd side-effect of #ClimateChange turned goose eggs into fast food for polar bears:  http://nyti.ms/1odI3b7 h…\\n514463178856882176|Tue Sep 23 17:15:54 +0000 2014|Well: Vitamin E, Selenium Fail to Prevent Cataracts http://nyti.ms/1mKyC7S\\n514462286065696768|Tue Sep 23 17:12:21 +0000 2014|The Biggest Ebola Outbreak on Record. A collection of key stories about how the disease is spreading. http://bit.ly/1r4QATs\\n514457441791397888|Tue Sep 23 16:53:06 +0000 2014|Most scientific research is done on male lab animals http://nyti.ms/1r4Lvuw\\n514443237348884481|Tue Sep 23 15:56:40 +0000 2014|The current official case Ebola count is 5,843, including 2,803 deaths, according to the World Health Organization.\\n514443083191431168|Tue Sep 23 15:56:03 +0000 2014|In the best-case model the Ebola epidemic in both countries would be “almost ended” by Jan. 20.\\n514442955961405441|Tue Sep 23 15:55:33 +0000 2014|Liberia and Sierra Leone could have 21,000 cases of Ebola by next week without effective methods to contain it. http://nyti.ms/1r4ySzz\\n514442698569564160|Tue Sep 23 15:54:31 +0000 2014|Ebola Cases Could Reach 1.4 Million in 4 Months, C.D.C. Estimates http://nyti.ms/1r4ySzz\\n514437070480097280|Tue Sep 23 15:32:10 +0000 2014|Fennel, Beet and Orange Salad  http://nyti.ms/1r4t7Sv (Photo by Andrew Scrivani for The New York Times) http://pbs.twimg.com/media/ByOlyi2CQAANgXn.png\\n514431471109804032|Tue Sep 23 15:09:55 +0000 2014|Soccer Star Bellini Is Found to Have Had Brain Trauma http://nyti.ms/Y1seO2\\n514427370342993920|Tue Sep 23 14:53:37 +0000 2014|Ebola Cases Could Reach 1.4 Million in 4 Months, C.D.C. Estimates http://nyti.ms/1uVpxKu\\n514422412088455168|Tue Sep 23 14:33:55 +0000 2014|Malaria may thrive and tea harvests may dwindle with climate change. http://nyti.ms/1r4glDv\\n514276093130711040|Tue Sep 23 04:52:30 +0000 2014|Health Agency’s New Assessment of the Epidemic Is More Dire Still  http://nyti.ms/1pppX5c\\n514271629745324032|Tue Sep 23 04:34:45 +0000 2014|Health Researchers Will Get $10.1 Million to Counter Gender Bias in Studies http://nyti.ms/1uU14Fg\\n514271628805812225|Tue Sep 23 04:34:45 +0000 2014|http://HealthCare.gov Is Given an Overhaul http://nyti.ms/1ppqyE2\\n514267836702031872|Tue Sep 23 04:19:41 +0000 2014|Fresh Graves Point to Undercount of Ebola Toll  http://nyti.ms/1uU05VM\\n514267835766685696|Tue Sep 23 04:19:41 +0000 2014|Finding Risks, Not Answers, in Gene Tests http://nyti.ms/1uU02ZX\\n514136924848930817|Mon Sep 22 19:39:29 +0000 2014|RT @dacorc: NYTScience climate special: What\\'ll happen to corn? http://nyti.ms/1udHUeT\\n514136550226292736|Mon Sep 22 19:38:00 +0000 2014|Well: Beauty in the Beets http://nyti.ms/1mDm3eK\\n514135503848095744|Mon Sep 22 19:33:50 +0000 2014|A Mother in Jail for Helping Her Daughter Have an Abortion http://nyti.ms/1odSLyf\\n514108688471429120|Mon Sep 22 17:47:17 +0000 2014|Nature in the Balance: Testing Future Conditions for the Food Chain http://nyti.ms/ZCFZ6E\\n514106401409732608|Mon Sep 22 17:38:12 +0000 2014|RT @carlzimmer: How climate change will affect our food supply—by @JustinHGillis http://www.nytimes.com/2014/09/23/science/testing-future-conditions-for-the-food-chain.html\\n514105227642155008|Mon Sep 22 17:33:32 +0000 2014|Pendulums, by definition, swing, and the one on which Prozac rides is no exception. http://nyti.ms/1odBLIq\\n514071553106272256|Mon Sep 22 15:19:43 +0000 2014|The New Health Care: Medicaid Gives the Poor a Reason to Say No Thanks http://nyti.ms/1shNLzS\\n514071551499845632|Mon Sep 22 15:19:43 +0000 2014|The New Health Care: In Context, Health Premium Increases Don’t Actually Look Like Increases http://nyti.ms/1C4MugH\\n513909973508976640|Mon Sep 22 04:37:40 +0000 2014|Joan Rivers\\'s Treatment Seen as Possible Example of V.I.P. Syndrome http://nyti.ms/1DrNrkQ\\n513909972066127873|Mon Sep 22 04:37:39 +0000 2014|Retro Report: Selling Prozac as the Life-Enhancing Cure for Mental Woes http://nyti.ms/1qlyNkR\\n513905387859619840|Mon Sep 22 04:19:27 +0000 2014|Well: A Better Baby I.C.U. http://nyti.ms/1DrMY27\\n513837755844268032|Sun Sep 21 23:50:42 +0000 2014|Sometimes a nearby cupcake can be more problematic than nearby crack. http://nyti.ms/1DfbnaT\\n513824720249442304|Sun Sep 21 22:58:54 +0000 2014|Op-Ed Contributors: A Cancer Battle We Can Win  http://nyti.ms/1Drl3iA\\n513796823102656514|Sun Sep 21 21:08:03 +0000 2014|Browse NYT Cooking\\'s favorite healthy dinner recipes http://nyti.ms/1wOwD5R (Photo: Andrew Scrivani for NYT) http://pbs.twimg.com/media/Bx7EN-LIcAEyuyZ.jpg\\n513689253201842177|Sun Sep 21 14:00:36 +0000 2014|Woman wants HIV drugs. No evidence she has HIV. What’s a doctor to do? http://nyti.ms/1tYoZ3V\\n513684589588398080|Sun Sep 21 13:42:04 +0000 2014|Browse NYT Cooking\\'s favorite healthy brunch recipes http://nyti.ms/1BUNXpM (Photo: Andrew Scrivani for NYT) http://pbs.twimg.com/media/Bx7DCbLIMAAxXvr.jpg\\n513516335482298368|Sun Sep 21 02:33:29 +0000 2014|Panel advises against prescribing testosterone to men who only have aging issues, such as low energy and libido. http://nyti.ms/1ukmf0Y\\n513494742425165824|Sun Sep 21 01:07:41 +0000 2014|Terence Moakley, Advocate for Disabled, Dies at 69 http://nyti.ms/1DpIPvl\\n513424557504724992|Sat Sep 20 20:28:48 +0000 2014|Paying Till It Hurts: After Surgery, Surprise $117,000 Medical Bill From Doctor He Didn\\'t Know http://nyti.ms/1uSswT6\\n513421399566721024|Sat Sep 20 20:16:15 +0000 2014|Browse NYT Cooking\\'s favorite healthy appetizer recipes http://nyti.ms/1uMmUuh (Photo: Andrew Scrivani for NYT) http://pbs.twimg.com/media/Bx7DvZIIQAIdt2h.jpg\\n513409866179026944|Sat Sep 20 19:30:25 +0000 2014|Ever heard of a dynamometer? Some think it should be in every doctor’s office in America.  http://nyti.ms/1DfUwol\\n513396631476371457|Sat Sep 20 18:37:50 +0000 2014|News Analysis: Can a Computer Replace Your Doctor? http://nyti.ms/ZxjeRL\\n513341908035584000|Sat Sep 20 15:00:22 +0000 2014|Sunday afternoon project idea: make focaccia from scratch. http://nyti.ms/1u8fIpP\\n513300377505382400|Sat Sep 20 12:15:21 +0000 2014|Moderate weight loss  reduced the risk of Type 2 diabetes by nearly what percent? The weekly quiz: http://nyti.ms/1u4OFzv\\n513296602136870913|Sat Sep 20 12:00:21 +0000 2014|Our guide to activity trackers: http://nyti.ms/1u7GS49 David Sedaris’ essay on what one did to him: http://nyr.kr/1u7GS4b\\n513208730972737536|Sat Sep 20 06:11:11 +0000 2014|It’s better to make gradual changes in what and how much you eat than try a crash diet. http://nyti.ms/1ukgKzf\\n513172010885980160|Sat Sep 20 03:45:16 +0000 2014|Liberia accounts for more than half of all Ebola cases. http://nyti.ms/1uksW2V\\n513171402573479937|Sat Sep 20 03:42:51 +0000 2014|Lockdown Begins in Sierra Leone to Battle Ebola http://nyti.ms/1v1Sdzu\\n513168487628697600|Sat Sep 20 03:31:16 +0000 2014|Americans’ beer bellies are getting bigger. http://nyti.ms/1uiUBRZ\\n513166981990985729|Sat Sep 20 03:25:17 +0000 2014|Guinter Kahn, Inventor of Baldness Remedy, Dies at 80 http://nyti.ms/1wPPKwk\\n513166980317450240|Sat Sep 20 03:25:16 +0000 2014|Hospitals in Kashmir Struggle After Flooding, Deepening a Health Crisis http://nyti.ms/1v1Sbry\\n513158922979799040|Sat Sep 20 02:53:15 +0000 2014|Even if your not moving around — standing seems to be better than sitting. http://nyti.ms/1u8f2Rs\\n513077137608564736|Fri Sep 19 21:28:16 +0000 2014|A 65-year-old woman is younger than a 65-year-old man. http://nyti.ms/1DfUwol\\n513074260085317632|Fri Sep 19 21:16:50 +0000 2014|How readers responded to the @NYTmag article on abortions by mail. http://nyti.ms/1C6B1hy http://pbs.twimg.com/media/Bx7OUizIAAAGuMH.png\\n513071899686215680|Fri Sep 19 21:07:27 +0000 2014|A woman suspected to have Ebola is taken to ambulance in Sierra Leone. Photo by @Samuel_Aranda http://nyti.ms/1u7GvGy http://pbs.twimg.com/media/Bx7MLIlIYAEcPu4.png\\n513070008982077440|Fri Sep 19 20:59:57 +0000 2014|The number of people in West Africa who have died from Ebola doubled in the past month. http://www.nytimes.com/2014/09/19/world/africa/ebola-deaths-doubled-in-a-month-health-group-says.html?ref=health\\n513063561397297152|Fri Sep 19 20:34:19 +0000 2014|Your Money Adviser: Rule Changes Increase Flexibility in Pretax Health Care Accounts http://nyti.ms/1r80HVg\\n513049195394379776|Fri Sep 19 19:37:14 +0000 2014|Hearing focuses on security weaknesses in government healthcare site. http://nyti.ms/1u7u1Po\\n513046918218657792|Fri Sep 19 19:28:11 +0000 2014|Donating one’s body to science may be a generous thing to do. But it’s not easy to pull off. http://nyti.ms/1u7tcpE\\n513046139214790656|Fri Sep 19 19:25:06 +0000 2014|The beer belly is on the rise in America — even as people’s weight stays otherwise the same. http://nyti.ms/1u7sLM6 http://pbs.twimg.com/media/Bx60vrgIIAAir_g.jpg\\n512993279080943616|Fri Sep 19 15:55:03 +0000 2014|Girl watches Ebola spray team disinfect her house in Monrovia. By @berehulak http://bit.ly/1ujcmR1 http://pbs.twimg.com/media/Bx6Eq0ZIYAA5IjB.png\\n512990816269119489|Fri Sep 19 15:45:16 +0000 2014|RT @heathertal: .@berehulak is doing an incredible job covering Ebola in Liberia. His Instagram photos: http://bit.ly/1uj8q2F http://t.co/…\\n512987028913651712|Fri Sep 19 15:30:13 +0000 2014|More than half of Americans have what is considered abdominal obesity. http://nyti.ms/1uiUBRZ\\n512979189033861120|Fri Sep 19 14:59:04 +0000 2014|RT @celiadugger: Fear and rage in Guinea: Mob kills journalist and officials at Ebola community awareness event. http://nyti.ms/1r5hEzu\\n512977153462661120|Fri Sep 19 14:50:58 +0000 2014|Average waist circumference — but not BMI— increased significantly in the U.S. between 1999 and 2012. http://nyti.ms/1uiUBRZ\\n512975718280871937|Fri Sep 19 14:45:16 +0000 2014|RT @paula_span: Donating your body \"to science\" takes planning. One family\\'s story: http://newoldage.blogs.nytimes.com/2014/09/18/donating-the-body/\\n512964690381897728|Fri Sep 19 14:01:27 +0000 2014|Well: The Expanding American Waistline http://nyti.ms/1AUPOZc\\n512812851451273216|Fri Sep 19 03:58:06 +0000 2014|Business Briefing: F.D.A. Approves Trulicity, a Drug for Type 2 Diabetes http://nyti.ms/1r5DjHP\\n512803188248825857|Fri Sep 19 03:19:42 +0000 2014|Ebola Presents Challenge, and an Opportunity, for U.N. Leader http://nyti.ms/1mkgIs0\\n512803185891610624|Fri Sep 19 03:19:41 +0000 2014|Fear of Ebola Drives Mob to Kill Officials in Guinea http://nyti.ms/1pkYUYP\\n512799153055744000|Fri Sep 19 03:03:40 +0000 2014|DealBook: Bayer to Spin Off Plastics Group to Focus on Health Care http://nyti.ms/1mkgJfM\\n512799150421733377|Fri Sep 19 03:03:39 +0000 2014|World Briefing: Syria: Opposition Investigates Vaccine http://nyti.ms/1pkYUYN\\n512795002250862592|Fri Sep 19 02:47:10 +0000 2014|About New York: An Effort to Raise Awareness of Sepsis, Led by Families Touched by It http://nyti.ms/1mkgJfJ\\n512794999151276033|Fri Sep 19 02:47:09 +0000 2014|Health Care Act Still Covers 7.3 Million  http://nyti.ms/1pkYUYL\\n512747356429635585|Thu Sep 18 23:37:50 +0000 2014|Op-Ed Contributor: When Medicine Is Futile http://nyti.ms/1qhQeTm\\n512721824761667584|Thu Sep 18 21:56:23 +0000 2014|Were you paying attention this week? The health quiz: http://nyti.ms/1u4OFzv\\n512716439577296897|Thu Sep 18 21:34:59 +0000 2014|Artificial sweeteners are a $1.5-billion-a-year market @kchangnyt reported last year. http://nyti.ms/1u1EGLh\\n512716048810774528|Thu Sep 18 21:33:26 +0000 2014|Artificial sweeteners may disrupt the body’s ability to regulate blood sugar. http://nyti.ms/1u4LCr7\\n512707033523421188|Thu Sep 18 20:57:37 +0000 2014|RT @MarthaRShulman: http://nyti.ms/1BQJBQw  #Whole #Wheat #Focaccia with #Tomatoes and #Olives on #Recipes for #Health\\n512706676693037056|Thu Sep 18 20:56:12 +0000 2014|RT @sangerkatz: Most-read on @nytimes site. MT @ReedAbelson Panel Urges Overhauling Health Care at End of Life http://nyti.ms/1uHhlxp  ICYM…\\n512693476475936771|Thu Sep 18 20:03:44 +0000 2014|The New Old Age Blog: Donating the Body http://nyti.ms/1qhHlJs\\n512686154026450945|Thu Sep 18 19:34:39 +0000 2014|U.S. Lays Out Strategy to Combat Crisis of Antibiotic Resistance http://nyti.ms/1DlVZtx\\n512681688803983362|Thu Sep 18 19:16:54 +0000 2014|U.S. Lays Out Strategy to Combat Crisis of Antibotic Resistance http://nyti.ms/1DlUr2w\\n512676922145640449|Thu Sep 18 18:57:57 +0000 2014|Ebola Deaths Doubled in a Month, Health Group Says http://nyti.ms/XMY5BO\\n512673895774969856|Thu Sep 18 18:45:56 +0000 2014|Yes, I’m a surgeon. But no, I can’t type. http://nyti.ms/1ueHL7g\\n512646911145566208|Thu Sep 18 16:58:42 +0000 2014|Well: Living With Cancer: Making Room http://nyti.ms/1mgvvo8\\n512543997190230017|Thu Sep 18 10:09:46 +0000 2014|Well: Your Surgeon Seems Qualified, but Can He Type? http://nyti.ms/1p2aOrk\\n512456762449223680|Thu Sep 18 04:23:07 +0000 2014|Elizabeth Whelan, Who Challenged Food Laws, Dies at 70 http://nyti.ms/1o4HnF4\\n512452709895901186|Thu Sep 18 04:07:01 +0000 2014|San Francisco Official Says He Takes Truvada to Prevent H.I.V., and More Gay Men Should, Too http://nyti.ms/1mgDD7F\\n512452708440489984|Thu Sep 18 04:07:01 +0000 2014|Rob Ford to Be Treated for Unusual Cancer http://nyti.ms/1mgFmtB\\n512448882438328320|Thu Sep 18 03:51:49 +0000 2014|F.T.C. Wary of Mergers by Hospitals http://nyti.ms/1o4ISTq\\n512448881012260864|Thu Sep 18 03:51:48 +0000 2014|Poor Fitness in Military Poses Peril, Report Says http://nyti.ms/1mgFmdj\\n512444605867237376|Thu Sep 18 03:34:49 +0000 2014|V.A. Official Acknowledges Link Between Delays and Patient Deaths http://nyti.ms/1o4HpNb\\n512444604898349056|Thu Sep 18 03:34:49 +0000 2014|Pregnancy for Pay: Surrogates and Couples Face a Maze of Laws, State by State http://nyti.ms/1mgDCkc\\n512371792485552129|Wed Sep 17 22:45:29 +0000 2014|RT @celiadugger: The evidence is mostly in mice, but Sweet\\'N Low and Equal may disrupt blood sugar regulation. http://nyti.ms/1mfttnH via @…\\n512357744863494145|Wed Sep 17 21:49:40 +0000 2014|RT @cslnyt: yet, the concept of low-T has been heavily marketed as a fountain of youth http://nyti.ms/1wEyMRr @natashanyt\\n512357695928537089|Wed Sep 17 21:49:28 +0000 2014|RT @cslnyt: Do older men who take testosterone have improved physical, sexual or cognitive function? It\\'s unknown. http://nyti.ms/1uHzLxS @…\\n512357557667495937|Wed Sep 17 21:48:55 +0000 2014|RT @kchangnyt: Artificial sweeteners raise blood sugar?? The real solution is, of course: eat and drink less sweet stuff. http://t.co/5ghGp…\\n512337572799217664|Wed Sep 17 20:29:30 +0000 2014|If you’e had an inkling that fake sugar is bad for you, more hints you could be right. http://nyti.ms/1u1EGLh\\n512337202932875264|Wed Sep 17 20:28:02 +0000 2014|If you’ve had an inkling that the fake sugar may not be good for you, more hints you’re right. http://nyti.ms/1u1EGLh\\n512336500714131456|Wed Sep 17 20:25:15 +0000 2014|Well: Artificial Sweeteners May Disrupt Body’s Blood Sugar Controls http://nyti.ms/1thaHh0\\n512328858419597313|Wed Sep 17 19:54:53 +0000 2014|End-of-Life Care Needs Sweeping Overhaul, Panel Says http://nyti.ms/1spEorQ\\n512324076942417920|Wed Sep 17 19:35:53 +0000 2014|RT @tminsberg: A panel is arguing that it\\'s time to overhaul how the USA deals with end-of-life care, @PamBelluck writes http://t.co/OldgRX…\\n512323877557772289|Wed Sep 17 19:35:05 +0000 2014|RT @celiadugger: Ebola could be \"catastrophic\" economic blow to 3 hardest hit West African nations, World Bank warns. http://nyti.ms/1uHreuX\\n512316208805609474|Wed Sep 17 19:04:37 +0000 2014|Bad Vaccine Kills Up to 50 Children in Northern Syria http://nyti.ms/1s6V6Cc\\n512315720278237184|Wed Sep 17 19:02:40 +0000 2014|RT @bcsolomon: This is the 1st foreign @MSF worker to contract #Ebola. Bad timing as foreign aid aims to build confidence, attract more per…\\n512313693577965568|Wed Sep 17 18:54:37 +0000 2014|RT @bcsolomon: Breaking news: A French @MSF (Doctors Without Borders) worker contracts #Ebola in #Monrovia #Liberia. Will be evacuated to F…\\n512312395407319041|Wed Sep 17 18:49:28 +0000 2014|The New Health Care: With New Health Law, Shopping Around Can Be Crucial http://nyti.ms/1BMXajV\\n512308469396152320|Wed Sep 17 18:33:51 +0000 2014|Ebola Could Devastate West African Economies, World Bank Says http://nyti.ms/1s6ToRh\\n512308468498591744|Wed Sep 17 18:33:51 +0000 2014|F.D.A. Panel Weighs Restrictions on Testosterone Drugs http://nyti.ms/1BMXajP\\n512305390592458752|Wed Sep 17 18:21:37 +0000 2014|Using a nuclear tool to fight cancer — background on proton therapy at core of British health debate. http://nyti.ms/1u8QV5e\\n512305110459109376|Wed Sep 17 18:20:31 +0000 2014|An opinion piece on whether proton beam treatment is worth the price. http://nyti.ms/wwZxPz\\n512304012046397441|Wed Sep 17 18:16:09 +0000 2014|Critics are asking whether British health service was justified in refusing proton beam therapy for boy with cancer. http://nyti.ms/1u8QasJ\\n512261071768678400|Wed Sep 17 15:25:31 +0000 2014|The New Health Care: How Insurers Are Finding Ways to Shift Costs to the Sick http://nyti.ms/1uTFsXJ\\n512254376376029184|Wed Sep 17 14:58:55 +0000 2014|Map of the Ebola outbreak, which is the biggest on record. http://pbs.twimg.com/media/BxvkpB5IIAAFuQG.png\\n512253993184411648|Wed Sep 17 14:57:23 +0000 2014|More than 3,600 people in Guinea, Liberia, Nigeria, Senegal and Sierra Leone have contracted Ebola since March. http://nyti.ms/UPEOhp\\n512097956376625152|Wed Sep 17 04:37:21 +0000 2014|Obama Presses Leaders to Speed Ebola Response http://nyti.ms/1piTb5S\\n512097953998446592|Wed Sep 17 04:37:21 +0000 2014|Health Care for Britain in Harsh Light http://nyti.ms/1s5YGN0\\n512092660904230913|Wed Sep 17 04:16:19 +0000 2014|Well: Sit Less, Live Longer? http://nyti.ms/1s5XEAr\\n512086194998767616|Wed Sep 17 03:50:37 +0000 2014|Paying Til It Hurts — a series on health care costs. http://nyti.ms/1Df5sma\\n512012618085969920|Tue Sep 16 22:58:15 +0000 2014|Well: Savory and Sweet Whole Wheat Focaccia http://nyti.ms/1oXFmKS\\n511983306087616512|Tue Sep 16 21:01:47 +0000 2014|U.N. Sees Need for $1 Billion to Fight Ebola http://nyti.ms/1oXbKxl\\n511982999370752000|Tue Sep 16 21:00:33 +0000 2014|Hand-grip strength is an amazingly good predictor of future rates of mortality and morbidity, or sickness. http://nyti.ms/1DfUwol\\n511955335637393410|Tue Sep 16 19:10:38 +0000 2014|A different classification of “old” that begins for men at  69 and women at 72. http://nyti.ms/1DfUwol\\n511952286785216512|Tue Sep 16 18:58:31 +0000 2014|The New Old Age Blog: On New Measurements of Aging http://nyti.ms/1r57pNl\\n511916249828585473|Tue Sep 16 16:35:19 +0000 2014|RT @nytvideo: A Healthcare Hot Potato http://nyti.ms/Xwjbo2\\n511909042114297856|Tue Sep 16 16:06:41 +0000 2014|Resilience is a bit like pornography: It’s hard to define, but we know it when we see it. http://nyti.ms/1u2q3Ur\\n511908276628652032|Tue Sep 16 16:03:38 +0000 2014|9000 children younger than 6 are hospitalized annually for the accidental ingestion of prescription drugs. http://nyti.ms/1DfhvQn\\n511907548119977984|Tue Sep 16 16:00:44 +0000 2014|There is a solution to heel pain. It looks like this. http://nyti.ms/1Dfh2xA\\n511900927637610496|Tue Sep 16 15:34:26 +0000 2014|It’s not the drugs —but the overwhelming weight gain — that sometimes ruins recovery. http://nyti.ms/1DfbnaT\\n511895785714487296|Tue Sep 16 15:14:00 +0000 2014|Child Mortality Falling, U.N. Says, but Not Fast Enough http://nyti.ms/1oVAHcs\\n511894063763963904|Tue Sep 16 15:07:09 +0000 2014|President Obama offers assistance toward construction of 17 Ebola treatment centers in West Africa.  http://nyti.ms/1Df5RoA\\n511893047286956032|Tue Sep 16 15:03:07 +0000 2014|RT @sangerkatz: This chart from the Census report really shows the effect of Medicare and Medicaid on insured rate. http://pbs.twimg.com/media/BxqR-OTCUAEQYYb.png\\n511892836170878976|Tue Sep 16 15:02:17 +0000 2014|RT @JeffGordinier: Bacteria to the rescue! http://nyti.ms/1m8SkK1\\n511892708416561152|Tue Sep 16 15:01:46 +0000 2014|RT @GretchenReynold: A low-tech but effective fix for sore heels  Ask Well: Plantar Fasciitis Relief http://nyti.ms/1m9dNm8 via @nytimeswell\\n511892653320196096|Tue Sep 16 15:01:33 +0000 2014|RT @bstrauch: All you need to know about stem cells. There\\'s hope but not much progress so far.http://nyti.ms/1qYUXNz\\n511892534189375488|Tue Sep 16 15:01:05 +0000 2014|A perfect fall bread that blends sweet, nutty and savory flavors.  http://nyti.ms/1Df4vdG\\n511769625135415296|Tue Sep 16 06:52:41 +0000 2014|The New Health Care: New Estimates on Health Coverage Are Accurate but Outdated http://nyti.ms/1r2f9Q0\\n511750773295026176|Tue Sep 16 05:37:46 +0000 2014|U.S. to End Coverage Under Health Care Law for Tens of Thousands http://nyti.ms/YNxG84\\n511746818783584256|Tue Sep 16 05:22:04 +0000 2014|Number of Americans Without Health Insurance Falls, Survey Shows http://nyti.ms/1phzawn\\n511746816430579713|Tue Sep 16 05:22:03 +0000 2014|Obama to Call for Expansion of Ebola Fight http://nyti.ms/1phz7kn\\n511742401254526976|Tue Sep 16 05:04:30 +0000 2014|Arizona Republican Official Resigns After Remarks About Medicaid Recipients http://nyti.ms/YNxG8a\\n511742400373719040|Tue Sep 16 05:04:30 +0000 2014|New York Files an Antitrust Suit Against the Maker of an Alzheimer’s Drug  http://nyti.ms/1phzawp\\n511723999056125952|Tue Sep 16 03:51:23 +0000 2014|Do you prescribe preventative medicine when there is little evidence it is needed? http://nyti.ms/1tYoZ3V\\n511649311248384000|Mon Sep 15 22:54:36 +0000 2014|Global Health: Among Malaria Parasites, Real Feel for Mosquitoes http://nyti.ms/1BH9gef\\n511649309901983744|Mon Sep 15 22:54:36 +0000 2014|Taking a Health Hazard Home  http://nyti.ms/Znl87h\\n511648260701036544|Mon Sep 15 22:50:25 +0000 2014|How should a doctor deal with a patient, who admits she has H.I.V. phobia? http://nyti.ms/1tYoZ3V\\n511645231021047809|Mon Sep 15 22:38:23 +0000 2014|Stem Cells: Plenty of Hope, but Halting Progress http://nyti.ms/1BH9hPv\\n511645229548834816|Mon Sep 15 22:38:23 +0000 2014|Well: But What if They Were to Die? http://nyti.ms/Znl87j\\n511622298953326592|Mon Sep 15 21:07:16 +0000 2014|Well: Ask Well: Plantar Fasciitis Relief http://nyti.ms/1qG4wmR\\n511613405128835073|Mon Sep 15 20:31:55 +0000 2014|Reactions: Cancer Screening at a Cost, Your Uncomfortable Flight, Fortunate Dinosaur Bones http://nyti.ms/1BGVsjR\\n511586036246675456|Mon Sep 15 18:43:10 +0000 2014|Going Inside the Rice Microbiome http://nyti.ms/1wmhcPd\\n511549288116387840|Mon Sep 15 16:17:09 +0000 2014|Well: Off the Drugs, Onto the Cupcakes http://nyti.ms/ZmVXSs\\n511536447560904705|Mon Sep 15 15:26:07 +0000 2014|The New Health Care: Limiting Choice to Control Health Spending: A Caution http://nyti.ms/1uDGTua\\n511536445606330368|Mon Sep 15 15:26:07 +0000 2014|Maker of Hepatitis C Drug Strikes Deal on Generics for Poor Countries http://nyti.ms/ZmQL0Z\\n511528894466625536|Mon Sep 15 14:56:06 +0000 2014|Well: Beating Back the Risk of Diabetes http://nyti.ms/ZmNCOB\\n511369569139978240|Mon Sep 15 04:23:00 +0000 2014|Well: Select Drugs Cause Most Childhood Poisonings http://nyti.ms/Zm9QA8\\n511216746611875840|Sun Sep 14 18:15:45 +0000 2014|Renewing Health Coverage May Not Be as Automatic as Government Says http://nyti.ms/1qANaHQ\\n510984960141185024|Sun Sep 14 02:54:42 +0000 2014|Rashi Fein, Economist Who Urged Medicare, Dies at 88 http://nyti.ms/1q2qs5q\\n510984958719328256|Sun Sep 14 02:54:42 +0000 2014|Back to the Slums of His Youth, to Defuse the Ebola Time Bomb http://nyti.ms/1m4JUU2\\n510859036666134528|Sat Sep 13 18:34:20 +0000 2014|Opinion: Should We All Take a Bit of Lithium? http://nyti.ms/WYLfzC\\n510616739860971520|Sat Sep 13 02:31:32 +0000 2014|Both Sides Cite Urgency in Court Appeal of a Texas Law on Abortion Clinics http://nyti.ms/1tKgA3N\\n510616738875334656|Sat Sep 13 02:31:32 +0000 2014|N.F.L. Agrees: Brain Trauma in 1 in 3 Players http://nyti.ms/1tKhyx4\\n510612118312595457|Sat Sep 13 02:13:10 +0000 2014|Liberian President Pleads With Obama for Assistance in Combating Ebola http://nyti.ms/1m1FoWa\\n510612117213691904|Sat Sep 13 02:13:10 +0000 2014|U.S. Scientists See Long Fight Against Ebola http://nyti.ms/1tKgzNx\\n510534196000219137|Fri Sep 12 21:03:32 +0000 2014|Contributing Op-Ed Writer: Learning How to Exert Self-Control  http://nyti.ms/X8XXfD\\n510529176492060672|Fri Sep 12 20:43:35 +0000 2014|The New Old Age Blog: Tougher Than They Look http://nyti.ms/X8T1HB\\n510490035393929216|Fri Sep 12 18:08:03 +0000 2014|What we\\'re afraid to say about Ebola  http://nyti.ms/1xUs4rZ via @nytopinion\\n510445881091698689|Fri Sep 12 15:12:36 +0000 2014|Test your knowledge of the latest health news. http://nyti.ms/1xTHLjl\\n510423580992339969|Fri Sep 12 13:43:59 +0000 2014|Well: Bright Green Pesto That Won’t Fade http://nyti.ms/1wikAdJ\\n510264185503371264|Fri Sep 12 03:10:36 +0000 2014|Aid Worker Recovering From Ebola http://nyti.ms/1BwxNmg\\n510260255910285312|Fri Sep 12 02:54:59 +0000 2014|72-Hour Wait for Abortion Is Enacted in Missouri http://nyti.ms/1rYNOjZ\\n510260254576099328|Fri Sep 12 02:54:59 +0000 2014|Pesticide Levels in Waterways Have Dropped, Reducing the Risks to Humans http://nyti.ms/1BwxPuh\\n510168224600977408|Thu Sep 11 20:49:17 +0000 2014|RT @paula_span: Surprising portion of seniors in ERs malnourished, new UNC study finds. @judith_graham explains. http://newoldage.blogs.nytimes.com/2014/09/11/in-the-emergency-room-a-hidden-ailment/\\n510153173475266561|Thu Sep 11 19:49:29 +0000 2014|Matter: Mining for Antibiotics, Right Under Our Noses. http://nyti.ms/WOZBm4\\n510149440519548930|Thu Sep 11 19:34:39 +0000 2014|Have you observed yourself or others granting a moral license to do bad, after doing good? http://nyti.ms/ZiiyzE\\n510148705497133056|Thu Sep 11 19:31:44 +0000 2014|A Window Into Everyday Morality via Text Message http://nyti.ms/1tNIXBS\\n510148704368857088|Thu Sep 11 19:31:43 +0000 2014|Dying of Ebola at the Hospital Door http://nyti.ms/WOZDKO\\n510145613137453056|Thu Sep 11 19:19:26 +0000 2014|But those who granted a kindness were more likely to commit a small act of rudeness that day – granting themselves “moral license” to do so.\\n510145336397291522|Thu Sep 11 19:18:20 +0000 2014|People on the receiving end of an act of kindness were about 10 percent more likely to do something nice themselves later in the day.\\n510144612082929665|Thu Sep 11 19:15:28 +0000 2014|More evidence that good deeds can be contagious.  http://nyti.ms/ZiiyzE http://nyti.ms/ZiiyzE\\n510142508681416704|Thu Sep 11 19:07:06 +0000 2014|RT @bcsolomon: My video dispatch from #Liberia for @nytimes: Sick from #Ebola &amp; dying at the hospital door http://nyti.ms/1qnLFN9 http://t.…\\n510139656739250176|Thu Sep 11 18:55:46 +0000 2014|The New Old Age Blog: In the Emergency Room, a Hidden Ailment http://nyti.ms/1tNF8gi\\n510130006581075968|Thu Sep 11 18:17:26 +0000 2014|RT @lpolgreen: Ebola patients turned away at hospital gates in Liberia. Harrowing dispatch from @bcsolomon. http://www.nytimes.com/video/ebola-playlist/ http://t…\\n510126466177462273|Thu Sep 11 18:03:21 +0000 2014|Meet McBaine, a highly trained cancer detection dog. http://nyti.ms/ZiewHx http://pbs.twimg.com/media/BxRVUWqIAAAxUy1.png\\n510093123486486528|Thu Sep 11 15:50:52 +0000 2014|Workplace wellness programs sound great. But are they effective? http://nyti.ms/1tC4rho? http://pbs.twimg.com/media/BxQ2_jLIEAAhBvw.png\\n510092637215682560|Thu Sep 11 15:48:56 +0000 2014|The New Health Care: Do Workplace Wellness Programs Work? Usually Not http://nyti.ms/1BuRuuJ\\n510091741937295362|Thu Sep 11 15:45:22 +0000 2014|The perfect little high-protein packages: pesto-filled deviled eggs by @MarthaRShulman http://nyti.ms/1tC2XUq http://pbs.twimg.com/media/BxQ1vI3IYAE--fk.png\\n510085026957250560|Thu Sep 11 15:18:42 +0000 2014|RT @Sulliview: Making science journalism understandable without losing the nuance.  My post on pregnancy and antidepressants: http://t.co/d…\\n509922334065430528|Thu Sep 11 04:32:13 +0000 2014|Study: The most reliable workers are those who get seven to eight hours of sleep each night http://nyti.ms/ZhfovO\\n509907698725683200|Thu Sep 11 03:34:03 +0000 2014|Well: Training Dogs to Sniff Out Cancer http://nyti.ms/WLviwK\\n509899910225735680|Thu Sep 11 03:03:06 +0000 2014|A new drug to treat obesity has gained approval by the F.D.A. http://nyti.ms/1uwQ7bF\\n509896396062097409|Thu Sep 11 02:49:08 +0000 2014|Stabbing With Syringe in Nigeria Raises Concerns of Ebola as Weapon http://nyti.ms/1qG52Qx\\n509876673094111232|Thu Sep 11 01:30:46 +0000 2014|The @gatesfoundation pledged $50 million to fight Ebola, the largest sum it has ever committed to one outbreak http://nyti.ms/ZhfjZd\\n509820105715625984|Wed Sep 10 21:45:59 +0000 2014|Health insurance premiums are starting to look like wage growth and inflation http://nyti.ms/ZhfCDd http://pbs.twimg.com/media/BxM-rzqIQAA42Cb.png\\n509789301518110720|Wed Sep 10 19:43:35 +0000 2014|Gates Foundation Pledges $50 Million to Fight Ebola http://nyti.ms/1pQ5RBd\\n509787379671244800|Wed Sep 10 19:35:57 +0000 2014|RT @michaelluo: Horrific case...Family of Mentally Ill Rikers Inmate Sues New York City Over His Death http://nyti.ms/1qGc4Fc\\n509775468208603136|Wed Sep 10 18:48:37 +0000 2014|RT @bstrauch: what happened at the clinic where Joan Rivers died?http://nyti.ms/1tKZCpZ\\n509739291648724992|Wed Sep 10 16:24:52 +0000 2014|Well: HPV Vaccine Program in Australia Shows Success http://nyti.ms/1lTJsrD\\n509735657749880832|Wed Sep 10 16:10:25 +0000 2014|Risotto with Asparagus and Pesto http://nyti.ms/1tx53Vu @MarthaRShulman\\n509735022816137217|Wed Sep 10 16:07:54 +0000 2014|The New Health Care: Can We Have a Fact-Based Conversation About End-of-Life Planning? http://nyti.ms/1lTGiUM\\n509727353657122816|Wed Sep 10 15:37:26 +0000 2014|RT @cslnyt: Night before Joan Rivers died she told a friend she was “going in for a little procedure” http://nyti.ms/1lVCwu9 @anemonanyc @j…\\n509727329774731264|Wed Sep 10 15:37:20 +0000 2014|The New Health Care: Latest Good News in Health Spending: Employer Premiums http://nyti.ms/1lVQKLJ\\n509726357560229888|Wed Sep 10 15:33:28 +0000 2014|RT @ReedAbelson: Latest Good News in Health Spending: Employer Premiums http://nyti.ms/1ulmnPS via @UpshotNYT\\n509720087574892544|Wed Sep 10 15:08:33 +0000 2014|Enjoy sugary drinks? Get ready to walk. http://nyti.ms/ZgUugv\\n509643601228595200|Wed Sep 10 10:04:37 +0000 2014|Well: Airplane Crew May Face Increased Melanoma Risk http://nyti.ms/1xHHZtI\\n509554404467675136|Wed Sep 10 04:10:11 +0000 2014|Phys Ed: Drink Soda? Take 12,000 Steps http://nyti.ms/1rVHqdf\\n509532735510413312|Wed Sep 10 02:44:05 +0000 2014|At Surgery Clinic, Rush to Save Joan Rivers’s Life http://nyti.ms/1pNthXY\\n509532734591885312|Wed Sep 10 02:44:05 +0000 2014|Seeing Abuse, and a Pattern Too Familiar http://nyti.ms/1rVDr03\\n509529427949408256|Wed Sep 10 02:30:56 +0000 2014|Want your colleagues to be more reliable? Encourage them to get 7-8 hours of sleep a night. http://nyti.ms/1ttrjzz\\n509463432425271296|Tue Sep 09 22:08:42 +0000 2014|Maybe narrow health networks aren\\'t so bad. http://nyti.ms/1ttqXcl\\n509462156719312896|Tue Sep 09 22:03:38 +0000 2014|RT @bcsolomon: A health worker checks himself in a mirror before entering highly contagious #Ebola ward. At @MSF clinic in #Liberia http://…\\n509462050578255872|Tue Sep 09 22:03:12 +0000 2014|Paralyzed in a car crash, then fired for using medical marijuana.  http://nyti.ms/1okJ6pA\\n509461550349185024|Tue Sep 09 22:01:13 +0000 2014|“Virtually every single player in the N.F.L. has a certifiable need for medical marijuana.” http://nyti.ms/1ttpbYv\\n509443470776205312|Tue Sep 09 20:49:23 +0000 2014|Drugs, Legal and Illicit, May Be Hurting Pilot Performance, Study Says http://nyti.ms/1qD6d3e\\n509350060170444800|Tue Sep 09 14:38:12 +0000 2014|RT @cslnyt: \"To be a good citizen you must get rid of unused Rx drugs as soon as you\\'re finished w/ them\" Why? Read this: http://t.co/r2GiR…\\n509349998212161536|Tue Sep 09 14:37:57 +0000 2014|RT @bencareynyt: How to apply cognitive science to homework hour, in the Motherlode blog: http://nyti.ms/1bHmkk6\\n509349869774192640|Tue Sep 09 14:37:26 +0000 2014|RT @bencareynyt: My book HOW WE LEARN launches (blasts off!) today. Got buy and read it willya - http://amzn.to/1ui5pC0\\n509348893373784065|Tue Sep 09 14:33:34 +0000 2014|RT @paula_span: Most elderly nursing home patients with advanced dementia still getting meds of \"questionable benefit.\"  Why? http://t.co/q…\\n509348739413454848|Tue Sep 09 14:32:57 +0000 2014|Airplane seat designers had some not-so-great assumptions. http://nyti.ms/1to2ghd\\n509348603463499776|Tue Sep 09 14:32:24 +0000 2014|Until now, drugs could not legally be returned to pharmacies. http://nyti.ms/Zf5Q4v\\n509348518822420480|Tue Sep 09 14:32:04 +0000 2014|RT @ginakolata: The Problem With Reclining Airplane Seat Design http://nyti.ms/1qHXqM1 via @nytimeswell Best yet on the seat problem.Real d…\\n509265991579492352|Tue Sep 09 09:04:08 +0000 2014|The New Old Age Blog: Near Death, and Overmedicated http://nyti.ms/1p1MCVf\\n509208826193936384|Tue Sep 09 05:16:59 +0000 2014|Coalition Urges Nations to Decriminalize Drugs and Drug Use http://nyti.ms/1tplmUf\\n509185341837021184|Tue Sep 09 03:43:40 +0000 2014|Ebola Cases Reported Up Sharply in Liberia http://nyti.ms/1CLG3Ap\\n509185340310315008|Tue Sep 09 03:43:39 +0000 2014|After First Plan Is Blocked, Virginia Governor Reduces Medicaid Expansion Goals http://nyti.ms/1CLG3Al\\n509181538492493824|Tue Sep 09 03:28:33 +0000 2014|Reactions: Antidepressants and Pregnancy, Carb Conundrum http://nyti.ms/1pJNhuj\\n509181537376800769|Tue Sep 09 03:28:33 +0000 2014|Respiratory Virus Sickens Children in the Midwest http://nyti.ms/1CLG2wh\\n509111541858566144|Mon Sep 08 22:50:25 +0000 2014|Passengers aren’t the real problem in the whole reclining debate.  Seat design is. http://nyti.ms/1to27ug\\n509110577575505921|Mon Sep 08 22:46:35 +0000 2014|Well: The Problem with Reclining Airplane Seat Design http://nyti.ms/Zf5Y3S\\n509109934068596736|Mon Sep 08 22:44:01 +0000 2014|Consumers can now return unused prescription medications like opioid painkillers to pharmacies. http://nyti.ms/1to10e2\\n509098439192625152|Mon Sep 08 21:58:21 +0000 2014|Books: In \\'Doctored,\\' Shortcomings of Health Care and Doctor http://nyti.ms/1oZXu5K\\n509094490548994049|Mon Sep 08 21:42:39 +0000 2014|Q&amp;A: Exploring the Connection Between Alcohol and Dementia http://nyti.ms/Zf1omc\\n509094489596895232|Mon Sep 08 21:42:39 +0000 2014|Global Health: Mosquito-Borne Viruses Hit Japan and the U.S. http://nyti.ms/Zf1SZE\\n509090059958898688|Mon Sep 08 21:25:03 +0000 2014|http://Healthcare.gov Upgrades Are Priority for New Health and Human Services Chief http://nyti.ms/1oZXu5M\\n509090058633486336|Mon Sep 08 21:25:03 +0000 2014|The New Health Care: Doctors\\' Magical Thinking About Conflicts of Interest http://nyti.ms/Zf1omg\\n509057002233135104|Mon Sep 08 19:13:41 +0000 2014|Well: A Family Cycle of Diabetes http://nyti.ms/1rvTkUR\\n509049411541159936|Mon Sep 08 18:43:32 +0000 2014|Well: A Sleep Sweet Spot http://nyti.ms/1lNR6nm\\n509027655199776768|Mon Sep 08 17:17:04 +0000 2014|To Curb Abuse, Patients Allowed to Return Unused Pills to Pharmacies http://nyti.ms/1rvlL5k\\n509014426327199744|Mon Sep 08 16:24:30 +0000 2014|Well: Obesity Around the Nation http://nyti.ms/1rv67a2\\n509013038432006144|Mon Sep 08 16:19:00 +0000 2014|RT @carlzimmer: Whoops again: NIH uncovers 100-year-old vials of ricin and agents of plague, botulism, and other fun &amp; games.  http://t.co/…\\n509001081201119232|Mon Sep 08 15:31:29 +0000 2014|Lasker Winner Calls for More Genetic Testing for Cancer http://nyti.ms/1usF0R9\\n508845531096182784|Mon Sep 08 05:13:23 +0000 2014|Well: In Prediabetes, a Chance to Avert Crisis http://nyti.ms/1urSTiw\\n508815355545157632|Mon Sep 08 03:13:28 +0000 2014|The latest Ebola news: http://nyti.ms/1nZRWaW\\n508812134558756864|Mon Sep 08 03:00:40 +0000 2014|Kathryn Morgan Uses Social Media as She Gears for Her Return http://nyti.ms/1AoEKDl\\n508812133656973312|Mon Sep 08 03:00:40 +0000 2014|Legal Use of Marijuana Clashes With Job Rules http://nyti.ms/1lLZdRm\\n508807810034196480|Mon Sep 08 02:43:29 +0000 2014|Can Apple Build a Cool and Convenient iWatch? http://nyti.ms/1AoEKn3\\n508807809056923650|Mon Sep 08 02:43:29 +0000 2014|Grandma’s Meat Loaf? Hardly. Her Home Now Has a 3-Star Chef. http://nyti.ms/1lLZh3o\\n508751675482726400|Sun Sep 07 23:00:26 +0000 2014|Desperate to contain Ebola, Sierra Leone has decreed a stringent new measure confining residents to their homes. http://nyti.ms/1qFyDs3\\n508736573765337088|Sun Sep 07 22:00:25 +0000 2014|Unclear on the difference between the Jawbone and Misfit? A guide to activity trackers: http://nyti.ms/1qFylBk\\n508721471796281344|Sun Sep 07 21:00:25 +0000 2014|Is horseback riding good exercise? Yes, especially if you muck out your mount’s stall.  http://nyti.ms/1qFyvIW\\n508691267904352257|Sun Sep 07 19:00:23 +0000 2014|Another good reason to go kick the ball around with your son or daughter this afternoon. http://nyti.ms/1qxIlOr\\n508645961896558592|Sun Sep 07 16:00:22 +0000 2014|Looking for an activity tracker? Here\\'s our newly updated guide. http://nyti.ms/1qFylBk\\n508634566563987456|Sun Sep 07 15:15:05 +0000 2014|Many people are immune to Ebola. Finding them is the tricky part. http://nyti.ms/1qxHAEY\\n508632822270025728|Sun Sep 07 15:08:09 +0000 2014|Teenagers try to avoid “green tobacco sickness” in the fields of North Carolina. http://nyti.ms/1qFy9lJ\\n508423621308874753|Sun Sep 07 01:16:52 +0000 2014|Sierra Leone to Impose 3-Day Ebola Quarantine http://nyti.ms/1wcTGUB\\n508096715145359360|Sat Sep 06 03:37:51 +0000 2014|New York City Reports 3 New Cases of Meningitis http://nyti.ms/1pzo8ma\\n508085184764583936|Sat Sep 06 02:52:02 +0000 2014|World Briefing | Asia: Rare Outbreak of Dengue Fever in Japan http://nyti.ms/1qD2zFg\\n508081364064034817|Sat Sep 06 02:36:51 +0000 2014|Two Vaccines to Protect Against Ebola Could Be Available Within Weeks  http://nyti.ms/1qD2ykB\\n508081362893824001|Sat Sep 06 02:36:51 +0000 2014|Business Briefing : Warnings Issued for Keryx Dialysis Drug http://nyti.ms/1CAk67b\\n508012842306772992|Fri Sep 05 22:04:34 +0000 2014|Antibodies could be harvested from the blood of those who are immune to treat new Ebola victims. http://nyti.ms/1lFSfgI\\n508012672928190464|Fri Sep 05 22:03:54 +0000 2014|RT @heathertal: A lot of people are likely immune to Ebola. Now if we could just figure out who precisely. http://nyti.ms/1lFSfgI\\n508011929898860545|Fri Sep 05 22:00:57 +0000 2014|What does new research about a low-carb vs. high-fat diet mean you should actually eat? @anahadoconnor explores this http://nyti.ms/1t9ZBI4\\n508003609351831552|Fri Sep 05 21:27:53 +0000 2014|Opinion: Studying Ebola, Then Dying From It http://nyti.ms/1rgcpdG\\n507990914246402048|Fri Sep 05 20:37:26 +0000 2014|Well: Think Like a Doctor: Weaker and Weaker Solved! http://nyti.ms/1CzoAuP\\n507984952022298624|Fri Sep 05 20:13:45 +0000 2014|Many in West Africa Are Thought to Be Immune to Ebola, but Finding Them Won’t Be Easy http://nyti.ms/1rfOwD2\\n507984949866409984|Fri Sep 05 20:13:44 +0000 2014|Well: Couscous Salads, Big Bowls and Casseroles http://nyti.ms/1rfQnrw\\n507980426561200128|Fri Sep 05 19:55:46 +0000 2014|The New Old Age Blog: A Picture of Dementia http://nyti.ms/1CzgIJM\\n507976264490442752|Fri Sep 05 19:39:13 +0000 2014|Does new research emphasizing a low-carb diet mean you should eat more meat? @anahadoconnor answers reader questions http://nyti.ms/1t9ZBI4\\n507975938051960832|Fri Sep 05 19:37:56 +0000 2014|What’s the difference between a whole-food carb and a refined carb? http://nyti.ms/1t9ZBI4\\n507940409268776960|Fri Sep 05 17:16:45 +0000 2014|Well: New Answers About Carbs and Fat http://nyti.ms/1t9sXWU\\n507910546180804608|Fri Sep 05 15:18:05 +0000 2014|RT @nycscribe: South Africa and Kenya, against medical advice, are isolating countries hit by Ebola, making matters worse. http://t.co/n68F…\\n507900990000201728|Fri Sep 05 14:40:07 +0000 2014|The Other Ebola Toll: African Economies http://nyti.ms/1AeNT1g\\n507766773354344448|Fri Sep 05 05:46:47 +0000 2014|National Briefing | Plains: Nebraska: Ebola Patient to Be Treated in Omaha http://nyti.ms/1rbHeAe\\n507746023851450368|Fri Sep 05 04:24:20 +0000 2014|Well: Ask Well: Is Horseback Riding Good Exercise? http://nyti.ms/1rbkJeD\\n507746022509252608|Fri Sep 05 04:24:19 +0000 2014|Advertising: Blurring Line Between Snack and Meal, Mac and Cheese to Graze On http://nyti.ms/1rC44oy\\n507741696227307520|Fri Sep 05 04:07:08 +0000 2014|New York State Gives Health Insurers Average Rate Rise of 5.7% http://nyti.ms/1rbkJeB\\n507741693740072960|Fri Sep 05 04:07:07 +0000 2014|Study of Jewish Women Shows Link to Cancer Without Family History http://nyti.ms/1rC4486\\n507678337243045889|Thu Sep 04 23:55:22 +0000 2014|Op-Ed Contributor: Why Do Doctors Commit Suicide? http://nyti.ms/WjKwch\\n507655774651547648|Thu Sep 04 22:25:43 +0000 2014|Apple Nears Introduction of Smartwatch and Bigger iPhones http://nyti.ms/YfBAXc\\n507655773737193472|Thu Sep 04 22:25:42 +0000 2014|Merck Wins Approval of Novel Immune-System Drug for Cancer http://nyti.ms/1puqnXL\\n507640273367990272|Thu Sep 04 21:24:07 +0000 2014|How plants use caffeine as instruments of control. http://nyti.ms/1CvfG1r\\n507639022504529920|Thu Sep 04 21:19:09 +0000 2014|\"I can remember the early days of having schizophrenia.” http://nyti.ms/1CveJ9o\\n507638100172873728|Thu Sep 04 21:15:29 +0000 2014|Even small amounts of exercise enable children to improve their focus. http://nyti.ms/1CvefQC\\n507637184589856768|Thu Sep 04 21:11:50 +0000 2014|During the trial it emerged that Williams was known as \"Tic-Tac man\" because he left behind Anatabloc samples similar to mints at meetings.\\n507636327786246145|Thu Sep 04 21:08:26 +0000 2014|Cash from a dietary supplement exec contributed to the fall of former Gov. Bob McDonnell of Virginia. http://nyti.ms/1CvcK4X\\n507610297298083840|Thu Sep 04 19:25:00 +0000 2014|The New Health Care: How People Feel About Their Employer-Sponsored Health Plans http://nyti.ms/1r96N4M\\n507598480685035520|Thu Sep 04 18:38:03 +0000 2014|IV Line Misplaced in Bungled Oklahoma Execution, Report Says http://nyti.ms/1qrtjJY\\n507598478059401217|Thu Sep 04 18:38:02 +0000 2014|First Arrest Made in 2012 Steroid Medication Deaths http://nyti.ms/1r8Uw0b\\n507581771006091264|Thu Sep 04 17:31:39 +0000 2014|Well: Living With Schizophrenia: The Importance of Routine http://nyti.ms/1unN7yr\\n507564034603106305|Thu Sep 04 16:21:10 +0000 2014|RT @carlzimmer: A look at WHO’s shortcomings in the face of #Ebola http://www.nytimes.com/2014/09/04/world/africa/cuts-at-who-hurt-response-to-ebola-crisis.html?_r=0 Slashed, quirky budget, for one thing.\\n507563890654576640|Thu Sep 04 16:20:36 +0000 2014|RT @cslnyt: Policies \"fly in the face of what we know about the importance of a child’s 1st few years\" http://nyti.ms/1qxwGOm @FordhamLawNYC\\n507563587846815744|Thu Sep 04 16:19:24 +0000 2014|RT @nytDeniseGrady: Who\\'s fat, who\\'s not: state by state. Colorado wins again.  http://www.cdc.gov/obesity/data/prevalence-maps.html#.VAh2BfozCeQ.twitter\\n507563061189050368|Thu Sep 04 16:17:18 +0000 2014|A 19-year-old man collapses at work after months of increasing weakness. Can you figure out why? http://nyti.ms/1CujCj8\\n507516764864118784|Thu Sep 04 13:13:20 +0000 2014|Well: Think Like a Doctor: Weaker and Weaker http://nyti.ms/1pN4Vn2\\n507383792152354816|Thu Sep 04 04:24:57 +0000 2014|Well: Put the Physical in Education http://nyti.ms/Z7LMRG\\n507368861872959488|Thu Sep 04 03:25:37 +0000 2014|V.A. Rules May Enable Benefits Long Denied to Vietnam-Era Veterans http://nyti.ms/1rszJIS\\n507364785735081984|Thu Sep 04 03:09:25 +0000 2014|3rd Missionary With Ebola Is Identified http://nyti.ms/1oFATeE\\n507364784623611904|Thu Sep 04 03:09:25 +0000 2014|Cuts at W.H.O. Hurt Response to Ebola Crisis http://nyti.ms/1rszMo0\\n507328523384938496|Thu Sep 04 00:45:20 +0000 2014|Efforts to improve what children eat should begin before they even learn to walk, studies suggest http://nyti.ms/1CmBZGv\\n507282060076392448|Wed Sep 03 21:40:42 +0000 2014|Observatory: Action Films May Spur the Need to Feed http://nyti.ms/1tumVEn\\n507282059136880641|Wed Sep 03 21:40:42 +0000 2014|Health Care Spending to Rise, Federal Experts Predict http://nyti.ms/1t1ch3N\\n507280909893394432|Wed Sep 03 21:36:08 +0000 2014|RT @DanBilefsky: A British Ebola patient fully recovers after taking an experimental drug, spurring some cautious optimism. My story. http:…\\n507280810798743552|Wed Sep 03 21:35:44 +0000 2014|Will China Defeat Obesity? http://nyti.ms/1w7v5Re\\n507270089662803968|Wed Sep 03 20:53:08 +0000 2014|Experimental Vaccine Shows Promise Against Dengue Fever http://nyti.ms/1nxgsBi\\n507268373164879872|Wed Sep 03 20:46:19 +0000 2014|Dr. Lisa Sanders\\'s next Think Like a Doctor goes up tomorrow at 9. Can you figure out why a 19-year-old man is getting weaker?\\n507266244329095169|Wed Sep 03 20:37:51 +0000 2014|British Parents Reunited With Ill Child After Arrest in Spain http://nyti.ms/1qd41iY\\n507266242785583104|Wed Sep 03 20:37:51 +0000 2014|Unusual Drama School in Rome Is Set to Expand http://nyti.ms/1nxgsBg\\n507262367731056640|Wed Sep 03 20:22:27 +0000 2014|C.D.C. says that anyone who was in the outbreak region and develops a fever of 101.5 degrees or higher should seek immediate medical care\\n507260605527781376|Wed Sep 03 20:15:27 +0000 2014|College Campuses Urged to Come Up with an Ebola Plan http://nyti.ms/1CqV22w\\n507255641443164161|Wed Sep 03 19:55:43 +0000 2014|The New Old Age Blog: A Better Flu Shot http://nyti.ms/1qcVegR\\n507246924819615744|Wed Sep 03 19:21:05 +0000 2014|Mold problems come even without floods or overflowing bathtubs. http://nyti.ms/1CqUAkS\\n507245980413358080|Wed Sep 03 19:17:20 +0000 2014|Beginning in August, medical marijuana dispensaries in Berkeley will donate cannabis to low-income residents.  http://nyti.ms/1CqU3iH\\n507245121034014720|Wed Sep 03 19:13:55 +0000 2014|Worth revisiting this @cslnyt piece on lack of scientific evidence about what exactly medical marijuana does. http://nyti.ms/1prtO8i\\n507244866557186048|Wed Sep 03 19:12:55 +0000 2014|Texas Abortion Clinic to Reopen After Court Ruling http://nyti.ms/1r2D7WW\\n507244293502013441|Wed Sep 03 19:10:38 +0000 2014|\"I can\\'t afford to buy it, but my need isn\\'t any less than anyone else\\'s.”  http://nyti.ms/1lzxOSu @iglovett on medical marijuana\\n507240397442404352|Wed Sep 03 18:55:09 +0000 2014|Perdue Eliminates Antibiotic Use in Its Hatcheries http://nyti.ms/1qcHJOi\\n507239640144039936|Wed Sep 03 18:52:08 +0000 2014|CVS will no longer sell cigarettes. http://nyti.ms/1CqPV2m\\n507229193584017408|Wed Sep 03 18:10:38 +0000 2014|Up to 14 percent of pregnant women take antidepressants. http://nyti.ms/1CqJ6Oe\\n507228924007706624|Wed Sep 03 18:09:34 +0000 2014|More than 3,500 Ebola cases have been confirmed so far. http://nyti.ms/1w6QDNO\\n507228747368779776|Wed Sep 03 18:08:51 +0000 2014|British nurse who contracted Ebola in West Africa and was treated with ZMapp has fully recovered. http://nyti.ms/1CqIPuI\\n507227534677651456|Wed Sep 03 18:04:02 +0000 2014|CVS stores will no longer sell tobacco products (Photo: Andrew Renneisen/NYT) http://nyti.ms/1w6pmuR http://pbs.twimg.com/media/BwnuyFfIQAA7RAG.jpg\\n507219176961105920|Wed Sep 03 17:30:50 +0000 2014|Physical activity does not increase people’s risk of developing A.L.S.  http://nyti.ms/1w6Ic4W\\n507216597275406337|Wed Sep 03 17:20:35 +0000 2014|RT @ReedAbelson: Bracing for New Challenges in Year 2 of Health Care Law http://nyti.ms/1q9hAzX See my story about expectations for upcomin…\\n507215404717309952|Wed Sep 03 17:15:50 +0000 2014|British Ebola Patient Discharged From Hospital http://nyti.ms/1u0V64Y\\n507212012284567552|Wed Sep 03 17:02:21 +0000 2014|RT @bstrauch: An experimental vaccine against dengue fever gets good results.http://nyti.ms/1t07eRl\\n507205230392770560|Wed Sep 03 16:35:25 +0000 2014|Heat stroke is the leading cause of death and disability among high school athletes in the United States. http://nyti.ms/1Cqp9a8\\n507203409343438848|Wed Sep 03 16:28:10 +0000 2014|A reminder — don’t rely on thirst to tell you how much to drink when it’s hot.  http://nyti.ms/1CqpNVe\\n507202816742817792|Wed Sep 03 16:25:49 +0000 2014|Hot weather kills more Americans than all other natural disasters combined, http://nyti.ms/1w6szKY\\n507202634991022080|Wed Sep 03 16:25:06 +0000 2014|A 16-year-old Staten Island student died during a sweltering football practice. http://nyti.ms/1Cqp9a8\\n507198120695185409|Wed Sep 03 16:07:09 +0000 2014|An experimental vaccine shows promise against dengue fever http://nyti.ms/1w6oFBT\\n507192564181925888|Wed Sep 03 15:45:05 +0000 2014|The type of mold usually found in homes can make you sick http://nyti.ms/1uvJiWS\\n507175975562776576|Wed Sep 03 14:39:10 +0000 2014|Berkeley is instating a charity cannabis mandate, perhaps the first such law http://nyti.ms/1Cq0Qcp\\n507018592366657536|Wed Sep 03 04:13:47 +0000 2014|Well: Can Exercise Cause A.L.S.? http://nyti.ms/1vLuvel\\n507018591200628736|Wed Sep 03 04:13:46 +0000 2014|CVS Stores Stop Selling All Tobacco Products http://nyti.ms/1pnkYlm\\n507017896308920322|Wed Sep 03 04:11:01 +0000 2014|A major study shows that avoiding carbohydrates and eating more fat helps with weight loss and cuts heart risks http://nyti.ms/1qkhhlA\\n507013855848202240|Wed Sep 03 03:54:57 +0000 2014|World Briefing: Britain: Charges Dropped Against Parents of Ill Child http://nyti.ms/1vLjeuN\\n507009515255250944|Wed Sep 03 03:37:42 +0000 2014|U.N. and Medical Group Make Appeals for Ebola Aid http://nyti.ms/1A3psUB\\n507009514290565120|Wed Sep 03 03:37:42 +0000 2014|Open Source: Video Shows Panic in Liberia as Man Wanders Out of Ebola Clinic http://nyti.ms/1A3utfK\\n507005576946413568|Wed Sep 03 03:22:03 +0000 2014|Grief at Staten Island School After Football Player Collapses and Dies http://nyti.ms/1vLjeuH\\n507005574064914432|Wed Sep 03 03:22:03 +0000 2014|U.S. Colleges Advised to Tighten Ebola Precautions http://nyti.ms/1A3psUz\\n507001187032633344|Wed Sep 03 03:04:37 +0000 2014|Bracing for New Challenges in Year 2 of Health Care Law http://nyti.ms/1vLjg5C\\n507001186122481664|Wed Sep 03 03:04:37 +0000 2014|Berkeley Pushes a Boundary on Medical Marijuana http://nyti.ms/1A3puf3\\n506976900158214144|Wed Sep 03 01:28:06 +0000 2014|Smaller military hospitals are said to put patients at risk http://nyti.ms/1CnRG0j\\n506957752858443776|Wed Sep 03 00:12:01 +0000 2014|Comparing military hospitals in the United States and overseas that provide inpatient services http://nyti.ms/1CnR0b2\\n506930611685044225|Tue Sep 02 22:24:10 +0000 2014|Try this simple dish with complex flavors (Photo: Andrew Scrivani for NYT) http://nyti.ms/1CmD01d http://pbs.twimg.com/media/BwiXRZsIgAA5ZVe.jpg\\n506918204699336704|Tue Sep 02 21:34:52 +0000 2014|RT @jimdao: DNA evidence helps exonerate two mentally disabled men in N.C. serving life for rape-murder of a girl 30 years ago  http://t.co…\\n506915981726605312|Tue Sep 02 21:26:02 +0000 2014|RT @anahadoconnor: What every parent should know about their children and their diets. by @cslnyt  http://www.nytimes.com/2014/09/02/health/childhood-diet-habits-set-in-infancy-studies-suggest.html?action=click&pgtype=Homepage&region=CColumn&module=MostEmailed&version=Full&src=me&WT.nav=MostEmailed&_r=0\\n506894383925714944|Tue Sep 02 20:00:13 +0000 2014|RT @bstrauch: A chilling video showing an Ebola patient trying to escape in Liberia.http://nyti.ms/1q83xe3\\n506885431565516800|Tue Sep 02 19:24:39 +0000 2014|Do you have questions about new research promoting the benefits of a low carb, higher fat diet? http://on.fb.me/1Cnoc2k\\n506874170467438592|Tue Sep 02 18:39:54 +0000 2014|Video: Ebola patient escapes overcrowded hospital in Monrovia and is chased through market. http://nyti.ms/1Cng6XI http://pbs.twimg.com/media/BwjHX08IQAAgmH7.png\\n506864180272848898|Tue Sep 02 18:00:12 +0000 2014|RT @cslnyt: Want your 6-yr-old to eat vegetables? Offer a variety by 10-12 months. http://nyti.ms/1q6QxFr @AmerAcadPeds\\n506828106465034240|Tue Sep 02 15:36:51 +0000 2014|RT @cslnyt: Infants fed green beans for 1st time squinted &amp; wrinkled their noses. But most ate seconds. http://1.usa.gov/1usTsYd\\n506828000797929474|Tue Sep 02 15:36:26 +0000 2014|RT @jimdao: Are there too many military hospitals to provide quality care to service members and their families? http://nyti.ms/1lFJXWk\\n506826439849934848|Tue Sep 02 15:30:14 +0000 2014|Get the little ones interested in fruits and veggies between 10 and 12 months for lasting benefits, researchers say. http://nyti.ms/1utm4Rg\\n506825904920997888|Tue Sep 02 15:28:06 +0000 2014|New research supports that low-carb is more important than low-fat when trying to lose weight. http://nyti.ms/1utle6V\\n506820464791257088|Tue Sep 02 15:06:29 +0000 2014|Study: African-Americans born at low birth weight are at an increased risk for Type 2 diabetes later in life http://nyti.ms/1CmCD6Q\\n506778525714878465|Tue Sep 02 12:19:50 +0000 2014|A major study shows that avoiding carbohydrates and eating more fat helps with weight loss and cuts heart risks http://nyti.ms/1qkhhlA\\n506671928569233408|Tue Sep 02 05:16:15 +0000 2014|Childhood Diet Habits Set in Infancy, Studies Suggest http://nyti.ms/1x3YBeM\\n506638692132597760|Tue Sep 02 03:04:11 +0000 2014|Military Medicine: Smaller Military Hospitals Said to Put Patients at Risk http://nyti.ms/1qW5WUY\\n506583086097002496|Mon Sep 01 23:23:14 +0000 2014|Paleontology: The Oldest Known Muscle Tissues Are Found http://nyti.ms/1r7oHZr\\n506583084754796544|Mon Sep 01 23:23:13 +0000 2014|Brainy, Yes, But Far From Handy http://nyti.ms/1ub7VZE\\n506579184211488768|Mon Sep 01 23:07:43 +0000 2014|Well: Of Little Help to Older Knees http://nyti.ms/1r7mnSb\\n506579182932217856|Mon Sep 01 23:07:43 +0000 2014|Well: A Benefit of Legal Marijuana http://nyti.ms/1ub5Ddg\\n506575369408110593|Mon Sep 01 22:52:34 +0000 2014|Well: Birth Weight and Diabetes http://nyti.ms/1ub0qSD\\n506571513659920384|Mon Sep 01 22:37:15 +0000 2014|Well: Possible Risks of S.S.R.I. Antidepressants to Newborns http://nyti.ms/1r7dXKE\\n506555596389486592|Mon Sep 01 21:34:00 +0000 2014|A Call for a Low-Carb Diet http://nyti.ms/1uaEXZX\\n506555595265024000|Mon Sep 01 21:33:59 +0000 2014|Reactions: Readers’ Thoughts on Spotless Minds and Big Weddings http://nyti.ms/1qjLdOF\\n506530985539014657|Mon Sep 01 19:56:12 +0000 2014|RT @paula_span: Reimbursing doctors for end of life discussions with patients. @PamBelluck explains growing trend. http://www.nytimes.com/2014/08/31/health/end-of-life-talks-may-finally-overcome-politics.html?smid=tw-share\\n506523277788184576|Mon Sep 01 19:25:34 +0000 2014|Parents Who Took Ill Son Abroad Fight Order to Return to Britain http://nyti.ms/1oyuYbt\\n506519465438511104|Mon Sep 01 19:10:25 +0000 2014|Books: Guiding a Husband and a Mother Through Alzheimer’s at the Same Time http://nyti.ms/1tUeErT\\n506519464280850435|Mon Sep 01 19:10:25 +0000 2014|Matter: Tiny, Vast Windows Into Human DNA http://nyti.ms/1oyuYbp\\n506512757278404608|Mon Sep 01 18:43:46 +0000 2014|Global Health: How Fighting in Pakistan Affects War Against Polio http://nyti.ms/1tUaxvQ\\n506481613996580865|Mon Sep 01 16:40:01 +0000 2014|Recipes for Health: Israeli Couscous, Eggplant and Tomato Gratin http://nyti.ms/1pjePXc\\n506477803030990848|Mon Sep 01 16:24:52 +0000 2014|Increasingly, High-Deductible Health Plans Weigh Down Employees http://nyti.ms/1pACzw5\\n506477801915305984|Mon Sep 01 16:24:52 +0000 2014|The New Health Care: What Happens When Health Plans Compete http://nyti.ms/1pjePGW\\n506298983904739328|Mon Sep 01 04:34:19 +0000 2014|Judge Blocks Abortion Law in Louisiana http://nyti.ms/1lsbSZz\\n506295145344819200|Mon Sep 01 04:19:03 +0000 2014|Well: Don’t Catch What Ails Your House http://nyti.ms/1lsb72s\\n506283262097240064|Mon Sep 01 03:31:50 +0000 2014|Cholesterol Drug Halves Heart Attack and Stroke in Early Test http://nyti.ms/Y4Fpy4\\n505846909379313665|Sat Aug 30 22:37:56 +0000 2014|End-of-Life Talks May Finally Overcome Politics http://nyti.ms/Z2MijL\\n505679007904710656|Sat Aug 30 11:30:45 +0000 2014|New Novartis Drug Shows Striking Efficacy in Treating Heart Failure http://nyti.ms/1rFOFFQ\\n505559212379099136|Sat Aug 30 03:34:43 +0000 2014|Federal Judge Approves California Plan to Reduce Isolation of Mentally Ill Inmates http://nyti.ms/1tLCvdh\\n505559211355701248|Sat Aug 30 03:34:43 +0000 2014|Judge Rejects Texas Stricture on Abortions http://nyti.ms/1qoUqnK\\n505559049350291456|Sat Aug 30 03:34:04 +0000 2014|Scientists have unlocked some secrets about how the brain attaches emotions to memories http://nyti.ms/1C3NsuB\\n505540915318894593|Sat Aug 30 02:22:01 +0000 2014|Five authors of a recent scientific paper on the spread of Ebola have themselves died of the infection http://nyti.ms/1u6OOir\\n505535921882542081|Sat Aug 30 02:02:10 +0000 2014|How a Brooklyn man tackled a lifelong fear and learned to swim http://nyti.ms/1u5gxQB (Photo: Jake Naughton/NYT) http://pbs.twimg.com/media/BwPOFl3IMAEXewO.jpg\\n505526668367519744|Sat Aug 30 01:25:24 +0000 2014|Leadership and Calm Are Urged in Outbreak http://nyti.ms/1qoGeLt\\n505517523421261824|Sat Aug 30 00:49:04 +0000 2014|Have some extra time to cook this weekend? Try some of these Eat Well recipes http://nyti.ms/1CaBrTW\\n505511347514523649|Sat Aug 30 00:24:32 +0000 2014|Medicare Will Settle Short-Term Care Bills http://nyti.ms/1CbmSjh\\n505511346524663809|Sat Aug 30 00:24:31 +0000 2014|Quarantine for Ebola Lifted in Liberia Slum http://nyti.ms/1vVqQIl\\n505498388280778754|Fri Aug 29 23:33:02 +0000 2014|A parasite capable of manipulating the mind — so much so that the hosts may put themselves at risk of death http://nyti.ms/1C6ME8c\\n505456873567301632|Fri Aug 29 20:48:04 +0000 2014|What you need to know about the Ebola outbreak http://nyti.ms/1os8oXu http://pbs.twimg.com/media/BwOjBZKIYAAkwRu.png\\n505447862881091584|Fri Aug 29 20:12:15 +0000 2014|As Ebola grips Liberia\\'s capital, a quarantine sows social chaos http://nyti.ms/1u61KoZ (Photo: Daniel Berehulak) http://pbs.twimg.com/media/BwOj2I6IgAAlhUt.jpg\\n505435514543943680|Fri Aug 29 19:23:11 +0000 2014|An ominous Ebola forecast requires an urgent infusion of aid from around the globe http://nyti.ms/1u610QL via @nytopinion\\n505426255911866368|Fri Aug 29 18:46:24 +0000 2014|The New Old Age Blog: Dizzying Times http://nyti.ms/1B1GLrj\\n505420376852410368|Fri Aug 29 18:23:02 +0000 2014|Well: Ask Well: The Problem with Bunions http://nyti.ms/1B1Bxfo\\n505416480486617088|Fri Aug 29 18:07:33 +0000 2014|Study Says ZMapp Works Against Ebola http://nyti.ms/1B1zeZF\\n505416479102476288|Fri Aug 29 18:07:33 +0000 2014|Well: Just Add Farro http://nyti.ms/1B1zgAP\\n505378722732838912|Fri Aug 29 15:37:31 +0000 2014|With Intensive Swim Lessons, a Man Attacks His Fear of Water http://nyti.ms/1ll12Eu\\n505210959137636353|Fri Aug 29 04:30:53 +0000 2014|Injected Drugs Said to Kill Man in Flawed Execution http://nyti.ms/VRFjbs\\n505207095244115968|Fri Aug 29 04:15:32 +0000 2014|Sam Kass, the Obamas’ Foodmaster General http://nyti.ms/YZeN1T\\n505207094237474816|Fri Aug 29 04:15:32 +0000 2014|Pennsylvania to Purchase Private Care for Its Poor http://nyti.ms/VRFjbq\\n505132708390268929|Thu Aug 28 23:19:57 +0000 2014|Dr. Khan, of Sierra Leone, was invited to spend the summer at Harvard, but he stayed to fight Ebola. He died at 39. http://pbs.twimg.com/media/BwKXhYQIYAAZWr1.png\\n505129215285805057|Thu Aug 28 23:06:04 +0000 2014|RT @heathertal: Five of the authors on a new Ebola study died from Ebola before it was published.  http://nyti.ms/1u1YoDk http://t.co/lP1jT…\\n505073728578150401|Thu Aug 28 19:25:35 +0000 2014|Well: Forming Attachments Near and Far http://nyti.ms/1qFQFLA\\n505067106552279040|Thu Aug 28 18:59:16 +0000 2014|In Liberia’s Capital, an Ebola Outbreak Like No Other http://nyti.ms/1qFI2AP\\n505060227373621248|Thu Aug 28 18:31:56 +0000 2014|Ebola Outbreak in Sierra Leone Is Tied to One Funeral http://nyti.ms/1qFuRQd\\n505056206030123008|Thu Aug 28 18:15:57 +0000 2014|Well: In Sickness and in Health http://nyti.ms/VQtsKT\\n505045776423473152|Thu Aug 28 17:34:31 +0000 2014|Abortion at sea. http://nyti.ms/1C6B1hy\\n505043784254902273|Thu Aug 28 17:26:36 +0000 2014|A parasite capable of manipulating the mind — so much so that the hosts may put themselves at risk of death.  http://nyti.ms/1C6ME8c\\n505042905120387072|Thu Aug 28 17:23:06 +0000 2014|BPA stopped mice from producing viable eggs at an abnormally young age. http://nyti.ms/1C6LSYO\\n505041367115247616|Thu Aug 28 17:16:59 +0000 2014|RT @bstrauch: Ebola outbreak still accelerating and could top 20,000.http://nyti.ms/1qMg2Ys\\n505037422544297984|Thu Aug 28 17:01:19 +0000 2014|Well: In Plastics and Cans, a Threat to Women http://nyti.ms/1vT25wk\\n505033498366070785|Thu Aug 28 16:45:43 +0000 2014|The New Old Age Blog: How to Complain to Medicare http://nyti.ms/1vT1rin\\n505031664993857537|Thu Aug 28 16:38:26 +0000 2014|A Japanese man fathered around a dozen babies through surrogates —born a few weeks apart. Why is not known. http://nyti.ms/1C6BtMO\\n505031290065006592|Thu Aug 28 16:36:57 +0000 2014|The surrogacy business in Thailand has provided a low-cost alternative to the United States. http://nyti.ms/1C6BtMO\\n505029195215675392|Thu Aug 28 16:28:37 +0000 2014|The Dawn of the Post-Clinic Abortion http://nyti.ms/1C6zQPf\\n505013046738432000|Thu Aug 28 15:24:27 +0000 2014|RT @nytDeniseGrady: Ebola out break still growing, Could Eventually Afflict Over 20,000. Now, Nigeria cases outside Lagos. Ominous.  http:/…\\n505013010499645440|Thu Aug 28 15:24:19 +0000 2014|RT @carlzimmer: Epigenetics are cool. Mind-controlling parasites are cool. Epigenetics+parasites=Very cool. My new @nytimes column: http://…\\n505012940962291712|Thu Aug 28 15:24:02 +0000 2014|RT @Jeffdelviscio: What if you could reach into your brain and adjust bad memories? http://buff.ly/1p92Prj http://pbs.twimg.com/media/BwIeAE6IUAAMcFK.jpg\\n505012818778017793|Thu Aug 28 15:23:33 +0000 2014|Matter: Parasites Practicing Mind Control http://nyti.ms/1vSY6Ql\\n505012730789908480|Thu Aug 28 15:23:12 +0000 2014|RT @jimdao: Affluent areas of Bronx, Queens now hot spots for heroin use as deaths from overdoses spike in NYC http://nyti.ms/1tNVOS7\\n504957477155520513|Thu Aug 28 11:43:38 +0000 2014|Ebola Could Eventually Afflict Over 20,000, W.H.O. Says http://nyti.ms/1zK0QQz\\n504857676145491968|Thu Aug 28 05:07:04 +0000 2014|Heroin’s Death Toll Rising in New York, Amid a Shift in Who Uses It http://nyti.ms/1wG1e6d\\n504850299237199872|Thu Aug 28 04:37:45 +0000 2014|Remaking Medicine: Expansion of Mental Health Care Hits Obstacles http://nyti.ms/1qj3kTB\\n504829039035826177|Thu Aug 28 03:13:16 +0000 2014|Using Light Technique, Scientists Find Dimmer Switch for Memories in Mice  http://nyti.ms/1C4ygxc\\n504828760554627072|Thu Aug 28 03:12:10 +0000 2014|A filmmaker explores how Alzheimer’s disease has revealed the strength of his parents’ marriage http://nyti.ms/1C3H1aU\\n504808612942729216|Thu Aug 28 01:52:06 +0000 2014|We fear alcohol’s bad effects too much, and those of food too little http://nyti.ms/1C3Ofvs via @nytopinion\\n504781179816402944|Thu Aug 28 00:03:06 +0000 2014|A group of soccer parents and players filed a lawsuit against FIFA over its handling of concussions http://nyti.ms/1C3FPEn\\n504770848075423744|Wed Aug 27 23:22:03 +0000 2014|Looking at twin personality through unrelated look-alikes http://nyti.ms/1C3HjOQ\\n504750472750981120|Wed Aug 27 22:01:05 +0000 2014|Scientists have unlocked some secrets about how the brain attaches emotions to memories http://nyti.ms/1C3NsuB\\n504738837982351360|Wed Aug 27 21:14:51 +0000 2014|RT @dacorc: Amazing pix of non-twin lookalikes (for a psychology study). http://nyti.ms/1mK8qEL\\n504715521544056832|Wed Aug 27 19:42:12 +0000 2014|The W.H.O. is urging stronger regulations of e-cigarettes (Photo: Nick Oxford for NYT) http://nyti.ms/1C2yNja http://pbs.twimg.com/media/BwDW_WgIQAArQJH.jpg\\n504647437001457664|Wed Aug 27 15:11:39 +0000 2014|RT @nytDeniseGrady: Hard to protect health workers: 3rd Doctor Dies From Ebola in Sierra Leone - http://abcn.ws/1mS6Dhd via @ABC\\n504647420995977217|Wed Aug 27 15:11:35 +0000 2014|RT @nytDeniseGrady: Ebola patient, a WHO staff member from Senegal, arrives in Germany for treatment  http://on.wsj.com/1vQ4h7H via @WSJ\\n504647272622465024|Wed Aug 27 15:11:00 +0000 2014|Concussion Lawsuit Bids to Force Rules Changes in Soccer http://nyti.ms/1opgJ8B\\n504644038080102400|Wed Aug 27 14:58:09 +0000 2014|RT @nytDeniseGrady: WHO bails, while Doctors Without Borders hangs in. WHO Moves Team in Sierra Leone When Medical Worker Contracts Ebola h…\\n504640545902583808|Wed Aug 27 14:44:16 +0000 2014|Well: A Tipping Point for Too Much Talent http://nyti.ms/1opei5X\\n504638525611188224|Wed Aug 27 14:36:14 +0000 2014|The couple that makes decisions together is more likely to stay together http://nyti.ms/1tQVeSJ\\n504481632871796737|Wed Aug 27 04:12:48 +0000 2014|Nonprofit Hospitals’ 2013 Revenue Lowest Since Recession, Report Says http://nyti.ms/XR5GjA\\n504477260175667200|Wed Aug 27 03:55:26 +0000 2014|Mervyn Susser, 92, Dies; Studied Illness and Society http://nyti.ms/1zC0WcT\\n504467349832212480|Wed Aug 27 03:16:03 +0000 2014|W.H.O. Removes Team From Sierra Leone After a Medical Worker Contracts Ebola http://nyti.ms/1zBS2MD\\n504456986688516097|Wed Aug 27 02:34:52 +0000 2014|World Health Organization Urges Stronger Regulation of Electronic Cigarettes http://nyti.ms/1zBIdOs\\n504456985480536064|Wed Aug 27 02:34:52 +0000 2014|Leader of Connecticut’s Health Marketplace Is Named to Run Federal Program http://nyti.ms/1zBIcKp\\n504363701722689536|Tue Aug 26 20:24:11 +0000 2014|How thoughtfully couples make decisions can have a lasting effect on the quality of their romantic relationships. http://nyti.ms/1tRKSC6\\n504360678942334977|Tue Aug 26 20:12:11 +0000 2014|Is there any nutritional difference between brown and white eggs? http://nyti.ms/1tRIiMx\\n504344875765350400|Tue Aug 26 19:09:23 +0000 2014|Dementia is weird. It’s not like memories get permanently erased; sometimes they are there, and sometimes not. http://nyti.ms/1tRur90\\n504323989247111168|Tue Aug 26 17:46:23 +0000 2014|Fighting Ebola, and the conspiracy theories http://nyti.ms/1BZmDYv\\n504308196518141952|Tue Aug 26 16:43:38 +0000 2014|The New Old Age Blog: Her Own Kind of Absence http://nyti.ms/1lcaWIv\\n504308194920112128|Tue Aug 26 16:43:37 +0000 2014|Liberian Leader Reported to Fire Officials for Defying Ebola Order http://nyti.ms/1tQWTI9\\n504298593533313024|Tue Aug 26 16:05:28 +0000 2014|Three approaches to beating the AIDS epidemic in South Africa http://nyti.ms/1tQNYX1\\n504236933594488832|Tue Aug 26 12:00:27 +0000 2014|Does looking like someone else translate into shared personality traits? Research suggests that it does not. http://nyti.ms/1olX7Ci\\n504206734064627712|Tue Aug 26 10:00:27 +0000 2014|How South Africa went from 250 to 23,000 nurses trained to prescribe antiretroviral drugs. http://nyti.ms/1pZweJC\\n504191634318577664|Tue Aug 26 09:00:27 +0000 2014|Mother-to-child AIDS transmissions have dropped by 90 percent in South Africa, largely thanks to one program. http://nyti.ms/1pZweJC\\n504176534505394176|Tue Aug 26 08:00:27 +0000 2014|Wedding size may have some bearing on the strength of a marriage. http://nyti.ms/1pZwVCL\\n504161434704826368|Tue Aug 26 07:00:27 +0000 2014|King Richard III quite enjoyed devouring swan, crane and heron with a side of wine. http://nyti.ms/1olYlgM\\n504157911585939456|Tue Aug 26 06:46:27 +0000 2014|RT @cslnyt: Don\\'t take Medicare star ratings of nursing homes at face value http://bit.ly/1tMDwjo @katie_thomas\\n504108082717138945|Tue Aug 26 03:28:27 +0000 2014|Most Americans don\\'t need to worry about their salt intake.  http://nyti.ms/1olY9y9\\n504102748951183360|Tue Aug 26 03:07:15 +0000 2014|Advertising: Estée Lauder to Weave Pink Ribbons Through the Internet http://nyti.ms/1BX4U3D\\n504097641761099776|Tue Aug 26 02:46:58 +0000 2014|Liberian Doctor Treated With an Experimental Drug Dies From Ebola http://nyti.ms/1om6FgI\\n504097640251158528|Tue Aug 26 02:46:57 +0000 2014|No Link Found for Deaths and Veterans’ Care Delays http://nyti.ms/1BX4TNp\\n504078386051178498|Tue Aug 26 01:30:27 +0000 2014|In the last few years, South Africa has \"managed a miracle,” according to AIDS researchers.  http://nyti.ms/1pZweJC\\n504066528414040064|Tue Aug 26 00:43:20 +0000 2014|A Marriage to Remember http://nyti.ms/1pZJf5S\\n504066527357059073|Tue Aug 26 00:43:19 +0000 2014|Op-Docs: ‘A Marriage to Remember’ http://nyti.ms/1om1EEW\\n504058378805862400|Tue Aug 26 00:10:57 +0000 2014|Q&amp;A: Don’t Judge Them by Their Shells http://nyti.ms/1nvqW3Y\\n504053833363116032|Mon Aug 25 23:52:53 +0000 2014|Looking at Twin Personality Through Look-alikes http://nyti.ms/1wtKsHr\\n504053831836401664|Mon Aug 25 23:52:53 +0000 2014|Disease Control: Fighting Ebola, and the Conspiracy Theories http://nyti.ms/1nvqUZJ\\n504049263207542786|Mon Aug 25 23:34:43 +0000 2014|Books: ‘Shocked’ and ‘Working Stiff’ Detail Careers Involving Corpses http://nyti.ms/1wtKv67\\n504049262234451968|Mon Aug 25 23:34:43 +0000 2014|Observatory: Richard III’s Rich Diet of Fish and Exotic Birds http://nyti.ms/1nvqUJt\\n504046742674108417|Mon Aug 25 23:24:42 +0000 2014|Do you have a decisive marriage? New research suggests that this is an important question.  http://nyti.ms/1pZwVCL\\n504045054986833920|Mon Aug 25 23:18:00 +0000 2014|These men are not related. http://nyti.ms/1olX7Ci http://pbs.twimg.com/media/Bv66TopIQAAIja1.jpg\\n504044520431173632|Mon Aug 25 23:15:53 +0000 2014|Technology Adviser Expected to Leave White House Post http://nyti.ms/1wtKsHn\\n504044519537799170|Mon Aug 25 23:15:52 +0000 2014|Clues in a Disease Spreader’s Reaction http://nyti.ms/1nvqUJp\\n504040178915483648|Mon Aug 25 22:58:37 +0000 2014|Three Approaches to Beating the AIDS Epidemic in South Africa http://nyti.ms/1wtKuPL\\n504040177401364480|Mon Aug 25 22:58:37 +0000 2014|Reactions: Drugs and Teens, Seafood on the Menu http://nyti.ms/1wtKsHt\\n504031251393966081|Mon Aug 25 22:23:09 +0000 2014|AIDS Progress in South Africa in Peril http://nyti.ms/1nvkUjT\\n504016793082802176|Mon Aug 25 21:25:42 +0000 2014|Well: The Decisive Marriage http://nyti.ms/1nvah0m\\n503985105367760896|Mon Aug 25 19:19:47 +0000 2014|Global Health: Premature Labor Drugs Underused, Study Says http://nyti.ms/1sqJ6a9\\n503985103929106433|Mon Aug 25 19:19:47 +0000 2014|The Scan: September Science Events: Beautiful Pathogens and Extreme Close-ups http://nyti.ms/1pYOtPs\\n503976652641415169|Mon Aug 25 18:46:12 +0000 2014|RT @nytDeniseGrady: In Liberia, a Child Thought to Have Ebola: heartbreaking images.  http://nyti.ms/1oYtGGr\\n503976537201606656|Mon Aug 25 18:45:44 +0000 2014|RT @nytDeniseGrady: Surviving Ebola, but Untouchable Back Home http://nyti.ms/1mfdKQo\\n503951914489618434|Mon Aug 25 17:07:54 +0000 2014|The New Old Age Blog: Four-Star Disappointments http://nyti.ms/1vfuhvM\\n503945191620091904|Mon Aug 25 16:41:11 +0000 2014|RT @sangerkatz: Too much salt is bad for you. So is too little. @aaronecarroll on why we should freak out less about sodium: http://t.co/lv…\\n503928478073638912|Mon Aug 25 15:34:46 +0000 2014|Recipes for Health: Cold Tomato Soup with Farro http://nyti.ms/1vfaU66\\n503758435318759424|Mon Aug 25 04:19:05 +0000 2014|Well: Healing Teenage Cancer’s Scars http://nyti.ms/1tv7vhj\\n503754174601760769|Mon Aug 25 04:02:09 +0000 2014|Is reliance on a white-noise machine for a good night’s sleep something to worry about? http://nyti.ms/1pIisuJ\\n503752402194149376|Mon Aug 25 03:55:06 +0000 2014|Chicago and 2 California Counties Sue Over Marketing of Painkillers http://nyti.ms/1l73yhC\\n503748091607265280|Mon Aug 25 03:37:58 +0000 2014|Medicare Star Ratings Allow Nursing Homes to Game the System http://nyti.ms/1smSEmm\\n503694297808384000|Mon Aug 25 00:04:13 +0000 2014|Documenting the Ebola epidemic in Liberia http://nyti.ms/1pHRD9W\\n503671155874476035|Sun Aug 24 22:32:15 +0000 2014|Can good design help heal the sick? http://nyti.ms/1tAF6EO\\n503666575954558976|Sun Aug 24 22:14:04 +0000 2014|Eat some fish this weekend. Research suggests that it will help your brain — as long as it’s not fried http://nyti.ms/1lijX37\\n503663142204084224|Sun Aug 24 22:00:25 +0000 2014|The “Ice Bucket Challenge”  has now raised more than $40 million for Lou Gehrig’s disease. http://nyti.ms/1loHhME\\n503648733590863874|Sun Aug 24 21:03:10 +0000 2014|The federal government has increased restrictions on prescription painkillers like Vicodin http://nyti.ms/1BLG7zF\\n503635916338892800|Sun Aug 24 20:12:14 +0000 2014|An insider\\'s guide to the rise of CrossFit (Photo: Devin Yalkin for NYT) http://nyti.ms/1pHUKPp http://pbs.twimg.com/media/BvrE6mvIYAAYuGT.jpg\\n503632942221246464|Sun Aug 24 20:00:25 +0000 2014|Weighing the pros and cons of screening for prostate cancer. http://nyti.ms/1loH7VC\\n503625392776028160|Sun Aug 24 19:30:25 +0000 2014|Surveys estimate that this many teenagers have tried marijuana at least once. Take the quiz! http://nyti.ms/1BH2oP0\\n503613228719427584|Sun Aug 24 18:42:05 +0000 2014|Not even the Food and Drug Administration knows if spray-on sunscreen is safe http://nyti.ms/1tzttxZ\\n503572544096837632|Sun Aug 24 16:00:25 +0000 2014|A look at why B.K.S. Iyengar was considered such a pioneer.  http://nyti.ms/1twaiWB\\n503563152609402882|Sun Aug 24 15:23:05 +0000 2014|A study suggests that brains of children with autism may be left with an oversupply of synapses http://nyti.ms/1BLArFQ\\n503543273843982336|Sun Aug 24 14:04:06 +0000 2014|Why more people, not fewer, could be getting health insurance at work http://nyti.ms/1tADNpm http://pbs.twimg.com/media/BvrEO_SIIAEXUGN.png\\n503542343346425856|Sun Aug 24 14:00:24 +0000 2014|RT @bstrauch: Is autism a problem, perhaps in part, of having too many brain connections?http://bit.ly/1loHtLS\\n503527924545253376|Sun Aug 24 13:03:06 +0000 2014|Breakfast may not be the most important meal of the day http://nyti.ms/1BGldBX\\n503527243508109312|Sun Aug 24 13:00:24 +0000 2014|When a man decides to be screened for prostate cancer, there’s a risk he will sustain harm. http://nyti.ms/1loHbET\\n503432366128631808|Sun Aug 24 06:43:24 +0000 2014|Childhood treatment with human growth hormone is strongly associated with an increased risk for stroke. http://nyti.ms/1tw9iC1\\n503273925183565825|Sat Aug 23 20:13:48 +0000 2014|If They Survive in Ebola Ward, They Work on http://nyti.ms/1oj7KG1\\n503262997650092032|Sat Aug 23 19:30:23 +0000 2014|The average ice bucket challenge gift size was $46.25, with the largest donation so far being a $100,000 check. http://nyti.ms/1loHhME\\n503250913960529920|Sat Aug 23 18:42:22 +0000 2014|RT @nytrosenthal: My kid\\'s 4 hr ER visit for stomach pain here begot a $42,000 bill, incl $12,000 CAT scan &amp; $9000 sono. Now I see why  htt…\\n503250841046761473|Sat Aug 23 18:42:05 +0000 2014|RT @MattWaldNYT: The #blood industry is hurting. http://nyti.ms/1mx3JhG\\n503250235725185025|Sat Aug 23 18:39:40 +0000 2014|How redesigning rooms caused patients to ask for 30 percent less pain medication. http://nyti.ms/1loGMCq\\n503249861199020032|Sat Aug 23 18:38:11 +0000 2014|Editorial: The Debate on Salty Foods, Continued http://nyti.ms/VJ2zbC\\n503249743288356864|Sat Aug 23 18:37:43 +0000 2014|Changes in medicine have eliminated the need for millions of blood transfusions. http://nyti.ms/1tw8FZf\\n503212666018865152|Sat Aug 23 16:10:23 +0000 2014|A study found that compared with those who skipped breakfast, those who ate a morning meal … take the weekly quiz. http://nyti.ms/1BH2oP0\\n503164849090998275|Sat Aug 23 13:00:23 +0000 2014|Before you grab that spray-on sunscreen today, here’s what you should know. http://nyti.ms/1tztLoH\\n503042232954679297|Sat Aug 23 04:53:09 +0000 2014|World Briefing: Ghana: Cholera Outbreak Kills Dozens http://nyti.ms/1v7z9TQ\\n503038332793016321|Sat Aug 23 04:37:39 +0000 2014|Two New Cases of Ebola Stem From Indirect Contact http://nyti.ms/1p2o5yW\\n503038331777990657|Sat Aug 23 04:37:38 +0000 2014|National Briefing | Northwest: Oregon: State Sues Over Health Website http://nyti.ms/1v7z7LF\\n503033774758969344|Sat Aug 23 04:19:32 +0000 2014|Blood Industry Shrinks as Transfusions Decline http://nyti.ms/1p2o6CS\\n503033773811060736|Sat Aug 23 04:19:32 +0000 2014|Administration Proposes New Health Rules Addressing Religious Objections http://nyti.ms/1v7z9TM\\n503032726153617408|Sat Aug 23 04:15:22 +0000 2014|CrossFit doesn’t just transform bodies, it changes the way people think of themselves. http://nyti.ms/1tztYrO\\n502934577560961024|Fri Aug 22 21:45:22 +0000 2014|Vegetarian taco night doesn’t have to mean beans and lettuce. http://nyti.ms/1tzpvFr\\n502930802611859457|Fri Aug 22 21:30:22 +0000 2014|RT @bstrauch: Can a better hospital room actually make you feel better?This is fascinating.http://nyti.ms/1p1GNXn\\n502851129198534656|Fri Aug 22 16:13:46 +0000 2014|Not even the Food and Drug Administration knows if spray-on sunscreen is safe. http://nyti.ms/1tzttxZ\\n502849547425828864|Fri Aug 22 16:07:29 +0000 2014|Well: Growth Hormone for Children May Increase Stroke Risk http://nyti.ms/1mv30xr\\n502849545622278144|Fri Aug 22 16:07:28 +0000 2014|Well: Vegetarian Taco Night http://nyti.ms/XFzSxU\\n502849260921311233|Fri Aug 22 16:06:20 +0000 2014|RT @bstrauch: What is Crossfit, anyhow?http://nyti.ms/1oXoeni\\n502848863078981632|Fri Aug 22 16:04:46 +0000 2014|Weekly consumption of fish was associated with larger gray matter in the brain, but not because of omega-3 content. http://nyti.ms/1lijX37\\n502847415792443392|Fri Aug 22 15:59:01 +0000 2014|Eat some fish this weekend. Research suggests that it will help your brain — as long as it’s not fried. http://nyti.ms/1lijX37\\n502833729648484352|Fri Aug 22 15:04:38 +0000 2014|A Private Good: The Teaching of Future Doctors Doesn’t Necessarily Deserve Your Tax Dollars http://nyti.ms/1muLglR\\n502711856096870401|Fri Aug 22 07:00:21 +0000 2014|The weekly health quiz: http://nyti.ms/1BH2oP0\\n502671458418831360|Fri Aug 22 04:19:49 +0000 2014|Well: Ask Well: Are Spray-On Sunscreens Safe? http://nyti.ms/1q3PAvR\\n502656135804223488|Fri Aug 22 03:18:56 +0000 2014|World Briefing: Congo: Illness Kills at Least 70 People http://nyti.ms/1qvmdA7\\n502649587849760770|Fri Aug 22 02:52:55 +0000 2014|Well Design: In Redesigned Room, Hospital Patients May Feel Better Already http://nyti.ms/1qvjgiW\\n502533241757511681|Thu Aug 21 19:10:36 +0000 2014|Have you been paying attention?  http://nyti.ms/1BH2oP0\\n502527762490720256|Thu Aug 21 18:48:49 +0000 2014|Two U.S. Ebola Patients Are Released by Atlanta Hospital http://nyti.ms/1wegoiX\\n502521074941046784|Thu Aug 21 18:22:15 +0000 2014|The medicalization of food deprives the dying of some of the last remnants of the human experience http://nyti.ms/1BGuji4\\n502517157096599552|Thu Aug 21 18:06:41 +0000 2014|RT @paula_span: Medicare Part D progress eroding: More seniors skip doses, delay refills, forgo basics like heat to afford drugs. http://t.…\\n502510647738114048|Thu Aug 21 17:40:49 +0000 2014|Brains of Autistic Children Have Too Many Synapses, Study Suggests http://nyti.ms/1pVcuGH\\n502506607503499264|Thu Aug 21 17:24:46 +0000 2014|Well: One Moment You See, Then You Don’t http://nyti.ms/1tptEwz\\n502491802960945154|Thu Aug 21 16:25:56 +0000 2014|The New Old Age Blog: Part D Gains May Be Eroding http://nyti.ms/1tpk5Oi\\n502491801430028288|Thu Aug 21 16:25:55 +0000 2014|D.E.A. Increases Restrictions on Prescription Painkillers Like Vicodin http://nyti.ms/1pUNiQE\\n502488849768251392|Thu Aug 21 16:14:12 +0000 2014|RT @WilliamJBroad: Now a Weed, Once a Prehistoric Cavity Fighter http://nyti.ms/1tbFtYb\\n502488820819169280|Thu Aug 21 16:14:05 +0000 2014|RT @UpshotNYT: Why more people, not fewer, could be getting health insurance at work. http://nyti.ms/1s3Yh8X http://pbs.twimg.com/media/BvkUt3-IEAEGrbB.png\\n502488636794081280|Thu Aug 21 16:13:21 +0000 2014|RT @cslnyt: \"Today is a miraculous day\" -- Dr. Kent Brantly, a Ebola patient at Emory, at their press conference http://bbc.in/YEg1zp\\n502308344112357377|Thu Aug 21 04:16:56 +0000 2014|Well: Is Breakfast Overrated? http://nyti.ms/1uZbtkn\\n502308343076376576|Thu Aug 21 04:16:56 +0000 2014|Well: Food and the Dying Patient http://nyti.ms/1z4aP2B\\n502296757385314305|Thu Aug 21 03:30:53 +0000 2014|World Briefing: More People Going to Switzerland for Assisted Suicide, Study Finds http://nyti.ms/1q1CcbE\\n502292354381131776|Thu Aug 21 03:13:24 +0000 2014|Nickel Allergies on Rise as Devices Meet Skin http://nyti.ms/1q1CcbC\\n502292352934100994|Thu Aug 21 03:13:23 +0000 2014|Clashes Erupt as Liberia Sets a Quarantine http://nyti.ms/1uYYr6B\\n502268410999615488|Thu Aug 21 01:38:15 +0000 2014|The panic and challenges doctors face in poor, densely populated urban areas  http://nyti.ms/1BE5FyB\\n502220708689510400|Wed Aug 20 22:28:42 +0000 2014|Well: What Is So Special About Iyengar Yoga? http://nyti.ms/1pPyT8q\\n502148368060399616|Wed Aug 20 17:41:15 +0000 2014|Well: Fish as Brain Food http://nyti.ms/1peRCKJ\\n502124965333073921|Wed Aug 20 16:08:15 +0000 2014|Well: Instant Noodles Tied to Heart Risk http://nyti.ms/1q0z3sw\\n502112516336779265|Wed Aug 20 15:18:47 +0000 2014|B.K.S. Iyengar, Who Helped Bring Yoga to West, Dies at 95 http://nyti.ms/1penE9V\\n502104304757800960|Wed Aug 20 14:46:09 +0000 2014|In his first visit to New York, Mr. Iyengar said he encountered racism but little interest in yoga. http://nyti.ms/1odr0Vq\\n502103101571342336|Wed Aug 20 14:41:22 +0000 2014|RT @sangerkatz: Was surprised by the HPV-related mortality stat in this @DrPaulOffit op-ed on vaccine: 4,000 deaths a year in US: http://t.…\\n502102700885278721|Wed Aug 20 14:39:47 +0000 2014|“Yoga saved my life,” B.K.S. Iyengar said in an interview in 2005. http://nyti.ms/1BBUGpb\\n502091713872404480|Wed Aug 20 13:56:07 +0000 2014|B.K.S. Iyengar, Who Helped Bring Yoga to West, Dies at 95 http://nyti.ms/1BBUGpb\\n501955074965270528|Wed Aug 20 04:53:10 +0000 2014|Is reliance on a white-noise machine for a good night’s sleep something to worry about? http://nyti.ms/1pIisuJ\\n501945793117683712|Wed Aug 20 04:16:17 +0000 2014|Well: Feeding Your Canine Athlete http://nyti.ms/1sTvGat\\n501945791129600000|Wed Aug 20 04:16:16 +0000 2014|In Liberia, a Child Thought to Have Ebola http://nyti.ms/1yYlpYU\\n501918315682344960|Wed Aug 20 02:27:06 +0000 2014|An insider\\'s guide to the rise of CrossFit (Photo: Devin Yalkin for NYT) http://nyti.ms/1pHUKPp http://pbs.twimg.com/media/BvawyYPIQAA7gC-.jpg\\n501907001073364992|Wed Aug 20 01:42:08 +0000 2014|It was costly, but strikingly easy to buy a kidney (Photo: Rina Castelnuovo for NYT) http://nyti.ms/1m8YqVr http://pbs.twimg.com/media/Bva0CGgIAAAv3tx.jpg\\n501885245353107456|Wed Aug 20 00:15:41 +0000 2014|Op-Ed Contributor: Let’s Not Talk About Sex http://nyti.ms/1qnWIR7\\n501850885551837185|Tue Aug 19 21:59:09 +0000 2014|Ebola Is ‘Disaster’ of Scale Still Unknown, Relief Official Says http://nyti.ms/1rUG7GC\\n501798373461344256|Tue Aug 19 18:30:29 +0000 2014|RT @cslnyt: New vaccine shows promise against chikungunya, a mosquito-borne virus that causes fever + joint pain http://nyti.ms/1oPsODZ\\n501798307870810113|Tue Aug 19 18:30:14 +0000 2014|RT @kchangnyt: On the NYT most emailed, right below my invisible fish story: \"Lots of Reasons to Eat Fish\" by Jane Brody http://t.co/YR7Ox3…\\n501798165025398784|Tue Aug 19 18:29:40 +0000 2014|RT @sangerkatz: A detailed look at how state vaccination levels connect with disease outbreaks: http://53eig.ht/1pYbbWK from @ProfEmilyOster…\\n501789875004530688|Tue Aug 19 17:56:43 +0000 2014|An adaptive climbing group lifts paraclimbers to higher goals (Photo: Jake Naughton/NYT) http://nyti.ms/1oaeiqq http://pbs.twimg.com/media/Bva3O2jIYAA9Qv9.jpg\\n501781528964517888|Tue Aug 19 17:23:33 +0000 2014|Well: Talking to Men About PSA Testing http://nyti.ms/1oa9yRw\\n501739158344564736|Tue Aug 19 14:35:11 +0000 2014|Documenting the Ebola epidemic in Liberia http://nyti.ms/1pHRD9W\\n501686811769716736|Tue Aug 19 11:07:11 +0000 2014|Ebola Death Toll in West Africa Tops 1,200 http://nyti.ms/1pXHMvD\\n501656591826165761|Tue Aug 19 09:07:06 +0000 2014|The New Old Age Blog: California Court Limits Caregiver Suits http://nyti.ms/1tcKM9R\\n501639771308191744|Tue Aug 19 08:00:16 +0000 2014|Pradaxa has been far from the boon everyone expected. http://nyti.ms/1o73tpd\\n501639771308167168|Tue Aug 19 08:00:16 +0000 2014|Thoughts from a “top dentist,” reflections on what fish are OK to eat and other letters from readers. http://nyti.ms/1o73Zn3\\n501594723552067584|Tue Aug 19 05:01:15 +0000 2014|Studies in New Zealand and Canada have found that marijuana use in the teenage years can result in lost I.Q. points. http://nyti.ms/1o72PYF\\n501592600202448896|Tue Aug 19 04:52:49 +0000 2014|Council Speaker, on Twitter, Says She Has Infection Linked to Cervical Cancer http://nyti.ms/1o845uw\\n501564272686948355|Tue Aug 19 03:00:15 +0000 2014|The American missionaries fighting Ebola are both on the mend. http://nyti.ms/1kP7gMD\\n501560113262780416|Tue Aug 19 02:43:44 +0000 2014|Adaptive Climbing Group Trains Amputees at Brooklyn Boulders http://nyti.ms/VAYBlj\\n501560111975129088|Tue Aug 19 02:43:43 +0000 2014|Daru Journal: Surviving Ebola, but Untouchable Back Home http://nyti.ms/1pCzlGZ\\n501558736625074176|Tue Aug 19 02:38:15 +0000 2014|RT @celiadugger: Drs @ Emory learning a lot about helping Ebola patients survive by treating 2 Americans,   http://nyti.ms/1vZl7F4\\n501518972874149888|Tue Aug 19 00:00:15 +0000 2014|It turns out that it’s not that difficult to find a broker who trades in human organs. http://nyti.ms/1kP5Ami\\n501503873010630657|Mon Aug 18 23:00:15 +0000 2014|As marijuana becomes legal in more states, what do you tell the kids? http://nyti.ms/1o72PYF\\n501496419812114433|Mon Aug 18 22:30:38 +0000 2014|Q&amp;A: White-Noise Nights http://nyti.ms/VAmBoF\\n501496418662883329|Mon Aug 18 22:30:38 +0000 2014|Observatory: Now a Weed, Once a Prehistoric Cavity Fighter http://nyti.ms/1pFYhxB\\n501492151344435201|Mon Aug 18 22:13:40 +0000 2014|Well: Weighing Pradaxa’s Risks http://nyti.ms/VAjwVw\\n501492150362968065|Mon Aug 18 22:13:40 +0000 2014|Reactions: Ebola, Nurses for Africa, Seafood Apps, a Doctor’s Honor http://nyti.ms/1pFVSmq\\n501487638751481856|Mon Aug 18 21:55:44 +0000 2014|Well: Legal Marijuana For Parents, But Not Their Kids http://nyti.ms/1pFVip0\\n501450772157313024|Mon Aug 18 19:29:15 +0000 2014|Many hospitals in Liberia have shut down because patients fear contracting Ebola at them. http://nyti.ms/1kP6yil\\n501441405408251904|Mon Aug 18 18:52:02 +0000 2014|People who are good at planning their financial future are more prone to take steps to improve their physical health. http://nyti.ms/1v2k6YO\\n501440545433321472|Mon Aug 18 18:48:37 +0000 2014|A relatively new Irish law allows for abortion in limited circumstances. http://nyti.ms/1kP90p6\\n501437499026444288|Mon Aug 18 18:36:30 +0000 2014|Two American missionaries are providing a rare opportunity to study Ebola with extensive testing.  http://nyti.ms/1kP7gMD\\n501434127665876993|Mon Aug 18 18:23:06 +0000 2014|\"Aside from the six-figure price tag, what was striking was just how easy it was for Ophira Dorin to buy a kidney. \"http://nyti.ms/1kP5Ami\\n501433698160746496|Mon Aug 18 18:21:24 +0000 2014|The first rule of CrossFit — always talk about CrossFit. http://nyti.ms/1kP5lrz\\n501422792240533505|Mon Aug 18 17:38:04 +0000 2014|Well: Struggling to the Finish: An Insider’s Guide to CrossFit http://nyti.ms/1qkcWuI\\n501418841306836993|Mon Aug 18 17:22:22 +0000 2014|RT @cslnyt: The two #Ebola patients at Emory offer a rare chance to study the virus http://nyti.ms/1t9fbpA @nytDeniseGrady @emoryhealthcare\\n501397329048797184|Mon Aug 18 15:56:53 +0000 2014|An alopecia drug that seems to help patients regrow hair. The results: http://nyti.ms/1o5QWlL http://pbs.twimg.com/media/BvVSNsgIgAAc0-3.png\\n501389115552960512|Mon Aug 18 15:24:15 +0000 2014|Chard and Sweet Corn Tacos  http://nyti.ms/1kOAo6O\\n501379046408986624|Mon Aug 18 14:44:14 +0000 2014|RT @_nicolaclark: WHO urges Ebola affected countries to conduct exit screening of all people at airports, seaports&amp;major land crossings htt…\\n501378158260944896|Mon Aug 18 14:40:42 +0000 2014|RT @rcallimachi: Need to buy a kidney? Head to Israel. On how Israeli brokers r delivering kidneys from S American donors to the ill http:/…\\n501377409082753024|Mon Aug 18 14:37:44 +0000 2014|RT @UpshotNYT: New research raises complicated questions about the value of an alternative to traditional Medicare. http://nyti.ms/1rifQq5\\n501377202135769089|Mon Aug 18 14:36:54 +0000 2014|RT @celiadugger: Like cholera, Ebola can cause severe, deadly diarrhea, @nytDeniseGrady repts. Replentishing fluids essential. http://t.co/…\\n501370354515070976|Mon Aug 18 14:09:42 +0000 2014|RT @tminsberg: The ‘Ice Bucket Challenge’ has raised $13.3 million for the ALS Association http://nyti.ms/1kOfhS9\\n501363225406226432|Mon Aug 18 13:41:22 +0000 2014|What you need to know about the Ebola outbreak http://nyti.ms/1os8oXu http://pbs.twimg.com/media/BvUzMjaIIAAmEyx.png\\n501248132605153280|Mon Aug 18 06:04:02 +0000 2014|Israel has an irrepressible underground kidney market http://nyti.ms/1m8YqVr\\n501221820021096448|Mon Aug 18 04:19:28 +0000 2014|Well: Picking Apart Objections to Eating Fish http://nyti.ms/YmZBLq\\n501221819006074880|Mon Aug 18 04:19:28 +0000 2014|‘Ice Bucket Challenge’ Has Raised Millions for ALS Association http://nyti.ms/Vyc4tY\\n501217859293687808|Mon Aug 18 04:03:44 +0000 2014|Case in Which Abortion Was Denied Reignites Controversy Over Irish Law http://nyti.ms/YmXasx\\n501212439241707523|Mon Aug 18 03:42:12 +0000 2014|Every doctor’s expertise is earned on patients, but unfortunately, there is a learning curve http://nyti.ms/1mVFTvS\\n501193681035337729|Mon Aug 18 02:27:39 +0000 2014|Treatment in U.S. Is Rare Chance to Study Ebola http://nyti.ms/1pVj3YY\\n501174704317538305|Mon Aug 18 01:12:15 +0000 2014|A clash of religion and bioethics complicates organ donation in Israel http://nyti.ms/1m8ZuIN http://pbs.twimg.com/media/BvQnmRoIgAEQbx2.png\\n501159856217141248|Mon Aug 18 00:13:15 +0000 2014|How some modern technologies may help in the fight to contain the Ebola virus http://nyti.ms/1mVGAFq\\n501131891005603840|Sun Aug 17 22:22:08 +0000 2014|Regular exercise may alter how a person experiences pain, according to a new study http://nyti.ms/1mVHrGf\\n501126057660284928|Sun Aug 17 21:58:57 +0000 2014|Contributing Op-Ed Writer: My Life in Bicycles http://nyti.ms/1kMymE4\\n501114250018840576|Sun Aug 17 21:12:02 +0000 2014|If you\\'re basking in the sun today, you may be helping ward off Alzheimer’s http://nyti.ms/1mVEpSf\\n501113055808593920|Sun Aug 17 21:07:17 +0000 2014|New, Larger Ebola Center Opens in Liberia http://nyti.ms/1kMrIOd\\n501077051034435584|Sun Aug 17 18:44:13 +0000 2014|It was costly, but strikingly easy to buy a kidney http://nyti.ms/1m8YqVr http://pbs.twimg.com/media/BvQmr0XIUAA6eo3.jpg\\n501066729770864640|Sun Aug 17 18:03:12 +0000 2014|The rise of beefcake yoga (Photo: Amy Lombard for NYT) http://nyti.ms/1mVIAO4 http://pbs.twimg.com/media/BvMz-EwIMAAlqyk.jpg\\n501052710540824576|Sun Aug 17 17:07:29 +0000 2014|Alopecia Patients in Study Grow Hair With New Drug http://nyti.ms/1vY161L\\n501041307251253248|Sun Aug 17 16:22:11 +0000 2014|How widespread is the sexual harassment of women in science? http://nyti.ms/1ost2H1\\n501026168603021312|Sun Aug 17 15:22:01 +0000 2014|You asked, we answered: What\\'s the best way to use a heart rate monitor to get fit? http://nyti.ms/1mVFutb\\n501013601344184321|Sun Aug 17 14:32:05 +0000 2014|What you need to know about the Ebola outbreak http://nyti.ms/1os8oXu http://pbs.twimg.com/media/BvMxDl1IEAAYnkq.png\\n500991231896190976|Sun Aug 17 13:03:12 +0000 2014|We need a more balanced sense of why exercise and athletics matter http://nyti.ms/1mVGrSu via @nytopinion\\n500824384207335424|Sun Aug 17 02:00:12 +0000 2014|About to brush your teeth, but unsure if it\\'s the best way? You are not alone.  http://nyti.ms/1nZShdG\\n500779084688154626|Sat Aug 16 23:00:12 +0000 2014|Have a pressing health question? Submit yours here and vote on what should be answered next. http://nyti.ms/XJOGLI\\n500748885120544769|Sat Aug 16 21:00:12 +0000 2014|Since the outbreak started, many rumored cures have swept West Africa -- including “blessed Ebola cure salt.” http://nyti.ms/1t5dGsl\\n500734082536701953|Sat Aug 16 20:01:23 +0000 2014|Opinion: Cancer and the Secrets of Your Genes http://nyti.ms/1sLU3Hl\\n500733785215094784|Sat Aug 16 20:00:12 +0000 2014|Catching up on Ebola news? This is where you\\'ll find all our coverage: http://nyti.ms/1nZRWaW\\n500730101336915968|Sat Aug 16 19:45:33 +0000 2014|Medicare to Start Paying Doctors Who Coordinate Needs of Chronically Ill Patients  http://nyti.ms/1oR8271\\n500730100107972608|Sat Aug 16 19:45:33 +0000 2014|With Aid Doctors Gone, Ebola Fight Grows Harder http://nyti.ms/1sLU3Hh\\n500726235354632192|Sat Aug 16 19:30:12 +0000 2014|Disappointed by your running group? You are not alone.  http://nyti.ms/1nZSTjD\\n500696036613292032|Sat Aug 16 17:30:12 +0000 2014|Video: How technology can help fight Ebola. http://nyti.ms/1uFxKn9\\n500692260565319681|Sat Aug 16 17:15:11 +0000 2014|As you\\'re basking in the sun this weekend, you may be helping ward off Alzheimer’s  and other forms of dementia. http://nyti.ms/1oxkBKm\\n500689451103031296|Sat Aug 16 17:04:02 +0000 2014|RT @paula_span: A rehab program for drug &amp; alcohol abuse -- in a nursing home. Addicted seniors need treatment too. http://newoldage.blogs.nytimes.com/2014/08/15/the-addict-down-the-hall/\\n500688362546946048|Sat Aug 16 16:59:42 +0000 2014|Not sure what to make for that dinner party tonight? Try this. http://nyti.ms/1nZTLVk http://pbs.twimg.com/media/BvLNaaYIgAAd9vn.png\\n500681865204731904|Sat Aug 16 16:33:53 +0000 2014|RT @celiadugger: Nigeria, at Africa\\'s crossroads, in crash effort to wipe out Ebola before it gets out of control in slums of Lagos. http:/…\\n500681560216305664|Sat Aug 16 16:32:40 +0000 2014|RT @cslnyt: New Vaccine Shows Promise Against Mosquito-Borne Virus chikungunya  http://www.nytimes.com/2014/08/19/science/new-vaccine-shows-promise-against-mosquito-borne-virus.html?smid=nytcore-iphone-share&smprod=nytcore-iphone\\n500681381119156225|Sat Aug 16 16:31:58 +0000 2014|The C.D.C. says “moon suits” for Ebola are not necessary. http://nyti.ms/1uFw8K9\\n500666487476998145|Sat Aug 16 15:32:47 +0000 2014|Bogus Ebola cures cause confusion. http://nyti.ms/1t5dGsl\\n500643386970615809|Sat Aug 16 14:00:59 +0000 2014|Applied Science: Your 401(k) Is Healthy. So Maybe You Are, Too. http://nyti.ms/YgWfK4\\n500643385301270528|Sat Aug 16 14:00:59 +0000 2014|Three Liberian Health Workers Get Experimental Ebola Drug http://nyti.ms/1mUfAGf\\n500631861711110145|Sat Aug 16 13:15:11 +0000 2014|Too busy to workout. Let’s not forget about the scientific 7 minute workout. http://nyti.ms/YI2yFv\\n500496301340233728|Sat Aug 16 04:16:31 +0000 2014|Agencies Issue Warnings Over Bogus Ebola Cures http://nyti.ms/1yHBfHj\\n500491787845500929|Sat Aug 16 03:58:35 +0000 2014|Global Update: New Vaccine Shows Promise Against Mosquito-Borne Virus http://nyti.ms/1oXE0nh\\n500491786935369728|Sat Aug 16 03:58:35 +0000 2014|briefing: Drug Is Approved as Treatment for Cervical Cancer http://nyti.ms/1yHCYfS\\n500487985113366528|Sat Aug 16 03:43:28 +0000 2014|Hospitals in the U.S. Get Ready for Ebola http://nyti.ms/1oXCwtc\\n500487984249339904|Sat Aug 16 03:43:28 +0000 2014|With Ebola Cases Still Few, Populous Nigeria Has Chance to Halt Its Outbreak http://nyti.ms/1oXCwJq\\n500458289222938624|Sat Aug 16 01:45:28 +0000 2014|Op-Ed Contributor: Depression Can Be Treated, but It Takes Competence http://nyti.ms/1pyyVlg\\n500393558717648897|Fri Aug 15 21:28:15 +0000 2014|If you needed a kidney would you break the law to get one? Coming Sunday from @ksacknyt in @nytimes. #organtrafficking\\n500386403596140547|Fri Aug 15 20:59:50 +0000 2014|“If we don’t stabilize Liberia, we will never stabilize the whole region,” one doctor warned. http://nyti.ms/1oBxKCj\\n500386039044001793|Fri Aug 15 20:58:23 +0000 2014|Athletes from some west African countries faced with Ebola have been banned from competing in the Youth Olympics. http://reut.rs/1oBxzXC\\n500360510538534912|Fri Aug 15 19:16:56 +0000 2014|Contractors Faulted as Medicare Fraud Foils Enforcers http://nyti.ms/1nX3sEe\\n500360508667863040|Fri Aug 15 19:16:56 +0000 2014|Ebola Epidemic Most Likely Much Larger Than Reported, W.H.O. Says http://nyti.ms/1l91whp\\n500348039257919489|Fri Aug 15 18:27:23 +0000 2014|RT @sangerkatz: Great, frustrating story on why Medicare struggles to stop fraud, from @ReedAbelson and @EricLichtblau http://t.co/ux3juGKA…\\n500332683743227904|Fri Aug 15 17:26:22 +0000 2014|RT @ksacknyt: Black market or free market? Should organ sales be legalized? Would it end the kidney shortage? Coming Sun. in @nytimes. #org…\\n500327783235878913|Fri Aug 15 17:06:53 +0000 2014|The New Old Age Blog: The Addict Down the Hall http://nyti.ms/1nWImFZ\\n500320612762787840|Fri Aug 15 16:38:24 +0000 2014|Well: Cool Summer Fish http://nyti.ms/1pxkaz8\\n500301823358803968|Fri Aug 15 15:23:44 +0000 2014|RT @jimgorman: Must-read if you follow epigenetics. Society: Don\\'t blame the mothers http://www.nature.com/news/society-don-t-blame-the-mothers-1.15693\\n500294567305158657|Fri Aug 15 14:54:54 +0000 2014|ArtsBeat: Robin Williams Had Parkinson’s Disease, His Widow Says http://nyti.ms/1rdp9Yt\\n500294566206255104|Fri Aug 15 14:54:54 +0000 2014|Well: Best Way to Brush Your Teeth? Experts Disagree http://nyti.ms/1yEXuxu\\n500291032165404673|Fri Aug 15 14:40:51 +0000 2014|How does Parkinson’s disease — which Robin Williams had -- affect the body and family? Some patients voices.  http://nyti.ms/1nWj9eB\\n500290491368611840|Fri Aug 15 14:38:42 +0000 2014|Robin Williams Had Parkinson’s Disease, His Widow Says http://nyti.ms/1nWiE4r\\n500290199646388225|Fri Aug 15 14:37:33 +0000 2014|RT @cslnyt: Gorgeous essay abt daughter and her father, who has Alzheimer\\'s http://nyti.ms/1uX2Zrc @RebeccaRotert\\n500230159799447552|Fri Aug 15 10:38:58 +0000 2014|Well: Ask Well: How Do You Use a Heart Rate Monitor? http://nyti.ms/1qbQUu2\\n500111087371837440|Fri Aug 15 02:45:49 +0000 2014|Pharmacies Turn Drugs Into Profits, Pitting Insurers vs. Compounders http://nyti.ms/1pvGQ2D\\n500010102246895617|Thu Aug 14 20:04:32 +0000 2014|RT @paula_span: What really prevents suicide? A good round-up (inc. the \"British coal-gas story\") from @NYTmag http://www.nytimes.com/2008/07/06/magazine/06suicide-t.html?pagewanted=all\\n500009997128826880|Thu Aug 14 20:04:07 +0000 2014|RT @celiadugger: Starbucks changes worker scheduling in response to Kantor story about how policies devastated a single mom\\'s life. http://…\\n500009919253581825|Thu Aug 14 20:03:49 +0000 2014|RT @sangerkatz: .@CDCgov study says soda drinking in South may be higher because there is more advertising of sugary drinks there. http://t…\\n499971248060125184|Thu Aug 14 17:30:09 +0000 2014|Low vitamin D is associated with an increased risk for Alzheimer’s disease and other forms of dementia,  http://nyti.ms/1oxkBKm\\n499938287055024128|Thu Aug 14 15:19:10 +0000 2014|Well: Vitamin D Tied to Alzheimer’s Risk http://nyti.ms/1vN02xC\\n499933744619606016|Thu Aug 14 15:01:07 +0000 2014|That morning coffee buzz may help reduce a buzz of another sort. http://nyti.ms/1oxfeLl\\n499932355323498496|Thu Aug 14 14:55:36 +0000 2014|RT @paula_span: Nursing homes without nurses? RNs required only 8 hrs a day. Proposed legislation would require them 24/7. http://t.co/QFKw…\\n499932175870197760|Thu Aug 14 14:54:53 +0000 2014|Mental illness is not a communicable disease, but there’s a strong body of evidence that suicide is contagious.  http://nyti.ms/1oxep5j\\n499931720561733634|Thu Aug 14 14:53:05 +0000 2014|RT @celiadugger: Sierra Leone loses yet another precious dr to Ebola as Liberia uses experimental drug to treat one if its own. http://t.co…\\n499930537302446083|Thu Aug 14 14:48:23 +0000 2014|In cased you missed @nytopinion on the health effects of marijuana. http://nyti.ms/Xsgq7g and trippy timeline http://nyti.ms/Xsgq7g\\n499870493089210368|Thu Aug 14 10:49:47 +0000 2014|Well: The Downside of Running With Others http://nyti.ms/VmgrIE\\n499784394681233408|Thu Aug 14 05:07:39 +0000 2014|Business Briefing: The F.D.A. Approves a Pill to Help People Stay Asleep http://nyti.ms/1uRlmhi\\n499780496638107648|Thu Aug 14 04:52:10 +0000 2014|Mary MacCracken, Who Wrote About Disabilities, Dies at 88 http://nyti.ms/1ptjKJW\\n499780493593018368|Thu Aug 14 04:52:09 +0000 2014|As Ebola’s Toll Rises, Drug Makers Race to Test Medicines http://nyti.ms/1ptjKJU\\n499776108183973889|Thu Aug 14 04:34:44 +0000 2014|Sierra Leone Again Loses a Top Doctor to Ebola http://nyti.ms/1uRhdtH\\n499776107064090624|Thu Aug 14 04:34:43 +0000 2014|Well: Practicing on Patients http://nyti.ms/1uRhdK0\\n499760105559056386|Thu Aug 14 03:31:08 +0000 2014|Your question answered: Does yoga build strength? http://nyti.ms/1osnY5r\\n499740214944735232|Thu Aug 14 02:12:06 +0000 2014|Study: Regular exercise may alter how a person experiences pain http://nyti.ms/1ouAGRc\\n499639556837478400|Wed Aug 13 19:32:07 +0000 2014|More pain, more gain … and less pain later. http://nyti.ms/1nPk5S0\\n499601793630756866|Wed Aug 13 17:02:04 +0000 2014|An easy, delicate fish carpaccio (Photo: Andrew Scrivani for NYT) http://nyti.ms/1ouH1vL http://pbs.twimg.com/media/Bu7kJppIEAAZcaV.jpg\\n499596032939143169|Wed Aug 13 16:39:10 +0000 2014|Well: Caffeine May Reduce Tinnitus Risk http://nyti.ms/1r9kyGN\\n499593753653682176|Wed Aug 13 16:30:07 +0000 2014|Nursing homes are missing a critical element: nurses. http://nyti.ms/1ouCPfu\\n499592160317276160|Wed Aug 13 16:23:47 +0000 2014|This is what a 3-d brain made from silk and collagen gel looks like.  http://nyti.ms/1nPsTY6 http://pbs.twimg.com/media/Bu7obDRIAAA3G12.png\\n499578423816495105|Wed Aug 13 15:29:12 +0000 2014|The New Old Age Blog: Where Are the Nurses? http://nyti.ms/1r98Uf0\\n499575233956032512|Wed Aug 13 15:16:32 +0000 2014|Regular exercise may alter how a person experiences pain, according to a new study. http://nyti.ms/1ouAGRc\\n499571346050121729|Wed Aug 13 15:01:05 +0000 2014|RT @celiadugger: MSF &amp;  WHO team decided not to give experimental drug to dr leading effort in Sierra Leone who died days later. http://t.c…\\n499571240903135233|Wed Aug 13 15:00:40 +0000 2014|RT @bcsolomon: I am doing an AMA interview for @reddit about covering the #EbolaOutbreak here in #SierraLeone tomorrow at 1 p.m. eastern ti…\\n499569064382304256|Wed Aug 13 14:52:01 +0000 2014|A very few neurons may turn appetite on and off http://nyti.ms/1ouxaGm\\n499418158303019008|Wed Aug 13 04:52:22 +0000 2014|Well: How Exercise Helps Us Tolerate Pain http://nyti.ms/1sTTQjy\\n499418157061529600|Wed Aug 13 04:52:22 +0000 2014|World Briefing: Mexico: Mining Spill Pollutes River http://nyti.ms/1sWWTXl\\n499413668652908544|Wed Aug 13 04:34:31 +0000 2014|Busy Working, Robin Williams Fought Demons http://nyti.ms/1sWWTXj\\n499413667684057091|Wed Aug 13 04:34:31 +0000 2014|Over 300,000 Must Prove Eligibility or Lose Health Care http://nyti.ms/1sWWSTg\\n499389544559828992|Wed Aug 13 02:58:40 +0000 2014|Opting Against Ebola Drug for Ill African Doctor  http://nyti.ms/XgiijO\\n499389542982778881|Wed Aug 13 02:58:39 +0000 2014|Using a Tactic Unseen in a Century, Countries Cordon Off Ebola-Racked Areas http://nyti.ms/1sWHHtt\\n499385910534742017|Wed Aug 13 02:44:13 +0000 2014|What you need to know about the Ebola outbreak http://nyti.ms/1os8oXu http://pbs.twimg.com/media/Bu2xZjcIQAAQuN2.png\\n499378349815250944|Wed Aug 13 02:14:11 +0000 2014|How widespread is the sexual harassment of women in science? http://nyti.ms/1ost2H1\\n499354919162236928|Wed Aug 13 00:41:04 +0000 2014|The absence of a gene may help fight Alzheimer’s http://nyti.ms/1osodNN\\n499338120891207680|Tue Aug 12 23:34:19 +0000 2014|Op-Ed Contributors: Perpetuating Schizophrenia’s Stigma http://nyti.ms/1szRrMA\\n499330012017741824|Tue Aug 12 23:02:06 +0000 2014|Cook a peck of peppers (Photo: Andrew Scrivani for NYT) http://nyti.ms/1osp3do http://pbs.twimg.com/media/Bu2ycIkIAAAvBEL.jpg\\n499314408137691136|Tue Aug 12 22:00:06 +0000 2014|A man with a rare genetic condition could be the key to solving the Alzheimer’s riddle. http://nyti.ms/1kXwbOD\\n499305525650415616|Tue Aug 12 21:24:48 +0000 2014|RT @nytDeniseGrady: A Witness to Ebola’s Discovery: the electron micrograph \"raised the hair on the back of my neck.\"  http://t.co/HlPwGwWn…\\n499292274727976961|Tue Aug 12 20:32:09 +0000 2014|Medicaid rolls are growing even in states that rejected federal funds http://nyti.ms/1osrOeU\\n499291370360938497|Tue Aug 12 20:28:33 +0000 2014|Well: A New Surgery Risk http://nyti.ms/1sOQyMH\\n499275880343277569|Tue Aug 12 19:27:00 +0000 2014|RT @cslnyt: This fall, Botswana’s new school of medicine will graduate its 1st class of 36 docs. http://nyti.ms/1sOAIBT\\n499272325502881792|Tue Aug 12 19:12:53 +0000 2014|RT @nytDeniseGrady: World Health Organization Endorses Use of Experimental Ebola Drugs. But who will get them if not enough to go around? h…\\n499270121974923265|Tue Aug 12 19:04:07 +0000 2014|RT @celiadugger: WHO endorses experimental Ebola treatments, but there\\'s no more of the drug used so far, says its maker. http://t.co/E3Jy0…\\n499265097475571712|Tue Aug 12 18:44:09 +0000 2014|RT @nytDeniseGrady: Families wiped out by Ebola: At Heart of Ebola Outbreak, a Village Frozen by Fear and Death http://nyti.ms/1oFvbsX\\n499249263134523392|Tue Aug 12 17:41:14 +0000 2014|What you need to know about the Ebola outbreak http://nyti.ms/1os8oXu http://pbs.twimg.com/media/Bu2XV_dIQAEuvHR.png\\n499237234592468993|Tue Aug 12 16:53:26 +0000 2014|RT @ginakolata: Wrote a very short essay-like book for the Times. How to avoid making mistakes with your health https://itunes.apple.com/us/book/smart-patient-mistakes-we/id907200112?mt=11\\n499223447248314369|Tue Aug 12 15:58:39 +0000 2014|Recipes for Health: Cold Steamed Petrale Sole with Uncooked Tomato Sauce http://nyti.ms/1pMwBpv\\n499219500030763009|Tue Aug 12 15:42:58 +0000 2014|Robin Williams’ suicide was influenced by his mental illness, but his comedic genius was not, argues @sbkaufman  http://bit.ly/1uKIfTn\\n499213982121865217|Tue Aug 12 15:21:02 +0000 2014|RT @jonathanweisman: Adam Nossiter is nuts but his bravery &amp; willingness to travel into the heart of the Ebola epidemic enriches us all htt…\\n499210621746151424|Tue Aug 12 15:07:41 +0000 2014|RT @paula_span: Maybe a transitions coach can help keep older people from bouncing back into hospitals.  http://newoldage.blogs.nytimes.com/2014/08/11/clearing-the-path-home/\\n499208808942821377|Tue Aug 12 15:00:29 +0000 2014|RT @PamBelluck: Scientists Create a 3-D Model That Mimics Brain Function http://nyti.ms/1oEoD2I\\n499208376006762496|Tue Aug 12 14:58:46 +0000 2014|RT @bcsolomon: Back in #Freetown #SierraLeone 4 a few days. Most bars and restaurants are shut. Many of the western organizations have left…\\n499205723994460161|Tue Aug 12 14:48:14 +0000 2014|RT @jswatz: vivid on-the-ground Ebola reporting by Adam Nossiter: \"There are still people here, but the village appears frozen.\" http://t.c…\\n499205630327259136|Tue Aug 12 14:47:51 +0000 2014|RT @nytrosenthal: Love this, from @nytimeswell on doctor and hospital rating systems! One \"top doc\" was dead for 16 yrs. http://t.co/7pNV7W…\\n499040645877858304|Tue Aug 12 03:52:16 +0000 2014|Giants Join Ice Bucket Challenge to Raise Awareness for A.L.S. http://nyti.ms/1ypxciJ\\n499040644606992384|Tue Aug 12 03:52:16 +0000 2014|At Heart of Ebola Outbreak, a Village Frozen by Fear and Death http://nyti.ms/1r6hknm\\n498963007670870016|Mon Aug 11 22:43:45 +0000 2014|Hard Cases: Top Doctors, Dead or Alive http://nyti.ms/1B9VJfO\\n498952391426072578|Mon Aug 11 22:01:34 +0000 2014|Global Health: Africa, With U.S. Help, Graduates More Doctors http://nyti.ms/1oqdMKx\\n498948643224051712|Mon Aug 11 21:46:41 +0000 2014|RT @rickgladstone: In test case of ISIS willingness to allow child vaccinations, @UNICEF and WHO start a new polio campaign in Iraq. http:/…\\n498947755621236736|Mon Aug 11 21:43:09 +0000 2014|Reactions: A Pat on the Bacteria, Hubble Led the Way, Larger Than Life http://nyti.ms/1pLu0w6\\n498945687212785664|Mon Aug 11 21:34:56 +0000 2014|Don’t read this if you are on vacation. Instead, sign off now. http://nyti.ms/1B6Kwgb?\\n498942829822222337|Mon Aug 11 21:23:35 +0000 2014|Well: Absence of Gene May Help Fight Alzheimer’s, Study Finds http://nyti.ms/1pLsOZC\\n498939063815397377|Mon Aug 11 21:08:37 +0000 2014|RT @nytimesscience: Scientists Create 3D Model That Mimics Brain Function http://nyti.ms/1oEpuvp\\n498939002561789952|Mon Aug 11 21:08:22 +0000 2014|RT @carlzimmer: I offered a few thoughts on Ebola for @NYTNow http://www.nytimes.com/2014/08/11/us/your-evening-briefing.html\\n498923783231926273|Mon Aug 11 20:07:54 +0000 2014|Well: New Concerns About an Old Heart Drug http://nyti.ms/1yoj6ye\\n498911369442635776|Mon Aug 11 19:18:34 +0000 2014|Amid Iraq’s Chaos, a New Polio Vaccination Campaign http://nyti.ms/1sOzoRn\\n498910126649401344|Mon Aug 11 19:13:38 +0000 2014|Is farmed salmon really so bad? An exploration of fishy shopping quandaries: http://nyti.ms/1nJdQiz\\n498890498304933888|Mon Aug 11 17:55:38 +0000 2014|The New Old Age Blog: Clearing the Path Home http://nyti.ms/1sOjPcl\\n498884065370845184|Mon Aug 11 17:30:04 +0000 2014|MT @sangerkatz: There\\'s no treatment or vaccine for Guinea worm. But worldwide eradication close. http://nyti.ms/XWX76p\\n498876848018034688|Mon Aug 11 17:01:23 +0000 2014|Recipes for Health: Cold Poached Pacific Cod with Spices http://nyti.ms/1kWQ4Fo\\n498872291506520064|Mon Aug 11 16:43:17 +0000 2014|Well: Statins Don’t Require Routine Liver Tests http://nyti.ms/1kWOjIi\\n498872290395037696|Mon Aug 11 16:43:17 +0000 2014|Well: Aspirin May Cut Cancer Risk http://nyti.ms/1rizhdN\\n498854155642220544|Mon Aug 11 15:31:13 +0000 2014|RT @UpshotNYT: What we can learn from the low-tech defeat of the guinea worm. http://nyti.ms/1uFLMCt\\n498854107860709377|Mon Aug 11 15:31:02 +0000 2014|RT @celiadugger: Ebola goes viral on Twitter. Why do some topics -- shark attacks, dread diseases - become social contagions of fear? http:…\\n498854068090314752|Mon Aug 11 15:30:52 +0000 2014|RT @Jeffdelviscio: Want to know where Ebola started &amp; why it\\'s so hard to stop? Read @nytDeniseGrady &amp; @sherifink  http://nyti.ms/1ouYUcX\\n498850913617211392|Mon Aug 11 15:18:20 +0000 2014|Doctors can no longer put up smiling baby pictures on their office walls.  http://nyti.ms/1kWB4at\\n498848171209261056|Mon Aug 11 15:07:26 +0000 2014|Well: Relearning How to Eat Fish http://nyti.ms/1oDHMwG\\n498679043525722112|Mon Aug 11 03:55:23 +0000 2014|Ebola May Pose Little Threat to U.S., but It Looms Large on Twitter http://nyti.ms/1ugq9LI\\n498679042410037249|Mon Aug 11 03:55:23 +0000 2014|A Mother Lifts Her Son, Slowly, From Heroin’s Abyss http://nyti.ms/1uExAd5\\n498559419853320192|Sun Aug 10 20:00:03 +0000 2014|MT @jimdao: Jim Frederick, a talented reporter who wrote about about one platoon\\'s descent into insanity has died.  http://nyti.ms/1uvo2B2\\n498544320035950593|Sun Aug 10 19:00:03 +0000 2014|RT @lpolgreen: Who should get experimental Ebola serum? Not as easy to answer as you’d think. http://www.nytimes.com/2014/08/09/health/in-ebola-outbreak-who-should-get-experimental-drug.html?ref=world&_r=0\\n498523640384995328|Sun Aug 10 17:37:52 +0000 2014|The Working Life: Fighting Deadly Diseases Without Breaking a Sweat http://nyti.ms/XTFiVO\\n498508541813354497|Sun Aug 10 16:37:52 +0000 2014|Nigeria Struggles to Cope With Ebola Outbreak http://nyti.ms/V9XEAj\\n498474107009499137|Sun Aug 10 14:21:02 +0000 2014|RT @kerrimac: His mother &amp; sister are Ebola patients. Last week, he was, too. The rest of the family not as lucky: http://nyti.ms/1vl7fou\\n498276569698537472|Sun Aug 10 01:16:06 +0000 2014|Baby Pictures at Doctor’s? Cute, Sure, but Illegal http://nyti.ms/1ktFNjl\\n498276568549322753|Sun Aug 10 01:16:06 +0000 2014|J. W. Hastings, 87, a Pioneer in Bioluminescence Research, Dies http://nyti.ms/1ktFOUF\\n498197182068326400|Sat Aug 09 20:00:38 +0000 2014|A Witness to Ebola’s Discovery http://nyti.ms/X9oOJg\\n498197180961017857|Sat Aug 09 20:00:38 +0000 2014|Tracing Ebola’s Breakout to an African 2-Year-Old http://nyti.ms/1pIfyVB\\n498136627307630593|Sat Aug 09 16:00:01 +0000 2014|MT @celiadugger: WHO declares health emergency over Ebola outbreak. MSF criticizes effort so far as slow.  http://nyti.ms/1onEbrC\\n498113977122304001|Sat Aug 09 14:30:01 +0000 2014|RT @cslnyt: \"You go to wards and there are no patients\" - Kenema, Sierra Leone #ebolaoutbreak  http://nyti.ms/X5BVLo\\n498000728309641216|Sat Aug 09 07:00:00 +0000 2014|RT @nytDeniseGrady: Vivid Ebola story and wrenching video from Sierra Leone. \\'Don\\'t Touch The Walls\\' http://nyti.ms/1sDmB42\\n497969325303947264|Sat Aug 09 04:55:13 +0000 2014|Neighborhood Joint | Fort Greene: Medicine Man and Mayor, Blended http://nyti.ms/1pi6oAf\\n497964967908634625|Sat Aug 09 04:37:54 +0000 2014|A Front Line Against Ebola Runs Through Newark’s Terminal B http://nyti.ms/1pi6nfu\\n497964963739471872|Sat Aug 09 04:37:53 +0000 2014|U.N. Agency Calls Ebola Outbreak an International Health Emergency http://nyti.ms/1oy66QA\\n497960329251659776|Sat Aug 09 04:19:28 +0000 2014|29 States Seek Tighter E-Cigarette Regulations http://nyti.ms/1pi6nfy\\n497960328345706500|Sat Aug 09 04:19:28 +0000 2014|Out-of-State Clinic Is Central in Texas Abortion Law Fight http://nyti.ms/1oy66jx\\n497940329220571136|Sat Aug 09 03:00:00 +0000 2014|RT @Jeffdelviscio: Disheartening view from the heart of the Ebola outbreak by @nytimes Adam Nossiter &amp; @bcsolomon  http://nyti.ms/X5BVLo\\n497857281007308800|Fri Aug 08 21:30:00 +0000 2014|MT @lpolgreen: “Don’t touch the walls!” Chilling dispatch from a hospital in Sierra Leone. http://www.nytimes.com/2014/08/08/world/africa/dont-touch-the-walls-ebola-fears-infect-hospital.html?&hp&action=click&pgtype=Homepage&version=HpSum&module=second-column-region&region=top-news&WT.nav=top-news http://pbs.twimg.com/media/Bug8UopIAAA1s0j.png\\n497838282265595904|Fri Aug 08 20:14:30 +0000 2014|Well: Think Like a Doctor: Losing It Solved! http://nyti.ms/V8EZ7z\\n497789584093478913|Fri Aug 08 17:00:59 +0000 2014|RT @nytDeniseGrady: In Ebola Outbreak, Who Should Get Experimental Drug? http://nyti.ms/1sDfxU3\\n497778500389335041|Fri Aug 08 16:16:57 +0000 2014|RT @ReedAbelson: See fascinating @RachelAbramsNY piece: Walmart Seeking Foothold in Primary Care Services http://nyti.ms/1sCV2b6 More than …\\n497764761107693568|Fri Aug 08 15:22:21 +0000 2014|RT @bcsolomon: Examination tent at #kenema hospital. #ebola patients are identified in this hot, sweaty tent. A dangerous place. http://t.c…\\n497760133188190208|Fri Aug 08 15:03:58 +0000 2014|Is yoga enough to be one’s sole exercise? Probably not. http://nyti.ms/XMDwpB\\n497759384907563009|Fri Aug 08 15:00:59 +0000 2014|MT @bcsolomon: Latest video: A small hospital struggles to cope with the largest Ebola outbreak in history. http://nyti.ms/1sDichu\\n497759288400809985|Fri Aug 08 15:00:36 +0000 2014|Well: Cook a Peck of Peppers http://nyti.ms/X6BfoX\\n497755317720342528|Fri Aug 08 14:44:50 +0000 2014|RT @nytimesscience: Second drug is allowed for treatment of Ebola http://nyti.ms/1ovAjjq\\n497755302763462656|Fri Aug 08 14:44:46 +0000 2014|The Ethicist: Compassionate Capital Punishment http://nyti.ms/V7RSPc\\n497755300674678784|Fri Aug 08 14:44:46 +0000 2014|Lives: ‘The Driver Just Didn’t See You’ http://nyti.ms/X6A212\\n497755255371993088|Fri Aug 08 14:44:35 +0000 2014|RT @fedira: Here\\'s the key part of @WHO\\'s declaration of #Ebola emergency. http://read.bi/1vlki9b http://bit.ly/1vlkllz http://t.co/KUoyQU…\\n497749693703929856|Fri Aug 08 14:22:29 +0000 2014|RT @jimdao: Why does PTSD persist? Read this story and then register your thoughts  http://nyti.ms/1pG9X2a\\n497747087115952129|Fri Aug 08 14:12:07 +0000 2014|RT @nytDeniseGrady: International response to Ebola \"a failure\": Global Efforts to Contain It Draw Criticism at Congress Hearing http://t.c…\\n497741227098640384|Fri Aug 08 13:48:50 +0000 2014|RT @celiadugger: \"From this illness I am not comedy anymore. I am tragedy, very tragedy.\" From man who lost 16 relatives to Ebola. http://t…\\n497741172807598081|Fri Aug 08 13:48:37 +0000 2014|RT @carlzimmer: “\\'This is a dangerous place,\\'” said Mr. Moens, adding that he washed his hands 50 times a day\" @nytimes Ebola report: http:…\\n497741096781643777|Fri Aug 08 13:48:19 +0000 2014|RT @bcsolomon: Erison is a 22 yr old #ebola survivor. 16 of his family members died. His mom &amp; sister are fighting to survive. http://t.co/…\\n497741000446865408|Fri Aug 08 13:47:56 +0000 2014|RT @heathertal: A tarp is all that separates a man from his mother, sick with Ebola. Incredible video from Sierra Leone by @bcsolomon http:…\\n497740908000182272|Fri Aug 08 13:47:34 +0000 2014|RT @nycscribe: Who should be the guinea pigs for the experimental Ebola drug? Trickier than it seems. http://www.nytimes.com/2014/08/09/health/in-ebola-outbreak-who-should-get-experimental-drug.html?ref=world\\n497618552699244544|Fri Aug 08 05:41:22 +0000 2014|In Ebola Outbreak, Who Should Get Experimental Drug? http://nyti.ms/1q0aFol\\n497618548324593665|Fri Aug 08 05:41:21 +0000 2014|In Ambitious Bid, Walmart Seeks Foothold in Primary Care Services http://nyti.ms/X5MLAV\\n497614370965581825|Fri Aug 08 05:24:45 +0000 2014|Combat Stress Among Veterans Is Found to Persist Since Vietnam http://nyti.ms/1q0aFV9\\n497614365055782912|Fri Aug 08 05:24:44 +0000 2014|U.S. and Global Efforts to Contain Ebola Draw Criticism at Congressional Hearing http://nyti.ms/X5MMVy\\n497610015919067137|Fri Aug 08 05:07:27 +0000 2014|Second Drug Is Allowed for Treatment of Ebola http://nyti.ms/1q0aFEJ\\n497610004955152384|Fri Aug 08 05:07:24 +0000 2014|‘Don’t Touch the Walls’: Ebola Fears Infect an African Hospital http://nyti.ms/X5MK00\\n497596585703129088|Fri Aug 08 04:14:05 +0000 2014|Well: Ask Well: Does Yoga Build Strength? http://nyti.ms/1ovtiyU\\n497578188655308801|Fri Aug 08 03:00:59 +0000 2014|RT @celiadugger: If you were born after 1957 be sure you got inoculated against measles.  http://nyti.ms/1odbWuX\\n497501089760296961|Thu Aug 07 21:54:37 +0000 2014|RT @nickconfessore: From the desk of @deanbaquet: The NYT will now call torture torture. http://www.nytimes.com/times-insider/2014/08/07/the-executive-editor-on-the-word-torture/?_php=true&_type=blogs&_r=0\\n497499918324744193|Thu Aug 07 21:49:58 +0000 2014|Losing Cost Control: Why the Hepatitis Cure Sovaldi Is a Budgetary Disaster for Prisons http://nyti.ms/1oILk5k\\n497487589486907392|Thu Aug 07 21:00:58 +0000 2014|RT @davjolly: Big Tobacco\\'s fingerprints? The laughable cost-benefit \"analysis\" of the FDA\\'s new smoking rules http://nyti.ms/1og6QPj\\n497486280775974912|Thu Aug 07 20:55:46 +0000 2014|Well: Living With Cancer: Difficult Choices http://nyti.ms/1pePB0U\\n497457389667614721|Thu Aug 07 19:00:58 +0000 2014|RT @nytDeniseGrady: The experimental Ebola drug given two 2 Americans: can it, should it, be used in Africa? http://nyti.ms/1sytBPJ\\n497427190284558336|Thu Aug 07 17:00:58 +0000 2014|RT @cslnyt: Judith of NM says why question water use for growing Calif pot. \"What about swimming pools and lawns?\"  http://nyti.ms/1AXkNqo\\n497422166926032897|Thu Aug 07 16:41:00 +0000 2014|The head nurse at Emory argues why it was smart to bring Ebola to the U.S. http://wapo.st/1y6BDic\\n497421544801730561|Thu Aug 07 16:38:32 +0000 2014|From CDC Director MT @DrFriedenCDC: We know how to stop Ebola from spreading w/ basic epi &amp; response: find disease, isolate patients ...\\n497418259961217024|Thu Aug 07 16:25:29 +0000 2014|RT @sangerkatz: It\\'s not just insurers and Medicaid directors that are scared about the costs of treating hepatitis C. So are prisons http:…\\n497409573192744960|Thu Aug 07 15:50:58 +0000 2014|RT @jswatz: “Same-sex couples cannot procreate,” says lawyer fighting same-sex marriage at 6th Circuit  @eckholm  http://nyti.ms/1vcYblg\\n497398306126180353|Thu Aug 07 15:06:12 +0000 2014|There were signs that efforts to increase production of the \"secret serum” for Ebola were beginning.  http://nyti.ms/1pEcqKg\\n497397820790677505|Thu Aug 07 15:04:16 +0000 2014|Two Americans infected with Ebola in West Africa, appear to be responding to an experimental medicine. http://nyti.ms/XHOBIf\\n497394234534952960|Thu Aug 07 14:50:01 +0000 2014|A 55-year-old man loses the hair on his legs and then loses his strength. Can you figure out why? http://nyti.ms/1pEaQIB\\n497390845231108097|Thu Aug 07 14:36:33 +0000 2014|RT @celiadugger: Man at nyc hosp tests neg for Ebola as disease toll grows in Nigeria &amp; WHO considers declaring intl hlth emergency.  http:…\\n497390750133649408|Thu Aug 07 14:36:10 +0000 2014|RT @jimdao: There is something breathtaking, as it were, about the logic of this happy addiction versus lung cancer calculus http://t.co/Pz…\\n497390397447229440|Thu Aug 07 14:34:46 +0000 2014|RT @cslnyt: Ethicists will discuss who should get experimental treatment for #ebola http://nyti.ms/1sxnHOH\\n497390288823148547|Thu Aug 07 14:34:20 +0000 2014|RT @UpshotNYT: The $1000-a-pill Hep C cure is a budgetary disaster for prisons. http://nyti.ms/1nvJLTw\\n497390033062854656|Thu Aug 07 14:33:19 +0000 2014|RT @nytDeniseGrady: Experimental #Ebola treatment: something good from tobacco plants. http://nyti.ms/1sytBPJ\\n497249156357177344|Thu Aug 07 05:13:31 +0000 2014|Jesse L. Steinfeld, Surgeon General and Tobacco Foe, Dies at 87 http://nyti.ms/1nuzwyU\\n497234866992582656|Thu Aug 07 04:16:45 +0000 2014|Well: Think Like a Doctor: Losing It http://nyti.ms/1ohZoDe\\n497219496101576704|Thu Aug 07 03:15:40 +0000 2014|An Obscure Biotech Firm Hurries Ebola Treatment http://nyti.ms/1pcA1mo\\n497219494658715648|Thu Aug 07 03:15:40 +0000 2014|New York Patient Tests Negative for Ebola http://nyti.ms/V38kQK\\n497150990769197057|Wed Aug 06 22:43:27 +0000 2014|Well: Prostate Cancer Screening Still Not Recommended for All http://nyti.ms/XFcRed\\n497127741792464896|Wed Aug 06 21:11:04 +0000 2014|Study Confirms Third Gene as Strong Indicator of Breast Cancer Risk http://nyti.ms/1shFOGx\\n497121717572349952|Wed Aug 06 20:47:08 +0000 2014|RT @GretchenReynold: Best race pacing uses yin and yang Women Pace Marathons Better Than Men Do http://nyti.ms/1tV11tD\\n497115967378690049|Wed Aug 06 20:24:17 +0000 2014|What Are the Chances of Getting Ebola in the United States? Extremely small. http://nyti.ms/UPEOhp\\n497112164612972544|Wed Aug 06 20:09:10 +0000 2014|RT @rickgladstone: W.H.O. Weighing Emergency Decree on Ebola http://nyti.ms/1sxnHOH\\n497088200469647362|Wed Aug 06 18:33:57 +0000 2014|Quitting smoking benefits are being officially weighed against the loss of pleasure: @stavernise http://nyti.ms/1lAHN4w\\n497071603529048064|Wed Aug 06 17:28:00 +0000 2014|Pleasure Factor May Override New Tobacco Rules http://nyti.ms/1tXm7I1\\n497070938333392897|Wed Aug 06 17:25:21 +0000 2014|Tanzania’s president: too often “the whole of the African continent is perceived as if everywhere, everybody is suffering from Ebola.”\\n497070743025233922|Wed Aug 06 17:24:34 +0000 2014|President Macky Sall of SenegalI: \"It is necessary to confront Ebola as a threat to humanity.” http://nyti.ms/1lAGmTT\\n497064795607420928|Wed Aug 06 17:00:56 +0000 2014|Diabetics in low-income neighborhoods are about 10 times as likely to have an amputation as those in affluent areas. http://nyti.ms/1lAkSGz\\n497041232385036288|Wed Aug 06 15:27:19 +0000 2014|Well: Disparities in Diabetes http://nyti.ms/1ofCMDv\\n497038542380732417|Wed Aug 06 15:16:37 +0000 2014|RT @UpshotNYT: The hepatitis C drug Sovaldi is $1000/pill. Sounds pricey, but what about other drugs on the market? http://nyti.ms/1vaswAV\\n497038289644556288|Wed Aug 06 15:15:37 +0000 2014|The UN is amid a 2-day emergency meeting to determine whether the Ebola outbreak is a public health emergency of international concern.\\n497031236112904192|Wed Aug 06 14:47:35 +0000 2014|RT @MonkovicNYT: Solvadi, a drug that\\'s hugely popular but also hugely expensive, is worrying insurers and state officials. http://t.co/0Od…\\n497031127534944256|Wed Aug 06 14:47:09 +0000 2014|During marathons, women pace themselves more evenly than male competitors do. http://nyti.ms/1lAdbQN\\n497024272561618944|Wed Aug 06 14:19:55 +0000 2014|The New Health Care: Why the Price of Sovaldi Is a Shock to the System http://nyti.ms/1pCe4w0\\n497024271479480321|Wed Aug 06 14:19:55 +0000 2014|Bush Urges Renewed Fight Against Deadly Diseases in Africa http://nyti.ms/1ofoans\\n497023815873200128|Wed Aug 06 14:18:06 +0000 2014|The president-elect of the American College of Cardiology advises his patients to go vegan, setting off a firestorm.  http://nyti.ms/1lA7qTe\\n496961055814610944|Wed Aug 06 10:08:43 +0000 2014|Well: Advice From a Vegan Cardiologist http://nyti.ms/1kGt9xV\\n496892602713927681|Wed Aug 06 05:36:42 +0000 2014|Sierra Leone Deploys Troops in Ebola Crisis http://nyti.ms/1opUjDP\\n496887832175456257|Wed Aug 06 05:17:45 +0000 2014|David Wilson\\'s Retirement From N.F.L. Raises Injury Awareness http://nyti.ms/1ob3ttP\\n496887829482700800|Wed Aug 06 05:17:44 +0000 2014|Well: Women Pace Marathons Better Than Men Do http://nyti.ms/1opUjE1\\n496862459215757314|Wed Aug 06 03:36:56 +0000 2014|Report critiques public financing of physician training. http://nyti.ms/1v7ZeTN\\n496838299483656193|Wed Aug 06 02:00:56 +0000 2014|A new study suggests that Americans are much smarter health care consumers than previously assumed. http://nyti.ms/1v7W7v0\\n496773521516019712|Tue Aug 05 21:43:31 +0000 2014|Mini sweet peppers have begun to proliferate in supermarkets. Here is what you do with them: http://nyti.ms/1v8172J http://pbs.twimg.com/media/BuTk4rGIMAAoNc2.png\\n496771799334801408|Tue Aug 05 21:36:41 +0000 2014|RT @ReedAbelson: States That Embraced Health Law Show Biggest Gains in Reducing Uninsured http://nyti.ms/1op0GY9 via @UpshotNYT @sangerkatz…\\n496771341211947009|Tue Aug 05 21:34:51 +0000 2014|The physician training system, heavily subsidized by the federal government, cannot account for billions of dollars. http://nyti.ms/1v7ZeTN\\n496768390284185601|Tue Aug 05 21:23:08 +0000 2014|Tests like M.R.I.s can varying by a factor of 10 even in the same city -- but patients have no idea. http://nyti.ms/1v7W7v0\\n496759739322470400|Tue Aug 05 20:48:45 +0000 2014|RT @ReedAbelson: New report http://bit.ly/1tSTLi7 confirms our story on lack of insurance competition in rural markets http://t.co/NxHqYHS…\\n496759268503457793|Tue Aug 05 20:46:53 +0000 2014|RT @nytrosenthal: New study in Health Affairs show patients can be good shoppers. http://well.blogs.nytimes.com/2014/08/05/why-we-should-know-the-price-of-medical-tests/\\n496728142678343681|Tue Aug 05 18:43:12 +0000 2014|Recipes for Health: Mini Bell Peppers Stuffed with Goat Cheese http://nyti.ms/1AS5MWY\\n496709601250004992|Tue Aug 05 17:29:32 +0000 2014|Well: Why We Should Know the Price of Medical Tests http://nyti.ms/1np4acZ\\n496705061712822273|Tue Aug 05 17:11:29 +0000 2014|Want to make sure you don’t miss an important story about Ebola or autism. Sign up for our weekly newsletter: http://nyti.ms/1mRcCpQ\\n496671722473807872|Tue Aug 05 14:59:01 +0000 2014|Doctor and Patient: Throwing Money at the Past http://nyti.ms/1notJuK\\n496662597983547394|Tue Aug 05 14:22:45 +0000 2014|RT @paula_span: What\\'s propelling the supposed return of the multigenerational household? http://newoldage.blogs.nytimes.com/2014/08/04/whos-moving-in-now/\\n496516875892031489|Tue Aug 05 04:43:42 +0000 2014|National Briefing | New England: Vermont: State Severs Link to Website Designer http://nyti.ms/1s6WxzE\\n496512460091060224|Tue Aug 05 04:26:09 +0000 2014|Abortion Providers in Texas Press Judge to Block Portions of New Law http://nyti.ms/1s6Wvrs\\n496512458790805504|Tue Aug 05 04:26:09 +0000 2014|Lax Quarantine Undercuts Ebola Fight in Africa http://nyti.ms/1one3Il\\n496413621204037632|Mon Aug 04 21:53:24 +0000 2014|Well: Feeling as if I Failed the Patient http://nyti.ms/1v3LDNg\\n496405945107226624|Mon Aug 04 21:22:54 +0000 2014|Observatory: A Look at How We Process Painful Experiences http://nyti.ms/1tP7Ywi\\n496405940980031490|Mon Aug 04 21:22:53 +0000 2014|Patient at Mount Sinai Has Ebola-Like Symptoms, Hospital Says http://nyti.ms/1v3DFDy\\n496403382140403713|Mon Aug 04 21:12:43 +0000 2014|RT @PamBelluck: Smart piece by @charlesornstein on  the drug Acthar.  http://www.nytimes.com/2014/08/05/upshot/the-obscure-drug-with-a-growing-medicare-tab.html?hp&action=click&pgtype=Homepage&version=HpSum&module=second-column-region&region=top-news&WT.nav=top-news&_r=0\\n496402121651412992|Mon Aug 04 21:07:43 +0000 2014|Global Health: A Key Malaria Drug Becomes Less Effective http://nyti.ms/1s6vp0c\\n496398218641801216|Mon Aug 04 20:52:12 +0000 2014|Q&amp;A:  A Nose for Their Favorite Foods http://nyti.ms/1s6vpgw\\n496398217198972928|Mon Aug 04 20:52:12 +0000 2014|Alabama’s Requirement for Abortion Clinic Doctors Is Ruled Unconstitutional http://nyti.ms/1s6vp0i\\n496398033022898177|Mon Aug 04 20:51:28 +0000 2014|A tiny part of the brain keeps track of painful experiences — a finding that could help treat depression. http://nyti.ms/1pzuXaG\\n496397289163079680|Mon Aug 04 20:48:31 +0000 2014|RT @celiadugger: Man at Mount Sinai in NYC w/Ebola-like symptoms isolated. Hospital wouldn\\'t say when it will get test results. http://t.co…\\n496397081385644032|Mon Aug 04 20:47:41 +0000 2014|The Toledo mayor says the water is safe, but algae blooms have left some residents scared of the tap.  http://nyti.ms/1pzuLZ8\\n496396732809609216|Mon Aug 04 20:46:18 +0000 2014|A look at the personal challenges of counseling fellow residents of the Gaza Strip. http://nyti.ms/1pzuHbR\\n496394336498892801|Mon Aug 04 20:36:47 +0000 2014|Dollars for Prescribers: Top Medicare Prescribers for Acthar Have Links to Its Maker http://nyti.ms/1tP7Wo8\\n496394335370625024|Mon Aug 04 20:36:46 +0000 2014|Losing Cost Control : The Obscure Drug With a Growing Medicare Tab http://nyti.ms/1s6vp0g\\n496387446733828096|Mon Aug 04 20:09:24 +0000 2014|RT @nytDeniseGrady: An American brought Marburg--a lot like #Ebola--to the U.S. in 2008. Nobody knew. Nobody caught it. http://t.co/eFDsERT…\\n496387296623853568|Mon Aug 04 20:08:48 +0000 2014|RT @nytDeniseGrady: Making medical education shorter--without killing patients. http://nyti.ms/1ogNeK7\\n496387215598292992|Mon Aug 04 20:08:29 +0000 2014|RT @MarthaRShulman: Tunisian Grilled Peppers and Tomatoes with Couscous http://nyti.ms/1tOcuLD  Peppers all week on #RecipesforHealth. A pe…\\n496370347654918144|Mon Aug 04 19:01:27 +0000 2014|The New Old Age Blog: Who’s Moving In Now? http://nyti.ms/1s5ECsW\\n496365902708084736|Mon Aug 04 18:43:47 +0000 2014|Lifting Ban, Toledo Says Its Water Is Safe to Drink Again http://nyti.ms/1s5DLIU\\n496329693738827776|Mon Aug 04 16:19:55 +0000 2014|Recipes for Health: Tunisian Grilled Peppers and Tomatoes with Couscous http://nyti.ms/1smqI3h\\n496295631489871872|Mon Aug 04 14:04:33 +0000 2014|In Fatal Flash, Gaza Psychologist Switches Roles, Turning Into a Trauma Victim http://nyti.ms/1p4HGTX\\n496160405031776256|Mon Aug 04 05:07:13 +0000 2014|Nascar Drivers Have Little Help With Concussions http://nyti.ms/WVxLpi\\n496149787326959616|Mon Aug 04 04:25:01 +0000 2014|Well: Picking Nursing Home Shouldn’t Be Trial and Error http://nyti.ms/ULHQ6p\\n496142875525406720|Mon Aug 04 03:57:34 +0000 2014|Op-Ed Contributor: Adventures in ‘Prior Authorization’ http://nyti.ms/ULDUmp\\n496134982130102273|Mon Aug 04 03:26:12 +0000 2014|In New Jersey, a Push to Put Paid Sick Leave on the Ballot  http://nyti.ms/UVBvW3\\n496134978829164544|Mon Aug 04 03:26:11 +0000 2014|Tap Water Ban Continues for Toledo Residents http://nyti.ms/XwAbus\\n496011588659585024|Sun Aug 03 19:15:52 +0000 2014|Introducing the ASMR stars of Youtube -- a niche where soothing sounds win. @_Waterwhispers_  @GentleWhisperin http://nyti.ms/1AzzzDD\\n495721194268938240|Sun Aug 03 00:01:57 +0000 2014|Newly Insured by Health Law, Millions Face a Learning Curve http://nyti.ms/1tHYlQ4\\n495721192528289792|Sun Aug 03 00:01:57 +0000 2014|American Doctor With Ebola Arrives in U.S. for Treatment http://nyti.ms/UIJXrO\\n495660519408533504|Sat Aug 02 20:00:51 +0000 2014|RT @nytDeniseGrady: W.H.O. Says Outbreak of Ebola Virus Is Outpacing Control Efforts http://nyti.ms/1m4mg4j\\n495569920797978624|Sat Aug 02 14:00:51 +0000 2014|RT @nytDeniseGrady: What You Need to Know About the Ebola Outbreak http://nyti.ms/1ofydUH\\n495554821253259265|Sat Aug 02 13:00:51 +0000 2014|RT @MarthaRShulman: Watermelon &amp; Tomato Salsa http://nyti.ms/1nR4VQg  Good for this hot week-end.\\n495554821156790272|Sat Aug 02 13:00:50 +0000 2014|Salsas that can turn the simplest BBQ or quesadilla into something spectacular.  http://nyti.ms/1nbCVma\\n495418942882873344|Sat Aug 02 04:00:55 +0000 2014|California Asks: Should Doctors Face Drug Tests? http://nyti.ms/1kcd3eR\\n495281262777864192|Fri Aug 01 18:53:49 +0000 2014|Need help relaxing as you finish up the work day? Watch this video. It may put you to sleep … in a good way. http://nyti.ms/1nOECM5 #ASMR\\n495280143272013824|Fri Aug 01 18:49:22 +0000 2014|RT @nytDeniseGrady: As Ebola worsens, Africans struggle and Americans are advised to stay away. http://nyti.ms/1m0fc8K\\n495280110166360064|Fri Aug 01 18:49:14 +0000 2014|RT @nytDeniseGrady: Americans with Ebola being brought home from Liberia. http://state.gov/r/pa/prs/ps/2014/230120.htm#.U9vgb1r3BIg.twitter (from @StateDept)\\n495280035306426368|Fri Aug 01 18:48:56 +0000 2014|Something to keep in mind this weekend: running for as little as five minutes a day can make a huge difference. http://nyti.ms/1nbSzxX\\n495277210325245952|Fri Aug 01 18:37:43 +0000 2014|RT @cslnyt: \"You pays your money and you takes your chances\" - a doctor on Caribbean med schools @anemonanyc  http://nyti.ms/1zyFCqv\\n495276667691339776|Fri Aug 01 18:35:34 +0000 2014|RT @paula_span: Always wondered about this. via @cslnyt Do Caribbean med schools deserve their underdog reputation? @anemonanyc http://t.co…\\n495276555913150464|Fri Aug 01 18:35:07 +0000 2014|RT @celiadugger: Two American aid workers infected with Ebola expected back in the US early next wk. One will go to Emory. http://t.co/FIlD…\\n495270756067344385|Fri Aug 01 18:12:04 +0000 2014|RT @paula_span: Seniors and suicide -- not always depression. @judith_graham explains new geripsych research. http://newoldage.blogs.nytimes.com/2014/08/01/many-problems-lead-to-thoughts-of-suicide-study-finds/\\n495262242120933376|Fri Aug 01 17:38:14 +0000 2014|The New Old Age Blog: Many Problems Lead to Thoughts of Suicide, Study Finds http://nyti.ms/1nSWvIM\\n495262239214305281|Fri Aug 01 17:38:14 +0000 2014|Well: Fresh and Fruity Salsas http://nyti.ms/1rSirmJ\\n495257573462147072|Fri Aug 01 17:19:41 +0000 2014|W.H.O. Says Outbreak of Ebola Virus Is Outpacing Control Efforts http://nyti.ms/1nSS1C9\\n495257039581773824|Fri Aug 01 17:17:34 +0000 2014|What remaining questions do you have have about Ebola? Tweet at us.  http://nyti.ms/UPEOhp\\n495250164148604929|Fri Aug 01 16:50:15 +0000 2014|West Africa consists of 16 countries. The Ebola outbreak — though biggest on record — has touched 4 countries so far. http://pbs.twimg.com/media/Bt97ZnJIUAEUUqo.png\\n495247194266812416|Fri Aug 01 16:38:27 +0000 2014|No, you can’t breathe in the Ebola virus and answers to other questions about the outbreak. http://nyti.ms/1nbsKOw\\n495246210647998466|Fri Aug 01 16:34:32 +0000 2014|Effort to Develop Ebola Vaccine to Test on Humans Is Put on Fast Track http://nyti.ms/1rRXOqy\\n495244489406304256|Fri Aug 01 16:27:42 +0000 2014|RT @celiadugger: W.H.O. DG Margaret Chan says Ebola outbreak catastrophic in lives lost if not brought under control. Efforts http://t.co/F…\\n495194788170596352|Fri Aug 01 13:10:12 +0000 2014|Well: Ask Well: Do I Need a Measles Shot? http://nyti.ms/1kaSAr1\\n495150386429562881|Fri Aug 01 10:13:46 +0000 2014|Well: The Joy of Becoming a Veterinarian http://nyti.ms/1oUSp31\\n495055976173928448|Fri Aug 01 03:58:37 +0000 2014|Work to Bolster Health Website Is Raising Cost, Officials Say  http://nyti.ms/1tAJWFb\\n495051506677448704|Fri Aug 01 03:40:51 +0000 2014|New Rules Say Poultry Plants Can Conduct Own Checks http://nyti.ms/UEEiTH\\n495051505557573632|Fri Aug 01 03:40:51 +0000 2014|French Families Challenge Doctors on Wrenching End-of-Life Decisions http://nyti.ms/1tAJWoT\\n494955590784139267|Thu Jul 31 21:19:43 +0000 2014|RT @deborahblum: A Toxic Menagerie: In which I interview @theleechguy for my Poison Pen column in @nytimeshealth http://nyti.ms/1m2elEI\\n494923751377879040|Thu Jul 31 19:13:12 +0000 2014|Well: A Toxic Menagerie http://nyti.ms/1rTO82v\\n494872412291600384|Thu Jul 31 15:49:12 +0000 2014|RT @celiadugger: Read this unbearably sad 2001 story by @blaineharden about the valiant Ugandan dr who gave his life fighting Ebola. http:/…\\n494860292862775297|Thu Jul 31 15:01:02 +0000 2014|Sierra Leone Declares Health Emergency Over Ebola http://nyti.ms/1o8HAd2\\n494855852478959619|Thu Jul 31 14:43:23 +0000 2014|Well: Feeling as if I Failed the Patient http://nyti.ms/UNOQzp\\n494850145486659584|Thu Jul 31 14:20:43 +0000 2014|RT @deborahblum: Food writer Ruth Reichl takes on the FDA for failure to protect our food:  http://nyti.ms/1tv6Iyb\\n494710867834191872|Thu Jul 31 05:07:16 +0000 2014|Well: Statins May Speed Wound Healing http://nyti.ms/1k8zDF7\\n494698689760595968|Thu Jul 31 04:18:53 +0000 2014|World Briefing: Peace Corps Pulls 340 Volunteers as 2 Are Isolated for Ebola Exposure http://nyti.ms/1rJuLWg\\n494698688741392385|Thu Jul 31 04:18:53 +0000 2014|Well: Bothered by a ‘Gummy Smile’ http://nyti.ms/1qMks7O\\n494690698805788673|Thu Jul 31 03:47:08 +0000 2014|Osteopathic schools are turning out nearly a third of all med school grads http://nyti.ms/1pqrKKo http://pbs.twimg.com/media/Bt0r-wOIAAAaMNI.png\\n494672104021688320|Thu Jul 31 02:33:14 +0000 2014|How the Internet puts you to sleep http://nyti.ms/WLGhHm\\n494661519959785472|Thu Jul 31 01:51:11 +0000 2014|Are you a female soldier or veteran? We\\'d like to hear from you\\n494633074114560000|Wed Jul 30 23:58:09 +0000 2014|Running for as little as five minutes a day has long lasting benefits http://nyti.ms/1pqhbam\\n494606370180567042|Wed Jul 30 22:12:02 +0000 2014|5 summer tomato recipes (Photo: Andrew Scrivani for NYT) http://nyti.ms/WLMkvq http://pbs.twimg.com/media/BtzrNAFIYAAasFe.jpg\\n494596299699023873|Wed Jul 30 21:32:01 +0000 2014|Weak handshakes are often frowned upon, but they may be healthier than firm ones http://nyti.ms/WNE52f\\n494584512114745345|Wed Jul 30 20:45:11 +0000 2014|West Africa is fighting what has become the largest Ebola outbreak ever recorded. Our coverage. http://nyti.ms/WNyWa8\\n494566133643493376|Wed Jul 30 19:32:09 +0000 2014|The sale of athletic apparel has exploded in the past few years http://nyti.ms/WNmpnl\\n494548800921669632|Wed Jul 30 18:23:17 +0000 2014|RT @paula_span: More on sedatives, Ambien, older folks, insomnia, falls and emergency room visits. Be careful. http://newoldage.blogs.nytimes.com/2014/07/30/more-on-sleeping-pills-and-the-elderly/ #benz…\\n494546469127348224|Wed Jul 30 18:14:01 +0000 2014|Osteopathic schools are turning out nearly a third of all med school grads http://nyti.ms/1pqrKKo http://pbs.twimg.com/media/BtzsnSzIEAIGmj6.png\\n494541573766795265|Wed Jul 30 17:54:33 +0000 2014|Well: The Upside of a Wimpy Handshake http://nyti.ms/ULDPi4\\n494524223625650176|Wed Jul 30 16:45:37 +0000 2014|The long-term use of some sleeping pills may be hazardous for older adults http://nyti.ms/1pqpUcy\\n494489469954039808|Wed Jul 30 14:27:31 +0000 2014|These days, coconut water\\'s big rival may be plain old water http://nyti.ms/1rE7Rzw\\n494408915195797504|Wed Jul 30 09:07:25 +0000 2014|The New Old Age Blog: More on Sleeping Pills and Older Adults http://nyti.ms/XdKGmj\\n494334990717845504|Wed Jul 30 04:13:40 +0000 2014|Well: Running 5 Minutes a Day Has Long-Lasting Benefits http://nyti.ms/1qJPWeF\\n494328825959178240|Wed Jul 30 03:49:10 +0000 2014|Judges Block Abortion Curb in Mississippi http://nyti.ms/1qJOaub\\n494328824197574656|Wed Jul 30 03:49:10 +0000 2014|Surgeon General Calls for Action to Reduce Skin Cancer Rate http://nyti.ms/1oaeXb3\\n494323544990306304|Wed Jul 30 03:28:11 +0000 2014|More than 2.6 million videos on YouTube are designed to trigger a little-known phenomenon called A.S.M.R. http://nyti.ms/WLGhHm\\n494291812828188673|Wed Jul 30 01:22:06 +0000 2014|Why Ebola patients are rejecting care http://nyti.ms/WLxUvA\\n494256603021860864|Tue Jul 29 23:02:11 +0000 2014|How to make the ultimate veggie burger (Photo: Andrew Scrivani for NYT) http://nyti.ms/WLNo2x http://pbs.twimg.com/media/Btus_-JIAAA-BIt.jpg\\n494237222837575683|Tue Jul 29 21:45:11 +0000 2014|Q: Is weight loss truly greater  when exercising at moderate versus more intense levels? A: http://nyti.ms/1poYuUt\\n494231174987124736|Tue Jul 29 21:21:09 +0000 2014|Are you a female veteran? Has the return to civilian life been hard? We want to hear from you. http://nyti.ms/WM3Yzf\\n494230123059896320|Tue Jul 29 21:16:58 +0000 2014|The New Health Care: Do You Own a Gun? In Florida, Doctors Can’t Ask You That http://nyti.ms/1pCDrv3\\n494216096182845442|Tue Jul 29 20:21:14 +0000 2014|How loneliness can make you sick — and might even kill you http://nyti.ms/WLOgEj via @nytopinion\\n494202322579640320|Tue Jul 29 19:26:30 +0000 2014|ASMR is widely popular on the web, but what does science have to say about it? http://nyti.ms/1poXZcX\\n494179580446384129|Tue Jul 29 17:56:08 +0000 2014|RT @cslnyt: Feeling anxious? How to reduce stress as a parent of an autistic child http://bit.ly/1poAZL7\\n494164597725999104|Tue Jul 29 16:56:35 +0000 2014|RT @celiadugger: Two drs cared for 55 people w/Ebola in Sierra Leone after nurses walked out, on the frontlines of an epidemic. http://t.co…\\n494140144061272064|Tue Jul 29 15:19:25 +0000 2014|Almost a Third of All Med School Grads Are Osteopaths http://nyti.ms/1ponfQI\\n494138142040264704|Tue Jul 29 15:11:28 +0000 2014|Do you burn more calories if you exercise intensely rather than moderately? http://nyti.ms/WLyN77\\n494123401913827328|Tue Jul 29 14:12:54 +0000 2014|The New Health Care: Why Health Insurance Plans With Narrow Networks Are Here to Stay http://nyti.ms/1rMPcFd\\n493957470650638336|Tue Jul 29 03:13:32 +0000 2014|Short Staff Tries to Cope With Ebola http://nyti.ms/1tUU0q2\\n493893096116342784|Mon Jul 28 22:57:44 +0000 2014|The Scan: Into the Abyss, Music to Remember, Burning Man Planetarium, Intricate Insects http://nyti.ms/1rLJ1kL\\n493882140455886848|Mon Jul 28 22:14:12 +0000 2014|When the Caregivers Need Healing http://nyti.ms/1pn2dBP\\n493872938043834368|Mon Jul 28 21:37:38 +0000 2014|Reactions: Watched While Sleeping, What We Don’t Know, Jealous Dogs http://nyti.ms/1rLAhLt\\n493847031459618816|Mon Jul 28 19:54:42 +0000 2014|Well: Rustle, Tingle, Relax: The Compelling World of A.S.M.R. http://nyti.ms/1mVMvt6\\n493838097965387776|Mon Jul 28 19:19:12 +0000 2014|Well: Ask Well: Exercise and Weight Loss http://nyti.ms/1mVFTLo\\n493833075978424320|Mon Jul 28 18:59:14 +0000 2014|Well: Statins Tied to Lower Risk of Barrett’s Esophagus http://nyti.ms/1tiWQHQ\\n493798212617400320|Mon Jul 28 16:40:42 +0000 2014|Books: Book Review: ‘The Norm Chronicles’ http://nyti.ms/1tijwrJ\\n493794219350589440|Mon Jul 28 16:24:50 +0000 2014|The New Health Care: The Problem With \\'Pay for Performance\\' in Medicine http://nyti.ms/1rY2dJy\\n493789183564349440|Mon Jul 28 16:04:50 +0000 2014|Well: Probiotics May Reduce Blood Pressure http://nyti.ms/1rXYOul\\n493781505991540736|Mon Jul 28 15:34:19 +0000 2014|The New Old Age Blog: A New Resource About Parkinson’s http://nyti.ms/1ti3o9x\\n493758897589874688|Mon Jul 28 14:04:29 +0000 2014|Recipes for Health: Roasted Corn and Tomato Salsa http://nyti.ms/1zm3cGQ\\n493612409480032258|Mon Jul 28 04:22:23 +0000 2014|Well: Nursing Home Unthinkable? Be Prepared in Case It’s Inevitable http://nyti.ms/1qGGyID\\n493607926079447040|Mon Jul 28 04:04:35 +0000 2014|Pregnancy for Pay: A Surrogacy Agency That Delivered Heartache http://nyti.ms/1tRjnJk\\n493607925064421376|Mon Jul 28 04:04:34 +0000 2014|Groups Press State to Ban Poisons That Kill Wildlife http://nyti.ms/1qGFkxe\\n493603334625198081|Mon Jul 28 03:46:20 +0000 2014|Lawmakers Reach Deal on a Fix for V.A.’s Health Care System http://nyti.ms/1tRjkND\\n493603332616122368|Mon Jul 28 03:46:19 +0000 2014|DealBook: Equinox Fitness Is Buying Rest of Millennium’s Gyms http://nyti.ms/1qGFLHJ\\n493598715882778625|Mon Jul 28 03:27:59 +0000 2014|Balancing Special-Education Needs With Rising Costs  http://nyti.ms/1qGFkxc\\n493598714746134528|Mon Jul 28 03:27:58 +0000 2014|Fear of Ebola Breeds a Terror of Physicians http://nyti.ms/1tRjnJi\\n492895824612184065|Sat Jul 26 04:54:56 +0000 2014|Hold the Regret? Fast Food Seeks Virtuous Side  http://nyti.ms/Ut0f7W\\n492796289386434561|Fri Jul 25 22:19:25 +0000 2014|Death in the Peace Corps: A Trail of Medical Missteps http://nyti.ms/1jZVQFp\\n492796286324588544|Fri Jul 25 22:19:25 +0000 2014|Sunday Routine: Mark Fisher: A Day Away From the Ninjas http://nyti.ms/1pUK4Ko\\n492782228490182656|Fri Jul 25 21:23:33 +0000 2014|RT @paula_span: Social Security credit for the yrs caregivers can\\'t work fulltime? Or at all? Rep. @NitaLowey introduces legislation. http:…\\n492779735077117952|Fri Jul 25 21:13:38 +0000 2014|RT @paula_span: Moving essay and video by @MartinSmithEdit, about living far from aging parents. http://ow.ly/zkEY9\\n492778825949138944|Fri Jul 25 21:10:02 +0000 2014|RT @damiencave: Heartbreaking story of a Peace Corps volunteer who died jn China from @sherylstolberg http://www.nytimes.com/2014/07/26/world/asia/peace-corps-death-china-medical-missteps.html?hp&action=click&pgtype=Homepage&version=LargeMediaHeadlineSum&module=photo-spot-region&region=photo-spot&WT.nav=photo-spot\\n492712577240412162|Fri Jul 25 16:46:47 +0000 2014|Well: Tomatoes All Summer Long http://nyti.ms/1pT1nM6\\n492712575747256320|Fri Jul 25 16:46:46 +0000 2014|Well: Best Time of Day for a Testosterone Test http://nyti.ms/WQC5WC\\n492699577011945473|Fri Jul 25 15:55:07 +0000 2014|The New Old Age Blog: Addressing Caregivers’ Loss of Retirement Income http://nyti.ms/WQope4\\n492692598235344896|Fri Jul 25 15:27:23 +0000 2014|RT @celiadugger: Photographers with mental illness shoot images that evoke their inner states. Slide show worth a look. http://t.co/12UE7NN…\\n492516231682203648|Fri Jul 25 03:46:34 +0000 2014|C.D.C. Says Tuberculosis Lab, Shut Amid Exposure Scare, Can Continue Its Work http://nyti.ms/1nzdKhv\\n492516230381973504|Fri Jul 25 03:46:34 +0000 2014|Advertising: Hard-to-Watch Commercials to Make Quitting Smoking Easier http://nyti.ms/1rQwuKp\\n492430471280984064|Thu Jul 24 22:05:47 +0000 2014|\"I feel like they don’t want either of us around and just wish we would go away.” On having a kid with a disability:  http://nyti.ms/1ny7Kpd\\n492425503538962433|Thu Jul 24 21:46:03 +0000 2014|Using photography to fight off anxiety and depression: http://nyti.ms/1ny34Qg\\n492425004504862720|Thu Jul 24 21:44:04 +0000 2014|RT @abbygoodnough: Would people keep their health insurance w/o federal subsidies to help w/cost? \"No way,\" says one. Other voices here: ht…\\n492424479117955072|Thu Jul 24 21:41:59 +0000 2014|Acetaminophen does nothing for lower back pain, research shows.  http://nyti.ms/1ny2bY5\\n492424185197912065|Thu Jul 24 21:40:49 +0000 2014|A workout video from a doctor who believes that exercise is the best medicine.  http://nyti.ms/1jXW93y\\n492404772432257024|Thu Jul 24 20:23:40 +0000 2014|Well: The Workout: Practicing His Own Medicine http://nyti.ms/1nxJFig\\n492379680922927104|Thu Jul 24 18:43:58 +0000 2014|RT @jtaylornyt: Worth rereading this in light of latest botched execution. Dodgy drug cocktails are not necessary: http://nyti.ms/1nOr5n8\\n492379613793095680|Thu Jul 24 18:43:42 +0000 2014|\"Before the visit, I had been split in two not by fear of death but by dread of dying.” A hospice tour:  http://nyti.ms/1pfovFB\\n492350632402374656|Thu Jul 24 16:48:32 +0000 2014|Well: Seeing the Child, Not the Disability http://nyti.ms/1pfew3e\\n492335797698568192|Thu Jul 24 15:49:35 +0000 2014|Well: Living With Cancer: A Tour of Hospice http://nyti.ms/1pf8Xlj\\n492331036677009409|Thu Jul 24 15:30:40 +0000 2014|RT @celiadugger: After yet another botched execution, why do states still use problematic drug cocktails? Read @nytdenisegrady.  http://t.c…\\n492296564325744641|Thu Jul 24 13:13:42 +0000 2014|Well: Photography as a Balm for Mental Illness http://nyti.ms/1kdQg2I\\n492163054960779266|Thu Jul 24 04:23:10 +0000 2014|Court Ruling on Health Care Subsidies Risks Loss of Coverage http://nyti.ms/1x4j2Dd\\n492076225678962688|Wed Jul 23 22:38:09 +0000 2014|Well: Acetaminophen No Better Than Placebo for Back Pain http://nyti.ms/1tC4Pgp\\n492052273330397184|Wed Jul 23 21:02:58 +0000 2014|RT @GretchenReynold: I\\'m of the noodly-arms school How Our Arms Help Us Run http://nyti.ms/1sPHTg3\\n492035363175931905|Wed Jul 23 19:55:46 +0000 2014|The New Old Age Blog: Stealing a Page From the Boomers’ Playbook http://nyti.ms/1A7fODc\\n492024227634348032|Wed Jul 23 19:11:31 +0000 2014|Even if not as complex and twisted as the adult human form, dogs can be jealous. http://nyti.ms/1nr0Xh3\\n492020950531977216|Wed Jul 23 18:58:30 +0000 2014|Leader of Lab That Had Anthrax Accident Resigns http://nyti.ms/1A70BBW\\n491806631270031360|Wed Jul 23 04:46:52 +0000 2014|Officials Focus on E-Cigarette Ads Aimed at Youths http://nyti.ms/WCcyR2\\n491806630284390400|Wed Jul 23 04:46:52 +0000 2014|World Briefing: U.N. Warns of Polio Risk in War Zones http://nyti.ms/1p8WvRk\\n491802241746370560|Wed Jul 23 04:29:26 +0000 2014|Well: How Our Arms Help Us Run http://nyti.ms/1p909uz\\n491802240160907264|Wed Jul 23 04:29:25 +0000 2014|Investigators Detail Missteps in Verification for Health Care http://nyti.ms/WCdO6X\\n491798357502078977|Wed Jul 23 04:14:00 +0000 2014|World Briefing: China: Plague Isolates Parts of City http://nyti.ms/WCcAbO\\n491798356541583361|Wed Jul 23 04:14:00 +0000 2014|U.S. Military Is Scrutinized Over Trash Burning in Afghanistan http://nyti.ms/1p8WwVm\\n491794309872898048|Wed Jul 23 03:57:55 +0000 2014|Alex Torres Stands Alone Wearing Safer Isoblox Hat http://nyti.ms/WCcAbM\\n491794308186796033|Wed Jul 23 03:57:54 +0000 2014|Economic Scene: A Dearth in Innovation for Key Drugs http://nyti.ms/1p8WvRi\\n491779244154826752|Wed Jul 23 02:58:03 +0000 2014|How many Americans are lesbian, gay or bisexual? http://nyti.ms/1tvPSN2\\n491672363927629824|Tue Jul 22 19:53:21 +0000 2014|RT @MarthaRShulman: Whole Wheat Focaccia with Tomatoes and Fontina http://nyti.ms/1sG8gVN  So good I\\'m making it again today\\n491672082762043392|Tue Jul 22 19:52:14 +0000 2014|Niger, by some measures the poorest country in the world, also has its highest birthrate http://nyti.ms/1niUHbf\\n491660879168278528|Tue Jul 22 19:07:42 +0000 2014|Health Policy Perspective: Rulings on Health Law Are Far From Last Word http://nyti.ms/1jTN1gj\\n491660877574447104|Tue Jul 22 19:07:42 +0000 2014|Courts Issue Conflicting Rulings on Health Care Law http://nyti.ms/UmvjX0\\n491634337276628992|Tue Jul 22 17:22:14 +0000 2014|Someone has made a $650 million private donation for psychiatric research http://nyti.ms/1tvQthB\\n491629529258266624|Tue Jul 22 17:03:08 +0000 2014|A sleep apnea test without a night in the hospital http://nyti.ms/1tvQXED\\n491620198177193985|Tue Jul 22 16:26:03 +0000 2014|Credibility Among Gay Men Gives Leverage to New York City’s New Chief of H.I.V. Prevention http://nyti.ms/UmbCi0\\n491607304161488897|Tue Jul 22 15:34:49 +0000 2014|Fresh Concerns About a Hysterectomy Procedure Linked to Cancer Spread http://nyti.ms/1jTs7Oo\\n491515951712858112|Tue Jul 22 09:31:49 +0000 2014|The New Old Age Blog: An ‘Emotional Burden’ Rarely Discussed http://nyti.ms/1jSSJ1Z\\n491438671309328384|Tue Jul 22 04:24:44 +0000 2014|Hospital Agrees to Pay $190 Million Over Recording of Pelvic Exams http://nyti.ms/1tt8Qnn\\n491349538863861761|Mon Jul 21 22:30:33 +0000 2014|Only 0.7% identified as bisexual in new study. 1.6% as gay/lesbian. @JanHoffmanNYT http://nyti.ms/1trSETx\\n491346096011362305|Mon Jul 21 22:16:52 +0000 2014|Books: \\'Proof\\' Drinks in the Science of Alcohol http://nyti.ms/1ncIRiS\\n491346094547566593|Mon Jul 21 22:16:52 +0000 2014|Reactions: Doctor Apologies, Contraceptives and H.I.V., Dosing Dangers, Mystery of Leprosy http://nyti.ms/1wSlo7Y\\n491338354949357568|Mon Jul 21 21:46:07 +0000 2014|Well: A Sleep Apnea Test Without a Night in the Hospital http://nyti.ms/1nczGie\\n491328596087410688|Mon Jul 21 21:07:20 +0000 2014|Well: How Many Americans Are Lesbian, Gay or Bisexual? http://nyti.ms/1nco5Qq\\n491323114455060480|Mon Jul 21 20:45:33 +0000 2014|Salty, sweet, sour, bitter and fatty? A number of categories are competing for entry into the exclusive taste club. http://nyti.ms/1nc8wYN\\n491316636981678082|Mon Jul 21 20:19:49 +0000 2014|Well: A Budding Club of Tastes http://nyti.ms/1wRXrh7\\n491310530297352192|Mon Jul 21 19:55:33 +0000 2014|RT @MarthaRShulman: Easy Ways to Get More Vegetables on the Table, More Often http://nyti.ms/1nyCr9z  Last piece in this fun series on #Mot…\\n491259815201484800|Mon Jul 21 16:34:01 +0000 2014|A Good Appetite: The Ultimate Veggie Burger http://nyti.ms/WyEc1v\\n491258740294041601|Mon Jul 21 16:29:45 +0000 2014|Thinking about doing a half-marathon? Here are some options. Now is the time to sign up. http://bit.ly/cIyke\\n491257322636083200|Mon Jul 21 16:24:07 +0000 2014|RT @nytimesscience: Watch 100,000 cells of a developing embryo move, shift and shuffle in living color. http://nyti.ms/1n5a5IN\\n491251709717774337|Mon Jul 21 16:01:49 +0000 2014|Op-Ed: \"There is no more wasteful entity in medicine than a rushed doctor.” http://nyti.ms/1tqS0Fy\\n491250735523586048|Mon Jul 21 15:57:57 +0000 2014|RT @palafo: “Welcome to Missouri, America’s Drugstore. We aren’t just allowing abuse, we’ve created a business model for dealers\" http://t.…\\n491250449673367553|Mon Jul 21 15:56:48 +0000 2014|A man realizes he is projecting his feelings about his mother onto his dog. http://nyti.ms/1tqQNhK\\n491244838168559616|Mon Jul 21 15:34:30 +0000 2014|Risotto with Tomatoes and Corn http://nyti.ms/WyBQj2\\n491243840419143681|Mon Jul 21 15:30:33 +0000 2014|What’s the point of taking probiotics? http://nyti.ms/1nai8Du\\n491239629241470977|Mon Jul 21 15:13:49 +0000 2014|Uncooked Tomato and Mint Sauce with Poached Eggs http://nyti.ms/UklKYC\\n491237220599463936|Mon Jul 21 15:04:14 +0000 2014|RT @cslnyt: Why is Missouri the only state to NOT have a prescription drug database? @alanschwarz http://nyti.ms/1nMdMON\\n491232533023965184|Mon Jul 21 14:45:37 +0000 2014|Well: Probiotic Logic vs. Gut Feelings http://nyti.ms/1u7WViX\\n491228269547905024|Mon Jul 21 14:28:40 +0000 2014|The New Health Care: Medicare Advantage Is Not Efficient, but It Can Be  http://nyti.ms/1nNCGh8\\n491224973630255104|Mon Jul 21 14:15:34 +0000 2014|Before Albert J. Stunkard, few scientists had truly considered that some people are obese because of their genetics  http://nyti.ms/1na5Ue9\\n491074962804178945|Mon Jul 21 04:19:29 +0000 2014|Dr. Albert J. Stunkard, Destigmatizer of Fat, Dies at 92 http://nyti.ms/1zVIY8j\\n491068318779187200|Mon Jul 21 03:53:05 +0000 2014|Missouri Alone in Resisting Prescription Drug Database http://nyti.ms/1zVFxhH\\n490718632536592385|Sun Jul 20 04:43:33 +0000 2014|Yehuda Nir, a Psychiatrist and Holocaust Survivor, Dies at 84 http://nyti.ms/1n4OVtG\\n490651331972321280|Sun Jul 20 00:16:08 +0000 2014|Jury Awards $23.6 Billion in Florida Smoking Case http://nyti.ms/1qRYNGJ\\n490582747384389632|Sat Jul 19 19:43:36 +0000 2014|Pathogen Mishaps Rise as Regulators Stay Clear  http://nyti.ms/1rzFi7g\\n490340897629175808|Sat Jul 19 03:42:34 +0000 2014|Doctor Accused of Overprescribing Pills Is Guilty of Manslaughter http://nyti.ms/1p3ryAK\\n490265204781891584|Fri Jul 18 22:41:48 +0000 2014|Passengers with a shared cause. Profiles of those headed to the AIDS Conference. http://nyti.ms/1te6W9W http://pbs.twimg.com/media/Bs3FmvyCEAE1-hi.png\\n490244920620625920|Fri Jul 18 21:21:12 +0000 2014|Do you know an AIDS activist or someone else on #MH17? Help pay homage to those who died. http://nyti.ms/1zS4uKW\\n490220558798573568|Fri Jul 18 19:44:23 +0000 2014|RT @jtaylornyt: Any of you science writers attending/covering #AIDS2014 in Melbourne? If so, DM me, please.\\n490215197983129600|Fri Jul 18 19:23:05 +0000 2014|MT @sargoll: A tragedy of war becomes a public health tragedy.  http://nyti.ms/1zRAY8b\\n490214894806257664|Fri Jul 18 19:21:53 +0000 2014|RT @liamstack: \"Leading AIDS Researcher Killed in Malaysia Airlines Flight 17 Crash\" Such a tragedy.  http://nyti.ms/1nErjIa\\n490200916575125504|Fri Jul 18 18:26:20 +0000 2014|President Obama on AIDS researchers, advocates who died. “Important for us to lift them up and affirm their lives.\" http://nyti.ms/1zRAY8b\\n490178766371840000|Fri Jul 18 16:58:19 +0000 2014|“Condolences to all international health workers in this field of honest care and prevention.” From FB page for the AIDS conference.\\n490175322550468608|Fri Jul 18 16:44:38 +0000 2014|RT @Jeffdelviscio: Joep Lange, AIDS researcher presumed dead in #mh17, in his own words on the disease. http://nyti.ms/1rn56Gf\\n490166017650606080|Fri Jul 18 16:07:40 +0000 2014|RT @croakeyblog: MT @jo_m_chandler: Global #AIDS researchers at Melbourne conference mourn colleagues lost in #MH17 http://ti.me/1rwA2RL …\\n490161793604804608|Fri Jul 18 15:50:53 +0000 2014|RT @DoctorYasmin: How do we measure how much a person has done for humanity? People like Joep change the course of epidemics.\\n490161723513794561|Fri Jul 18 15:50:36 +0000 2014|RT @DoctorYasmin: What a HUGE loss to the world. Just learned that dear friend, amazing father to 5 girls and veteran AIDS researcher Joep …\\n490148282937925632|Fri Jul 18 14:57:11 +0000 2014|RT @heathertal: Dr. Joep Lange, the HIV researcher who died in the Malaysia Airlines  crash, sounds like an incredible man.  http://t.co/Za…\\n490147353538871296|Fri Jul 18 14:53:30 +0000 2014|The weekly health quiz. The daily recommended level of physical activity for teens is … http://nyti.ms/1te9bdF\\n490144678571171840|Fri Jul 18 14:42:52 +0000 2014|Leading AIDS Researcher Killed in Malaysia Airlines Crash http://nyti.ms/1nTekr3\\n490119774220066817|Fri Jul 18 13:03:54 +0000 2014|Well: Stir-Fries With a Touch of Thai http://nyti.ms/1oQPMLF\\n489960470431170561|Fri Jul 18 02:30:53 +0000 2014|Matter: A Call to Fight Malaria One Mosquito at a Time by Altering DNA http://nyti.ms/UeJddQ\\n489953873780830208|Fri Jul 18 02:04:41 +0000 2014|Well: A Vasectomy May Increase Prostate Cancer Risk http://nyti.ms/UeHUeP\\n489947525617430528|Fri Jul 18 01:39:27 +0000 2014|2 in Florida Said to Catch Fever Found in Tropics http://nyti.ms/1qjhoQ6\\n489883789611786241|Thu Jul 17 21:26:11 +0000 2014|RT @paula_span: For everyone who couldn\\'t stomach \"Amour\": a non-depressing movie about old people. http://newoldage.blogs.nytimes.com/2014/07/17/warming-times-in-a-cold-land/\\n489876700889874432|Thu Jul 17 20:58:01 +0000 2014|The New Old Age Blog: Warming Times in a Cold Land http://nyti.ms/1qiPlk0\\n489856109986197504|Thu Jul 17 19:36:12 +0000 2014|RT @deborahblum: What are the risks of nanoparticles in sunscreens? By me for @nytimeshealth. With a cool video!  http://nyti.ms/1zNk0HZ\\n489848776031760384|Thu Jul 17 19:07:03 +0000 2014|RT @MarthaRShulman: Stir-fried Rice With Amaranth or Red Chard and Thai Basil http://nyti.ms/1zKrifz Another great summer #stir-fry on #Rec…\\n489845916828839936|Thu Jul 17 18:55:42 +0000 2014|Ask Well: Is Your Sunscreen Safe? http://nyti.ms/1r6YoCq\\n489833703905173506|Thu Jul 17 18:07:10 +0000 2014|RT @UpshotNYT: Health spending is slowing in a lot of other countries too. Should we rethink our assumptions? http://nyti.ms/1rjxARa http:/…\\n489827120584327168|Thu Jul 17 17:41:00 +0000 2014|Well: Ask Well: Nanoparticles in Sunscreens http://nyti.ms/1nBbCl1\\n489799529827663872|Thu Jul 17 15:51:22 +0000 2014|Do you get our weekly health newsletter? Sign up here http://nyti.ms/1mRcCpQ\\n489789192344322050|Thu Jul 17 15:10:17 +0000 2014|Well: The CPR We Don’t See on TV http://nyti.ms/1mXXne1\\n489784965761347584|Thu Jul 17 14:53:30 +0000 2014|The Weird, Scary and Ingenious Brain of Maria Bamford http://nyti.ms/1l8gVID\\n489784963790012416|Thu Jul 17 14:53:29 +0000 2014|Riff: Is Your Relationship With Fido on the Rocks? http://nyti.ms/1mXUVEw\\n489783446605430784|Thu Jul 17 14:47:28 +0000 2014|RT @celiadugger: Pig\\'s heart, lot like human\\'s, injected with a gene that made heartbeat regular, tho only for days, scientists rept. http:…\\n489780925795143680|Thu Jul 17 14:37:27 +0000 2014|Feeling guilty about keeping your aircon on at night? Research hints that a cooler bedroom could mean better sleep. http://nyti.ms/1mQU9cZ\\n489754572504576001|Thu Jul 17 12:52:43 +0000 2014|You can almost effortlessly tweak your metabolic health by lower the bedroom thermostat http://nyti.ms/1l7Dopl\\n489625505306390528|Thu Jul 17 04:19:51 +0000 2014|Well: Let’s Cool It in the Bedroom http://nyti.ms/UdiZs9\\n489625503033065473|Thu Jul 17 04:19:51 +0000 2014|Well: A Family Plot http://nyti.ms/1tTRVOX\\n489615602600783872|Thu Jul 17 03:40:30 +0000 2014|C.D.C. Director Admits to Pattern of Unsafe Practices http://nyti.ms/UdfHVE\\n489615600184860672|Thu Jul 17 03:40:30 +0000 2014|V.A. Official Says Fixing Issues at Root of Waiting-List Scandal Will Cost Billions http://nyti.ms/1tTKXt6\\n489608185980805120|Thu Jul 17 03:11:02 +0000 2014|Is Truvada, the pill to prevent H.I.V., 99 percent effective? Don’t be so sure http://nyti.ms/1oJv9kl\\n489596117147844608|Thu Jul 17 02:23:05 +0000 2014|Gene therapy may one day be an alternative to electronic pacemakers http://nyti.ms/1oJw58t\\n489575760416366592|Thu Jul 17 01:02:11 +0000 2014|Next to sunscreen, your smartphone may be the best thing to help you avoid a sunburn http://nyti.ms/1oJuIXs\\n489561680615964672|Thu Jul 17 00:06:14 +0000 2014|Weather may not affect back pain after all http://nyti.ms/1oJwDLF\\n489524999909175296|Wed Jul 16 21:40:29 +0000 2014|RT @David_Dobbs: How the Tobacco Industry Shaped the Science of Stress http://wp.me/p3Aigm-FMr\\n489524795734646785|Wed Jul 16 21:39:40 +0000 2014|RT @albertsun: Still no pill that treats cardiovascular disease, etc as well as lifestyle change http://well.blogs.nytimes.com/2014/07/16/3-things-to-know-about-niacin-and-heart-health/\\n489516938406531072|Wed Jul 16 21:08:27 +0000 2014|Well: 3 Things to Know About Niacin and Heart Health http://nyti.ms/1wwmOVy\\n489498470597009409|Wed Jul 16 19:55:04 +0000 2014|Family That Owns Hobby Lobby Plans Bible Museum in Washington http://nyti.ms/1t4CyPq\\n489494180151193600|Wed Jul 16 19:38:01 +0000 2014|App Smart: Have Your Time in the Sun, and Not a Minute Longer http://nyti.ms/1mVgUvK\\n489494179106811904|Wed Jul 16 19:38:01 +0000 2014|Calculating Risk: Is Truvada, the Pill to Prevent H.I.V., 99 Percent Effective? Don’t Be So Sure http://nyti.ms/1t4CyyX\\n489474482890100737|Wed Jul 16 18:19:45 +0000 2014|Gene Therapy Used to Create ‘Biological Pacemaker’ in Pigs http://nyti.ms/1mhOesA\\n489470286082084864|Wed Jul 16 18:03:04 +0000 2014|RT @paula_span: We\\'re going to be hearing more about stress reduction and \"lifestyle modification\" to prevent or delay dementia. http://t.c…\\n489469618776723456|Wed Jul 16 18:00:25 +0000 2014|The trainer of German soccer stars offers tips for the rest of us. http://nyti.ms/1qfo2Hh\\n489463015532924928|Wed Jul 16 17:34:11 +0000 2014|Well: Weather May Not Affect Back Pain http://nyti.ms/WhMWJ6\\n489444854691135489|Wed Jul 16 16:22:01 +0000 2014|The case for a uniform unit for liquid medicines http://nyti.ms/1mIcYis\\n489442751097098240|Wed Jul 16 16:13:39 +0000 2014|Recipes for Health: Stir-Fried Turkey Breast With Snap or Snow Peas and Chard http://nyti.ms/WhEsSn\\n489430677402968064|Wed Jul 16 15:25:41 +0000 2014|The German players covered 71 miles on average as a team per game. Only the Americans ran more, says their trainer.  http://nyti.ms/1qfo2Hh\\n489430202385440770|Wed Jul 16 15:23:48 +0000 2014|Roche Reports Mixed Results in Trial of an Alzheimer’s Drug http://nyti.ms/Why8Kv\\n489428614556168193|Wed Jul 16 15:17:29 +0000 2014|RT @nytimeswell: The case for a uniform unit for liquid medicines http://nyti.ms/1mIcYis\\n489424056618606594|Wed Jul 16 14:59:22 +0000 2014|RT @cslnyt: The push for steadier shifts for part-time workers. I\\'d imagine there would be health benefits, too @greenhousenyt http://t.co/…\\n489419477915025408|Wed Jul 16 14:41:11 +0000 2014|FIFA has taken a misguided approach to concussions in large part because of the sport\\'s substitution rules http://nyti.ms/1qfw8jd\\n489302104713228289|Wed Jul 16 06:54:47 +0000 2014|Medicaid Home Care Cuts Are Unjust, Lawsuit Says http://nyti.ms/1oGSdAl\\n489262479784947712|Wed Jul 16 04:17:19 +0000 2014|Well: Train Like a German Soccer Star http://nyti.ms/1mTeWMv\\n489257584273399808|Wed Jul 16 03:57:52 +0000 2014|Op-Ed Contributor: The Benefits of Failing at French http://nyti.ms/1mTdwl8\\n489249033953628161|Wed Jul 16 03:23:54 +0000 2014|The New Smoke: E-Cigarette Makers Are in an Arms Race for Exotic Vapor Flavors http://nyti.ms/1nuBCP9\\n489245044042637312|Wed Jul 16 03:08:02 +0000 2014|At NewYork-Presbyterian Hospital, Its Ex-C.E.O. Finds Lucrative Work  http://nyti.ms/1nuBD5n\\n489245042549473280|Wed Jul 16 03:08:02 +0000 2014|Sports of The Times: World Cup 2014: Christoph Kramer’s Head Injury Brings FIFA’s Problem to the Forefront http://nyti.ms/W8X0nu\\n489209810454200321|Wed Jul 16 00:48:02 +0000 2014|Study: Testosterone therapy does not extend the lives of early prostate cancer patients http://nyti.ms/1oEQhZh\\n489200163148562432|Wed Jul 16 00:09:42 +0000 2014|Living With Uncertainty: Expected Health Spending Declines — Again http://nyti.ms/1mfqPI1\\n489196038788751360|Tue Jul 15 23:53:19 +0000 2014|Novartis Joins With Google to Develop Contact Lens That Monitors Blood Sugar http://nyti.ms/W8yZgj\\n489196037513703424|Tue Jul 15 23:53:18 +0000 2014|Death Toll From Ebola Surges in West Africa, Prompting Alarm http://nyti.ms/1mfqQM5\\n489170604184973312|Tue Jul 15 22:12:15 +0000 2014|Try this sweet stir-fry with Thai flavors (Photo: Andrew Scrivani for NYT) http://nyti.ms/1mH7uVg http://pbs.twimg.com/media/BsmNHw6CUAAp8uL.jpg\\n489168670024007681|Tue Jul 15 22:04:33 +0000 2014|The New Old Age Blog: Small Changes, and Hopes, for Preventing Dementia http://nyti.ms/1mIolXI\\n489139190857494528|Tue Jul 15 20:07:25 +0000 2014|Well: Stroke Rates Are Declining http://nyti.ms/1roNQOd\\n489131762053054464|Tue Jul 15 19:37:54 +0000 2014|Readers ask: Can exercise cause headaches? http://nyti.ms/1oFf6nN\\n489090043739254786|Tue Jul 15 16:52:07 +0000 2014|Novartis joins with Google to develop a smart contact lens with the potential to monitor blood sugar levels http://nyti.ms/1oEDNk8\\n489080940820701184|Tue Jul 15 16:15:57 +0000 2014|Well: A Spoonful of Medicine May Put Children at Risk http://nyti.ms/1qcN1en\\n489072296762830848|Tue Jul 15 15:41:36 +0000 2014|Little is known about the placenta, making it fertile territory for potential medical breakthroughs http://nyti.ms/1mH2903\\n489061406550282240|Tue Jul 15 14:58:20 +0000 2014|Corn, Squash, Red Onion and Tomatoes Stir-Fried in Coconut Oil http://nyti.ms/1sjBg5t\\n488817431646064641|Mon Jul 14 22:48:52 +0000 2014|Reactions: AIDS \\'Cures,\\' Sharing Therapy Notes, Examining the Physical Exam  http://nyti.ms/1wnnsV8\\n488814121144815616|Mon Jul 14 22:35:42 +0000 2014|RT @bydanielvictor: Six dangerous vials of the smallpox virus were just hanging out, unguarded, in a research lab since 1954 http://t.co/9O…\\n488813102004441089|Mon Jul 14 22:31:39 +0000 2014|Essay: The Advanced Metrics of Attraction http://nyti.ms/1wnaZkz\\n488813101006217217|Mon Jul 14 22:31:39 +0000 2014|The Doctor\\'s World: Ticking Viral Bombs, Left in Boxes http://nyti.ms/1wnihVb\\n488808599359995904|Mon Jul 14 22:13:46 +0000 2014|Real-Life Illness in a Virtual World http://nyti.ms/1mDmbZw\\n488808596730163200|Mon Jul 14 22:13:45 +0000 2014|Global Health: New Contraceptive Shot Being Released in Africa http://nyti.ms/1mDqrrP\\n488808335664513024|Mon Jul 14 22:12:43 +0000 2014|RT @cslnyt: Kids in India may be malnourished from lack of toilets, not food. Surprising story by @GardinerHarris  http://nyti.ms/1kmlDCt\\n488803974435602432|Mon Jul 14 21:55:23 +0000 2014|The Push to Understand the Placenta http://nyti.ms/1wnaZkx\\n488803973470908417|Mon Jul 14 21:55:23 +0000 2014|Well: Saying Sorry, but for What? http://nyti.ms/1mDo7kC\\n488799535628435456|Mon Jul 14 21:37:45 +0000 2014|Well: Pelvic Exercises for Men, Too http://nyti.ms/1wn9Byn\\n488799280392855552|Mon Jul 14 21:36:44 +0000 2014|RT @markoff: Real-Life Illness in a Virtual World, via @nytimes  http://nyti.ms/W4hFca\\n488798062798974977|Mon Jul 14 21:31:54 +0000 2014|Kegels for men. http://nyti.ms/1nzCvdG\\n488792504289198080|Mon Jul 14 21:09:49 +0000 2014|Well: Study Discounts Testosterone Therapy for Early Prostate Cancer http://nyti.ms/1mDdQoC\\n488788246617661440|Mon Jul 14 20:52:53 +0000 2014|Well: Drug Shows Promise for Common Cause of Infertility http://nyti.ms/1mDbhTp\\n488780749471248384|Mon Jul 14 20:23:06 +0000 2014|Books: In Defense of Indispensable Dad http://nyti.ms/1wmU4hV\\n488778597088649218|Mon Jul 14 20:14:33 +0000 2014|RT @GardinerHarris: Malnourished children may need toilets more than food. http://mobile.nytimes.com/2014/07/15/world/asia/poor-sanitation-in-india-may-afflict-well-fed-children-with-malnutrition.html\\n488766921664626689|Mon Jul 14 19:28:09 +0000 2014|RT @lpolgreen: More stunning facts from @gardinerharris\\' sanitation story: one 1% of Chinese, 3% of Bangladeshis defecate outdoors. 50% of …\\n488766883248996352|Mon Jul 14 19:28:00 +0000 2014|RT @lpolgreen: India spends $20 billion on food for the poor, and just $400 million on sanitation. Numbers should be reversed, experts say.\\n488753390046810112|Mon Jul 14 18:34:23 +0000 2014|Well: Ask Well: Exercise and Headaches http://nyti.ms/1mCFq5j\\n488706010241331200|Mon Jul 14 15:26:07 +0000 2014|Recipes for Health: Stir-Fried Beans With Tofu and Chiles http://nyti.ms/1qag3LD\\n488683262353883136|Mon Jul 14 13:55:43 +0000 2014|Well: We Are Our Bacteria http://nyti.ms/1qa3OhT\\n488534387794124800|Mon Jul 14 04:04:09 +0000 2014|After Lapses, C.D.C. Admits a Lax Culture at Labs http://nyti.ms/1kTzdgN\\n488447178491568128|Sun Jul 13 22:17:36 +0000 2014|RT @paula_span: Why do hospital visitors have to leave at 8 pm? An argument for unrestricted visiting -- even in  ICUs. http://t.co/Tm3jXbA…\\n488446728199499777|Sun Jul 13 22:15:49 +0000 2014|RT @celiadugger: New meta-analysis of organic food finds less pesticide residues but can\\'t settle ? of whether better for health. http://t.…\\n488446528550629376|Sun Jul 13 22:15:01 +0000 2014|RT @cslnyt: Barcelona\\'s Marijuana Clubs where some smoke for medical reasons @Suzannedaley  http://nyti.ms/1y0e1xM\\n488446205031366656|Sun Jul 13 22:13:44 +0000 2014|RT @deborahblum: This is just so sad: How One College Handled a Sexual Assault Complaint http://nyti.ms/1niTooo\\n488446117584310272|Sun Jul 13 22:13:24 +0000 2014|RT @suleikajaouad: \"People in pain seek both to describe their suffering and to give meaning to it\" Great @nytimes read by Joanna Bourke ht…\\n487821090547597312|Sat Jul 12 04:49:45 +0000 2014|Op-Ed Contributor: The Trouble With Brain Science http://nyti.ms/1qtaGCU\\n487803732655370240|Sat Jul 12 03:40:47 +0000 2014|Fertility Clinics Scan for the Strongest Embryo http://nyti.ms/1qSfq7j\\n487799416578125824|Sat Jul 12 03:23:38 +0000 2014|Business Briefing: Senators Query Hepatitis C Drug’s High Costs http://nyti.ms/1qSfq7l\\n487799415617646592|Sat Jul 12 03:23:38 +0000 2014|Study of Organic Crops Finds Fewer Pesticides and More Antioxidants  http://nyti.ms/1qt4o6q\\n487701509065678848|Fri Jul 11 20:54:35 +0000 2014|Well: Doubts on Fasting Before Cholesterol Tests http://nyti.ms/1r4m7EV\\n487652029184376832|Fri Jul 11 17:37:58 +0000 2014|The New Old Age Blog: A Move to Extend Visiting Hours at Hospitals http://nyti.ms/1r3NcYV\\n487652027409772546|Fri Jul 11 17:37:58 +0000 2014|C.D.C. Closes Anthrax and Flu Labs After Accidents http://nyti.ms/1y4gvuQ\\n487612804695072768|Fri Jul 11 15:02:06 +0000 2014|Innovation: Who Made That Ice Pack? http://nyti.ms/1q3EIkV\\n487608004796510209|Fri Jul 11 14:43:02 +0000 2014|Lives: My Mother’s Miracle-Water Cure http://nyti.ms/1sGXagm\\n487608003563360256|Fri Jul 11 14:43:02 +0000 2014|A Medicine to Some: Don’t Laugh: Berkeley Plans to Give Free Marijuana to the Poor http://nyti.ms/1sGXagi\\n487451026954670082|Fri Jul 11 04:19:15 +0000 2014|Well: These Fruits Were Made for Grilling http://nyti.ms/1s0Rq3D\\n487426834133712896|Fri Jul 11 02:43:07 +0000 2014|Questcor Reveals Adverse Events Data for Acthar for First Time http://nyti.ms/1qpTYUV\\n487426833206759425|Fri Jul 11 02:43:07 +0000 2014|Barcelona Journal: Marijuana Clubs Rise Out of Decades-Old Spanish Laws http://nyti.ms/1qpTWMI\\n487351698386866176|Thu Jul 10 21:44:34 +0000 2014|RT @celiadugger: Sad news: the Mississippi baby thought to be cured of HIV now showing signs of infection.  http://nyti.ms/1kJjMaN\\n487342560604856321|Thu Jul 10 21:08:15 +0000 2014|Signs of Infection Seen in Child Believed to Have Been Cured of H.I.V. http://nyti.ms/1qp2tQi\\n487290819519733760|Thu Jul 10 17:42:39 +0000 2014|Well: Living With Cancer: Parting Gifts http://nyti.ms/1mOs9aL\\n487275881597902848|Thu Jul 10 16:43:17 +0000 2014|The New Old Age Blog: Where Older People Are Gloomy About Their Health http://nyti.ms/1xYHqII\\n487244367124783104|Thu Jul 10 14:38:04 +0000 2014|Possible Asbestos Risk at U.S. Capitol Building http://nyti.ms/1jgD5Nz\\n487163561681387520|Thu Jul 10 09:16:58 +0000 2014|Well: A Headbanger’s Headache http://nyti.ms/1miDa2W\\n487103113141428224|Thu Jul 10 05:16:46 +0000 2014|Well: The Physical Exam as Refuge http://nyti.ms/1sA0WrV\\n487099258806730752|Thu Jul 10 05:01:27 +0000 2014|Closing Arguments in Case of Doctor Accused of Overprescribing Drugs http://nyti.ms/1sA0YAa\\n487099257435217920|Thu Jul 10 05:01:27 +0000 2014|Health Insurers Are Trying New Payment Models, Study Shows http://nyti.ms/1q0OTH1\\n487095290764484608|Thu Jul 10 04:45:41 +0000 2014|A Survey Says: Newest Health Insurance Customers Are Generally Happy http://nyti.ms/1q0OTGZ\\n487095289883656192|Thu Jul 10 04:45:41 +0000 2014|Race Is On to Profit From Rise of Urgent Care http://nyti.ms/1sA0YA4\\n487078036408254464|Thu Jul 10 03:37:08 +0000 2014|America’s young people, as a group, are becoming more out of shape with every passing year http://nyti.ms/1mIZ80m\\n487041531824459776|Thu Jul 10 01:12:04 +0000 2014|Drug-resistant tuberculosis is on the rise http://nyti.ms/1xU0ZSr via @nytopinion\\n487018872982097921|Wed Jul 09 23:42:02 +0000 2014|Lettuce turnip the beet http://nyti.ms/1xTUoYa\\n486984329260974080|Wed Jul 09 21:24:46 +0000 2014|Europe Fines Servier in Pay-for-Delay Crackdown http://nyti.ms/VYT09l\\n486965947119702016|Wed Jul 09 20:11:43 +0000 2014|Staple closures are faster, but suture closures are safer after a C-section http://nyti.ms/1xTFtx3\\n486935846335950849|Wed Jul 09 18:12:07 +0000 2014|No, contraception coverage does not usually pay for itself http://nyti.ms/1mJoeMl\\n486920209425760256|Wed Jul 09 17:09:59 +0000 2014|The rapid price increases for some generic drugs have caught doctors and patients by surprise http://nyti.ms/1mJjQNq\\n486893969461485568|Wed Jul 09 15:25:43 +0000 2014|Well: Staples vs. Sutures After C-Section http://nyti.ms/U3MH2H\\n486892211708379136|Wed Jul 09 15:18:43 +0000 2014|America’s young people, as a group, are becoming more out of shape with every passing year http://nyti.ms/1mIZ80m\\n486726231376007168|Wed Jul 09 04:19:11 +0000 2014|Probing Brain’s Depth, Trying to Aid Memory http://nyti.ms/VHWfBD\\n486726230008668160|Wed Jul 09 04:19:10 +0000 2014|Well: This Is Our Youth http://nyti.ms/VHY1mj\\n486722323052232704|Wed Jul 09 04:03:39 +0000 2014|Democrats Push Bill to Reverse Supreme Court Ruling on Contraceptives http://nyti.ms/1kCeNJ1\\n486718007939694592|Wed Jul 09 03:46:30 +0000 2014|Using M.C.s and M.D.s to Promote Healthy Eating for Youths http://nyti.ms/VHSMCY\\n486718006878543872|Wed Jul 09 03:46:30 +0000 2014|Six Vials of Smallpox Discovered in Laboratory Near Washington http://nyti.ms/VHSMCU\\n486697277621145600|Wed Jul 09 02:24:08 +0000 2014|Excessive drinking is the fourth leading cause of preventable death in the United States http://nyti.ms/1mFreJQ\\n486663808362885120|Wed Jul 09 00:11:08 +0000 2014|Try this refreshing grilled watermelon and feta salad (Photo: Andrew Scrivani for NYT) http://nyti.ms/1mFsHzM http://pbs.twimg.com/media/BsDQpAHCcAE3pga.jpg\\n486633116400766978|Tue Jul 08 22:09:10 +0000 2014|Would you want to read your therapist\\'s notes after each session? http://nyti.ms/1mFp3WB\\n486620561770954754|Tue Jul 08 21:19:17 +0000 2014|Vials of Smallpox Found in F.D.A. Storage Room http://nyti.ms/1r6OGir\\n486617905313112065|Tue Jul 08 21:08:44 +0000 2014|Coming to the United States for a baby, and womb to carry it (Photo: Matt Rainey for NYT) http://nyti.ms/1xOiKm5 http://pbs.twimg.com/media/BsDQZ-ECIAEq1yU.jpg\\n486581789096697856|Tue Jul 08 18:45:13 +0000 2014|RT @paula_span: How useful are five-star ratings Medicare awards for nursing homes? Ohio residents, families say: Not very. http://t.co/6r7…\\n486568181847576576|Tue Jul 08 17:51:09 +0000 2014|Long waits to get a doctor\\'s appointment have become the norm in many parts of American medicine http://nyti.ms/1xNnM27 via @nytopinion\\n486555011464585217|Tue Jul 08 16:58:49 +0000 2014|The New Old Age Blog: The Fault in Our Stars http://nyti.ms/1r6ddEh\\n486539604599001088|Tue Jul 08 15:57:35 +0000 2014|RT @celiadugger: 1.5 million tons of flame retardants are used annually and get into everything from peanut butter to women\\'s bodies. http:…\\n486529783975931905|Tue Jul 08 15:18:34 +0000 2014|RT @dacorc: Fascinating, from @JanHoffmanNYT: What the Therapist Thinks About You http://nyti.ms/1n1p5SY\\n486283818362748928|Mon Jul 07 23:01:11 +0000 2014|Profiles in Science: A Billionaire Mathematician’s Life of Ferocious Curiosity http://nyti.ms/1mt5NK8\\n486274207396159490|Mon Jul 07 22:23:00 +0000 2014|RT @nytdining: .@Bittman is giving tofu the new look it deserves: http://nyti.ms/1pVqAdr Photo: @esung http://pbs.twimg.com/media/Br-VjIOIYAAKBSD.jpg\\n486267214245658624|Mon Jul 07 21:55:12 +0000 2014|Global Health: New Field Tests May Curb Kissing Bug Disease http://nyti.ms/1m9Sz5z\\n486241709773565953|Mon Jul 07 20:13:52 +0000 2014|Well: What the Therapist Thinks About You http://nyti.ms/1m9EsgB\\n486224971145158656|Mon Jul 07 19:07:21 +0000 2014|RT @GabrielleGlaser: Some hopeful news. My latest on evidence-based treatment of substance abuse: A Different Path to Fighting Addiction ht…\\n486221286952407040|Mon Jul 07 18:52:43 +0000 2014|RT @MarthaRShulman: Grilled Vanilla-Ginger Pineapple http://nyti.ms/1zkguo8 Don\\'t put away your grills! Grilled fruit all week on #Recipesf…\\n486209214399131648|Mon Jul 07 18:04:44 +0000 2014|Well: Studying May Make You Nearsighted http://nyti.ms/1j93LzH\\n486205381023379456|Mon Jul 07 17:49:30 +0000 2014|Well: Alcohol Remains a Leading Killer http://nyti.ms/1j938pW\\n486191101507035137|Mon Jul 07 16:52:46 +0000 2014|Well: Weekend Dangers at the E.R. http://nyti.ms/1j8VTym\\n486184377152729089|Mon Jul 07 16:26:03 +0000 2014|RT @tamarnyt: With surrogacy illegal in so many countries, more foreign couples heading to US for a womb, and a baby   http://t.co/JUE9Vo9U…\\n486183953339252736|Mon Jul 07 16:24:21 +0000 2014|How closely have you been following health news? The weekly quiz: http://nyti.ms/1tgaFaO\\n486178421731766272|Mon Jul 07 16:02:23 +0000 2014|RT @celiadugger: It\\'s not just VA patients who wait for apts. So do privately insured Americans,  writes @nytrosenthal. http://t.co/Gn4BtqF…\\n486178351481389057|Mon Jul 07 16:02:06 +0000 2014|RT @nytrosenthal: http://www.nytimes.com/2014/07/06/sunday-review/long-waits-for-doctors-appointments-have-become-the-norm.html To discuss long U.S. wait times and solutions, please join our Facebook Group  https://t.co/lmM8QF…\\n486178327468990464|Mon Jul 07 16:02:00 +0000 2014|RT @nytrosenthal: Myth that US patients don\\'t wait for medical care. They do! http://www.nytimes.com/2014/07/06/sunday-review/long-waits-for-doctors-appointments-have-become-the-norm.html. Join NYT new Paying Till it Hurts FB …\\n486178167334653952|Mon Jul 07 16:01:22 +0000 2014|RT @cslnyt: Fighting addiction without A.A. @gabrielleglaser http://nyti.ms/1qDgmxF\\n486174278938025984|Mon Jul 07 15:45:55 +0000 2014|Recipes for Health: Grilled Vanilla-Ginger Pineapple http://nyti.ms/1qbUOEG\\n486159407353720833|Mon Jul 07 14:46:49 +0000 2014|The New Health Care: Gingrich’s Correct Prediction About Medicare’s Future http://nyti.ms/1qbKug6\\n486000614611353600|Mon Jul 07 04:15:50 +0000 2014|Well: Overweight and Pregnant http://nyti.ms/1lMoGn8\\n485569747233550336|Sat Jul 05 23:43:43 +0000 2014|Foreign Couples Heading to America for Surrogate Pregnancies http://nyti.ms/1zgxKeb\\n485565040838193152|Sat Jul 05 23:25:01 +0000 2014|Foreign Couples Heading to America for Surrogate Pregnancies http://nyti.ms/1zgwyY2\\n485425398935994368|Sat Jul 05 14:10:08 +0000 2014|Remember to reapply your sunscreen! http://nyti.ms/1qCzRGD\\n485248904561446913|Sat Jul 05 02:28:49 +0000 2014|Obama Weighs Steps to Cover Contraception http://nyti.ms/TUNumh\\n485236091297865728|Sat Jul 05 01:37:54 +0000 2014|Virus Plagues the Pork Industry, and Environmentalists http://nyti.ms/1j3MKqN\\n484913764224229376|Fri Jul 04 04:17:05 +0000 2014|Well: Adopt a Bean and Cook With It http://nyti.ms/1lDZQ8J\\n484896300828459008|Fri Jul 04 03:07:41 +0000 2014|A Different Path to Fighting Addiction http://nyti.ms/1otiKnz\\n484896299276578816|Fri Jul 04 03:07:41 +0000 2014|Birth Control Order Deepens Divide Among Justices http://nyti.ms/1j1SRvK\\n484805714222010369|Thu Jul 03 21:07:44 +0000 2014|Your questions on Truvada, answered: http://nyti.ms/1qCANLb\\n484805375167062017|Thu Jul 03 21:06:23 +0000 2014|More on Truvada, the drug that could transform AIDS prevention in the United States: http://nyti.ms/1qCAAHR\\n484803227704360962|Thu Jul 03 20:57:51 +0000 2014|Moving beyond condoms as HIV risk-reduction tool. Gov. Andrew Cuomo pushes for new strategy.  http://nyti.ms/1qCz9t7\\n484790700899581952|Thu Jul 03 20:08:04 +0000 2014|The Think Like a Doctor answer is … Insulinoma. A reader who was not a doctor figured it out. http://nyti.ms/1qCpD9n\\n484785299269386240|Thu Jul 03 19:46:36 +0000 2014|Fighting an Epidemic: Pill to Prevent H.I.V. Gets a Prominent Backer: Andrew Cuomo http://nyti.ms/Vj7MqL\\n484775388455780352|Thu Jul 03 19:07:13 +0000 2014|Well: Think Like a Doctor: Sugar-Free Solved! http://nyti.ms/ViXAyx\\n484770755390222336|Thu Jul 03 18:48:49 +0000 2014|RT @paula_span: Is it condescending to warn seniors about #benzos risks and try to help them quit? Some New Old Age readers unhappy. http:/…\\n484734783931813888|Thu Jul 03 16:25:53 +0000 2014|RT @heathertal: Parents must spend more than $500 on mandatory vaccine. Meanwhile manufacturer is making $4 billion. @nytrosenthal http://t…\\n484718841197772800|Thu Jul 03 15:22:32 +0000 2014|RT @nytrosenthal: Who knew kids vaccinations had become so pricey? The latest from NYT series Paying Till it Hurts.  http://www.nytimes.com/2014/07/03/health/Vaccine-Costs-Soaring-Paying-Till-It-Hurts.html\\n484718782485921792|Thu Jul 03 15:22:18 +0000 2014|RT @nytrosenthal: Read to end of vaccine piece: We started a NYT Paying Till it Hurts Facebook Group to talk HC prices! Please join! https:…\\n484718650562449408|Thu Jul 03 15:21:46 +0000 2014|RT @celiadugger: 100s of 1000s of Americans get spinal shots for back &amp; leg pain but randomized trial finds the don\\'t help much. http://t.c…\\n484712832827928576|Thu Jul 03 14:58:39 +0000 2014|RT @ReedAbelson: Jamie Dimon’s Cancer Revelation Raises Questions About Disclosing the C.E.O.’s Illness http://nyti.ms/1qzxq7Q\\n484648552787099648|Thu Jul 03 10:43:13 +0000 2014|Well: The Doctor Gets V.I.P. Treatment http://nyti.ms/1mWrzGO\\n484551061471232000|Thu Jul 03 04:15:50 +0000 2014|Well: Ask Well: Reapply Your Sunscreen http://nyti.ms/1jLKQpI\\n484539837933182977|Thu Jul 03 03:31:14 +0000 2014|DealBook: Jamie Dimon’s Cancer Revelation Raises Questions About Disclosing the C.E.O.’s Illness http://nyti.ms/1mmrpth\\n484539836985253888|Thu Jul 03 03:31:14 +0000 2014|Paying Till It Hurts: The Price of Prevention: Vaccine Costs Soaring http://nyti.ms/1oaTbpu\\n484535447889379328|Thu Jul 03 03:13:47 +0000 2014|National Briefing | Midwest: Missouri: Three-Day Wait for Abortion Is Vetoed http://nyti.ms/1mmoVep\\n484535446958276609|Thu Jul 03 03:13:47 +0000 2014|Rick Perry Turns From Beloved Cowboy Boots http://nyti.ms/1oaOyvI\\n484531438260600834|Thu Jul 03 02:57:51 +0000 2014|After Criticism, Investigator Steps Down From the V.A. http://nyti.ms/1oaOyvG\\n484531436964573184|Thu Jul 03 02:57:51 +0000 2014|Insurers on New York State’s Health Exchange Seek Significant Rate Increases http://nyti.ms/1mmoVen\\n484448386167623681|Wed Jul 02 21:27:50 +0000 2014|RT @BarryMeier: Update: Sgt. Shane Savage of \"A Soldier\\'s War on Pain\" http://nyti.ms/1mNebGV had amputation. He\\'s feeling good and ready t…\\n484448292945010688|Wed Jul 02 21:27:28 +0000 2014|RT @PamBelluck: For people with back pain, an important new study: do steroid injections for spinal stenosis work? http://nyti.ms/1vxMZun\\n484444737542569985|Wed Jul 02 21:13:20 +0000 2014|Common Treatment for Back Pain Provides Little Help, Study Says http://nyti.ms/1o2FnMu\\n484436345444904960|Wed Jul 02 20:39:59 +0000 2014|RT @cslnyt: Is practice variation ok?Or should medicine be strictly evidence-based?  @aaronecarroll    http://nyti.ms/1qTjW6N\\n484435496861724672|Wed Jul 02 20:36:37 +0000 2014|RT @paula_span: A brochure can help wean older adults off risky benzos -- sleeping pills. http://newoldage.blogs.nytimes.com/2014/07/02/weaning-older-patients-off-of-sleeping-pills/\\n484422971206160384|Wed Jul 02 19:46:51 +0000 2014|State of the Art: The Bright Side of Facebook’s Social Experiments on Users http://nyti.ms/1pXvCle\\n484402471696351233|Wed Jul 02 18:25:23 +0000 2014|The New Old Age Blog: Weaning Older Patients Off of Sleeping Pills http://nyti.ms/1m9elpD\\n484395946307231744|Wed Jul 02 17:59:27 +0000 2014|RT @nytimes: Moderate exercise may help to slow the progression of Alzheimer\\'s disease http://nyti.ms/1mK6rip\\n484321748478099456|Wed Jul 02 13:04:37 +0000 2014|Well: Think Like a Doctor: Sugar-Free http://nyti.ms/1o1Aa7D\\n484305663125114880|Wed Jul 02 12:00:42 +0000 2014|For all the antiquity and notoriety of leprosy, the disease continues to surprise and confound http://nyti.ms/TCriwV\\n484195469024059392|Wed Jul 02 04:42:50 +0000 2014|World Briefing: Ebola Outbreak Is Largest Ever http://nyti.ms/1mj0IFX\\n484195467702845440|Wed Jul 02 04:42:50 +0000 2014|Nutrition Group Lobbies Against Healthier School Meals It Sought, Citing Cost http://nyti.ms/TBC3zz\\n484190171525824512|Wed Jul 02 04:21:47 +0000 2014|Well: Can Exercise Reduce Alzheimer’s Risk? http://nyti.ms/TBzWfc\\n484175138670120960|Wed Jul 02 03:22:03 +0000 2014|Flame retardants have been found in a multitude of places, from breast milk to Antarctic penguins http://nyti.ms/1qvRYy1\\n484140405470949376|Wed Jul 02 01:04:02 +0000 2014|The psychology of the penalty kick http://nyti.ms/1rUYkEI\\n484064852286005250|Tue Jul 01 20:03:48 +0000 2014|Prescription Drug Deaths in Florida Plunge After Tougher Laws http://nyti.ms/1rebbEv\\n484034208428752898|Tue Jul 01 18:02:02 +0000 2014|The illogic of employer-sponsored health insurance http://nyti.ms/1rUkxTf\\n484025611728723968|Tue Jul 01 17:27:53 +0000 2014|RT @nytDeniseGrady: No need for a hated checkup? Guideline Calls Routine Pelvic Exams Unnecessary http://nyti.ms/1qsbVpl\\n484025561590009856|Tue Jul 01 17:27:41 +0000 2014|RT @deborahblum: My latest for @nytimes: Flame Retardants Are Everywhere (from peanut butter to penguins)  http://nyti.ms/1kaFSCI\\n484018258597937152|Tue Jul 01 16:58:40 +0000 2014|Well: Flame Retardants Are Everywhere http://nyti.ms/1mhoYrW\\n483998662222417920|Tue Jul 01 15:40:47 +0000 2014|Gluten-Free Dining in Italy http://nyti.ms/1odsH8z\\n483984158533120000|Tue Jul 01 14:43:10 +0000 2014|Recipes for Health: Big Bowl With Spicy Brown Bean, Squash and Corn Succotash http://nyti.ms/V7FGP8\\n483737560863494144|Mon Jun 30 22:23:16 +0000 2014|On View: ‘Code Black’: A Window Into Doctors’ Training http://nyti.ms/1meU8QT\\n483737559064129536|Mon Jun 30 22:23:16 +0000 2014|Reactions : Life Outside the Hospital; Consequences of Cool; You’re So Far Away http://nyti.ms/1meW6R0\\n483732819676770304|Mon Jun 30 22:04:26 +0000 2014|Global Health: Clue to Disease’s Spread in a 6,200-Year-Old Grave http://nyti.ms/TxqfON\\n483731914302705664|Mon Jun 30 22:00:50 +0000 2014|RT @nytvideo: Mental Health in the Pistorius Trial http://nyti.ms/1meKjCr\\n483730553464946688|Mon Jun 30 21:55:25 +0000 2014|RT @cslnyt: 999+ comments on @adamliptak story on Supreme Ct rejection of birth control mandate http://nyti.ms/1r6GYaa\\n483728121045479424|Mon Jun 30 21:45:45 +0000 2014|Q&amp;A: Eating the Shell Along With the Egg? http://nyti.ms/TxoO2I\\n483720040710430720|Mon Jun 30 21:13:39 +0000 2014|Doctors’ Group Advises Against Regular Pelvic Exams http://nyti.ms/1meMeqB\\n483701116635717632|Mon Jun 30 19:58:27 +0000 2014|RT @dacorc: Who knew? From Natalie @Angier58: Leprosy, Still Claiming Victims http://nyti.ms/1mB4EvK\\n483687512809172993|Mon Jun 30 19:04:24 +0000 2014|Debate That Divides: How Hobby Lobby Ruling Could Limit Access to Birth Control http://nyti.ms/1meqVFD\\n483686339687510016|Mon Jun 30 18:59:44 +0000 2014|Hobby Lobby ruling seems likely to make it harder for women to get contraception in the future @aaroncarroll writes http://nyti.ms/1iO0g23\\n483683719476432896|Mon Jun 30 18:49:19 +0000 2014|Leprosy, Still Claiming Victims http://nyti.ms/1nZIuG9\\n483657174275874817|Mon Jun 30 17:03:50 +0000 2014|Justices Rule in Favor of Hobby Lobby http://nyti.ms/VAgtgX\\n483652347860885504|Mon Jun 30 16:44:40 +0000 2014|Supreme Court Declines Case Contesting Ban on Gay ‘Conversion Therapy’ http://nyti.ms/1iNwGd1\\n483651450342735872|Mon Jun 30 16:41:06 +0000 2014|RT @UpshotNYT: Evidence-based medicine, or why hardly anyone has tonsils removed these days: http://nyti.ms/1sRDCdc\\n483651253374033921|Mon Jun 30 16:40:19 +0000 2014|RT @jessbidgood: I spent 3 days outside Boston’s @PPact clinic to look at how SCOTUS\\' buffer-zone ruling is felt there: http://t.co/wyNjQuP…\\n483650611528093697|Mon Jun 30 16:37:46 +0000 2014|RT @celiadugger: Scientists: morning after pills don\\'t cause abortions in way abortion opponents contend in Hobby Lobby case. http://t.co/k…\\n483650393164222465|Mon Jun 30 16:36:54 +0000 2014|The New Old Age Blog: Elderly Patients Often Overtreated for Diabetes, Study Suggests http://nyti.ms/VAcS2c\\n483650390668230656|Mon Jun 30 16:36:53 +0000 2014|Recipes for Health: Orecchiette With Fresh and Dried Beans and Tomatoes http://nyti.ms/1nZe0Ek\\n483646143776456705|Mon Jun 30 16:20:01 +0000 2014|Several doctors said “this view did not reflect the way the birth control methods actually work.” From this piece: http://nyti.ms/xnIqKL\\n483645610885931008|Mon Jun 30 16:17:53 +0000 2014|The companies objected to some of the contraceptive methods, saying they are tantamount to abortion.\\n483645357025669120|Mon Jun 30 16:16:53 +0000 2014|Updates on the 5-to-4 Hobby Lobby decision. http://nyti.ms/1iNqsJY\\n483645132928221184|Mon Jun 30 16:16:00 +0000 2014|Supreme Court ruled that requiring family-owned corporations to pay for insurance for contraception violated religious freedom law.\\n483644313973587969|Mon Jun 30 16:12:44 +0000 2014|Worth revisiting. @PamBelluck @eckholm’s piece on religious groups’ beliefs that contraceptives are form of abortion http://nyti.ms/xnIqKL\\n483629544063389696|Mon Jun 30 15:14:03 +0000 2014|Well: How Music May Make Babies Team Players http://nyti.ms/1lshGf2\\n483625740777168899|Mon Jun 30 14:58:56 +0000 2014|Supreme Court Rules in Contraceptive Case http://nyti.ms/1lseH6h\\n483625738357071872|Mon Jun 30 14:58:56 +0000 2014|The New Health Care: What the Reduction in Tonsillectomies Teaches Us About Medicine http://nyti.ms/1m2xmd9\\n483624988629811200|Mon Jun 30 14:55:57 +0000 2014|RT @WilliamJBroad: Why Teenagers Act Crazy http://nyti.ms/1qmj9Ls\\n483624693501816832|Mon Jun 30 14:54:46 +0000 2014|RT @jswatz: Facebook tinkering with our feeds to emotional contagion. Should I feel Hawthorne effect or Stockholm Syndrome? http://t.co/xOp…\\n483624639047172096|Mon Jun 30 14:54:33 +0000 2014|RT @cslnyt: Devastating errors after military care, a NYT investigation shows  http://nyti.ms/1wVzVBP\\n483624560743706624|Mon Jun 30 14:54:15 +0000 2014|RT @David_Dobbs: Pistorius Was Not Mentally Ill at Time of Shooting, Psychiatrists Report, via @nytimes http://nyti.ms/1m1hWpq\\n483465680792989697|Mon Jun 30 04:22:55 +0000 2014|Well: Keeping Your Cool http://nyti.ms/1ogUkxo\\n483461727108235264|Mon Jun 30 04:07:12 +0000 2014|World Cup 2014: With Júlio César’s Help, More Respect for Brazilians in Net http://nyti.ms/1ogST1W\\n483457847091789824|Mon Jun 30 03:51:47 +0000 2014|Facebook Tinkers With Users’ Emotions in News Feed Experiment, Stirring Outcry http://nyti.ms/1z0Z2VJ\\n483453606751125504|Mon Jun 30 03:34:56 +0000 2014|Medical Boards Draft Plan to Ease Path to Out-of-State and Online Treatment http://nyti.ms/1ogQy7e\\n483453605899673600|Mon Jun 30 03:34:56 +0000 2014|Flawed Saudi Response Fueled Outbreak of MERS, Middle East Virus http://nyti.ms/1z0XRFU\\n483061694596677632|Sun Jun 29 01:37:37 +0000 2014|Cuomo Plan Seeks to End New York’s AIDS Epidemic http://nyti.ms/1msG0O4\\n482887982362669056|Sat Jun 28 14:07:21 +0000 2014|Technophoria: When a Health Plan Knows How You Shop http://nyti.ms/1wV0AhZ\\n482735346208501760|Sat Jun 28 04:00:49 +0000 2014|On Religion: For Women Who Saw Combat, a Place to Find Inner Peace http://nyti.ms/1lyUccW\\n482726408004067328|Sat Jun 28 03:25:18 +0000 2014|Afrezza, a New Inhaled Insulin, Is Approved by the F.D.A. http://nyti.ms/1lyNLqf\\n482726406934511617|Sat Jun 28 03:25:18 +0000 2014|Report Finds Health Unit of V.A. Needs Overhaul http://nyti.ms/1lyNLq9'"
      ]
     },
     "execution_count": 166,
     "metadata": {},
     "output_type": "execute_result"
    }
   ],
   "source": [
    "with open(\"C:/Users/tkhan050/Documents/Blogs/Study Materials/Introduction to Data Science in Python/nytimeshealth.txt\",encoding=\"utf8\") as file:\n",
    "    health = file.read()\n",
    "health\n"
   ]
  },
  {
   "cell_type": "code",
   "execution_count": 167,
   "id": "2b8cb3b3",
   "metadata": {},
   "outputs": [
    {
     "data": {
      "text/plain": [
       "['#askwell',\n",
       " '#pregnancy',\n",
       " '#Colorado',\n",
       " '#VegetarianThanksgiving',\n",
       " '#FallPrevention',\n",
       " '#Ebola',\n",
       " '#Ebola',\n",
       " '#ebola',\n",
       " '#Ebola',\n",
       " '#Ebola',\n",
       " '#EbolaHysteria',\n",
       " '#AskNYT',\n",
       " '#Ebola',\n",
       " '#Ebola',\n",
       " '#Liberia',\n",
       " '#Excalibur',\n",
       " '#ebola',\n",
       " '#Ebola',\n",
       " '#dallas',\n",
       " '#nobelprize2014',\n",
       " '#ebola',\n",
       " '#ebola',\n",
       " '#monrovia',\n",
       " '#ebola',\n",
       " '#nobelprize2014',\n",
       " '#ebola',\n",
       " '#nobelprize2014',\n",
       " '#Medicine',\n",
       " '#Ebola',\n",
       " '#Monrovia',\n",
       " '#Ebola',\n",
       " '#smell',\n",
       " '#Ebola',\n",
       " '#Ebola',\n",
       " '#Ebola',\n",
       " '#Monrovia',\n",
       " '#Ebola',\n",
       " '#ebola',\n",
       " '#monrovia',\n",
       " '#liberia',\n",
       " '#benzos',\n",
       " '#ClimateChange',\n",
       " '#Whole',\n",
       " '#Wheat',\n",
       " '#Focaccia',\n",
       " '#Tomatoes',\n",
       " '#Olives',\n",
       " '#Recipes',\n",
       " '#Health',\n",
       " '#Ebola',\n",
       " '#Monrovia',\n",
       " '#Liberia',\n",
       " '#Ebola',\n",
       " '#Ebola',\n",
       " '#Liberia',\n",
       " '#Ebola',\n",
       " '#blood',\n",
       " '#Ebola',\n",
       " '#organtrafficking',\n",
       " '#EbolaOutbreak',\n",
       " '#SierraLeone',\n",
       " '#Freetown',\n",
       " '#SierraLeone',\n",
       " '#ebolaoutbreak',\n",
       " '#kenema',\n",
       " '#ebola',\n",
       " '#Ebola',\n",
       " '#ebola',\n",
       " '#ebola',\n",
       " '#Ebola',\n",
       " '#ASMR',\n",
       " '#AIDS2014',\n",
       " '#AIDS',\n",
       " '#MH17',\n",
       " '#benzos']"
      ]
     },
     "execution_count": 167,
     "metadata": {},
     "output_type": "execute_result"
    }
   ],
   "source": [
    "# So here we can see there are tweets with fields separated by pipes |. Lets try and get a list of all of the\n",
    "# hashtags that are included in this data. A hashtag begins with a pound sign (or hash mark) and continues\n",
    "# until some whitespace is found\n",
    "\n",
    "# So lets create a pattern. We want to include the hash sign first, then any number of alphanumeric\n",
    "# characters. And we end when we see some whitespace\n",
    "\n",
    "pattern = '#[\\w\\d]*(?=\\s)'\n",
    "\n",
    "# Notice that the ending is a look ahead. We're not actually interested in matching whitespace in the return\n",
    "# value. Also notice that I use an asterix * instead of the plus + for the matching of alphabetical characters\n",
    "# or digits, because a + would require at least one of each\n",
    "\n",
    "# Lets searchg and display all of the hashtags\n",
    "\n",
    "re.findall(pattern, health)"
   ]
  },
  {
   "cell_type": "code",
   "execution_count": 169,
   "id": "d04e2520",
   "metadata": {},
   "outputs": [],
   "source": [
    "# We can see here that there were lots of ebola related tweeks in this particular dataset."
   ]
  },
  {
   "cell_type": "code",
   "execution_count": 170,
   "id": "f86b6fcb",
   "metadata": {},
   "outputs": [],
   "source": [
    "def l2_dist(a, b):\n",
    "    result = ((a - b) * (a - b)).sum()\n",
    "    result = result ** 0.5\n",
    "    return result "
   ]
  },
  {
   "cell_type": "code",
   "execution_count": 172,
   "id": "b0d12b07",
   "metadata": {},
   "outputs": [],
   "source": [
    "a = np.random.rand(20,20)"
   ]
  },
  {
   "cell_type": "code",
   "execution_count": 173,
   "id": "a5a3cc6d",
   "metadata": {},
   "outputs": [],
   "source": [
    "b = np.random.rand(20,20)"
   ]
  },
  {
   "cell_type": "code",
   "execution_count": 174,
   "id": "ded9349f",
   "metadata": {},
   "outputs": [
    {
     "data": {
      "text/plain": [
       "7.794572505162328"
      ]
     },
     "execution_count": 174,
     "metadata": {},
     "output_type": "execute_result"
    }
   ],
   "source": [
    "l2_dist(a.T,b.T)"
   ]
  },
  {
   "cell_type": "code",
   "execution_count": 175,
   "id": "b30629fd",
   "metadata": {},
   "outputs": [
    {
     "data": {
      "text/plain": [
       "7.794572505162328"
      ]
     },
     "execution_count": 175,
     "metadata": {},
     "output_type": "execute_result"
    }
   ],
   "source": [
    "l2_dist(np.reshape(a, (20 * 20)), np.reshape(b, (20 * 20)))"
   ]
  },
  {
   "cell_type": "code",
   "execution_count": 176,
   "id": "80b33da7",
   "metadata": {},
   "outputs": [],
   "source": [
    "c = np.reshape(a, (20 * 20))"
   ]
  },
  {
   "cell_type": "code",
   "execution_count": 178,
   "id": "b8a15deb",
   "metadata": {},
   "outputs": [
    {
     "data": {
      "text/plain": [
       "(400,)"
      ]
     },
     "execution_count": 178,
     "metadata": {},
     "output_type": "execute_result"
    }
   ],
   "source": [
    "c.shape"
   ]
  },
  {
   "cell_type": "code",
   "execution_count": 189,
   "id": "615794cc",
   "metadata": {},
   "outputs": [
    {
     "ename": "TypeError",
     "evalue": "'int' object is not callable",
     "output_type": "error",
     "traceback": [
      "\u001b[1;31m---------------------------------------------------------------------------\u001b[0m",
      "\u001b[1;31mTypeError\u001b[0m                                 Traceback (most recent call last)",
      "\u001b[1;32m<ipython-input-189-0053170c8d00>\u001b[0m in \u001b[0;36m<module>\u001b[1;34m\u001b[0m\n\u001b[1;32m----> 1\u001b[1;33m \u001b[0mnp\u001b[0m\u001b[1;33m.\u001b[0m\u001b[0marange\u001b[0m\u001b[1;33m(\u001b[0m\u001b[1;36m1\u001b[0m\u001b[1;33m,\u001b[0m\u001b[1;36m4\u001b[0m\u001b[1;33m,\u001b[0m\u001b[1;36m1\u001b[0m\u001b[1;33m)\u001b[0m\u001b[1;33m.\u001b[0m\u001b[0mndim\u001b[0m\u001b[1;33m(\u001b[0m\u001b[1;33m)\u001b[0m\u001b[1;33m==\u001b[0m\u001b[1;36m1\u001b[0m\u001b[1;33m\u001b[0m\u001b[1;33m\u001b[0m\u001b[0m\n\u001b[0m",
      "\u001b[1;31mTypeError\u001b[0m: 'int' object is not callable"
     ]
    }
   ],
   "source": [
    "np.arange(1,4,1).ndim()==1"
   ]
  },
  {
   "cell_type": "code",
   "execution_count": 183,
   "id": "afaa34e0",
   "metadata": {},
   "outputs": [
    {
     "data": {
      "text/plain": [
       "(4,)"
      ]
     },
     "execution_count": 183,
     "metadata": {},
     "output_type": "execute_result"
    }
   ],
   "source": [
    "np.array([1,2,3,4]).shape"
   ]
  },
  {
   "cell_type": "code",
   "execution_count": 187,
   "id": "cf99b28d",
   "metadata": {},
   "outputs": [
    {
     "data": {
      "text/plain": [
       "(4,)"
      ]
     },
     "execution_count": 187,
     "metadata": {},
     "output_type": "execute_result"
    }
   ],
   "source": [
    "np.random.rand(4).shape"
   ]
  },
  {
   "cell_type": "code",
   "execution_count": 185,
   "id": "6dbf7b6c",
   "metadata": {},
   "outputs": [
    {
     "data": {
      "text/plain": [
       "array([[0.48198134],\n",
       "       [0.16300076],\n",
       "       [0.08074816],\n",
       "       [0.36769954]])"
      ]
     },
     "execution_count": 185,
     "metadata": {},
     "output_type": "execute_result"
    }
   ],
   "source": [
    "np.random.rand(4,1)"
   ]
  },
  {
   "cell_type": "code",
   "execution_count": 188,
   "id": "8455965a",
   "metadata": {},
   "outputs": [
    {
     "data": {
      "text/plain": [
       "(4,)"
      ]
     },
     "execution_count": 188,
     "metadata": {},
     "output_type": "execute_result"
    }
   ],
   "source": [
    "np.linspace(1,4,4).shape"
   ]
  },
  {
   "cell_type": "code",
   "execution_count": 190,
   "id": "fa08cbdc",
   "metadata": {},
   "outputs": [
    {
     "name": "stdout",
     "output_type": "stream",
     "text": [
      "[[0 0 1]\n",
      " [1 1 1]]\n"
     ]
    }
   ],
   "source": [
    "import numpy as np\n",
    "\n",
    "old = np.array([[1, 1, 1], [1, 1, 1]])\n",
    "new = old\n",
    "new[0, :2] = 0\n",
    "\n",
    "print(old)"
   ]
  },
  {
   "cell_type": "code",
   "execution_count": 194,
   "id": "7efdae79",
   "metadata": {},
   "outputs": [
    {
     "data": {
      "text/plain": [
       "['AC']"
      ]
     },
     "execution_count": 194,
     "metadata": {},
     "output_type": "execute_result"
    }
   ],
   "source": [
    "import re \n",
    "s = 'ACBCAC'\n",
    "\n",
    "re.findall('^AC', s)"
   ]
  },
  {
   "cell_type": "code",
   "execution_count": 195,
   "id": "807345b9",
   "metadata": {},
   "outputs": [],
   "source": [
    "import re\n",
    "s = 'ACAABAACAAAB'\n",
    "result = re.findall('A{1,2}', s)\n",
    "L = len(result)"
   ]
  },
  {
   "cell_type": "code",
   "execution_count": 197,
   "id": "cf6e884f",
   "metadata": {},
   "outputs": [
    {
     "data": {
      "text/plain": [
       "5"
      ]
     },
     "execution_count": 197,
     "metadata": {},
     "output_type": "execute_result"
    }
   ],
   "source": [
    "L"
   ]
  },
  {
   "cell_type": "code",
   "execution_count": 224,
   "id": "4b2e2064",
   "metadata": {},
   "outputs": [],
   "source": [
    "a = 'http://www.baidu.com'"
   ]
  },
  {
   "cell_type": "code",
   "execution_count": 225,
   "id": "1506724c",
   "metadata": {},
   "outputs": [
    {
     "data": {
      "text/plain": [
       "[]"
      ]
     },
     "execution_count": 225,
     "metadata": {},
     "output_type": "execute_result"
    }
   ],
   "source": [
    "re.findall(\"(?<=https:\\/\\/)([A-Za-z0-9.]*)\",a)"
   ]
  },
  {
   "cell_type": "code",
   "execution_count": 218,
   "id": "4aed095d",
   "metadata": {},
   "outputs": [
    {
     "name": "stdout",
     "output_type": "stream",
     "text": [
      "4\n"
     ]
    }
   ],
   "source": [
    "text=r'''Everyone has the following fundamental freedoms:\n",
    "    (a) freedom of conscience and religion;\n",
    "    (b) freedom of thought, belief, opinion and expression, including freedom of the press and other media of communication;\n",
    "    (c) freedom of peaceful assembly; and\n",
    "    (d) freedom of association.'''\n",
    "\n",
    "import re\n",
    "pattern = '\\(.\\)'\n",
    "print(len(re.findall(pattern,text)))"
   ]
  },
  {
   "cell_type": "code",
   "execution_count": 260,
   "id": "e0daabce",
   "metadata": {},
   "outputs": [],
   "source": [
    "import re\n",
    "def grades():\n",
    "    with open (\"C:/Users/tkhan050/Documents/Blogs/Study Materials/Introduction to Data Science in Python/grades.txt\", \"r\") as file:\n",
    "        grades = file.read()\n",
    "    \n",
    "    # YOUR CODE HERE\n",
    "    return re.findall('([\\w]*\\S+ [\\w]*\\S+): B',grades)\n",
    "    #gradeB = []\n",
    "    #for item in re.finditer('([\\w]*\\S+ [\\w]*\\S+): B',grades):\n",
    "    #    gradeB.append(item.group(\"name\"))\n",
    "    #return gradeB\n",
    "    #raise NotImplementedError()"
   ]
  },
  {
   "cell_type": "code",
   "execution_count": 261,
   "id": "22b9d917",
   "metadata": {},
   "outputs": [
    {
     "data": {
      "text/plain": [
       "['Bell Kassulke',\n",
       " 'Simon Loidl',\n",
       " 'Elias Jovanovic',\n",
       " 'Hakim Botros',\n",
       " 'Emilie Lorentsen',\n",
       " 'Jake Wood',\n",
       " 'Fatemeh Akhtar',\n",
       " 'Kim Weston',\n",
       " 'Yasmin Dar',\n",
       " 'Viswamitra Upandhye',\n",
       " 'Killian Kaufman',\n",
       " 'Elwood Page',\n",
       " 'Elodie Booker',\n",
       " 'Adnan Chen',\n",
       " 'Hank Spinka',\n",
       " 'Hannah Bayer']"
      ]
     },
     "execution_count": 261,
     "metadata": {},
     "output_type": "execute_result"
    }
   ],
   "source": [
    "grades()"
   ]
  },
  {
   "cell_type": "code",
   "execution_count": 402,
   "id": "80e64705",
   "metadata": {},
   "outputs": [
    {
     "data": {
      "text/plain": [
       "'146.204.224.152 - feest6811 [21/Jun/2019:15:45:24 -0700] \"POST /incentivize HTTP/1.1\" 302 4622\\n197.109.77.178 - kertzmann3129 [21/Jun/2019:15:45:25 -0700] \"DELETE /virtual/solutions/target/web+services HTTP/2.0\" 203 26554\\n156.127.178.177 - okuneva5222 [21/Jun/2019:15:45:27 -0700] \"DELETE /interactive/transparent/niches/revolutionize HTTP/1.1\" 416 14701\\n100.32.205.59 - ortiz8891 [21/Jun/2019:15:45:28 -0700] \"PATCH /architectures HTTP/1.0\" 204 6048\\n168.95.156.240 - stark2413 [21/Jun/2019:15:45:31 -0700] \"GET /engage HTTP/2.0\" 201 9645\\n71.172.239.195 - dooley1853 [21/Jun/2019:15:45:32 -0700] \"PUT /cutting-edge HTTP/2.0\" 406 24498\\n180.95.121.94 - mohr6893 [21/Jun/2019:15:45:34 -0700] \"PATCH /extensible/reinvent HTTP/1.1\" 201 27330\\n144.23.247.108 - auer7552 [21/Jun/2019:15:45:35 -0700] \"POST /extensible/infrastructures/one-to-one/enterprise HTTP/1.1\" 100 22921\\n2.179.103.97 - lind8584 [21/Jun/2019:15:45:36 -0700] \"POST /grow/front-end/e-commerce/robust HTTP/2.0\" 304 14641\\n241.114.184.133 - tromp8355 [21/Jun/2019:15:45:37 -0700] \"GET /redefine/orchestrate HTTP/1.0\" 204 29059\\n224.188.38.4 - keebler1423 [21/Jun/2019:15:45:40 -0700] \"PUT /orchestrate/out-of-the-box/unleash/syndicate HTTP/1.1\" 404 28211\\n94.11.36.112 - klein8508 [21/Jun/2019:15:45:41 -0700] \"POST /enhance/solutions/bricks-and-clicks HTTP/1.1\" 404 24768\\n126.196.238.197 - gusikowski9864 [21/Jun/2019:15:45:45 -0700] \"DELETE /rich/reinvent HTTP/2.0\" 405 7894\\n103.247.168.212 - medhurst2732 [21/Jun/2019:15:45:49 -0700] \"HEAD /scale/global/leverage HTTP/1.0\" 203 15844\\n57.86.153.68 - dubuque8645 [21/Jun/2019:15:45:50 -0700] \"POST /innovative/roi/robust/systems HTTP/1.1\" 406 29046\\n231.220.8.214 - luettgen1860 [21/Jun/2019:15:45:52 -0700] \"HEAD /systems/sexy HTTP/1.1\" 201 2578\\n219.133.7.154 - price5585 [21/Jun/2019:15:45:53 -0700] \"GET /incubate/incubate HTTP/1.1\" 201 12126\\n159.252.184.44 - fay7852 [21/Jun/2019:15:45:54 -0700] \"GET /convergence HTTP/2.0\" 404 23856\\n40.167.172.66 - kshlerin3090 [21/Jun/2019:15:45:57 -0700] \"HEAD /convergence HTTP/2.0\" 501 16287\\n167.153.239.72 - schaden8853 [21/Jun/2019:15:45:58 -0700] \"DELETE /bandwidth/reintermediate/engage HTTP/2.0\" 302 17774\\n115.214.173.248 - hauck8214 [21/Jun/2019:15:46:00 -0700] \"PUT /optimize HTTP/1.1\" 401 13160\\n21.43.188.186 - kunze2653 [21/Jun/2019:15:46:02 -0700] \"DELETE /bandwidth/turn-key/users HTTP/2.0\" 201 2248\\n86.187.99.249 - tillman6650 [21/Jun/2019:15:46:03 -0700] \"POST /efficient/unleash HTTP/1.1\" 405 22390\\n76.72.133.93 - carroll1056 [21/Jun/2019:15:46:05 -0700] \"POST /morph/optimize/plug-and-play HTTP/2.0\" 400 27172\\n73.162.151.229 - dubuque3528 [21/Jun/2019:15:46:08 -0700] \"DELETE /transition/holistic/e-business HTTP/2.0\" 301 13923\\n13.112.8.80 - rau5026 [21/Jun/2019:15:46:09 -0700] \"HEAD /ubiquitous/transparent HTTP/1.1\" 200 16928\\n159.253.153.40 - - [21/Jun/2019:15:46:10 -0700] \"POST /e-business HTTP/1.0\" 504 19845\\n136.195.158.6 - feeney9464 [21/Jun/2019:15:46:11 -0700] \"HEAD /open-source/markets HTTP/2.0\" 204 21149\\n219.194.113.255 - - [21/Jun/2019:15:46:12 -0700] \"PATCH /next-generation/niches/mindshare HTTP/1.0\" 503 20246\\n59.101.239.174 - brekke3293 [21/Jun/2019:15:46:13 -0700] \"DELETE /ubiquitous/seize/web-enabled HTTP/2.0\" 302 14017\\n233.187.15.207 - - [21/Jun/2019:15:46:14 -0700] \"GET /harness/intuitive HTTP/1.0\" 304 21006\\n62.79.96.179 - mayer1069 [21/Jun/2019:15:46:15 -0700] \"HEAD /facilitate HTTP/1.0\" 404 7905\\n217.70.194.150 - batz2602 [21/Jun/2019:15:46:16 -0700] \"PUT /functionalities/channels/productize/mission-critical HTTP/2.0\" 404 23186\\n161.242.130.180 - - [21/Jun/2019:15:46:17 -0700] \"DELETE /methodologies/experiences HTTP/2.0\" 100 25437\\n155.127.24.96 - - [21/Jun/2019:15:46:18 -0700] \"POST /mindshare/optimize/vertical HTTP/2.0\" 500 6154\\n63.208.115.205 - - [21/Jun/2019:15:46:19 -0700] \"PATCH /revolutionize HTTP/1.0\" 404 4283\\n5.10.80.69 - - [21/Jun/2019:15:46:20 -0700] \"PATCH /niches/back-end HTTP/2.0\" 406 15834\\n11.57.203.39 - carroll8889 [21/Jun/2019:15:46:21 -0700] \"HEAD /visionary/cultivate HTTP/1.1\" 404 15391\\n124.137.187.175 - - [21/Jun/2019:15:46:22 -0700] \"DELETE /expedite/exploit/cultivate/web-enabled HTTP/1.0\" 403 2606\\n203.36.55.39 - collins6322 [21/Jun/2019:15:46:23 -0700] \"PATCH /efficient/productize/disintermediate HTTP/1.1\" 504 13377\\n175.5.52.40 - - [21/Jun/2019:15:46:24 -0700] \"POST /real-time HTTP/1.1\" 200 2660\\n232.220.131.214 - - [21/Jun/2019:15:46:25 -0700] \"GET /wireless/matrix/synergistic/expedite HTTP/1.1\" 205 15081\\n87.234.209.125 - labadie6990 [21/Jun/2019:15:46:26 -0700] \"GET /unleash/aggregate HTTP/2.0\" 304 23351\\n177.164.9.130 - collins9387 [21/Jun/2019:15:46:27 -0700] \"DELETE /portals/evolve/proactive HTTP/1.0\" 200 241\\n71.17.229.20 - - [21/Jun/2019:15:46:28 -0700] \"POST /incubate/rich/web+services/markets HTTP/1.1\" 100 10107\\n161.106.82.60 - yundt9152 [21/Jun/2019:15:46:29 -0700] \"PUT /e-tailers HTTP/1.1\" 401 2396\\n118.244.60.25 - - [21/Jun/2019:15:46:30 -0700] \"PATCH /orchestrate/mission-critical/cross-platform/scalable HTTP/1.0\" 403 19962\\n226.97.226.58 - kautzer4542 [21/Jun/2019:15:46:31 -0700] \"PATCH /functionalities/convergence/repurpose/reinvent HTTP/1.1\" 304 26501\\n153.60.64.187 - - [21/Jun/2019:15:46:32 -0700] \"HEAD /schemas HTTP/1.1\" 406 17921\\n226.59.29.125 - - [21/Jun/2019:15:46:33 -0700] \"POST /enable/e-business/orchestrate/portals HTTP/2.0\" 204 28548\\n180.234.185.134 - windler5463 [21/Jun/2019:15:46:34 -0700] \"POST /synergies/innovative/enterprise HTTP/1.1\" 404 11810\\n202.186.241.42 - - [21/Jun/2019:15:46:35 -0700] \"HEAD /visualize/mindshare/orchestrate/optimize HTTP/2.0\" 404 18685\\n130.240.69.236 - hoeger9514 [21/Jun/2019:15:46:36 -0700] \"PUT /drive HTTP/2.0\" 504 13772\\n226.187.228.119 - bednar5295 [21/Jun/2019:15:46:37 -0700] \"HEAD /streamline/metrics/visionary/deliverables HTTP/1.1\" 304 9305\\n169.191.251.30 - champlin3406 [21/Jun/2019:15:46:38 -0700] \"PUT /out-of-the-box/value-added/engineer HTTP/2.0\" 403 24645\\n33.212.159.241 - kertzmann4700 [21/Jun/2019:15:46:39 -0700] \"HEAD /evolve/drive/transition HTTP/1.1\" 404 25376\\n151.2.27.136 - kunde3872 [21/Jun/2019:15:46:40 -0700] \"HEAD /monetize HTTP/1.1\" 416 25141\\n164.193.154.113 - - [21/Jun/2019:15:46:41 -0700] \"PUT /virtual/compelling HTTP/1.1\" 400 11447\\n230.72.69.136 - quitzon6990 [21/Jun/2019:15:46:42 -0700] \"POST /channels HTTP/1.1\" 200 4175\\n189.128.147.107 - johnson1417 [21/Jun/2019:15:46:43 -0700] \"PUT /synergize/innovative HTTP/1.0\" 501 23017\\n40.78.198.130 - - [21/Jun/2019:15:46:44 -0700] \"DELETE /e-enable/architectures/orchestrate HTTP/1.0\" 205 5033\\n63.134.169.160 - - [21/Jun/2019:15:46:45 -0700] \"PUT /syndicate HTTP/1.1\" 302 7654\\n98.74.141.240 - terry3353 [21/Jun/2019:15:46:46 -0700] \"GET /paradigms/reintermediate/web-enabled HTTP/1.1\" 403 9171\\n249.157.76.12 - doyle8092 [21/Jun/2019:15:46:47 -0700] \"HEAD /end-to-end/open-source/markets HTTP/1.0\" 501 9767\\n191.83.194.6 - tillman4353 [21/Jun/2019:15:46:48 -0700] \"PATCH /frictionless/evolve/methodologies HTTP/1.1\" 416 29253\\n161.10.120.228 - - [21/Jun/2019:15:46:49 -0700] \"DELETE /transform/optimize/envisioneer HTTP/1.0\" 416 9872\\n28.251.116.209 - wuckert7686 [21/Jun/2019:15:46:50 -0700] \"DELETE /productize/maximize HTTP/1.1\" 504 19918\\n146.37.57.224 - - [21/Jun/2019:15:46:51 -0700] \"PUT /strategize/web+services/envisioneer HTTP/1.1\" 205 16226\\n113.136.44.97 - schinner1581 [21/Jun/2019:15:46:52 -0700] \"HEAD /intuitive/communities/maximize/repurpose HTTP/1.1\" 405 29798\\n236.57.192.231 - - [21/Jun/2019:15:46:53 -0700] \"GET /whiteboard HTTP/1.1\" 301 9166\\n148.185.136.238 - will3148 [21/Jun/2019:15:46:54 -0700] \"PUT /interactive/target HTTP/1.0\" 304 19597\\n217.244.200.194 - - [21/Jun/2019:15:46:55 -0700] \"PUT /plug-and-play/whiteboard/markets/seize HTTP/2.0\" 405 21381\\n192.57.65.185 - beatty2311 [21/Jun/2019:15:46:56 -0700] \"GET /customized/incentivize HTTP/2.0\" 503 27629\\n34.188.163.50 - - [21/Jun/2019:15:46:57 -0700] \"PATCH /interactive/architect/innovative/24%2f7 HTTP/1.1\" 203 24462\\n174.36.25.145 - reinger5141 [21/Jun/2019:15:46:58 -0700] \"GET /e-business/reintermediate/magnetic HTTP/1.1\" 502 18569\\n109.108.118.102 - greenfelder4613 [21/Jun/2019:15:46:59 -0700] \"PUT /networks/strategize/b2c HTTP/2.0\" 405 1249\\n207.93.9.141 - kulas9437 [21/Jun/2019:15:47:00 -0700] \"PATCH /user-centric HTTP/2.0\" 502 23213\\n23.48.88.246 - boyer9465 [21/Jun/2019:15:47:01 -0700] \"PUT /global/collaborative/synthesize HTTP/1.0\" 204 27752\\n11.130.135.213 - - [21/Jun/2019:15:47:02 -0700] \"POST /plug-and-play/harness HTTP/2.0\" 205 15456\\n135.213.8.200 - - [21/Jun/2019:15:47:03 -0700] \"HEAD /strategize/synergies/e-services/synthesize HTTP/1.1\" 416 1886\\n60.123.73.56 - - [21/Jun/2019:15:47:04 -0700] \"HEAD /cross-media/optimize HTTP/2.0\" 200 1213\\n13.24.14.8 - - [21/Jun/2019:15:47:05 -0700] \"POST /schemas/innovative/paradigms HTTP/1.1\" 302 4626\\n45.177.213.234 - - [21/Jun/2019:15:47:06 -0700] \"PUT /24%2f365/supply-chains/vortals HTTP/1.0\" 503 6503\\n129.233.38.84 - - [21/Jun/2019:15:47:07 -0700] \"DELETE /front-end HTTP/1.1\" 403 10190\\n80.153.139.233 - - [21/Jun/2019:15:47:08 -0700] \"POST /supply-chains/magnetic HTTP/1.1\" 404 571\\n199.111.169.6 - jaskolski5282 [21/Jun/2019:15:47:09 -0700] \"PUT /distributed/eyeballs/value-added/unleash HTTP/1.1\" 203 19352\\n21.24.38.93 - roob7248 [21/Jun/2019:15:47:10 -0700] \"DELETE /synergistic HTTP/1.1\" 304 15809\\n121.104.130.220 - dach6856 [21/Jun/2019:15:47:11 -0700] \"GET /infomediaries/e-business/metrics/interfaces HTTP/1.0\" 201 15366\\n132.15.162.37 - - [21/Jun/2019:15:47:12 -0700] \"PUT /incentivize/open-source/exploit HTTP/1.0\" 502 28021\\n91.107.45.211 - roob7504 [21/Jun/2019:15:47:13 -0700] \"POST /transparent/one-to-one HTTP/1.0\" 502 22499\\n72.157.89.10 - - [21/Jun/2019:15:47:14 -0700] \"PATCH /clicks-and-mortar/metrics HTTP/1.0\" 205 23070\\n105.8.97.99 - nader4497 [21/Jun/2019:15:47:15 -0700] \"PATCH /repurpose/b2b HTTP/1.0\" 500 26826\\n92.176.179.73 - tromp7323 [21/Jun/2019:15:47:16 -0700] \"POST /web+services/monetize/infomediaries HTTP/1.0\" 504 14107\\n124.113.245.136 - koch7592 [21/Jun/2019:15:47:17 -0700] \"PATCH /interfaces/portals HTTP/1.1\" 204 13348\\n153.207.83.135 - fritsch7933 [21/Jun/2019:15:47:18 -0700] \"POST /exploit/methodologies/proactive/paradigms HTTP/1.0\" 204 27010\\n118.174.11.239 - - [21/Jun/2019:15:47:19 -0700] \"PATCH /front-end/communities HTTP/2.0\" 203 5723\\n210.99.35.196 - nitzsche6699 [21/Jun/2019:15:47:20 -0700] \"DELETE /wireless HTTP/1.1\" 204 26288\\n25.60.172.114 - - [21/Jun/2019:15:47:21 -0700] \"HEAD /robust/systems/architect HTTP/2.0\" 405 16579\\n9.123.243.85 - - [21/Jun/2019:15:47:22 -0700] \"DELETE /efficient/compelling/back-end HTTP/1.1\" 405 19102\\n187.185.236.178 - - [21/Jun/2019:15:47:23 -0700] \"HEAD /bandwidth/harness HTTP/1.0\" 503 29449\\n245.247.95.68 - cummerata3376 [21/Jun/2019:15:47:24 -0700] \"GET /redefine HTTP/2.0\" 200 20207\\n203.217.133.243 - gislason8036 [21/Jun/2019:15:47:25 -0700] \"POST /visualize/incubate HTTP/1.0\" 500 17318\\n183.199.215.84 - homenick3730 [21/Jun/2019:15:47:26 -0700] \"POST /infrastructures/rich HTTP/2.0\" 503 15924\\n82.207.85.184 - hansen5317 [21/Jun/2019:15:47:27 -0700] \"POST /initiatives/vertical/leading-edge HTTP/2.0\" 500 9559\\n210.180.251.130 - - [21/Jun/2019:15:47:28 -0700] \"GET /brand/implement/proactive HTTP/1.1\" 204 9421\\n22.135.157.6 - runolfsdottir9957 [21/Jun/2019:15:47:29 -0700] \"PUT /synergies/b2c HTTP/1.1\" 504 19481\\n34.185.208.17 - wilderman1726 [21/Jun/2019:15:47:30 -0700] \"DELETE /e-enable/granular/scale HTTP/2.0\" 100 25359\\n147.106.164.197 - huels5802 [21/Jun/2019:15:47:31 -0700] \"PATCH /communities/cultivate HTTP/1.1\" 502 11904\\n237.149.195.234 - powlowski8494 [21/Jun/2019:15:47:32 -0700] \"PATCH /productize HTTP/2.0\" 302 3745\\n10.180.30.149 - farrell3121 [21/Jun/2019:15:47:33 -0700] \"HEAD /vertical/schemas/rich/bandwidth HTTP/1.1\" 406 22646\\n42.27.103.225 - - [21/Jun/2019:15:47:34 -0700] \"GET /expedite HTTP/1.1\" 204 7238\\n223.244.102.20 - kozey1688 [21/Jun/2019:15:47:35 -0700] \"HEAD /rich/models/user-centric/synergize HTTP/1.0\" 501 25173\\n97.79.223.219 - - [21/Jun/2019:15:47:36 -0700] \"PUT /engage HTTP/1.1\" 500 19920\\n247.173.105.48 - mosciski4497 [21/Jun/2019:15:47:37 -0700] \"GET /visualize HTTP/1.0\" 405 26527\\n48.17.245.135 - thompson4253 [21/Jun/2019:15:47:38 -0700] \"HEAD /dynamic HTTP/1.1\" 405 24014\\n2.50.83.232 - - [21/Jun/2019:15:47:39 -0700] \"POST /seamless/unleash HTTP/1.0\" 405 28170\\n147.226.217.25 - stark2160 [21/Jun/2019:15:47:40 -0700] \"GET /synergistic/utilize HTTP/1.0\" 403 7156\\n97.106.142.43 - - [21/Jun/2019:15:47:41 -0700] \"HEAD /productize/leading-edge/expedite/harness HTTP/1.1\" 416 177\\n4.68.176.38 - - [21/Jun/2019:15:47:42 -0700] \"POST /enterprise HTTP/2.0\" 100 16022\\n225.65.31.51 - koss1626 [21/Jun/2019:15:47:43 -0700] \"DELETE /frictionless/transparent/extensible/revolutionary HTTP/1.1\" 200 10201\\n68.121.206.246 - - [21/Jun/2019:15:47:44 -0700] \"POST /exploit/vertical HTTP/1.1\" 100 10294\\n137.121.171.78 - mckenzie9789 [21/Jun/2019:15:47:45 -0700] \"DELETE /seize/global HTTP/1.0\" 403 3657\\n130.219.221.187 - auer9353 [21/Jun/2019:15:47:46 -0700] \"GET /interactive/real-time/target HTTP/2.0\" 504 8388\\n245.30.107.108 - - [21/Jun/2019:15:47:47 -0700] \"PATCH /sticky/scale/deploy/seamless HTTP/1.0\" 400 29014\\n9.67.204.83 - - [21/Jun/2019:15:47:48 -0700] \"POST /infomediaries/innovative HTTP/1.0\" 100 13705\\n49.195.132.6 - collins9784 [21/Jun/2019:15:47:49 -0700] \"DELETE /bricks-and-clicks/recontextualize/seize HTTP/2.0\" 404 25524\\n233.53.164.32 - maggio9908 [21/Jun/2019:15:47:50 -0700] \"POST /global/channels/cross-media HTTP/1.1\" 200 19752\\n130.231.243.226 - - [21/Jun/2019:15:47:51 -0700] \"GET /holistic HTTP/2.0\" 400 23625\\n124.10.38.5 - hickle4568 [21/Jun/2019:15:47:52 -0700] \"HEAD /bandwidth/users/morph HTTP/1.0\" 302 4539\\n143.36.60.178 - - [21/Jun/2019:15:47:53 -0700] \"PUT /expedite/granular HTTP/2.0\" 500 28791\\n141.59.150.229 - tremblay7489 [21/Jun/2019:15:47:54 -0700] \"DELETE /platforms/maximize/interfaces/clicks-and-mortar HTTP/2.0\" 405 23148\\n230.250.234.246 - - [21/Jun/2019:15:47:55 -0700] \"GET /experiences HTTP/1.0\" 203 17881\\n31.215.24.55 - pfeffer6357 [21/Jun/2019:15:47:56 -0700] \"HEAD /engage/magnetic HTTP/2.0\" 500 17268\\n148.137.75.120 - gibson4540 [21/Jun/2019:15:47:57 -0700] \"HEAD /b2b HTTP/2.0\" 416 9880\\n111.63.41.199 - kirlin4598 [21/Jun/2019:15:47:58 -0700] \"PUT /unleash/grow/models HTTP/2.0\" 504 568\\n106.80.125.72 - nienow5906 [21/Jun/2019:15:47:59 -0700] \"GET /engineer/compelling/robust/infrastructures HTTP/1.0\" 501 9481\\n221.195.122.7 - - [21/Jun/2019:15:48:00 -0700] \"PATCH /portals/channels/value-added HTTP/2.0\" 500 20889\\n75.233.100.105 - - [21/Jun/2019:15:48:01 -0700] \"GET /generate/models/users HTTP/1.0\" 204 15909\\n65.42.94.224 - wolff6881 [21/Jun/2019:15:48:02 -0700] \"POST /extend/empower HTTP/1.1\" 100 27264\\n195.229.232.110 - - [21/Jun/2019:15:48:03 -0700] \"POST /aggregate/bricks-and-clicks HTTP/1.1\" 304 7558\\n140.85.11.133 - - [21/Jun/2019:15:48:04 -0700] \"PUT /e-commerce/niches/compelling HTTP/2.0\" 304 14065\\n63.106.221.202 - roberts8938 [21/Jun/2019:15:48:05 -0700] \"DELETE /reintermediate/envisioneer/innovative HTTP/1.1\" 500 21872\\n230.107.250.209 - - [21/Jun/2019:15:48:06 -0700] \"PUT /e-tailers/turn-key/syndicate HTTP/1.0\" 304 9750\\n209.104.240.59 - - [21/Jun/2019:15:48:07 -0700] \"PUT /brand/evolve HTTP/1.0\" 205 8691\\n177.112.83.120 - - [21/Jun/2019:15:48:08 -0700] \"GET /convergence/enterprise HTTP/1.0\" 405 6897\\n66.233.63.11 - yost2119 [21/Jun/2019:15:48:09 -0700] \"PATCH /out-of-the-box/action-items HTTP/1.0\" 406 17062\\n44.103.233.51 - krajcik9464 [21/Jun/2019:15:48:10 -0700] \"DELETE /portals/extend/methodologies/integrate HTTP/1.0\" 100 12191\\n178.41.82.142 - wuckert7752 [21/Jun/2019:15:48:11 -0700] \"DELETE /evolve/clicks-and-mortar/architect HTTP/1.1\" 205 24735\\n27.213.87.112 - kirlin4667 [21/Jun/2019:15:48:12 -0700] \"PUT /models/best-of-breed/bricks-and-clicks HTTP/2.0\" 304 6681\\n75.237.100.203 - - [21/Jun/2019:15:48:13 -0700] \"HEAD /incubate HTTP/1.0\" 501 1659\\n194.73.206.238 - - [21/Jun/2019:15:48:14 -0700] \"PUT /intuitive HTTP/1.0\" 502 17992\\n125.236.198.20 - - [21/Jun/2019:15:48:15 -0700] \"PATCH /strategize HTTP/1.1\" 403 15138\\n148.73.183.231 - - [21/Jun/2019:15:48:16 -0700] \"PATCH /incentivize/target/engineer/engineer HTTP/1.0\" 504 23088\\n176.18.202.192 - - [21/Jun/2019:15:48:17 -0700] \"PUT /leading-edge/synergies/infrastructures/user-centric HTTP/1.1\" 400 24654\\n73.112.25.186 - - [21/Jun/2019:15:48:18 -0700] \"DELETE /partnerships/e-markets/efficient HTTP/1.1\" 503 17253\\n65.113.165.7 - nitzsche2796 [21/Jun/2019:15:48:19 -0700] \"DELETE /infomediaries/harness/expedite/orchestrate HTTP/2.0\" 401 3037\\n223.75.102.252 - zemlak4312 [21/Jun/2019:15:48:20 -0700] \"HEAD /e-tailers/sexy/extensible HTTP/1.0\" 503 16103\\n83.12.28.227 - nolan1426 [21/Jun/2019:15:48:21 -0700] \"DELETE /global/reintermediate HTTP/1.1\" 203 1432\\n129.194.112.95 - - [21/Jun/2019:15:48:22 -0700] \"POST /seamless/leverage HTTP/1.0\" 203 4858\\n178.20.130.66 - mayer2417 [21/Jun/2019:15:48:23 -0700] \"GET /transparent HTTP/1.0\" 100 24019\\n93.61.70.250 - cassin5420 [21/Jun/2019:15:48:24 -0700] \"DELETE /portals HTTP/1.0\" 416 12205\\n77.5.250.80 - bailey4806 [21/Jun/2019:15:48:25 -0700] \"DELETE /enhance/e-business/impactful HTTP/2.0\" 501 13562\\n10.229.72.234 - rogahn7487 [21/Jun/2019:15:48:26 -0700] \"GET /web-readiness HTTP/1.0\" 203 21690\\n114.182.112.12 - walter1917 [21/Jun/2019:15:48:27 -0700] \"PUT /deliverables/benchmark HTTP/1.0\" 406 25329\\n197.35.190.56 - cole1245 [21/Jun/2019:15:48:28 -0700] \"HEAD /whiteboard/bleeding-edge/disintermediate/cultivate HTTP/1.0\" 416 19713\\n215.55.230.78 - - [21/Jun/2019:15:48:29 -0700] \"PATCH /unleash/schemas HTTP/2.0\" 403 7476\\n147.108.125.10 - - [21/Jun/2019:15:48:30 -0700] \"DELETE /architect HTTP/1.1\" 401 5002\\n44.147.46.145 - runolfsdottir2005 [21/Jun/2019:15:48:31 -0700] \"DELETE /web+services/reinvent/real-time/cross-media HTTP/1.0\" 400 11395\\n197.185.253.55 - cormier5217 [21/Jun/2019:15:48:32 -0700] \"PATCH /dynamic/eyeballs/incentivize HTTP/2.0\" 503 24975\\n79.4.211.247 - - [21/Jun/2019:15:48:33 -0700] \"DELETE /deliver/partnerships/exploit HTTP/1.0\" 400 18962\\n171.201.31.179 - - [21/Jun/2019:15:48:34 -0700] \"DELETE /compelling HTTP/2.0\" 406 19062\\n116.132.156.28 - emard5518 [21/Jun/2019:15:48:35 -0700] \"GET /robust/efficient/sticky/robust HTTP/2.0\" 405 21159\\n46.94.236.10 - jacobi6125 [21/Jun/2019:15:48:36 -0700] \"GET /mindshare/e-services/action-items HTTP/1.1\" 503 10411\\n196.16.205.128 - stanton2862 [21/Jun/2019:15:48:37 -0700] \"DELETE /recontextualize HTTP/1.1\" 304 9363\\n65.160.59.55 - ortiz2311 [21/Jun/2019:15:48:38 -0700] \"HEAD /interactive/integrated/incentivize HTTP/1.1\" 201 2524\\n107.253.103.62 - maggio7837 [21/Jun/2019:15:48:39 -0700] \"GET /infomediaries HTTP/1.1\" 100 3569\\n13.253.202.85 - nader6495 [21/Jun/2019:15:48:40 -0700] \"HEAD /extend/scale/whiteboard HTTP/1.0\" 406 2956\\n219.234.129.250 - - [21/Jun/2019:15:48:41 -0700] \"HEAD /real-time/24%2f365 HTTP/1.1\" 404 24050\\n108.226.15.178 - - [21/Jun/2019:15:48:42 -0700] \"DELETE /revolutionary/collaborative/e-commerce/incubate HTTP/1.0\" 302 23952\\n120.3.195.188 - zboncak8896 [21/Jun/2019:15:48:43 -0700] \"HEAD /monetize/matrix/incentivize/paradigms HTTP/1.0\" 304 25191\\n243.82.252.241 - - [21/Jun/2019:15:48:44 -0700] \"GET /incubate HTTP/2.0\" 503 13390\\n175.95.90.163 - - [21/Jun/2019:15:48:45 -0700] \"POST /transform HTTP/1.0\" 200 4589\\n205.183.132.210 - - [21/Jun/2019:15:48:46 -0700] \"DELETE /distributed HTTP/1.1\" 304 16502\\n67.91.67.236 - hammes1596 [21/Jun/2019:15:48:47 -0700] \"HEAD /models/enhance/streamline HTTP/2.0\" 504 16973\\n201.66.251.172 - - [21/Jun/2019:15:48:48 -0700] \"GET /global HTTP/2.0\" 203 8595\\n221.105.56.181 - - [21/Jun/2019:15:48:49 -0700] \"HEAD /extend/schemas/relationships/world-class HTTP/2.0\" 302 20997\\n206.237.108.242 - - [21/Jun/2019:15:48:50 -0700] \"PUT /markets/networks/matrix HTTP/1.1\" 203 6611\\n242.173.145.218 - - [21/Jun/2019:15:48:51 -0700] \"PUT /robust/rich HTTP/1.1\" 205 16691\\n143.117.208.51 - - [21/Jun/2019:15:48:52 -0700] \"POST /visionary/synthesize/embrace/leverage HTTP/1.0\" 302 24158\\n159.5.202.167 - moen9202 [21/Jun/2019:15:48:53 -0700] \"DELETE /technologies/schemas/methodologies/mission-critical HTTP/2.0\" 416 25130\\n166.255.221.168 - - [21/Jun/2019:15:48:54 -0700] \"PATCH /schemas HTTP/1.1\" 205 18404\\n232.181.229.75 - lehner6109 [21/Jun/2019:15:48:55 -0700] \"PUT /transition HTTP/1.1\" 203 483\\n254.88.251.245 - nolan6998 [21/Jun/2019:15:48:56 -0700] \"DELETE /whiteboard HTTP/1.1\" 404 16608\\n110.112.78.242 - kling1525 [21/Jun/2019:15:48:57 -0700] \"POST /paradigms/integrated HTTP/1.1\" 200 13019\\n116.55.22.122 - bahringer5369 [21/Jun/2019:15:48:58 -0700] \"PATCH /compelling/disintermediate HTTP/1.1\" 100 22010\\n172.124.11.171 - quitzon1416 [21/Jun/2019:15:48:59 -0700] \"POST /out-of-the-box/roi/e-enable HTTP/1.0\" 403 28164\\n58.159.26.50 - - [21/Jun/2019:15:49:00 -0700] \"PATCH /supply-chains/architect/e-business HTTP/1.0\" 204 10472\\n188.193.116.45 - - [21/Jun/2019:15:49:01 -0700] \"POST /e-tailers/strategize HTTP/1.1\" 201 4304\\n210.255.229.144 - moen2716 [21/Jun/2019:15:49:02 -0700] \"POST /end-to-end/applications HTTP/2.0\" 301 15046\\n74.21.133.131 - waters3612 [21/Jun/2019:15:49:03 -0700] \"GET /bleeding-edge/applications HTTP/2.0\" 304 15281\\n93.88.34.132 - - [21/Jun/2019:15:49:04 -0700] \"POST /24%2f365 HTTP/2.0\" 100 12780\\n134.190.123.28 - braun2437 [21/Jun/2019:15:49:05 -0700] \"POST /extend/initiatives HTTP/2.0\" 304 25392\\n145.131.76.133 - kling3290 [21/Jun/2019:15:49:06 -0700] \"HEAD /e-business/holistic/mindshare/magnetic HTTP/2.0\" 304 25231\\n215.214.69.146 - kuhic1127 [21/Jun/2019:15:49:07 -0700] \"PATCH /holistic/exploit/transition HTTP/2.0\" 406 21426\\n157.161.20.178 - - [21/Jun/2019:15:49:08 -0700] \"GET /metrics/paradigms/reinvent/enable HTTP/2.0\" 504 27235\\n206.227.78.159 - - [21/Jun/2019:15:49:09 -0700] \"GET /orchestrate HTTP/2.0\" 204 17518\\n20.179.60.207 - mcglynn3415 [21/Jun/2019:15:49:10 -0700] \"PUT /grow HTTP/2.0\" 401 12062\\n217.60.55.82 - boyer9211 [21/Jun/2019:15:49:11 -0700] \"GET /relationships/embrace/models HTTP/1.0\" 204 6822\\n177.66.154.38 - - [21/Jun/2019:15:49:12 -0700] \"PATCH /synergize/relationships HTTP/1.1\" 400 572\\n190.236.134.191 - - [21/Jun/2019:15:49:13 -0700] \"PATCH /bleeding-edge/roi HTTP/1.0\" 200 13645\\n240.57.86.78 - thompson7192 [21/Jun/2019:15:49:14 -0700] \"HEAD /strategic/strategic/open-source/maximize HTTP/1.0\" 502 17673\\n164.128.154.124 - effertz4240 [21/Jun/2019:15:49:15 -0700] \"PATCH /visualize/cross-platform/intuitive HTTP/1.1\" 400 28726\\n219.150.27.76 - reinger6377 [21/Jun/2019:15:49:16 -0700] \"GET /scale/grow/disintermediate/e-enable HTTP/2.0\" 301 13624\\n45.154.94.28 - - [21/Jun/2019:15:49:17 -0700] \"HEAD /scale/open-source HTTP/1.0\" 416 445\\n66.157.144.220 - - [21/Jun/2019:15:49:18 -0700] \"GET /reintermediate/reinvent/convergence/killer HTTP/1.1\" 401 8918\\n4.245.27.54 - - [21/Jun/2019:15:49:19 -0700] \"PUT /orchestrate/generate HTTP/1.1\" 201 28953\\n218.100.131.71 - leffler3986 [21/Jun/2019:15:49:20 -0700] \"PATCH /orchestrate/monetize/relationships HTTP/1.1\" 501 24543\\n72.205.105.73 - - [21/Jun/2019:15:49:21 -0700] \"POST /innovative/b2b HTTP/1.1\" 201 18073\\n132.186.52.137 - wunsch3097 [21/Jun/2019:15:49:22 -0700] \"DELETE /viral/eyeballs/brand HTTP/2.0\" 416 8003\\n48.70.58.4 - - [21/Jun/2019:15:49:23 -0700] \"PUT /paradigms/repurpose HTTP/2.0\" 401 8468\\n29.3.16.175 - wolf7357 [21/Jun/2019:15:49:24 -0700] \"PUT /b2c HTTP/2.0\" 201 8395\\n55.255.42.34 - erdman7847 [21/Jun/2019:15:49:25 -0700] \"POST /one-to-one/viral/interfaces/embrace HTTP/1.0\" 404 16840\\n102.2.37.136 - - [21/Jun/2019:15:49:26 -0700] \"HEAD /granular HTTP/2.0\" 200 15004\\n244.32.122.180 - shanahan9241 [21/Jun/2019:15:49:27 -0700] \"PATCH /cutting-edge HTTP/1.1\" 200 23358\\n196.95.163.236 - lockman1471 [21/Jun/2019:15:49:28 -0700] \"PATCH /niches/front-end/dot-com HTTP/1.0\" 200 29973\\n165.157.86.133 - runte2017 [21/Jun/2019:15:49:29 -0700] \"DELETE /grow/channels HTTP/1.0\" 400 13930\\n213.243.28.116 - - [21/Jun/2019:15:49:30 -0700] \"HEAD /bleeding-edge/granular HTTP/1.1\" 504 26957\\n30.254.125.19 - - [21/Jun/2019:15:49:31 -0700] \"PUT /iterate/distributed/unleash/interfaces HTTP/1.1\" 503 6406\\n187.240.183.141 - sauer3376 [21/Jun/2019:15:49:32 -0700] \"DELETE /frictionless/platforms/networks HTTP/1.0\" 200 21857\\n226.239.91.74 - jakubowski4018 [21/Jun/2019:15:49:33 -0700] \"HEAD /vertical/models/cross-media/reintermediate HTTP/1.1\" 301 14555\\n118.163.58.231 - - [21/Jun/2019:15:49:34 -0700] \"POST /web-enabled/paradigms HTTP/1.1\" 302 23966\\n228.112.124.191 - - [21/Jun/2019:15:49:35 -0700] \"POST /syndicate/roi/target/morph HTTP/1.1\" 502 9422\\n243.47.73.109 - - [21/Jun/2019:15:49:36 -0700] \"POST /users/enterprise HTTP/2.0\" 204 13574\\n125.202.126.201 - - [21/Jun/2019:15:49:37 -0700] \"PUT /robust HTTP/2.0\" 304 24262\\n50.142.221.159 - durgan7044 [21/Jun/2019:15:49:38 -0700] \"DELETE /one-to-one/experiences/content HTTP/1.1\" 203 20906\\n92.180.240.91 - - [21/Jun/2019:15:49:39 -0700] \"GET /target/integrate/mission-critical HTTP/1.0\" 100 14057\\n153.86.38.119 - gaylord9827 [21/Jun/2019:15:49:40 -0700] \"HEAD /drive/content/action-items HTTP/1.1\" 301 16191\\n240.5.131.182 - - [21/Jun/2019:15:49:41 -0700] \"PATCH /proactive/front-end/24%2f365/implement HTTP/1.0\" 504 14204\\n232.131.251.10 - kutch1902 [21/Jun/2019:15:49:42 -0700] \"DELETE /disintermediate/benchmark/envisioneer HTTP/1.0\" 203 2026\\n69.98.159.130 - turner6424 [21/Jun/2019:15:49:43 -0700] \"PATCH /harness HTTP/2.0\" 205 15394\\n113.179.165.89 - - [21/Jun/2019:15:49:44 -0700] \"HEAD /models/innovative/cultivate HTTP/1.0\" 503 17242\\n223.182.232.174 - maggio8143 [21/Jun/2019:15:49:45 -0700] \"PUT /embrace HTTP/2.0\" 401 18858\\n191.118.123.46 - simonis6976 [21/Jun/2019:15:49:46 -0700] \"PATCH /web-enabled/harness/transparent HTTP/1.0\" 400 10969\\n53.51.106.59 - - [21/Jun/2019:15:49:47 -0700] \"HEAD /systems/streamline/front-end HTTP/2.0\" 503 9456\\n206.163.96.216 - buckridge3917 [21/Jun/2019:15:49:48 -0700] \"HEAD /transparent HTTP/2.0\" 200 1768\\n80.61.205.38 - - [21/Jun/2019:15:49:49 -0700] \"HEAD /distributed/embrace HTTP/1.1\" 503 2204\\n163.27.80.92 - monahan7718 [21/Jun/2019:15:49:50 -0700] \"POST /clicks-and-mortar/vortals HTTP/2.0\" 100 22784\\n148.175.205.121 - sipes2845 [21/Jun/2019:15:49:51 -0700] \"PATCH /brand/vertical/revolutionize/killer HTTP/1.0\" 201 9848\\n199.88.191.4 - breitenberg8163 [21/Jun/2019:15:49:52 -0700] \"PATCH /unleash HTTP/1.0\" 500 8169\\n68.49.235.87 - - [21/Jun/2019:15:49:53 -0700] \"HEAD /models/synergies HTTP/1.1\" 205 7253\\n127.220.163.49 - wisozk6703 [21/Jun/2019:15:49:54 -0700] \"PATCH /utilize HTTP/2.0\" 204 15950\\n99.231.139.196 - - [21/Jun/2019:15:49:55 -0700] \"DELETE /innovate/mesh/envisioneer HTTP/2.0\" 100 16022\\n30.184.31.218 - - [21/Jun/2019:15:49:56 -0700] \"POST /expedite/front-end HTTP/1.0\" 201 22592\\n184.191.5.166 - - [21/Jun/2019:15:49:57 -0700] \"HEAD /sticky/open-source HTTP/1.1\" 203 14260\\n51.2.232.211 - rutherford4378 [21/Jun/2019:15:49:58 -0700] \"POST /strategize/strategize/innovate HTTP/1.0\" 403 25238\\n11.177.206.75 - - [21/Jun/2019:15:49:59 -0700] \"PATCH /seize/metrics/killer HTTP/2.0\" 504 15392\\n32.4.248.193 - - [21/Jun/2019:15:50:00 -0700] \"DELETE /cross-platform/integrate HTTP/1.1\" 405 5783\\n231.72.174.26 - hills3866 [21/Jun/2019:15:50:01 -0700] \"POST /bleeding-edge/user-centric/embrace/wireless HTTP/1.1\" 502 7276\\n170.201.249.253 - - [21/Jun/2019:15:50:02 -0700] \"GET /holistic HTTP/1.0\" 504 11046\\n41.208.246.19 - jacobi7143 [21/Jun/2019:15:50:03 -0700] \"DELETE /e-enable HTTP/1.0\" 200 24763\\n227.166.16.104 - - [21/Jun/2019:15:50:04 -0700] \"PUT /compelling/enable/web-readiness HTTP/2.0\" 500 25221\\n158.141.93.234 - - [21/Jun/2019:15:50:05 -0700] \"GET /target/matrix/e-markets/scale HTTP/1.1\" 203 28277\\n86.222.54.122 - - [21/Jun/2019:15:50:06 -0700] \"DELETE /roi HTTP/1.0\" 302 4586\\n142.218.156.62 - - [21/Jun/2019:15:50:07 -0700] \"GET /productize/customized HTTP/1.1\" 501 28792\\n160.10.75.87 - - [21/Jun/2019:15:50:08 -0700] \"PATCH /deliverables/engineer/implement HTTP/1.0\" 100 24006\\n8.31.177.12 - braun1922 [21/Jun/2019:15:50:09 -0700] \"PUT /transparent/niches HTTP/1.1\" 404 13410\\n205.163.93.58 - - [21/Jun/2019:15:50:10 -0700] \"HEAD /recontextualize/vertical/roi/virtual HTTP/1.1\" 100 27393\\n80.169.112.239 - - [21/Jun/2019:15:50:11 -0700] \"GET /monetize/technologies HTTP/2.0\" 400 6074\\n240.189.198.133 - price7294 [21/Jun/2019:15:50:12 -0700] \"PATCH /b2b/24%2f365 HTTP/1.0\" 405 6178\\n30.9.43.134 - marvin4115 [21/Jun/2019:15:50:13 -0700] \"GET /front-end/mindshare/bandwidth/paradigms HTTP/1.0\" 416 6955\\n88.211.3.111 - turner9291 [21/Jun/2019:15:50:14 -0700] \"PATCH /networks/grow/exploit/proactive HTTP/1.1\" 401 502\\n208.45.172.73 - vonrueden9811 [21/Jun/2019:15:50:15 -0700] \"POST /drive HTTP/1.0\" 405 25988\\n143.194.39.107 - anderson7046 [21/Jun/2019:15:50:16 -0700] \"HEAD /intuitive HTTP/1.1\" 406 10060\\n106.205.65.57 - - [21/Jun/2019:15:50:17 -0700] \"POST /mesh/scale/exploit/envisioneer HTTP/1.0\" 500 20111\\n157.163.234.192 - stamm2348 [21/Jun/2019:15:50:18 -0700] \"PUT /e-business/web-readiness/grow HTTP/1.0\" 302 20577\\n167.162.121.227 - - [21/Jun/2019:15:50:19 -0700] \"GET /target HTTP/2.0\" 500 2526\\n59.142.194.241 - - [21/Jun/2019:15:50:20 -0700] \"GET /reintermediate/bandwidth/e-business HTTP/1.0\" 203 16727\\n163.153.145.8 - doyle2015 [21/Jun/2019:15:50:21 -0700] \"PUT /engineer HTTP/1.1\" 405 25476\\n165.8.44.192 - kemmer8421 [21/Jun/2019:15:50:22 -0700] \"HEAD /repurpose HTTP/1.0\" 502 21762\\n165.99.52.175 - - [21/Jun/2019:15:50:23 -0700] \"GET /world-class/target/cross-platform HTTP/1.0\" 301 13112\\n178.84.242.98 - dare5841 [21/Jun/2019:15:50:24 -0700] \"POST /synergies/enhance/repurpose HTTP/2.0\" 500 19488\\n121.47.120.137 - - [21/Jun/2019:15:50:25 -0700] \"PUT /visualize/killer/innovative/24%2f365 HTTP/2.0\" 204 14268\\n79.123.137.87 - cassin8778 [21/Jun/2019:15:50:26 -0700] \"PATCH /e-markets/solutions/b2c/generate HTTP/2.0\" 304 2040\\n249.87.214.29 - - [21/Jun/2019:15:50:27 -0700] \"DELETE /bleeding-edge/impactful HTTP/2.0\" 302 10028\\n166.159.77.202 - - [21/Jun/2019:15:50:28 -0700] \"DELETE /reintermediate/back-end HTTP/1.0\" 304 23664\\n61.125.26.251 - - [21/Jun/2019:15:50:29 -0700] \"PUT /engineer/cutting-edge/best-of-breed/deploy HTTP/2.0\" 201 5815\\n49.118.219.8 - koelpin5285 [21/Jun/2019:15:50:30 -0700] \"HEAD /collaborative/partnerships/aggregate HTTP/1.1\" 302 20719\\n88.124.34.218 - haag5592 [21/Jun/2019:15:50:31 -0700] \"PUT /turn-key/bleeding-edge HTTP/2.0\" 203 28998\\n191.117.232.204 - kohler4380 [21/Jun/2019:15:50:32 -0700] \"GET /enterprise HTTP/2.0\" 400 6311\\n240.119.176.34 - lubowitz6149 [21/Jun/2019:15:50:33 -0700] \"DELETE /systems/one-to-one HTTP/2.0\" 501 16454\\n65.51.150.39 - - [21/Jun/2019:15:50:34 -0700] \"HEAD /platforms HTTP/1.1\" 302 11250\\n63.67.111.71 - - [21/Jun/2019:15:50:35 -0700] \"GET /content/seamless HTTP/1.1\" 502 5839\\n16.79.94.160 - - [21/Jun/2019:15:50:36 -0700] \"POST /infrastructures/models/unleash/action-items HTTP/1.1\" 200 21216\\n228.155.223.214 - - [21/Jun/2019:15:50:37 -0700] \"PATCH /cultivate/scalable/clicks-and-mortar/strategic HTTP/1.0\" 416 8451\\n235.75.106.65 - - [21/Jun/2019:15:50:38 -0700] \"PATCH /generate/visualize HTTP/2.0\" 200 29731\\n25.177.33.181 - - [21/Jun/2019:15:50:39 -0700] \"DELETE /intuitive HTTP/1.0\" 203 15552\\n79.185.171.163 - block1079 [21/Jun/2019:15:50:40 -0700] \"GET /repurpose/partnerships/bleeding-edge HTTP/2.0\" 100 19778\\n169.3.145.24 - - [21/Jun/2019:15:50:41 -0700] \"DELETE /models/collaborative/cross-media/infomediaries HTTP/1.1\" 100 27817\\n156.58.195.56 - bogisich7897 [21/Jun/2019:15:50:42 -0700] \"PUT /portals/deliverables HTTP/1.1\" 304 20982\\n150.139.169.192 - mann8285 [21/Jun/2019:15:50:43 -0700] \"PUT /e-business/bleeding-edge/optimize HTTP/1.0\" 500 17529\\n184.246.41.227 - mayert4085 [21/Jun/2019:15:50:44 -0700] \"GET /transition HTTP/2.0\" 405 21068\\n15.129.45.246 - - [21/Jun/2019:15:50:45 -0700] \"DELETE /24%2f7 HTTP/2.0\" 401 2090\\n251.38.225.127 - - [21/Jun/2019:15:50:46 -0700] \"GET /markets HTTP/2.0\" 304 7719\\n202.6.77.154 - thompson6002 [21/Jun/2019:15:50:47 -0700] \"HEAD /open-source/revolutionary/initiatives/dot-com HTTP/1.1\" 205 2638\\n140.199.235.104 - - [21/Jun/2019:15:50:48 -0700] \"GET /initiatives/e-business HTTP/1.1\" 416 21041\\n64.115.197.209 - - [21/Jun/2019:15:50:49 -0700] \"GET /applications/monetize/expedite/global HTTP/2.0\" 400 14977\\n174.184.22.106 - - [21/Jun/2019:15:50:50 -0700] \"DELETE /scale/front-end HTTP/1.1\" 301 19834\\n189.62.5.214 - romaguera5473 [21/Jun/2019:15:50:51 -0700] \"DELETE /sticky HTTP/2.0\" 201 8554\\n38.111.64.134 - bins4571 [21/Jun/2019:15:50:52 -0700] \"HEAD /bricks-and-clicks HTTP/1.1\" 406 26261\\n122.9.81.194 - stoltenberg8660 [21/Jun/2019:15:50:53 -0700] \"PUT /convergence/global/vertical/engineer HTTP/1.1\" 406 6105\\n175.68.167.31 - - [21/Jun/2019:15:50:54 -0700] \"DELETE /e-markets/b2b/robust HTTP/1.1\" 204 13955\\n7.205.75.72 - west2407 [21/Jun/2019:15:50:55 -0700] \"GET /technologies HTTP/1.1\" 203 15179\\n146.217.161.62 - - [21/Jun/2019:15:50:56 -0700] \"PUT /interfaces/leading-edge HTTP/2.0\" 401 24483\\n246.163.3.11 - willms1885 [21/Jun/2019:15:50:57 -0700] \"DELETE /dot-com HTTP/1.0\" 504 18240\\n223.235.234.173 - - [21/Jun/2019:15:50:58 -0700] \"HEAD /scalable/synergies/compelling/real-time HTTP/2.0\" 304 25415\\n203.33.27.240 - - [21/Jun/2019:15:50:59 -0700] \"HEAD /mesh HTTP/1.1\" 203 22703\\n128.7.197.97 - - [21/Jun/2019:15:51:00 -0700] \"DELETE /extensible/exploit HTTP/2.0\" 406 25717\\n120.237.31.63 - - [21/Jun/2019:15:51:01 -0700] \"GET /cross-platform/integrate/models/redefine HTTP/2.0\" 203 9037\\n23.6.200.51 - marvin8479 [21/Jun/2019:15:51:02 -0700] \"PUT /maximize/utilize HTTP/1.1\" 304 24785\\n87.56.184.191 - funk5262 [21/Jun/2019:15:51:03 -0700] \"POST /scalable/integrated HTTP/1.0\" 401 15439\\n46.252.3.42 - - [21/Jun/2019:15:51:04 -0700] \"DELETE /schemas/revolutionary/recontextualize HTTP/1.0\" 405 25198\\n96.76.27.126 - haley9579 [21/Jun/2019:15:51:05 -0700] \"PATCH /visualize/web-enabled/enhance/synergize HTTP/1.0\" 406 14324\\n130.181.59.232 - towne3635 [21/Jun/2019:15:51:06 -0700] \"GET /dot-com/functionalities HTTP/1.1\" 201 19870\\n165.111.167.225 - gottlieb6924 [21/Jun/2019:15:51:07 -0700] \"PUT /envisioneer HTTP/1.1\" 404 25080\\n223.170.242.159 - okuneva8628 [21/Jun/2019:15:51:08 -0700] \"POST /enhance/cross-platform/interactive HTTP/2.0\" 203 10629\\n202.162.118.175 - greenholt5589 [21/Jun/2019:15:51:09 -0700] \"PATCH /maximize HTTP/1.1\" 205 7623\\n230.220.15.38 - gulgowski7868 [21/Jun/2019:15:51:10 -0700] \"DELETE /innovate/facilitate/users HTTP/1.0\" 403 5670\\n104.142.156.232 - - [21/Jun/2019:15:51:11 -0700] \"GET /enterprise/envisioneer HTTP/1.1\" 304 13944\\n154.8.73.245 - - [21/Jun/2019:15:51:12 -0700] \"GET /best-of-breed HTTP/1.0\" 501 18764\\n33.26.188.200 - raynor9337 [21/Jun/2019:15:51:13 -0700] \"POST /24%2f7 HTTP/2.0\" 204 9223\\n211.17.216.102 - kshlerin3121 [21/Jun/2019:15:51:14 -0700] \"DELETE /functionalities HTTP/1.1\" 503 1890\\n188.10.135.15 - - [21/Jun/2019:15:51:15 -0700] \"HEAD /roi/enterprise HTTP/1.0\" 100 11229\\n163.157.76.212 - - [21/Jun/2019:15:51:16 -0700] \"HEAD /orchestrate/embrace/empower HTTP/1.0\" 406 8932\\n45.100.57.217 - - [21/Jun/2019:15:51:17 -0700] \"POST /unleash/aggregate/integrate HTTP/2.0\" 100 8376\\n58.169.115.117 - - [21/Jun/2019:15:51:18 -0700] \"POST /plug-and-play/facilitate/synergies/rich HTTP/2.0\" 401 19651\\n93.153.48.201 - cruickshank4469 [21/Jun/2019:15:51:19 -0700] \"GET /interactive/e-business/architect HTTP/2.0\" 404 4262\\n228.203.34.179 - bednar2337 [21/Jun/2019:15:51:20 -0700] \"HEAD /implement HTTP/1.0\" 100 8454\\n64.87.108.81 - - [21/Jun/2019:15:51:21 -0700] \"PATCH /leverage HTTP/1.0\" 301 8279\\n66.198.80.221 - ebert4690 [21/Jun/2019:15:51:22 -0700] \"PUT /leading-edge HTTP/1.0\" 503 1802\\n127.251.49.55 - bednar7249 [21/Jun/2019:15:51:23 -0700] \"PATCH /dynamic/engage/facilitate HTTP/1.1\" 400 6194\\n67.232.93.92 - borer9296 [21/Jun/2019:15:51:24 -0700] \"POST /cultivate HTTP/1.0\" 100 22390\\n214.236.248.87 - considine7686 [21/Jun/2019:15:51:25 -0700] \"PUT /repurpose/24%2f365 HTTP/2.0\" 204 13481\\n193.228.202.211 - - [21/Jun/2019:15:51:26 -0700] \"POST /e-markets/seamless HTTP/1.0\" 204 7564\\n23.52.106.162 - hettinger9833 [21/Jun/2019:15:51:27 -0700] \"GET /leading-edge/24%2f365 HTTP/2.0\" 504 7854\\n132.233.4.128 - - [21/Jun/2019:15:51:28 -0700] \"GET /channels/orchestrate/drive/vortals HTTP/1.0\" 203 16590\\n249.183.121.148 - adams5230 [21/Jun/2019:15:51:29 -0700] \"PUT /world-class/models HTTP/1.1\" 203 21199\\n16.56.50.149 - friesen3358 [21/Jun/2019:15:51:30 -0700] \"GET /monetize/repurpose/infomediaries/infrastructures HTTP/2.0\" 501 16500\\n246.181.246.57 - hudson5809 [21/Jun/2019:15:51:31 -0700] \"PUT /transition/enhance/partnerships HTTP/2.0\" 500 1919\\n55.148.73.4 - - [21/Jun/2019:15:51:32 -0700] \"HEAD /interactive/infrastructures/interfaces HTTP/1.1\" 201 5886\\n39.149.166.187 - - [21/Jun/2019:15:51:33 -0700] \"GET /extensible HTTP/2.0\" 100 27347\\n249.132.14.253 - - [21/Jun/2019:15:51:34 -0700] \"POST /technologies/bricks-and-clicks/action-items HTTP/1.1\" 200 13405\\n199.251.34.231 - kilback6840 [21/Jun/2019:15:51:35 -0700] \"PUT /24%2f365/granular/synergistic HTTP/2.0\" 502 23140\\n161.216.88.248 - - [21/Jun/2019:15:51:36 -0700] \"PATCH /niches HTTP/1.0\" 200 20951\\n39.95.201.29 - dooley1637 [21/Jun/2019:15:51:37 -0700] \"DELETE /leading-edge HTTP/1.0\" 405 27084\\n29.183.210.228 - toy9491 [21/Jun/2019:15:51:38 -0700] \"DELETE /scale HTTP/1.0\" 401 13803\\n44.59.227.68 - - [21/Jun/2019:15:51:39 -0700] \"PUT /generate/unleash HTTP/1.0\" 501 15998\\n99.205.229.248 - - [21/Jun/2019:15:51:40 -0700] \"GET /experiences/extend/front-end/robust HTTP/1.1\" 404 28913\\n223.52.70.91 - - [21/Jun/2019:15:51:41 -0700] \"POST /integrated/deliverables/portals/orchestrate HTTP/1.1\" 503 26966\\n182.56.238.95 - - [21/Jun/2019:15:51:42 -0700] \"PATCH /content/models HTTP/1.1\" 205 6246\\n111.64.171.65 - stanton9204 [21/Jun/2019:15:51:43 -0700] \"PUT /cultivate HTTP/1.0\" 406 9545\\n157.117.129.160 - bogisich6895 [21/Jun/2019:15:51:44 -0700] \"PUT /open-source HTTP/2.0\" 201 6642\\n232.117.182.116 - conn7515 [21/Jun/2019:15:51:45 -0700] \"POST /empower/disintermediate/24%2f365 HTTP/1.0\" 205 3614\\n174.174.210.5 - funk5090 [21/Jun/2019:15:51:46 -0700] \"HEAD /intuitive HTTP/2.0\" 406 10069\\n94.96.145.184 - romaguera2467 [21/Jun/2019:15:51:47 -0700] \"DELETE /paradigms/reintermediate/e-services/cutting-edge HTTP/2.0\" 100 19433\\n174.67.179.60 - - [21/Jun/2019:15:51:48 -0700] \"POST /mission-critical/reintermediate/virtual HTTP/1.0\" 304 10757\\n249.71.172.194 - braun5844 [21/Jun/2019:15:51:49 -0700] \"PUT /unleash/enterprise/optimize HTTP/2.0\" 503 16903\\n164.195.121.133 - kutch2379 [21/Jun/2019:15:51:50 -0700] \"HEAD /maximize/back-end/metrics HTTP/1.0\" 302 28608\\n228.173.203.108 - harvey5371 [21/Jun/2019:15:51:51 -0700] \"POST /eyeballs/back-end/platforms HTTP/1.0\" 502 6243\\n158.216.44.90 - - [21/Jun/2019:15:51:52 -0700] \"POST /compelling/enable/communities HTTP/2.0\" 416 394\\n48.69.222.149 - - [21/Jun/2019:15:51:53 -0700] \"GET /plug-and-play/virtual/systems HTTP/2.0\" 301 15663\\n108.75.3.212 - cummings7077 [21/Jun/2019:15:51:54 -0700] \"PATCH /architect/e-business HTTP/1.1\" 200 29643\\n61.48.202.41 - walsh4800 [21/Jun/2019:15:51:55 -0700] \"POST /disintermediate HTTP/1.0\" 205 13833\\n158.231.61.197 - - [21/Jun/2019:15:51:56 -0700] \"PATCH /architectures/bleeding-edge HTTP/2.0\" 416 15634\\n155.35.201.177 - eichmann8620 [21/Jun/2019:15:51:57 -0700] \"POST /morph HTTP/1.1\" 200 17960\\n91.198.202.81 - - [21/Jun/2019:15:51:58 -0700] \"HEAD /architectures/visualize/innovate/target HTTP/1.1\" 500 17365\\n124.17.214.111 - kuhn7507 [21/Jun/2019:15:51:59 -0700] \"GET /orchestrate/vertical/technologies HTTP/2.0\" 501 19307\\n9.7.44.67 - - [21/Jun/2019:15:52:00 -0700] \"PATCH /b2c/optimize/channels HTTP/1.0\" 100 29761\\n137.220.255.247 - - [21/Jun/2019:15:52:01 -0700] \"POST /bleeding-edge/target/customized/frictionless HTTP/1.1\" 205 4630\\n114.109.41.74 - - [21/Jun/2019:15:52:02 -0700] \"GET /morph HTTP/2.0\" 406 27553\\n240.34.246.125 - - [21/Jun/2019:15:52:03 -0700] \"HEAD /monetize/sexy HTTP/1.1\" 100 25152\\n141.132.102.21 - - [21/Jun/2019:15:52:04 -0700] \"PUT /content/benchmark HTTP/1.1\" 400 5161\\n98.195.245.214 - - [21/Jun/2019:15:52:05 -0700] \"PUT /channels HTTP/2.0\" 203 19529\\n234.153.219.198 - - [21/Jun/2019:15:52:06 -0700] \"PATCH /partnerships/seamless HTTP/1.0\" 401 15575\\n188.250.73.73 - kohler6082 [21/Jun/2019:15:52:07 -0700] \"HEAD /mindshare/facilitate HTTP/1.0\" 301 20274\\n216.226.60.135 - - [21/Jun/2019:15:52:08 -0700] \"POST /user-centric/mesh/iterate HTTP/1.1\" 204 15566\\n11.138.50.170 - - [21/Jun/2019:15:52:09 -0700] \"HEAD /next-generation/paradigms HTTP/1.1\" 404 20839\\n208.116.224.152 - gutkowski5880 [21/Jun/2019:15:52:10 -0700] \"DELETE /revolutionary/portals HTTP/2.0\" 204 9389\\n192.186.62.61 - - [21/Jun/2019:15:52:11 -0700] \"POST /maximize/niches/channels HTTP/1.0\" 304 9944\\n191.79.84.144 - barrows5745 [21/Jun/2019:15:52:12 -0700] \"PUT /cross-platform HTTP/1.0\" 200 9595\\n177.166.106.59 - - [21/Jun/2019:15:52:13 -0700] \"PUT /holistic/models HTTP/1.1\" 401 153\\n33.36.92.97 - - [21/Jun/2019:15:52:14 -0700] \"PATCH /redefine/value-added/synergistic/customized HTTP/2.0\" 404 13358\\n63.4.200.214 - glover3672 [21/Jun/2019:15:52:15 -0700] \"PUT /architectures/infrastructures HTTP/1.1\" 405 15396\\n141.127.230.209 - bode3507 [21/Jun/2019:15:52:16 -0700] \"PUT /e-services/next-generation/efficient/ubiquitous HTTP/1.0\" 400 28705\\n169.143.27.7 - - [21/Jun/2019:15:52:17 -0700] \"PATCH /synthesize/methodologies HTTP/2.0\" 204 13840\\n129.130.170.57 - - [21/Jun/2019:15:52:18 -0700] \"HEAD /seize/deploy/strategic HTTP/1.0\" 404 27090\\n57.161.31.62 - - [21/Jun/2019:15:52:19 -0700] \"DELETE /viral HTTP/1.1\" 501 11817\\n24.212.111.42 - reilly5235 [21/Jun/2019:15:52:20 -0700] \"GET /niches HTTP/1.0\" 403 5553\\n210.159.24.173 - jacobs7691 [21/Jun/2019:15:52:21 -0700] \"PATCH /portals HTTP/1.0\" 501 8868\\n154.37.76.207 - schowalter4620 [21/Jun/2019:15:52:22 -0700] \"PATCH /envisioneer HTTP/1.0\" 406 14925\\n139.217.225.28 - schaden7207 [21/Jun/2019:15:52:23 -0700] \"GET /magnetic/bricks-and-clicks HTTP/1.0\" 304 22496\\n140.2.207.126 - - [21/Jun/2019:15:52:24 -0700] \"GET /impactful HTTP/1.1\" 301 17173\\n72.71.45.246 - beier2969 [21/Jun/2019:15:52:25 -0700] \"PATCH /generate/productize/disintermediate HTTP/2.0\" 200 5331\\n160.189.253.237 - - [21/Jun/2019:15:52:26 -0700] \"GET /aggregate HTTP/2.0\" 205 16278\\n107.32.126.199 - schmidt4514 [21/Jun/2019:15:52:27 -0700] \"GET /optimize HTTP/1.1\" 200 2564\\n5.36.208.122 - bayer5640 [21/Jun/2019:15:52:28 -0700] \"GET /repurpose/models HTTP/1.1\" 403 3406\\n44.215.179.53 - - [21/Jun/2019:15:52:29 -0700] \"POST /e-markets HTTP/2.0\" 416 15714\\n32.165.44.159 - - [21/Jun/2019:15:52:30 -0700] \"PUT /front-end/seize HTTP/1.1\" 502 17938\\n49.8.35.58 - donnelly9040 [21/Jun/2019:15:52:31 -0700] \"GET /architectures/compelling/networks HTTP/1.1\" 400 24420\\n120.69.200.153 - pfannerstill2409 [21/Jun/2019:15:52:32 -0700] \"POST /extend/portals/clicks-and-mortar/matrix HTTP/1.0\" 100 23795\\n225.216.200.227 - bartell3136 [21/Jun/2019:15:52:33 -0700] \"POST /enable HTTP/1.1\" 416 7726\\n129.4.94.31 - - [21/Jun/2019:15:52:34 -0700] \"GET /partnerships/cutting-edge HTTP/2.0\" 405 11388\\n124.142.244.60 - - [21/Jun/2019:15:52:35 -0700] \"GET /revolutionize/matrix/end-to-end/paradigms HTTP/1.0\" 301 11810\\n113.118.36.178 - abernathy3937 [21/Jun/2019:15:52:36 -0700] \"GET /expedite/web-readiness/cutting-edge HTTP/2.0\" 401 7770\\n244.172.72.142 - - [21/Jun/2019:15:52:37 -0700] \"PATCH /mindshare HTTP/2.0\" 401 4039\\n115.198.27.247 - denesik1416 [21/Jun/2019:15:52:38 -0700] \"PATCH /incubate/rich HTTP/1.0\" 302 16652\\n160.111.19.169 - roob2215 [21/Jun/2019:15:52:39 -0700] \"POST /transform/magnetic/grow/interfaces HTTP/1.1\" 204 28810\\n245.2.226.215 - rau3028 [21/Jun/2019:15:52:40 -0700] \"PUT /integrate HTTP/2.0\" 401 27900\\n100.34.101.236 - cartwright2493 [21/Jun/2019:15:52:41 -0700] \"PUT /mesh/bleeding-edge/sexy HTTP/2.0\" 501 4334\\n183.23.223.119 - - [21/Jun/2019:15:52:42 -0700] \"GET /roi/content/bleeding-edge HTTP/1.0\" 100 3204\\n196.228.156.210 - parisian7014 [21/Jun/2019:15:52:43 -0700] \"HEAD /synergize HTTP/1.0\" 302 528\\n107.121.136.255 - wolff3688 [21/Jun/2019:15:52:44 -0700] \"POST /portals HTTP/1.0\" 404 529\\n67.243.77.88 - - [21/Jun/2019:15:52:45 -0700] \"GET /architectures/streamline/integrated HTTP/1.0\" 302 18356\\n154.193.194.236 - - [21/Jun/2019:15:52:46 -0700] \"POST /open-source/exploit HTTP/1.1\" 403 29246\\n7.44.169.193 - - [21/Jun/2019:15:52:47 -0700] \"DELETE /models HTTP/2.0\" 502 21765\\n89.230.201.79 - - [21/Jun/2019:15:52:48 -0700] \"POST /efficient/morph/methodologies/e-enable HTTP/2.0\" 200 5960\\n102.74.238.85 - bosco8918 [21/Jun/2019:15:52:49 -0700] \"POST /viral/infomediaries/magnetic HTTP/1.0\" 403 27823\\n97.11.140.220 - - [21/Jun/2019:15:52:50 -0700] \"POST /one-to-one/solutions/visualize/out-of-the-box HTTP/1.0\" 504 21687\\n121.161.69.92 - - [21/Jun/2019:15:52:51 -0700] \"PUT /enable/seamless/strategize HTTP/1.0\" 500 14392\\n139.54.42.244 - - [21/Jun/2019:15:52:52 -0700] \"HEAD /content/implement HTTP/1.1\" 200 13971\\n90.96.49.33 - - [21/Jun/2019:15:52:53 -0700] \"PATCH /infomediaries/e-services/facilitate HTTP/1.1\" 400 14916\\n234.26.87.233 - stehr6393 [21/Jun/2019:15:52:54 -0700] \"DELETE /value-added/incubate/morph HTTP/1.0\" 504 26317\\n157.237.224.179 - wintheiser5662 [21/Jun/2019:15:52:55 -0700] \"POST /benchmark/generate/streamline/paradigms HTTP/1.0\" 100 18870\\n195.195.194.123 - raynor1706 [21/Jun/2019:15:52:56 -0700] \"PUT /whiteboard/roi/transition HTTP/1.1\" 502 12033\\n74.202.178.240 - gaylord7396 [21/Jun/2019:15:52:57 -0700] \"HEAD /visionary/incubate HTTP/1.1\" 400 19916\\n155.123.176.15 - streich4473 [21/Jun/2019:15:52:58 -0700] \"GET /content/optimize/benchmark HTTP/1.0\" 204 8570\\n249.33.212.82 - - [21/Jun/2019:15:52:59 -0700] \"POST /dot-com/granular HTTP/1.0\" 504 9753\\n189.254.43.43 - swift6867 [21/Jun/2019:15:53:00 -0700] \"GET /architectures/recontextualize/morph/scale HTTP/1.0\" 204 8976\\n20.80.28.12 - hagenes4423 [21/Jun/2019:15:53:01 -0700] \"POST /harness HTTP/1.1\" 404 28127\\n44.188.73.217 - volkman6528 [21/Jun/2019:15:53:02 -0700] \"POST /clicks-and-mortar/user-centric HTTP/1.1\" 400 29325\\n112.211.50.38 - - [21/Jun/2019:15:53:03 -0700] \"DELETE /harness/e-business/functionalities HTTP/1.1\" 405 7975\\n90.53.226.196 - bogan1483 [21/Jun/2019:15:53:04 -0700] \"PATCH /b2b/portals HTTP/2.0\" 205 10478\\n55.136.150.69 - - [21/Jun/2019:15:53:05 -0700] \"DELETE /transition/viral/deliver/repurpose HTTP/1.1\" 502 4920\\n243.93.66.22 - - [21/Jun/2019:15:53:06 -0700] \"HEAD /robust/channels/recontextualize HTTP/1.0\" 205 27408\\n15.42.157.35 - - [21/Jun/2019:15:53:07 -0700] \"PUT /bricks-and-clicks/extensible HTTP/2.0\" 100 24743\\n200.229.201.189 - donnelly8614 [21/Jun/2019:15:53:08 -0700] \"GET /interfaces/unleash/impactful/reinvent HTTP/1.0\" 205 23207\\n234.75.192.179 - - [21/Jun/2019:15:53:09 -0700] \"PUT /iterate/virtual/strategic/seamless HTTP/1.1\" 100 21181\\n212.96.45.103 - - [21/Jun/2019:15:53:10 -0700] \"PATCH /real-time/extend/relationships HTTP/1.0\" 403 29333\\n144.111.159.48 - - [21/Jun/2019:15:53:11 -0700] \"PUT /maximize/target/e-tailers HTTP/1.0\" 203 11373\\n172.82.22.49 - cummerata1461 [21/Jun/2019:15:53:12 -0700] \"GET /mindshare HTTP/1.1\" 302 28517\\n205.242.25.172 - - [21/Jun/2019:15:53:13 -0700] \"POST /integrate/cross-platform/evolve HTTP/1.0\" 205 5663\\n85.160.9.60 - - [21/Jun/2019:15:53:14 -0700] \"PATCH /incubate HTTP/2.0\" 502 4273\\n189.55.69.57 - huel9795 [21/Jun/2019:15:53:15 -0700] \"POST /interfaces/synthesize/methodologies HTTP/1.0\" 500 22663\\n181.223.103.195 - gerhold3770 [21/Jun/2019:15:53:16 -0700] \"PATCH /markets/disintermediate/orchestrate/mesh HTTP/1.1\" 504 21015\\n119.228.175.191 - mills5084 [21/Jun/2019:15:53:17 -0700] \"DELETE /robust HTTP/2.0\" 403 11283\\n139.238.48.126 - champlin2089 [21/Jun/2019:15:53:18 -0700] \"GET /frictionless/matrix/exploit HTTP/2.0\" 100 14676\\n220.144.18.79 - - [21/Jun/2019:15:53:19 -0700] \"GET /vortals/morph HTTP/1.1\" 205 11560\\n56.2.41.119 - - [21/Jun/2019:15:53:20 -0700] \"PUT /end-to-end/architect HTTP/1.1\" 504 24057\\n141.228.58.58 - - [21/Jun/2019:15:53:21 -0700] \"PATCH /mission-critical/convergence HTTP/1.1\" 404 4099\\n201.46.41.176 - - [21/Jun/2019:15:53:22 -0700] \"HEAD /harness/rich HTTP/2.0\" 401 9762\\n66.144.178.220 - beatty7852 [21/Jun/2019:15:53:23 -0700] \"PATCH /front-end HTTP/1.1\" 406 3054\\n70.117.216.192 - schultz9259 [21/Jun/2019:15:53:24 -0700] \"DELETE /strategic HTTP/2.0\" 504 25380\\n74.32.95.111 - - [21/Jun/2019:15:53:25 -0700] \"PUT /e-tailers/optimize/functionalities HTTP/1.1\" 201 23957\\n77.136.27.38 - - [21/Jun/2019:15:53:26 -0700] \"HEAD /visionary/repurpose/applications/markets HTTP/1.1\" 405 2521\\n205.95.15.13 - - [21/Jun/2019:15:53:27 -0700] \"GET /grow/recontextualize/visualize HTTP/2.0\" 500 14591\\n2.5.3.238 - - [21/Jun/2019:15:53:28 -0700] \"GET /evolve/compelling HTTP/1.1\" 301 16126\\n168.223.229.31 - lindgren9821 [21/Jun/2019:15:53:29 -0700] \"HEAD /b2c/expedite/innovate HTTP/1.1\" 201 791\\n205.174.167.205 - - [21/Jun/2019:15:53:30 -0700] \"PUT /partnerships HTTP/1.0\" 201 8884\\n169.142.205.93 - moore8388 [21/Jun/2019:15:53:31 -0700] \"HEAD /bricks-and-clicks HTTP/1.0\" 403 12098\\n86.48.209.75 - friesen4112 [21/Jun/2019:15:53:32 -0700] \"PATCH /turn-key HTTP/1.1\" 500 19470\\n154.4.3.89 - - [21/Jun/2019:15:53:33 -0700] \"POST /back-end/leverage HTTP/1.1\" 301 12638\\n128.29.111.92 - schiller1863 [21/Jun/2019:15:53:34 -0700] \"HEAD /transform/revolutionize HTTP/1.0\" 304 9069\\n177.82.19.108 - - [21/Jun/2019:15:53:35 -0700] \"POST /end-to-end/revolutionary/drive/partnerships HTTP/1.0\" 405 23347\\n187.108.233.86 - - [21/Jun/2019:15:53:36 -0700] \"POST /harness HTTP/1.0\" 504 3128\\n234.228.65.79 - littel6195 [21/Jun/2019:15:53:37 -0700] \"PATCH /aggregate/frictionless HTTP/1.0\" 403 11175\\n168.187.114.55 - - [21/Jun/2019:15:53:38 -0700] \"PATCH /synthesize HTTP/1.0\" 301 16905\\n161.215.232.221 - leffler5851 [21/Jun/2019:15:53:39 -0700] \"POST /incubate/integrate/evolve/dynamic HTTP/1.0\" 302 13236\\n243.52.53.16 - - [21/Jun/2019:15:53:40 -0700] \"POST /impactful HTTP/1.0\" 416 26972\\n26.228.235.113 - renner7608 [21/Jun/2019:15:53:41 -0700] \"GET /intuitive HTTP/1.0\" 406 4789\\n52.245.137.48 - torp1455 [21/Jun/2019:15:53:42 -0700] \"PUT /customized/front-end/compelling HTTP/2.0\" 302 15604\\n242.204.24.88 - flatley5085 [21/Jun/2019:15:53:43 -0700] \"GET /ubiquitous/out-of-the-box/embrace/roi HTTP/2.0\" 302 4188\\n57.79.67.84 - - [21/Jun/2019:15:53:44 -0700] \"HEAD /killer/reinvent HTTP/1.0\" 304 15739\\n98.228.147.147 - - [21/Jun/2019:15:53:45 -0700] \"DELETE /portals/b2c/world-class/networks HTTP/1.1\" 304 8396\\n152.235.217.21 - adams1613 [21/Jun/2019:15:53:46 -0700] \"GET /infrastructures/vortals/proactive/interactive HTTP/2.0\" 301 25297\\n65.9.18.209 - - [21/Jun/2019:15:53:47 -0700] \"PATCH /aggregate HTTP/1.0\" 301 13831\\n2.189.173.174 - - [21/Jun/2019:15:53:48 -0700] \"POST /web-readiness/end-to-end HTTP/1.1\" 100 22219\\n227.249.188.131 - kovacek4008 [21/Jun/2019:15:53:49 -0700] \"GET /action-items/strategize/visionary/channels HTTP/1.1\" 201 22885\\n111.215.175.31 - roob7404 [21/Jun/2019:15:53:50 -0700] \"PUT /envisioneer HTTP/2.0\" 501 26605\\n181.72.91.127 - - [21/Jun/2019:15:53:51 -0700] \"DELETE /grow HTTP/1.0\" 501 10508\\n24.20.15.114 - - [21/Jun/2019:15:53:52 -0700] \"PATCH /deploy HTTP/1.1\" 200 21737\\n126.117.53.188 - - [21/Jun/2019:15:53:53 -0700] \"POST /next-generation HTTP/1.1\" 501 857\\n34.37.57.246 - pacocha5980 [21/Jun/2019:15:53:54 -0700] \"PUT /architectures/recontextualize HTTP/1.0\" 200 26514\\n177.181.89.94 - friesen8390 [21/Jun/2019:15:53:55 -0700] \"DELETE /leverage/enhance HTTP/2.0\" 403 4882\\n135.219.76.189 - - [21/Jun/2019:15:53:56 -0700] \"GET /cross-platform/convergence/users/intuitive HTTP/1.0\" 401 9741\\n77.228.64.198 - steuber9732 [21/Jun/2019:15:53:57 -0700] \"PATCH /end-to-end/vortals/applications HTTP/1.0\" 501 25614\\n158.150.165.167 - - [21/Jun/2019:15:53:58 -0700] \"HEAD /strategic/aggregate/unleash/brand HTTP/2.0\" 304 12469\\n230.118.138.25 - - [21/Jun/2019:15:53:59 -0700] \"POST /mission-critical/dynamic/frictionless/interfaces HTTP/2.0\" 200 21888\\n8.164.90.252 - - [21/Jun/2019:15:54:00 -0700] \"DELETE /solutions/best-of-breed/empower HTTP/1.1\" 203 7877\\n126.202.3.228 - cassin9066 [21/Jun/2019:15:54:01 -0700] \"PATCH /brand/ubiquitous/scale HTTP/1.0\" 503 18477\\n134.146.54.60 - feil3529 [21/Jun/2019:15:54:02 -0700] \"DELETE /eyeballs/streamline/holistic HTTP/1.0\" 301 7528\\n19.245.212.207 - walsh8648 [21/Jun/2019:15:54:03 -0700] \"GET /recontextualize HTTP/1.1\" 100 23763\\n98.143.107.61 - reilly5813 [21/Jun/2019:15:54:04 -0700] \"HEAD /channels HTTP/1.1\" 205 23167\\n235.231.96.133 - feest6743 [21/Jun/2019:15:54:05 -0700] \"PATCH /24%2f365 HTTP/1.0\" 401 4756\\n199.202.145.137 - - [21/Jun/2019:15:54:06 -0700] \"POST /deliver/communities/transition/exploit HTTP/2.0\" 100 13511\\n61.67.88.190 - - [21/Jun/2019:15:54:07 -0700] \"PATCH /rich/user-centric HTTP/2.0\" 406 16524\\n207.78.145.233 - - [21/Jun/2019:15:54:08 -0700] \"DELETE /vortals/viral/integrated/deploy HTTP/1.0\" 405 13665\\n124.199.28.96 - conroy1743 [21/Jun/2019:15:54:09 -0700] \"PATCH /generate/global HTTP/2.0\" 401 14843\\n249.3.215.17 - daugherty5037 [21/Jun/2019:15:54:10 -0700] \"GET /cross-platform/syndicate/unleash HTTP/2.0\" 401 23079\\n213.54.223.189 - batz7344 [21/Jun/2019:15:54:11 -0700] \"DELETE /maximize/extensible/open-source/facilitate HTTP/1.0\" 302 11617\\n235.109.203.135 - mitchell2009 [21/Jun/2019:15:54:12 -0700] \"POST /holistic HTTP/2.0\" 205 29998\\n173.176.32.197 - reilly4254 [21/Jun/2019:15:54:13 -0700] \"HEAD /experiences/e-business/grow/matrix HTTP/1.0\" 404 1603\\n53.38.186.102 - - [21/Jun/2019:15:54:14 -0700] \"GET /utilize/convergence HTTP/2.0\" 401 10884\\n12.85.93.59 - - [21/Jun/2019:15:54:15 -0700] \"PATCH /supply-chains/viral HTTP/1.0\" 401 6389\\n20.180.86.45 - ritchie8554 [21/Jun/2019:15:54:16 -0700] \"PUT /holistic HTTP/1.1\" 301 22861\\n96.233.17.26 - - [21/Jun/2019:15:54:17 -0700] \"POST /deliver HTTP/1.0\" 501 14350\\n125.180.138.91 - corkery6385 [21/Jun/2019:15:54:18 -0700] \"HEAD /innovate/sticky/distributed HTTP/1.1\" 204 13097\\n112.107.18.54 - - [21/Jun/2019:15:54:19 -0700] \"PATCH /sexy/web-readiness/impactful HTTP/1.0\" 500 20589\\n227.156.209.101 - - [21/Jun/2019:15:54:20 -0700] \"PATCH /markets/revolutionary HTTP/1.1\" 500 25001\\n226.178.150.114 - donnelly1349 [21/Jun/2019:15:54:21 -0700] \"PATCH /productize/expedite HTTP/1.1\" 405 17901\\n222.111.57.138 - - [21/Jun/2019:15:54:22 -0700] \"POST /intuitive/revolutionize/networks HTTP/2.0\" 302 4716\\n185.16.173.169 - mcdermott9999 [21/Jun/2019:15:54:23 -0700] \"PUT /maximize/bricks-and-clicks HTTP/2.0\" 403 3985\\n82.165.247.195 - lueilwitz2757 [21/Jun/2019:15:54:24 -0700] \"DELETE /facilitate/bricks-and-clicks/models HTTP/1.1\" 504 5477\\n44.53.132.30 - beatty4977 [21/Jun/2019:15:54:25 -0700] \"HEAD /cross-platform HTTP/2.0\" 204 13191\\n203.86.100.44 - dickens5496 [21/Jun/2019:15:54:26 -0700] \"PATCH /integrated/distributed/streamline HTTP/2.0\" 201 28870\\n33.223.33.138 - kling6394 [21/Jun/2019:15:54:27 -0700] \"PUT /back-end/initiatives/monetize/repurpose HTTP/2.0\" 416 17917\\n140.133.33.65 - - [21/Jun/2019:15:54:28 -0700] \"PATCH /maximize/plug-and-play/disintermediate HTTP/1.0\" 304 636\\n98.50.208.199 - - [21/Jun/2019:15:54:29 -0700] \"GET /platforms/front-end/value-added/compelling HTTP/2.0\" 200 28563\\n143.178.70.198 - - [21/Jun/2019:15:54:30 -0700] \"HEAD /magnetic/architectures/communities HTTP/1.1\" 204 20913\\n143.90.188.100 - lebsack6923 [21/Jun/2019:15:54:31 -0700] \"PATCH /target/back-end HTTP/1.1\" 201 6259\\n49.177.24.144 - - [21/Jun/2019:15:54:32 -0700] \"PATCH /open-source/interactive/vortals HTTP/1.0\" 504 3643\\n135.82.180.104 - - [21/Jun/2019:15:54:33 -0700] \"DELETE /harness/innovate/synergize/innovative HTTP/2.0\" 205 28686\\n185.89.247.140 - leannon8734 [21/Jun/2019:15:54:34 -0700] \"GET /deliverables HTTP/2.0\" 503 5780\\n198.145.234.102 - - [21/Jun/2019:15:54:35 -0700] \"DELETE /24%2f7/networks/drive/mission-critical HTTP/2.0\" 403 21119\\n25.102.58.39 - - [21/Jun/2019:15:54:36 -0700] \"HEAD /maximize/transition HTTP/1.0\" 302 5016\\n47.245.29.79 - - [21/Jun/2019:15:54:37 -0700] \"GET /deliver/customized HTTP/1.0\" 205 22778\\n219.142.205.21 - oreilly3853 [21/Jun/2019:15:54:38 -0700] \"PUT /compelling HTTP/1.0\" 501 2873\\n196.254.67.141 - - [21/Jun/2019:15:54:39 -0700] \"PATCH /seize/users/users HTTP/1.0\" 204 20327\\n213.119.21.213 - thompson6913 [21/Jun/2019:15:54:40 -0700] \"PUT /bandwidth/holistic HTTP/2.0\" 404 18754\\n210.3.4.187 - - [21/Jun/2019:15:54:41 -0700] \"PUT /target/engineer/b2b/ubiquitous HTTP/2.0\" 401 25267\\n159.75.120.41 - muller7604 [21/Jun/2019:15:54:42 -0700] \"GET /incentivize HTTP/2.0\" 100 28646\\n191.87.212.31 - - [21/Jun/2019:15:54:43 -0700] \"POST /synergies/deliver/extend HTTP/1.1\" 406 16375\\n2.23.245.201 - swaniawski1648 [21/Jun/2019:15:54:44 -0700] \"DELETE /matrix/leverage/infomediaries/viral HTTP/1.0\" 304 25867\\n222.90.182.151 - braun1134 [21/Jun/2019:15:54:45 -0700] \"PATCH /transition HTTP/2.0\" 302 28995\\n193.65.135.69 - - [21/Jun/2019:15:54:46 -0700] \"POST /one-to-one HTTP/1.1\" 203 17712\\n180.133.234.236 - - [21/Jun/2019:15:54:47 -0700] \"DELETE /bandwidth/bricks-and-clicks/proactive HTTP/1.0\" 302 13612\\n39.13.230.225 - - [21/Jun/2019:15:54:48 -0700] \"POST /target/transition HTTP/1.1\" 404 20353\\n173.229.51.155 - fahey6288 [21/Jun/2019:15:54:49 -0700] \"PUT /grow HTTP/1.0\" 302 20549\\n181.166.48.160 - jacobi1228 [21/Jun/2019:15:54:50 -0700] \"HEAD /channels/enhance/magnetic/plug-and-play HTTP/1.1\" 416 15679\\n18.105.36.235 - - [21/Jun/2019:15:54:51 -0700] \"PUT /envisioneer/solutions/open-source/bandwidth HTTP/1.1\" 500 1524\\n94.55.84.135 - walker7116 [21/Jun/2019:15:54:52 -0700] \"DELETE /engineer/one-to-one/e-services HTTP/2.0\" 205 8246\\n230.19.217.65 - - [21/Jun/2019:15:54:53 -0700] \"HEAD /synergistic/initiatives/wireless/users HTTP/1.1\" 200 8094\\n36.169.23.149 - - [21/Jun/2019:15:54:54 -0700] \"DELETE /e-enable HTTP/1.0\" 403 4384\\n123.179.141.133 - hammes4241 [21/Jun/2019:15:54:55 -0700] \"GET /unleash HTTP/1.1\" 204 22303\\n132.175.224.20 - - [21/Jun/2019:15:54:56 -0700] \"DELETE /disintermediate/synergistic/next-generation HTTP/2.0\" 400 4645\\n174.214.159.95 - - [21/Jun/2019:15:54:57 -0700] \"PUT /visionary HTTP/1.0\" 204 11052\\n243.59.167.215 - - [21/Jun/2019:15:54:58 -0700] \"POST /world-class/value-added/frictionless/monetize HTTP/1.1\" 203 1143\\n67.233.253.149 - dubuque4293 [21/Jun/2019:15:54:59 -0700] \"PATCH /synthesize HTTP/1.1\" 200 8521\\n235.52.222.116 - williamson4151 [21/Jun/2019:15:55:00 -0700] \"HEAD /initiatives HTTP/1.1\" 200 23203\\n202.70.201.64 - - [21/Jun/2019:15:55:01 -0700] \"PUT /facilitate HTTP/2.0\" 203 5823\\n33.102.37.6 - - [21/Jun/2019:15:55:02 -0700] \"GET /cutting-edge/synergistic/solutions/systems HTTP/1.1\" 200 6472\\n248.51.2.230 - - [21/Jun/2019:15:55:03 -0700] \"DELETE /applications/recontextualize/synergies/web-enabled HTTP/1.1\" 203 27419\\n253.154.36.160 - - [21/Jun/2019:15:55:04 -0700] \"POST /e-markets/optimize HTTP/1.1\" 201 23471\\n162.104.12.102 - heidenreich1792 [21/Jun/2019:15:55:05 -0700] \"PUT /e-enable HTTP/2.0\" 503 20509\\n59.240.133.90 - - [21/Jun/2019:15:55:06 -0700] \"PUT /vertical/bricks-and-clicks/exploit/wireless HTTP/2.0\" 416 7065\\n91.164.20.118 - leffler4523 [21/Jun/2019:15:55:07 -0700] \"PUT /grow/granular/optimize HTTP/1.0\" 501 29927\\n28.107.146.49 - - [21/Jun/2019:15:55:08 -0700] \"PUT /leverage/platforms/customized/interfaces HTTP/1.0\" 100 3915\\n165.95.61.210 - - [21/Jun/2019:15:55:09 -0700] \"DELETE /efficient/benchmark HTTP/2.0\" 203 19117\\n43.204.214.54 - fritsch5442 [21/Jun/2019:15:55:10 -0700] \"HEAD /innovate/viral HTTP/1.0\" 401 5924\\n106.214.232.163 - - [21/Jun/2019:15:55:11 -0700] \"HEAD /revolutionary/efficient/relationships HTTP/2.0\" 405 29861\\n136.140.99.71 - jast3185 [21/Jun/2019:15:55:12 -0700] \"HEAD /systems/rich/best-of-breed HTTP/1.1\" 416 24933\\n131.11.85.131 - - [21/Jun/2019:15:55:13 -0700] \"DELETE /user-centric HTTP/1.0\" 501 5928\\n59.40.69.33 - kerluke1992 [21/Jun/2019:15:55:14 -0700] \"PUT /virtual/markets/compelling HTTP/2.0\" 501 26909\\n24.154.93.186 - - [21/Jun/2019:15:55:15 -0700] \"PUT /reintermediate/morph HTTP/1.1\" 100 22418\\n37.37.184.46 - west3231 [21/Jun/2019:15:55:16 -0700] \"HEAD /action-items/bricks-and-clicks/drive/envisioneer HTTP/1.1\" 304 10103\\n25.14.148.131 - - [21/Jun/2019:15:55:17 -0700] \"DELETE /synthesize HTTP/2.0\" 401 23909\\n123.169.170.45 - - [21/Jun/2019:15:55:18 -0700] \"HEAD /dot-com/synergies HTTP/1.0\" 403 176\\n96.182.241.84 - - [21/Jun/2019:15:55:19 -0700] \"POST /viral/recontextualize HTTP/2.0\" 504 28749\\n202.152.160.70 - ankunding8652 [21/Jun/2019:15:55:20 -0700] \"DELETE /e-tailers/granular/value-added HTTP/2.0\" 400 13583\\n45.161.168.198 - - [21/Jun/2019:15:55:21 -0700] \"PATCH /productize/end-to-end/e-enable HTTP/1.0\" 404 9524\\n80.10.48.41 - - [21/Jun/2019:15:55:22 -0700] \"PATCH /markets/sticky/relationships HTTP/2.0\" 500 950\\n68.250.127.219 - - [21/Jun/2019:15:55:23 -0700] \"PUT /productize/revolutionize/mesh/initiatives HTTP/1.1\" 416 27321\\n121.11.126.214 - barton5952 [21/Jun/2019:15:55:24 -0700] \"DELETE /user-centric/leading-edge HTTP/2.0\" 504 22403\\n144.210.9.156 - - [21/Jun/2019:15:55:25 -0700] \"POST /compelling/user-centric/embrace/channels HTTP/2.0\" 304 22432\\n116.66.227.58 - boyle7076 [21/Jun/2019:15:55:26 -0700] \"PATCH /mission-critical/action-items/niches/strategize HTTP/1.0\" 416 11523\\n239.150.104.236 - - [21/Jun/2019:15:55:27 -0700] \"POST /reintermediate/collaborative/extensible HTTP/1.0\" 404 19707\\n139.116.88.147 - haag9280 [21/Jun/2019:15:55:28 -0700] \"HEAD /transparent/redefine/methodologies/exploit HTTP/1.0\" 501 10163\\n29.58.6.219 - - [21/Jun/2019:15:55:29 -0700] \"GET /bandwidth/cross-media/clicks-and-mortar HTTP/1.0\" 406 5093\\n183.117.169.253 - morar4269 [21/Jun/2019:15:55:30 -0700] \"HEAD /architectures/user-centric HTTP/1.1\" 400 16375\\n60.155.203.130 - vonrueden7712 [21/Jun/2019:15:55:31 -0700] \"DELETE /metrics/infomediaries/enterprise/b2b HTTP/1.0\" 403 15223\\n173.140.74.179 - rippin3809 [21/Jun/2019:15:55:32 -0700] \"POST /engage HTTP/2.0\" 200 22575\\n221.208.57.139 - bayer1705 [21/Jun/2019:15:55:33 -0700] \"HEAD /reintermediate/target HTTP/1.1\" 416 19184\\n232.75.253.162 - - [21/Jun/2019:15:55:34 -0700] \"HEAD /customized/plug-and-play/portals/repurpose HTTP/2.0\" 100 21951\\n149.212.98.132 - kerluke1906 [21/Jun/2019:15:55:35 -0700] \"HEAD /reintermediate HTTP/1.1\" 416 23592\\n79.233.211.50 - lowe5988 [21/Jun/2019:15:55:36 -0700] \"GET /vortals/world-class/next-generation/maximize HTTP/2.0\" 205 7397\\n208.84.72.231 - abshire5304 [21/Jun/2019:15:55:37 -0700] \"HEAD /deliverables/web-enabled HTTP/1.1\" 201 27284\\n149.136.187.57 - weissnat1689 [21/Jun/2019:15:55:38 -0700] \"HEAD /cross-platform/engineer HTTP/1.0\" 502 9386\\n115.49.61.215 - - [21/Jun/2019:15:55:39 -0700] \"PUT /rich/global HTTP/2.0\" 502 22679\\n135.210.80.189 - schultz6585 [21/Jun/2019:15:55:40 -0700] \"GET /bricks-and-clicks/portals/synthesize HTTP/1.0\" 502 8349\\n237.220.204.73 - - [21/Jun/2019:15:55:41 -0700] \"PATCH /communities/scale/integrate/grow HTTP/2.0\" 403 19135\\n25.81.83.78 - - [21/Jun/2019:15:55:42 -0700] \"POST /innovative/end-to-end HTTP/2.0\" 203 21530\\n228.215.5.75 - - [21/Jun/2019:15:55:43 -0700] \"PUT /matrix/enterprise/matrix HTTP/2.0\" 405 19197\\n134.199.128.205 - - [21/Jun/2019:15:55:44 -0700] \"PATCH /productize/embrace/channels/unleash HTTP/2.0\" 501 23597\\n36.5.255.184 - - [21/Jun/2019:15:55:45 -0700] \"GET /unleash/extensible/interactive/solutions HTTP/2.0\" 201 9467\\n232.154.95.220 - veum7721 [21/Jun/2019:15:55:46 -0700] \"GET /rich/bandwidth HTTP/1.0\" 500 3360\\n174.34.35.186 - mueller9581 [21/Jun/2019:15:55:47 -0700] \"GET /leading-edge/expedite/networks HTTP/1.0\" 502 26017\\n222.100.58.70 - - [21/Jun/2019:15:55:48 -0700] \"HEAD /web-readiness/innovative/mindshare HTTP/2.0\" 204 29305\\n164.234.6.134 - - [21/Jun/2019:15:55:49 -0700] \"POST /bricks-and-clicks/revolutionize/maximize/visionary HTTP/1.1\" 100 24735\\n28.62.52.85 - - [21/Jun/2019:15:55:50 -0700] \"PUT /global/killer/ubiquitous HTTP/1.1\" 406 19499\\n95.189.63.113 - - [21/Jun/2019:15:55:51 -0700] \"DELETE /generate HTTP/2.0\" 302 17136\\n158.174.132.213 - - [21/Jun/2019:15:55:52 -0700] \"POST /sexy/synergize/sticky/revolutionize HTTP/1.1\" 502 29613\\n104.140.27.56 - - [21/Jun/2019:15:55:53 -0700] \"GET /intuitive/virtual/robust/dynamic HTTP/1.0\" 405 15799\\n119.211.94.216 - - [21/Jun/2019:15:55:54 -0700] \"GET /disintermediate/innovative/vertical/architectures HTTP/1.0\" 100 29093\\n210.10.227.187 - ebert3533 [21/Jun/2019:15:55:55 -0700] \"GET /cultivate/models HTTP/2.0\" 501 5481\\n188.164.86.241 - heller4638 [21/Jun/2019:15:55:56 -0700] \"PUT /repurpose HTTP/1.0\" 504 9277\\n212.66.63.132 - lesch1937 [21/Jun/2019:15:55:57 -0700] \"PATCH /users/compelling HTTP/2.0\" 405 4808\\n172.31.189.243 - - [21/Jun/2019:15:55:58 -0700] \"DELETE /sexy HTTP/1.1\" 405 22140\\n73.18.220.130 - - [21/Jun/2019:15:55:59 -0700] \"GET /global/customized HTTP/1.1\" 201 28253\\n201.39.186.141 - hansen7326 [21/Jun/2019:15:56:00 -0700] \"POST /b2c HTTP/1.0\" 204 27549\\n242.117.244.136 - - [21/Jun/2019:15:56:01 -0700] \"HEAD /strategize/viral/real-time HTTP/1.0\" 203 24573\\n239.247.96.179 - - [21/Jun/2019:15:56:02 -0700] \"PATCH /reintermediate/vortals/deliverables HTTP/1.1\" 203 17636\\n228.5.90.92 - - [21/Jun/2019:15:56:03 -0700] \"PATCH /supply-chains/web+services/syndicate HTTP/1.0\" 406 24794\\n106.176.215.133 - - [21/Jun/2019:15:56:04 -0700] \"POST /dot-com/ubiquitous HTTP/2.0\" 201 23594\\n182.198.5.92 - morar7272 [21/Jun/2019:15:56:05 -0700] \"POST /systems/b2c HTTP/1.1\" 203 15494\\n118.137.109.160 - johnston9060 [21/Jun/2019:15:56:06 -0700] \"PATCH /scalable HTTP/1.1\" 200 16174\\n2.103.71.27 - - [21/Jun/2019:15:56:07 -0700] \"HEAD /frictionless/leverage/one-to-one HTTP/1.1\" 405 26385\\n229.3.198.160 - heathcote3797 [21/Jun/2019:15:56:08 -0700] \"POST /recontextualize/back-end HTTP/1.0\" 502 5274\\n148.174.255.122 - - [21/Jun/2019:15:56:09 -0700] \"PATCH /recontextualize HTTP/2.0\" 502 16814\\n35.23.172.9 - bruen3016 [21/Jun/2019:15:56:10 -0700] \"POST /whiteboard/e-commerce HTTP/2.0\" 504 521\\n165.188.38.42 - bogisich4929 [21/Jun/2019:15:56:11 -0700] \"HEAD /paradigms/supply-chains HTTP/1.1\" 203 28511\\n95.206.60.9 - hyatt2671 [21/Jun/2019:15:56:12 -0700] \"PATCH /generate/strategize/real-time HTTP/1.1\" 301 23908\\n247.172.12.81 - - [21/Jun/2019:15:56:13 -0700] \"PATCH /schemas/envisioneer HTTP/2.0\" 406 22095\\n224.31.249.118 - mohr3100 [21/Jun/2019:15:56:14 -0700] \"DELETE /platforms/back-end/24%2f365 HTTP/1.1\" 405 23105\\n115.161.42.97 - - [21/Jun/2019:15:56:15 -0700] \"GET /e-business/vertical/drive/architectures HTTP/1.0\" 304 28602\\n97.115.43.107 - - [21/Jun/2019:15:56:16 -0700] \"PUT /e-business HTTP/2.0\" 200 2384\\n51.68.54.173 - - [21/Jun/2019:15:56:17 -0700] \"GET /vertical/channels/intuitive/drive HTTP/1.1\" 200 15681\\n112.36.64.150 - purdy1613 [21/Jun/2019:15:56:18 -0700] \"POST /optimize/content HTTP/1.0\" 100 25283\\n197.140.130.185 - - [21/Jun/2019:15:56:19 -0700] \"HEAD /architect HTTP/1.1\" 301 19346\\n107.7.167.233 - murray3331 [21/Jun/2019:15:56:20 -0700] \"GET /redefine HTTP/2.0\" 100 1426\\n164.108.238.46 - - [21/Jun/2019:15:56:21 -0700] \"HEAD /seamless/cross-platform/productize HTTP/2.0\" 301 26515\\n50.30.161.80 - - [21/Jun/2019:15:56:22 -0700] \"PUT /incubate/e-enable/mission-critical/bricks-and-clicks HTTP/1.0\" 504 16724\\n192.57.52.145 - towne4044 [21/Jun/2019:15:56:23 -0700] \"GET /content HTTP/1.1\" 401 20884\\n86.165.165.210 - kuhlman9507 [21/Jun/2019:15:56:24 -0700] \"GET /metrics/robust/architect HTTP/2.0\" 406 20459\\n218.5.170.117 - murray8861 [21/Jun/2019:15:56:25 -0700] \"PATCH /redefine/enhance/integrate/b2c HTTP/1.0\" 403 20448\\n113.98.197.126 - - [21/Jun/2019:15:56:26 -0700] \"POST /niches/generate/networks/deliverables HTTP/1.1\" 501 11309\\n127.205.99.23 - - [21/Jun/2019:15:56:27 -0700] \"GET /portals HTTP/2.0\" 302 363\\n78.76.237.225 - - [21/Jun/2019:15:56:28 -0700] \"PUT /rich/facilitate HTTP/1.0\" 302 23110\\n111.9.21.106 - bernier6988 [21/Jun/2019:15:56:29 -0700] \"GET /web-enabled HTTP/1.0\" 501 24023\\n168.84.143.129 - casper5038 [21/Jun/2019:15:56:30 -0700] \"DELETE /markets/customized/synergistic HTTP/1.0\" 416 2256\\n219.111.98.96 - - [21/Jun/2019:15:56:31 -0700] \"DELETE /mesh/aggregate/networks/syndicate HTTP/1.0\" 504 28122\\n104.174.76.211 - boyer4235 [21/Jun/2019:15:56:32 -0700] \"POST /expedite/open-source/viral/convergence HTTP/2.0\" 502 27421\\n37.147.102.35 - towne2518 [21/Jun/2019:15:56:33 -0700] \"PATCH /revolutionize/morph HTTP/1.1\" 400 10156\\n75.150.169.23 - collins2767 [21/Jun/2019:15:56:34 -0700] \"PATCH /markets/e-business HTTP/2.0\" 405 2662\\n164.179.97.108 - - [21/Jun/2019:15:56:35 -0700] \"GET /strategize/relationships HTTP/1.0\" 416 11600\\n155.76.94.82 - murphy2732 [21/Jun/2019:15:56:36 -0700] \"POST /applications/e-business/action-items/deploy HTTP/2.0\" 405 29642\\n247.88.142.108 - - [21/Jun/2019:15:56:37 -0700] \"GET /clicks-and-mortar/bricks-and-clicks/interfaces/transform HTTP/2.0\" 200 22242\\n238.76.184.36 - - [21/Jun/2019:15:56:38 -0700] \"PUT /web-readiness/iterate/real-time/reinvent HTTP/1.1\" 200 3740\\n148.183.181.78 - lehner5449 [21/Jun/2019:15:56:39 -0700] \"DELETE /compelling/metrics/enterprise HTTP/1.0\" 304 29090\\n117.200.242.154 - - [21/Jun/2019:15:56:40 -0700] \"DELETE /next-generation HTTP/1.1\" 100 4159\\n241.39.66.207 - - [21/Jun/2019:15:56:41 -0700] \"GET /solutions/one-to-one HTTP/1.0\" 205 16550\\n31.107.41.233 - zieme7259 [21/Jun/2019:15:56:42 -0700] \"GET /communities/bleeding-edge HTTP/1.1\" 501 14853\\n212.223.87.96 - - [21/Jun/2019:15:56:43 -0700] \"PATCH /technologies/evolve HTTP/1.0\" 405 24634\\n25.225.179.202 - runte4912 [21/Jun/2019:15:56:44 -0700] \"HEAD /mesh/orchestrate/syndicate/e-services HTTP/1.1\" 503 15286\\n135.115.206.67 - smitham4435 [21/Jun/2019:15:56:45 -0700] \"PUT /distributed/benchmark/interactive HTTP/1.1\" 200 8951\\n75.44.33.26 - boyle5892 [21/Jun/2019:15:56:46 -0700] \"GET /relationships/incubate/technologies HTTP/1.1\" 404 18790\\n188.190.101.81 - klocko5793 [21/Jun/2019:15:56:47 -0700] \"POST /strategic HTTP/2.0\" 500 25031\\n123.242.122.171 - haley3504 [21/Jun/2019:15:56:48 -0700] \"HEAD /repurpose/viral HTTP/2.0\" 504 12071\\n235.29.130.76 - - [21/Jun/2019:15:56:49 -0700] \"HEAD /recontextualize/synergistic/convergence/best-of-breed HTTP/1.1\" 204 22816\\n206.228.203.64 - kozey6525 [21/Jun/2019:15:56:50 -0700] \"POST /utilize/brand HTTP/2.0\" 203 18705\\n208.159.232.62 - mcclure3645 [21/Jun/2019:15:56:51 -0700] \"HEAD /channels/web-enabled/markets HTTP/2.0\" 502 24511\\n131.238.104.21 - - [21/Jun/2019:15:56:52 -0700] \"PUT /web+services/distributed/interactive/sticky HTTP/1.1\" 502 961\\n212.250.42.208 - - [21/Jun/2019:15:56:53 -0700] \"PUT /interfaces/seamless/integrated HTTP/1.0\" 204 11696\\n72.89.45.205 - parisian3697 [21/Jun/2019:15:56:54 -0700] \"GET /empower/impactful/channels HTTP/1.1\" 500 1437\\n213.173.183.16 - - [21/Jun/2019:15:56:55 -0700] \"HEAD /mesh/viral/transform/optimize HTTP/1.0\" 301 22971\\n28.67.8.218 - bernier2981 [21/Jun/2019:15:56:56 -0700] \"HEAD /target/implement/sticky HTTP/1.0\" 404 1008\\n39.118.203.43 - - [21/Jun/2019:15:56:57 -0700] \"HEAD /global/compelling/solutions HTTP/2.0\" 500 20619\\n226.64.38.128 - - [21/Jun/2019:15:56:58 -0700] \"HEAD /redefine/cross-platform/schemas HTTP/1.1\" 201 7789\\n59.124.141.224 - - [21/Jun/2019:15:56:59 -0700] \"PATCH /networks HTTP/1.1\" 403 17776\\n156.213.93.143 - steuber8372 [21/Jun/2019:15:57:00 -0700] \"HEAD /scale HTTP/1.1\" 100 7692\\n251.112.169.29 - - [21/Jun/2019:15:57:01 -0700] \"PATCH /exploit/harness HTTP/1.1\" 504 29795\\n149.41.86.4 - lynch9212 [21/Jun/2019:15:57:02 -0700] \"POST /innovate/streamline/engineer HTTP/1.1\" 406 2097\\n175.93.165.37 - carter4580 [21/Jun/2019:15:57:03 -0700] \"HEAD /world-class/roi HTTP/1.1\" 503 11609\\n234.204.188.165 - sanford7143 [21/Jun/2019:15:57:04 -0700] \"HEAD /bleeding-edge/exploit HTTP/2.0\" 405 9427\\n145.216.71.219 - - [21/Jun/2019:15:57:05 -0700] \"PUT /seamless/e-commerce/unleash HTTP/1.0\" 400 7407\\n36.72.238.73 - - [21/Jun/2019:15:57:06 -0700] \"POST /scalable HTTP/2.0\" 416 8538\\n82.73.107.79 - roberts8371 [21/Jun/2019:15:57:07 -0700] \"GET /compelling/deliver HTTP/2.0\" 416 19553\\n180.126.85.151 - deckow7418 [21/Jun/2019:15:57:08 -0700] \"POST /unleash HTTP/1.1\" 405 17023\\n126.71.163.170 - - [21/Jun/2019:15:57:09 -0700] \"PATCH /dot-com/revolutionary/models/engineer HTTP/1.1\" 401 9775\\n136.89.236.111 - beatty2891 [21/Jun/2019:15:57:10 -0700] \"GET /front-end HTTP/2.0\" 100 1939\\n233.132.129.215 - roberts9852 [21/Jun/2019:15:57:11 -0700] \"HEAD /24%2f365/impactful/cutting-edge HTTP/2.0\" 406 12795\\n247.125.3.15 - auer8021 [21/Jun/2019:15:57:12 -0700] \"POST /cutting-edge/schemas HTTP/1.0\" 502 25020\\n57.230.231.161 - - [21/Jun/2019:15:57:13 -0700] \"PUT /magnetic/maximize/plug-and-play/deliver HTTP/1.1\" 204 23540\\n179.143.58.54 - hoeger4763 [21/Jun/2019:15:57:14 -0700] \"POST /initiatives/revolutionary HTTP/1.0\" 304 2672\\n89.45.77.201 - - [21/Jun/2019:15:57:15 -0700] \"PUT /next-generation/cross-media HTTP/1.0\" 203 26704\\n96.231.226.192 - - [21/Jun/2019:15:57:16 -0700] \"DELETE /rich HTTP/1.1\" 500 22988\\n7.206.19.172 - - [21/Jun/2019:15:57:17 -0700] \"HEAD /extensible HTTP/1.0\" 404 27596\\n109.116.7.153 - gaylord6916 [21/Jun/2019:15:57:18 -0700] \"PATCH /users HTTP/1.0\" 501 4709\\n229.10.24.149 - - [21/Jun/2019:15:57:19 -0700] \"PATCH /maximize/infomediaries HTTP/1.0\" 404 5549\\n130.185.8.168 - - [21/Jun/2019:15:57:20 -0700] \"POST /granular/evolve/cross-platform HTTP/1.1\" 406 11052\\n180.239.96.198 - - [21/Jun/2019:15:57:21 -0700] \"GET /e-commerce HTTP/1.0\" 405 10522\\n234.239.225.164 - sporer4003 [21/Jun/2019:15:57:22 -0700] \"POST /recontextualize HTTP/2.0\" 205 28470\\n41.140.68.194 - - [21/Jun/2019:15:57:23 -0700] \"PUT /killer/seamless/streamline HTTP/2.0\" 301 22277\\n45.207.246.151 - schuppe9150 [21/Jun/2019:15:57:24 -0700] \"PATCH /viral/incubate/one-to-one HTTP/2.0\" 502 2220\\n189.105.143.151 - ortiz8221 [21/Jun/2019:15:57:25 -0700] \"GET /web-readiness/clicks-and-mortar/revolutionize HTTP/1.1\" 403 28481\\n80.239.204.171 - fisher5449 [21/Jun/2019:15:57:26 -0700] \"POST /customized/paradigms/harness/markets HTTP/2.0\" 403 1100\\n198.44.245.192 - towne8430 [21/Jun/2019:15:57:27 -0700] \"PUT /unleash/portals/generate/collaborative HTTP/2.0\" 502 8407\\n92.13.119.65 - mayer6781 [21/Jun/2019:15:57:28 -0700] \"POST /robust/drive/e-business/bandwidth HTTP/1.1\" 301 7628\\n124.13.254.49 - sanford8578 [21/Jun/2019:15:57:29 -0700] \"DELETE /synthesize HTTP/1.1\" 302 26907\\n3.198.219.157 - ruecker5168 [21/Jun/2019:15:57:30 -0700] \"PUT /granular/virtual/vertical/bricks-and-clicks HTTP/2.0\" 504 11238\\n150.168.105.7 - hartmann1002 [21/Jun/2019:15:57:31 -0700] \"PATCH /models HTTP/1.0\" 503 9844\\n180.137.81.102 - - [21/Jun/2019:15:57:32 -0700] \"HEAD /value-added HTTP/1.0\" 204 22178\\n18.100.51.14 - zieme2525 [21/Jun/2019:15:57:33 -0700] \"POST /exploit/strategize HTTP/2.0\" 204 5167\\n201.210.171.192 - stokes4347 [21/Jun/2019:15:57:34 -0700] \"HEAD /empower/next-generation HTTP/1.0\" 301 3836\\n206.226.110.110 - marks4471 [21/Jun/2019:15:57:35 -0700] \"HEAD /methodologies/niches HTTP/1.0\" 404 10365\\n73.223.129.11 - feil4273 [21/Jun/2019:15:57:36 -0700] \"GET /transform HTTP/1.1\" 403 14172\\n32.130.221.133 - luettgen7885 [21/Jun/2019:15:57:37 -0700] \"PATCH /proactive/aggregate/cutting-edge HTTP/2.0\" 400 26108\\n128.126.48.81 - bergnaum1861 [21/Jun/2019:15:57:38 -0700] \"PATCH /syndicate/scalable HTTP/2.0\" 502 22376\\n3.185.222.13 - - [21/Jun/2019:15:57:39 -0700] \"GET /synergize/utilize HTTP/1.0\" 302 9419\\n97.198.65.211 - - [21/Jun/2019:15:57:40 -0700] \"PATCH /roi HTTP/1.1\" 503 8025\\n216.10.218.158 - ritchie5623 [21/Jun/2019:15:57:41 -0700] \"POST /ubiquitous/mesh/reintermediate/extend HTTP/1.0\" 302 10636\\n133.180.255.152 - erdman7321 [21/Jun/2019:15:57:42 -0700] \"HEAD /transparent/proactive/strategic HTTP/2.0\" 416 165\\n74.18.125.198 - - [21/Jun/2019:15:57:43 -0700] \"DELETE /deploy/aggregate/cross-media HTTP/1.0\" 406 90\\n233.217.110.117 - - [21/Jun/2019:15:57:44 -0700] \"PATCH /24%2f7/networks/leverage/magnetic HTTP/1.1\" 205 20782\\n172.244.20.80 - - [21/Jun/2019:15:57:45 -0700] \"GET /e-business HTTP/2.0\" 204 14433\\n157.100.32.21 - hettinger9752 [21/Jun/2019:15:57:46 -0700] \"DELETE /sexy/brand/implement/viral HTTP/1.0\" 501 9660\\n244.171.113.250 - - [21/Jun/2019:15:57:47 -0700] \"GET /seamless/cultivate/infrastructures HTTP/1.0\" 301 20654\\n209.245.213.122 - satterfield5767 [21/Jun/2019:15:57:48 -0700] \"POST /monetize/revolutionary/compelling HTTP/1.0\" 405 22440\\n251.63.126.220 - - [21/Jun/2019:15:57:49 -0700] \"GET /e-tailers/leverage HTTP/1.1\" 416 18378\\n253.69.133.7 - grimes3189 [21/Jun/2019:15:57:50 -0700] \"PUT /facilitate/relationships/channels/plug-and-play HTTP/2.0\" 403 10294\\n44.115.48.147 - - [21/Jun/2019:15:57:51 -0700] \"DELETE /incubate/value-added/recontextualize/incubate HTTP/1.1\" 400 21660\\n138.247.187.49 - pfannerstill1340 [21/Jun/2019:15:57:52 -0700] \"PUT /orchestrate/convergence HTTP/1.0\" 201 8847\\n110.19.75.32 - - [21/Jun/2019:15:57:53 -0700] \"HEAD /empower/convergence/aggregate/interfaces HTTP/1.0\" 406 12042\\n103.66.52.114 - - [21/Jun/2019:15:57:54 -0700] \"PATCH /streamline/infomediaries/viral HTTP/1.0\" 500 10540\\n193.131.168.19 - - [21/Jun/2019:15:57:55 -0700] \"HEAD /rich HTTP/1.0\" 302 14371\\n101.251.123.5 - gutkowski6387 [21/Jun/2019:15:57:56 -0700] \"POST /extend/schemas/channels/deliver HTTP/2.0\" 200 12398\\n113.153.54.78 - - [21/Jun/2019:15:57:57 -0700] \"PUT /mindshare/paradigms/incubate/scalable HTTP/2.0\" 204 28624\\n183.129.120.175 - - [21/Jun/2019:15:57:58 -0700] \"GET /granular/sticky HTTP/1.1\" 100 28509\\n201.42.169.129 - ferry3047 [21/Jun/2019:15:57:59 -0700] \"POST /e-tailers/e-business HTTP/2.0\" 404 10029\\n17.167.75.23 - - [21/Jun/2019:15:58:00 -0700] \"PATCH /ubiquitous/benchmark/web-readiness/24%2f365 HTTP/1.0\" 302 19564\\n64.224.243.90 - - [21/Jun/2019:15:58:01 -0700] \"DELETE /utilize/matrix/users HTTP/1.0\" 406 10868\\n71.115.235.14 - lindgren8686 [21/Jun/2019:15:58:02 -0700] \"POST /compelling/engineer/utilize/target HTTP/1.1\" 405 20116\\n54.244.162.130 - kilback2657 [21/Jun/2019:15:58:03 -0700] \"GET /engineer HTTP/1.0\" 504 28351\\n251.214.3.43 - ebert8205 [21/Jun/2019:15:58:04 -0700] \"PUT /front-end HTTP/2.0\" 416 16599\\n43.60.137.5 - - [21/Jun/2019:15:58:05 -0700] \"GET /back-end/orchestrate/productize/monetize HTTP/1.0\" 100 10073\\n140.250.112.142 - - [21/Jun/2019:15:58:06 -0700] \"PATCH /channels HTTP/1.0\" 204 8029\\n217.4.123.90 - - [21/Jun/2019:15:58:07 -0700] \"GET /partnerships/bricks-and-clicks HTTP/2.0\" 406 29383\\n164.242.68.20 - - [21/Jun/2019:15:58:08 -0700] \"DELETE /revolutionary HTTP/1.1\" 502 21875\\n201.84.58.42 - - [21/Jun/2019:15:58:09 -0700] \"HEAD /strategize/paradigms/methodologies/markets HTTP/1.0\" 302 16375\\n69.36.214.13 - weimann2707 [21/Jun/2019:15:58:10 -0700] \"HEAD /niches/sticky/web-enabled/vertical HTTP/1.1\" 403 10804\\n25.141.173.190 - - [21/Jun/2019:15:58:11 -0700] \"DELETE /embrace/killer/synergistic/empower HTTP/1.1\" 100 29919\\n123.63.4.204 - rolfson6644 [21/Jun/2019:15:58:12 -0700] \"PUT /visionary/communities/aggregate/e-business HTTP/1.1\" 502 14503\\n251.75.123.253 - shields3654 [21/Jun/2019:15:58:13 -0700] \"POST /morph/visionary/engage/wireless HTTP/1.0\" 504 5608\\n253.155.125.104 - brakus4461 [21/Jun/2019:15:58:14 -0700] \"GET /bandwidth HTTP/1.0\" 504 12640\\n251.95.126.146 - - [21/Jun/2019:15:58:15 -0700] \"DELETE /scale/revolutionary HTTP/2.0\" 405 9949\\n45.36.97.213 - stehr9039 [21/Jun/2019:15:58:16 -0700] \"POST /rich/markets/mission-critical/deliverables HTTP/2.0\" 100 4495\\n255.143.24.161 - gerlach7985 [21/Jun/2019:15:58:17 -0700] \"HEAD /customized/vertical HTTP/1.1\" 304 7610\\n214.169.147.186 - howe7427 [21/Jun/2019:15:58:18 -0700] \"PUT /envisioneer/leading-edge/productize HTTP/2.0\" 503 232\\n37.248.195.215 - - [21/Jun/2019:15:58:19 -0700] \"DELETE /visualize/strategic HTTP/1.0\" 205 27807\\n24.91.107.215 - - [21/Jun/2019:15:58:20 -0700] \"POST /transform/seamless/synergies HTTP/2.0\" 201 27384\\n117.4.76.172 - reichert6210 [21/Jun/2019:15:58:21 -0700] \"PUT /collaborative/holistic/recontextualize HTTP/2.0\" 201 6679\\n187.238.112.72 - - [21/Jun/2019:15:58:22 -0700] \"GET /e-business/web-enabled HTTP/1.0\" 403 25919\\n47.137.168.94 - - [21/Jun/2019:15:58:23 -0700] \"DELETE /supply-chains/end-to-end HTTP/1.1\" 503 20611\\n244.62.118.75 - - [21/Jun/2019:15:58:24 -0700] \"GET /unleash/e-commerce/iterate HTTP/1.0\" 201 10495\\n41.174.211.212 - - [21/Jun/2019:15:58:25 -0700] \"GET /applications HTTP/1.0\" 400 195\\n71.122.96.131 - - [21/Jun/2019:15:58:26 -0700] \"POST /revolutionary/redefine/holistic/holistic HTTP/2.0\" 401 6495\\n194.203.51.120 - boyer5523 [21/Jun/2019:15:58:27 -0700] \"PATCH /frictionless HTTP/1.0\" 205 21285\\n71.121.222.200 - russel8326 [21/Jun/2019:15:58:28 -0700] \"PUT /deliver/schemas HTTP/1.0\" 504 7065\\n166.178.196.8 - - [21/Jun/2019:15:58:29 -0700] \"DELETE /back-end/schemas/paradigms HTTP/2.0\" 405 13918\\n171.218.147.47 - white9937 [21/Jun/2019:15:58:30 -0700] \"HEAD /cutting-edge/grow HTTP/1.0\" 403 7615\\n165.249.92.241 - - [21/Jun/2019:15:58:31 -0700] \"GET /synergize HTTP/1.0\" 204 19892\\n234.117.105.178 - - [21/Jun/2019:15:58:32 -0700] \"PATCH /iterate HTTP/2.0\" 403 28926\\n56.202.221.63 - - [21/Jun/2019:15:58:33 -0700] \"GET /magnetic/aggregate/embrace HTTP/2.0\" 503 13860\\n46.16.192.9 - - [21/Jun/2019:15:58:34 -0700] \"GET /productize HTTP/2.0\" 201 2268\\n54.189.234.211 - - [21/Jun/2019:15:58:35 -0700] \"GET /synergistic/syndicate/enterprise HTTP/2.0\" 400 13463\\n114.26.219.139 - - [21/Jun/2019:15:58:36 -0700] \"DELETE /cross-platform HTTP/1.1\" 302 4102\\n122.81.125.121 - bednar2405 [21/Jun/2019:15:58:37 -0700] \"POST /partnerships/experiences HTTP/1.0\" 416 18527\\n222.176.136.241 - - [21/Jun/2019:15:58:38 -0700] \"POST /holistic HTTP/1.0\" 501 20985\\n117.9.40.171 - - [21/Jun/2019:15:58:39 -0700] \"PUT /web-enabled/transition HTTP/1.1\" 203 5871\\n108.248.72.200 - - [21/Jun/2019:15:58:40 -0700] \"PUT /metrics HTTP/2.0\" 501 22851\\n102.153.28.144 - - [21/Jun/2019:15:58:41 -0700] \"PATCH /applications/end-to-end/sexy/target HTTP/2.0\" 200 21815\\n192.202.173.198 - yost8436 [21/Jun/2019:15:58:42 -0700] \"GET /mindshare/aggregate/deliverables/global HTTP/2.0\" 204 9512\\n18.180.167.166 - - [21/Jun/2019:15:58:43 -0700] \"HEAD /supply-chains/content/killer HTTP/1.1\" 403 25462\\n33.174.225.22 - - [21/Jun/2019:15:58:44 -0700] \"PATCH /architectures HTTP/1.0\" 504 1397\\n189.226.103.3 - kemmer7294 [21/Jun/2019:15:58:45 -0700] \"PUT /sexy/transition/enterprise HTTP/1.1\" 203 24898\\n135.82.100.60 - wuckert5235 [21/Jun/2019:15:58:46 -0700] \"HEAD /leading-edge/solutions/robust HTTP/1.1\" 204 23792\\n243.151.163.69 - lueilwitz6619 [21/Jun/2019:15:58:47 -0700] \"POST /experiences/value-added HTTP/1.0\" 504 26703\\n167.55.97.60 - terry5334 [21/Jun/2019:15:58:48 -0700] \"PATCH /monetize/proactive HTTP/1.1\" 416 3706\\n100.145.250.142 - - [21/Jun/2019:15:58:49 -0700] \"POST /envisioneer HTTP/1.1\" 404 4216\\n159.65.201.34 - bergnaum8203 [21/Jun/2019:15:58:50 -0700] \"PUT /intuitive/revolutionize/experiences HTTP/2.0\" 416 11970\\n153.130.13.108 - - [21/Jun/2019:15:58:51 -0700] \"GET /incubate/wireless HTTP/1.0\" 204 15948\\n184.245.98.205 - oreilly1191 [21/Jun/2019:15:58:52 -0700] \"GET /users/real-time HTTP/2.0\" 200 22825\\n244.152.133.87 - - [21/Jun/2019:15:58:53 -0700] \"POST /metrics HTTP/1.1\" 501 11538\\n142.145.20.95 - - [21/Jun/2019:15:58:54 -0700] \"HEAD /extend/cross-media/convergence HTTP/2.0\" 416 20974\\n68.168.186.14 - weissnat9339 [21/Jun/2019:15:58:55 -0700] \"DELETE /schemas/user-centric HTTP/2.0\" 500 11283\\n165.78.13.175 - - [21/Jun/2019:15:58:56 -0700] \"POST /iterate/intuitive/best-of-breed HTTP/2.0\" 201 14641\\n235.12.80.233 - - [21/Jun/2019:15:58:57 -0700] \"PATCH /customized/24%2f365/magnetic HTTP/1.0\" 403 13920\\n8.117.240.56 - pouros2120 [21/Jun/2019:15:58:58 -0700] \"GET /reintermediate HTTP/1.0\" 400 15934\\n207.81.12.169 - jerde5243 [21/Jun/2019:15:58:59 -0700] \"PUT /architectures/extend HTTP/2.0\" 201 348\\n229.128.199.145 - kris7724 [21/Jun/2019:15:59:00 -0700] \"POST /reinvent HTTP/1.1\" 501 5315\\n226.153.34.134 - boyer6744 [21/Jun/2019:15:59:01 -0700] \"PUT /robust/incubate HTTP/1.1\" 405 8488\\n84.168.91.70 - wilderman5041 [21/Jun/2019:15:59:02 -0700] \"DELETE /expedite/rich HTTP/2.0\" 504 7680\\n2.241.18.210 - cassin3470 [21/Jun/2019:15:59:03 -0700] \"DELETE /mission-critical/technologies HTTP/1.0\" 404 594\\n84.224.140.93 - - [21/Jun/2019:15:59:04 -0700] \"PUT /magnetic/deploy/eyeballs/disintermediate HTTP/1.1\" 504 27127\\n80.109.208.191 - - [21/Jun/2019:15:59:05 -0700] \"GET /leverage HTTP/1.0\" 404 5029\\n84.197.17.2 - - [21/Jun/2019:15:59:06 -0700] \"PATCH /orchestrate/repurpose HTTP/1.0\" 401 398\\n240.71.224.216 - weimann5347 [21/Jun/2019:15:59:07 -0700] \"HEAD /matrix/integrated/e-commerce HTTP/1.1\" 502 4283\\n110.45.207.230 - boyer3703 [21/Jun/2019:15:59:08 -0700] \"GET /strategize/sticky/portals/applications HTTP/1.1\" 503 20525\\n236.56.14.183 - - [21/Jun/2019:15:59:09 -0700] \"POST /content/end-to-end/turn-key HTTP/2.0\" 416 66\\n115.149.3.200 - - [21/Jun/2019:15:59:10 -0700] \"PUT /next-generation/action-items HTTP/1.0\" 205 13481\\n107.217.24.59 - - [21/Jun/2019:15:59:11 -0700] \"GET /expedite HTTP/1.1\" 404 22663\\n38.245.196.159 - - [21/Jun/2019:15:59:12 -0700] \"POST /relationships/web-readiness/optimize/infrastructures HTTP/1.1\" 201 27917\\n217.48.238.45 - - [21/Jun/2019:15:59:13 -0700] \"GET /paradigms HTTP/1.0\" 403 25130\\n187.88.205.168 - - [21/Jun/2019:15:59:14 -0700] \"GET /virtual/real-time/24%2f7 HTTP/1.0\" 201 24821\\n117.106.157.40 - - [21/Jun/2019:15:59:15 -0700] \"DELETE /synergize/generate/out-of-the-box HTTP/2.0\" 304 23915\\n219.164.33.53 - - [21/Jun/2019:15:59:16 -0700] \"PUT /architectures/integrate/embrace HTTP/2.0\" 404 28981\\n67.17.225.243 - mann4196 [21/Jun/2019:15:59:17 -0700] \"DELETE /initiatives/synergize/enable HTTP/1.1\" 200 16829\\n187.110.178.207 - - [21/Jun/2019:15:59:18 -0700] \"PATCH /compelling/extensible/grow HTTP/1.1\" 502 5826\\n118.197.126.108 - - [21/Jun/2019:15:59:19 -0700] \"GET /enhance/target/benchmark/eyeballs HTTP/2.0\" 205 23190\\n102.253.250.180 - marks6484 [21/Jun/2019:15:59:20 -0700] \"POST /portals/communities HTTP/1.1\" 416 660\\n188.55.154.154 - kling2211 [21/Jun/2019:15:59:21 -0700] \"PUT /transparent/strategic/efficient HTTP/1.0\" 204 18894\\n109.249.168.154 - barrows4994 [21/Jun/2019:15:59:22 -0700] \"POST /ubiquitous/supply-chains/utilize/facilitate HTTP/2.0\" 203 21335\\n71.206.76.249 - schimmel7061 [21/Jun/2019:15:59:23 -0700] \"POST /24%2f7/mindshare HTTP/1.0\" 304 22597\\n68.121.25.29 - - [21/Jun/2019:15:59:24 -0700] \"POST /deliver/mesh/supply-chains/synthesize HTTP/2.0\" 501 23867\\n118.215.32.132 - - [21/Jun/2019:15:59:25 -0700] \"PUT /strategic HTTP/1.1\" 302 24127\\n106.31.77.118 - - [21/Jun/2019:15:59:26 -0700] \"GET /roi/experiences HTTP/1.0\" 504 18498\\n157.114.250.181 - witting4267 [21/Jun/2019:15:59:27 -0700] \"PUT /web-readiness/embrace HTTP/1.1\" 403 984\\n206.255.34.232 - - [21/Jun/2019:15:59:28 -0700] \"PATCH /plug-and-play/e-tailers/grow HTTP/1.1\" 302 16878\\n175.192.140.87 - abernathy8063 [21/Jun/2019:15:59:29 -0700] \"GET /experiences/one-to-one HTTP/1.1\" 400 20111\\n53.179.178.201 - pagac4236 [21/Jun/2019:15:59:30 -0700] \"PATCH /one-to-one/b2b HTTP/1.1\" 405 29770\\n202.83.14.204 - - [21/Jun/2019:15:59:31 -0700] \"GET /benchmark/rich HTTP/2.0\" 403 24947\\n204.6.151.116 - feeney1779 [21/Jun/2019:15:59:32 -0700] \"PATCH /dot-com HTTP/1.1\" 304 787\\n128.137.44.120 - gulgowski4789 [21/Jun/2019:15:59:33 -0700] \"POST /envisioneer/convergence HTTP/1.1\" 500 25272\\n175.241.237.106 - - [21/Jun/2019:15:59:34 -0700] \"POST /robust/seamless/transform/transform HTTP/1.0\" 201 5184\\n240.183.219.246 - - [21/Jun/2019:15:59:35 -0700] \"GET /collaborative/revolutionize/synthesize/viral HTTP/1.0\" 405 18655\\n101.236.173.161 - - [21/Jun/2019:15:59:36 -0700] \"GET /e-markets/b2c HTTP/1.1\" 203 26216\\n233.42.173.172 - - [21/Jun/2019:15:59:37 -0700] \"GET /expedite HTTP/1.0\" 501 14278\\n160.83.97.225 - gaylord3825 [21/Jun/2019:15:59:38 -0700] \"DELETE /infomediaries HTTP/1.1\" 400 26259\\n214.138.208.200 - - [21/Jun/2019:15:59:39 -0700] \"GET /synergistic/collaborative/visionary/vortals HTTP/1.0\" 416 1349\\n57.250.82.249 - abshire9350 [21/Jun/2019:15:59:40 -0700] \"HEAD /web-enabled/mindshare/open-source HTTP/1.0\" 406 8565\\n181.255.30.241 - - [21/Jun/2019:15:59:41 -0700] \"GET /engineer/e-services HTTP/2.0\" 404 890\\n105.214.125.218 - - [21/Jun/2019:15:59:42 -0700] \"DELETE /one-to-one/syndicate/iterate HTTP/2.0\" 404 22779\\n201.74.167.219 - dickinson7510 [21/Jun/2019:15:59:43 -0700] \"DELETE /functionalities/b2b HTTP/1.1\" 205 8835\\n247.66.231.101 - schroeder6056 [21/Jun/2019:15:59:44 -0700] \"PATCH /viral/global/e-markets/synergistic HTTP/1.0\" 205 27720\\n49.218.35.102 - - [21/Jun/2019:15:59:45 -0700] \"PATCH /reinvent/holistic HTTP/1.0\" 501 3861\\n187.151.112.252 - cronin9150 [21/Jun/2019:15:59:46 -0700] \"POST /holistic/plug-and-play HTTP/1.1\" 416 16630\\n56.134.159.6 - - [21/Jun/2019:15:59:47 -0700] \"POST /turn-key/distributed HTTP/1.0\" 404 9834\\n184.49.40.239 - cronin7061 [21/Jun/2019:15:59:48 -0700] \"POST /turn-key/maximize/vertical/harness HTTP/1.1\" 502 6314\\n205.214.141.88 - - [21/Jun/2019:15:59:49 -0700] \"PUT /vertical/models/b2c HTTP/1.0\" 304 6444\\n161.40.136.30 - hackett2278 [21/Jun/2019:15:59:50 -0700] \"HEAD /bandwidth/syndicate/extend HTTP/2.0\" 503 3600\\n129.163.228.209 - - [21/Jun/2019:15:59:51 -0700] \"DELETE /envisioneer/portals/sexy HTTP/2.0\" 302 5732\\n90.219.89.134 - - [21/Jun/2019:15:59:52 -0700] \"HEAD /sticky/initiatives/brand/bleeding-edge HTTP/1.1\" 204 5394\\n73.245.186.113 - johnston8800 [21/Jun/2019:15:59:53 -0700] \"HEAD /technologies/monetize/visualize HTTP/1.1\" 401 510\\n11.9.180.195 - - [21/Jun/2019:15:59:54 -0700] \"HEAD /methodologies/mindshare/e-business HTTP/1.1\" 200 26133\\n251.66.234.159 - casper4259 [21/Jun/2019:15:59:55 -0700] \"PATCH /envisioneer/web+services/e-tailers HTTP/1.1\" 404 3189\\n58.216.217.213 - - [21/Jun/2019:15:59:56 -0700] \"PUT /technologies/mesh/disintermediate/visualize HTTP/1.0\" 504 12331\\n144.154.200.29 - - [21/Jun/2019:15:59:57 -0700] \"HEAD /seamless/seamless/synergies HTTP/1.0\" 100 1022\\n69.168.5.186 - hudson3060 [21/Jun/2019:15:59:58 -0700] \"GET /seamless/applications HTTP/1.1\" 405 24746\\n178.51.230.221 - beer4262 [21/Jun/2019:15:59:59 -0700] \"PUT /portals HTTP/1.0\" 401 2712\\n17.32.23.78 - - [21/Jun/2019:16:00:00 -0700] \"POST /engineer/visionary/mesh/empower HTTP/2.0\" 301 5336\\n202.254.80.9 - - [21/Jun/2019:16:00:01 -0700] \"PUT /e-services/frictionless/web-readiness HTTP/1.1\" 204 17323\\n167.14.84.150 - corkery7009 [21/Jun/2019:16:00:02 -0700] \"PATCH /cross-platform/engage HTTP/2.0\" 205 11138\\n108.73.111.91 - rolfson4266 [21/Jun/2019:16:00:03 -0700] \"POST /sexy/relationships/envisioneer HTTP/1.1\" 404 4012\\n255.34.248.138 - lehner7598 [21/Jun/2019:16:00:04 -0700] \"PUT /visionary/exploit/strategize HTTP/1.1\" 100 17607\\n175.248.234.53 - connelly6139 [21/Jun/2019:16:00:05 -0700] \"GET /end-to-end/initiatives HTTP/1.0\" 504 26939\\n54.182.101.16 - - [21/Jun/2019:16:00:06 -0700] \"DELETE /schemas HTTP/2.0\" 404 7568\\n197.102.163.140 - - [21/Jun/2019:16:00:07 -0700] \"HEAD /incentivize/impactful/world-class HTTP/1.0\" 405 25476\\n114.121.4.5 - dickinson1321 [21/Jun/2019:16:00:08 -0700] \"HEAD /ubiquitous/strategic/innovative HTTP/2.0\" 500 9756\\n75.128.148.229 - - [21/Jun/2019:16:00:09 -0700] \"GET /leverage/deliverables/aggregate/supply-chains HTTP/1.0\" 401 22388\\n87.120.190.31 - mraz2398 [21/Jun/2019:16:00:10 -0700] \"PUT /incentivize/deliver/frictionless HTTP/1.0\" 205 18766\\n123.55.15.237 - stracke7667 [21/Jun/2019:16:00:11 -0700] \"POST /bricks-and-clicks/wireless/iterate HTTP/2.0\" 403 11788\\n76.179.226.223 - gleichner8645 [21/Jun/2019:16:00:12 -0700] \"PATCH /incubate/enhance/enhance/plug-and-play HTTP/1.1\" 406 16334\\n18.251.182.128 - huels1658 [21/Jun/2019:16:00:13 -0700] \"PATCH /benchmark/seize/end-to-end HTTP/1.0\" 400 19364\\n130.4.238.6 - thompson4128 [21/Jun/2019:16:00:14 -0700] \"PUT /whiteboard HTTP/1.1\" 100 18951\\n30.235.201.100 - labadie1675 [21/Jun/2019:16:00:15 -0700] \"HEAD /sexy/seamless/channels HTTP/1.0\" 403 180\\n172.200.189.116 - moen2257 [21/Jun/2019:16:00:16 -0700] \"PUT /visionary HTTP/2.0\" 504 19011\\n129.243.225.31 - gerlach4189 [21/Jun/2019:16:00:17 -0700] \"HEAD /turn-key/enhance/deploy HTTP/1.1\" 201 3247\\n234.151.43.108 - gutkowski1749 [21/Jun/2019:16:00:18 -0700] \"POST /experiences/cultivate/communities HTTP/2.0\" 503 28441\\n128.230.157.15 - koch1729 [21/Jun/2019:16:00:19 -0700] \"POST /revolutionize HTTP/1.1\" 503 2054\\n70.128.242.203 - - [21/Jun/2019:16:00:20 -0700] \"POST /dot-com/efficient/e-tailers HTTP/1.1\" 406 28152\\n153.118.103.28 - - [21/Jun/2019:16:00:21 -0700] \"POST /action-items/seize/whiteboard HTTP/1.1\" 100 29028\\n147.89.158.20 - sawayn3251 [21/Jun/2019:16:00:22 -0700] \"PUT /clicks-and-mortar/b2c/e-enable HTTP/1.1\" 504 21163\\n144.30.162.29 - - [21/Jun/2019:16:00:23 -0700] \"GET /next-generation/magnetic/paradigms HTTP/2.0\" 100 437\\n98.221.131.91 - heaney8725 [21/Jun/2019:16:00:24 -0700] \"POST /seamless/scale HTTP/1.0\" 406 21102\\n116.135.195.23 - - [21/Jun/2019:16:00:25 -0700] \"HEAD /deliverables HTTP/1.0\" 406 1129\\n178.205.28.42 - koss1578 [21/Jun/2019:16:00:26 -0700] \"DELETE /convergence HTTP/2.0\" 100 2318\\n193.150.28.242 - - [21/Jun/2019:16:00:27 -0700] \"DELETE /best-of-breed HTTP/1.0\" 201 7787\\n85.65.192.87 - - [21/Jun/2019:16:00:28 -0700] \"DELETE /platforms HTTP/1.0\" 416 10675\\n80.172.108.88 - - [21/Jun/2019:16:00:29 -0700] \"PATCH /recontextualize/aggregate/front-end HTTP/2.0\" 301 1472\\n116.144.162.173 - - [21/Jun/2019:16:00:30 -0700] \"POST /sticky HTTP/2.0\" 503 7943\\n203.6.73.103 - kerluke4964 [21/Jun/2019:16:00:31 -0700] \"DELETE /collaborative/magnetic HTTP/1.1\" 405 11817\\n30.200.244.157 - zieme4477 [21/Jun/2019:16:00:32 -0700] \"HEAD /virtual/sticky/leading-edge/reintermediate HTTP/2.0\" 403 16473\\n217.77.132.36 - - [21/Jun/2019:16:00:33 -0700] \"DELETE /real-time/seamless/visualize/sexy HTTP/2.0\" 416 25555\\n168.91.121.134 - - [21/Jun/2019:16:00:34 -0700] \"GET /metrics/bleeding-edge HTTP/1.1\" 400 2069\\n104.242.54.162 - weber7878 [21/Jun/2019:16:00:35 -0700] \"HEAD /dynamic/models/productize HTTP/1.0\" 302 25146\\n210.119.75.247 - lemke8387 [21/Jun/2019:16:00:36 -0700] \"PATCH /partnerships/deploy/impactful/infomediaries HTTP/1.1\" 401 24246\\n189.164.49.80 - - [21/Jun/2019:16:00:37 -0700] \"DELETE /viral/incentivize/web-readiness HTTP/1.1\" 404 8726\\n151.70.203.139 - reinger7161 [21/Jun/2019:16:00:38 -0700] \"DELETE /strategic/repurpose/infrastructures HTTP/2.0\" 404 6941\\n100.200.147.71 - - [21/Jun/2019:16:00:39 -0700] \"DELETE /incubate HTTP/2.0\" 200 10687\\n146.50.234.201 - glover8440 [21/Jun/2019:16:00:40 -0700] \"PUT /partnerships/networks/frictionless HTTP/1.0\" 503 19853\\n195.58.191.112 - boyer8373 [21/Jun/2019:16:00:41 -0700] \"DELETE /integrate HTTP/2.0\" 500 17042\\n82.181.220.184 - - [21/Jun/2019:16:00:42 -0700] \"DELETE /deliverables/24%2f365/exploit/24%2f365 HTTP/1.0\" 403 21275\\n24.7.110.141 - hilpert8913 [21/Jun/2019:16:00:43 -0700] \"GET /syndicate/bleeding-edge/implement/24%2f365 HTTP/1.0\" 302 15253\\n167.254.190.8 - - [21/Jun/2019:16:00:44 -0700] \"GET /extensible/solutions/efficient HTTP/1.0\" 403 23745\\n219.107.204.228 - - [21/Jun/2019:16:00:45 -0700] \"HEAD /networks/aggregate/monetize/iterate HTTP/1.1\" 200 12926\\n189.49.24.146 - wunsch1258 [21/Jun/2019:16:00:46 -0700] \"GET /users/extend/expedite/channels HTTP/1.1\" 204 27622\\n145.65.159.31 - - [21/Jun/2019:16:00:47 -0700] \"DELETE /granular/bleeding-edge/innovate/incubate HTTP/2.0\" 503 14043\\n137.216.228.137 - - [21/Jun/2019:16:00:48 -0700] \"DELETE /efficient HTTP/1.0\" 404 434\\n186.190.140.96 - - [21/Jun/2019:16:00:49 -0700] \"PUT /infomediaries/orchestrate/cultivate/monetize HTTP/1.1\" 503 21516\\n148.191.73.128 - - [21/Jun/2019:16:00:50 -0700] \"PUT /schemas HTTP/2.0\" 205 3789\\n59.66.248.21 - kutch7667 [21/Jun/2019:16:00:51 -0700] \"GET /expedite/turn-key/exploit HTTP/1.1\" 504 10388\\n23.120.229.182 - - [21/Jun/2019:16:00:52 -0700] \"HEAD /utilize/synergistic/transition HTTP/1.0\" 503 28634\\n218.91.27.210 - turcotte8545 [21/Jun/2019:16:00:53 -0700] \"POST /redefine HTTP/1.0\" 401 750\\n235.76.221.72 - - [21/Jun/2019:16:00:54 -0700] \"PATCH /b2c/collaborative HTTP/2.0\" 302 21187\\n176.54.168.8 - - [21/Jun/2019:16:00:55 -0700] \"PATCH /orchestrate/redefine/platforms/generate HTTP/1.0\" 403 17299\\n250.183.230.208 - - [21/Jun/2019:16:00:56 -0700] \"DELETE /seamless/iterate HTTP/1.1\" 200 1800\\n100.95.44.151 - - [21/Jun/2019:16:00:57 -0700] \"PATCH /synergize/bricks-and-clicks/maximize/extend HTTP/1.0\" 100 6250\\n246.51.6.27 - - [21/Jun/2019:16:00:58 -0700] \"HEAD /e-business/applications HTTP/1.1\" 405 10953\\n107.152.217.102 - - [21/Jun/2019:16:00:59 -0700] \"PATCH /solutions/cultivate HTTP/1.0\" 304 23099\\n122.194.3.144 - - [21/Jun/2019:16:01:00 -0700] \"DELETE /cutting-edge/grow/target HTTP/1.0\" 501 29471\\n91.39.192.43 - thompson4010 [21/Jun/2019:16:01:01 -0700] \"PATCH /e-tailers HTTP/1.0\" 302 26183\\n248.24.178.242 - - [21/Jun/2019:16:01:02 -0700] \"HEAD /recontextualize/transparent/engineer HTTP/1.0\" 304 13879\\n251.28.161.44 - - [21/Jun/2019:16:01:03 -0700] \"HEAD /cross-media/aggregate/optimize/next-generation HTTP/1.0\" 205 24020\\n94.99.199.30 - - [21/Jun/2019:16:01:04 -0700] \"HEAD /extend/target/sexy/iterate HTTP/2.0\" 405 11901\\n197.150.196.204 - thiel4558 [21/Jun/2019:16:01:05 -0700] \"PATCH /compelling HTTP/2.0\" 500 14180\\n199.10.120.170 - murazik3963 [21/Jun/2019:16:01:06 -0700] \"DELETE /frictionless/magnetic/e-markets/visionary HTTP/1.0\" 502 21884\\n21.65.184.146 - lockman2593 [21/Jun/2019:16:01:07 -0700] \"DELETE /sexy HTTP/1.1\" 204 13464\\n36.191.173.200 - metz3511 [21/Jun/2019:16:01:08 -0700] \"POST /revolutionary/seamless/disintermediate/generate HTTP/1.0\" 400 18081\\n47.131.136.173 - - [21/Jun/2019:16:01:09 -0700] \"PATCH /global/whiteboard/architect HTTP/1.0\" 203 246\\n219.163.127.189 - - [21/Jun/2019:16:01:10 -0700] \"POST /sticky/efficient HTTP/1.0\" 400 13950\\n95.253.30.75 - herzog9094 [21/Jun/2019:16:01:11 -0700] \"POST /mindshare HTTP/1.1\" 400 3699\\n89.146.38.96 - - [21/Jun/2019:16:01:12 -0700] \"POST /partnerships/drive HTTP/1.0\" 504 23180\\n149.70.38.192 - gorczany7585 [21/Jun/2019:16:01:13 -0700] \"POST /real-time/utilize/relationships/leverage HTTP/1.0\" 302 5931\\n109.208.102.251 - schroeder2270 [21/Jun/2019:16:01:14 -0700] \"DELETE /leverage HTTP/2.0\" 500 16931\\n236.59.161.14 - - [21/Jun/2019:16:01:15 -0700] \"GET /sexy/b2c/e-business HTTP/1.1\" 205 2325\\n233.40.58.83 - - [21/Jun/2019:16:01:16 -0700] \"GET /impactful HTTP/2.0\" 504 22931\\n204.236.10.235 - rodriguez5244 [21/Jun/2019:16:01:17 -0700] \"GET /synergies/expedite/deploy HTTP/1.0\" 201 1938\\n158.49.98.6 - breitenberg4724 [21/Jun/2019:16:01:18 -0700] \"DELETE /global/channels/relationships HTTP/1.1\" 503 13365\\n52.90.48.138 - - [21/Jun/2019:16:01:19 -0700] \"DELETE /brand/architect/distributed/unleash HTTP/1.1\" 201 9681\\n131.137.166.85 - - [21/Jun/2019:16:01:20 -0700] \"HEAD /evolve/deploy/extensible/harness HTTP/2.0\" 205 18845\\n156.192.201.86 - connelly5114 [21/Jun/2019:16:01:21 -0700] \"PATCH /whiteboard/optimize HTTP/2.0\" 200 27720\\n189.85.107.237 - - [21/Jun/2019:16:01:22 -0700] \"GET /cross-platform/e-markets/b2b/exploit HTTP/1.1\" 406 5427\\n214.115.87.186 - gorczany2750 [21/Jun/2019:16:01:23 -0700] \"GET /plug-and-play/productize/deliverables HTTP/1.1\" 100 27250\\n98.220.2.44 - - [21/Jun/2019:16:01:24 -0700] \"HEAD /mission-critical HTTP/1.1\" 503 23067\\n173.31.138.234 - - [21/Jun/2019:16:01:25 -0700] \"DELETE /models HTTP/1.1\" 200 16362\\n69.218.146.39 - kohler8056 [21/Jun/2019:16:01:26 -0700] \"HEAD /systems HTTP/1.0\" 504 1226\\n71.86.213.196 - - [21/Jun/2019:16:01:27 -0700] \"DELETE /convergence/best-of-breed/platforms HTTP/1.0\" 302 8418\\n70.68.196.179 - cartwright5970 [21/Jun/2019:16:01:28 -0700] \"POST /b2c/cross-media HTTP/1.0\" 405 2171\\n126.63.247.146 - leuschke4130 [21/Jun/2019:16:01:29 -0700] \"GET /collaborative HTTP/2.0\" 504 21859\\n132.117.183.187 - - [21/Jun/2019:16:01:30 -0700] \"HEAD /synthesize/bandwidth/harness HTTP/2.0\" 203 20038\\n196.88.105.189 - lynch1110 [21/Jun/2019:16:01:31 -0700] \"POST /convergence/web-enabled/turn-key HTTP/1.1\" 304 20160\\n173.100.77.100 - goodwin1310 [21/Jun/2019:16:01:32 -0700] \"HEAD /integrate/visualize/implement/infomediaries HTTP/1.0\" 501 23263\\n17.106.152.183 - thiel8831 [21/Jun/2019:16:01:33 -0700] \"POST /architect/supply-chains/rich/cultivate HTTP/1.0\" 405 14929\\n93.67.196.131 - - [21/Jun/2019:16:01:34 -0700] \"PUT /generate/infrastructures HTTP/1.1\" 205 10151\\n229.231.201.185 - - [21/Jun/2019:16:01:35 -0700] \"HEAD /supply-chains/brand/strategic HTTP/1.1\" 405 28109\\n193.252.191.251 - roob3235 [21/Jun/2019:16:01:36 -0700] \"POST /extensible HTTP/1.1\" 503 26214\\n93.57.150.237 - - [21/Jun/2019:16:01:37 -0700] \"HEAD /real-time HTTP/2.0\" 404 22392\\n22.112.119.27 - - [21/Jun/2019:16:01:38 -0700] \"PUT /roi/collaborative HTTP/1.1\" 100 22881\\n205.98.120.209 - trantow6874 [21/Jun/2019:16:01:39 -0700] \"PUT /front-end/world-class/partnerships/schemas HTTP/1.0\" 401 25144\\n148.196.48.243 - ondricka6863 [21/Jun/2019:16:01:40 -0700] \"GET /best-of-breed/reinvent HTTP/1.1\" 501 29641\\n130.229.174.187 - hackett3055 [21/Jun/2019:16:01:41 -0700] \"GET /sticky/deliver HTTP/2.0\" 404 5708\\n115.27.231.250 - - [21/Jun/2019:16:01:42 -0700] \"PUT /drive/sexy/e-markets/brand HTTP/1.0\" 401 22035\\n188.30.88.134 - - [21/Jun/2019:16:01:43 -0700] \"PUT /end-to-end/architectures/convergence HTTP/1.1\" 302 3054\\n105.162.151.140 - herzog1680 [21/Jun/2019:16:01:44 -0700] \"POST /24%2f365/next-generation HTTP/1.1\" 301 25478\\n64.14.181.183 - gleichner2813 [21/Jun/2019:16:01:45 -0700] \"GET /innovate/mesh HTTP/2.0\" 400 4058\\n183.150.10.151 - hammes8029 [21/Jun/2019:16:01:46 -0700] \"HEAD /clicks-and-mortar HTTP/1.0\" 403 11496\\n137.138.99.222 - doyle8430 [21/Jun/2019:16:01:47 -0700] \"DELETE /e-commerce/brand/extend/innovative HTTP/2.0\" 304 20053\\n31.191.115.136 - parker1133 [21/Jun/2019:16:01:48 -0700] \"PATCH /visualize/clicks-and-mortar/facilitate HTTP/1.0\" 503 2609\\n32.163.208.9 - - [21/Jun/2019:16:01:49 -0700] \"POST /strategic/dynamic HTTP/1.0\" 403 28918\\n147.114.137.55 - - [21/Jun/2019:16:01:50 -0700] \"POST /brand/frictionless/markets/incentivize HTTP/1.0\" 416 26361\\n24.29.142.39 - koelpin1900 [21/Jun/2019:16:01:51 -0700] \"DELETE /monetize/user-centric HTTP/1.1\" 205 12477\\n56.36.101.14 - davis6497 [21/Jun/2019:16:01:52 -0700] \"GET /cutting-edge/matrix/productize/web+services HTTP/1.1\" 501 18684\\n98.140.180.244 - harber4797 [21/Jun/2019:16:01:53 -0700] \"POST /seize/b2b/synergistic HTTP/2.0\" 203 9396\\n54.92.231.149 - ziemann5634 [21/Jun/2019:16:01:54 -0700] \"GET /revolutionize/matrix HTTP/2.0\" 304 27968\\n96.250.132.151 - - [21/Jun/2019:16:01:55 -0700] \"HEAD /users/revolutionize HTTP/1.1\" 203 28242\\n29.193.55.212 - - [21/Jun/2019:16:01:56 -0700] \"DELETE /strategic/e-tailers/scalable HTTP/1.0\" 205 1197\\n255.61.55.129 - - [21/Jun/2019:16:01:57 -0700] \"DELETE /applications/infomediaries/reinvent/cultivate HTTP/1.0\" 401 10082\\n135.186.69.192 - - [21/Jun/2019:16:01:58 -0700] \"PATCH /best-of-breed HTTP/1.1\" 405 3910\\n32.86.3.51 - - [21/Jun/2019:16:01:59 -0700] \"GET /optimize/impactful/sexy/channels HTTP/2.0\" 405 18443\\n176.68.62.252 - turner3261 [21/Jun/2019:16:02:00 -0700] \"GET /viral HTTP/1.1\" 405 16692\\n35.86.149.61 - zemlak6334 [21/Jun/2019:16:02:01 -0700] \"HEAD /incentivize HTTP/2.0\" 304 9962\\n30.95.91.251 - larson8319 [21/Jun/2019:16:02:02 -0700] \"PUT /one-to-one/whiteboard HTTP/1.0\" 401 7270\\n'"
      ]
     },
     "execution_count": 402,
     "metadata": {},
     "output_type": "execute_result"
    }
   ],
   "source": [
    "with open (\"C:/Users/tkhan050/Documents/Blogs/Study Materials/Introduction to Data Science in Python/logdata.txt\", \"r\") as file:\n",
    "        logdata = file.read()\n",
    "logdata    "
   ]
  },
  {
   "cell_type": "code",
   "execution_count": 394,
   "id": "35254219",
   "metadata": {},
   "outputs": [
    {
     "name": "stdout",
     "output_type": "stream",
     "text": [
      "{'host': '146.204.224.152', 'user_name': 'feest6811', 'time': '21/Jun/2019:15:45:24 -0700', 'request': 'POST /incentivize HTTP/1.1'}\n",
      "{'host': '100.32.205.59', 'user_name': 'ortiz8891', 'time': '21/Jun/2019:15:45:28 -0700', 'request': 'PATCH /architectures HTTP/1.0'}\n",
      "{'host': '168.95.156.240', 'user_name': 'stark2413', 'time': '21/Jun/2019:15:45:31 -0700', 'request': 'GET /engage HTTP/2.0'}\n",
      "{'host': '159.252.184.44', 'user_name': 'fay7852', 'time': '21/Jun/2019:15:45:54 -0700', 'request': 'GET /convergence HTTP/2.0'}\n",
      "{'host': '40.167.172.66', 'user_name': 'kshlerin3090', 'time': '21/Jun/2019:15:45:57 -0700', 'request': 'HEAD /convergence HTTP/2.0'}\n",
      "{'host': '115.214.173.248', 'user_name': 'hauck8214', 'time': '21/Jun/2019:15:46:00 -0700', 'request': 'PUT /optimize HTTP/1.1'}\n",
      "{'host': '62.79.96.179', 'user_name': 'mayer1069', 'time': '21/Jun/2019:15:46:15 -0700', 'request': 'HEAD /facilitate HTTP/1.0'}\n",
      "{'host': '63.208.115.205', 'user_name': '-', 'time': '21/Jun/2019:15:46:19 -0700', 'request': 'PATCH /revolutionize HTTP/1.0'}\n",
      "{'host': '153.60.64.187', 'user_name': '-', 'time': '21/Jun/2019:15:46:32 -0700', 'request': 'HEAD /schemas HTTP/1.1'}\n",
      "{'host': '130.240.69.236', 'user_name': 'hoeger9514', 'time': '21/Jun/2019:15:46:36 -0700', 'request': 'PUT /drive HTTP/2.0'}\n",
      "{'host': '151.2.27.136', 'user_name': 'kunde3872', 'time': '21/Jun/2019:15:46:40 -0700', 'request': 'HEAD /monetize HTTP/1.1'}\n",
      "{'host': '230.72.69.136', 'user_name': 'quitzon6990', 'time': '21/Jun/2019:15:46:42 -0700', 'request': 'POST /channels HTTP/1.1'}\n",
      "{'host': '63.134.169.160', 'user_name': '-', 'time': '21/Jun/2019:15:46:45 -0700', 'request': 'PUT /syndicate HTTP/1.1'}\n",
      "{'host': '236.57.192.231', 'user_name': '-', 'time': '21/Jun/2019:15:46:53 -0700', 'request': 'GET /whiteboard HTTP/1.1'}\n",
      "{'host': '21.24.38.93', 'user_name': 'roob7248', 'time': '21/Jun/2019:15:47:10 -0700', 'request': 'DELETE /synergistic HTTP/1.1'}\n",
      "{'host': '210.99.35.196', 'user_name': 'nitzsche6699', 'time': '21/Jun/2019:15:47:20 -0700', 'request': 'DELETE /wireless HTTP/1.1'}\n",
      "{'host': '245.247.95.68', 'user_name': 'cummerata3376', 'time': '21/Jun/2019:15:47:24 -0700', 'request': 'GET /redefine HTTP/2.0'}\n",
      "{'host': '237.149.195.234', 'user_name': 'powlowski8494', 'time': '21/Jun/2019:15:47:32 -0700', 'request': 'PATCH /productize HTTP/2.0'}\n",
      "{'host': '42.27.103.225', 'user_name': '-', 'time': '21/Jun/2019:15:47:34 -0700', 'request': 'GET /expedite HTTP/1.1'}\n",
      "{'host': '97.79.223.219', 'user_name': '-', 'time': '21/Jun/2019:15:47:36 -0700', 'request': 'PUT /engage HTTP/1.1'}\n",
      "{'host': '247.173.105.48', 'user_name': 'mosciski4497', 'time': '21/Jun/2019:15:47:37 -0700', 'request': 'GET /visualize HTTP/1.0'}\n",
      "{'host': '48.17.245.135', 'user_name': 'thompson4253', 'time': '21/Jun/2019:15:47:38 -0700', 'request': 'HEAD /dynamic HTTP/1.1'}\n",
      "{'host': '4.68.176.38', 'user_name': '-', 'time': '21/Jun/2019:15:47:42 -0700', 'request': 'POST /enterprise HTTP/2.0'}\n",
      "{'host': '130.231.243.226', 'user_name': '-', 'time': '21/Jun/2019:15:47:51 -0700', 'request': 'GET /holistic HTTP/2.0'}\n",
      "{'host': '230.250.234.246', 'user_name': '-', 'time': '21/Jun/2019:15:47:55 -0700', 'request': 'GET /experiences HTTP/1.0'}\n",
      "{'host': '75.237.100.203', 'user_name': '-', 'time': '21/Jun/2019:15:48:13 -0700', 'request': 'HEAD /incubate HTTP/1.0'}\n",
      "{'host': '194.73.206.238', 'user_name': '-', 'time': '21/Jun/2019:15:48:14 -0700', 'request': 'PUT /intuitive HTTP/1.0'}\n",
      "{'host': '125.236.198.20', 'user_name': '-', 'time': '21/Jun/2019:15:48:15 -0700', 'request': 'PATCH /strategize HTTP/1.1'}\n",
      "{'host': '178.20.130.66', 'user_name': 'mayer2417', 'time': '21/Jun/2019:15:48:23 -0700', 'request': 'GET /transparent HTTP/1.0'}\n",
      "{'host': '93.61.70.250', 'user_name': 'cassin5420', 'time': '21/Jun/2019:15:48:24 -0700', 'request': 'DELETE /portals HTTP/1.0'}\n",
      "{'host': '147.108.125.10', 'user_name': '-', 'time': '21/Jun/2019:15:48:30 -0700', 'request': 'DELETE /architect HTTP/1.1'}\n",
      "{'host': '171.201.31.179', 'user_name': '-', 'time': '21/Jun/2019:15:48:34 -0700', 'request': 'DELETE /compelling HTTP/2.0'}\n",
      "{'host': '196.16.205.128', 'user_name': 'stanton2862', 'time': '21/Jun/2019:15:48:37 -0700', 'request': 'DELETE /recontextualize HTTP/1.1'}\n",
      "{'host': '107.253.103.62', 'user_name': 'maggio7837', 'time': '21/Jun/2019:15:48:39 -0700', 'request': 'GET /infomediaries HTTP/1.1'}\n",
      "{'host': '243.82.252.241', 'user_name': '-', 'time': '21/Jun/2019:15:48:44 -0700', 'request': 'GET /incubate HTTP/2.0'}\n",
      "{'host': '175.95.90.163', 'user_name': '-', 'time': '21/Jun/2019:15:48:45 -0700', 'request': 'POST /transform HTTP/1.0'}\n",
      "{'host': '205.183.132.210', 'user_name': '-', 'time': '21/Jun/2019:15:48:46 -0700', 'request': 'DELETE /distributed HTTP/1.1'}\n",
      "{'host': '201.66.251.172', 'user_name': '-', 'time': '21/Jun/2019:15:48:48 -0700', 'request': 'GET /global HTTP/2.0'}\n",
      "{'host': '166.255.221.168', 'user_name': '-', 'time': '21/Jun/2019:15:48:54 -0700', 'request': 'PATCH /schemas HTTP/1.1'}\n",
      "{'host': '232.181.229.75', 'user_name': 'lehner6109', 'time': '21/Jun/2019:15:48:55 -0700', 'request': 'PUT /transition HTTP/1.1'}\n",
      "{'host': '254.88.251.245', 'user_name': 'nolan6998', 'time': '21/Jun/2019:15:48:56 -0700', 'request': 'DELETE /whiteboard HTTP/1.1'}\n",
      "{'host': '206.227.78.159', 'user_name': '-', 'time': '21/Jun/2019:15:49:09 -0700', 'request': 'GET /orchestrate HTTP/2.0'}\n",
      "{'host': '20.179.60.207', 'user_name': 'mcglynn3415', 'time': '21/Jun/2019:15:49:10 -0700', 'request': 'PUT /grow HTTP/2.0'}\n",
      "{'host': '102.2.37.136', 'user_name': '-', 'time': '21/Jun/2019:15:49:26 -0700', 'request': 'HEAD /granular HTTP/2.0'}\n",
      "{'host': '125.202.126.201', 'user_name': '-', 'time': '21/Jun/2019:15:49:37 -0700', 'request': 'PUT /robust HTTP/2.0'}\n",
      "{'host': '69.98.159.130', 'user_name': 'turner6424', 'time': '21/Jun/2019:15:49:43 -0700', 'request': 'PATCH /harness HTTP/2.0'}\n",
      "{'host': '223.182.232.174', 'user_name': 'maggio8143', 'time': '21/Jun/2019:15:49:45 -0700', 'request': 'PUT /embrace HTTP/2.0'}\n",
      "{'host': '206.163.96.216', 'user_name': 'buckridge3917', 'time': '21/Jun/2019:15:49:48 -0700', 'request': 'HEAD /transparent HTTP/2.0'}\n",
      "{'host': '199.88.191.4', 'user_name': 'breitenberg8163', 'time': '21/Jun/2019:15:49:52 -0700', 'request': 'PATCH /unleash HTTP/1.0'}\n",
      "{'host': '127.220.163.49', 'user_name': 'wisozk6703', 'time': '21/Jun/2019:15:49:54 -0700', 'request': 'PATCH /utilize HTTP/2.0'}\n",
      "{'host': '170.201.249.253', 'user_name': '-', 'time': '21/Jun/2019:15:50:02 -0700', 'request': 'GET /holistic HTTP/1.0'}\n",
      "{'host': '86.222.54.122', 'user_name': '-', 'time': '21/Jun/2019:15:50:06 -0700', 'request': 'DELETE /roi HTTP/1.0'}\n",
      "{'host': '208.45.172.73', 'user_name': 'vonrueden9811', 'time': '21/Jun/2019:15:50:15 -0700', 'request': 'POST /drive HTTP/1.0'}\n",
      "{'host': '143.194.39.107', 'user_name': 'anderson7046', 'time': '21/Jun/2019:15:50:16 -0700', 'request': 'HEAD /intuitive HTTP/1.1'}\n",
      "{'host': '167.162.121.227', 'user_name': '-', 'time': '21/Jun/2019:15:50:19 -0700', 'request': 'GET /target HTTP/2.0'}\n",
      "{'host': '163.153.145.8', 'user_name': 'doyle2015', 'time': '21/Jun/2019:15:50:21 -0700', 'request': 'PUT /engineer HTTP/1.1'}\n",
      "{'host': '165.8.44.192', 'user_name': 'kemmer8421', 'time': '21/Jun/2019:15:50:22 -0700', 'request': 'HEAD /repurpose HTTP/1.0'}\n",
      "{'host': '191.117.232.204', 'user_name': 'kohler4380', 'time': '21/Jun/2019:15:50:32 -0700', 'request': 'GET /enterprise HTTP/2.0'}\n",
      "{'host': '65.51.150.39', 'user_name': '-', 'time': '21/Jun/2019:15:50:34 -0700', 'request': 'HEAD /platforms HTTP/1.1'}\n",
      "{'host': '25.177.33.181', 'user_name': '-', 'time': '21/Jun/2019:15:50:39 -0700', 'request': 'DELETE /intuitive HTTP/1.0'}\n",
      "{'host': '184.246.41.227', 'user_name': 'mayert4085', 'time': '21/Jun/2019:15:50:44 -0700', 'request': 'GET /transition HTTP/2.0'}\n",
      "{'host': '251.38.225.127', 'user_name': '-', 'time': '21/Jun/2019:15:50:46 -0700', 'request': 'GET /markets HTTP/2.0'}\n",
      "{'host': '189.62.5.214', 'user_name': 'romaguera5473', 'time': '21/Jun/2019:15:50:51 -0700', 'request': 'DELETE /sticky HTTP/2.0'}\n",
      "{'host': '7.205.75.72', 'user_name': 'west2407', 'time': '21/Jun/2019:15:50:55 -0700', 'request': 'GET /technologies HTTP/1.1'}\n",
      "{'host': '203.33.27.240', 'user_name': '-', 'time': '21/Jun/2019:15:50:59 -0700', 'request': 'HEAD /mesh HTTP/1.1'}\n",
      "{'host': '165.111.167.225', 'user_name': 'gottlieb6924', 'time': '21/Jun/2019:15:51:07 -0700', 'request': 'PUT /envisioneer HTTP/1.1'}\n",
      "{'host': '202.162.118.175', 'user_name': 'greenholt5589', 'time': '21/Jun/2019:15:51:09 -0700', 'request': 'PATCH /maximize HTTP/1.1'}\n",
      "{'host': '211.17.216.102', 'user_name': 'kshlerin3121', 'time': '21/Jun/2019:15:51:14 -0700', 'request': 'DELETE /functionalities HTTP/1.1'}\n",
      "{'host': '228.203.34.179', 'user_name': 'bednar2337', 'time': '21/Jun/2019:15:51:20 -0700', 'request': 'HEAD /implement HTTP/1.0'}\n",
      "{'host': '64.87.108.81', 'user_name': '-', 'time': '21/Jun/2019:15:51:21 -0700', 'request': 'PATCH /leverage HTTP/1.0'}\n",
      "{'host': '67.232.93.92', 'user_name': 'borer9296', 'time': '21/Jun/2019:15:51:24 -0700', 'request': 'POST /cultivate HTTP/1.0'}\n",
      "{'host': '39.149.166.187', 'user_name': '-', 'time': '21/Jun/2019:15:51:33 -0700', 'request': 'GET /extensible HTTP/2.0'}\n",
      "{'host': '161.216.88.248', 'user_name': '-', 'time': '21/Jun/2019:15:51:36 -0700', 'request': 'PATCH /niches HTTP/1.0'}\n",
      "{'host': '29.183.210.228', 'user_name': 'toy9491', 'time': '21/Jun/2019:15:51:38 -0700', 'request': 'DELETE /scale HTTP/1.0'}\n",
      "{'host': '111.64.171.65', 'user_name': 'stanton9204', 'time': '21/Jun/2019:15:51:43 -0700', 'request': 'PUT /cultivate HTTP/1.0'}\n",
      "{'host': '174.174.210.5', 'user_name': 'funk5090', 'time': '21/Jun/2019:15:51:46 -0700', 'request': 'HEAD /intuitive HTTP/2.0'}\n",
      "{'host': '61.48.202.41', 'user_name': 'walsh4800', 'time': '21/Jun/2019:15:51:55 -0700', 'request': 'POST /disintermediate HTTP/1.0'}\n",
      "{'host': '155.35.201.177', 'user_name': 'eichmann8620', 'time': '21/Jun/2019:15:51:57 -0700', 'request': 'POST /morph HTTP/1.1'}\n",
      "{'host': '114.109.41.74', 'user_name': '-', 'time': '21/Jun/2019:15:52:02 -0700', 'request': 'GET /morph HTTP/2.0'}\n",
      "{'host': '98.195.245.214', 'user_name': '-', 'time': '21/Jun/2019:15:52:05 -0700', 'request': 'PUT /channels HTTP/2.0'}\n",
      "{'host': '57.161.31.62', 'user_name': '-', 'time': '21/Jun/2019:15:52:19 -0700', 'request': 'DELETE /viral HTTP/1.1'}\n",
      "{'host': '24.212.111.42', 'user_name': 'reilly5235', 'time': '21/Jun/2019:15:52:20 -0700', 'request': 'GET /niches HTTP/1.0'}\n",
      "{'host': '210.159.24.173', 'user_name': 'jacobs7691', 'time': '21/Jun/2019:15:52:21 -0700', 'request': 'PATCH /portals HTTP/1.0'}\n",
      "{'host': '154.37.76.207', 'user_name': 'schowalter4620', 'time': '21/Jun/2019:15:52:22 -0700', 'request': 'PATCH /envisioneer HTTP/1.0'}\n",
      "{'host': '140.2.207.126', 'user_name': '-', 'time': '21/Jun/2019:15:52:24 -0700', 'request': 'GET /impactful HTTP/1.1'}\n",
      "{'host': '160.189.253.237', 'user_name': '-', 'time': '21/Jun/2019:15:52:26 -0700', 'request': 'GET /aggregate HTTP/2.0'}\n",
      "{'host': '107.32.126.199', 'user_name': 'schmidt4514', 'time': '21/Jun/2019:15:52:27 -0700', 'request': 'GET /optimize HTTP/1.1'}\n",
      "{'host': '225.216.200.227', 'user_name': 'bartell3136', 'time': '21/Jun/2019:15:52:33 -0700', 'request': 'POST /enable HTTP/1.1'}\n",
      "{'host': '244.172.72.142', 'user_name': '-', 'time': '21/Jun/2019:15:52:37 -0700', 'request': 'PATCH /mindshare HTTP/2.0'}\n",
      "{'host': '245.2.226.215', 'user_name': 'rau3028', 'time': '21/Jun/2019:15:52:40 -0700', 'request': 'PUT /integrate HTTP/2.0'}\n",
      "{'host': '196.228.156.210', 'user_name': 'parisian7014', 'time': '21/Jun/2019:15:52:43 -0700', 'request': 'HEAD /synergize HTTP/1.0'}\n",
      "{'host': '107.121.136.255', 'user_name': 'wolff3688', 'time': '21/Jun/2019:15:52:44 -0700', 'request': 'POST /portals HTTP/1.0'}\n",
      "{'host': '7.44.169.193', 'user_name': '-', 'time': '21/Jun/2019:15:52:47 -0700', 'request': 'DELETE /models HTTP/2.0'}\n",
      "{'host': '20.80.28.12', 'user_name': 'hagenes4423', 'time': '21/Jun/2019:15:53:01 -0700', 'request': 'POST /harness HTTP/1.1'}\n",
      "{'host': '172.82.22.49', 'user_name': 'cummerata1461', 'time': '21/Jun/2019:15:53:12 -0700', 'request': 'GET /mindshare HTTP/1.1'}\n",
      "{'host': '85.160.9.60', 'user_name': '-', 'time': '21/Jun/2019:15:53:14 -0700', 'request': 'PATCH /incubate HTTP/2.0'}\n",
      "{'host': '119.228.175.191', 'user_name': 'mills5084', 'time': '21/Jun/2019:15:53:17 -0700', 'request': 'DELETE /robust HTTP/2.0'}\n",
      "{'host': '70.117.216.192', 'user_name': 'schultz9259', 'time': '21/Jun/2019:15:53:24 -0700', 'request': 'DELETE /strategic HTTP/2.0'}\n",
      "{'host': '205.174.167.205', 'user_name': '-', 'time': '21/Jun/2019:15:53:30 -0700', 'request': 'PUT /partnerships HTTP/1.0'}\n",
      "{'host': '187.108.233.86', 'user_name': '-', 'time': '21/Jun/2019:15:53:36 -0700', 'request': 'POST /harness HTTP/1.0'}\n",
      "{'host': '168.187.114.55', 'user_name': '-', 'time': '21/Jun/2019:15:53:38 -0700', 'request': 'PATCH /synthesize HTTP/1.0'}\n",
      "{'host': '243.52.53.16', 'user_name': '-', 'time': '21/Jun/2019:15:53:40 -0700', 'request': 'POST /impactful HTTP/1.0'}\n",
      "{'host': '26.228.235.113', 'user_name': 'renner7608', 'time': '21/Jun/2019:15:53:41 -0700', 'request': 'GET /intuitive HTTP/1.0'}\n",
      "{'host': '65.9.18.209', 'user_name': '-', 'time': '21/Jun/2019:15:53:47 -0700', 'request': 'PATCH /aggregate HTTP/1.0'}\n",
      "{'host': '111.215.175.31', 'user_name': 'roob7404', 'time': '21/Jun/2019:15:53:50 -0700', 'request': 'PUT /envisioneer HTTP/2.0'}\n",
      "{'host': '181.72.91.127', 'user_name': '-', 'time': '21/Jun/2019:15:53:51 -0700', 'request': 'DELETE /grow HTTP/1.0'}\n",
      "{'host': '24.20.15.114', 'user_name': '-', 'time': '21/Jun/2019:15:53:52 -0700', 'request': 'PATCH /deploy HTTP/1.1'}\n",
      "{'host': '19.245.212.207', 'user_name': 'walsh8648', 'time': '21/Jun/2019:15:54:03 -0700', 'request': 'GET /recontextualize HTTP/1.1'}\n",
      "{'host': '98.143.107.61', 'user_name': 'reilly5813', 'time': '21/Jun/2019:15:54:04 -0700', 'request': 'HEAD /channels HTTP/1.1'}\n",
      "{'host': '235.109.203.135', 'user_name': 'mitchell2009', 'time': '21/Jun/2019:15:54:12 -0700', 'request': 'POST /holistic HTTP/2.0'}\n",
      "{'host': '20.180.86.45', 'user_name': 'ritchie8554', 'time': '21/Jun/2019:15:54:16 -0700', 'request': 'PUT /holistic HTTP/1.1'}\n",
      "{'host': '96.233.17.26', 'user_name': '-', 'time': '21/Jun/2019:15:54:17 -0700', 'request': 'POST /deliver HTTP/1.0'}\n",
      "{'host': '185.89.247.140', 'user_name': 'leannon8734', 'time': '21/Jun/2019:15:54:34 -0700', 'request': 'GET /deliverables HTTP/2.0'}\n",
      "{'host': '219.142.205.21', 'user_name': 'oreilly3853', 'time': '21/Jun/2019:15:54:38 -0700', 'request': 'PUT /compelling HTTP/1.0'}\n",
      "{'host': '159.75.120.41', 'user_name': 'muller7604', 'time': '21/Jun/2019:15:54:42 -0700', 'request': 'GET /incentivize HTTP/2.0'}\n",
      "{'host': '222.90.182.151', 'user_name': 'braun1134', 'time': '21/Jun/2019:15:54:45 -0700', 'request': 'PATCH /transition HTTP/2.0'}\n",
      "{'host': '173.229.51.155', 'user_name': 'fahey6288', 'time': '21/Jun/2019:15:54:49 -0700', 'request': 'PUT /grow HTTP/1.0'}\n",
      "{'host': '123.179.141.133', 'user_name': 'hammes4241', 'time': '21/Jun/2019:15:54:55 -0700', 'request': 'GET /unleash HTTP/1.1'}\n",
      "{'host': '174.214.159.95', 'user_name': '-', 'time': '21/Jun/2019:15:54:57 -0700', 'request': 'PUT /visionary HTTP/1.0'}\n",
      "{'host': '67.233.253.149', 'user_name': 'dubuque4293', 'time': '21/Jun/2019:15:54:59 -0700', 'request': 'PATCH /synthesize HTTP/1.1'}\n",
      "{'host': '235.52.222.116', 'user_name': 'williamson4151', 'time': '21/Jun/2019:15:55:00 -0700', 'request': 'HEAD /initiatives HTTP/1.1'}\n",
      "{'host': '202.70.201.64', 'user_name': '-', 'time': '21/Jun/2019:15:55:01 -0700', 'request': 'PUT /facilitate HTTP/2.0'}\n",
      "{'host': '25.14.148.131', 'user_name': '-', 'time': '21/Jun/2019:15:55:17 -0700', 'request': 'DELETE /synthesize HTTP/2.0'}\n",
      "{'host': '173.140.74.179', 'user_name': 'rippin3809', 'time': '21/Jun/2019:15:55:32 -0700', 'request': 'POST /engage HTTP/2.0'}\n",
      "{'host': '149.212.98.132', 'user_name': 'kerluke1906', 'time': '21/Jun/2019:15:55:35 -0700', 'request': 'HEAD /reintermediate HTTP/1.1'}\n",
      "{'host': '95.189.63.113', 'user_name': '-', 'time': '21/Jun/2019:15:55:51 -0700', 'request': 'DELETE /generate HTTP/2.0'}\n",
      "{'host': '188.164.86.241', 'user_name': 'heller4638', 'time': '21/Jun/2019:15:55:56 -0700', 'request': 'PUT /repurpose HTTP/1.0'}\n",
      "{'host': '172.31.189.243', 'user_name': '-', 'time': '21/Jun/2019:15:55:58 -0700', 'request': 'DELETE /sexy HTTP/1.1'}\n",
      "{'host': '118.137.109.160', 'user_name': 'johnston9060', 'time': '21/Jun/2019:15:56:06 -0700', 'request': 'PATCH /scalable HTTP/1.1'}\n",
      "{'host': '148.174.255.122', 'user_name': '-', 'time': '21/Jun/2019:15:56:09 -0700', 'request': 'PATCH /recontextualize HTTP/2.0'}\n",
      "{'host': '197.140.130.185', 'user_name': '-', 'time': '21/Jun/2019:15:56:19 -0700', 'request': 'HEAD /architect HTTP/1.1'}\n",
      "{'host': '107.7.167.233', 'user_name': 'murray3331', 'time': '21/Jun/2019:15:56:20 -0700', 'request': 'GET /redefine HTTP/2.0'}\n",
      "{'host': '192.57.52.145', 'user_name': 'towne4044', 'time': '21/Jun/2019:15:56:23 -0700', 'request': 'GET /content HTTP/1.1'}\n",
      "{'host': '127.205.99.23', 'user_name': '-', 'time': '21/Jun/2019:15:56:27 -0700', 'request': 'GET /portals HTTP/2.0'}\n",
      "{'host': '188.190.101.81', 'user_name': 'klocko5793', 'time': '21/Jun/2019:15:56:47 -0700', 'request': 'POST /strategic HTTP/2.0'}\n",
      "{'host': '59.124.141.224', 'user_name': '-', 'time': '21/Jun/2019:15:56:59 -0700', 'request': 'PATCH /networks HTTP/1.1'}\n",
      "{'host': '156.213.93.143', 'user_name': 'steuber8372', 'time': '21/Jun/2019:15:57:00 -0700', 'request': 'HEAD /scale HTTP/1.1'}\n",
      "{'host': '36.72.238.73', 'user_name': '-', 'time': '21/Jun/2019:15:57:06 -0700', 'request': 'POST /scalable HTTP/2.0'}\n",
      "{'host': '180.126.85.151', 'user_name': 'deckow7418', 'time': '21/Jun/2019:15:57:08 -0700', 'request': 'POST /unleash HTTP/1.1'}\n",
      "{'host': '96.231.226.192', 'user_name': '-', 'time': '21/Jun/2019:15:57:16 -0700', 'request': 'DELETE /rich HTTP/1.1'}\n",
      "{'host': '7.206.19.172', 'user_name': '-', 'time': '21/Jun/2019:15:57:17 -0700', 'request': 'HEAD /extensible HTTP/1.0'}\n",
      "{'host': '109.116.7.153', 'user_name': 'gaylord6916', 'time': '21/Jun/2019:15:57:18 -0700', 'request': 'PATCH /users HTTP/1.0'}\n",
      "{'host': '234.239.225.164', 'user_name': 'sporer4003', 'time': '21/Jun/2019:15:57:22 -0700', 'request': 'POST /recontextualize HTTP/2.0'}\n",
      "{'host': '124.13.254.49', 'user_name': 'sanford8578', 'time': '21/Jun/2019:15:57:29 -0700', 'request': 'DELETE /synthesize HTTP/1.1'}\n",
      "{'host': '150.168.105.7', 'user_name': 'hartmann1002', 'time': '21/Jun/2019:15:57:31 -0700', 'request': 'PATCH /models HTTP/1.0'}\n",
      "{'host': '73.223.129.11', 'user_name': 'feil4273', 'time': '21/Jun/2019:15:57:36 -0700', 'request': 'GET /transform HTTP/1.1'}\n",
      "{'host': '97.198.65.211', 'user_name': '-', 'time': '21/Jun/2019:15:57:40 -0700', 'request': 'PATCH /roi HTTP/1.1'}\n",
      "{'host': '193.131.168.19', 'user_name': '-', 'time': '21/Jun/2019:15:57:55 -0700', 'request': 'HEAD /rich HTTP/1.0'}\n",
      "{'host': '54.244.162.130', 'user_name': 'kilback2657', 'time': '21/Jun/2019:15:58:03 -0700', 'request': 'GET /engineer HTTP/1.0'}\n",
      "{'host': '140.250.112.142', 'user_name': '-', 'time': '21/Jun/2019:15:58:06 -0700', 'request': 'PATCH /channels HTTP/1.0'}\n",
      "{'host': '164.242.68.20', 'user_name': '-', 'time': '21/Jun/2019:15:58:08 -0700', 'request': 'DELETE /revolutionary HTTP/1.1'}\n",
      "{'host': '253.155.125.104', 'user_name': 'brakus4461', 'time': '21/Jun/2019:15:58:14 -0700', 'request': 'GET /bandwidth HTTP/1.0'}\n",
      "{'host': '41.174.211.212', 'user_name': '-', 'time': '21/Jun/2019:15:58:25 -0700', 'request': 'GET /applications HTTP/1.0'}\n",
      "{'host': '194.203.51.120', 'user_name': 'boyer5523', 'time': '21/Jun/2019:15:58:27 -0700', 'request': 'PATCH /frictionless HTTP/1.0'}\n",
      "{'host': '165.249.92.241', 'user_name': '-', 'time': '21/Jun/2019:15:58:31 -0700', 'request': 'GET /synergize HTTP/1.0'}\n",
      "{'host': '234.117.105.178', 'user_name': '-', 'time': '21/Jun/2019:15:58:32 -0700', 'request': 'PATCH /iterate HTTP/2.0'}\n",
      "{'host': '46.16.192.9', 'user_name': '-', 'time': '21/Jun/2019:15:58:34 -0700', 'request': 'GET /productize HTTP/2.0'}\n",
      "{'host': '222.176.136.241', 'user_name': '-', 'time': '21/Jun/2019:15:58:38 -0700', 'request': 'POST /holistic HTTP/1.0'}\n",
      "{'host': '108.248.72.200', 'user_name': '-', 'time': '21/Jun/2019:15:58:40 -0700', 'request': 'PUT /metrics HTTP/2.0'}\n",
      "{'host': '33.174.225.22', 'user_name': '-', 'time': '21/Jun/2019:15:58:44 -0700', 'request': 'PATCH /architectures HTTP/1.0'}\n",
      "{'host': '100.145.250.142', 'user_name': '-', 'time': '21/Jun/2019:15:58:49 -0700', 'request': 'POST /envisioneer HTTP/1.1'}\n",
      "{'host': '244.152.133.87', 'user_name': '-', 'time': '21/Jun/2019:15:58:53 -0700', 'request': 'POST /metrics HTTP/1.1'}\n",
      "{'host': '8.117.240.56', 'user_name': 'pouros2120', 'time': '21/Jun/2019:15:58:58 -0700', 'request': 'GET /reintermediate HTTP/1.0'}\n",
      "{'host': '229.128.199.145', 'user_name': 'kris7724', 'time': '21/Jun/2019:15:59:00 -0700', 'request': 'POST /reinvent HTTP/1.1'}\n",
      "{'host': '80.109.208.191', 'user_name': '-', 'time': '21/Jun/2019:15:59:05 -0700', 'request': 'GET /leverage HTTP/1.0'}\n",
      "{'host': '107.217.24.59', 'user_name': '-', 'time': '21/Jun/2019:15:59:11 -0700', 'request': 'GET /expedite HTTP/1.1'}\n",
      "{'host': '217.48.238.45', 'user_name': '-', 'time': '21/Jun/2019:15:59:13 -0700', 'request': 'GET /paradigms HTTP/1.0'}\n",
      "{'host': '118.215.32.132', 'user_name': '-', 'time': '21/Jun/2019:15:59:25 -0700', 'request': 'PUT /strategic HTTP/1.1'}\n",
      "{'host': '233.42.173.172', 'user_name': '-', 'time': '21/Jun/2019:15:59:37 -0700', 'request': 'GET /expedite HTTP/1.0'}\n",
      "{'host': '160.83.97.225', 'user_name': 'gaylord3825', 'time': '21/Jun/2019:15:59:38 -0700', 'request': 'DELETE /infomediaries HTTP/1.1'}\n",
      "{'host': '178.51.230.221', 'user_name': 'beer4262', 'time': '21/Jun/2019:15:59:59 -0700', 'request': 'PUT /portals HTTP/1.0'}\n",
      "{'host': '54.182.101.16', 'user_name': '-', 'time': '21/Jun/2019:16:00:06 -0700', 'request': 'DELETE /schemas HTTP/2.0'}\n",
      "{'host': '130.4.238.6', 'user_name': 'thompson4128', 'time': '21/Jun/2019:16:00:14 -0700', 'request': 'PUT /whiteboard HTTP/1.1'}\n",
      "{'host': '172.200.189.116', 'user_name': 'moen2257', 'time': '21/Jun/2019:16:00:16 -0700', 'request': 'PUT /visionary HTTP/2.0'}\n",
      "{'host': '128.230.157.15', 'user_name': 'koch1729', 'time': '21/Jun/2019:16:00:19 -0700', 'request': 'POST /revolutionize HTTP/1.1'}\n",
      "{'host': '116.135.195.23', 'user_name': '-', 'time': '21/Jun/2019:16:00:25 -0700', 'request': 'HEAD /deliverables HTTP/1.0'}\n",
      "{'host': '178.205.28.42', 'user_name': 'koss1578', 'time': '21/Jun/2019:16:00:26 -0700', 'request': 'DELETE /convergence HTTP/2.0'}\n",
      "{'host': '85.65.192.87', 'user_name': '-', 'time': '21/Jun/2019:16:00:28 -0700', 'request': 'DELETE /platforms HTTP/1.0'}\n",
      "{'host': '116.144.162.173', 'user_name': '-', 'time': '21/Jun/2019:16:00:30 -0700', 'request': 'POST /sticky HTTP/2.0'}\n",
      "{'host': '100.200.147.71', 'user_name': '-', 'time': '21/Jun/2019:16:00:39 -0700', 'request': 'DELETE /incubate HTTP/2.0'}\n",
      "{'host': '195.58.191.112', 'user_name': 'boyer8373', 'time': '21/Jun/2019:16:00:41 -0700', 'request': 'DELETE /integrate HTTP/2.0'}\n",
      "{'host': '137.216.228.137', 'user_name': '-', 'time': '21/Jun/2019:16:00:48 -0700', 'request': 'DELETE /efficient HTTP/1.0'}\n",
      "{'host': '148.191.73.128', 'user_name': '-', 'time': '21/Jun/2019:16:00:50 -0700', 'request': 'PUT /schemas HTTP/2.0'}\n",
      "{'host': '218.91.27.210', 'user_name': 'turcotte8545', 'time': '21/Jun/2019:16:00:53 -0700', 'request': 'POST /redefine HTTP/1.0'}\n",
      "{'host': '197.150.196.204', 'user_name': 'thiel4558', 'time': '21/Jun/2019:16:01:05 -0700', 'request': 'PATCH /compelling HTTP/2.0'}\n",
      "{'host': '21.65.184.146', 'user_name': 'lockman2593', 'time': '21/Jun/2019:16:01:07 -0700', 'request': 'DELETE /sexy HTTP/1.1'}\n",
      "{'host': '95.253.30.75', 'user_name': 'herzog9094', 'time': '21/Jun/2019:16:01:11 -0700', 'request': 'POST /mindshare HTTP/1.1'}\n",
      "{'host': '109.208.102.251', 'user_name': 'schroeder2270', 'time': '21/Jun/2019:16:01:14 -0700', 'request': 'DELETE /leverage HTTP/2.0'}\n",
      "{'host': '233.40.58.83', 'user_name': '-', 'time': '21/Jun/2019:16:01:16 -0700', 'request': 'GET /impactful HTTP/2.0'}\n",
      "{'host': '173.31.138.234', 'user_name': '-', 'time': '21/Jun/2019:16:01:25 -0700', 'request': 'DELETE /models HTTP/1.1'}\n",
      "{'host': '69.218.146.39', 'user_name': 'kohler8056', 'time': '21/Jun/2019:16:01:26 -0700', 'request': 'HEAD /systems HTTP/1.0'}\n",
      "{'host': '126.63.247.146', 'user_name': 'leuschke4130', 'time': '21/Jun/2019:16:01:29 -0700', 'request': 'GET /collaborative HTTP/2.0'}\n",
      "{'host': '193.252.191.251', 'user_name': 'roob3235', 'time': '21/Jun/2019:16:01:36 -0700', 'request': 'POST /extensible HTTP/1.1'}\n",
      "{'host': '176.68.62.252', 'user_name': 'turner3261', 'time': '21/Jun/2019:16:02:00 -0700', 'request': 'GET /viral HTTP/1.1'}\n",
      "{'host': '35.86.149.61', 'user_name': 'zemlak6334', 'time': '21/Jun/2019:16:02:01 -0700', 'request': 'HEAD /incentivize HTTP/2.0'}\n"
     ]
    }
   ],
   "source": [
    "pattern=\"\"\"\n",
    "(?P<host>\\d+[.]\\d+[.]\\d+[.]\\d+)\n",
    "(\\s-\\s)\n",
    "(?P<user_name>[a-z-]\\S*)\n",
    "(\\s\\[)\n",
    "(?P<time>\\d*\\/\\w*\\/\\d*\\:\\d*\\d*\\:\\d*\\:\\d*\\s[-]\\d*)\n",
    "(\\]\\s\\\")\n",
    "(?P<request>[A-Z]*\\s\\/[a-z]*\\s[A-Z]*\\/\\d*[.]\\d*)\n",
    "\"\"\"\n",
    "\n",
    "for item in re.finditer(pattern,logdata, re.VERBOSE):\n",
    "    print(item.groupdict())"
   ]
  },
  {
   "cell_type": "code",
   "execution_count": 404,
   "id": "f42ca771",
   "metadata": {},
   "outputs": [],
   "source": [
    "req = re.findall('(\\d+[.]\\d+[.]\\d+[.]\\d+) - ([a-z-]\\S*) [\\[](\\S+ -0700)\\] \"([A-Z]\\S+ \\/\\S+ HTTP\\/[0-9.]+)',logdata)"
   ]
  },
  {
   "cell_type": "code",
   "execution_count": 405,
   "id": "51af8c64",
   "metadata": {},
   "outputs": [
    {
     "data": {
      "text/plain": [
       "[('146.204.224.152',\n",
       "  'feest6811',\n",
       "  '21/Jun/2019:15:45:24 -0700',\n",
       "  'POST /incentivize HTTP/1.1'),\n",
       " ('197.109.77.178',\n",
       "  'kertzmann3129',\n",
       "  '21/Jun/2019:15:45:25 -0700',\n",
       "  'DELETE /virtual/solutions/target/web+services HTTP/2.0'),\n",
       " ('156.127.178.177',\n",
       "  'okuneva5222',\n",
       "  '21/Jun/2019:15:45:27 -0700',\n",
       "  'DELETE /interactive/transparent/niches/revolutionize HTTP/1.1'),\n",
       " ('100.32.205.59',\n",
       "  'ortiz8891',\n",
       "  '21/Jun/2019:15:45:28 -0700',\n",
       "  'PATCH /architectures HTTP/1.0'),\n",
       " ('168.95.156.240',\n",
       "  'stark2413',\n",
       "  '21/Jun/2019:15:45:31 -0700',\n",
       "  'GET /engage HTTP/2.0'),\n",
       " ('71.172.239.195',\n",
       "  'dooley1853',\n",
       "  '21/Jun/2019:15:45:32 -0700',\n",
       "  'PUT /cutting-edge HTTP/2.0'),\n",
       " ('180.95.121.94',\n",
       "  'mohr6893',\n",
       "  '21/Jun/2019:15:45:34 -0700',\n",
       "  'PATCH /extensible/reinvent HTTP/1.1'),\n",
       " ('144.23.247.108',\n",
       "  'auer7552',\n",
       "  '21/Jun/2019:15:45:35 -0700',\n",
       "  'POST /extensible/infrastructures/one-to-one/enterprise HTTP/1.1'),\n",
       " ('2.179.103.97',\n",
       "  'lind8584',\n",
       "  '21/Jun/2019:15:45:36 -0700',\n",
       "  'POST /grow/front-end/e-commerce/robust HTTP/2.0'),\n",
       " ('241.114.184.133',\n",
       "  'tromp8355',\n",
       "  '21/Jun/2019:15:45:37 -0700',\n",
       "  'GET /redefine/orchestrate HTTP/1.0'),\n",
       " ('224.188.38.4',\n",
       "  'keebler1423',\n",
       "  '21/Jun/2019:15:45:40 -0700',\n",
       "  'PUT /orchestrate/out-of-the-box/unleash/syndicate HTTP/1.1'),\n",
       " ('94.11.36.112',\n",
       "  'klein8508',\n",
       "  '21/Jun/2019:15:45:41 -0700',\n",
       "  'POST /enhance/solutions/bricks-and-clicks HTTP/1.1'),\n",
       " ('126.196.238.197',\n",
       "  'gusikowski9864',\n",
       "  '21/Jun/2019:15:45:45 -0700',\n",
       "  'DELETE /rich/reinvent HTTP/2.0'),\n",
       " ('103.247.168.212',\n",
       "  'medhurst2732',\n",
       "  '21/Jun/2019:15:45:49 -0700',\n",
       "  'HEAD /scale/global/leverage HTTP/1.0'),\n",
       " ('57.86.153.68',\n",
       "  'dubuque8645',\n",
       "  '21/Jun/2019:15:45:50 -0700',\n",
       "  'POST /innovative/roi/robust/systems HTTP/1.1'),\n",
       " ('231.220.8.214',\n",
       "  'luettgen1860',\n",
       "  '21/Jun/2019:15:45:52 -0700',\n",
       "  'HEAD /systems/sexy HTTP/1.1'),\n",
       " ('219.133.7.154',\n",
       "  'price5585',\n",
       "  '21/Jun/2019:15:45:53 -0700',\n",
       "  'GET /incubate/incubate HTTP/1.1'),\n",
       " ('159.252.184.44',\n",
       "  'fay7852',\n",
       "  '21/Jun/2019:15:45:54 -0700',\n",
       "  'GET /convergence HTTP/2.0'),\n",
       " ('40.167.172.66',\n",
       "  'kshlerin3090',\n",
       "  '21/Jun/2019:15:45:57 -0700',\n",
       "  'HEAD /convergence HTTP/2.0'),\n",
       " ('167.153.239.72',\n",
       "  'schaden8853',\n",
       "  '21/Jun/2019:15:45:58 -0700',\n",
       "  'DELETE /bandwidth/reintermediate/engage HTTP/2.0'),\n",
       " ('115.214.173.248',\n",
       "  'hauck8214',\n",
       "  '21/Jun/2019:15:46:00 -0700',\n",
       "  'PUT /optimize HTTP/1.1'),\n",
       " ('21.43.188.186',\n",
       "  'kunze2653',\n",
       "  '21/Jun/2019:15:46:02 -0700',\n",
       "  'DELETE /bandwidth/turn-key/users HTTP/2.0'),\n",
       " ('86.187.99.249',\n",
       "  'tillman6650',\n",
       "  '21/Jun/2019:15:46:03 -0700',\n",
       "  'POST /efficient/unleash HTTP/1.1'),\n",
       " ('76.72.133.93',\n",
       "  'carroll1056',\n",
       "  '21/Jun/2019:15:46:05 -0700',\n",
       "  'POST /morph/optimize/plug-and-play HTTP/2.0'),\n",
       " ('73.162.151.229',\n",
       "  'dubuque3528',\n",
       "  '21/Jun/2019:15:46:08 -0700',\n",
       "  'DELETE /transition/holistic/e-business HTTP/2.0'),\n",
       " ('13.112.8.80',\n",
       "  'rau5026',\n",
       "  '21/Jun/2019:15:46:09 -0700',\n",
       "  'HEAD /ubiquitous/transparent HTTP/1.1'),\n",
       " ('159.253.153.40',\n",
       "  '-',\n",
       "  '21/Jun/2019:15:46:10 -0700',\n",
       "  'POST /e-business HTTP/1.0'),\n",
       " ('136.195.158.6',\n",
       "  'feeney9464',\n",
       "  '21/Jun/2019:15:46:11 -0700',\n",
       "  'HEAD /open-source/markets HTTP/2.0'),\n",
       " ('219.194.113.255',\n",
       "  '-',\n",
       "  '21/Jun/2019:15:46:12 -0700',\n",
       "  'PATCH /next-generation/niches/mindshare HTTP/1.0'),\n",
       " ('59.101.239.174',\n",
       "  'brekke3293',\n",
       "  '21/Jun/2019:15:46:13 -0700',\n",
       "  'DELETE /ubiquitous/seize/web-enabled HTTP/2.0'),\n",
       " ('233.187.15.207',\n",
       "  '-',\n",
       "  '21/Jun/2019:15:46:14 -0700',\n",
       "  'GET /harness/intuitive HTTP/1.0'),\n",
       " ('62.79.96.179',\n",
       "  'mayer1069',\n",
       "  '21/Jun/2019:15:46:15 -0700',\n",
       "  'HEAD /facilitate HTTP/1.0'),\n",
       " ('217.70.194.150',\n",
       "  'batz2602',\n",
       "  '21/Jun/2019:15:46:16 -0700',\n",
       "  'PUT /functionalities/channels/productize/mission-critical HTTP/2.0'),\n",
       " ('161.242.130.180',\n",
       "  '-',\n",
       "  '21/Jun/2019:15:46:17 -0700',\n",
       "  'DELETE /methodologies/experiences HTTP/2.0'),\n",
       " ('155.127.24.96',\n",
       "  '-',\n",
       "  '21/Jun/2019:15:46:18 -0700',\n",
       "  'POST /mindshare/optimize/vertical HTTP/2.0'),\n",
       " ('63.208.115.205',\n",
       "  '-',\n",
       "  '21/Jun/2019:15:46:19 -0700',\n",
       "  'PATCH /revolutionize HTTP/1.0'),\n",
       " ('5.10.80.69',\n",
       "  '-',\n",
       "  '21/Jun/2019:15:46:20 -0700',\n",
       "  'PATCH /niches/back-end HTTP/2.0'),\n",
       " ('11.57.203.39',\n",
       "  'carroll8889',\n",
       "  '21/Jun/2019:15:46:21 -0700',\n",
       "  'HEAD /visionary/cultivate HTTP/1.1'),\n",
       " ('124.137.187.175',\n",
       "  '-',\n",
       "  '21/Jun/2019:15:46:22 -0700',\n",
       "  'DELETE /expedite/exploit/cultivate/web-enabled HTTP/1.0'),\n",
       " ('203.36.55.39',\n",
       "  'collins6322',\n",
       "  '21/Jun/2019:15:46:23 -0700',\n",
       "  'PATCH /efficient/productize/disintermediate HTTP/1.1'),\n",
       " ('175.5.52.40',\n",
       "  '-',\n",
       "  '21/Jun/2019:15:46:24 -0700',\n",
       "  'POST /real-time HTTP/1.1'),\n",
       " ('232.220.131.214',\n",
       "  '-',\n",
       "  '21/Jun/2019:15:46:25 -0700',\n",
       "  'GET /wireless/matrix/synergistic/expedite HTTP/1.1'),\n",
       " ('87.234.209.125',\n",
       "  'labadie6990',\n",
       "  '21/Jun/2019:15:46:26 -0700',\n",
       "  'GET /unleash/aggregate HTTP/2.0'),\n",
       " ('177.164.9.130',\n",
       "  'collins9387',\n",
       "  '21/Jun/2019:15:46:27 -0700',\n",
       "  'DELETE /portals/evolve/proactive HTTP/1.0'),\n",
       " ('71.17.229.20',\n",
       "  '-',\n",
       "  '21/Jun/2019:15:46:28 -0700',\n",
       "  'POST /incubate/rich/web+services/markets HTTP/1.1'),\n",
       " ('161.106.82.60',\n",
       "  'yundt9152',\n",
       "  '21/Jun/2019:15:46:29 -0700',\n",
       "  'PUT /e-tailers HTTP/1.1'),\n",
       " ('118.244.60.25',\n",
       "  '-',\n",
       "  '21/Jun/2019:15:46:30 -0700',\n",
       "  'PATCH /orchestrate/mission-critical/cross-platform/scalable HTTP/1.0'),\n",
       " ('226.97.226.58',\n",
       "  'kautzer4542',\n",
       "  '21/Jun/2019:15:46:31 -0700',\n",
       "  'PATCH /functionalities/convergence/repurpose/reinvent HTTP/1.1'),\n",
       " ('153.60.64.187',\n",
       "  '-',\n",
       "  '21/Jun/2019:15:46:32 -0700',\n",
       "  'HEAD /schemas HTTP/1.1'),\n",
       " ('226.59.29.125',\n",
       "  '-',\n",
       "  '21/Jun/2019:15:46:33 -0700',\n",
       "  'POST /enable/e-business/orchestrate/portals HTTP/2.0'),\n",
       " ('180.234.185.134',\n",
       "  'windler5463',\n",
       "  '21/Jun/2019:15:46:34 -0700',\n",
       "  'POST /synergies/innovative/enterprise HTTP/1.1'),\n",
       " ('202.186.241.42',\n",
       "  '-',\n",
       "  '21/Jun/2019:15:46:35 -0700',\n",
       "  'HEAD /visualize/mindshare/orchestrate/optimize HTTP/2.0'),\n",
       " ('130.240.69.236',\n",
       "  'hoeger9514',\n",
       "  '21/Jun/2019:15:46:36 -0700',\n",
       "  'PUT /drive HTTP/2.0'),\n",
       " ('226.187.228.119',\n",
       "  'bednar5295',\n",
       "  '21/Jun/2019:15:46:37 -0700',\n",
       "  'HEAD /streamline/metrics/visionary/deliverables HTTP/1.1'),\n",
       " ('169.191.251.30',\n",
       "  'champlin3406',\n",
       "  '21/Jun/2019:15:46:38 -0700',\n",
       "  'PUT /out-of-the-box/value-added/engineer HTTP/2.0'),\n",
       " ('33.212.159.241',\n",
       "  'kertzmann4700',\n",
       "  '21/Jun/2019:15:46:39 -0700',\n",
       "  'HEAD /evolve/drive/transition HTTP/1.1'),\n",
       " ('151.2.27.136',\n",
       "  'kunde3872',\n",
       "  '21/Jun/2019:15:46:40 -0700',\n",
       "  'HEAD /monetize HTTP/1.1'),\n",
       " ('164.193.154.113',\n",
       "  '-',\n",
       "  '21/Jun/2019:15:46:41 -0700',\n",
       "  'PUT /virtual/compelling HTTP/1.1'),\n",
       " ('230.72.69.136',\n",
       "  'quitzon6990',\n",
       "  '21/Jun/2019:15:46:42 -0700',\n",
       "  'POST /channels HTTP/1.1'),\n",
       " ('189.128.147.107',\n",
       "  'johnson1417',\n",
       "  '21/Jun/2019:15:46:43 -0700',\n",
       "  'PUT /synergize/innovative HTTP/1.0'),\n",
       " ('40.78.198.130',\n",
       "  '-',\n",
       "  '21/Jun/2019:15:46:44 -0700',\n",
       "  'DELETE /e-enable/architectures/orchestrate HTTP/1.0'),\n",
       " ('63.134.169.160',\n",
       "  '-',\n",
       "  '21/Jun/2019:15:46:45 -0700',\n",
       "  'PUT /syndicate HTTP/1.1'),\n",
       " ('98.74.141.240',\n",
       "  'terry3353',\n",
       "  '21/Jun/2019:15:46:46 -0700',\n",
       "  'GET /paradigms/reintermediate/web-enabled HTTP/1.1'),\n",
       " ('249.157.76.12',\n",
       "  'doyle8092',\n",
       "  '21/Jun/2019:15:46:47 -0700',\n",
       "  'HEAD /end-to-end/open-source/markets HTTP/1.0'),\n",
       " ('191.83.194.6',\n",
       "  'tillman4353',\n",
       "  '21/Jun/2019:15:46:48 -0700',\n",
       "  'PATCH /frictionless/evolve/methodologies HTTP/1.1'),\n",
       " ('161.10.120.228',\n",
       "  '-',\n",
       "  '21/Jun/2019:15:46:49 -0700',\n",
       "  'DELETE /transform/optimize/envisioneer HTTP/1.0'),\n",
       " ('28.251.116.209',\n",
       "  'wuckert7686',\n",
       "  '21/Jun/2019:15:46:50 -0700',\n",
       "  'DELETE /productize/maximize HTTP/1.1'),\n",
       " ('146.37.57.224',\n",
       "  '-',\n",
       "  '21/Jun/2019:15:46:51 -0700',\n",
       "  'PUT /strategize/web+services/envisioneer HTTP/1.1'),\n",
       " ('113.136.44.97',\n",
       "  'schinner1581',\n",
       "  '21/Jun/2019:15:46:52 -0700',\n",
       "  'HEAD /intuitive/communities/maximize/repurpose HTTP/1.1'),\n",
       " ('236.57.192.231',\n",
       "  '-',\n",
       "  '21/Jun/2019:15:46:53 -0700',\n",
       "  'GET /whiteboard HTTP/1.1'),\n",
       " ('148.185.136.238',\n",
       "  'will3148',\n",
       "  '21/Jun/2019:15:46:54 -0700',\n",
       "  'PUT /interactive/target HTTP/1.0'),\n",
       " ('217.244.200.194',\n",
       "  '-',\n",
       "  '21/Jun/2019:15:46:55 -0700',\n",
       "  'PUT /plug-and-play/whiteboard/markets/seize HTTP/2.0'),\n",
       " ('192.57.65.185',\n",
       "  'beatty2311',\n",
       "  '21/Jun/2019:15:46:56 -0700',\n",
       "  'GET /customized/incentivize HTTP/2.0'),\n",
       " ('34.188.163.50',\n",
       "  '-',\n",
       "  '21/Jun/2019:15:46:57 -0700',\n",
       "  'PATCH /interactive/architect/innovative/24%2f7 HTTP/1.1'),\n",
       " ('174.36.25.145',\n",
       "  'reinger5141',\n",
       "  '21/Jun/2019:15:46:58 -0700',\n",
       "  'GET /e-business/reintermediate/magnetic HTTP/1.1'),\n",
       " ('109.108.118.102',\n",
       "  'greenfelder4613',\n",
       "  '21/Jun/2019:15:46:59 -0700',\n",
       "  'PUT /networks/strategize/b2c HTTP/2.0'),\n",
       " ('207.93.9.141',\n",
       "  'kulas9437',\n",
       "  '21/Jun/2019:15:47:00 -0700',\n",
       "  'PATCH /user-centric HTTP/2.0'),\n",
       " ('23.48.88.246',\n",
       "  'boyer9465',\n",
       "  '21/Jun/2019:15:47:01 -0700',\n",
       "  'PUT /global/collaborative/synthesize HTTP/1.0'),\n",
       " ('11.130.135.213',\n",
       "  '-',\n",
       "  '21/Jun/2019:15:47:02 -0700',\n",
       "  'POST /plug-and-play/harness HTTP/2.0'),\n",
       " ('135.213.8.200',\n",
       "  '-',\n",
       "  '21/Jun/2019:15:47:03 -0700',\n",
       "  'HEAD /strategize/synergies/e-services/synthesize HTTP/1.1'),\n",
       " ('60.123.73.56',\n",
       "  '-',\n",
       "  '21/Jun/2019:15:47:04 -0700',\n",
       "  'HEAD /cross-media/optimize HTTP/2.0'),\n",
       " ('13.24.14.8',\n",
       "  '-',\n",
       "  '21/Jun/2019:15:47:05 -0700',\n",
       "  'POST /schemas/innovative/paradigms HTTP/1.1'),\n",
       " ('45.177.213.234',\n",
       "  '-',\n",
       "  '21/Jun/2019:15:47:06 -0700',\n",
       "  'PUT /24%2f365/supply-chains/vortals HTTP/1.0'),\n",
       " ('129.233.38.84',\n",
       "  '-',\n",
       "  '21/Jun/2019:15:47:07 -0700',\n",
       "  'DELETE /front-end HTTP/1.1'),\n",
       " ('80.153.139.233',\n",
       "  '-',\n",
       "  '21/Jun/2019:15:47:08 -0700',\n",
       "  'POST /supply-chains/magnetic HTTP/1.1'),\n",
       " ('199.111.169.6',\n",
       "  'jaskolski5282',\n",
       "  '21/Jun/2019:15:47:09 -0700',\n",
       "  'PUT /distributed/eyeballs/value-added/unleash HTTP/1.1'),\n",
       " ('21.24.38.93',\n",
       "  'roob7248',\n",
       "  '21/Jun/2019:15:47:10 -0700',\n",
       "  'DELETE /synergistic HTTP/1.1'),\n",
       " ('121.104.130.220',\n",
       "  'dach6856',\n",
       "  '21/Jun/2019:15:47:11 -0700',\n",
       "  'GET /infomediaries/e-business/metrics/interfaces HTTP/1.0'),\n",
       " ('132.15.162.37',\n",
       "  '-',\n",
       "  '21/Jun/2019:15:47:12 -0700',\n",
       "  'PUT /incentivize/open-source/exploit HTTP/1.0'),\n",
       " ('91.107.45.211',\n",
       "  'roob7504',\n",
       "  '21/Jun/2019:15:47:13 -0700',\n",
       "  'POST /transparent/one-to-one HTTP/1.0'),\n",
       " ('72.157.89.10',\n",
       "  '-',\n",
       "  '21/Jun/2019:15:47:14 -0700',\n",
       "  'PATCH /clicks-and-mortar/metrics HTTP/1.0'),\n",
       " ('105.8.97.99',\n",
       "  'nader4497',\n",
       "  '21/Jun/2019:15:47:15 -0700',\n",
       "  'PATCH /repurpose/b2b HTTP/1.0'),\n",
       " ('92.176.179.73',\n",
       "  'tromp7323',\n",
       "  '21/Jun/2019:15:47:16 -0700',\n",
       "  'POST /web+services/monetize/infomediaries HTTP/1.0'),\n",
       " ('124.113.245.136',\n",
       "  'koch7592',\n",
       "  '21/Jun/2019:15:47:17 -0700',\n",
       "  'PATCH /interfaces/portals HTTP/1.1'),\n",
       " ('153.207.83.135',\n",
       "  'fritsch7933',\n",
       "  '21/Jun/2019:15:47:18 -0700',\n",
       "  'POST /exploit/methodologies/proactive/paradigms HTTP/1.0'),\n",
       " ('118.174.11.239',\n",
       "  '-',\n",
       "  '21/Jun/2019:15:47:19 -0700',\n",
       "  'PATCH /front-end/communities HTTP/2.0'),\n",
       " ('210.99.35.196',\n",
       "  'nitzsche6699',\n",
       "  '21/Jun/2019:15:47:20 -0700',\n",
       "  'DELETE /wireless HTTP/1.1'),\n",
       " ('25.60.172.114',\n",
       "  '-',\n",
       "  '21/Jun/2019:15:47:21 -0700',\n",
       "  'HEAD /robust/systems/architect HTTP/2.0'),\n",
       " ('9.123.243.85',\n",
       "  '-',\n",
       "  '21/Jun/2019:15:47:22 -0700',\n",
       "  'DELETE /efficient/compelling/back-end HTTP/1.1'),\n",
       " ('187.185.236.178',\n",
       "  '-',\n",
       "  '21/Jun/2019:15:47:23 -0700',\n",
       "  'HEAD /bandwidth/harness HTTP/1.0'),\n",
       " ('245.247.95.68',\n",
       "  'cummerata3376',\n",
       "  '21/Jun/2019:15:47:24 -0700',\n",
       "  'GET /redefine HTTP/2.0'),\n",
       " ('203.217.133.243',\n",
       "  'gislason8036',\n",
       "  '21/Jun/2019:15:47:25 -0700',\n",
       "  'POST /visualize/incubate HTTP/1.0'),\n",
       " ('183.199.215.84',\n",
       "  'homenick3730',\n",
       "  '21/Jun/2019:15:47:26 -0700',\n",
       "  'POST /infrastructures/rich HTTP/2.0'),\n",
       " ('82.207.85.184',\n",
       "  'hansen5317',\n",
       "  '21/Jun/2019:15:47:27 -0700',\n",
       "  'POST /initiatives/vertical/leading-edge HTTP/2.0'),\n",
       " ('210.180.251.130',\n",
       "  '-',\n",
       "  '21/Jun/2019:15:47:28 -0700',\n",
       "  'GET /brand/implement/proactive HTTP/1.1'),\n",
       " ('22.135.157.6',\n",
       "  'runolfsdottir9957',\n",
       "  '21/Jun/2019:15:47:29 -0700',\n",
       "  'PUT /synergies/b2c HTTP/1.1'),\n",
       " ('34.185.208.17',\n",
       "  'wilderman1726',\n",
       "  '21/Jun/2019:15:47:30 -0700',\n",
       "  'DELETE /e-enable/granular/scale HTTP/2.0'),\n",
       " ('147.106.164.197',\n",
       "  'huels5802',\n",
       "  '21/Jun/2019:15:47:31 -0700',\n",
       "  'PATCH /communities/cultivate HTTP/1.1'),\n",
       " ('237.149.195.234',\n",
       "  'powlowski8494',\n",
       "  '21/Jun/2019:15:47:32 -0700',\n",
       "  'PATCH /productize HTTP/2.0'),\n",
       " ('10.180.30.149',\n",
       "  'farrell3121',\n",
       "  '21/Jun/2019:15:47:33 -0700',\n",
       "  'HEAD /vertical/schemas/rich/bandwidth HTTP/1.1'),\n",
       " ('42.27.103.225',\n",
       "  '-',\n",
       "  '21/Jun/2019:15:47:34 -0700',\n",
       "  'GET /expedite HTTP/1.1'),\n",
       " ('223.244.102.20',\n",
       "  'kozey1688',\n",
       "  '21/Jun/2019:15:47:35 -0700',\n",
       "  'HEAD /rich/models/user-centric/synergize HTTP/1.0'),\n",
       " ('97.79.223.219', '-', '21/Jun/2019:15:47:36 -0700', 'PUT /engage HTTP/1.1'),\n",
       " ('247.173.105.48',\n",
       "  'mosciski4497',\n",
       "  '21/Jun/2019:15:47:37 -0700',\n",
       "  'GET /visualize HTTP/1.0'),\n",
       " ('48.17.245.135',\n",
       "  'thompson4253',\n",
       "  '21/Jun/2019:15:47:38 -0700',\n",
       "  'HEAD /dynamic HTTP/1.1'),\n",
       " ('2.50.83.232',\n",
       "  '-',\n",
       "  '21/Jun/2019:15:47:39 -0700',\n",
       "  'POST /seamless/unleash HTTP/1.0'),\n",
       " ('147.226.217.25',\n",
       "  'stark2160',\n",
       "  '21/Jun/2019:15:47:40 -0700',\n",
       "  'GET /synergistic/utilize HTTP/1.0'),\n",
       " ('97.106.142.43',\n",
       "  '-',\n",
       "  '21/Jun/2019:15:47:41 -0700',\n",
       "  'HEAD /productize/leading-edge/expedite/harness HTTP/1.1'),\n",
       " ('4.68.176.38',\n",
       "  '-',\n",
       "  '21/Jun/2019:15:47:42 -0700',\n",
       "  'POST /enterprise HTTP/2.0'),\n",
       " ('225.65.31.51',\n",
       "  'koss1626',\n",
       "  '21/Jun/2019:15:47:43 -0700',\n",
       "  'DELETE /frictionless/transparent/extensible/revolutionary HTTP/1.1'),\n",
       " ('68.121.206.246',\n",
       "  '-',\n",
       "  '21/Jun/2019:15:47:44 -0700',\n",
       "  'POST /exploit/vertical HTTP/1.1'),\n",
       " ('137.121.171.78',\n",
       "  'mckenzie9789',\n",
       "  '21/Jun/2019:15:47:45 -0700',\n",
       "  'DELETE /seize/global HTTP/1.0'),\n",
       " ('130.219.221.187',\n",
       "  'auer9353',\n",
       "  '21/Jun/2019:15:47:46 -0700',\n",
       "  'GET /interactive/real-time/target HTTP/2.0'),\n",
       " ('245.30.107.108',\n",
       "  '-',\n",
       "  '21/Jun/2019:15:47:47 -0700',\n",
       "  'PATCH /sticky/scale/deploy/seamless HTTP/1.0'),\n",
       " ('9.67.204.83',\n",
       "  '-',\n",
       "  '21/Jun/2019:15:47:48 -0700',\n",
       "  'POST /infomediaries/innovative HTTP/1.0'),\n",
       " ('49.195.132.6',\n",
       "  'collins9784',\n",
       "  '21/Jun/2019:15:47:49 -0700',\n",
       "  'DELETE /bricks-and-clicks/recontextualize/seize HTTP/2.0'),\n",
       " ('233.53.164.32',\n",
       "  'maggio9908',\n",
       "  '21/Jun/2019:15:47:50 -0700',\n",
       "  'POST /global/channels/cross-media HTTP/1.1'),\n",
       " ('130.231.243.226',\n",
       "  '-',\n",
       "  '21/Jun/2019:15:47:51 -0700',\n",
       "  'GET /holistic HTTP/2.0'),\n",
       " ('124.10.38.5',\n",
       "  'hickle4568',\n",
       "  '21/Jun/2019:15:47:52 -0700',\n",
       "  'HEAD /bandwidth/users/morph HTTP/1.0'),\n",
       " ('143.36.60.178',\n",
       "  '-',\n",
       "  '21/Jun/2019:15:47:53 -0700',\n",
       "  'PUT /expedite/granular HTTP/2.0'),\n",
       " ('141.59.150.229',\n",
       "  'tremblay7489',\n",
       "  '21/Jun/2019:15:47:54 -0700',\n",
       "  'DELETE /platforms/maximize/interfaces/clicks-and-mortar HTTP/2.0'),\n",
       " ('230.250.234.246',\n",
       "  '-',\n",
       "  '21/Jun/2019:15:47:55 -0700',\n",
       "  'GET /experiences HTTP/1.0'),\n",
       " ('31.215.24.55',\n",
       "  'pfeffer6357',\n",
       "  '21/Jun/2019:15:47:56 -0700',\n",
       "  'HEAD /engage/magnetic HTTP/2.0'),\n",
       " ('148.137.75.120',\n",
       "  'gibson4540',\n",
       "  '21/Jun/2019:15:47:57 -0700',\n",
       "  'HEAD /b2b HTTP/2.0'),\n",
       " ('111.63.41.199',\n",
       "  'kirlin4598',\n",
       "  '21/Jun/2019:15:47:58 -0700',\n",
       "  'PUT /unleash/grow/models HTTP/2.0'),\n",
       " ('106.80.125.72',\n",
       "  'nienow5906',\n",
       "  '21/Jun/2019:15:47:59 -0700',\n",
       "  'GET /engineer/compelling/robust/infrastructures HTTP/1.0'),\n",
       " ('221.195.122.7',\n",
       "  '-',\n",
       "  '21/Jun/2019:15:48:00 -0700',\n",
       "  'PATCH /portals/channels/value-added HTTP/2.0'),\n",
       " ('75.233.100.105',\n",
       "  '-',\n",
       "  '21/Jun/2019:15:48:01 -0700',\n",
       "  'GET /generate/models/users HTTP/1.0'),\n",
       " ('65.42.94.224',\n",
       "  'wolff6881',\n",
       "  '21/Jun/2019:15:48:02 -0700',\n",
       "  'POST /extend/empower HTTP/1.1'),\n",
       " ('195.229.232.110',\n",
       "  '-',\n",
       "  '21/Jun/2019:15:48:03 -0700',\n",
       "  'POST /aggregate/bricks-and-clicks HTTP/1.1'),\n",
       " ('140.85.11.133',\n",
       "  '-',\n",
       "  '21/Jun/2019:15:48:04 -0700',\n",
       "  'PUT /e-commerce/niches/compelling HTTP/2.0'),\n",
       " ('63.106.221.202',\n",
       "  'roberts8938',\n",
       "  '21/Jun/2019:15:48:05 -0700',\n",
       "  'DELETE /reintermediate/envisioneer/innovative HTTP/1.1'),\n",
       " ('230.107.250.209',\n",
       "  '-',\n",
       "  '21/Jun/2019:15:48:06 -0700',\n",
       "  'PUT /e-tailers/turn-key/syndicate HTTP/1.0'),\n",
       " ('209.104.240.59',\n",
       "  '-',\n",
       "  '21/Jun/2019:15:48:07 -0700',\n",
       "  'PUT /brand/evolve HTTP/1.0'),\n",
       " ('177.112.83.120',\n",
       "  '-',\n",
       "  '21/Jun/2019:15:48:08 -0700',\n",
       "  'GET /convergence/enterprise HTTP/1.0'),\n",
       " ('66.233.63.11',\n",
       "  'yost2119',\n",
       "  '21/Jun/2019:15:48:09 -0700',\n",
       "  'PATCH /out-of-the-box/action-items HTTP/1.0'),\n",
       " ('44.103.233.51',\n",
       "  'krajcik9464',\n",
       "  '21/Jun/2019:15:48:10 -0700',\n",
       "  'DELETE /portals/extend/methodologies/integrate HTTP/1.0'),\n",
       " ('178.41.82.142',\n",
       "  'wuckert7752',\n",
       "  '21/Jun/2019:15:48:11 -0700',\n",
       "  'DELETE /evolve/clicks-and-mortar/architect HTTP/1.1'),\n",
       " ('27.213.87.112',\n",
       "  'kirlin4667',\n",
       "  '21/Jun/2019:15:48:12 -0700',\n",
       "  'PUT /models/best-of-breed/bricks-and-clicks HTTP/2.0'),\n",
       " ('75.237.100.203',\n",
       "  '-',\n",
       "  '21/Jun/2019:15:48:13 -0700',\n",
       "  'HEAD /incubate HTTP/1.0'),\n",
       " ('194.73.206.238',\n",
       "  '-',\n",
       "  '21/Jun/2019:15:48:14 -0700',\n",
       "  'PUT /intuitive HTTP/1.0'),\n",
       " ('125.236.198.20',\n",
       "  '-',\n",
       "  '21/Jun/2019:15:48:15 -0700',\n",
       "  'PATCH /strategize HTTP/1.1'),\n",
       " ('148.73.183.231',\n",
       "  '-',\n",
       "  '21/Jun/2019:15:48:16 -0700',\n",
       "  'PATCH /incentivize/target/engineer/engineer HTTP/1.0'),\n",
       " ('176.18.202.192',\n",
       "  '-',\n",
       "  '21/Jun/2019:15:48:17 -0700',\n",
       "  'PUT /leading-edge/synergies/infrastructures/user-centric HTTP/1.1'),\n",
       " ('73.112.25.186',\n",
       "  '-',\n",
       "  '21/Jun/2019:15:48:18 -0700',\n",
       "  'DELETE /partnerships/e-markets/efficient HTTP/1.1'),\n",
       " ('65.113.165.7',\n",
       "  'nitzsche2796',\n",
       "  '21/Jun/2019:15:48:19 -0700',\n",
       "  'DELETE /infomediaries/harness/expedite/orchestrate HTTP/2.0'),\n",
       " ('223.75.102.252',\n",
       "  'zemlak4312',\n",
       "  '21/Jun/2019:15:48:20 -0700',\n",
       "  'HEAD /e-tailers/sexy/extensible HTTP/1.0'),\n",
       " ('83.12.28.227',\n",
       "  'nolan1426',\n",
       "  '21/Jun/2019:15:48:21 -0700',\n",
       "  'DELETE /global/reintermediate HTTP/1.1'),\n",
       " ('129.194.112.95',\n",
       "  '-',\n",
       "  '21/Jun/2019:15:48:22 -0700',\n",
       "  'POST /seamless/leverage HTTP/1.0'),\n",
       " ('178.20.130.66',\n",
       "  'mayer2417',\n",
       "  '21/Jun/2019:15:48:23 -0700',\n",
       "  'GET /transparent HTTP/1.0'),\n",
       " ('93.61.70.250',\n",
       "  'cassin5420',\n",
       "  '21/Jun/2019:15:48:24 -0700',\n",
       "  'DELETE /portals HTTP/1.0'),\n",
       " ('77.5.250.80',\n",
       "  'bailey4806',\n",
       "  '21/Jun/2019:15:48:25 -0700',\n",
       "  'DELETE /enhance/e-business/impactful HTTP/2.0'),\n",
       " ('10.229.72.234',\n",
       "  'rogahn7487',\n",
       "  '21/Jun/2019:15:48:26 -0700',\n",
       "  'GET /web-readiness HTTP/1.0'),\n",
       " ('114.182.112.12',\n",
       "  'walter1917',\n",
       "  '21/Jun/2019:15:48:27 -0700',\n",
       "  'PUT /deliverables/benchmark HTTP/1.0'),\n",
       " ('197.35.190.56',\n",
       "  'cole1245',\n",
       "  '21/Jun/2019:15:48:28 -0700',\n",
       "  'HEAD /whiteboard/bleeding-edge/disintermediate/cultivate HTTP/1.0'),\n",
       " ('215.55.230.78',\n",
       "  '-',\n",
       "  '21/Jun/2019:15:48:29 -0700',\n",
       "  'PATCH /unleash/schemas HTTP/2.0'),\n",
       " ('147.108.125.10',\n",
       "  '-',\n",
       "  '21/Jun/2019:15:48:30 -0700',\n",
       "  'DELETE /architect HTTP/1.1'),\n",
       " ('44.147.46.145',\n",
       "  'runolfsdottir2005',\n",
       "  '21/Jun/2019:15:48:31 -0700',\n",
       "  'DELETE /web+services/reinvent/real-time/cross-media HTTP/1.0'),\n",
       " ('197.185.253.55',\n",
       "  'cormier5217',\n",
       "  '21/Jun/2019:15:48:32 -0700',\n",
       "  'PATCH /dynamic/eyeballs/incentivize HTTP/2.0'),\n",
       " ('79.4.211.247',\n",
       "  '-',\n",
       "  '21/Jun/2019:15:48:33 -0700',\n",
       "  'DELETE /deliver/partnerships/exploit HTTP/1.0'),\n",
       " ('171.201.31.179',\n",
       "  '-',\n",
       "  '21/Jun/2019:15:48:34 -0700',\n",
       "  'DELETE /compelling HTTP/2.0'),\n",
       " ('116.132.156.28',\n",
       "  'emard5518',\n",
       "  '21/Jun/2019:15:48:35 -0700',\n",
       "  'GET /robust/efficient/sticky/robust HTTP/2.0'),\n",
       " ('46.94.236.10',\n",
       "  'jacobi6125',\n",
       "  '21/Jun/2019:15:48:36 -0700',\n",
       "  'GET /mindshare/e-services/action-items HTTP/1.1'),\n",
       " ('196.16.205.128',\n",
       "  'stanton2862',\n",
       "  '21/Jun/2019:15:48:37 -0700',\n",
       "  'DELETE /recontextualize HTTP/1.1'),\n",
       " ('65.160.59.55',\n",
       "  'ortiz2311',\n",
       "  '21/Jun/2019:15:48:38 -0700',\n",
       "  'HEAD /interactive/integrated/incentivize HTTP/1.1'),\n",
       " ('107.253.103.62',\n",
       "  'maggio7837',\n",
       "  '21/Jun/2019:15:48:39 -0700',\n",
       "  'GET /infomediaries HTTP/1.1'),\n",
       " ('13.253.202.85',\n",
       "  'nader6495',\n",
       "  '21/Jun/2019:15:48:40 -0700',\n",
       "  'HEAD /extend/scale/whiteboard HTTP/1.0'),\n",
       " ('219.234.129.250',\n",
       "  '-',\n",
       "  '21/Jun/2019:15:48:41 -0700',\n",
       "  'HEAD /real-time/24%2f365 HTTP/1.1'),\n",
       " ('108.226.15.178',\n",
       "  '-',\n",
       "  '21/Jun/2019:15:48:42 -0700',\n",
       "  'DELETE /revolutionary/collaborative/e-commerce/incubate HTTP/1.0'),\n",
       " ('120.3.195.188',\n",
       "  'zboncak8896',\n",
       "  '21/Jun/2019:15:48:43 -0700',\n",
       "  'HEAD /monetize/matrix/incentivize/paradigms HTTP/1.0'),\n",
       " ('243.82.252.241',\n",
       "  '-',\n",
       "  '21/Jun/2019:15:48:44 -0700',\n",
       "  'GET /incubate HTTP/2.0'),\n",
       " ('175.95.90.163',\n",
       "  '-',\n",
       "  '21/Jun/2019:15:48:45 -0700',\n",
       "  'POST /transform HTTP/1.0'),\n",
       " ('205.183.132.210',\n",
       "  '-',\n",
       "  '21/Jun/2019:15:48:46 -0700',\n",
       "  'DELETE /distributed HTTP/1.1'),\n",
       " ('67.91.67.236',\n",
       "  'hammes1596',\n",
       "  '21/Jun/2019:15:48:47 -0700',\n",
       "  'HEAD /models/enhance/streamline HTTP/2.0'),\n",
       " ('201.66.251.172', '-', '21/Jun/2019:15:48:48 -0700', 'GET /global HTTP/2.0'),\n",
       " ('221.105.56.181',\n",
       "  '-',\n",
       "  '21/Jun/2019:15:48:49 -0700',\n",
       "  'HEAD /extend/schemas/relationships/world-class HTTP/2.0'),\n",
       " ('206.237.108.242',\n",
       "  '-',\n",
       "  '21/Jun/2019:15:48:50 -0700',\n",
       "  'PUT /markets/networks/matrix HTTP/1.1'),\n",
       " ('242.173.145.218',\n",
       "  '-',\n",
       "  '21/Jun/2019:15:48:51 -0700',\n",
       "  'PUT /robust/rich HTTP/1.1'),\n",
       " ('143.117.208.51',\n",
       "  '-',\n",
       "  '21/Jun/2019:15:48:52 -0700',\n",
       "  'POST /visionary/synthesize/embrace/leverage HTTP/1.0'),\n",
       " ('159.5.202.167',\n",
       "  'moen9202',\n",
       "  '21/Jun/2019:15:48:53 -0700',\n",
       "  'DELETE /technologies/schemas/methodologies/mission-critical HTTP/2.0'),\n",
       " ('166.255.221.168',\n",
       "  '-',\n",
       "  '21/Jun/2019:15:48:54 -0700',\n",
       "  'PATCH /schemas HTTP/1.1'),\n",
       " ('232.181.229.75',\n",
       "  'lehner6109',\n",
       "  '21/Jun/2019:15:48:55 -0700',\n",
       "  'PUT /transition HTTP/1.1'),\n",
       " ('254.88.251.245',\n",
       "  'nolan6998',\n",
       "  '21/Jun/2019:15:48:56 -0700',\n",
       "  'DELETE /whiteboard HTTP/1.1'),\n",
       " ('110.112.78.242',\n",
       "  'kling1525',\n",
       "  '21/Jun/2019:15:48:57 -0700',\n",
       "  'POST /paradigms/integrated HTTP/1.1'),\n",
       " ('116.55.22.122',\n",
       "  'bahringer5369',\n",
       "  '21/Jun/2019:15:48:58 -0700',\n",
       "  'PATCH /compelling/disintermediate HTTP/1.1'),\n",
       " ('172.124.11.171',\n",
       "  'quitzon1416',\n",
       "  '21/Jun/2019:15:48:59 -0700',\n",
       "  'POST /out-of-the-box/roi/e-enable HTTP/1.0'),\n",
       " ('58.159.26.50',\n",
       "  '-',\n",
       "  '21/Jun/2019:15:49:00 -0700',\n",
       "  'PATCH /supply-chains/architect/e-business HTTP/1.0'),\n",
       " ('188.193.116.45',\n",
       "  '-',\n",
       "  '21/Jun/2019:15:49:01 -0700',\n",
       "  'POST /e-tailers/strategize HTTP/1.1'),\n",
       " ('210.255.229.144',\n",
       "  'moen2716',\n",
       "  '21/Jun/2019:15:49:02 -0700',\n",
       "  'POST /end-to-end/applications HTTP/2.0'),\n",
       " ('74.21.133.131',\n",
       "  'waters3612',\n",
       "  '21/Jun/2019:15:49:03 -0700',\n",
       "  'GET /bleeding-edge/applications HTTP/2.0'),\n",
       " ('93.88.34.132',\n",
       "  '-',\n",
       "  '21/Jun/2019:15:49:04 -0700',\n",
       "  'POST /24%2f365 HTTP/2.0'),\n",
       " ('134.190.123.28',\n",
       "  'braun2437',\n",
       "  '21/Jun/2019:15:49:05 -0700',\n",
       "  'POST /extend/initiatives HTTP/2.0'),\n",
       " ('145.131.76.133',\n",
       "  'kling3290',\n",
       "  '21/Jun/2019:15:49:06 -0700',\n",
       "  'HEAD /e-business/holistic/mindshare/magnetic HTTP/2.0'),\n",
       " ('215.214.69.146',\n",
       "  'kuhic1127',\n",
       "  '21/Jun/2019:15:49:07 -0700',\n",
       "  'PATCH /holistic/exploit/transition HTTP/2.0'),\n",
       " ('157.161.20.178',\n",
       "  '-',\n",
       "  '21/Jun/2019:15:49:08 -0700',\n",
       "  'GET /metrics/paradigms/reinvent/enable HTTP/2.0'),\n",
       " ('206.227.78.159',\n",
       "  '-',\n",
       "  '21/Jun/2019:15:49:09 -0700',\n",
       "  'GET /orchestrate HTTP/2.0'),\n",
       " ('20.179.60.207',\n",
       "  'mcglynn3415',\n",
       "  '21/Jun/2019:15:49:10 -0700',\n",
       "  'PUT /grow HTTP/2.0'),\n",
       " ('217.60.55.82',\n",
       "  'boyer9211',\n",
       "  '21/Jun/2019:15:49:11 -0700',\n",
       "  'GET /relationships/embrace/models HTTP/1.0'),\n",
       " ('177.66.154.38',\n",
       "  '-',\n",
       "  '21/Jun/2019:15:49:12 -0700',\n",
       "  'PATCH /synergize/relationships HTTP/1.1'),\n",
       " ('190.236.134.191',\n",
       "  '-',\n",
       "  '21/Jun/2019:15:49:13 -0700',\n",
       "  'PATCH /bleeding-edge/roi HTTP/1.0'),\n",
       " ('240.57.86.78',\n",
       "  'thompson7192',\n",
       "  '21/Jun/2019:15:49:14 -0700',\n",
       "  'HEAD /strategic/strategic/open-source/maximize HTTP/1.0'),\n",
       " ('164.128.154.124',\n",
       "  'effertz4240',\n",
       "  '21/Jun/2019:15:49:15 -0700',\n",
       "  'PATCH /visualize/cross-platform/intuitive HTTP/1.1'),\n",
       " ('219.150.27.76',\n",
       "  'reinger6377',\n",
       "  '21/Jun/2019:15:49:16 -0700',\n",
       "  'GET /scale/grow/disintermediate/e-enable HTTP/2.0'),\n",
       " ('45.154.94.28',\n",
       "  '-',\n",
       "  '21/Jun/2019:15:49:17 -0700',\n",
       "  'HEAD /scale/open-source HTTP/1.0'),\n",
       " ('66.157.144.220',\n",
       "  '-',\n",
       "  '21/Jun/2019:15:49:18 -0700',\n",
       "  'GET /reintermediate/reinvent/convergence/killer HTTP/1.1'),\n",
       " ('4.245.27.54',\n",
       "  '-',\n",
       "  '21/Jun/2019:15:49:19 -0700',\n",
       "  'PUT /orchestrate/generate HTTP/1.1'),\n",
       " ('218.100.131.71',\n",
       "  'leffler3986',\n",
       "  '21/Jun/2019:15:49:20 -0700',\n",
       "  'PATCH /orchestrate/monetize/relationships HTTP/1.1'),\n",
       " ('72.205.105.73',\n",
       "  '-',\n",
       "  '21/Jun/2019:15:49:21 -0700',\n",
       "  'POST /innovative/b2b HTTP/1.1'),\n",
       " ('132.186.52.137',\n",
       "  'wunsch3097',\n",
       "  '21/Jun/2019:15:49:22 -0700',\n",
       "  'DELETE /viral/eyeballs/brand HTTP/2.0'),\n",
       " ('48.70.58.4',\n",
       "  '-',\n",
       "  '21/Jun/2019:15:49:23 -0700',\n",
       "  'PUT /paradigms/repurpose HTTP/2.0'),\n",
       " ('29.3.16.175',\n",
       "  'wolf7357',\n",
       "  '21/Jun/2019:15:49:24 -0700',\n",
       "  'PUT /b2c HTTP/2.0'),\n",
       " ('55.255.42.34',\n",
       "  'erdman7847',\n",
       "  '21/Jun/2019:15:49:25 -0700',\n",
       "  'POST /one-to-one/viral/interfaces/embrace HTTP/1.0'),\n",
       " ('102.2.37.136',\n",
       "  '-',\n",
       "  '21/Jun/2019:15:49:26 -0700',\n",
       "  'HEAD /granular HTTP/2.0'),\n",
       " ('244.32.122.180',\n",
       "  'shanahan9241',\n",
       "  '21/Jun/2019:15:49:27 -0700',\n",
       "  'PATCH /cutting-edge HTTP/1.1'),\n",
       " ('196.95.163.236',\n",
       "  'lockman1471',\n",
       "  '21/Jun/2019:15:49:28 -0700',\n",
       "  'PATCH /niches/front-end/dot-com HTTP/1.0'),\n",
       " ('165.157.86.133',\n",
       "  'runte2017',\n",
       "  '21/Jun/2019:15:49:29 -0700',\n",
       "  'DELETE /grow/channels HTTP/1.0'),\n",
       " ('213.243.28.116',\n",
       "  '-',\n",
       "  '21/Jun/2019:15:49:30 -0700',\n",
       "  'HEAD /bleeding-edge/granular HTTP/1.1'),\n",
       " ('30.254.125.19',\n",
       "  '-',\n",
       "  '21/Jun/2019:15:49:31 -0700',\n",
       "  'PUT /iterate/distributed/unleash/interfaces HTTP/1.1'),\n",
       " ('187.240.183.141',\n",
       "  'sauer3376',\n",
       "  '21/Jun/2019:15:49:32 -0700',\n",
       "  'DELETE /frictionless/platforms/networks HTTP/1.0'),\n",
       " ('226.239.91.74',\n",
       "  'jakubowski4018',\n",
       "  '21/Jun/2019:15:49:33 -0700',\n",
       "  'HEAD /vertical/models/cross-media/reintermediate HTTP/1.1'),\n",
       " ('118.163.58.231',\n",
       "  '-',\n",
       "  '21/Jun/2019:15:49:34 -0700',\n",
       "  'POST /web-enabled/paradigms HTTP/1.1'),\n",
       " ('228.112.124.191',\n",
       "  '-',\n",
       "  '21/Jun/2019:15:49:35 -0700',\n",
       "  'POST /syndicate/roi/target/morph HTTP/1.1'),\n",
       " ('243.47.73.109',\n",
       "  '-',\n",
       "  '21/Jun/2019:15:49:36 -0700',\n",
       "  'POST /users/enterprise HTTP/2.0'),\n",
       " ('125.202.126.201',\n",
       "  '-',\n",
       "  '21/Jun/2019:15:49:37 -0700',\n",
       "  'PUT /robust HTTP/2.0'),\n",
       " ('50.142.221.159',\n",
       "  'durgan7044',\n",
       "  '21/Jun/2019:15:49:38 -0700',\n",
       "  'DELETE /one-to-one/experiences/content HTTP/1.1'),\n",
       " ('92.180.240.91',\n",
       "  '-',\n",
       "  '21/Jun/2019:15:49:39 -0700',\n",
       "  'GET /target/integrate/mission-critical HTTP/1.0'),\n",
       " ('153.86.38.119',\n",
       "  'gaylord9827',\n",
       "  '21/Jun/2019:15:49:40 -0700',\n",
       "  'HEAD /drive/content/action-items HTTP/1.1'),\n",
       " ('240.5.131.182',\n",
       "  '-',\n",
       "  '21/Jun/2019:15:49:41 -0700',\n",
       "  'PATCH /proactive/front-end/24%2f365/implement HTTP/1.0'),\n",
       " ('232.131.251.10',\n",
       "  'kutch1902',\n",
       "  '21/Jun/2019:15:49:42 -0700',\n",
       "  'DELETE /disintermediate/benchmark/envisioneer HTTP/1.0'),\n",
       " ('69.98.159.130',\n",
       "  'turner6424',\n",
       "  '21/Jun/2019:15:49:43 -0700',\n",
       "  'PATCH /harness HTTP/2.0'),\n",
       " ('113.179.165.89',\n",
       "  '-',\n",
       "  '21/Jun/2019:15:49:44 -0700',\n",
       "  'HEAD /models/innovative/cultivate HTTP/1.0'),\n",
       " ('223.182.232.174',\n",
       "  'maggio8143',\n",
       "  '21/Jun/2019:15:49:45 -0700',\n",
       "  'PUT /embrace HTTP/2.0'),\n",
       " ('191.118.123.46',\n",
       "  'simonis6976',\n",
       "  '21/Jun/2019:15:49:46 -0700',\n",
       "  'PATCH /web-enabled/harness/transparent HTTP/1.0'),\n",
       " ('53.51.106.59',\n",
       "  '-',\n",
       "  '21/Jun/2019:15:49:47 -0700',\n",
       "  'HEAD /systems/streamline/front-end HTTP/2.0'),\n",
       " ('206.163.96.216',\n",
       "  'buckridge3917',\n",
       "  '21/Jun/2019:15:49:48 -0700',\n",
       "  'HEAD /transparent HTTP/2.0'),\n",
       " ('80.61.205.38',\n",
       "  '-',\n",
       "  '21/Jun/2019:15:49:49 -0700',\n",
       "  'HEAD /distributed/embrace HTTP/1.1'),\n",
       " ('163.27.80.92',\n",
       "  'monahan7718',\n",
       "  '21/Jun/2019:15:49:50 -0700',\n",
       "  'POST /clicks-and-mortar/vortals HTTP/2.0'),\n",
       " ('148.175.205.121',\n",
       "  'sipes2845',\n",
       "  '21/Jun/2019:15:49:51 -0700',\n",
       "  'PATCH /brand/vertical/revolutionize/killer HTTP/1.0'),\n",
       " ('199.88.191.4',\n",
       "  'breitenberg8163',\n",
       "  '21/Jun/2019:15:49:52 -0700',\n",
       "  'PATCH /unleash HTTP/1.0'),\n",
       " ('68.49.235.87',\n",
       "  '-',\n",
       "  '21/Jun/2019:15:49:53 -0700',\n",
       "  'HEAD /models/synergies HTTP/1.1'),\n",
       " ('127.220.163.49',\n",
       "  'wisozk6703',\n",
       "  '21/Jun/2019:15:49:54 -0700',\n",
       "  'PATCH /utilize HTTP/2.0'),\n",
       " ('99.231.139.196',\n",
       "  '-',\n",
       "  '21/Jun/2019:15:49:55 -0700',\n",
       "  'DELETE /innovate/mesh/envisioneer HTTP/2.0'),\n",
       " ('30.184.31.218',\n",
       "  '-',\n",
       "  '21/Jun/2019:15:49:56 -0700',\n",
       "  'POST /expedite/front-end HTTP/1.0'),\n",
       " ('184.191.5.166',\n",
       "  '-',\n",
       "  '21/Jun/2019:15:49:57 -0700',\n",
       "  'HEAD /sticky/open-source HTTP/1.1'),\n",
       " ('51.2.232.211',\n",
       "  'rutherford4378',\n",
       "  '21/Jun/2019:15:49:58 -0700',\n",
       "  'POST /strategize/strategize/innovate HTTP/1.0'),\n",
       " ('11.177.206.75',\n",
       "  '-',\n",
       "  '21/Jun/2019:15:49:59 -0700',\n",
       "  'PATCH /seize/metrics/killer HTTP/2.0'),\n",
       " ('32.4.248.193',\n",
       "  '-',\n",
       "  '21/Jun/2019:15:50:00 -0700',\n",
       "  'DELETE /cross-platform/integrate HTTP/1.1'),\n",
       " ('231.72.174.26',\n",
       "  'hills3866',\n",
       "  '21/Jun/2019:15:50:01 -0700',\n",
       "  'POST /bleeding-edge/user-centric/embrace/wireless HTTP/1.1'),\n",
       " ('170.201.249.253',\n",
       "  '-',\n",
       "  '21/Jun/2019:15:50:02 -0700',\n",
       "  'GET /holistic HTTP/1.0'),\n",
       " ('41.208.246.19',\n",
       "  'jacobi7143',\n",
       "  '21/Jun/2019:15:50:03 -0700',\n",
       "  'DELETE /e-enable HTTP/1.0'),\n",
       " ('227.166.16.104',\n",
       "  '-',\n",
       "  '21/Jun/2019:15:50:04 -0700',\n",
       "  'PUT /compelling/enable/web-readiness HTTP/2.0'),\n",
       " ('158.141.93.234',\n",
       "  '-',\n",
       "  '21/Jun/2019:15:50:05 -0700',\n",
       "  'GET /target/matrix/e-markets/scale HTTP/1.1'),\n",
       " ('86.222.54.122', '-', '21/Jun/2019:15:50:06 -0700', 'DELETE /roi HTTP/1.0'),\n",
       " ('142.218.156.62',\n",
       "  '-',\n",
       "  '21/Jun/2019:15:50:07 -0700',\n",
       "  'GET /productize/customized HTTP/1.1'),\n",
       " ('160.10.75.87',\n",
       "  '-',\n",
       "  '21/Jun/2019:15:50:08 -0700',\n",
       "  'PATCH /deliverables/engineer/implement HTTP/1.0'),\n",
       " ('8.31.177.12',\n",
       "  'braun1922',\n",
       "  '21/Jun/2019:15:50:09 -0700',\n",
       "  'PUT /transparent/niches HTTP/1.1'),\n",
       " ('205.163.93.58',\n",
       "  '-',\n",
       "  '21/Jun/2019:15:50:10 -0700',\n",
       "  'HEAD /recontextualize/vertical/roi/virtual HTTP/1.1'),\n",
       " ('80.169.112.239',\n",
       "  '-',\n",
       "  '21/Jun/2019:15:50:11 -0700',\n",
       "  'GET /monetize/technologies HTTP/2.0'),\n",
       " ('240.189.198.133',\n",
       "  'price7294',\n",
       "  '21/Jun/2019:15:50:12 -0700',\n",
       "  'PATCH /b2b/24%2f365 HTTP/1.0'),\n",
       " ('30.9.43.134',\n",
       "  'marvin4115',\n",
       "  '21/Jun/2019:15:50:13 -0700',\n",
       "  'GET /front-end/mindshare/bandwidth/paradigms HTTP/1.0'),\n",
       " ('88.211.3.111',\n",
       "  'turner9291',\n",
       "  '21/Jun/2019:15:50:14 -0700',\n",
       "  'PATCH /networks/grow/exploit/proactive HTTP/1.1'),\n",
       " ('208.45.172.73',\n",
       "  'vonrueden9811',\n",
       "  '21/Jun/2019:15:50:15 -0700',\n",
       "  'POST /drive HTTP/1.0'),\n",
       " ('143.194.39.107',\n",
       "  'anderson7046',\n",
       "  '21/Jun/2019:15:50:16 -0700',\n",
       "  'HEAD /intuitive HTTP/1.1'),\n",
       " ('106.205.65.57',\n",
       "  '-',\n",
       "  '21/Jun/2019:15:50:17 -0700',\n",
       "  'POST /mesh/scale/exploit/envisioneer HTTP/1.0'),\n",
       " ('157.163.234.192',\n",
       "  'stamm2348',\n",
       "  '21/Jun/2019:15:50:18 -0700',\n",
       "  'PUT /e-business/web-readiness/grow HTTP/1.0'),\n",
       " ('167.162.121.227',\n",
       "  '-',\n",
       "  '21/Jun/2019:15:50:19 -0700',\n",
       "  'GET /target HTTP/2.0'),\n",
       " ('59.142.194.241',\n",
       "  '-',\n",
       "  '21/Jun/2019:15:50:20 -0700',\n",
       "  'GET /reintermediate/bandwidth/e-business HTTP/1.0'),\n",
       " ('163.153.145.8',\n",
       "  'doyle2015',\n",
       "  '21/Jun/2019:15:50:21 -0700',\n",
       "  'PUT /engineer HTTP/1.1'),\n",
       " ('165.8.44.192',\n",
       "  'kemmer8421',\n",
       "  '21/Jun/2019:15:50:22 -0700',\n",
       "  'HEAD /repurpose HTTP/1.0'),\n",
       " ('165.99.52.175',\n",
       "  '-',\n",
       "  '21/Jun/2019:15:50:23 -0700',\n",
       "  'GET /world-class/target/cross-platform HTTP/1.0'),\n",
       " ('178.84.242.98',\n",
       "  'dare5841',\n",
       "  '21/Jun/2019:15:50:24 -0700',\n",
       "  'POST /synergies/enhance/repurpose HTTP/2.0'),\n",
       " ('121.47.120.137',\n",
       "  '-',\n",
       "  '21/Jun/2019:15:50:25 -0700',\n",
       "  'PUT /visualize/killer/innovative/24%2f365 HTTP/2.0'),\n",
       " ('79.123.137.87',\n",
       "  'cassin8778',\n",
       "  '21/Jun/2019:15:50:26 -0700',\n",
       "  'PATCH /e-markets/solutions/b2c/generate HTTP/2.0'),\n",
       " ('249.87.214.29',\n",
       "  '-',\n",
       "  '21/Jun/2019:15:50:27 -0700',\n",
       "  'DELETE /bleeding-edge/impactful HTTP/2.0'),\n",
       " ('166.159.77.202',\n",
       "  '-',\n",
       "  '21/Jun/2019:15:50:28 -0700',\n",
       "  'DELETE /reintermediate/back-end HTTP/1.0'),\n",
       " ('61.125.26.251',\n",
       "  '-',\n",
       "  '21/Jun/2019:15:50:29 -0700',\n",
       "  'PUT /engineer/cutting-edge/best-of-breed/deploy HTTP/2.0'),\n",
       " ('49.118.219.8',\n",
       "  'koelpin5285',\n",
       "  '21/Jun/2019:15:50:30 -0700',\n",
       "  'HEAD /collaborative/partnerships/aggregate HTTP/1.1'),\n",
       " ('88.124.34.218',\n",
       "  'haag5592',\n",
       "  '21/Jun/2019:15:50:31 -0700',\n",
       "  'PUT /turn-key/bleeding-edge HTTP/2.0'),\n",
       " ('191.117.232.204',\n",
       "  'kohler4380',\n",
       "  '21/Jun/2019:15:50:32 -0700',\n",
       "  'GET /enterprise HTTP/2.0'),\n",
       " ('240.119.176.34',\n",
       "  'lubowitz6149',\n",
       "  '21/Jun/2019:15:50:33 -0700',\n",
       "  'DELETE /systems/one-to-one HTTP/2.0'),\n",
       " ('65.51.150.39',\n",
       "  '-',\n",
       "  '21/Jun/2019:15:50:34 -0700',\n",
       "  'HEAD /platforms HTTP/1.1'),\n",
       " ('63.67.111.71',\n",
       "  '-',\n",
       "  '21/Jun/2019:15:50:35 -0700',\n",
       "  'GET /content/seamless HTTP/1.1'),\n",
       " ('16.79.94.160',\n",
       "  '-',\n",
       "  '21/Jun/2019:15:50:36 -0700',\n",
       "  'POST /infrastructures/models/unleash/action-items HTTP/1.1'),\n",
       " ('228.155.223.214',\n",
       "  '-',\n",
       "  '21/Jun/2019:15:50:37 -0700',\n",
       "  'PATCH /cultivate/scalable/clicks-and-mortar/strategic HTTP/1.0'),\n",
       " ('235.75.106.65',\n",
       "  '-',\n",
       "  '21/Jun/2019:15:50:38 -0700',\n",
       "  'PATCH /generate/visualize HTTP/2.0'),\n",
       " ('25.177.33.181',\n",
       "  '-',\n",
       "  '21/Jun/2019:15:50:39 -0700',\n",
       "  'DELETE /intuitive HTTP/1.0'),\n",
       " ('79.185.171.163',\n",
       "  'block1079',\n",
       "  '21/Jun/2019:15:50:40 -0700',\n",
       "  'GET /repurpose/partnerships/bleeding-edge HTTP/2.0'),\n",
       " ('169.3.145.24',\n",
       "  '-',\n",
       "  '21/Jun/2019:15:50:41 -0700',\n",
       "  'DELETE /models/collaborative/cross-media/infomediaries HTTP/1.1'),\n",
       " ('156.58.195.56',\n",
       "  'bogisich7897',\n",
       "  '21/Jun/2019:15:50:42 -0700',\n",
       "  'PUT /portals/deliverables HTTP/1.1'),\n",
       " ('150.139.169.192',\n",
       "  'mann8285',\n",
       "  '21/Jun/2019:15:50:43 -0700',\n",
       "  'PUT /e-business/bleeding-edge/optimize HTTP/1.0'),\n",
       " ('184.246.41.227',\n",
       "  'mayert4085',\n",
       "  '21/Jun/2019:15:50:44 -0700',\n",
       "  'GET /transition HTTP/2.0'),\n",
       " ('15.129.45.246',\n",
       "  '-',\n",
       "  '21/Jun/2019:15:50:45 -0700',\n",
       "  'DELETE /24%2f7 HTTP/2.0'),\n",
       " ('251.38.225.127',\n",
       "  '-',\n",
       "  '21/Jun/2019:15:50:46 -0700',\n",
       "  'GET /markets HTTP/2.0'),\n",
       " ('202.6.77.154',\n",
       "  'thompson6002',\n",
       "  '21/Jun/2019:15:50:47 -0700',\n",
       "  'HEAD /open-source/revolutionary/initiatives/dot-com HTTP/1.1'),\n",
       " ('140.199.235.104',\n",
       "  '-',\n",
       "  '21/Jun/2019:15:50:48 -0700',\n",
       "  'GET /initiatives/e-business HTTP/1.1'),\n",
       " ('64.115.197.209',\n",
       "  '-',\n",
       "  '21/Jun/2019:15:50:49 -0700',\n",
       "  'GET /applications/monetize/expedite/global HTTP/2.0'),\n",
       " ('174.184.22.106',\n",
       "  '-',\n",
       "  '21/Jun/2019:15:50:50 -0700',\n",
       "  'DELETE /scale/front-end HTTP/1.1'),\n",
       " ('189.62.5.214',\n",
       "  'romaguera5473',\n",
       "  '21/Jun/2019:15:50:51 -0700',\n",
       "  'DELETE /sticky HTTP/2.0'),\n",
       " ('38.111.64.134',\n",
       "  'bins4571',\n",
       "  '21/Jun/2019:15:50:52 -0700',\n",
       "  'HEAD /bricks-and-clicks HTTP/1.1'),\n",
       " ('122.9.81.194',\n",
       "  'stoltenberg8660',\n",
       "  '21/Jun/2019:15:50:53 -0700',\n",
       "  'PUT /convergence/global/vertical/engineer HTTP/1.1'),\n",
       " ('175.68.167.31',\n",
       "  '-',\n",
       "  '21/Jun/2019:15:50:54 -0700',\n",
       "  'DELETE /e-markets/b2b/robust HTTP/1.1'),\n",
       " ('7.205.75.72',\n",
       "  'west2407',\n",
       "  '21/Jun/2019:15:50:55 -0700',\n",
       "  'GET /technologies HTTP/1.1'),\n",
       " ('146.217.161.62',\n",
       "  '-',\n",
       "  '21/Jun/2019:15:50:56 -0700',\n",
       "  'PUT /interfaces/leading-edge HTTP/2.0'),\n",
       " ('246.163.3.11',\n",
       "  'willms1885',\n",
       "  '21/Jun/2019:15:50:57 -0700',\n",
       "  'DELETE /dot-com HTTP/1.0'),\n",
       " ('223.235.234.173',\n",
       "  '-',\n",
       "  '21/Jun/2019:15:50:58 -0700',\n",
       "  'HEAD /scalable/synergies/compelling/real-time HTTP/2.0'),\n",
       " ('203.33.27.240', '-', '21/Jun/2019:15:50:59 -0700', 'HEAD /mesh HTTP/1.1'),\n",
       " ('128.7.197.97',\n",
       "  '-',\n",
       "  '21/Jun/2019:15:51:00 -0700',\n",
       "  'DELETE /extensible/exploit HTTP/2.0'),\n",
       " ('120.237.31.63',\n",
       "  '-',\n",
       "  '21/Jun/2019:15:51:01 -0700',\n",
       "  'GET /cross-platform/integrate/models/redefine HTTP/2.0'),\n",
       " ('23.6.200.51',\n",
       "  'marvin8479',\n",
       "  '21/Jun/2019:15:51:02 -0700',\n",
       "  'PUT /maximize/utilize HTTP/1.1'),\n",
       " ('87.56.184.191',\n",
       "  'funk5262',\n",
       "  '21/Jun/2019:15:51:03 -0700',\n",
       "  'POST /scalable/integrated HTTP/1.0'),\n",
       " ('46.252.3.42',\n",
       "  '-',\n",
       "  '21/Jun/2019:15:51:04 -0700',\n",
       "  'DELETE /schemas/revolutionary/recontextualize HTTP/1.0'),\n",
       " ('96.76.27.126',\n",
       "  'haley9579',\n",
       "  '21/Jun/2019:15:51:05 -0700',\n",
       "  'PATCH /visualize/web-enabled/enhance/synergize HTTP/1.0'),\n",
       " ('130.181.59.232',\n",
       "  'towne3635',\n",
       "  '21/Jun/2019:15:51:06 -0700',\n",
       "  'GET /dot-com/functionalities HTTP/1.1'),\n",
       " ('165.111.167.225',\n",
       "  'gottlieb6924',\n",
       "  '21/Jun/2019:15:51:07 -0700',\n",
       "  'PUT /envisioneer HTTP/1.1'),\n",
       " ('223.170.242.159',\n",
       "  'okuneva8628',\n",
       "  '21/Jun/2019:15:51:08 -0700',\n",
       "  'POST /enhance/cross-platform/interactive HTTP/2.0'),\n",
       " ('202.162.118.175',\n",
       "  'greenholt5589',\n",
       "  '21/Jun/2019:15:51:09 -0700',\n",
       "  'PATCH /maximize HTTP/1.1'),\n",
       " ('230.220.15.38',\n",
       "  'gulgowski7868',\n",
       "  '21/Jun/2019:15:51:10 -0700',\n",
       "  'DELETE /innovate/facilitate/users HTTP/1.0'),\n",
       " ('104.142.156.232',\n",
       "  '-',\n",
       "  '21/Jun/2019:15:51:11 -0700',\n",
       "  'GET /enterprise/envisioneer HTTP/1.1'),\n",
       " ('154.8.73.245',\n",
       "  '-',\n",
       "  '21/Jun/2019:15:51:12 -0700',\n",
       "  'GET /best-of-breed HTTP/1.0'),\n",
       " ('33.26.188.200',\n",
       "  'raynor9337',\n",
       "  '21/Jun/2019:15:51:13 -0700',\n",
       "  'POST /24%2f7 HTTP/2.0'),\n",
       " ('211.17.216.102',\n",
       "  'kshlerin3121',\n",
       "  '21/Jun/2019:15:51:14 -0700',\n",
       "  'DELETE /functionalities HTTP/1.1'),\n",
       " ('188.10.135.15',\n",
       "  '-',\n",
       "  '21/Jun/2019:15:51:15 -0700',\n",
       "  'HEAD /roi/enterprise HTTP/1.0'),\n",
       " ('163.157.76.212',\n",
       "  '-',\n",
       "  '21/Jun/2019:15:51:16 -0700',\n",
       "  'HEAD /orchestrate/embrace/empower HTTP/1.0'),\n",
       " ('45.100.57.217',\n",
       "  '-',\n",
       "  '21/Jun/2019:15:51:17 -0700',\n",
       "  'POST /unleash/aggregate/integrate HTTP/2.0'),\n",
       " ('58.169.115.117',\n",
       "  '-',\n",
       "  '21/Jun/2019:15:51:18 -0700',\n",
       "  'POST /plug-and-play/facilitate/synergies/rich HTTP/2.0'),\n",
       " ('93.153.48.201',\n",
       "  'cruickshank4469',\n",
       "  '21/Jun/2019:15:51:19 -0700',\n",
       "  'GET /interactive/e-business/architect HTTP/2.0'),\n",
       " ('228.203.34.179',\n",
       "  'bednar2337',\n",
       "  '21/Jun/2019:15:51:20 -0700',\n",
       "  'HEAD /implement HTTP/1.0'),\n",
       " ('64.87.108.81',\n",
       "  '-',\n",
       "  '21/Jun/2019:15:51:21 -0700',\n",
       "  'PATCH /leverage HTTP/1.0'),\n",
       " ('66.198.80.221',\n",
       "  'ebert4690',\n",
       "  '21/Jun/2019:15:51:22 -0700',\n",
       "  'PUT /leading-edge HTTP/1.0'),\n",
       " ('127.251.49.55',\n",
       "  'bednar7249',\n",
       "  '21/Jun/2019:15:51:23 -0700',\n",
       "  'PATCH /dynamic/engage/facilitate HTTP/1.1'),\n",
       " ('67.232.93.92',\n",
       "  'borer9296',\n",
       "  '21/Jun/2019:15:51:24 -0700',\n",
       "  'POST /cultivate HTTP/1.0'),\n",
       " ('214.236.248.87',\n",
       "  'considine7686',\n",
       "  '21/Jun/2019:15:51:25 -0700',\n",
       "  'PUT /repurpose/24%2f365 HTTP/2.0'),\n",
       " ('193.228.202.211',\n",
       "  '-',\n",
       "  '21/Jun/2019:15:51:26 -0700',\n",
       "  'POST /e-markets/seamless HTTP/1.0'),\n",
       " ('23.52.106.162',\n",
       "  'hettinger9833',\n",
       "  '21/Jun/2019:15:51:27 -0700',\n",
       "  'GET /leading-edge/24%2f365 HTTP/2.0'),\n",
       " ('132.233.4.128',\n",
       "  '-',\n",
       "  '21/Jun/2019:15:51:28 -0700',\n",
       "  'GET /channels/orchestrate/drive/vortals HTTP/1.0'),\n",
       " ('249.183.121.148',\n",
       "  'adams5230',\n",
       "  '21/Jun/2019:15:51:29 -0700',\n",
       "  'PUT /world-class/models HTTP/1.1'),\n",
       " ('16.56.50.149',\n",
       "  'friesen3358',\n",
       "  '21/Jun/2019:15:51:30 -0700',\n",
       "  'GET /monetize/repurpose/infomediaries/infrastructures HTTP/2.0'),\n",
       " ('246.181.246.57',\n",
       "  'hudson5809',\n",
       "  '21/Jun/2019:15:51:31 -0700',\n",
       "  'PUT /transition/enhance/partnerships HTTP/2.0'),\n",
       " ('55.148.73.4',\n",
       "  '-',\n",
       "  '21/Jun/2019:15:51:32 -0700',\n",
       "  'HEAD /interactive/infrastructures/interfaces HTTP/1.1'),\n",
       " ('39.149.166.187',\n",
       "  '-',\n",
       "  '21/Jun/2019:15:51:33 -0700',\n",
       "  'GET /extensible HTTP/2.0'),\n",
       " ('249.132.14.253',\n",
       "  '-',\n",
       "  '21/Jun/2019:15:51:34 -0700',\n",
       "  'POST /technologies/bricks-and-clicks/action-items HTTP/1.1'),\n",
       " ('199.251.34.231',\n",
       "  'kilback6840',\n",
       "  '21/Jun/2019:15:51:35 -0700',\n",
       "  'PUT /24%2f365/granular/synergistic HTTP/2.0'),\n",
       " ('161.216.88.248',\n",
       "  '-',\n",
       "  '21/Jun/2019:15:51:36 -0700',\n",
       "  'PATCH /niches HTTP/1.0'),\n",
       " ('39.95.201.29',\n",
       "  'dooley1637',\n",
       "  '21/Jun/2019:15:51:37 -0700',\n",
       "  'DELETE /leading-edge HTTP/1.0'),\n",
       " ('29.183.210.228',\n",
       "  'toy9491',\n",
       "  '21/Jun/2019:15:51:38 -0700',\n",
       "  'DELETE /scale HTTP/1.0'),\n",
       " ('44.59.227.68',\n",
       "  '-',\n",
       "  '21/Jun/2019:15:51:39 -0700',\n",
       "  'PUT /generate/unleash HTTP/1.0'),\n",
       " ('99.205.229.248',\n",
       "  '-',\n",
       "  '21/Jun/2019:15:51:40 -0700',\n",
       "  'GET /experiences/extend/front-end/robust HTTP/1.1'),\n",
       " ('223.52.70.91',\n",
       "  '-',\n",
       "  '21/Jun/2019:15:51:41 -0700',\n",
       "  'POST /integrated/deliverables/portals/orchestrate HTTP/1.1'),\n",
       " ('182.56.238.95',\n",
       "  '-',\n",
       "  '21/Jun/2019:15:51:42 -0700',\n",
       "  'PATCH /content/models HTTP/1.1'),\n",
       " ('111.64.171.65',\n",
       "  'stanton9204',\n",
       "  '21/Jun/2019:15:51:43 -0700',\n",
       "  'PUT /cultivate HTTP/1.0'),\n",
       " ('157.117.129.160',\n",
       "  'bogisich6895',\n",
       "  '21/Jun/2019:15:51:44 -0700',\n",
       "  'PUT /open-source HTTP/2.0'),\n",
       " ('232.117.182.116',\n",
       "  'conn7515',\n",
       "  '21/Jun/2019:15:51:45 -0700',\n",
       "  'POST /empower/disintermediate/24%2f365 HTTP/1.0'),\n",
       " ('174.174.210.5',\n",
       "  'funk5090',\n",
       "  '21/Jun/2019:15:51:46 -0700',\n",
       "  'HEAD /intuitive HTTP/2.0'),\n",
       " ('94.96.145.184',\n",
       "  'romaguera2467',\n",
       "  '21/Jun/2019:15:51:47 -0700',\n",
       "  'DELETE /paradigms/reintermediate/e-services/cutting-edge HTTP/2.0'),\n",
       " ('174.67.179.60',\n",
       "  '-',\n",
       "  '21/Jun/2019:15:51:48 -0700',\n",
       "  'POST /mission-critical/reintermediate/virtual HTTP/1.0'),\n",
       " ('249.71.172.194',\n",
       "  'braun5844',\n",
       "  '21/Jun/2019:15:51:49 -0700',\n",
       "  'PUT /unleash/enterprise/optimize HTTP/2.0'),\n",
       " ('164.195.121.133',\n",
       "  'kutch2379',\n",
       "  '21/Jun/2019:15:51:50 -0700',\n",
       "  'HEAD /maximize/back-end/metrics HTTP/1.0'),\n",
       " ('228.173.203.108',\n",
       "  'harvey5371',\n",
       "  '21/Jun/2019:15:51:51 -0700',\n",
       "  'POST /eyeballs/back-end/platforms HTTP/1.0'),\n",
       " ('158.216.44.90',\n",
       "  '-',\n",
       "  '21/Jun/2019:15:51:52 -0700',\n",
       "  'POST /compelling/enable/communities HTTP/2.0'),\n",
       " ('48.69.222.149',\n",
       "  '-',\n",
       "  '21/Jun/2019:15:51:53 -0700',\n",
       "  'GET /plug-and-play/virtual/systems HTTP/2.0'),\n",
       " ('108.75.3.212',\n",
       "  'cummings7077',\n",
       "  '21/Jun/2019:15:51:54 -0700',\n",
       "  'PATCH /architect/e-business HTTP/1.1'),\n",
       " ('61.48.202.41',\n",
       "  'walsh4800',\n",
       "  '21/Jun/2019:15:51:55 -0700',\n",
       "  'POST /disintermediate HTTP/1.0'),\n",
       " ('158.231.61.197',\n",
       "  '-',\n",
       "  '21/Jun/2019:15:51:56 -0700',\n",
       "  'PATCH /architectures/bleeding-edge HTTP/2.0'),\n",
       " ('155.35.201.177',\n",
       "  'eichmann8620',\n",
       "  '21/Jun/2019:15:51:57 -0700',\n",
       "  'POST /morph HTTP/1.1'),\n",
       " ('91.198.202.81',\n",
       "  '-',\n",
       "  '21/Jun/2019:15:51:58 -0700',\n",
       "  'HEAD /architectures/visualize/innovate/target HTTP/1.1'),\n",
       " ('124.17.214.111',\n",
       "  'kuhn7507',\n",
       "  '21/Jun/2019:15:51:59 -0700',\n",
       "  'GET /orchestrate/vertical/technologies HTTP/2.0'),\n",
       " ('9.7.44.67',\n",
       "  '-',\n",
       "  '21/Jun/2019:15:52:00 -0700',\n",
       "  'PATCH /b2c/optimize/channels HTTP/1.0'),\n",
       " ('137.220.255.247',\n",
       "  '-',\n",
       "  '21/Jun/2019:15:52:01 -0700',\n",
       "  'POST /bleeding-edge/target/customized/frictionless HTTP/1.1'),\n",
       " ('114.109.41.74', '-', '21/Jun/2019:15:52:02 -0700', 'GET /morph HTTP/2.0'),\n",
       " ('240.34.246.125',\n",
       "  '-',\n",
       "  '21/Jun/2019:15:52:03 -0700',\n",
       "  'HEAD /monetize/sexy HTTP/1.1'),\n",
       " ('141.132.102.21',\n",
       "  '-',\n",
       "  '21/Jun/2019:15:52:04 -0700',\n",
       "  'PUT /content/benchmark HTTP/1.1'),\n",
       " ('98.195.245.214',\n",
       "  '-',\n",
       "  '21/Jun/2019:15:52:05 -0700',\n",
       "  'PUT /channels HTTP/2.0'),\n",
       " ('234.153.219.198',\n",
       "  '-',\n",
       "  '21/Jun/2019:15:52:06 -0700',\n",
       "  'PATCH /partnerships/seamless HTTP/1.0'),\n",
       " ('188.250.73.73',\n",
       "  'kohler6082',\n",
       "  '21/Jun/2019:15:52:07 -0700',\n",
       "  'HEAD /mindshare/facilitate HTTP/1.0'),\n",
       " ('216.226.60.135',\n",
       "  '-',\n",
       "  '21/Jun/2019:15:52:08 -0700',\n",
       "  'POST /user-centric/mesh/iterate HTTP/1.1'),\n",
       " ('11.138.50.170',\n",
       "  '-',\n",
       "  '21/Jun/2019:15:52:09 -0700',\n",
       "  'HEAD /next-generation/paradigms HTTP/1.1'),\n",
       " ('208.116.224.152',\n",
       "  'gutkowski5880',\n",
       "  '21/Jun/2019:15:52:10 -0700',\n",
       "  'DELETE /revolutionary/portals HTTP/2.0'),\n",
       " ('192.186.62.61',\n",
       "  '-',\n",
       "  '21/Jun/2019:15:52:11 -0700',\n",
       "  'POST /maximize/niches/channels HTTP/1.0'),\n",
       " ('191.79.84.144',\n",
       "  'barrows5745',\n",
       "  '21/Jun/2019:15:52:12 -0700',\n",
       "  'PUT /cross-platform HTTP/1.0'),\n",
       " ('177.166.106.59',\n",
       "  '-',\n",
       "  '21/Jun/2019:15:52:13 -0700',\n",
       "  'PUT /holistic/models HTTP/1.1'),\n",
       " ('33.36.92.97',\n",
       "  '-',\n",
       "  '21/Jun/2019:15:52:14 -0700',\n",
       "  'PATCH /redefine/value-added/synergistic/customized HTTP/2.0'),\n",
       " ('63.4.200.214',\n",
       "  'glover3672',\n",
       "  '21/Jun/2019:15:52:15 -0700',\n",
       "  'PUT /architectures/infrastructures HTTP/1.1'),\n",
       " ('141.127.230.209',\n",
       "  'bode3507',\n",
       "  '21/Jun/2019:15:52:16 -0700',\n",
       "  'PUT /e-services/next-generation/efficient/ubiquitous HTTP/1.0'),\n",
       " ('169.143.27.7',\n",
       "  '-',\n",
       "  '21/Jun/2019:15:52:17 -0700',\n",
       "  'PATCH /synthesize/methodologies HTTP/2.0'),\n",
       " ('129.130.170.57',\n",
       "  '-',\n",
       "  '21/Jun/2019:15:52:18 -0700',\n",
       "  'HEAD /seize/deploy/strategic HTTP/1.0'),\n",
       " ('57.161.31.62', '-', '21/Jun/2019:15:52:19 -0700', 'DELETE /viral HTTP/1.1'),\n",
       " ('24.212.111.42',\n",
       "  'reilly5235',\n",
       "  '21/Jun/2019:15:52:20 -0700',\n",
       "  'GET /niches HTTP/1.0'),\n",
       " ('210.159.24.173',\n",
       "  'jacobs7691',\n",
       "  '21/Jun/2019:15:52:21 -0700',\n",
       "  'PATCH /portals HTTP/1.0'),\n",
       " ('154.37.76.207',\n",
       "  'schowalter4620',\n",
       "  '21/Jun/2019:15:52:22 -0700',\n",
       "  'PATCH /envisioneer HTTP/1.0'),\n",
       " ('139.217.225.28',\n",
       "  'schaden7207',\n",
       "  '21/Jun/2019:15:52:23 -0700',\n",
       "  'GET /magnetic/bricks-and-clicks HTTP/1.0'),\n",
       " ('140.2.207.126',\n",
       "  '-',\n",
       "  '21/Jun/2019:15:52:24 -0700',\n",
       "  'GET /impactful HTTP/1.1'),\n",
       " ('72.71.45.246',\n",
       "  'beier2969',\n",
       "  '21/Jun/2019:15:52:25 -0700',\n",
       "  'PATCH /generate/productize/disintermediate HTTP/2.0'),\n",
       " ('160.189.253.237',\n",
       "  '-',\n",
       "  '21/Jun/2019:15:52:26 -0700',\n",
       "  'GET /aggregate HTTP/2.0'),\n",
       " ('107.32.126.199',\n",
       "  'schmidt4514',\n",
       "  '21/Jun/2019:15:52:27 -0700',\n",
       "  'GET /optimize HTTP/1.1'),\n",
       " ('5.36.208.122',\n",
       "  'bayer5640',\n",
       "  '21/Jun/2019:15:52:28 -0700',\n",
       "  'GET /repurpose/models HTTP/1.1'),\n",
       " ('44.215.179.53',\n",
       "  '-',\n",
       "  '21/Jun/2019:15:52:29 -0700',\n",
       "  'POST /e-markets HTTP/2.0'),\n",
       " ('32.165.44.159',\n",
       "  '-',\n",
       "  '21/Jun/2019:15:52:30 -0700',\n",
       "  'PUT /front-end/seize HTTP/1.1'),\n",
       " ('49.8.35.58',\n",
       "  'donnelly9040',\n",
       "  '21/Jun/2019:15:52:31 -0700',\n",
       "  'GET /architectures/compelling/networks HTTP/1.1'),\n",
       " ('120.69.200.153',\n",
       "  'pfannerstill2409',\n",
       "  '21/Jun/2019:15:52:32 -0700',\n",
       "  'POST /extend/portals/clicks-and-mortar/matrix HTTP/1.0'),\n",
       " ('225.216.200.227',\n",
       "  'bartell3136',\n",
       "  '21/Jun/2019:15:52:33 -0700',\n",
       "  'POST /enable HTTP/1.1'),\n",
       " ('129.4.94.31',\n",
       "  '-',\n",
       "  '21/Jun/2019:15:52:34 -0700',\n",
       "  'GET /partnerships/cutting-edge HTTP/2.0'),\n",
       " ('124.142.244.60',\n",
       "  '-',\n",
       "  '21/Jun/2019:15:52:35 -0700',\n",
       "  'GET /revolutionize/matrix/end-to-end/paradigms HTTP/1.0'),\n",
       " ('113.118.36.178',\n",
       "  'abernathy3937',\n",
       "  '21/Jun/2019:15:52:36 -0700',\n",
       "  'GET /expedite/web-readiness/cutting-edge HTTP/2.0'),\n",
       " ('244.172.72.142',\n",
       "  '-',\n",
       "  '21/Jun/2019:15:52:37 -0700',\n",
       "  'PATCH /mindshare HTTP/2.0'),\n",
       " ('115.198.27.247',\n",
       "  'denesik1416',\n",
       "  '21/Jun/2019:15:52:38 -0700',\n",
       "  'PATCH /incubate/rich HTTP/1.0'),\n",
       " ('160.111.19.169',\n",
       "  'roob2215',\n",
       "  '21/Jun/2019:15:52:39 -0700',\n",
       "  'POST /transform/magnetic/grow/interfaces HTTP/1.1'),\n",
       " ('245.2.226.215',\n",
       "  'rau3028',\n",
       "  '21/Jun/2019:15:52:40 -0700',\n",
       "  'PUT /integrate HTTP/2.0'),\n",
       " ('100.34.101.236',\n",
       "  'cartwright2493',\n",
       "  '21/Jun/2019:15:52:41 -0700',\n",
       "  'PUT /mesh/bleeding-edge/sexy HTTP/2.0'),\n",
       " ('183.23.223.119',\n",
       "  '-',\n",
       "  '21/Jun/2019:15:52:42 -0700',\n",
       "  'GET /roi/content/bleeding-edge HTTP/1.0'),\n",
       " ('196.228.156.210',\n",
       "  'parisian7014',\n",
       "  '21/Jun/2019:15:52:43 -0700',\n",
       "  'HEAD /synergize HTTP/1.0'),\n",
       " ('107.121.136.255',\n",
       "  'wolff3688',\n",
       "  '21/Jun/2019:15:52:44 -0700',\n",
       "  'POST /portals HTTP/1.0'),\n",
       " ('67.243.77.88',\n",
       "  '-',\n",
       "  '21/Jun/2019:15:52:45 -0700',\n",
       "  'GET /architectures/streamline/integrated HTTP/1.0'),\n",
       " ('154.193.194.236',\n",
       "  '-',\n",
       "  '21/Jun/2019:15:52:46 -0700',\n",
       "  'POST /open-source/exploit HTTP/1.1'),\n",
       " ('7.44.169.193',\n",
       "  '-',\n",
       "  '21/Jun/2019:15:52:47 -0700',\n",
       "  'DELETE /models HTTP/2.0'),\n",
       " ('89.230.201.79',\n",
       "  '-',\n",
       "  '21/Jun/2019:15:52:48 -0700',\n",
       "  'POST /efficient/morph/methodologies/e-enable HTTP/2.0'),\n",
       " ('102.74.238.85',\n",
       "  'bosco8918',\n",
       "  '21/Jun/2019:15:52:49 -0700',\n",
       "  'POST /viral/infomediaries/magnetic HTTP/1.0'),\n",
       " ('97.11.140.220',\n",
       "  '-',\n",
       "  '21/Jun/2019:15:52:50 -0700',\n",
       "  'POST /one-to-one/solutions/visualize/out-of-the-box HTTP/1.0'),\n",
       " ('121.161.69.92',\n",
       "  '-',\n",
       "  '21/Jun/2019:15:52:51 -0700',\n",
       "  'PUT /enable/seamless/strategize HTTP/1.0'),\n",
       " ('139.54.42.244',\n",
       "  '-',\n",
       "  '21/Jun/2019:15:52:52 -0700',\n",
       "  'HEAD /content/implement HTTP/1.1'),\n",
       " ('90.96.49.33',\n",
       "  '-',\n",
       "  '21/Jun/2019:15:52:53 -0700',\n",
       "  'PATCH /infomediaries/e-services/facilitate HTTP/1.1'),\n",
       " ('234.26.87.233',\n",
       "  'stehr6393',\n",
       "  '21/Jun/2019:15:52:54 -0700',\n",
       "  'DELETE /value-added/incubate/morph HTTP/1.0'),\n",
       " ('157.237.224.179',\n",
       "  'wintheiser5662',\n",
       "  '21/Jun/2019:15:52:55 -0700',\n",
       "  'POST /benchmark/generate/streamline/paradigms HTTP/1.0'),\n",
       " ('195.195.194.123',\n",
       "  'raynor1706',\n",
       "  '21/Jun/2019:15:52:56 -0700',\n",
       "  'PUT /whiteboard/roi/transition HTTP/1.1'),\n",
       " ('74.202.178.240',\n",
       "  'gaylord7396',\n",
       "  '21/Jun/2019:15:52:57 -0700',\n",
       "  'HEAD /visionary/incubate HTTP/1.1'),\n",
       " ('155.123.176.15',\n",
       "  'streich4473',\n",
       "  '21/Jun/2019:15:52:58 -0700',\n",
       "  'GET /content/optimize/benchmark HTTP/1.0'),\n",
       " ('249.33.212.82',\n",
       "  '-',\n",
       "  '21/Jun/2019:15:52:59 -0700',\n",
       "  'POST /dot-com/granular HTTP/1.0'),\n",
       " ('189.254.43.43',\n",
       "  'swift6867',\n",
       "  '21/Jun/2019:15:53:00 -0700',\n",
       "  'GET /architectures/recontextualize/morph/scale HTTP/1.0'),\n",
       " ('20.80.28.12',\n",
       "  'hagenes4423',\n",
       "  '21/Jun/2019:15:53:01 -0700',\n",
       "  'POST /harness HTTP/1.1'),\n",
       " ('44.188.73.217',\n",
       "  'volkman6528',\n",
       "  '21/Jun/2019:15:53:02 -0700',\n",
       "  'POST /clicks-and-mortar/user-centric HTTP/1.1'),\n",
       " ('112.211.50.38',\n",
       "  '-',\n",
       "  '21/Jun/2019:15:53:03 -0700',\n",
       "  'DELETE /harness/e-business/functionalities HTTP/1.1'),\n",
       " ('90.53.226.196',\n",
       "  'bogan1483',\n",
       "  '21/Jun/2019:15:53:04 -0700',\n",
       "  'PATCH /b2b/portals HTTP/2.0'),\n",
       " ('55.136.150.69',\n",
       "  '-',\n",
       "  '21/Jun/2019:15:53:05 -0700',\n",
       "  'DELETE /transition/viral/deliver/repurpose HTTP/1.1'),\n",
       " ('243.93.66.22',\n",
       "  '-',\n",
       "  '21/Jun/2019:15:53:06 -0700',\n",
       "  'HEAD /robust/channels/recontextualize HTTP/1.0'),\n",
       " ('15.42.157.35',\n",
       "  '-',\n",
       "  '21/Jun/2019:15:53:07 -0700',\n",
       "  'PUT /bricks-and-clicks/extensible HTTP/2.0'),\n",
       " ('200.229.201.189',\n",
       "  'donnelly8614',\n",
       "  '21/Jun/2019:15:53:08 -0700',\n",
       "  'GET /interfaces/unleash/impactful/reinvent HTTP/1.0'),\n",
       " ('234.75.192.179',\n",
       "  '-',\n",
       "  '21/Jun/2019:15:53:09 -0700',\n",
       "  'PUT /iterate/virtual/strategic/seamless HTTP/1.1'),\n",
       " ('212.96.45.103',\n",
       "  '-',\n",
       "  '21/Jun/2019:15:53:10 -0700',\n",
       "  'PATCH /real-time/extend/relationships HTTP/1.0'),\n",
       " ('144.111.159.48',\n",
       "  '-',\n",
       "  '21/Jun/2019:15:53:11 -0700',\n",
       "  'PUT /maximize/target/e-tailers HTTP/1.0'),\n",
       " ('172.82.22.49',\n",
       "  'cummerata1461',\n",
       "  '21/Jun/2019:15:53:12 -0700',\n",
       "  'GET /mindshare HTTP/1.1'),\n",
       " ('205.242.25.172',\n",
       "  '-',\n",
       "  '21/Jun/2019:15:53:13 -0700',\n",
       "  'POST /integrate/cross-platform/evolve HTTP/1.0'),\n",
       " ('85.160.9.60',\n",
       "  '-',\n",
       "  '21/Jun/2019:15:53:14 -0700',\n",
       "  'PATCH /incubate HTTP/2.0'),\n",
       " ('189.55.69.57',\n",
       "  'huel9795',\n",
       "  '21/Jun/2019:15:53:15 -0700',\n",
       "  'POST /interfaces/synthesize/methodologies HTTP/1.0'),\n",
       " ('181.223.103.195',\n",
       "  'gerhold3770',\n",
       "  '21/Jun/2019:15:53:16 -0700',\n",
       "  'PATCH /markets/disintermediate/orchestrate/mesh HTTP/1.1'),\n",
       " ('119.228.175.191',\n",
       "  'mills5084',\n",
       "  '21/Jun/2019:15:53:17 -0700',\n",
       "  'DELETE /robust HTTP/2.0'),\n",
       " ('139.238.48.126',\n",
       "  'champlin2089',\n",
       "  '21/Jun/2019:15:53:18 -0700',\n",
       "  'GET /frictionless/matrix/exploit HTTP/2.0'),\n",
       " ('220.144.18.79',\n",
       "  '-',\n",
       "  '21/Jun/2019:15:53:19 -0700',\n",
       "  'GET /vortals/morph HTTP/1.1'),\n",
       " ('56.2.41.119',\n",
       "  '-',\n",
       "  '21/Jun/2019:15:53:20 -0700',\n",
       "  'PUT /end-to-end/architect HTTP/1.1'),\n",
       " ('141.228.58.58',\n",
       "  '-',\n",
       "  '21/Jun/2019:15:53:21 -0700',\n",
       "  'PATCH /mission-critical/convergence HTTP/1.1'),\n",
       " ('201.46.41.176',\n",
       "  '-',\n",
       "  '21/Jun/2019:15:53:22 -0700',\n",
       "  'HEAD /harness/rich HTTP/2.0'),\n",
       " ('66.144.178.220',\n",
       "  'beatty7852',\n",
       "  '21/Jun/2019:15:53:23 -0700',\n",
       "  'PATCH /front-end HTTP/1.1'),\n",
       " ('70.117.216.192',\n",
       "  'schultz9259',\n",
       "  '21/Jun/2019:15:53:24 -0700',\n",
       "  'DELETE /strategic HTTP/2.0'),\n",
       " ('74.32.95.111',\n",
       "  '-',\n",
       "  '21/Jun/2019:15:53:25 -0700',\n",
       "  'PUT /e-tailers/optimize/functionalities HTTP/1.1'),\n",
       " ('77.136.27.38',\n",
       "  '-',\n",
       "  '21/Jun/2019:15:53:26 -0700',\n",
       "  'HEAD /visionary/repurpose/applications/markets HTTP/1.1'),\n",
       " ('205.95.15.13',\n",
       "  '-',\n",
       "  '21/Jun/2019:15:53:27 -0700',\n",
       "  'GET /grow/recontextualize/visualize HTTP/2.0'),\n",
       " ('2.5.3.238',\n",
       "  '-',\n",
       "  '21/Jun/2019:15:53:28 -0700',\n",
       "  'GET /evolve/compelling HTTP/1.1'),\n",
       " ('168.223.229.31',\n",
       "  'lindgren9821',\n",
       "  '21/Jun/2019:15:53:29 -0700',\n",
       "  'HEAD /b2c/expedite/innovate HTTP/1.1'),\n",
       " ('205.174.167.205',\n",
       "  '-',\n",
       "  '21/Jun/2019:15:53:30 -0700',\n",
       "  'PUT /partnerships HTTP/1.0'),\n",
       " ('169.142.205.93',\n",
       "  'moore8388',\n",
       "  '21/Jun/2019:15:53:31 -0700',\n",
       "  'HEAD /bricks-and-clicks HTTP/1.0'),\n",
       " ('86.48.209.75',\n",
       "  'friesen4112',\n",
       "  '21/Jun/2019:15:53:32 -0700',\n",
       "  'PATCH /turn-key HTTP/1.1'),\n",
       " ('154.4.3.89',\n",
       "  '-',\n",
       "  '21/Jun/2019:15:53:33 -0700',\n",
       "  'POST /back-end/leverage HTTP/1.1'),\n",
       " ('128.29.111.92',\n",
       "  'schiller1863',\n",
       "  '21/Jun/2019:15:53:34 -0700',\n",
       "  'HEAD /transform/revolutionize HTTP/1.0'),\n",
       " ('177.82.19.108',\n",
       "  '-',\n",
       "  '21/Jun/2019:15:53:35 -0700',\n",
       "  'POST /end-to-end/revolutionary/drive/partnerships HTTP/1.0'),\n",
       " ('187.108.233.86',\n",
       "  '-',\n",
       "  '21/Jun/2019:15:53:36 -0700',\n",
       "  'POST /harness HTTP/1.0'),\n",
       " ('234.228.65.79',\n",
       "  'littel6195',\n",
       "  '21/Jun/2019:15:53:37 -0700',\n",
       "  'PATCH /aggregate/frictionless HTTP/1.0'),\n",
       " ('168.187.114.55',\n",
       "  '-',\n",
       "  '21/Jun/2019:15:53:38 -0700',\n",
       "  'PATCH /synthesize HTTP/1.0'),\n",
       " ('161.215.232.221',\n",
       "  'leffler5851',\n",
       "  '21/Jun/2019:15:53:39 -0700',\n",
       "  'POST /incubate/integrate/evolve/dynamic HTTP/1.0'),\n",
       " ('243.52.53.16',\n",
       "  '-',\n",
       "  '21/Jun/2019:15:53:40 -0700',\n",
       "  'POST /impactful HTTP/1.0'),\n",
       " ('26.228.235.113',\n",
       "  'renner7608',\n",
       "  '21/Jun/2019:15:53:41 -0700',\n",
       "  'GET /intuitive HTTP/1.0'),\n",
       " ('52.245.137.48',\n",
       "  'torp1455',\n",
       "  '21/Jun/2019:15:53:42 -0700',\n",
       "  'PUT /customized/front-end/compelling HTTP/2.0'),\n",
       " ('242.204.24.88',\n",
       "  'flatley5085',\n",
       "  '21/Jun/2019:15:53:43 -0700',\n",
       "  'GET /ubiquitous/out-of-the-box/embrace/roi HTTP/2.0'),\n",
       " ('57.79.67.84',\n",
       "  '-',\n",
       "  '21/Jun/2019:15:53:44 -0700',\n",
       "  'HEAD /killer/reinvent HTTP/1.0'),\n",
       " ('98.228.147.147',\n",
       "  '-',\n",
       "  '21/Jun/2019:15:53:45 -0700',\n",
       "  'DELETE /portals/b2c/world-class/networks HTTP/1.1'),\n",
       " ('152.235.217.21',\n",
       "  'adams1613',\n",
       "  '21/Jun/2019:15:53:46 -0700',\n",
       "  'GET /infrastructures/vortals/proactive/interactive HTTP/2.0'),\n",
       " ('65.9.18.209',\n",
       "  '-',\n",
       "  '21/Jun/2019:15:53:47 -0700',\n",
       "  'PATCH /aggregate HTTP/1.0'),\n",
       " ('2.189.173.174',\n",
       "  '-',\n",
       "  '21/Jun/2019:15:53:48 -0700',\n",
       "  'POST /web-readiness/end-to-end HTTP/1.1'),\n",
       " ('227.249.188.131',\n",
       "  'kovacek4008',\n",
       "  '21/Jun/2019:15:53:49 -0700',\n",
       "  'GET /action-items/strategize/visionary/channels HTTP/1.1'),\n",
       " ('111.215.175.31',\n",
       "  'roob7404',\n",
       "  '21/Jun/2019:15:53:50 -0700',\n",
       "  'PUT /envisioneer HTTP/2.0'),\n",
       " ('181.72.91.127', '-', '21/Jun/2019:15:53:51 -0700', 'DELETE /grow HTTP/1.0'),\n",
       " ('24.20.15.114', '-', '21/Jun/2019:15:53:52 -0700', 'PATCH /deploy HTTP/1.1'),\n",
       " ('126.117.53.188',\n",
       "  '-',\n",
       "  '21/Jun/2019:15:53:53 -0700',\n",
       "  'POST /next-generation HTTP/1.1'),\n",
       " ('34.37.57.246',\n",
       "  'pacocha5980',\n",
       "  '21/Jun/2019:15:53:54 -0700',\n",
       "  'PUT /architectures/recontextualize HTTP/1.0'),\n",
       " ('177.181.89.94',\n",
       "  'friesen8390',\n",
       "  '21/Jun/2019:15:53:55 -0700',\n",
       "  'DELETE /leverage/enhance HTTP/2.0'),\n",
       " ('135.219.76.189',\n",
       "  '-',\n",
       "  '21/Jun/2019:15:53:56 -0700',\n",
       "  'GET /cross-platform/convergence/users/intuitive HTTP/1.0'),\n",
       " ('77.228.64.198',\n",
       "  'steuber9732',\n",
       "  '21/Jun/2019:15:53:57 -0700',\n",
       "  'PATCH /end-to-end/vortals/applications HTTP/1.0'),\n",
       " ('158.150.165.167',\n",
       "  '-',\n",
       "  '21/Jun/2019:15:53:58 -0700',\n",
       "  'HEAD /strategic/aggregate/unleash/brand HTTP/2.0'),\n",
       " ('230.118.138.25',\n",
       "  '-',\n",
       "  '21/Jun/2019:15:53:59 -0700',\n",
       "  'POST /mission-critical/dynamic/frictionless/interfaces HTTP/2.0'),\n",
       " ('8.164.90.252',\n",
       "  '-',\n",
       "  '21/Jun/2019:15:54:00 -0700',\n",
       "  'DELETE /solutions/best-of-breed/empower HTTP/1.1'),\n",
       " ('126.202.3.228',\n",
       "  'cassin9066',\n",
       "  '21/Jun/2019:15:54:01 -0700',\n",
       "  'PATCH /brand/ubiquitous/scale HTTP/1.0'),\n",
       " ('134.146.54.60',\n",
       "  'feil3529',\n",
       "  '21/Jun/2019:15:54:02 -0700',\n",
       "  'DELETE /eyeballs/streamline/holistic HTTP/1.0'),\n",
       " ('19.245.212.207',\n",
       "  'walsh8648',\n",
       "  '21/Jun/2019:15:54:03 -0700',\n",
       "  'GET /recontextualize HTTP/1.1'),\n",
       " ('98.143.107.61',\n",
       "  'reilly5813',\n",
       "  '21/Jun/2019:15:54:04 -0700',\n",
       "  'HEAD /channels HTTP/1.1'),\n",
       " ('235.231.96.133',\n",
       "  'feest6743',\n",
       "  '21/Jun/2019:15:54:05 -0700',\n",
       "  'PATCH /24%2f365 HTTP/1.0'),\n",
       " ('199.202.145.137',\n",
       "  '-',\n",
       "  '21/Jun/2019:15:54:06 -0700',\n",
       "  'POST /deliver/communities/transition/exploit HTTP/2.0'),\n",
       " ('61.67.88.190',\n",
       "  '-',\n",
       "  '21/Jun/2019:15:54:07 -0700',\n",
       "  'PATCH /rich/user-centric HTTP/2.0'),\n",
       " ('207.78.145.233',\n",
       "  '-',\n",
       "  '21/Jun/2019:15:54:08 -0700',\n",
       "  'DELETE /vortals/viral/integrated/deploy HTTP/1.0'),\n",
       " ('124.199.28.96',\n",
       "  'conroy1743',\n",
       "  '21/Jun/2019:15:54:09 -0700',\n",
       "  'PATCH /generate/global HTTP/2.0'),\n",
       " ('249.3.215.17',\n",
       "  'daugherty5037',\n",
       "  '21/Jun/2019:15:54:10 -0700',\n",
       "  'GET /cross-platform/syndicate/unleash HTTP/2.0'),\n",
       " ('213.54.223.189',\n",
       "  'batz7344',\n",
       "  '21/Jun/2019:15:54:11 -0700',\n",
       "  'DELETE /maximize/extensible/open-source/facilitate HTTP/1.0'),\n",
       " ('235.109.203.135',\n",
       "  'mitchell2009',\n",
       "  '21/Jun/2019:15:54:12 -0700',\n",
       "  'POST /holistic HTTP/2.0'),\n",
       " ('173.176.32.197',\n",
       "  'reilly4254',\n",
       "  '21/Jun/2019:15:54:13 -0700',\n",
       "  'HEAD /experiences/e-business/grow/matrix HTTP/1.0'),\n",
       " ('53.38.186.102',\n",
       "  '-',\n",
       "  '21/Jun/2019:15:54:14 -0700',\n",
       "  'GET /utilize/convergence HTTP/2.0'),\n",
       " ('12.85.93.59',\n",
       "  '-',\n",
       "  '21/Jun/2019:15:54:15 -0700',\n",
       "  'PATCH /supply-chains/viral HTTP/1.0'),\n",
       " ('20.180.86.45',\n",
       "  'ritchie8554',\n",
       "  '21/Jun/2019:15:54:16 -0700',\n",
       "  'PUT /holistic HTTP/1.1'),\n",
       " ('96.233.17.26', '-', '21/Jun/2019:15:54:17 -0700', 'POST /deliver HTTP/1.0'),\n",
       " ('125.180.138.91',\n",
       "  'corkery6385',\n",
       "  '21/Jun/2019:15:54:18 -0700',\n",
       "  'HEAD /innovate/sticky/distributed HTTP/1.1'),\n",
       " ('112.107.18.54',\n",
       "  '-',\n",
       "  '21/Jun/2019:15:54:19 -0700',\n",
       "  'PATCH /sexy/web-readiness/impactful HTTP/1.0'),\n",
       " ('227.156.209.101',\n",
       "  '-',\n",
       "  '21/Jun/2019:15:54:20 -0700',\n",
       "  'PATCH /markets/revolutionary HTTP/1.1'),\n",
       " ('226.178.150.114',\n",
       "  'donnelly1349',\n",
       "  '21/Jun/2019:15:54:21 -0700',\n",
       "  'PATCH /productize/expedite HTTP/1.1'),\n",
       " ('222.111.57.138',\n",
       "  '-',\n",
       "  '21/Jun/2019:15:54:22 -0700',\n",
       "  'POST /intuitive/revolutionize/networks HTTP/2.0'),\n",
       " ('185.16.173.169',\n",
       "  'mcdermott9999',\n",
       "  '21/Jun/2019:15:54:23 -0700',\n",
       "  'PUT /maximize/bricks-and-clicks HTTP/2.0'),\n",
       " ('82.165.247.195',\n",
       "  'lueilwitz2757',\n",
       "  '21/Jun/2019:15:54:24 -0700',\n",
       "  'DELETE /facilitate/bricks-and-clicks/models HTTP/1.1'),\n",
       " ('44.53.132.30',\n",
       "  'beatty4977',\n",
       "  '21/Jun/2019:15:54:25 -0700',\n",
       "  'HEAD /cross-platform HTTP/2.0'),\n",
       " ('203.86.100.44',\n",
       "  'dickens5496',\n",
       "  '21/Jun/2019:15:54:26 -0700',\n",
       "  'PATCH /integrated/distributed/streamline HTTP/2.0'),\n",
       " ('33.223.33.138',\n",
       "  'kling6394',\n",
       "  '21/Jun/2019:15:54:27 -0700',\n",
       "  'PUT /back-end/initiatives/monetize/repurpose HTTP/2.0'),\n",
       " ('140.133.33.65',\n",
       "  '-',\n",
       "  '21/Jun/2019:15:54:28 -0700',\n",
       "  'PATCH /maximize/plug-and-play/disintermediate HTTP/1.0'),\n",
       " ('98.50.208.199',\n",
       "  '-',\n",
       "  '21/Jun/2019:15:54:29 -0700',\n",
       "  'GET /platforms/front-end/value-added/compelling HTTP/2.0'),\n",
       " ('143.178.70.198',\n",
       "  '-',\n",
       "  '21/Jun/2019:15:54:30 -0700',\n",
       "  'HEAD /magnetic/architectures/communities HTTP/1.1'),\n",
       " ('143.90.188.100',\n",
       "  'lebsack6923',\n",
       "  '21/Jun/2019:15:54:31 -0700',\n",
       "  'PATCH /target/back-end HTTP/1.1'),\n",
       " ('49.177.24.144',\n",
       "  '-',\n",
       "  '21/Jun/2019:15:54:32 -0700',\n",
       "  'PATCH /open-source/interactive/vortals HTTP/1.0'),\n",
       " ('135.82.180.104',\n",
       "  '-',\n",
       "  '21/Jun/2019:15:54:33 -0700',\n",
       "  'DELETE /harness/innovate/synergize/innovative HTTP/2.0'),\n",
       " ('185.89.247.140',\n",
       "  'leannon8734',\n",
       "  '21/Jun/2019:15:54:34 -0700',\n",
       "  'GET /deliverables HTTP/2.0'),\n",
       " ('198.145.234.102',\n",
       "  '-',\n",
       "  '21/Jun/2019:15:54:35 -0700',\n",
       "  'DELETE /24%2f7/networks/drive/mission-critical HTTP/2.0'),\n",
       " ('25.102.58.39',\n",
       "  '-',\n",
       "  '21/Jun/2019:15:54:36 -0700',\n",
       "  'HEAD /maximize/transition HTTP/1.0'),\n",
       " ('47.245.29.79',\n",
       "  '-',\n",
       "  '21/Jun/2019:15:54:37 -0700',\n",
       "  'GET /deliver/customized HTTP/1.0'),\n",
       " ('219.142.205.21',\n",
       "  'oreilly3853',\n",
       "  '21/Jun/2019:15:54:38 -0700',\n",
       "  'PUT /compelling HTTP/1.0'),\n",
       " ('196.254.67.141',\n",
       "  '-',\n",
       "  '21/Jun/2019:15:54:39 -0700',\n",
       "  'PATCH /seize/users/users HTTP/1.0'),\n",
       " ('213.119.21.213',\n",
       "  'thompson6913',\n",
       "  '21/Jun/2019:15:54:40 -0700',\n",
       "  'PUT /bandwidth/holistic HTTP/2.0'),\n",
       " ('210.3.4.187',\n",
       "  '-',\n",
       "  '21/Jun/2019:15:54:41 -0700',\n",
       "  'PUT /target/engineer/b2b/ubiquitous HTTP/2.0'),\n",
       " ('159.75.120.41',\n",
       "  'muller7604',\n",
       "  '21/Jun/2019:15:54:42 -0700',\n",
       "  'GET /incentivize HTTP/2.0'),\n",
       " ('191.87.212.31',\n",
       "  '-',\n",
       "  '21/Jun/2019:15:54:43 -0700',\n",
       "  'POST /synergies/deliver/extend HTTP/1.1'),\n",
       " ('2.23.245.201',\n",
       "  'swaniawski1648',\n",
       "  '21/Jun/2019:15:54:44 -0700',\n",
       "  'DELETE /matrix/leverage/infomediaries/viral HTTP/1.0'),\n",
       " ('222.90.182.151',\n",
       "  'braun1134',\n",
       "  '21/Jun/2019:15:54:45 -0700',\n",
       "  'PATCH /transition HTTP/2.0'),\n",
       " ('193.65.135.69',\n",
       "  '-',\n",
       "  '21/Jun/2019:15:54:46 -0700',\n",
       "  'POST /one-to-one HTTP/1.1'),\n",
       " ('180.133.234.236',\n",
       "  '-',\n",
       "  '21/Jun/2019:15:54:47 -0700',\n",
       "  'DELETE /bandwidth/bricks-and-clicks/proactive HTTP/1.0'),\n",
       " ('39.13.230.225',\n",
       "  '-',\n",
       "  '21/Jun/2019:15:54:48 -0700',\n",
       "  'POST /target/transition HTTP/1.1'),\n",
       " ('173.229.51.155',\n",
       "  'fahey6288',\n",
       "  '21/Jun/2019:15:54:49 -0700',\n",
       "  'PUT /grow HTTP/1.0'),\n",
       " ('181.166.48.160',\n",
       "  'jacobi1228',\n",
       "  '21/Jun/2019:15:54:50 -0700',\n",
       "  'HEAD /channels/enhance/magnetic/plug-and-play HTTP/1.1'),\n",
       " ('18.105.36.235',\n",
       "  '-',\n",
       "  '21/Jun/2019:15:54:51 -0700',\n",
       "  'PUT /envisioneer/solutions/open-source/bandwidth HTTP/1.1'),\n",
       " ('94.55.84.135',\n",
       "  'walker7116',\n",
       "  '21/Jun/2019:15:54:52 -0700',\n",
       "  'DELETE /engineer/one-to-one/e-services HTTP/2.0'),\n",
       " ('230.19.217.65',\n",
       "  '-',\n",
       "  '21/Jun/2019:15:54:53 -0700',\n",
       "  'HEAD /synergistic/initiatives/wireless/users HTTP/1.1'),\n",
       " ('36.169.23.149',\n",
       "  '-',\n",
       "  '21/Jun/2019:15:54:54 -0700',\n",
       "  'DELETE /e-enable HTTP/1.0'),\n",
       " ('123.179.141.133',\n",
       "  'hammes4241',\n",
       "  '21/Jun/2019:15:54:55 -0700',\n",
       "  'GET /unleash HTTP/1.1'),\n",
       " ('132.175.224.20',\n",
       "  '-',\n",
       "  '21/Jun/2019:15:54:56 -0700',\n",
       "  'DELETE /disintermediate/synergistic/next-generation HTTP/2.0'),\n",
       " ('174.214.159.95',\n",
       "  '-',\n",
       "  '21/Jun/2019:15:54:57 -0700',\n",
       "  'PUT /visionary HTTP/1.0'),\n",
       " ('243.59.167.215',\n",
       "  '-',\n",
       "  '21/Jun/2019:15:54:58 -0700',\n",
       "  'POST /world-class/value-added/frictionless/monetize HTTP/1.1'),\n",
       " ('67.233.253.149',\n",
       "  'dubuque4293',\n",
       "  '21/Jun/2019:15:54:59 -0700',\n",
       "  'PATCH /synthesize HTTP/1.1'),\n",
       " ('235.52.222.116',\n",
       "  'williamson4151',\n",
       "  '21/Jun/2019:15:55:00 -0700',\n",
       "  'HEAD /initiatives HTTP/1.1'),\n",
       " ('202.70.201.64',\n",
       "  '-',\n",
       "  '21/Jun/2019:15:55:01 -0700',\n",
       "  'PUT /facilitate HTTP/2.0'),\n",
       " ('33.102.37.6',\n",
       "  '-',\n",
       "  '21/Jun/2019:15:55:02 -0700',\n",
       "  'GET /cutting-edge/synergistic/solutions/systems HTTP/1.1'),\n",
       " ('248.51.2.230',\n",
       "  '-',\n",
       "  '21/Jun/2019:15:55:03 -0700',\n",
       "  'DELETE /applications/recontextualize/synergies/web-enabled HTTP/1.1'),\n",
       " ('253.154.36.160',\n",
       "  '-',\n",
       "  '21/Jun/2019:15:55:04 -0700',\n",
       "  'POST /e-markets/optimize HTTP/1.1'),\n",
       " ('162.104.12.102',\n",
       "  'heidenreich1792',\n",
       "  '21/Jun/2019:15:55:05 -0700',\n",
       "  'PUT /e-enable HTTP/2.0'),\n",
       " ('59.240.133.90',\n",
       "  '-',\n",
       "  '21/Jun/2019:15:55:06 -0700',\n",
       "  'PUT /vertical/bricks-and-clicks/exploit/wireless HTTP/2.0'),\n",
       " ('91.164.20.118',\n",
       "  'leffler4523',\n",
       "  '21/Jun/2019:15:55:07 -0700',\n",
       "  'PUT /grow/granular/optimize HTTP/1.0'),\n",
       " ('28.107.146.49',\n",
       "  '-',\n",
       "  '21/Jun/2019:15:55:08 -0700',\n",
       "  'PUT /leverage/platforms/customized/interfaces HTTP/1.0'),\n",
       " ('165.95.61.210',\n",
       "  '-',\n",
       "  '21/Jun/2019:15:55:09 -0700',\n",
       "  'DELETE /efficient/benchmark HTTP/2.0'),\n",
       " ('43.204.214.54',\n",
       "  'fritsch5442',\n",
       "  '21/Jun/2019:15:55:10 -0700',\n",
       "  'HEAD /innovate/viral HTTP/1.0'),\n",
       " ('106.214.232.163',\n",
       "  '-',\n",
       "  '21/Jun/2019:15:55:11 -0700',\n",
       "  'HEAD /revolutionary/efficient/relationships HTTP/2.0'),\n",
       " ('136.140.99.71',\n",
       "  'jast3185',\n",
       "  '21/Jun/2019:15:55:12 -0700',\n",
       "  'HEAD /systems/rich/best-of-breed HTTP/1.1'),\n",
       " ('131.11.85.131',\n",
       "  '-',\n",
       "  '21/Jun/2019:15:55:13 -0700',\n",
       "  'DELETE /user-centric HTTP/1.0'),\n",
       " ('59.40.69.33',\n",
       "  'kerluke1992',\n",
       "  '21/Jun/2019:15:55:14 -0700',\n",
       "  'PUT /virtual/markets/compelling HTTP/2.0'),\n",
       " ('24.154.93.186',\n",
       "  '-',\n",
       "  '21/Jun/2019:15:55:15 -0700',\n",
       "  'PUT /reintermediate/morph HTTP/1.1'),\n",
       " ('37.37.184.46',\n",
       "  'west3231',\n",
       "  '21/Jun/2019:15:55:16 -0700',\n",
       "  'HEAD /action-items/bricks-and-clicks/drive/envisioneer HTTP/1.1'),\n",
       " ('25.14.148.131',\n",
       "  '-',\n",
       "  '21/Jun/2019:15:55:17 -0700',\n",
       "  'DELETE /synthesize HTTP/2.0'),\n",
       " ('123.169.170.45',\n",
       "  '-',\n",
       "  '21/Jun/2019:15:55:18 -0700',\n",
       "  'HEAD /dot-com/synergies HTTP/1.0'),\n",
       " ('96.182.241.84',\n",
       "  '-',\n",
       "  '21/Jun/2019:15:55:19 -0700',\n",
       "  'POST /viral/recontextualize HTTP/2.0'),\n",
       " ('202.152.160.70',\n",
       "  'ankunding8652',\n",
       "  '21/Jun/2019:15:55:20 -0700',\n",
       "  'DELETE /e-tailers/granular/value-added HTTP/2.0'),\n",
       " ('45.161.168.198',\n",
       "  '-',\n",
       "  '21/Jun/2019:15:55:21 -0700',\n",
       "  'PATCH /productize/end-to-end/e-enable HTTP/1.0'),\n",
       " ('80.10.48.41',\n",
       "  '-',\n",
       "  '21/Jun/2019:15:55:22 -0700',\n",
       "  'PATCH /markets/sticky/relationships HTTP/2.0'),\n",
       " ('68.250.127.219',\n",
       "  '-',\n",
       "  '21/Jun/2019:15:55:23 -0700',\n",
       "  'PUT /productize/revolutionize/mesh/initiatives HTTP/1.1'),\n",
       " ('121.11.126.214',\n",
       "  'barton5952',\n",
       "  '21/Jun/2019:15:55:24 -0700',\n",
       "  'DELETE /user-centric/leading-edge HTTP/2.0'),\n",
       " ('144.210.9.156',\n",
       "  '-',\n",
       "  '21/Jun/2019:15:55:25 -0700',\n",
       "  'POST /compelling/user-centric/embrace/channels HTTP/2.0'),\n",
       " ('116.66.227.58',\n",
       "  'boyle7076',\n",
       "  '21/Jun/2019:15:55:26 -0700',\n",
       "  'PATCH /mission-critical/action-items/niches/strategize HTTP/1.0'),\n",
       " ('239.150.104.236',\n",
       "  '-',\n",
       "  '21/Jun/2019:15:55:27 -0700',\n",
       "  'POST /reintermediate/collaborative/extensible HTTP/1.0'),\n",
       " ('139.116.88.147',\n",
       "  'haag9280',\n",
       "  '21/Jun/2019:15:55:28 -0700',\n",
       "  'HEAD /transparent/redefine/methodologies/exploit HTTP/1.0'),\n",
       " ('29.58.6.219',\n",
       "  '-',\n",
       "  '21/Jun/2019:15:55:29 -0700',\n",
       "  'GET /bandwidth/cross-media/clicks-and-mortar HTTP/1.0'),\n",
       " ('183.117.169.253',\n",
       "  'morar4269',\n",
       "  '21/Jun/2019:15:55:30 -0700',\n",
       "  'HEAD /architectures/user-centric HTTP/1.1'),\n",
       " ('60.155.203.130',\n",
       "  'vonrueden7712',\n",
       "  '21/Jun/2019:15:55:31 -0700',\n",
       "  'DELETE /metrics/infomediaries/enterprise/b2b HTTP/1.0'),\n",
       " ('173.140.74.179',\n",
       "  'rippin3809',\n",
       "  '21/Jun/2019:15:55:32 -0700',\n",
       "  'POST /engage HTTP/2.0'),\n",
       " ('221.208.57.139',\n",
       "  'bayer1705',\n",
       "  '21/Jun/2019:15:55:33 -0700',\n",
       "  'HEAD /reintermediate/target HTTP/1.1'),\n",
       " ('232.75.253.162',\n",
       "  '-',\n",
       "  '21/Jun/2019:15:55:34 -0700',\n",
       "  'HEAD /customized/plug-and-play/portals/repurpose HTTP/2.0'),\n",
       " ('149.212.98.132',\n",
       "  'kerluke1906',\n",
       "  '21/Jun/2019:15:55:35 -0700',\n",
       "  'HEAD /reintermediate HTTP/1.1'),\n",
       " ('79.233.211.50',\n",
       "  'lowe5988',\n",
       "  '21/Jun/2019:15:55:36 -0700',\n",
       "  'GET /vortals/world-class/next-generation/maximize HTTP/2.0'),\n",
       " ('208.84.72.231',\n",
       "  'abshire5304',\n",
       "  '21/Jun/2019:15:55:37 -0700',\n",
       "  'HEAD /deliverables/web-enabled HTTP/1.1'),\n",
       " ('149.136.187.57',\n",
       "  'weissnat1689',\n",
       "  '21/Jun/2019:15:55:38 -0700',\n",
       "  'HEAD /cross-platform/engineer HTTP/1.0'),\n",
       " ('115.49.61.215',\n",
       "  '-',\n",
       "  '21/Jun/2019:15:55:39 -0700',\n",
       "  'PUT /rich/global HTTP/2.0'),\n",
       " ('135.210.80.189',\n",
       "  'schultz6585',\n",
       "  '21/Jun/2019:15:55:40 -0700',\n",
       "  'GET /bricks-and-clicks/portals/synthesize HTTP/1.0'),\n",
       " ('237.220.204.73',\n",
       "  '-',\n",
       "  '21/Jun/2019:15:55:41 -0700',\n",
       "  'PATCH /communities/scale/integrate/grow HTTP/2.0'),\n",
       " ('25.81.83.78',\n",
       "  '-',\n",
       "  '21/Jun/2019:15:55:42 -0700',\n",
       "  'POST /innovative/end-to-end HTTP/2.0'),\n",
       " ('228.215.5.75',\n",
       "  '-',\n",
       "  '21/Jun/2019:15:55:43 -0700',\n",
       "  'PUT /matrix/enterprise/matrix HTTP/2.0'),\n",
       " ('134.199.128.205',\n",
       "  '-',\n",
       "  '21/Jun/2019:15:55:44 -0700',\n",
       "  'PATCH /productize/embrace/channels/unleash HTTP/2.0'),\n",
       " ('36.5.255.184',\n",
       "  '-',\n",
       "  '21/Jun/2019:15:55:45 -0700',\n",
       "  'GET /unleash/extensible/interactive/solutions HTTP/2.0'),\n",
       " ('232.154.95.220',\n",
       "  'veum7721',\n",
       "  '21/Jun/2019:15:55:46 -0700',\n",
       "  'GET /rich/bandwidth HTTP/1.0'),\n",
       " ('174.34.35.186',\n",
       "  'mueller9581',\n",
       "  '21/Jun/2019:15:55:47 -0700',\n",
       "  'GET /leading-edge/expedite/networks HTTP/1.0'),\n",
       " ('222.100.58.70',\n",
       "  '-',\n",
       "  '21/Jun/2019:15:55:48 -0700',\n",
       "  'HEAD /web-readiness/innovative/mindshare HTTP/2.0'),\n",
       " ('164.234.6.134',\n",
       "  '-',\n",
       "  '21/Jun/2019:15:55:49 -0700',\n",
       "  'POST /bricks-and-clicks/revolutionize/maximize/visionary HTTP/1.1'),\n",
       " ('28.62.52.85',\n",
       "  '-',\n",
       "  '21/Jun/2019:15:55:50 -0700',\n",
       "  'PUT /global/killer/ubiquitous HTTP/1.1'),\n",
       " ('95.189.63.113',\n",
       "  '-',\n",
       "  '21/Jun/2019:15:55:51 -0700',\n",
       "  'DELETE /generate HTTP/2.0'),\n",
       " ('158.174.132.213',\n",
       "  '-',\n",
       "  '21/Jun/2019:15:55:52 -0700',\n",
       "  'POST /sexy/synergize/sticky/revolutionize HTTP/1.1'),\n",
       " ('104.140.27.56',\n",
       "  '-',\n",
       "  '21/Jun/2019:15:55:53 -0700',\n",
       "  'GET /intuitive/virtual/robust/dynamic HTTP/1.0'),\n",
       " ('119.211.94.216',\n",
       "  '-',\n",
       "  '21/Jun/2019:15:55:54 -0700',\n",
       "  'GET /disintermediate/innovative/vertical/architectures HTTP/1.0'),\n",
       " ('210.10.227.187',\n",
       "  'ebert3533',\n",
       "  '21/Jun/2019:15:55:55 -0700',\n",
       "  'GET /cultivate/models HTTP/2.0'),\n",
       " ('188.164.86.241',\n",
       "  'heller4638',\n",
       "  '21/Jun/2019:15:55:56 -0700',\n",
       "  'PUT /repurpose HTTP/1.0'),\n",
       " ('212.66.63.132',\n",
       "  'lesch1937',\n",
       "  '21/Jun/2019:15:55:57 -0700',\n",
       "  'PATCH /users/compelling HTTP/2.0'),\n",
       " ('172.31.189.243',\n",
       "  '-',\n",
       "  '21/Jun/2019:15:55:58 -0700',\n",
       "  'DELETE /sexy HTTP/1.1'),\n",
       " ('73.18.220.130',\n",
       "  '-',\n",
       "  '21/Jun/2019:15:55:59 -0700',\n",
       "  'GET /global/customized HTTP/1.1'),\n",
       " ('201.39.186.141',\n",
       "  'hansen7326',\n",
       "  '21/Jun/2019:15:56:00 -0700',\n",
       "  'POST /b2c HTTP/1.0'),\n",
       " ('242.117.244.136',\n",
       "  '-',\n",
       "  '21/Jun/2019:15:56:01 -0700',\n",
       "  'HEAD /strategize/viral/real-time HTTP/1.0'),\n",
       " ('239.247.96.179',\n",
       "  '-',\n",
       "  '21/Jun/2019:15:56:02 -0700',\n",
       "  'PATCH /reintermediate/vortals/deliverables HTTP/1.1'),\n",
       " ('228.5.90.92',\n",
       "  '-',\n",
       "  '21/Jun/2019:15:56:03 -0700',\n",
       "  'PATCH /supply-chains/web+services/syndicate HTTP/1.0'),\n",
       " ('106.176.215.133',\n",
       "  '-',\n",
       "  '21/Jun/2019:15:56:04 -0700',\n",
       "  'POST /dot-com/ubiquitous HTTP/2.0'),\n",
       " ('182.198.5.92',\n",
       "  'morar7272',\n",
       "  '21/Jun/2019:15:56:05 -0700',\n",
       "  'POST /systems/b2c HTTP/1.1'),\n",
       " ('118.137.109.160',\n",
       "  'johnston9060',\n",
       "  '21/Jun/2019:15:56:06 -0700',\n",
       "  'PATCH /scalable HTTP/1.1'),\n",
       " ('2.103.71.27',\n",
       "  '-',\n",
       "  '21/Jun/2019:15:56:07 -0700',\n",
       "  'HEAD /frictionless/leverage/one-to-one HTTP/1.1'),\n",
       " ('229.3.198.160',\n",
       "  'heathcote3797',\n",
       "  '21/Jun/2019:15:56:08 -0700',\n",
       "  'POST /recontextualize/back-end HTTP/1.0'),\n",
       " ('148.174.255.122',\n",
       "  '-',\n",
       "  '21/Jun/2019:15:56:09 -0700',\n",
       "  'PATCH /recontextualize HTTP/2.0'),\n",
       " ('35.23.172.9',\n",
       "  'bruen3016',\n",
       "  '21/Jun/2019:15:56:10 -0700',\n",
       "  'POST /whiteboard/e-commerce HTTP/2.0'),\n",
       " ('165.188.38.42',\n",
       "  'bogisich4929',\n",
       "  '21/Jun/2019:15:56:11 -0700',\n",
       "  'HEAD /paradigms/supply-chains HTTP/1.1'),\n",
       " ('95.206.60.9',\n",
       "  'hyatt2671',\n",
       "  '21/Jun/2019:15:56:12 -0700',\n",
       "  'PATCH /generate/strategize/real-time HTTP/1.1'),\n",
       " ('247.172.12.81',\n",
       "  '-',\n",
       "  '21/Jun/2019:15:56:13 -0700',\n",
       "  'PATCH /schemas/envisioneer HTTP/2.0'),\n",
       " ('224.31.249.118',\n",
       "  'mohr3100',\n",
       "  '21/Jun/2019:15:56:14 -0700',\n",
       "  'DELETE /platforms/back-end/24%2f365 HTTP/1.1'),\n",
       " ('115.161.42.97',\n",
       "  '-',\n",
       "  '21/Jun/2019:15:56:15 -0700',\n",
       "  'GET /e-business/vertical/drive/architectures HTTP/1.0'),\n",
       " ('97.115.43.107',\n",
       "  '-',\n",
       "  '21/Jun/2019:15:56:16 -0700',\n",
       "  'PUT /e-business HTTP/2.0'),\n",
       " ('51.68.54.173',\n",
       "  '-',\n",
       "  '21/Jun/2019:15:56:17 -0700',\n",
       "  'GET /vertical/channels/intuitive/drive HTTP/1.1'),\n",
       " ('112.36.64.150',\n",
       "  'purdy1613',\n",
       "  '21/Jun/2019:15:56:18 -0700',\n",
       "  'POST /optimize/content HTTP/1.0'),\n",
       " ('197.140.130.185',\n",
       "  '-',\n",
       "  '21/Jun/2019:15:56:19 -0700',\n",
       "  'HEAD /architect HTTP/1.1'),\n",
       " ('107.7.167.233',\n",
       "  'murray3331',\n",
       "  '21/Jun/2019:15:56:20 -0700',\n",
       "  'GET /redefine HTTP/2.0'),\n",
       " ('164.108.238.46',\n",
       "  '-',\n",
       "  '21/Jun/2019:15:56:21 -0700',\n",
       "  'HEAD /seamless/cross-platform/productize HTTP/2.0'),\n",
       " ('50.30.161.80',\n",
       "  '-',\n",
       "  '21/Jun/2019:15:56:22 -0700',\n",
       "  'PUT /incubate/e-enable/mission-critical/bricks-and-clicks HTTP/1.0'),\n",
       " ('192.57.52.145',\n",
       "  'towne4044',\n",
       "  '21/Jun/2019:15:56:23 -0700',\n",
       "  'GET /content HTTP/1.1'),\n",
       " ('86.165.165.210',\n",
       "  'kuhlman9507',\n",
       "  '21/Jun/2019:15:56:24 -0700',\n",
       "  'GET /metrics/robust/architect HTTP/2.0'),\n",
       " ('218.5.170.117',\n",
       "  'murray8861',\n",
       "  '21/Jun/2019:15:56:25 -0700',\n",
       "  'PATCH /redefine/enhance/integrate/b2c HTTP/1.0'),\n",
       " ('113.98.197.126',\n",
       "  '-',\n",
       "  '21/Jun/2019:15:56:26 -0700',\n",
       "  'POST /niches/generate/networks/deliverables HTTP/1.1'),\n",
       " ('127.205.99.23', '-', '21/Jun/2019:15:56:27 -0700', 'GET /portals HTTP/2.0'),\n",
       " ('78.76.237.225',\n",
       "  '-',\n",
       "  '21/Jun/2019:15:56:28 -0700',\n",
       "  'PUT /rich/facilitate HTTP/1.0'),\n",
       " ('111.9.21.106',\n",
       "  'bernier6988',\n",
       "  '21/Jun/2019:15:56:29 -0700',\n",
       "  'GET /web-enabled HTTP/1.0'),\n",
       " ('168.84.143.129',\n",
       "  'casper5038',\n",
       "  '21/Jun/2019:15:56:30 -0700',\n",
       "  'DELETE /markets/customized/synergistic HTTP/1.0'),\n",
       " ('219.111.98.96',\n",
       "  '-',\n",
       "  '21/Jun/2019:15:56:31 -0700',\n",
       "  'DELETE /mesh/aggregate/networks/syndicate HTTP/1.0'),\n",
       " ('104.174.76.211',\n",
       "  'boyer4235',\n",
       "  '21/Jun/2019:15:56:32 -0700',\n",
       "  'POST /expedite/open-source/viral/convergence HTTP/2.0'),\n",
       " ('37.147.102.35',\n",
       "  'towne2518',\n",
       "  '21/Jun/2019:15:56:33 -0700',\n",
       "  'PATCH /revolutionize/morph HTTP/1.1'),\n",
       " ('75.150.169.23',\n",
       "  'collins2767',\n",
       "  '21/Jun/2019:15:56:34 -0700',\n",
       "  'PATCH /markets/e-business HTTP/2.0'),\n",
       " ('164.179.97.108',\n",
       "  '-',\n",
       "  '21/Jun/2019:15:56:35 -0700',\n",
       "  'GET /strategize/relationships HTTP/1.0'),\n",
       " ('155.76.94.82',\n",
       "  'murphy2732',\n",
       "  '21/Jun/2019:15:56:36 -0700',\n",
       "  'POST /applications/e-business/action-items/deploy HTTP/2.0'),\n",
       " ('247.88.142.108',\n",
       "  '-',\n",
       "  '21/Jun/2019:15:56:37 -0700',\n",
       "  'GET /clicks-and-mortar/bricks-and-clicks/interfaces/transform HTTP/2.0'),\n",
       " ('238.76.184.36',\n",
       "  '-',\n",
       "  '21/Jun/2019:15:56:38 -0700',\n",
       "  'PUT /web-readiness/iterate/real-time/reinvent HTTP/1.1'),\n",
       " ('148.183.181.78',\n",
       "  'lehner5449',\n",
       "  '21/Jun/2019:15:56:39 -0700',\n",
       "  'DELETE /compelling/metrics/enterprise HTTP/1.0'),\n",
       " ('117.200.242.154',\n",
       "  '-',\n",
       "  '21/Jun/2019:15:56:40 -0700',\n",
       "  'DELETE /next-generation HTTP/1.1'),\n",
       " ('241.39.66.207',\n",
       "  '-',\n",
       "  '21/Jun/2019:15:56:41 -0700',\n",
       "  'GET /solutions/one-to-one HTTP/1.0'),\n",
       " ('31.107.41.233',\n",
       "  'zieme7259',\n",
       "  '21/Jun/2019:15:56:42 -0700',\n",
       "  'GET /communities/bleeding-edge HTTP/1.1'),\n",
       " ('212.223.87.96',\n",
       "  '-',\n",
       "  '21/Jun/2019:15:56:43 -0700',\n",
       "  'PATCH /technologies/evolve HTTP/1.0'),\n",
       " ('25.225.179.202',\n",
       "  'runte4912',\n",
       "  '21/Jun/2019:15:56:44 -0700',\n",
       "  'HEAD /mesh/orchestrate/syndicate/e-services HTTP/1.1'),\n",
       " ('135.115.206.67',\n",
       "  'smitham4435',\n",
       "  '21/Jun/2019:15:56:45 -0700',\n",
       "  'PUT /distributed/benchmark/interactive HTTP/1.1'),\n",
       " ('75.44.33.26',\n",
       "  'boyle5892',\n",
       "  '21/Jun/2019:15:56:46 -0700',\n",
       "  'GET /relationships/incubate/technologies HTTP/1.1'),\n",
       " ('188.190.101.81',\n",
       "  'klocko5793',\n",
       "  '21/Jun/2019:15:56:47 -0700',\n",
       "  'POST /strategic HTTP/2.0'),\n",
       " ('123.242.122.171',\n",
       "  'haley3504',\n",
       "  '21/Jun/2019:15:56:48 -0700',\n",
       "  'HEAD /repurpose/viral HTTP/2.0'),\n",
       " ('235.29.130.76',\n",
       "  '-',\n",
       "  '21/Jun/2019:15:56:49 -0700',\n",
       "  'HEAD /recontextualize/synergistic/convergence/best-of-breed HTTP/1.1'),\n",
       " ('206.228.203.64',\n",
       "  'kozey6525',\n",
       "  '21/Jun/2019:15:56:50 -0700',\n",
       "  'POST /utilize/brand HTTP/2.0'),\n",
       " ('208.159.232.62',\n",
       "  'mcclure3645',\n",
       "  '21/Jun/2019:15:56:51 -0700',\n",
       "  'HEAD /channels/web-enabled/markets HTTP/2.0'),\n",
       " ('131.238.104.21',\n",
       "  '-',\n",
       "  '21/Jun/2019:15:56:52 -0700',\n",
       "  'PUT /web+services/distributed/interactive/sticky HTTP/1.1'),\n",
       " ('212.250.42.208',\n",
       "  '-',\n",
       "  '21/Jun/2019:15:56:53 -0700',\n",
       "  'PUT /interfaces/seamless/integrated HTTP/1.0'),\n",
       " ('72.89.45.205',\n",
       "  'parisian3697',\n",
       "  '21/Jun/2019:15:56:54 -0700',\n",
       "  'GET /empower/impactful/channels HTTP/1.1'),\n",
       " ('213.173.183.16',\n",
       "  '-',\n",
       "  '21/Jun/2019:15:56:55 -0700',\n",
       "  'HEAD /mesh/viral/transform/optimize HTTP/1.0'),\n",
       " ('28.67.8.218',\n",
       "  'bernier2981',\n",
       "  '21/Jun/2019:15:56:56 -0700',\n",
       "  'HEAD /target/implement/sticky HTTP/1.0'),\n",
       " ('39.118.203.43',\n",
       "  '-',\n",
       "  '21/Jun/2019:15:56:57 -0700',\n",
       "  'HEAD /global/compelling/solutions HTTP/2.0'),\n",
       " ('226.64.38.128',\n",
       "  '-',\n",
       "  '21/Jun/2019:15:56:58 -0700',\n",
       "  'HEAD /redefine/cross-platform/schemas HTTP/1.1'),\n",
       " ('59.124.141.224',\n",
       "  '-',\n",
       "  '21/Jun/2019:15:56:59 -0700',\n",
       "  'PATCH /networks HTTP/1.1'),\n",
       " ('156.213.93.143',\n",
       "  'steuber8372',\n",
       "  '21/Jun/2019:15:57:00 -0700',\n",
       "  'HEAD /scale HTTP/1.1'),\n",
       " ('251.112.169.29',\n",
       "  '-',\n",
       "  '21/Jun/2019:15:57:01 -0700',\n",
       "  'PATCH /exploit/harness HTTP/1.1'),\n",
       " ('149.41.86.4',\n",
       "  'lynch9212',\n",
       "  '21/Jun/2019:15:57:02 -0700',\n",
       "  'POST /innovate/streamline/engineer HTTP/1.1'),\n",
       " ('175.93.165.37',\n",
       "  'carter4580',\n",
       "  '21/Jun/2019:15:57:03 -0700',\n",
       "  'HEAD /world-class/roi HTTP/1.1'),\n",
       " ('234.204.188.165',\n",
       "  'sanford7143',\n",
       "  '21/Jun/2019:15:57:04 -0700',\n",
       "  'HEAD /bleeding-edge/exploit HTTP/2.0'),\n",
       " ('145.216.71.219',\n",
       "  '-',\n",
       "  '21/Jun/2019:15:57:05 -0700',\n",
       "  'PUT /seamless/e-commerce/unleash HTTP/1.0'),\n",
       " ('36.72.238.73',\n",
       "  '-',\n",
       "  '21/Jun/2019:15:57:06 -0700',\n",
       "  'POST /scalable HTTP/2.0'),\n",
       " ('82.73.107.79',\n",
       "  'roberts8371',\n",
       "  '21/Jun/2019:15:57:07 -0700',\n",
       "  'GET /compelling/deliver HTTP/2.0'),\n",
       " ('180.126.85.151',\n",
       "  'deckow7418',\n",
       "  '21/Jun/2019:15:57:08 -0700',\n",
       "  'POST /unleash HTTP/1.1'),\n",
       " ('126.71.163.170',\n",
       "  '-',\n",
       "  '21/Jun/2019:15:57:09 -0700',\n",
       "  'PATCH /dot-com/revolutionary/models/engineer HTTP/1.1'),\n",
       " ('136.89.236.111',\n",
       "  'beatty2891',\n",
       "  '21/Jun/2019:15:57:10 -0700',\n",
       "  'GET /front-end HTTP/2.0'),\n",
       " ('233.132.129.215',\n",
       "  'roberts9852',\n",
       "  '21/Jun/2019:15:57:11 -0700',\n",
       "  'HEAD /24%2f365/impactful/cutting-edge HTTP/2.0'),\n",
       " ('247.125.3.15',\n",
       "  'auer8021',\n",
       "  '21/Jun/2019:15:57:12 -0700',\n",
       "  'POST /cutting-edge/schemas HTTP/1.0'),\n",
       " ('57.230.231.161',\n",
       "  '-',\n",
       "  '21/Jun/2019:15:57:13 -0700',\n",
       "  'PUT /magnetic/maximize/plug-and-play/deliver HTTP/1.1'),\n",
       " ('179.143.58.54',\n",
       "  'hoeger4763',\n",
       "  '21/Jun/2019:15:57:14 -0700',\n",
       "  'POST /initiatives/revolutionary HTTP/1.0'),\n",
       " ('89.45.77.201',\n",
       "  '-',\n",
       "  '21/Jun/2019:15:57:15 -0700',\n",
       "  'PUT /next-generation/cross-media HTTP/1.0'),\n",
       " ('96.231.226.192',\n",
       "  '-',\n",
       "  '21/Jun/2019:15:57:16 -0700',\n",
       "  'DELETE /rich HTTP/1.1'),\n",
       " ('7.206.19.172',\n",
       "  '-',\n",
       "  '21/Jun/2019:15:57:17 -0700',\n",
       "  'HEAD /extensible HTTP/1.0'),\n",
       " ('109.116.7.153',\n",
       "  'gaylord6916',\n",
       "  '21/Jun/2019:15:57:18 -0700',\n",
       "  'PATCH /users HTTP/1.0'),\n",
       " ('229.10.24.149',\n",
       "  '-',\n",
       "  '21/Jun/2019:15:57:19 -0700',\n",
       "  'PATCH /maximize/infomediaries HTTP/1.0'),\n",
       " ('130.185.8.168',\n",
       "  '-',\n",
       "  '21/Jun/2019:15:57:20 -0700',\n",
       "  'POST /granular/evolve/cross-platform HTTP/1.1'),\n",
       " ('180.239.96.198',\n",
       "  '-',\n",
       "  '21/Jun/2019:15:57:21 -0700',\n",
       "  'GET /e-commerce HTTP/1.0'),\n",
       " ('234.239.225.164',\n",
       "  'sporer4003',\n",
       "  '21/Jun/2019:15:57:22 -0700',\n",
       "  'POST /recontextualize HTTP/2.0'),\n",
       " ('41.140.68.194',\n",
       "  '-',\n",
       "  '21/Jun/2019:15:57:23 -0700',\n",
       "  'PUT /killer/seamless/streamline HTTP/2.0'),\n",
       " ('45.207.246.151',\n",
       "  'schuppe9150',\n",
       "  '21/Jun/2019:15:57:24 -0700',\n",
       "  'PATCH /viral/incubate/one-to-one HTTP/2.0'),\n",
       " ('189.105.143.151',\n",
       "  'ortiz8221',\n",
       "  '21/Jun/2019:15:57:25 -0700',\n",
       "  'GET /web-readiness/clicks-and-mortar/revolutionize HTTP/1.1'),\n",
       " ('80.239.204.171',\n",
       "  'fisher5449',\n",
       "  '21/Jun/2019:15:57:26 -0700',\n",
       "  'POST /customized/paradigms/harness/markets HTTP/2.0'),\n",
       " ('198.44.245.192',\n",
       "  'towne8430',\n",
       "  '21/Jun/2019:15:57:27 -0700',\n",
       "  'PUT /unleash/portals/generate/collaborative HTTP/2.0'),\n",
       " ('92.13.119.65',\n",
       "  'mayer6781',\n",
       "  '21/Jun/2019:15:57:28 -0700',\n",
       "  'POST /robust/drive/e-business/bandwidth HTTP/1.1'),\n",
       " ('124.13.254.49',\n",
       "  'sanford8578',\n",
       "  '21/Jun/2019:15:57:29 -0700',\n",
       "  'DELETE /synthesize HTTP/1.1'),\n",
       " ('3.198.219.157',\n",
       "  'ruecker5168',\n",
       "  '21/Jun/2019:15:57:30 -0700',\n",
       "  'PUT /granular/virtual/vertical/bricks-and-clicks HTTP/2.0'),\n",
       " ('150.168.105.7',\n",
       "  'hartmann1002',\n",
       "  '21/Jun/2019:15:57:31 -0700',\n",
       "  'PATCH /models HTTP/1.0'),\n",
       " ('180.137.81.102',\n",
       "  '-',\n",
       "  '21/Jun/2019:15:57:32 -0700',\n",
       "  'HEAD /value-added HTTP/1.0'),\n",
       " ('18.100.51.14',\n",
       "  'zieme2525',\n",
       "  '21/Jun/2019:15:57:33 -0700',\n",
       "  'POST /exploit/strategize HTTP/2.0'),\n",
       " ('201.210.171.192',\n",
       "  'stokes4347',\n",
       "  '21/Jun/2019:15:57:34 -0700',\n",
       "  'HEAD /empower/next-generation HTTP/1.0'),\n",
       " ('206.226.110.110',\n",
       "  'marks4471',\n",
       "  '21/Jun/2019:15:57:35 -0700',\n",
       "  'HEAD /methodologies/niches HTTP/1.0'),\n",
       " ('73.223.129.11',\n",
       "  'feil4273',\n",
       "  '21/Jun/2019:15:57:36 -0700',\n",
       "  'GET /transform HTTP/1.1'),\n",
       " ('32.130.221.133',\n",
       "  'luettgen7885',\n",
       "  '21/Jun/2019:15:57:37 -0700',\n",
       "  'PATCH /proactive/aggregate/cutting-edge HTTP/2.0'),\n",
       " ('128.126.48.81',\n",
       "  'bergnaum1861',\n",
       "  '21/Jun/2019:15:57:38 -0700',\n",
       "  'PATCH /syndicate/scalable HTTP/2.0'),\n",
       " ('3.185.222.13',\n",
       "  '-',\n",
       "  '21/Jun/2019:15:57:39 -0700',\n",
       "  'GET /synergize/utilize HTTP/1.0'),\n",
       " ('97.198.65.211', '-', '21/Jun/2019:15:57:40 -0700', 'PATCH /roi HTTP/1.1'),\n",
       " ('216.10.218.158',\n",
       "  'ritchie5623',\n",
       "  '21/Jun/2019:15:57:41 -0700',\n",
       "  'POST /ubiquitous/mesh/reintermediate/extend HTTP/1.0'),\n",
       " ('133.180.255.152',\n",
       "  'erdman7321',\n",
       "  '21/Jun/2019:15:57:42 -0700',\n",
       "  'HEAD /transparent/proactive/strategic HTTP/2.0'),\n",
       " ('74.18.125.198',\n",
       "  '-',\n",
       "  '21/Jun/2019:15:57:43 -0700',\n",
       "  'DELETE /deploy/aggregate/cross-media HTTP/1.0'),\n",
       " ('233.217.110.117',\n",
       "  '-',\n",
       "  '21/Jun/2019:15:57:44 -0700',\n",
       "  'PATCH /24%2f7/networks/leverage/magnetic HTTP/1.1'),\n",
       " ('172.244.20.80',\n",
       "  '-',\n",
       "  '21/Jun/2019:15:57:45 -0700',\n",
       "  'GET /e-business HTTP/2.0'),\n",
       " ('157.100.32.21',\n",
       "  'hettinger9752',\n",
       "  '21/Jun/2019:15:57:46 -0700',\n",
       "  'DELETE /sexy/brand/implement/viral HTTP/1.0'),\n",
       " ('244.171.113.250',\n",
       "  '-',\n",
       "  '21/Jun/2019:15:57:47 -0700',\n",
       "  'GET /seamless/cultivate/infrastructures HTTP/1.0'),\n",
       " ('209.245.213.122',\n",
       "  'satterfield5767',\n",
       "  '21/Jun/2019:15:57:48 -0700',\n",
       "  'POST /monetize/revolutionary/compelling HTTP/1.0'),\n",
       " ('251.63.126.220',\n",
       "  '-',\n",
       "  '21/Jun/2019:15:57:49 -0700',\n",
       "  'GET /e-tailers/leverage HTTP/1.1'),\n",
       " ('253.69.133.7',\n",
       "  'grimes3189',\n",
       "  '21/Jun/2019:15:57:50 -0700',\n",
       "  'PUT /facilitate/relationships/channels/plug-and-play HTTP/2.0'),\n",
       " ('44.115.48.147',\n",
       "  '-',\n",
       "  '21/Jun/2019:15:57:51 -0700',\n",
       "  'DELETE /incubate/value-added/recontextualize/incubate HTTP/1.1'),\n",
       " ('138.247.187.49',\n",
       "  'pfannerstill1340',\n",
       "  '21/Jun/2019:15:57:52 -0700',\n",
       "  'PUT /orchestrate/convergence HTTP/1.0'),\n",
       " ('110.19.75.32',\n",
       "  '-',\n",
       "  '21/Jun/2019:15:57:53 -0700',\n",
       "  'HEAD /empower/convergence/aggregate/interfaces HTTP/1.0'),\n",
       " ('103.66.52.114',\n",
       "  '-',\n",
       "  '21/Jun/2019:15:57:54 -0700',\n",
       "  'PATCH /streamline/infomediaries/viral HTTP/1.0'),\n",
       " ('193.131.168.19', '-', '21/Jun/2019:15:57:55 -0700', 'HEAD /rich HTTP/1.0'),\n",
       " ('101.251.123.5',\n",
       "  'gutkowski6387',\n",
       "  '21/Jun/2019:15:57:56 -0700',\n",
       "  'POST /extend/schemas/channels/deliver HTTP/2.0'),\n",
       " ('113.153.54.78',\n",
       "  '-',\n",
       "  '21/Jun/2019:15:57:57 -0700',\n",
       "  'PUT /mindshare/paradigms/incubate/scalable HTTP/2.0'),\n",
       " ('183.129.120.175',\n",
       "  '-',\n",
       "  '21/Jun/2019:15:57:58 -0700',\n",
       "  'GET /granular/sticky HTTP/1.1'),\n",
       " ('201.42.169.129',\n",
       "  'ferry3047',\n",
       "  '21/Jun/2019:15:57:59 -0700',\n",
       "  'POST /e-tailers/e-business HTTP/2.0'),\n",
       " ('17.167.75.23',\n",
       "  '-',\n",
       "  '21/Jun/2019:15:58:00 -0700',\n",
       "  'PATCH /ubiquitous/benchmark/web-readiness/24%2f365 HTTP/1.0'),\n",
       " ('64.224.243.90',\n",
       "  '-',\n",
       "  '21/Jun/2019:15:58:01 -0700',\n",
       "  'DELETE /utilize/matrix/users HTTP/1.0'),\n",
       " ('71.115.235.14',\n",
       "  'lindgren8686',\n",
       "  '21/Jun/2019:15:58:02 -0700',\n",
       "  'POST /compelling/engineer/utilize/target HTTP/1.1'),\n",
       " ('54.244.162.130',\n",
       "  'kilback2657',\n",
       "  '21/Jun/2019:15:58:03 -0700',\n",
       "  'GET /engineer HTTP/1.0'),\n",
       " ('251.214.3.43',\n",
       "  'ebert8205',\n",
       "  '21/Jun/2019:15:58:04 -0700',\n",
       "  'PUT /front-end HTTP/2.0'),\n",
       " ('43.60.137.5',\n",
       "  '-',\n",
       "  '21/Jun/2019:15:58:05 -0700',\n",
       "  'GET /back-end/orchestrate/productize/monetize HTTP/1.0'),\n",
       " ('140.250.112.142',\n",
       "  '-',\n",
       "  '21/Jun/2019:15:58:06 -0700',\n",
       "  'PATCH /channels HTTP/1.0'),\n",
       " ('217.4.123.90',\n",
       "  '-',\n",
       "  '21/Jun/2019:15:58:07 -0700',\n",
       "  'GET /partnerships/bricks-and-clicks HTTP/2.0'),\n",
       " ('164.242.68.20',\n",
       "  '-',\n",
       "  '21/Jun/2019:15:58:08 -0700',\n",
       "  'DELETE /revolutionary HTTP/1.1'),\n",
       " ('201.84.58.42',\n",
       "  '-',\n",
       "  '21/Jun/2019:15:58:09 -0700',\n",
       "  'HEAD /strategize/paradigms/methodologies/markets HTTP/1.0'),\n",
       " ('69.36.214.13',\n",
       "  'weimann2707',\n",
       "  '21/Jun/2019:15:58:10 -0700',\n",
       "  'HEAD /niches/sticky/web-enabled/vertical HTTP/1.1'),\n",
       " ('25.141.173.190',\n",
       "  '-',\n",
       "  '21/Jun/2019:15:58:11 -0700',\n",
       "  'DELETE /embrace/killer/synergistic/empower HTTP/1.1'),\n",
       " ('123.63.4.204',\n",
       "  'rolfson6644',\n",
       "  '21/Jun/2019:15:58:12 -0700',\n",
       "  'PUT /visionary/communities/aggregate/e-business HTTP/1.1'),\n",
       " ('251.75.123.253',\n",
       "  'shields3654',\n",
       "  '21/Jun/2019:15:58:13 -0700',\n",
       "  'POST /morph/visionary/engage/wireless HTTP/1.0'),\n",
       " ('253.155.125.104',\n",
       "  'brakus4461',\n",
       "  '21/Jun/2019:15:58:14 -0700',\n",
       "  'GET /bandwidth HTTP/1.0'),\n",
       " ('251.95.126.146',\n",
       "  '-',\n",
       "  '21/Jun/2019:15:58:15 -0700',\n",
       "  'DELETE /scale/revolutionary HTTP/2.0'),\n",
       " ('45.36.97.213',\n",
       "  'stehr9039',\n",
       "  '21/Jun/2019:15:58:16 -0700',\n",
       "  'POST /rich/markets/mission-critical/deliverables HTTP/2.0'),\n",
       " ('255.143.24.161',\n",
       "  'gerlach7985',\n",
       "  '21/Jun/2019:15:58:17 -0700',\n",
       "  'HEAD /customized/vertical HTTP/1.1'),\n",
       " ('214.169.147.186',\n",
       "  'howe7427',\n",
       "  '21/Jun/2019:15:58:18 -0700',\n",
       "  'PUT /envisioneer/leading-edge/productize HTTP/2.0'),\n",
       " ('37.248.195.215',\n",
       "  '-',\n",
       "  '21/Jun/2019:15:58:19 -0700',\n",
       "  'DELETE /visualize/strategic HTTP/1.0'),\n",
       " ('24.91.107.215',\n",
       "  '-',\n",
       "  '21/Jun/2019:15:58:20 -0700',\n",
       "  'POST /transform/seamless/synergies HTTP/2.0'),\n",
       " ('117.4.76.172',\n",
       "  'reichert6210',\n",
       "  '21/Jun/2019:15:58:21 -0700',\n",
       "  'PUT /collaborative/holistic/recontextualize HTTP/2.0'),\n",
       " ('187.238.112.72',\n",
       "  '-',\n",
       "  '21/Jun/2019:15:58:22 -0700',\n",
       "  'GET /e-business/web-enabled HTTP/1.0'),\n",
       " ('47.137.168.94',\n",
       "  '-',\n",
       "  '21/Jun/2019:15:58:23 -0700',\n",
       "  'DELETE /supply-chains/end-to-end HTTP/1.1'),\n",
       " ('244.62.118.75',\n",
       "  '-',\n",
       "  '21/Jun/2019:15:58:24 -0700',\n",
       "  'GET /unleash/e-commerce/iterate HTTP/1.0'),\n",
       " ('41.174.211.212',\n",
       "  '-',\n",
       "  '21/Jun/2019:15:58:25 -0700',\n",
       "  'GET /applications HTTP/1.0'),\n",
       " ('71.122.96.131',\n",
       "  '-',\n",
       "  '21/Jun/2019:15:58:26 -0700',\n",
       "  'POST /revolutionary/redefine/holistic/holistic HTTP/2.0'),\n",
       " ('194.203.51.120',\n",
       "  'boyer5523',\n",
       "  '21/Jun/2019:15:58:27 -0700',\n",
       "  'PATCH /frictionless HTTP/1.0'),\n",
       " ('71.121.222.200',\n",
       "  'russel8326',\n",
       "  '21/Jun/2019:15:58:28 -0700',\n",
       "  'PUT /deliver/schemas HTTP/1.0'),\n",
       " ('166.178.196.8',\n",
       "  '-',\n",
       "  '21/Jun/2019:15:58:29 -0700',\n",
       "  'DELETE /back-end/schemas/paradigms HTTP/2.0'),\n",
       " ('171.218.147.47',\n",
       "  'white9937',\n",
       "  '21/Jun/2019:15:58:30 -0700',\n",
       "  'HEAD /cutting-edge/grow HTTP/1.0'),\n",
       " ('165.249.92.241',\n",
       "  '-',\n",
       "  '21/Jun/2019:15:58:31 -0700',\n",
       "  'GET /synergize HTTP/1.0'),\n",
       " ('234.117.105.178',\n",
       "  '-',\n",
       "  '21/Jun/2019:15:58:32 -0700',\n",
       "  'PATCH /iterate HTTP/2.0'),\n",
       " ('56.202.221.63',\n",
       "  '-',\n",
       "  '21/Jun/2019:15:58:33 -0700',\n",
       "  'GET /magnetic/aggregate/embrace HTTP/2.0'),\n",
       " ('46.16.192.9',\n",
       "  '-',\n",
       "  '21/Jun/2019:15:58:34 -0700',\n",
       "  'GET /productize HTTP/2.0'),\n",
       " ('54.189.234.211',\n",
       "  '-',\n",
       "  '21/Jun/2019:15:58:35 -0700',\n",
       "  'GET /synergistic/syndicate/enterprise HTTP/2.0'),\n",
       " ('114.26.219.139',\n",
       "  '-',\n",
       "  '21/Jun/2019:15:58:36 -0700',\n",
       "  'DELETE /cross-platform HTTP/1.1'),\n",
       " ('122.81.125.121',\n",
       "  'bednar2405',\n",
       "  '21/Jun/2019:15:58:37 -0700',\n",
       "  'POST /partnerships/experiences HTTP/1.0'),\n",
       " ('222.176.136.241',\n",
       "  '-',\n",
       "  '21/Jun/2019:15:58:38 -0700',\n",
       "  'POST /holistic HTTP/1.0'),\n",
       " ('117.9.40.171',\n",
       "  '-',\n",
       "  '21/Jun/2019:15:58:39 -0700',\n",
       "  'PUT /web-enabled/transition HTTP/1.1'),\n",
       " ('108.248.72.200',\n",
       "  '-',\n",
       "  '21/Jun/2019:15:58:40 -0700',\n",
       "  'PUT /metrics HTTP/2.0'),\n",
       " ('102.153.28.144',\n",
       "  '-',\n",
       "  '21/Jun/2019:15:58:41 -0700',\n",
       "  'PATCH /applications/end-to-end/sexy/target HTTP/2.0'),\n",
       " ('192.202.173.198',\n",
       "  'yost8436',\n",
       "  '21/Jun/2019:15:58:42 -0700',\n",
       "  'GET /mindshare/aggregate/deliverables/global HTTP/2.0'),\n",
       " ('18.180.167.166',\n",
       "  '-',\n",
       "  '21/Jun/2019:15:58:43 -0700',\n",
       "  'HEAD /supply-chains/content/killer HTTP/1.1'),\n",
       " ('33.174.225.22',\n",
       "  '-',\n",
       "  '21/Jun/2019:15:58:44 -0700',\n",
       "  'PATCH /architectures HTTP/1.0'),\n",
       " ('189.226.103.3',\n",
       "  'kemmer7294',\n",
       "  '21/Jun/2019:15:58:45 -0700',\n",
       "  'PUT /sexy/transition/enterprise HTTP/1.1'),\n",
       " ('135.82.100.60',\n",
       "  'wuckert5235',\n",
       "  '21/Jun/2019:15:58:46 -0700',\n",
       "  'HEAD /leading-edge/solutions/robust HTTP/1.1'),\n",
       " ('243.151.163.69',\n",
       "  'lueilwitz6619',\n",
       "  '21/Jun/2019:15:58:47 -0700',\n",
       "  'POST /experiences/value-added HTTP/1.0'),\n",
       " ('167.55.97.60',\n",
       "  'terry5334',\n",
       "  '21/Jun/2019:15:58:48 -0700',\n",
       "  'PATCH /monetize/proactive HTTP/1.1'),\n",
       " ('100.145.250.142',\n",
       "  '-',\n",
       "  '21/Jun/2019:15:58:49 -0700',\n",
       "  'POST /envisioneer HTTP/1.1'),\n",
       " ('159.65.201.34',\n",
       "  'bergnaum8203',\n",
       "  '21/Jun/2019:15:58:50 -0700',\n",
       "  'PUT /intuitive/revolutionize/experiences HTTP/2.0'),\n",
       " ('153.130.13.108',\n",
       "  '-',\n",
       "  '21/Jun/2019:15:58:51 -0700',\n",
       "  'GET /incubate/wireless HTTP/1.0'),\n",
       " ('184.245.98.205',\n",
       "  'oreilly1191',\n",
       "  '21/Jun/2019:15:58:52 -0700',\n",
       "  'GET /users/real-time HTTP/2.0'),\n",
       " ('244.152.133.87',\n",
       "  '-',\n",
       "  '21/Jun/2019:15:58:53 -0700',\n",
       "  'POST /metrics HTTP/1.1'),\n",
       " ('142.145.20.95',\n",
       "  '-',\n",
       "  '21/Jun/2019:15:58:54 -0700',\n",
       "  'HEAD /extend/cross-media/convergence HTTP/2.0'),\n",
       " ('68.168.186.14',\n",
       "  'weissnat9339',\n",
       "  '21/Jun/2019:15:58:55 -0700',\n",
       "  'DELETE /schemas/user-centric HTTP/2.0'),\n",
       " ('165.78.13.175',\n",
       "  '-',\n",
       "  '21/Jun/2019:15:58:56 -0700',\n",
       "  'POST /iterate/intuitive/best-of-breed HTTP/2.0'),\n",
       " ('235.12.80.233',\n",
       "  '-',\n",
       "  '21/Jun/2019:15:58:57 -0700',\n",
       "  'PATCH /customized/24%2f365/magnetic HTTP/1.0'),\n",
       " ('8.117.240.56',\n",
       "  'pouros2120',\n",
       "  '21/Jun/2019:15:58:58 -0700',\n",
       "  'GET /reintermediate HTTP/1.0'),\n",
       " ('207.81.12.169',\n",
       "  'jerde5243',\n",
       "  '21/Jun/2019:15:58:59 -0700',\n",
       "  'PUT /architectures/extend HTTP/2.0'),\n",
       " ('229.128.199.145',\n",
       "  'kris7724',\n",
       "  '21/Jun/2019:15:59:00 -0700',\n",
       "  'POST /reinvent HTTP/1.1'),\n",
       " ('226.153.34.134',\n",
       "  'boyer6744',\n",
       "  '21/Jun/2019:15:59:01 -0700',\n",
       "  'PUT /robust/incubate HTTP/1.1'),\n",
       " ('84.168.91.70',\n",
       "  'wilderman5041',\n",
       "  '21/Jun/2019:15:59:02 -0700',\n",
       "  'DELETE /expedite/rich HTTP/2.0'),\n",
       " ('2.241.18.210',\n",
       "  'cassin3470',\n",
       "  '21/Jun/2019:15:59:03 -0700',\n",
       "  'DELETE /mission-critical/technologies HTTP/1.0'),\n",
       " ('84.224.140.93',\n",
       "  '-',\n",
       "  '21/Jun/2019:15:59:04 -0700',\n",
       "  'PUT /magnetic/deploy/eyeballs/disintermediate HTTP/1.1'),\n",
       " ('80.109.208.191',\n",
       "  '-',\n",
       "  '21/Jun/2019:15:59:05 -0700',\n",
       "  'GET /leverage HTTP/1.0'),\n",
       " ('84.197.17.2',\n",
       "  '-',\n",
       "  '21/Jun/2019:15:59:06 -0700',\n",
       "  'PATCH /orchestrate/repurpose HTTP/1.0'),\n",
       " ('240.71.224.216',\n",
       "  'weimann5347',\n",
       "  '21/Jun/2019:15:59:07 -0700',\n",
       "  'HEAD /matrix/integrated/e-commerce HTTP/1.1'),\n",
       " ('110.45.207.230',\n",
       "  'boyer3703',\n",
       "  '21/Jun/2019:15:59:08 -0700',\n",
       "  'GET /strategize/sticky/portals/applications HTTP/1.1'),\n",
       " ('236.56.14.183',\n",
       "  '-',\n",
       "  '21/Jun/2019:15:59:09 -0700',\n",
       "  'POST /content/end-to-end/turn-key HTTP/2.0'),\n",
       " ('115.149.3.200',\n",
       "  '-',\n",
       "  '21/Jun/2019:15:59:10 -0700',\n",
       "  'PUT /next-generation/action-items HTTP/1.0'),\n",
       " ('107.217.24.59',\n",
       "  '-',\n",
       "  '21/Jun/2019:15:59:11 -0700',\n",
       "  'GET /expedite HTTP/1.1'),\n",
       " ('38.245.196.159',\n",
       "  '-',\n",
       "  '21/Jun/2019:15:59:12 -0700',\n",
       "  'POST /relationships/web-readiness/optimize/infrastructures HTTP/1.1'),\n",
       " ('217.48.238.45',\n",
       "  '-',\n",
       "  '21/Jun/2019:15:59:13 -0700',\n",
       "  'GET /paradigms HTTP/1.0'),\n",
       " ('187.88.205.168',\n",
       "  '-',\n",
       "  '21/Jun/2019:15:59:14 -0700',\n",
       "  'GET /virtual/real-time/24%2f7 HTTP/1.0'),\n",
       " ('117.106.157.40',\n",
       "  '-',\n",
       "  '21/Jun/2019:15:59:15 -0700',\n",
       "  'DELETE /synergize/generate/out-of-the-box HTTP/2.0'),\n",
       " ('219.164.33.53',\n",
       "  '-',\n",
       "  '21/Jun/2019:15:59:16 -0700',\n",
       "  'PUT /architectures/integrate/embrace HTTP/2.0'),\n",
       " ('67.17.225.243',\n",
       "  'mann4196',\n",
       "  '21/Jun/2019:15:59:17 -0700',\n",
       "  'DELETE /initiatives/synergize/enable HTTP/1.1'),\n",
       " ('187.110.178.207',\n",
       "  '-',\n",
       "  '21/Jun/2019:15:59:18 -0700',\n",
       "  'PATCH /compelling/extensible/grow HTTP/1.1'),\n",
       " ('118.197.126.108',\n",
       "  '-',\n",
       "  '21/Jun/2019:15:59:19 -0700',\n",
       "  'GET /enhance/target/benchmark/eyeballs HTTP/2.0'),\n",
       " ('102.253.250.180',\n",
       "  'marks6484',\n",
       "  '21/Jun/2019:15:59:20 -0700',\n",
       "  'POST /portals/communities HTTP/1.1'),\n",
       " ('188.55.154.154',\n",
       "  'kling2211',\n",
       "  '21/Jun/2019:15:59:21 -0700',\n",
       "  'PUT /transparent/strategic/efficient HTTP/1.0'),\n",
       " ('109.249.168.154',\n",
       "  'barrows4994',\n",
       "  '21/Jun/2019:15:59:22 -0700',\n",
       "  'POST /ubiquitous/supply-chains/utilize/facilitate HTTP/2.0'),\n",
       " ('71.206.76.249',\n",
       "  'schimmel7061',\n",
       "  '21/Jun/2019:15:59:23 -0700',\n",
       "  'POST /24%2f7/mindshare HTTP/1.0'),\n",
       " ('68.121.25.29',\n",
       "  '-',\n",
       "  '21/Jun/2019:15:59:24 -0700',\n",
       "  'POST /deliver/mesh/supply-chains/synthesize HTTP/2.0'),\n",
       " ('118.215.32.132',\n",
       "  '-',\n",
       "  '21/Jun/2019:15:59:25 -0700',\n",
       "  'PUT /strategic HTTP/1.1'),\n",
       " ('106.31.77.118',\n",
       "  '-',\n",
       "  '21/Jun/2019:15:59:26 -0700',\n",
       "  'GET /roi/experiences HTTP/1.0'),\n",
       " ('157.114.250.181',\n",
       "  'witting4267',\n",
       "  '21/Jun/2019:15:59:27 -0700',\n",
       "  'PUT /web-readiness/embrace HTTP/1.1'),\n",
       " ('206.255.34.232',\n",
       "  '-',\n",
       "  '21/Jun/2019:15:59:28 -0700',\n",
       "  'PATCH /plug-and-play/e-tailers/grow HTTP/1.1'),\n",
       " ('175.192.140.87',\n",
       "  'abernathy8063',\n",
       "  '21/Jun/2019:15:59:29 -0700',\n",
       "  'GET /experiences/one-to-one HTTP/1.1'),\n",
       " ('53.179.178.201',\n",
       "  'pagac4236',\n",
       "  '21/Jun/2019:15:59:30 -0700',\n",
       "  'PATCH /one-to-one/b2b HTTP/1.1'),\n",
       " ('202.83.14.204',\n",
       "  '-',\n",
       "  '21/Jun/2019:15:59:31 -0700',\n",
       "  'GET /benchmark/rich HTTP/2.0'),\n",
       " ('204.6.151.116',\n",
       "  'feeney1779',\n",
       "  '21/Jun/2019:15:59:32 -0700',\n",
       "  'PATCH /dot-com HTTP/1.1'),\n",
       " ('128.137.44.120',\n",
       "  'gulgowski4789',\n",
       "  '21/Jun/2019:15:59:33 -0700',\n",
       "  'POST /envisioneer/convergence HTTP/1.1'),\n",
       " ('175.241.237.106',\n",
       "  '-',\n",
       "  '21/Jun/2019:15:59:34 -0700',\n",
       "  'POST /robust/seamless/transform/transform HTTP/1.0'),\n",
       " ('240.183.219.246',\n",
       "  '-',\n",
       "  '21/Jun/2019:15:59:35 -0700',\n",
       "  'GET /collaborative/revolutionize/synthesize/viral HTTP/1.0'),\n",
       " ('101.236.173.161',\n",
       "  '-',\n",
       "  '21/Jun/2019:15:59:36 -0700',\n",
       "  'GET /e-markets/b2c HTTP/1.1'),\n",
       " ('233.42.173.172',\n",
       "  '-',\n",
       "  '21/Jun/2019:15:59:37 -0700',\n",
       "  'GET /expedite HTTP/1.0'),\n",
       " ('160.83.97.225',\n",
       "  'gaylord3825',\n",
       "  '21/Jun/2019:15:59:38 -0700',\n",
       "  'DELETE /infomediaries HTTP/1.1'),\n",
       " ('214.138.208.200',\n",
       "  '-',\n",
       "  '21/Jun/2019:15:59:39 -0700',\n",
       "  'GET /synergistic/collaborative/visionary/vortals HTTP/1.0'),\n",
       " ('57.250.82.249',\n",
       "  'abshire9350',\n",
       "  '21/Jun/2019:15:59:40 -0700',\n",
       "  'HEAD /web-enabled/mindshare/open-source HTTP/1.0'),\n",
       " ('181.255.30.241',\n",
       "  '-',\n",
       "  '21/Jun/2019:15:59:41 -0700',\n",
       "  'GET /engineer/e-services HTTP/2.0'),\n",
       " ('105.214.125.218',\n",
       "  '-',\n",
       "  '21/Jun/2019:15:59:42 -0700',\n",
       "  'DELETE /one-to-one/syndicate/iterate HTTP/2.0'),\n",
       " ('201.74.167.219',\n",
       "  'dickinson7510',\n",
       "  '21/Jun/2019:15:59:43 -0700',\n",
       "  'DELETE /functionalities/b2b HTTP/1.1'),\n",
       " ('247.66.231.101',\n",
       "  'schroeder6056',\n",
       "  '21/Jun/2019:15:59:44 -0700',\n",
       "  'PATCH /viral/global/e-markets/synergistic HTTP/1.0'),\n",
       " ('49.218.35.102',\n",
       "  '-',\n",
       "  '21/Jun/2019:15:59:45 -0700',\n",
       "  'PATCH /reinvent/holistic HTTP/1.0'),\n",
       " ('187.151.112.252',\n",
       "  'cronin9150',\n",
       "  '21/Jun/2019:15:59:46 -0700',\n",
       "  'POST /holistic/plug-and-play HTTP/1.1'),\n",
       " ('56.134.159.6',\n",
       "  '-',\n",
       "  '21/Jun/2019:15:59:47 -0700',\n",
       "  'POST /turn-key/distributed HTTP/1.0'),\n",
       " ('184.49.40.239',\n",
       "  'cronin7061',\n",
       "  '21/Jun/2019:15:59:48 -0700',\n",
       "  'POST /turn-key/maximize/vertical/harness HTTP/1.1'),\n",
       " ('205.214.141.88',\n",
       "  '-',\n",
       "  '21/Jun/2019:15:59:49 -0700',\n",
       "  'PUT /vertical/models/b2c HTTP/1.0'),\n",
       " ('161.40.136.30',\n",
       "  'hackett2278',\n",
       "  '21/Jun/2019:15:59:50 -0700',\n",
       "  'HEAD /bandwidth/syndicate/extend HTTP/2.0'),\n",
       " ('129.163.228.209',\n",
       "  '-',\n",
       "  '21/Jun/2019:15:59:51 -0700',\n",
       "  'DELETE /envisioneer/portals/sexy HTTP/2.0'),\n",
       " ('90.219.89.134',\n",
       "  '-',\n",
       "  '21/Jun/2019:15:59:52 -0700',\n",
       "  'HEAD /sticky/initiatives/brand/bleeding-edge HTTP/1.1'),\n",
       " ('73.245.186.113',\n",
       "  'johnston8800',\n",
       "  '21/Jun/2019:15:59:53 -0700',\n",
       "  'HEAD /technologies/monetize/visualize HTTP/1.1'),\n",
       " ('11.9.180.195',\n",
       "  '-',\n",
       "  '21/Jun/2019:15:59:54 -0700',\n",
       "  'HEAD /methodologies/mindshare/e-business HTTP/1.1'),\n",
       " ('251.66.234.159',\n",
       "  'casper4259',\n",
       "  '21/Jun/2019:15:59:55 -0700',\n",
       "  'PATCH /envisioneer/web+services/e-tailers HTTP/1.1'),\n",
       " ('58.216.217.213',\n",
       "  '-',\n",
       "  '21/Jun/2019:15:59:56 -0700',\n",
       "  'PUT /technologies/mesh/disintermediate/visualize HTTP/1.0'),\n",
       " ('144.154.200.29',\n",
       "  '-',\n",
       "  '21/Jun/2019:15:59:57 -0700',\n",
       "  'HEAD /seamless/seamless/synergies HTTP/1.0'),\n",
       " ('69.168.5.186',\n",
       "  'hudson3060',\n",
       "  '21/Jun/2019:15:59:58 -0700',\n",
       "  'GET /seamless/applications HTTP/1.1'),\n",
       " ('178.51.230.221',\n",
       "  'beer4262',\n",
       "  '21/Jun/2019:15:59:59 -0700',\n",
       "  'PUT /portals HTTP/1.0'),\n",
       " ('17.32.23.78',\n",
       "  '-',\n",
       "  '21/Jun/2019:16:00:00 -0700',\n",
       "  'POST /engineer/visionary/mesh/empower HTTP/2.0'),\n",
       " ('202.254.80.9',\n",
       "  '-',\n",
       "  '21/Jun/2019:16:00:01 -0700',\n",
       "  'PUT /e-services/frictionless/web-readiness HTTP/1.1'),\n",
       " ('167.14.84.150',\n",
       "  'corkery7009',\n",
       "  '21/Jun/2019:16:00:02 -0700',\n",
       "  'PATCH /cross-platform/engage HTTP/2.0'),\n",
       " ('108.73.111.91',\n",
       "  'rolfson4266',\n",
       "  '21/Jun/2019:16:00:03 -0700',\n",
       "  'POST /sexy/relationships/envisioneer HTTP/1.1'),\n",
       " ('255.34.248.138',\n",
       "  'lehner7598',\n",
       "  '21/Jun/2019:16:00:04 -0700',\n",
       "  'PUT /visionary/exploit/strategize HTTP/1.1'),\n",
       " ('175.248.234.53',\n",
       "  'connelly6139',\n",
       "  '21/Jun/2019:16:00:05 -0700',\n",
       "  'GET /end-to-end/initiatives HTTP/1.0'),\n",
       " ('54.182.101.16',\n",
       "  '-',\n",
       "  '21/Jun/2019:16:00:06 -0700',\n",
       "  'DELETE /schemas HTTP/2.0'),\n",
       " ('197.102.163.140',\n",
       "  '-',\n",
       "  '21/Jun/2019:16:00:07 -0700',\n",
       "  'HEAD /incentivize/impactful/world-class HTTP/1.0'),\n",
       " ('114.121.4.5',\n",
       "  'dickinson1321',\n",
       "  '21/Jun/2019:16:00:08 -0700',\n",
       "  'HEAD /ubiquitous/strategic/innovative HTTP/2.0'),\n",
       " ('75.128.148.229',\n",
       "  '-',\n",
       "  '21/Jun/2019:16:00:09 -0700',\n",
       "  'GET /leverage/deliverables/aggregate/supply-chains HTTP/1.0'),\n",
       " ('87.120.190.31',\n",
       "  'mraz2398',\n",
       "  '21/Jun/2019:16:00:10 -0700',\n",
       "  'PUT /incentivize/deliver/frictionless HTTP/1.0'),\n",
       " ('123.55.15.237',\n",
       "  'stracke7667',\n",
       "  '21/Jun/2019:16:00:11 -0700',\n",
       "  'POST /bricks-and-clicks/wireless/iterate HTTP/2.0'),\n",
       " ('76.179.226.223',\n",
       "  'gleichner8645',\n",
       "  '21/Jun/2019:16:00:12 -0700',\n",
       "  'PATCH /incubate/enhance/enhance/plug-and-play HTTP/1.1'),\n",
       " ('18.251.182.128',\n",
       "  'huels1658',\n",
       "  '21/Jun/2019:16:00:13 -0700',\n",
       "  'PATCH /benchmark/seize/end-to-end HTTP/1.0'),\n",
       " ('130.4.238.6',\n",
       "  'thompson4128',\n",
       "  '21/Jun/2019:16:00:14 -0700',\n",
       "  'PUT /whiteboard HTTP/1.1'),\n",
       " ('30.235.201.100',\n",
       "  'labadie1675',\n",
       "  '21/Jun/2019:16:00:15 -0700',\n",
       "  'HEAD /sexy/seamless/channels HTTP/1.0'),\n",
       " ('172.200.189.116',\n",
       "  'moen2257',\n",
       "  '21/Jun/2019:16:00:16 -0700',\n",
       "  'PUT /visionary HTTP/2.0'),\n",
       " ('129.243.225.31',\n",
       "  'gerlach4189',\n",
       "  '21/Jun/2019:16:00:17 -0700',\n",
       "  'HEAD /turn-key/enhance/deploy HTTP/1.1'),\n",
       " ('234.151.43.108',\n",
       "  'gutkowski1749',\n",
       "  '21/Jun/2019:16:00:18 -0700',\n",
       "  'POST /experiences/cultivate/communities HTTP/2.0'),\n",
       " ('128.230.157.15',\n",
       "  'koch1729',\n",
       "  '21/Jun/2019:16:00:19 -0700',\n",
       "  'POST /revolutionize HTTP/1.1'),\n",
       " ('70.128.242.203',\n",
       "  '-',\n",
       "  '21/Jun/2019:16:00:20 -0700',\n",
       "  'POST /dot-com/efficient/e-tailers HTTP/1.1'),\n",
       " ('153.118.103.28',\n",
       "  '-',\n",
       "  '21/Jun/2019:16:00:21 -0700',\n",
       "  'POST /action-items/seize/whiteboard HTTP/1.1'),\n",
       " ('147.89.158.20',\n",
       "  'sawayn3251',\n",
       "  '21/Jun/2019:16:00:22 -0700',\n",
       "  'PUT /clicks-and-mortar/b2c/e-enable HTTP/1.1'),\n",
       " ('144.30.162.29',\n",
       "  '-',\n",
       "  '21/Jun/2019:16:00:23 -0700',\n",
       "  'GET /next-generation/magnetic/paradigms HTTP/2.0'),\n",
       " ('98.221.131.91',\n",
       "  'heaney8725',\n",
       "  '21/Jun/2019:16:00:24 -0700',\n",
       "  'POST /seamless/scale HTTP/1.0'),\n",
       " ('116.135.195.23',\n",
       "  '-',\n",
       "  '21/Jun/2019:16:00:25 -0700',\n",
       "  'HEAD /deliverables HTTP/1.0'),\n",
       " ('178.205.28.42',\n",
       "  'koss1578',\n",
       "  '21/Jun/2019:16:00:26 -0700',\n",
       "  'DELETE /convergence HTTP/2.0'),\n",
       " ('193.150.28.242',\n",
       "  '-',\n",
       "  '21/Jun/2019:16:00:27 -0700',\n",
       "  'DELETE /best-of-breed HTTP/1.0'),\n",
       " ('85.65.192.87',\n",
       "  '-',\n",
       "  '21/Jun/2019:16:00:28 -0700',\n",
       "  'DELETE /platforms HTTP/1.0'),\n",
       " ('80.172.108.88',\n",
       "  '-',\n",
       "  '21/Jun/2019:16:00:29 -0700',\n",
       "  'PATCH /recontextualize/aggregate/front-end HTTP/2.0'),\n",
       " ('116.144.162.173',\n",
       "  '-',\n",
       "  '21/Jun/2019:16:00:30 -0700',\n",
       "  'POST /sticky HTTP/2.0'),\n",
       " ('203.6.73.103',\n",
       "  'kerluke4964',\n",
       "  '21/Jun/2019:16:00:31 -0700',\n",
       "  'DELETE /collaborative/magnetic HTTP/1.1'),\n",
       " ('30.200.244.157',\n",
       "  'zieme4477',\n",
       "  '21/Jun/2019:16:00:32 -0700',\n",
       "  'HEAD /virtual/sticky/leading-edge/reintermediate HTTP/2.0'),\n",
       " ('217.77.132.36',\n",
       "  '-',\n",
       "  '21/Jun/2019:16:00:33 -0700',\n",
       "  'DELETE /real-time/seamless/visualize/sexy HTTP/2.0'),\n",
       " ('168.91.121.134',\n",
       "  '-',\n",
       "  '21/Jun/2019:16:00:34 -0700',\n",
       "  'GET /metrics/bleeding-edge HTTP/1.1'),\n",
       " ('104.242.54.162',\n",
       "  'weber7878',\n",
       "  '21/Jun/2019:16:00:35 -0700',\n",
       "  'HEAD /dynamic/models/productize HTTP/1.0'),\n",
       " ('210.119.75.247',\n",
       "  'lemke8387',\n",
       "  '21/Jun/2019:16:00:36 -0700',\n",
       "  'PATCH /partnerships/deploy/impactful/infomediaries HTTP/1.1'),\n",
       " ('189.164.49.80',\n",
       "  '-',\n",
       "  '21/Jun/2019:16:00:37 -0700',\n",
       "  'DELETE /viral/incentivize/web-readiness HTTP/1.1'),\n",
       " ('151.70.203.139',\n",
       "  'reinger7161',\n",
       "  '21/Jun/2019:16:00:38 -0700',\n",
       "  'DELETE /strategic/repurpose/infrastructures HTTP/2.0'),\n",
       " ('100.200.147.71',\n",
       "  '-',\n",
       "  '21/Jun/2019:16:00:39 -0700',\n",
       "  'DELETE /incubate HTTP/2.0'),\n",
       " ('146.50.234.201',\n",
       "  'glover8440',\n",
       "  '21/Jun/2019:16:00:40 -0700',\n",
       "  'PUT /partnerships/networks/frictionless HTTP/1.0'),\n",
       " ('195.58.191.112',\n",
       "  'boyer8373',\n",
       "  '21/Jun/2019:16:00:41 -0700',\n",
       "  'DELETE /integrate HTTP/2.0'),\n",
       " ('82.181.220.184',\n",
       "  '-',\n",
       "  '21/Jun/2019:16:00:42 -0700',\n",
       "  'DELETE /deliverables/24%2f365/exploit/24%2f365 HTTP/1.0'),\n",
       " ('24.7.110.141',\n",
       "  'hilpert8913',\n",
       "  '21/Jun/2019:16:00:43 -0700',\n",
       "  'GET /syndicate/bleeding-edge/implement/24%2f365 HTTP/1.0'),\n",
       " ('167.254.190.8',\n",
       "  '-',\n",
       "  '21/Jun/2019:16:00:44 -0700',\n",
       "  'GET /extensible/solutions/efficient HTTP/1.0'),\n",
       " ('219.107.204.228',\n",
       "  '-',\n",
       "  '21/Jun/2019:16:00:45 -0700',\n",
       "  'HEAD /networks/aggregate/monetize/iterate HTTP/1.1'),\n",
       " ('189.49.24.146',\n",
       "  'wunsch1258',\n",
       "  '21/Jun/2019:16:00:46 -0700',\n",
       "  'GET /users/extend/expedite/channels HTTP/1.1'),\n",
       " ('145.65.159.31',\n",
       "  '-',\n",
       "  '21/Jun/2019:16:00:47 -0700',\n",
       "  'DELETE /granular/bleeding-edge/innovate/incubate HTTP/2.0'),\n",
       " ('137.216.228.137',\n",
       "  '-',\n",
       "  '21/Jun/2019:16:00:48 -0700',\n",
       "  'DELETE /efficient HTTP/1.0'),\n",
       " ('186.190.140.96',\n",
       "  '-',\n",
       "  '21/Jun/2019:16:00:49 -0700',\n",
       "  'PUT /infomediaries/orchestrate/cultivate/monetize HTTP/1.1'),\n",
       " ('148.191.73.128',\n",
       "  '-',\n",
       "  '21/Jun/2019:16:00:50 -0700',\n",
       "  'PUT /schemas HTTP/2.0'),\n",
       " ('59.66.248.21',\n",
       "  'kutch7667',\n",
       "  '21/Jun/2019:16:00:51 -0700',\n",
       "  'GET /expedite/turn-key/exploit HTTP/1.1'),\n",
       " ('23.120.229.182',\n",
       "  '-',\n",
       "  '21/Jun/2019:16:00:52 -0700',\n",
       "  'HEAD /utilize/synergistic/transition HTTP/1.0'),\n",
       " ('218.91.27.210',\n",
       "  'turcotte8545',\n",
       "  '21/Jun/2019:16:00:53 -0700',\n",
       "  'POST /redefine HTTP/1.0'),\n",
       " ('235.76.221.72',\n",
       "  '-',\n",
       "  '21/Jun/2019:16:00:54 -0700',\n",
       "  'PATCH /b2c/collaborative HTTP/2.0'),\n",
       " ('176.54.168.8',\n",
       "  '-',\n",
       "  '21/Jun/2019:16:00:55 -0700',\n",
       "  'PATCH /orchestrate/redefine/platforms/generate HTTP/1.0'),\n",
       " ('250.183.230.208',\n",
       "  '-',\n",
       "  '21/Jun/2019:16:00:56 -0700',\n",
       "  'DELETE /seamless/iterate HTTP/1.1'),\n",
       " ('100.95.44.151',\n",
       "  '-',\n",
       "  '21/Jun/2019:16:00:57 -0700',\n",
       "  'PATCH /synergize/bricks-and-clicks/maximize/extend HTTP/1.0'),\n",
       " ('246.51.6.27',\n",
       "  '-',\n",
       "  '21/Jun/2019:16:00:58 -0700',\n",
       "  'HEAD /e-business/applications HTTP/1.1'),\n",
       " ('107.152.217.102',\n",
       "  '-',\n",
       "  '21/Jun/2019:16:00:59 -0700',\n",
       "  'PATCH /solutions/cultivate HTTP/1.0'),\n",
       " ('122.194.3.144',\n",
       "  '-',\n",
       "  '21/Jun/2019:16:01:00 -0700',\n",
       "  'DELETE /cutting-edge/grow/target HTTP/1.0'),\n",
       " ('91.39.192.43',\n",
       "  'thompson4010',\n",
       "  '21/Jun/2019:16:01:01 -0700',\n",
       "  'PATCH /e-tailers HTTP/1.0'),\n",
       " ('248.24.178.242',\n",
       "  '-',\n",
       "  '21/Jun/2019:16:01:02 -0700',\n",
       "  'HEAD /recontextualize/transparent/engineer HTTP/1.0'),\n",
       " ('251.28.161.44',\n",
       "  '-',\n",
       "  '21/Jun/2019:16:01:03 -0700',\n",
       "  'HEAD /cross-media/aggregate/optimize/next-generation HTTP/1.0'),\n",
       " ('94.99.199.30',\n",
       "  '-',\n",
       "  '21/Jun/2019:16:01:04 -0700',\n",
       "  'HEAD /extend/target/sexy/iterate HTTP/2.0'),\n",
       " ('197.150.196.204',\n",
       "  'thiel4558',\n",
       "  '21/Jun/2019:16:01:05 -0700',\n",
       "  'PATCH /compelling HTTP/2.0'),\n",
       " ('199.10.120.170',\n",
       "  'murazik3963',\n",
       "  '21/Jun/2019:16:01:06 -0700',\n",
       "  'DELETE /frictionless/magnetic/e-markets/visionary HTTP/1.0'),\n",
       " ('21.65.184.146',\n",
       "  'lockman2593',\n",
       "  '21/Jun/2019:16:01:07 -0700',\n",
       "  'DELETE /sexy HTTP/1.1'),\n",
       " ('36.191.173.200',\n",
       "  'metz3511',\n",
       "  '21/Jun/2019:16:01:08 -0700',\n",
       "  'POST /revolutionary/seamless/disintermediate/generate HTTP/1.0'),\n",
       " ('47.131.136.173',\n",
       "  '-',\n",
       "  '21/Jun/2019:16:01:09 -0700',\n",
       "  'PATCH /global/whiteboard/architect HTTP/1.0'),\n",
       " ('219.163.127.189',\n",
       "  '-',\n",
       "  '21/Jun/2019:16:01:10 -0700',\n",
       "  'POST /sticky/efficient HTTP/1.0'),\n",
       " ('95.253.30.75',\n",
       "  'herzog9094',\n",
       "  '21/Jun/2019:16:01:11 -0700',\n",
       "  'POST /mindshare HTTP/1.1'),\n",
       " ('89.146.38.96',\n",
       "  '-',\n",
       "  '21/Jun/2019:16:01:12 -0700',\n",
       "  'POST /partnerships/drive HTTP/1.0'),\n",
       " ('149.70.38.192',\n",
       "  'gorczany7585',\n",
       "  '21/Jun/2019:16:01:13 -0700',\n",
       "  'POST /real-time/utilize/relationships/leverage HTTP/1.0'),\n",
       " ('109.208.102.251',\n",
       "  'schroeder2270',\n",
       "  '21/Jun/2019:16:01:14 -0700',\n",
       "  'DELETE /leverage HTTP/2.0'),\n",
       " ('236.59.161.14',\n",
       "  '-',\n",
       "  '21/Jun/2019:16:01:15 -0700',\n",
       "  'GET /sexy/b2c/e-business HTTP/1.1'),\n",
       " ('233.40.58.83',\n",
       "  '-',\n",
       "  '21/Jun/2019:16:01:16 -0700',\n",
       "  'GET /impactful HTTP/2.0'),\n",
       " ('204.236.10.235',\n",
       "  'rodriguez5244',\n",
       "  '21/Jun/2019:16:01:17 -0700',\n",
       "  'GET /synergies/expedite/deploy HTTP/1.0'),\n",
       " ('158.49.98.6',\n",
       "  'breitenberg4724',\n",
       "  '21/Jun/2019:16:01:18 -0700',\n",
       "  'DELETE /global/channels/relationships HTTP/1.1'),\n",
       " ('52.90.48.138',\n",
       "  '-',\n",
       "  '21/Jun/2019:16:01:19 -0700',\n",
       "  'DELETE /brand/architect/distributed/unleash HTTP/1.1'),\n",
       " ('131.137.166.85',\n",
       "  '-',\n",
       "  '21/Jun/2019:16:01:20 -0700',\n",
       "  'HEAD /evolve/deploy/extensible/harness HTTP/2.0'),\n",
       " ('156.192.201.86',\n",
       "  'connelly5114',\n",
       "  '21/Jun/2019:16:01:21 -0700',\n",
       "  'PATCH /whiteboard/optimize HTTP/2.0'),\n",
       " ('189.85.107.237',\n",
       "  '-',\n",
       "  '21/Jun/2019:16:01:22 -0700',\n",
       "  'GET /cross-platform/e-markets/b2b/exploit HTTP/1.1'),\n",
       " ('214.115.87.186',\n",
       "  'gorczany2750',\n",
       "  '21/Jun/2019:16:01:23 -0700',\n",
       "  'GET /plug-and-play/productize/deliverables HTTP/1.1'),\n",
       " ('98.220.2.44',\n",
       "  '-',\n",
       "  '21/Jun/2019:16:01:24 -0700',\n",
       "  'HEAD /mission-critical HTTP/1.1'),\n",
       " ('173.31.138.234',\n",
       "  '-',\n",
       "  '21/Jun/2019:16:01:25 -0700',\n",
       "  'DELETE /models HTTP/1.1'),\n",
       " ('69.218.146.39',\n",
       "  'kohler8056',\n",
       "  '21/Jun/2019:16:01:26 -0700',\n",
       "  'HEAD /systems HTTP/1.0'),\n",
       " ('71.86.213.196',\n",
       "  '-',\n",
       "  '21/Jun/2019:16:01:27 -0700',\n",
       "  'DELETE /convergence/best-of-breed/platforms HTTP/1.0'),\n",
       " ('70.68.196.179',\n",
       "  'cartwright5970',\n",
       "  '21/Jun/2019:16:01:28 -0700',\n",
       "  'POST /b2c/cross-media HTTP/1.0'),\n",
       " ('126.63.247.146',\n",
       "  'leuschke4130',\n",
       "  '21/Jun/2019:16:01:29 -0700',\n",
       "  'GET /collaborative HTTP/2.0'),\n",
       " ('132.117.183.187',\n",
       "  '-',\n",
       "  '21/Jun/2019:16:01:30 -0700',\n",
       "  'HEAD /synthesize/bandwidth/harness HTTP/2.0'),\n",
       " ('196.88.105.189',\n",
       "  'lynch1110',\n",
       "  '21/Jun/2019:16:01:31 -0700',\n",
       "  'POST /convergence/web-enabled/turn-key HTTP/1.1'),\n",
       " ('173.100.77.100',\n",
       "  'goodwin1310',\n",
       "  '21/Jun/2019:16:01:32 -0700',\n",
       "  'HEAD /integrate/visualize/implement/infomediaries HTTP/1.0'),\n",
       " ('17.106.152.183',\n",
       "  'thiel8831',\n",
       "  '21/Jun/2019:16:01:33 -0700',\n",
       "  'POST /architect/supply-chains/rich/cultivate HTTP/1.0'),\n",
       " ('93.67.196.131',\n",
       "  '-',\n",
       "  '21/Jun/2019:16:01:34 -0700',\n",
       "  'PUT /generate/infrastructures HTTP/1.1'),\n",
       " ('229.231.201.185',\n",
       "  '-',\n",
       "  '21/Jun/2019:16:01:35 -0700',\n",
       "  'HEAD /supply-chains/brand/strategic HTTP/1.1'),\n",
       " ('193.252.191.251',\n",
       "  'roob3235',\n",
       "  '21/Jun/2019:16:01:36 -0700',\n",
       "  'POST /extensible HTTP/1.1'),\n",
       " ('93.57.150.237',\n",
       "  '-',\n",
       "  '21/Jun/2019:16:01:37 -0700',\n",
       "  'HEAD /real-time HTTP/2.0'),\n",
       " ('22.112.119.27',\n",
       "  '-',\n",
       "  '21/Jun/2019:16:01:38 -0700',\n",
       "  'PUT /roi/collaborative HTTP/1.1'),\n",
       " ('205.98.120.209',\n",
       "  'trantow6874',\n",
       "  '21/Jun/2019:16:01:39 -0700',\n",
       "  'PUT /front-end/world-class/partnerships/schemas HTTP/1.0'),\n",
       " ('148.196.48.243',\n",
       "  'ondricka6863',\n",
       "  '21/Jun/2019:16:01:40 -0700',\n",
       "  'GET /best-of-breed/reinvent HTTP/1.1'),\n",
       " ('130.229.174.187',\n",
       "  'hackett3055',\n",
       "  '21/Jun/2019:16:01:41 -0700',\n",
       "  'GET /sticky/deliver HTTP/2.0'),\n",
       " ('115.27.231.250',\n",
       "  '-',\n",
       "  '21/Jun/2019:16:01:42 -0700',\n",
       "  'PUT /drive/sexy/e-markets/brand HTTP/1.0'),\n",
       " ('188.30.88.134',\n",
       "  '-',\n",
       "  '21/Jun/2019:16:01:43 -0700',\n",
       "  'PUT /end-to-end/architectures/convergence HTTP/1.1'),\n",
       " ('105.162.151.140',\n",
       "  'herzog1680',\n",
       "  '21/Jun/2019:16:01:44 -0700',\n",
       "  'POST /24%2f365/next-generation HTTP/1.1'),\n",
       " ('64.14.181.183',\n",
       "  'gleichner2813',\n",
       "  '21/Jun/2019:16:01:45 -0700',\n",
       "  'GET /innovate/mesh HTTP/2.0'),\n",
       " ('183.150.10.151',\n",
       "  'hammes8029',\n",
       "  '21/Jun/2019:16:01:46 -0700',\n",
       "  'HEAD /clicks-and-mortar HTTP/1.0'),\n",
       " ('137.138.99.222',\n",
       "  'doyle8430',\n",
       "  '21/Jun/2019:16:01:47 -0700',\n",
       "  'DELETE /e-commerce/brand/extend/innovative HTTP/2.0'),\n",
       " ('31.191.115.136',\n",
       "  'parker1133',\n",
       "  '21/Jun/2019:16:01:48 -0700',\n",
       "  'PATCH /visualize/clicks-and-mortar/facilitate HTTP/1.0'),\n",
       " ('32.163.208.9',\n",
       "  '-',\n",
       "  '21/Jun/2019:16:01:49 -0700',\n",
       "  'POST /strategic/dynamic HTTP/1.0'),\n",
       " ('147.114.137.55',\n",
       "  '-',\n",
       "  '21/Jun/2019:16:01:50 -0700',\n",
       "  'POST /brand/frictionless/markets/incentivize HTTP/1.0'),\n",
       " ('24.29.142.39',\n",
       "  'koelpin1900',\n",
       "  '21/Jun/2019:16:01:51 -0700',\n",
       "  'DELETE /monetize/user-centric HTTP/1.1'),\n",
       " ('56.36.101.14',\n",
       "  'davis6497',\n",
       "  '21/Jun/2019:16:01:52 -0700',\n",
       "  'GET /cutting-edge/matrix/productize/web+services HTTP/1.1'),\n",
       " ('98.140.180.244',\n",
       "  'harber4797',\n",
       "  '21/Jun/2019:16:01:53 -0700',\n",
       "  'POST /seize/b2b/synergistic HTTP/2.0'),\n",
       " ('54.92.231.149',\n",
       "  'ziemann5634',\n",
       "  '21/Jun/2019:16:01:54 -0700',\n",
       "  'GET /revolutionize/matrix HTTP/2.0'),\n",
       " ('96.250.132.151',\n",
       "  '-',\n",
       "  '21/Jun/2019:16:01:55 -0700',\n",
       "  'HEAD /users/revolutionize HTTP/1.1'),\n",
       " ('29.193.55.212',\n",
       "  '-',\n",
       "  '21/Jun/2019:16:01:56 -0700',\n",
       "  'DELETE /strategic/e-tailers/scalable HTTP/1.0'),\n",
       " ('255.61.55.129',\n",
       "  '-',\n",
       "  '21/Jun/2019:16:01:57 -0700',\n",
       "  'DELETE /applications/infomediaries/reinvent/cultivate HTTP/1.0'),\n",
       " ('135.186.69.192',\n",
       "  '-',\n",
       "  '21/Jun/2019:16:01:58 -0700',\n",
       "  'PATCH /best-of-breed HTTP/1.1'),\n",
       " ('32.86.3.51',\n",
       "  '-',\n",
       "  '21/Jun/2019:16:01:59 -0700',\n",
       "  'GET /optimize/impactful/sexy/channels HTTP/2.0'),\n",
       " ('176.68.62.252',\n",
       "  'turner3261',\n",
       "  '21/Jun/2019:16:02:00 -0700',\n",
       "  'GET /viral HTTP/1.1'),\n",
       " ('35.86.149.61',\n",
       "  'zemlak6334',\n",
       "  '21/Jun/2019:16:02:01 -0700',\n",
       "  'HEAD /incentivize HTTP/2.0'),\n",
       " ('30.95.91.251',\n",
       "  'larson8319',\n",
       "  '21/Jun/2019:16:02:02 -0700',\n",
       "  'PUT /one-to-one/whiteboard HTTP/1.0')]"
      ]
     },
     "execution_count": 405,
     "metadata": {},
     "output_type": "execute_result"
    }
   ],
   "source": [
    "req"
   ]
  },
  {
   "cell_type": "code",
   "execution_count": null,
   "id": "261da533",
   "metadata": {},
   "outputs": [],
   "source": []
  }
 ],
 "metadata": {
  "kernelspec": {
   "display_name": "Python 3",
   "language": "python",
   "name": "python3"
  },
  "language_info": {
   "codemirror_mode": {
    "name": "ipython",
    "version": 3
   },
   "file_extension": ".py",
   "mimetype": "text/x-python",
   "name": "python",
   "nbconvert_exporter": "python",
   "pygments_lexer": "ipython3",
   "version": "3.8.8"
  }
 },
 "nbformat": 4,
 "nbformat_minor": 5
}
